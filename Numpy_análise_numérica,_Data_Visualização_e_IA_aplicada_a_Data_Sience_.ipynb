{
  "nbformat": 4,
  "nbformat_minor": 0,
  "metadata": {
    "colab": {
      "provenance": [],
      "authorship_tag": "ABX9TyOu9xTM2oKIjeIv0WmJQASI",
      "include_colab_link": true
    },
    "kernelspec": {
      "name": "python3",
      "display_name": "Python 3"
    },
    "language_info": {
      "name": "python"
    }
  },
  "cells": [
    {
      "cell_type": "markdown",
      "metadata": {
        "id": "view-in-github",
        "colab_type": "text"
      },
      "source": [
        "<a href=\"https://colab.research.google.com/github/tluistorres/Cursos/blob/main/Numpy_an%C3%A1lise_num%C3%A9rica%2C_Data_Visualiza%C3%A7%C3%A3o_e_IA_aplicada_a_Data_Sience_.ipynb\" target=\"_parent\"><img src=\"https://colab.research.google.com/assets/colab-badge.svg\" alt=\"Open In Colab\"/></a>"
      ]
    },
    {
      "cell_type": "markdown",
      "source": [
        "# Numpy: análise numérica eficiente com Python"
      ],
      "metadata": {
        "id": "JJNVTaBeI7dq"
      }
    },
    {
      "cell_type": "markdown",
      "source": [
        "## Aula 01 - Conhecendo a biblioteca e nossos dados"
      ],
      "metadata": {
        "id": "Sbaze3ZvJaG_"
      }
    },
    {
      "cell_type": "markdown",
      "source": [
        "Vamos a um resumo do projeto geral deste curso!\n",
        "\n",
        "Trabalharemos com um dataset de preços de maçãs. Ou seja, uma tabela de dados semelhante ao que vemos em softwares como Excel e Google Planilhas. A ideia é que comecemos a analisar esses dados seguindo os mesmo processos utilizados nos softwares citados, como, por exemplo, somar os valores de uma coluna, calcular a média ou realizar operações entre diferentes colunas. Para isso, usaremos a ferramenta NumPy, que é uma biblioteca Python.\n",
        "\n",
        "Esta biblioteca possui uma série de vantagens em operações com arrays, que são objetos semelhantes às listas. Entre as vantagens, podemos citar a rapidez das operações, menos memória sendo ocupada e a série de métodos atrelados a esses objetos.\n",
        "\n",
        "Na sequência, veremos como criar um array!"
      ],
      "metadata": {
        "id": "j6NsgoWbJpai"
      }
    },
    {
      "cell_type": "markdown",
      "source": [
        "### Carregando dados\n",
        "\n",
        "Agora, começaremos a trabalhar com o conjunto de dados dos preços das maçãs. Para isso, abriremos o Google Colab, ferramenta que usaremos no decorrer do curso.\n",
        "\n",
        "Nossos dados estão no repositório do GitHub, disponibilizado na atividade 2. Note que se trata de uma tabela em que cada linha representa uma cidade da Rússia, e cada coluna, uma data. Dessa forma, temos o registro do preço das maçãs no intervalo de Janeiro/2013 a Março/2020."
      ],
      "metadata": {
        "id": "VGzg8A0QJ4oD"
      }
    },
    {
      "cell_type": "markdown",
      "source": [
        "    Visualização dos 5 primeiros registros das 5 primeiras colunas.        \n",
        "            \n",
        "              1.2013\t  2.2013\t 3.2013\t  4.2013\t  5.2013\n",
        "\n",
        "Moscow\t        79.72\t  81.08  \t 79.68\t  79.80\t    80.63\n",
        "\n",
        "Kaliningrad \t  42.67\t  44.37\t   44.73\t  46.75\t    NaN\n",
        "\n",
        "Petersburg    \t62.55\t   62.73\t63.43\t    63.83   \t66.06\n",
        "\n",
        "Krasnodar\t      48.26    51.01\t50.91\t    53.94\t    61.27\n",
        "\n",
        "Ekaterinburg\t  71.25\t   71.35\t70.90\t    71.92    \t72.91\n"
      ],
      "metadata": {
        "id": "7ovbAIyXLPEm"
      }
    },
    {
      "cell_type": "markdown",
      "source": [
        "## Subindo o dataset no Google Colab"
      ],
      "metadata": {
        "id": "eXO5RXK2MkZA"
      }
    },
    {
      "cell_type": "markdown",
      "source": [
        "Com o arquivo ***apple_ts.csv*** já salvos no computador, vamos ao Google Colab. Na lateral esquerda, temos as opções \"Índice\", \"Localizar e substituir\", \"Variáveis\" e \"Arquivos\", clicaremos nesta última, representada pelo símbolo de uma pasta.\n",
        "\n",
        "Dentro de \"Arquivos\", vamos em \"Fazer upload para o armazenamento da sessão\". Em seguida, buscamos e selecionamos o arquivo da nossa base de dados. Após o carregamento, este documento aparecerá na listagem de arquivos do Colab."
      ],
      "metadata": {
        "id": "UgkDOdgmN8JG"
      }
    },
    {
      "cell_type": "markdown",
      "source": [
        "# Carregando o arquivo\n",
        "\n",
        "Após o salvarmos no Colab, precisamos carregá-lo com a linguagem Python, o que faremos utilizando uma função da NumPy que facilita este processo.\n",
        "\n",
        "O primeiro passo, portanto, é importar a biblioteca NumPy, a qual daremos o apelido np. Para isso, usaremos o seguinte comando:"
      ],
      "metadata": {
        "id": "cQO0cGt_ODkY"
      }
    },
    {
      "cell_type": "code",
      "source": [
        "import numpy as np"
      ],
      "metadata": {
        "id": "Wsjs_K7uOLZe"
      },
      "execution_count": 3,
      "outputs": []
    },
    {
      "cell_type": "markdown",
      "source": [
        "Para executá-lo, teclamos \"Shift + Enter\".\n",
        "\n",
        "Na célula seguinte, chamaremos a função *.loadtxt() *passando o nome do arquivo 'apples_ts.csv'. Precisamos passar, também, o delimitador do arquivo que, por ser CSV, tem como padrão ser delimitado por vírgula ***delimiter=','***."
      ],
      "metadata": {
        "id": "8Y-RF_7ROv81"
      }
    },
    {
      "cell_type": "code",
      "source": [
        "np.loadtxt('apples_ts.csv', delimiter=',')"
      ],
      "metadata": {
        "id": "E0K4claSO6Q4"
      },
      "execution_count": 15,
      "outputs": []
    },
    {
      "cell_type": "markdown",
      "source": [
        "Ao executarmos, é retornado um erro, informando que não foi possível converter uma string em um float. Isso acontece porque, quando trabalhamos com arrays em NumPy, precisamos que exista somente um único tipo de dado dentro do array.\n",
        "\n",
        "Nossa intenção é trabalhar somente com valores numéricos. Mas note que, na primeira coluna, temos textos correspondentes aos nomes das cidades. Sendo assim, precisamos solicitar todas as colunas, com exceção desta, de índice zero."
      ],
      "metadata": {
        "id": "oB5tSYoHPcbU"
      }
    },
    {
      "cell_type": "markdown",
      "source": [
        "Lembre-se que a contagem de itens de um array começa sempre do zero, por isso a primeira coluna corresponde à 0.\n",
        "\n",
        "Para isso, acrescentaremos usecols que será igual ao array de valores que queremos."
      ],
      "metadata": {
        "id": "H_ilisP8PtTW"
      }
    },
    {
      "cell_type": "code",
      "source": [
        "np.loadtxt('apples_ts.csv', delimiter=',', usecols=)"
      ],
      "metadata": {
        "id": "Dlw23tvcPxS4"
      },
      "execution_count": 4,
      "outputs": []
    },
    {
      "cell_type": "markdown",
      "source": [
        "Para este array, usaremos a função np.arange() que deve gerar a sequência de valores."
      ],
      "metadata": {
        "id": "jRELr2SKP_Fs"
      }
    },
    {
      "cell_type": "markdown",
      "source": [
        "Adicionaremos esta função em uma nova célula.\n",
        "\n",
        "Nela passamos os índices das colunas, iniciando por 1. Em nosso dataset, temos 7 anos de informação e cada ano possui 12 meses, então 7x12 = 84; adicionamos + 3 (correspondente aos 3 meses de 2020) e obtivemos 87. Sendo assim, nossa lista vai de 1 a 87.\n",
        "\n",
        "Porém, no Python, precisamos digitar o valor final +1 para que este último dado seja englobado, ou seja, 88. Por fim, precisamos passar o valor de incremento, que é 1"
      ],
      "metadata": {
        "id": "ajTbl41zQI7r"
      }
    },
    {
      "cell_type": "code",
      "source": [
        "np.arange(1, 88, 1)"
      ],
      "metadata": {
        "colab": {
          "base_uri": "https://localhost:8080/"
        },
        "id": "AULA6MTsQUZw",
        "outputId": "ca6211d2-e35f-48ed-88e2-85b922ff30ad"
      },
      "execution_count": 5,
      "outputs": [
        {
          "output_type": "execute_result",
          "data": {
            "text/plain": [
              "array([ 1,  2,  3,  4,  5,  6,  7,  8,  9, 10, 11, 12, 13, 14, 15, 16, 17,\n",
              "       18, 19, 20, 21, 22, 23, 24, 25, 26, 27, 28, 29, 30, 31, 32, 33, 34,\n",
              "       35, 36, 37, 38, 39, 40, 41, 42, 43, 44, 45, 46, 47, 48, 49, 50, 51,\n",
              "       52, 53, 54, 55, 56, 57, 58, 59, 60, 61, 62, 63, 64, 65, 66, 67, 68,\n",
              "       69, 70, 71, 72, 73, 74, 75, 76, 77, 78, 79, 80, 81, 82, 83, 84, 85,\n",
              "       86, 87])"
            ]
          },
          "metadata": {},
          "execution_count": 5
        }
      ]
    },
    {
      "cell_type": "markdown",
      "source": [
        "Ao executarmos esta célula, nos é retornado um array com a lista de contagem do número 1 ao 87, o que significa que conseguimos gerar essa sequência de 1 em 1. Sendo assim, podemos passar esta função para usecols, que está no comando da célula anterior:"
      ],
      "metadata": {
        "id": "1LiGyVhSQcBW"
      }
    },
    {
      "cell_type": "code",
      "source": [
        "np.loadtxt('apples_ts.csv', delimiter=',', usecols=np.arange(1, 88, 1))"
      ],
      "metadata": {
        "colab": {
          "base_uri": "https://localhost:8080/"
        },
        "id": "-ynNyW57Qepo",
        "outputId": "dadd2f09-376c-4211-cab6-df1da52eaf2a"
      },
      "execution_count": 6,
      "outputs": [
        {
          "output_type": "execute_result",
          "data": {
            "text/plain": [
              "array([[  1.2013,   2.2013,   3.2013,   4.2013,   5.2013,   6.2013,\n",
              "          7.2013,   8.2013,   9.2013,  10.2013,  11.2013,  12.2013,\n",
              "          1.2014,   2.2014,   3.2014,   4.2014,   5.2014,   6.2014,\n",
              "          7.2014,   8.2014,   9.2014,  10.2014,  11.2014,  12.2014,\n",
              "          1.2015,   2.2015,   3.2015,   4.2015,   5.2015,   6.2015,\n",
              "          7.2015,   8.2015,   9.2015,  10.2015,  11.2015,  12.2015,\n",
              "          1.2016,   2.2016,   3.2016,   4.2016,   5.2016,   6.2016,\n",
              "          7.2016,   8.2016,   9.2016,  10.2016,  11.2016,  12.2016,\n",
              "          1.2017,   2.2017,   3.2017,   4.2017,   5.2017,   6.2017,\n",
              "          7.2017,   8.2017,   9.2017,  10.2017,  11.2017,  12.2017,\n",
              "          1.2018,   2.2018,   3.2018,   4.2018,   5.2018,   6.2018,\n",
              "          7.2018,   8.2018,   9.2018,  10.2018,  11.2018,  12.2018,\n",
              "          1.2019,   2.2019,   3.2019,   4.2019,   5.2019,   6.2019,\n",
              "          7.2019,   8.2019,   9.2019,  10.2019,  11.2019,  12.2019,\n",
              "          1.202 ,   2.202 ,   3.202 ],\n",
              "       [ 79.72  ,  81.08  ,  79.68  ,  79.8   ,  80.63  ,  80.8   ,\n",
              "         80.28  ,  78.99  ,  76.77  ,  76.09  ,  76.36  ,  77.16  ,\n",
              "         77.5   ,  79.03  ,  80.28  ,  80.05  ,  78.11  ,  76.9   ,\n",
              "         77.68  ,  76.05  ,  75.53  ,  73.39  ,  78.36  ,  89.16  ,\n",
              "        105.43  , 104.82  , 101.15  ,  98.63  ,  99.96  ,  97.29  ,\n",
              "         98.64  , 104.26  , 102.63  ,  98.64  ,  97.17  ,  98.09  ,\n",
              "        103.07  , 110.26  , 110.84  , 112.28  , 111.1   , 110.06  ,\n",
              "        113.7   , 112.88  , 102.08  ,  95.54  ,  91.33  ,  89.99  ,\n",
              "         91.44  ,  93.51  ,  93.6   ,  93.78  ,  98.91  , 121.76  ,\n",
              "        129.6   , 127.9   , 114.55  , 101.88  ,  99.09  , 103.35  ,\n",
              "        106.58  , 108.    , 114.95  , 121.17  , 122.48  , 127.58  ,\n",
              "        131.89  , 129.36  , 104.26  ,  93.45  ,  92.93  ,  96.15  ,\n",
              "         99.1   , 103.    , 103.31  , 103.01  , 107.37  , 116.91  ,\n",
              "        125.29  , 123.94  , 113.03  , 102.19  ,  97.83  , 101.07  ,\n",
              "        103.44  , 108.23  , 110.28  ],\n",
              "       [ 42.67  ,  44.37  ,  44.73  ,  46.75  ,      nan,  51.59  ,\n",
              "         57.8   ,  62.14  ,  56.76  ,  50.85  ,  46.43  ,  46.73  ,\n",
              "         45.85  ,  49.25  ,  48.14  ,  49.18  ,  49.49  ,  49.83  ,\n",
              "         49.14  ,  63.21  ,  61.2   ,  60.34  ,  62.2   ,  74.2   ,\n",
              "         75.32  ,  75.92  ,  72.89  ,  74.85  ,  92.19  ,  99.7   ,\n",
              "        102.78  ,  92.67  ,  90.63  ,  83.31  ,  75.5   ,  74.6   ,\n",
              "         76.94  ,  83.04  ,  80.74  ,  80.29  ,  82.82  ,  86.29  ,\n",
              "         87.41  ,  85.1   ,  78.08  ,  76.06  ,  69.23  ,  69.04  ,\n",
              "         64.48  ,  65.73  ,  67.2   ,  70.25  ,  82.59  ,  92.12  ,\n",
              "        100.82  ,  95.23  ,  89.51  ,  82.84  ,  82.3   ,  83.76  ,\n",
              "         84.72  ,  83.91  ,  99.14  , 101.6   , 113.03  , 119.54  ,\n",
              "        118.09  , 107.32  ,  82.6   ,  77.4   ,  71.77  ,  71.25  ,\n",
              "         71.35  ,  73.62  ,  76.2   ,  74.15  ,  75.67  ,  79.2   ,\n",
              "         80.85  ,  85.33  ,  75.02  ,  77.95  ,  78.98  ,  76.55  ,\n",
              "         74.89  ,  70.    ,  81.53  ],\n",
              "       [ 62.55  ,  62.73  ,  63.43  ,  63.83  ,  66.06  ,  69.22  ,\n",
              "         72.07  ,  69.31  ,  65.18  ,  62.13  ,  64.17  ,  65.5   ,\n",
              "         66.85  ,  68.38  ,  68.77  ,  69.32  ,  69.77  ,  70.17  ,\n",
              "         70.76  ,  75.16  ,  74.86  ,  71.47  ,  76.08  ,  82.11  ,\n",
              "         94.63  ,  98.54  ,  97.84  ,  94.54  ,  97.88  ,  97.73  ,\n",
              "        100.89  , 104.88  , 104.39  , 101.9   ,  98.99  ,  99.42  ,\n",
              "        106.37  , 113.89  , 114.78  , 115.6   , 115.89  , 117.66  ,\n",
              "        118.27  , 114.19  , 101.81  ,  91.62  ,  90.15  ,  90.55  ,\n",
              "         92.3   ,  91.75  ,  92.    ,  92.57  , 100.28  , 114.33  ,\n",
              "        122.17  , 117.83  , 112.49  ,  93.7   ,  97.17  ,  95.64  ,\n",
              "        102.21  , 107.58  , 110.48  , 117.73  , 122.07  , 128.58  ,\n",
              "        131.12  , 127.08  , 110.99  ,  97.43  ,  92.05  ,  93.21  ,\n",
              "         98.58  , 100.23  , 102.09  , 101.73  , 107.28  , 115.35  ,\n",
              "        123.03  , 123.08  , 109.71  ,  97.22  ,  95.75  ,  97.09  ,\n",
              "         98.18  , 103.1   , 110.6   ],\n",
              "       [ 48.26  ,  51.01  ,  50.91  ,  53.94  ,  61.27  ,  65.44  ,\n",
              "         56.51  ,  53.    ,  43.87  ,  42.12  ,  43.98  ,  44.66  ,\n",
              "         47.73  ,  52.31  ,  56.8   ,  51.15  ,  54.63  ,  55.8   ,\n",
              "         57.31  ,  53.81  ,  55.5   ,  52.95  ,  53.29  ,  54.86  ,\n",
              "         71.72  ,  74.36  ,  78.25  ,  70.63  ,  77.06  ,  81.52  ,\n",
              "         84.12  ,  83.33  ,  66.98  ,  62.04  ,  59.79  ,  66.06  ,\n",
              "         71.99  ,  76.79  ,  80.98  ,  89.18  ,  92.71  ,  94.85  ,\n",
              "         99.18  ,  86.33  ,  71.94  ,  67.18  ,  62.98  ,  69.45  ,\n",
              "         67.56  ,  67.92  ,  68.4   ,  67.97  ,  76.33  ,  95.79  ,\n",
              "        112.36  ,  82.03  ,  73.83  ,  66.12  ,  63.24  ,  63.98  ,\n",
              "         69.1   ,  70.04  ,  80.03  ,  87.92  ,  97.07  , 106.52  ,\n",
              "        108.93  ,  95.17  ,  74.31  ,  62.63  ,  69.92  ,  70.58  ,\n",
              "         74.63  ,  78.69  ,  81.82  ,  82.36  ,  89.44  , 102.01  ,\n",
              "        116.12  ,  92.06  ,  82.7   ,  66.62  ,  68.11  ,  73.48  ,\n",
              "         82.04  ,  81.19  ,  95.05  ],\n",
              "       [ 71.25  ,  71.35  ,  70.9   ,  71.92  ,  72.91  ,  74.39  ,\n",
              "         73.1   ,  70.24  ,  69.12  ,  68.98  ,  68.58  ,  69.5   ,\n",
              "         70.14  ,  70.58  ,  70.78  ,  72.78  ,  72.84  ,  74.74  ,\n",
              "         76.43  ,  81.2   ,  82.04  ,  79.67  ,  81.25  ,  85.88  ,\n",
              "         91.35  , 101.32  , 102.45  ,  98.18  , 105.1   , 104.85  ,\n",
              "        111.48  , 118.51  , 118.92  , 109.87  , 105.22  , 105.45  ,\n",
              "        115.61  , 116.61  , 120.39  , 119.2   , 119.92  , 120.57  ,\n",
              "        123.37  , 121.39  , 118.16  , 108.84  , 100.78  ,  99.92  ,\n",
              "        100.65  ,  98.92  , 100.31  ,  96.41  , 101.24  , 118.7   ,\n",
              "        133.29  , 130.31  , 122.4   , 104.98  , 107.54  , 110.74  ,\n",
              "        110.51  , 111.46  , 113.42  , 118.15  , 114.    , 124.91  ,\n",
              "        126.06  , 123.3   , 111.61  ,  98.82  ,  97.47  , 103.01  ,\n",
              "        109.36  , 104.79  , 105.09  , 103.16  , 106.52  , 121.68  ,\n",
              "        125.32  , 123.41  , 108.48  ,  98.73  ,  96.25  , 100.12  ,\n",
              "        101.29  , 102.81  , 108.53  ]])"
            ]
          },
          "metadata": {},
          "execution_count": 6
        }
      ]
    },
    {
      "cell_type": "markdown",
      "source": [
        "Executando este comando, temos como retorno os dados de nosso dataset no formato de array.\n",
        "\n",
        "# Outra forma de carregar os dados\n",
        "\n",
        "Sempre que iniciamos o Colab, precisamos subir nosso arquivo, o que pode ser um pouco trabalhoso. Pensando nisso, veremos outra maneira de carregar nossos dados.\n",
        "\n",
        "Para isso, temos que salvar o arquivo no GitHub e, ao abri-lo, clicamos na opção \"Raw\". Uma nova janela será aberta com os dados dispostos dessa maneira:"
      ],
      "metadata": {
        "id": "IiBXf-77QjvW"
      }
    },
    {
      "cell_type": "markdown",
      "source": [
        ",1.2013,2.2013,3.2013,4.2013,5.2013,6.2013,7.2013,8.2013,9.2013,10.2013,11.2013,12.2013,1.2014,2.2"
      ],
      "metadata": {
        "id": "KR2JtckfQuu0"
      }
    },
    {
      "cell_type": "markdown",
      "source": [
        "Copiaremos o link desta janela e o passaremos para uma variável chamada url, em uma célula do Colab. Vale ressaltar que precisamos passá-lo entre aspas."
      ],
      "metadata": {
        "id": "u5kXYc77Q7Eq"
      }
    },
    {
      "cell_type": "markdown",
      "source": [
        "url = 'https://raw.githubusercontent.com/alura-cursos/numpy/dados/apples_ts.csv'"
      ],
      "metadata": {
        "id": "hYGR4h_iQ8un"
      }
    },
    {
      "cell_type": "code",
      "source": [
        "url = 'https://raw.githubusercontent.com/alura-cursos/numpy/dados/apples_ts.csv'"
      ],
      "metadata": {
        "id": "XanrBcBDRRUg"
      },
      "execution_count": 50,
      "outputs": []
    },
    {
      "cell_type": "markdown",
      "source": [
        "Para usar esta maneira, é importante que o comando acima seja feito na célula seguinte à importação da biblioteca NumPy.\n",
        "\n",
        "Após executar esta célula, podemos passar a variável url como primeiro argumento de np.loadtxt( ) ao invés do nome do arquivo. Por fim, podemos passar todo o comando para uma nova variável que chamaremos de dado:"
      ],
      "metadata": {
        "id": "OZO3nZBERBf7"
      }
    },
    {
      "cell_type": "code",
      "source": [
        "dado = np.loadtxt(url, delimiter=',', usecols=np.arange(1, 88, 1))"
      ],
      "metadata": {
        "id": "qVTMZt5ARLDK"
      },
      "execution_count": 51,
      "outputs": []
    },
    {
      "cell_type": "markdown",
      "source": [
        "Dessa forma, temos toda a informação carregada na variável dado!\n",
        "\n",
        "A seguir, começaremos a analisar os dados para verificar se estão adequados para realizarmos nossas operações.\n",
        "\n"
      ],
      "metadata": {
        "id": "jQg_bC5SRXpk"
      }
    },
    {
      "cell_type": "markdown",
      "source": [
        "# Para saber mais: vantagens dos arrays"
      ],
      "metadata": {
        "id": "VhxgubloRf71"
      }
    },
    {
      "cell_type": "markdown",
      "source": [
        "As listas em Python são estruturas de dados básicas que podem conter elementos de diferentes tipos (inteiros, strings, outras listas, etc.). Já a Numpy (Numerical Python) é uma biblioteca do Python que fornece suporte a arrays multidimensionais, estruturas de dados mais avançadas e eficientes para cálculos numéricos.\n",
        "\n",
        "Aqui está um exemplo de como transformar uma lista em um array Numpy:"
      ],
      "metadata": {
        "id": "OeAhAVB4Ron1"
      }
    },
    {
      "cell_type": "code",
      "source": [
        "import numpy as np\n",
        "\n",
        "# cria uma lista\n",
        "\n",
        "lista = [1, 2, 3, 4, 5]\n",
        "\n",
        "# transforma a lista em um array Numpy\n",
        "\n",
        "array = np.array(lista)\n",
        "\n",
        "print(\"Lista: \", lista)\n",
        "\n",
        "print(\"Array: \", array)"
      ],
      "metadata": {
        "colab": {
          "base_uri": "https://localhost:8080/"
        },
        "id": "v9OVLyx0R2qc",
        "outputId": "3370d464-9e85-4b1a-8664-427183c18482"
      },
      "execution_count": 10,
      "outputs": [
        {
          "output_type": "stream",
          "name": "stdout",
          "text": [
            "Lista:  [1, 2, 3, 4, 5]\n",
            "Array:  [1 2 3 4 5]\n"
          ]
        }
      ]
    },
    {
      "cell_type": "markdown",
      "source": [
        "Existem várias vantagens em usar arrays Numpy ao invés de listas regulares do Python e aqui estão algumas:"
      ],
      "metadata": {
        "id": "PKQoQZ83Rhn7"
      }
    },
    {
      "cell_type": "markdown",
      "source": [
        " - Eficiência de processamento\n",
        "\n",
        "As operações matemáticas em arrays Numpy são muito mais rápidas do que em listas regulares, pois a NumPy foi otimizada para trabalhar com conjuntos de dados homogêneos e libera memória do computador rapidamente.\n",
        "\n",
        " - Facilidade de uso\n",
        "\n",
        "As operações matemáticas em arrays Numpy são expressas de forma muito mais clara e concisa do que em listas regulares, tornando o código mais fácil de ler e manter.\n",
        "\n",
        " - Integração com outras bibliotecas\n",
        "\n",
        "A Numpy é uma das bibliotecas mais utilizadas em ciência de dados e aprendizado de máquina. Muitas outras bibliotecas, como a Pandas e a Matplotlib, são projetadas para trabalhar diretamente com arrays Numpy.\n",
        "\n",
        "## Comparativo de performance: listas vs arrays\n",
        "\n",
        "Focando na eficiência, podemos comparar o tempo levado para efetuar um cálculo utilizando listas e arrays."
      ],
      "metadata": {
        "id": "eVKYRkq_SJNs"
      }
    },
    {
      "cell_type": "code",
      "source": [
        "import numpy as np\n",
        "import time\n",
        "\n",
        "# cria uma lista com 1000000 elementos\n",
        "lista = list(range(1000000))\n",
        "\n",
        "# transforma a lista em um array Numpy\n",
        "array = np.array(lista)\n",
        "\n",
        "# começa a cronometrar o tempo para a operação com a lista\n",
        "start_time = time.time()\n",
        "\n",
        "# realiza a operação de elevar ao quadrado cada elemento da lista\n",
        "lista_quadrado = [i**2 for i in lista]\n",
        "\n",
        "# para o cronômetro\n",
        "list_time = time.time() - start_time\n",
        "\n",
        "# começa a cronometrar o tempo para a operação com o array\n",
        "start_time = time.time()\n",
        "\n",
        "# realiza a operação de elevar ao quadrado cada elemento do array\n",
        "array_quadrado = array**2\n",
        "\n",
        "# para o cronômetro\n",
        "array_time = time.time() - start_time\n",
        "\n",
        "print(\"Tempo da operação com a lista: \", list_time)\n",
        "print(\"Tempo da operação com o array: \", array_time)"
      ],
      "metadata": {
        "colab": {
          "base_uri": "https://localhost:8080/"
        },
        "id": "qxTu5LxuSqJG",
        "outputId": "da3e0aa8-66c5-4e69-af73-3c80ee333ebc"
      },
      "execution_count": 16,
      "outputs": [
        {
          "output_type": "stream",
          "name": "stdout",
          "text": [
            "Tempo da operação com a lista:  0.13029718399047852\n",
            "Tempo da operação com o array:  0.004881858825683594\n"
          ]
        }
      ]
    },
    {
      "cell_type": "markdown",
      "source": [
        "Como pode ser visto, a operação realizada com o array Numpy foi muito mais rápida do que com a lista regular, o que demonstra a eficiência no processamento com o array."
      ],
      "metadata": {
        "id": "Ek2LTGFESzbF"
      }
    },
    {
      "cell_type": "code",
      "source": [
        "dado"
      ],
      "metadata": {
        "colab": {
          "base_uri": "https://localhost:8080/"
        },
        "id": "L-2Bbr60S8m0",
        "outputId": "a876405b-cc82-44e8-8a00-18f1614a017f"
      },
      "execution_count": 35,
      "outputs": [
        {
          "output_type": "execute_result",
          "data": {
            "text/plain": [
              "array([[  1.2013,   2.2013,   3.2013,   4.2013,   5.2013,   6.2013,\n",
              "          7.2013,   8.2013,   9.2013,  10.2013,  11.2013,  12.2013,\n",
              "          1.2014,   2.2014,   3.2014,   4.2014,   5.2014,   6.2014,\n",
              "          7.2014,   8.2014,   9.2014,  10.2014,  11.2014,  12.2014,\n",
              "          1.2015,   2.2015,   3.2015,   4.2015,   5.2015,   6.2015,\n",
              "          7.2015,   8.2015,   9.2015,  10.2015,  11.2015,  12.2015,\n",
              "          1.2016,   2.2016,   3.2016,   4.2016,   5.2016,   6.2016,\n",
              "          7.2016,   8.2016,   9.2016,  10.2016,  11.2016,  12.2016,\n",
              "          1.2017,   2.2017,   3.2017,   4.2017,   5.2017,   6.2017,\n",
              "          7.2017,   8.2017,   9.2017,  10.2017,  11.2017,  12.2017,\n",
              "          1.2018,   2.2018,   3.2018,   4.2018,   5.2018,   6.2018,\n",
              "          7.2018,   8.2018,   9.2018,  10.2018,  11.2018,  12.2018,\n",
              "          1.2019,   2.2019,   3.2019,   4.2019,   5.2019,   6.2019,\n",
              "          7.2019,   8.2019,   9.2019,  10.2019,  11.2019,  12.2019,\n",
              "          1.202 ,   2.202 ,   3.202 ],\n",
              "       [ 79.72  ,  81.08  ,  79.68  ,  79.8   ,  80.63  ,  80.8   ,\n",
              "         80.28  ,  78.99  ,  76.77  ,  76.09  ,  76.36  ,  77.16  ,\n",
              "         77.5   ,  79.03  ,  80.28  ,  80.05  ,  78.11  ,  76.9   ,\n",
              "         77.68  ,  76.05  ,  75.53  ,  73.39  ,  78.36  ,  89.16  ,\n",
              "        105.43  , 104.82  , 101.15  ,  98.63  ,  99.96  ,  97.29  ,\n",
              "         98.64  , 104.26  , 102.63  ,  98.64  ,  97.17  ,  98.09  ,\n",
              "        103.07  , 110.26  , 110.84  , 112.28  , 111.1   , 110.06  ,\n",
              "        113.7   , 112.88  , 102.08  ,  95.54  ,  91.33  ,  89.99  ,\n",
              "         91.44  ,  93.51  ,  93.6   ,  93.78  ,  98.91  , 121.76  ,\n",
              "        129.6   , 127.9   , 114.55  , 101.88  ,  99.09  , 103.35  ,\n",
              "        106.58  , 108.    , 114.95  , 121.17  , 122.48  , 127.58  ,\n",
              "        131.89  , 129.36  , 104.26  ,  93.45  ,  92.93  ,  96.15  ,\n",
              "         99.1   , 103.    , 103.31  , 103.01  , 107.37  , 116.91  ,\n",
              "        125.29  , 123.94  , 113.03  , 102.19  ,  97.83  , 101.07  ,\n",
              "        103.44  , 108.23  , 110.28  ],\n",
              "       [ 42.67  ,  44.37  ,  44.73  ,  46.75  ,      nan,  51.59  ,\n",
              "         57.8   ,  62.14  ,  56.76  ,  50.85  ,  46.43  ,  46.73  ,\n",
              "         45.85  ,  49.25  ,  48.14  ,  49.18  ,  49.49  ,  49.83  ,\n",
              "         49.14  ,  63.21  ,  61.2   ,  60.34  ,  62.2   ,  74.2   ,\n",
              "         75.32  ,  75.92  ,  72.89  ,  74.85  ,  92.19  ,  99.7   ,\n",
              "        102.78  ,  92.67  ,  90.63  ,  83.31  ,  75.5   ,  74.6   ,\n",
              "         76.94  ,  83.04  ,  80.74  ,  80.29  ,  82.82  ,  86.29  ,\n",
              "         87.41  ,  85.1   ,  78.08  ,  76.06  ,  69.23  ,  69.04  ,\n",
              "         64.48  ,  65.73  ,  67.2   ,  70.25  ,  82.59  ,  92.12  ,\n",
              "        100.82  ,  95.23  ,  89.51  ,  82.84  ,  82.3   ,  83.76  ,\n",
              "         84.72  ,  83.91  ,  99.14  , 101.6   , 113.03  , 119.54  ,\n",
              "        118.09  , 107.32  ,  82.6   ,  77.4   ,  71.77  ,  71.25  ,\n",
              "         71.35  ,  73.62  ,  76.2   ,  74.15  ,  75.67  ,  79.2   ,\n",
              "         80.85  ,  85.33  ,  75.02  ,  77.95  ,  78.98  ,  76.55  ,\n",
              "         74.89  ,  70.    ,  81.53  ],\n",
              "       [ 62.55  ,  62.73  ,  63.43  ,  63.83  ,  66.06  ,  69.22  ,\n",
              "         72.07  ,  69.31  ,  65.18  ,  62.13  ,  64.17  ,  65.5   ,\n",
              "         66.85  ,  68.38  ,  68.77  ,  69.32  ,  69.77  ,  70.17  ,\n",
              "         70.76  ,  75.16  ,  74.86  ,  71.47  ,  76.08  ,  82.11  ,\n",
              "         94.63  ,  98.54  ,  97.84  ,  94.54  ,  97.88  ,  97.73  ,\n",
              "        100.89  , 104.88  , 104.39  , 101.9   ,  98.99  ,  99.42  ,\n",
              "        106.37  , 113.89  , 114.78  , 115.6   , 115.89  , 117.66  ,\n",
              "        118.27  , 114.19  , 101.81  ,  91.62  ,  90.15  ,  90.55  ,\n",
              "         92.3   ,  91.75  ,  92.    ,  92.57  , 100.28  , 114.33  ,\n",
              "        122.17  , 117.83  , 112.49  ,  93.7   ,  97.17  ,  95.64  ,\n",
              "        102.21  , 107.58  , 110.48  , 117.73  , 122.07  , 128.58  ,\n",
              "        131.12  , 127.08  , 110.99  ,  97.43  ,  92.05  ,  93.21  ,\n",
              "         98.58  , 100.23  , 102.09  , 101.73  , 107.28  , 115.35  ,\n",
              "        123.03  , 123.08  , 109.71  ,  97.22  ,  95.75  ,  97.09  ,\n",
              "         98.18  , 103.1   , 110.6   ],\n",
              "       [ 48.26  ,  51.01  ,  50.91  ,  53.94  ,  61.27  ,  65.44  ,\n",
              "         56.51  ,  53.    ,  43.87  ,  42.12  ,  43.98  ,  44.66  ,\n",
              "         47.73  ,  52.31  ,  56.8   ,  51.15  ,  54.63  ,  55.8   ,\n",
              "         57.31  ,  53.81  ,  55.5   ,  52.95  ,  53.29  ,  54.86  ,\n",
              "         71.72  ,  74.36  ,  78.25  ,  70.63  ,  77.06  ,  81.52  ,\n",
              "         84.12  ,  83.33  ,  66.98  ,  62.04  ,  59.79  ,  66.06  ,\n",
              "         71.99  ,  76.79  ,  80.98  ,  89.18  ,  92.71  ,  94.85  ,\n",
              "         99.18  ,  86.33  ,  71.94  ,  67.18  ,  62.98  ,  69.45  ,\n",
              "         67.56  ,  67.92  ,  68.4   ,  67.97  ,  76.33  ,  95.79  ,\n",
              "        112.36  ,  82.03  ,  73.83  ,  66.12  ,  63.24  ,  63.98  ,\n",
              "         69.1   ,  70.04  ,  80.03  ,  87.92  ,  97.07  , 106.52  ,\n",
              "        108.93  ,  95.17  ,  74.31  ,  62.63  ,  69.92  ,  70.58  ,\n",
              "         74.63  ,  78.69  ,  81.82  ,  82.36  ,  89.44  , 102.01  ,\n",
              "        116.12  ,  92.06  ,  82.7   ,  66.62  ,  68.11  ,  73.48  ,\n",
              "         82.04  ,  81.19  ,  95.05  ],\n",
              "       [ 71.25  ,  71.35  ,  70.9   ,  71.92  ,  72.91  ,  74.39  ,\n",
              "         73.1   ,  70.24  ,  69.12  ,  68.98  ,  68.58  ,  69.5   ,\n",
              "         70.14  ,  70.58  ,  70.78  ,  72.78  ,  72.84  ,  74.74  ,\n",
              "         76.43  ,  81.2   ,  82.04  ,  79.67  ,  81.25  ,  85.88  ,\n",
              "         91.35  , 101.32  , 102.45  ,  98.18  , 105.1   , 104.85  ,\n",
              "        111.48  , 118.51  , 118.92  , 109.87  , 105.22  , 105.45  ,\n",
              "        115.61  , 116.61  , 120.39  , 119.2   , 119.92  , 120.57  ,\n",
              "        123.37  , 121.39  , 118.16  , 108.84  , 100.78  ,  99.92  ,\n",
              "        100.65  ,  98.92  , 100.31  ,  96.41  , 101.24  , 118.7   ,\n",
              "        133.29  , 130.31  , 122.4   , 104.98  , 107.54  , 110.74  ,\n",
              "        110.51  , 111.46  , 113.42  , 118.15  , 114.    , 124.91  ,\n",
              "        126.06  , 123.3   , 111.61  ,  98.82  ,  97.47  , 103.01  ,\n",
              "        109.36  , 104.79  , 105.09  , 103.16  , 106.52  , 121.68  ,\n",
              "        125.32  , 123.41  , 108.48  ,  98.73  ,  96.25  , 100.12  ,\n",
              "        101.29  , 102.81  , 108.53  ]])"
            ]
          },
          "metadata": {},
          "execution_count": 35
        }
      ]
    },
    {
      "cell_type": "markdown",
      "source": [
        "Porém, em ciência de dados, normalmente organizamos nossas informações por colunas, então voltemos ao nosso dataset, no GitHub:\n",
        "\n",
        "Visualização dos 5 primeiros registros das 5 primeiras colunas.\n",
        "\n",
        "    \n",
        "            \n",
        "              1.2013\t  2.2013\t 3.2013\t  4.2013\t  5.2013\n",
        "\n",
        "Moscow\t        79.72\t  81.08  \t 79.68\t  79.80\t    80.63\n",
        "\n",
        "Kaliningrad \t  42.67\t  44.37\t   44.73\t  46.75\t    NaN\n",
        "\n",
        "Petersburg    \t62.55\t   62.73\t63.43\t    63.83   \t66.06\n",
        "\n",
        "Krasnodar\t      48.26    51.01\t50.91\t    53.94\t    61.27\n",
        "\n",
        "Ekaterinburg\t  71.25\t   71.35\t70.90\t    71.92    \t72.91\n"
      ],
      "metadata": {
        "id": "fXidovhYVHHU"
      }
    },
    {
      "cell_type": "markdown",
      "source": [
        "Note que temos as datas na linha identificando cada coluna, mas outra forma de visualizar os dados seria utilizando o nome das cidades como identificador de cada coluna. Para isso, teríamos que mudar a estrutura do dataset trocando as linhas pelas colunas.\n",
        "\n",
        "Mas, antes de alterá-la, vamos nos aprofundar um pouco mais nas dimensões dos dados.\n",
        "\n",
        "Usaremos, inicialmente, a função ndim, que verifica a quantidade de dimensões do array. Ao executarmos o comando a seguir:"
      ],
      "metadata": {
        "id": "DvyDm4-1VO7Y"
      }
    },
    {
      "cell_type": "code",
      "source": [
        "dado.ndim"
      ],
      "metadata": {
        "colab": {
          "base_uri": "https://localhost:8080/"
        },
        "id": "iWkGCM9mVnU4",
        "outputId": "0340ee81-ffd3-47b9-f507-6775b9e55788"
      },
      "execution_count": 36,
      "outputs": [
        {
          "output_type": "execute_result",
          "data": {
            "text/plain": [
              "2"
            ]
          },
          "metadata": {},
          "execution_count": 36
        }
      ]
    },
    {
      "cell_type": "markdown",
      "source": [
        "Obtemos 2 como retorno. Este valor refere-se à quantidade de informações pelas quais nossos dados estão variando. Em nosso caso, temos um dado tabelado 2D, 2 dimensões, linhas e colunas."
      ],
      "metadata": {
        "id": "LWq_m9UXVv5n"
      }
    },
    {
      "cell_type": "markdown",
      "source": [
        "Outra informação que podemos obter é a quantidade de elementos de um array. Para isso, utilizamos o comando:"
      ],
      "metadata": {
        "id": "SX9i6xmfV0gJ"
      }
    },
    {
      "cell_type": "code",
      "source": [
        "dado.size"
      ],
      "metadata": {
        "colab": {
          "base_uri": "https://localhost:8080/"
        },
        "id": "ZJRsTMAdV4Jx",
        "outputId": "94feb673-a719-4c1a-b019-98966441b5d0"
      },
      "execution_count": 37,
      "outputs": [
        {
          "output_type": "execute_result",
          "data": {
            "text/plain": [
              "522"
            ]
          },
          "metadata": {},
          "execution_count": 37
        }
      ]
    },
    {
      "cell_type": "markdown",
      "source": [
        "Além disso, usaremos shape para verificar o número de elementos em cada dimensão:"
      ],
      "metadata": {
        "id": "1HvL61klV8Jn"
      }
    },
    {
      "cell_type": "code",
      "source": [
        "dado.shape"
      ],
      "metadata": {
        "colab": {
          "base_uri": "https://localhost:8080/"
        },
        "id": "s2Os72-tWBJ2",
        "outputId": "63d056bd-ec1d-44bc-e91e-a4c1a56512a5"
      },
      "execution_count": 38,
      "outputs": [
        {
          "output_type": "execute_result",
          "data": {
            "text/plain": [
              "(6, 87)"
            ]
          },
          "metadata": {},
          "execution_count": 38
        }
      ]
    },
    {
      "cell_type": "markdown",
      "source": [
        "Como retorno temos (6, 87), o que significa que temos 6 linhas e 87 colunas em nosso dataset."
      ],
      "metadata": {
        "id": "qxyqCrKrWHri"
      }
    },
    {
      "cell_type": "markdown",
      "source": [
        "Mas, como já dito, podemos inverter a estrutura dos nossos dados trocando as linhas por colunas. Para isso, utilizamos o método da transposição, T:"
      ],
      "metadata": {
        "id": "ijM27v2GWMcJ"
      }
    },
    {
      "cell_type": "code",
      "source": [
        "dado.T"
      ],
      "metadata": {
        "colab": {
          "base_uri": "https://localhost:8080/"
        },
        "id": "MuiGsxuDWJid",
        "outputId": "37e592db-29ac-4a20-baad-d68543d06fc8"
      },
      "execution_count": 39,
      "outputs": [
        {
          "output_type": "execute_result",
          "data": {
            "text/plain": [
              "array([[  1.2013,  79.72  ,  42.67  ,  62.55  ,  48.26  ,  71.25  ],\n",
              "       [  2.2013,  81.08  ,  44.37  ,  62.73  ,  51.01  ,  71.35  ],\n",
              "       [  3.2013,  79.68  ,  44.73  ,  63.43  ,  50.91  ,  70.9   ],\n",
              "       [  4.2013,  79.8   ,  46.75  ,  63.83  ,  53.94  ,  71.92  ],\n",
              "       [  5.2013,  80.63  ,      nan,  66.06  ,  61.27  ,  72.91  ],\n",
              "       [  6.2013,  80.8   ,  51.59  ,  69.22  ,  65.44  ,  74.39  ],\n",
              "       [  7.2013,  80.28  ,  57.8   ,  72.07  ,  56.51  ,  73.1   ],\n",
              "       [  8.2013,  78.99  ,  62.14  ,  69.31  ,  53.    ,  70.24  ],\n",
              "       [  9.2013,  76.77  ,  56.76  ,  65.18  ,  43.87  ,  69.12  ],\n",
              "       [ 10.2013,  76.09  ,  50.85  ,  62.13  ,  42.12  ,  68.98  ],\n",
              "       [ 11.2013,  76.36  ,  46.43  ,  64.17  ,  43.98  ,  68.58  ],\n",
              "       [ 12.2013,  77.16  ,  46.73  ,  65.5   ,  44.66  ,  69.5   ],\n",
              "       [  1.2014,  77.5   ,  45.85  ,  66.85  ,  47.73  ,  70.14  ],\n",
              "       [  2.2014,  79.03  ,  49.25  ,  68.38  ,  52.31  ,  70.58  ],\n",
              "       [  3.2014,  80.28  ,  48.14  ,  68.77  ,  56.8   ,  70.78  ],\n",
              "       [  4.2014,  80.05  ,  49.18  ,  69.32  ,  51.15  ,  72.78  ],\n",
              "       [  5.2014,  78.11  ,  49.49  ,  69.77  ,  54.63  ,  72.84  ],\n",
              "       [  6.2014,  76.9   ,  49.83  ,  70.17  ,  55.8   ,  74.74  ],\n",
              "       [  7.2014,  77.68  ,  49.14  ,  70.76  ,  57.31  ,  76.43  ],\n",
              "       [  8.2014,  76.05  ,  63.21  ,  75.16  ,  53.81  ,  81.2   ],\n",
              "       [  9.2014,  75.53  ,  61.2   ,  74.86  ,  55.5   ,  82.04  ],\n",
              "       [ 10.2014,  73.39  ,  60.34  ,  71.47  ,  52.95  ,  79.67  ],\n",
              "       [ 11.2014,  78.36  ,  62.2   ,  76.08  ,  53.29  ,  81.25  ],\n",
              "       [ 12.2014,  89.16  ,  74.2   ,  82.11  ,  54.86  ,  85.88  ],\n",
              "       [  1.2015, 105.43  ,  75.32  ,  94.63  ,  71.72  ,  91.35  ],\n",
              "       [  2.2015, 104.82  ,  75.92  ,  98.54  ,  74.36  , 101.32  ],\n",
              "       [  3.2015, 101.15  ,  72.89  ,  97.84  ,  78.25  , 102.45  ],\n",
              "       [  4.2015,  98.63  ,  74.85  ,  94.54  ,  70.63  ,  98.18  ],\n",
              "       [  5.2015,  99.96  ,  92.19  ,  97.88  ,  77.06  , 105.1   ],\n",
              "       [  6.2015,  97.29  ,  99.7   ,  97.73  ,  81.52  , 104.85  ],\n",
              "       [  7.2015,  98.64  , 102.78  , 100.89  ,  84.12  , 111.48  ],\n",
              "       [  8.2015, 104.26  ,  92.67  , 104.88  ,  83.33  , 118.51  ],\n",
              "       [  9.2015, 102.63  ,  90.63  , 104.39  ,  66.98  , 118.92  ],\n",
              "       [ 10.2015,  98.64  ,  83.31  , 101.9   ,  62.04  , 109.87  ],\n",
              "       [ 11.2015,  97.17  ,  75.5   ,  98.99  ,  59.79  , 105.22  ],\n",
              "       [ 12.2015,  98.09  ,  74.6   ,  99.42  ,  66.06  , 105.45  ],\n",
              "       [  1.2016, 103.07  ,  76.94  , 106.37  ,  71.99  , 115.61  ],\n",
              "       [  2.2016, 110.26  ,  83.04  , 113.89  ,  76.79  , 116.61  ],\n",
              "       [  3.2016, 110.84  ,  80.74  , 114.78  ,  80.98  , 120.39  ],\n",
              "       [  4.2016, 112.28  ,  80.29  , 115.6   ,  89.18  , 119.2   ],\n",
              "       [  5.2016, 111.1   ,  82.82  , 115.89  ,  92.71  , 119.92  ],\n",
              "       [  6.2016, 110.06  ,  86.29  , 117.66  ,  94.85  , 120.57  ],\n",
              "       [  7.2016, 113.7   ,  87.41  , 118.27  ,  99.18  , 123.37  ],\n",
              "       [  8.2016, 112.88  ,  85.1   , 114.19  ,  86.33  , 121.39  ],\n",
              "       [  9.2016, 102.08  ,  78.08  , 101.81  ,  71.94  , 118.16  ],\n",
              "       [ 10.2016,  95.54  ,  76.06  ,  91.62  ,  67.18  , 108.84  ],\n",
              "       [ 11.2016,  91.33  ,  69.23  ,  90.15  ,  62.98  , 100.78  ],\n",
              "       [ 12.2016,  89.99  ,  69.04  ,  90.55  ,  69.45  ,  99.92  ],\n",
              "       [  1.2017,  91.44  ,  64.48  ,  92.3   ,  67.56  , 100.65  ],\n",
              "       [  2.2017,  93.51  ,  65.73  ,  91.75  ,  67.92  ,  98.92  ],\n",
              "       [  3.2017,  93.6   ,  67.2   ,  92.    ,  68.4   , 100.31  ],\n",
              "       [  4.2017,  93.78  ,  70.25  ,  92.57  ,  67.97  ,  96.41  ],\n",
              "       [  5.2017,  98.91  ,  82.59  , 100.28  ,  76.33  , 101.24  ],\n",
              "       [  6.2017, 121.76  ,  92.12  , 114.33  ,  95.79  , 118.7   ],\n",
              "       [  7.2017, 129.6   , 100.82  , 122.17  , 112.36  , 133.29  ],\n",
              "       [  8.2017, 127.9   ,  95.23  , 117.83  ,  82.03  , 130.31  ],\n",
              "       [  9.2017, 114.55  ,  89.51  , 112.49  ,  73.83  , 122.4   ],\n",
              "       [ 10.2017, 101.88  ,  82.84  ,  93.7   ,  66.12  , 104.98  ],\n",
              "       [ 11.2017,  99.09  ,  82.3   ,  97.17  ,  63.24  , 107.54  ],\n",
              "       [ 12.2017, 103.35  ,  83.76  ,  95.64  ,  63.98  , 110.74  ],\n",
              "       [  1.2018, 106.58  ,  84.72  , 102.21  ,  69.1   , 110.51  ],\n",
              "       [  2.2018, 108.    ,  83.91  , 107.58  ,  70.04  , 111.46  ],\n",
              "       [  3.2018, 114.95  ,  99.14  , 110.48  ,  80.03  , 113.42  ],\n",
              "       [  4.2018, 121.17  , 101.6   , 117.73  ,  87.92  , 118.15  ],\n",
              "       [  5.2018, 122.48  , 113.03  , 122.07  ,  97.07  , 114.    ],\n",
              "       [  6.2018, 127.58  , 119.54  , 128.58  , 106.52  , 124.91  ],\n",
              "       [  7.2018, 131.89  , 118.09  , 131.12  , 108.93  , 126.06  ],\n",
              "       [  8.2018, 129.36  , 107.32  , 127.08  ,  95.17  , 123.3   ],\n",
              "       [  9.2018, 104.26  ,  82.6   , 110.99  ,  74.31  , 111.61  ],\n",
              "       [ 10.2018,  93.45  ,  77.4   ,  97.43  ,  62.63  ,  98.82  ],\n",
              "       [ 11.2018,  92.93  ,  71.77  ,  92.05  ,  69.92  ,  97.47  ],\n",
              "       [ 12.2018,  96.15  ,  71.25  ,  93.21  ,  70.58  , 103.01  ],\n",
              "       [  1.2019,  99.1   ,  71.35  ,  98.58  ,  74.63  , 109.36  ],\n",
              "       [  2.2019, 103.    ,  73.62  , 100.23  ,  78.69  , 104.79  ],\n",
              "       [  3.2019, 103.31  ,  76.2   , 102.09  ,  81.82  , 105.09  ],\n",
              "       [  4.2019, 103.01  ,  74.15  , 101.73  ,  82.36  , 103.16  ],\n",
              "       [  5.2019, 107.37  ,  75.67  , 107.28  ,  89.44  , 106.52  ],\n",
              "       [  6.2019, 116.91  ,  79.2   , 115.35  , 102.01  , 121.68  ],\n",
              "       [  7.2019, 125.29  ,  80.85  , 123.03  , 116.12  , 125.32  ],\n",
              "       [  8.2019, 123.94  ,  85.33  , 123.08  ,  92.06  , 123.41  ],\n",
              "       [  9.2019, 113.03  ,  75.02  , 109.71  ,  82.7   , 108.48  ],\n",
              "       [ 10.2019, 102.19  ,  77.95  ,  97.22  ,  66.62  ,  98.73  ],\n",
              "       [ 11.2019,  97.83  ,  78.98  ,  95.75  ,  68.11  ,  96.25  ],\n",
              "       [ 12.2019, 101.07  ,  76.55  ,  97.09  ,  73.48  , 100.12  ],\n",
              "       [  1.202 , 103.44  ,  74.89  ,  98.18  ,  82.04  , 101.29  ],\n",
              "       [  2.202 , 108.23  ,  70.    , 103.1   ,  81.19  , 102.81  ],\n",
              "       [  3.202 , 110.28  ,  81.53  , 110.6   ,  95.05  , 108.53  ]])"
            ]
          },
          "metadata": {},
          "execution_count": 39
        }
      ]
    },
    {
      "cell_type": "markdown",
      "source": [
        "Feito isso, nos é retornado um array semelhante a este:\n",
        "\n",
        "Exemplo dos 5 primeiros registros."
      ],
      "metadata": {
        "id": "jhDyOb2_WgB8"
      }
    },
    {
      "cell_type": "markdown",
      "source": [
        "Perceba que está diferente do array retornado anteriormente. Isso, porque, agora, cada coluna representa os preços de determinada cidade, com exceção da primeira, que corresponde à data."
      ],
      "metadata": {
        "id": "SXKky7JqWmrS"
      }
    },
    {
      "cell_type": "markdown",
      "source": [
        "# Guardando a informação\n",
        "\n",
        "Fizemos a transposição e queremos salvá-la. Para isso, basta pegar o comando que utilizamos e passá-lo para uma variável, que chamaremos de dado_transposto:"
      ],
      "metadata": {
        "id": "2Ewavms2Wtl8"
      }
    },
    {
      "cell_type": "code",
      "source": [
        "dados_transposto = dado.T"
      ],
      "metadata": {
        "id": "w_Cn6zBHW2-q"
      },
      "execution_count": 40,
      "outputs": []
    },
    {
      "cell_type": "markdown",
      "source": [
        "Agora que reorganizamos nossos dados, temos uma estrutura mais adequada para trabalhar.\n",
        "\n",
        "Na sequência, tentaremos entender os dados e identificar alguns comportamentos como, por exemplo, se os preços aumentam ou diminuem no decorrer do tempo."
      ],
      "metadata": {
        "id": "bju2YSwoW2O6"
      }
    },
    {
      "cell_type": "markdown",
      "source": [
        "# Faça como eu fiz"
      ],
      "metadata": {
        "id": "aId0rvR8XC3H"
      }
    },
    {
      "cell_type": "markdown",
      "source": [
        "Chegou a hora de você testar os conhecimentos desenvolvidos durante a aula. Para isso, vamos utilizar outro dataset em um desafio que será desenvolvido no decorrer do curso. Esse dataset é uma versão modificada do arquivo Oranges vs. Grapefruit presente no site do Kaggle. Portanto, utilizaremos o arquivo raw disponível no GitHub.\n",
        "\n",
        "Nessa etapa, você deve efetuar a leitura dos dados. Para isso, importe a NumPy e use a função loadtxt. Use o link da url e o parâmetro usecols para pular a primeira coluna. É possível usar np.arange para criar a sequência de números que representam as colunas. Por fim, também é necessário incluir o parâmetro skiprows=1 para que a primeira linha de texto seja desconsiderada na leitura do arquivo."
      ],
      "metadata": {
        "id": "blSi0-wFXFdK"
      }
    },
    {
      "cell_type": "markdown",
      "source": [
        "## Para realizar essa etapa você pode fazer os seguintes passos:"
      ],
      "metadata": {
        "id": "V0UhOjBaXRq-"
      }
    },
    {
      "cell_type": "code",
      "source": [
        "import numpy as np\n",
        "url = 'https://raw.githubusercontent.com/allanspadini/numpy/dados/citrus.csv'\n",
        "\n",
        "dado = np.loadtxt(url, delimiter=',',usecols=np.arange(1,6,1),skiprows=1)"
      ],
      "metadata": {
        "id": "5xLu3YF0XVyv"
      },
      "execution_count": 43,
      "outputs": []
    },
    {
      "cell_type": "markdown",
      "source": [
        "Repare que foi utilizada a np.arange( ) dentro da loadtxt para criar uma sequência de colunas."
      ],
      "metadata": {
        "id": "IkD_YGO7Xf04"
      }
    },
    {
      "cell_type": "markdown",
      "source": [
        "# Aula 02 - Exploração dos dados"
      ],
      "metadata": {
        "id": "0tUaG7OeXx8a"
      }
    },
    {
      "cell_type": "markdown",
      "source": [
        "Já reorganizamos nossos dados. Agora, vamos visualizar nossas informações para melhor entender a evolução desses dados no decorrer do tempo.\n",
        "\n",
        "Primeiramente, vamos separar as informações do array que coletamos. Lembre-se a primeira coluna é diferente das demais por representar a data, então criaremos um array chamado datas para armazenar uma coluna específica do array dado_transposto.\n",
        "\n",
        "Sendo assim, chamamos nosso array e entre colchete usamos : entre dois números para informar um intervalo, mas, neste caso, queremos pegar todas as linhas do dataset, por isso o utilizamos sozinho.\n",
        "\n",
        "Em seguida, passamos a coluna em questão. Por ser a primeira, corresponde à posição 0."
      ],
      "metadata": {
        "id": "c4bhl7WJYSy6"
      }
    },
    {
      "cell_type": "code",
      "source": [
        "datas = dados_transposto[:,0]"
      ],
      "metadata": {
        "id": "ZJepmYfqYYXO"
      },
      "execution_count": 57,
      "outputs": []
    },
    {
      "cell_type": "markdown",
      "source": [
        "Ao executar este comando, não temos nenhum retorno. Mas sabemos que obtivemos êxito ao aparecer o símbolo de check à esquerda da célula.\n",
        "\n",
        "Agora, podemos separar as informações referente aos preços. Vamos armazená-las em uma variável chamada precos. Temos 5 localidades, que correspondem às 5 colunas, então nosso intervalo vai de 1 a 6."
      ],
      "metadata": {
        "id": "0hH4D8gpYh6S"
      }
    },
    {
      "cell_type": "markdown",
      "source": [
        "Lembre-se que temos sempre que somar +1 ao número final para que ele seja englobado."
      ],
      "metadata": {
        "id": "iGKaSSzQYjd0"
      }
    },
    {
      "cell_type": "code",
      "source": [
        "datas = dados_transposto[:,0]"
      ],
      "metadata": {
        "id": "yqJJiVxsYogw"
      },
      "execution_count": 59,
      "outputs": []
    },
    {
      "cell_type": "code",
      "source": [
        "precos = dado_transposto[:,1:6]"
      ],
      "metadata": {
        "colab": {
          "base_uri": "https://localhost:8080/",
          "height": 141
        },
        "id": "SQUCyfN9Zp8u",
        "outputId": "0fa23715-c81e-453c-8aff-d5417fb7f93d"
      },
      "execution_count": 62,
      "outputs": [
        {
          "output_type": "error",
          "ename": "NameError",
          "evalue": "name 'dado_transposto' is not defined",
          "traceback": [
            "\u001b[0;31m---------------------------------------------------------------------------\u001b[0m",
            "\u001b[0;31mNameError\u001b[0m                                 Traceback (most recent call last)",
            "\u001b[0;32m<ipython-input-62-f1403cd4fb0d>\u001b[0m in \u001b[0;36m<cell line: 0>\u001b[0;34m()\u001b[0m\n\u001b[0;32m----> 1\u001b[0;31m \u001b[0mprecos\u001b[0m \u001b[0;34m=\u001b[0m \u001b[0mdado_transposto\u001b[0m\u001b[0;34m[\u001b[0m\u001b[0;34m:\u001b[0m\u001b[0;34m,\u001b[0m\u001b[0;36m1\u001b[0m\u001b[0;34m:\u001b[0m\u001b[0;36m6\u001b[0m\u001b[0;34m]\u001b[0m\u001b[0;34m\u001b[0m\u001b[0;34m\u001b[0m\u001b[0m\n\u001b[0m",
            "\u001b[0;31mNameError\u001b[0m: name 'dado_transposto' is not defined"
          ]
        }
      ]
    },
    {
      "cell_type": "markdown",
      "source": [
        "# Criando visuais para os dados"
      ],
      "metadata": {
        "id": "bX0RyDu4aMfw"
      }
    },
    {
      "cell_type": "markdown",
      "source": [
        "Queremos visualizar nossas informações, mas não conseguimos gerar gráficos com a NumPy. Para isso, importaremos a biblioteca Matplotlib e a apelidaremos de plt:"
      ],
      "metadata": {
        "id": "OdaGlXAeaRPB"
      }
    },
    {
      "cell_type": "code",
      "source": [
        "import matplotlib.pyplot as plt"
      ],
      "metadata": {
        "id": "UHPCQlgzaJcY"
      },
      "execution_count": 63,
      "outputs": []
    },
    {
      "cell_type": "markdown",
      "source": [
        "Em seguida, usaremos a função plot( ) passando a informação que queremos nos eixos x e y, respectivamente. No x, colocaremos as datas, no y, os preços da cidade de Moscow. Para selecionar os valores dessa cidade utilizamos o índice 0"
      ],
      "metadata": {
        "id": "TDTVyF-TaXB_"
      }
    },
    {
      "cell_type": "code",
      "source": [
        "plt.plot(datas,precos[:,0])"
      ],
      "metadata": {
        "colab": {
          "base_uri": "https://localhost:8080/",
          "height": 447
        },
        "id": "51SpdHPiaa9q",
        "outputId": "30dd7551-89d1-4277-8320-52e6d9d77ad1"
      },
      "execution_count": 64,
      "outputs": [
        {
          "output_type": "execute_result",
          "data": {
            "text/plain": [
              "[<matplotlib.lines.Line2D at 0x7fc3256723d0>]"
            ]
          },
          "metadata": {},
          "execution_count": 64
        },
        {
          "output_type": "display_data",
          "data": {
            "text/plain": [
              "<Figure size 640x480 with 1 Axes>"
            ],
            "image/png": "[encoded data removed]"
          },
          "metadata": {}
        }
      ]
    },
    {
      "cell_type": "markdown",
      "source": [
        "Como retorno, temos um gráfico de linhas que vai de 2 a 12 no eixo x, e de 80 a 130 no eixo y. Como queríamos as datas no eixo x, os números provavelmente correspondem aos meses do ano. Mas note que o gráfico está confuso, com várias linhas entrelaçadas, dificultando a leitura.\n",
        "\n",
        "Vamos executar datas para ter acesso a essas informações:"
      ],
      "metadata": {
        "id": "IKVb4u1wah0C"
      }
    },
    {
      "cell_type": "code",
      "source": [
        "datas"
      ],
      "metadata": {
        "colab": {
          "base_uri": "https://localhost:8080/"
        },
        "id": "l3gBTPWPakH-",
        "outputId": "8fe8ee2b-f1f8-41a2-baaf-d29b3ffb37b5"
      },
      "execution_count": 65,
      "outputs": [
        {
          "output_type": "execute_result",
          "data": {
            "text/plain": [
              "array([ 1.2013,  2.2013,  3.2013,  4.2013,  5.2013,  6.2013,  7.2013,\n",
              "        8.2013,  9.2013, 10.2013, 11.2013, 12.2013,  1.2014,  2.2014,\n",
              "        3.2014,  4.2014,  5.2014,  6.2014,  7.2014,  8.2014,  9.2014,\n",
              "       10.2014, 11.2014, 12.2014,  1.2015,  2.2015,  3.2015,  4.2015,\n",
              "        5.2015,  6.2015,  7.2015,  8.2015,  9.2015, 10.2015, 11.2015,\n",
              "       12.2015,  1.2016,  2.2016,  3.2016,  4.2016,  5.2016,  6.2016,\n",
              "        7.2016,  8.2016,  9.2016, 10.2016, 11.2016, 12.2016,  1.2017,\n",
              "        2.2017,  3.2017,  4.2017,  5.2017,  6.2017,  7.2017,  8.2017,\n",
              "        9.2017, 10.2017, 11.2017, 12.2017,  1.2018,  2.2018,  3.2018,\n",
              "        4.2018,  5.2018,  6.2018,  7.2018,  8.2018,  9.2018, 10.2018,\n",
              "       11.2018, 12.2018,  1.2019,  2.2019,  3.2019,  4.2019,  5.2019,\n",
              "        6.2019,  7.2019,  8.2019,  9.2019, 10.2019, 11.2019, 12.2019,\n",
              "        1.202 ,  2.202 ,  3.202 ])"
            ]
          },
          "metadata": {},
          "execution_count": 65
        }
      ]
    },
    {
      "cell_type": "markdown",
      "source": [
        "O retorno é um array semelhante a este:\n",
        "\n",
        "array([1.2013, 2.2013, 3.2013, 4.2013, 5.2013, ... 3.202])\n",
        "\n",
        "O que acontece é que essas datas estão sendo interpretadas como números. Ou seja, janeiro de 2013 (1.2013) está sendo lindo como 1,2013.\n",
        "\n",
        "Para solucionar este problema, logo após a importação do Matplotlib, adicionaremos uma célula onde usaremos a função arange() para criar uma sequência com esses números, informando que correspondem aos 87 meses, portanto, de 1 a 88:"
      ],
      "metadata": {
        "id": "8gm5DhtnapLw"
      }
    },
    {
      "cell_type": "code",
      "source": [
        "datas = np.arange(1, 88)"
      ],
      "metadata": {
        "id": "VN1uCxE9atC5"
      },
      "execution_count": 66,
      "outputs": []
    },
    {
      "cell_type": "markdown",
      "source": [
        "Ao executar esta célula, voltemos ao comando de plot( ) e rodamos novamente:"
      ],
      "metadata": {
        "id": "t8-tT52hawNo"
      }
    },
    {
      "cell_type": "code",
      "source": [
        "plt.plot(datas,precos[:,0])"
      ],
      "metadata": {
        "colab": {
          "base_uri": "https://localhost:8080/",
          "height": 447
        },
        "id": "--Z9KRErax9L",
        "outputId": "98bdff87-e00d-4e7c-a656-990076da2a43"
      },
      "execution_count": 67,
      "outputs": [
        {
          "output_type": "execute_result",
          "data": {
            "text/plain": [
              "[<matplotlib.lines.Line2D at 0x7fc2ed7bf290>]"
            ]
          },
          "metadata": {},
          "execution_count": 67
        },
        {
          "output_type": "display_data",
          "data": {
            "text/plain": [
              "<Figure size 640x480 with 1 Axes>"
            ],
            "image/png": "[encoded data removed]"
          },
          "metadata": {}
        }
      ]
    },
    {
      "cell_type": "markdown",
      "source": [
        "O gráfico retornado agora é outro. O eixo y ainda possui números de 80 a 130, mas o eixo x vai de 0 a 80. Além do mais, temos uma só linha que faz curvas. É possível identificar, inclusive, que o preço está crescendo no decorrer do tempo."
      ],
      "metadata": {
        "id": "Ks0N-sH4a4Jw"
      }
    },
    {
      "cell_type": "markdown",
      "source": [
        "# Separando por cidades"
      ],
      "metadata": {
        "id": "j4DtopVva8v9"
      }
    },
    {
      "cell_type": "markdown",
      "source": [
        "Por fim, excluiremos o comando datas e criaremos uma variável para cada uma das colunas de preços. Dessa forma, conseguiremos identificar cada uma das cidades separadamente."
      ],
      "metadata": {
        "id": "rxq6MyG-bE1Y"
      }
    },
    {
      "cell_type": "code",
      "source": [
        "Moscow = precos[:,0]\n",
        "Kaliningrad = precos[:,1]\n",
        "Petersburg = precos[:,2]\n",
        "Krasnodar = precos[:,3]\n",
        "Ekaterinburg = precos[:,4]"
      ],
      "metadata": {
        "id": "dDxBqknqbDZC"
      },
      "execution_count": 68,
      "outputs": []
    },
    {
      "cell_type": "markdown",
      "source": [
        "Após executar este comando, podemos chamar uma das cidades para ter acesso aos seus dados:"
      ],
      "metadata": {
        "id": "D91KrZGfbNm0"
      }
    },
    {
      "cell_type": "code",
      "source": [
        "Moscow"
      ],
      "metadata": {
        "colab": {
          "base_uri": "https://localhost:8080/"
        },
        "id": "buRIRJcDbRUt",
        "outputId": "f3117460-6d88-4d44-c0ac-28ba97be720b"
      },
      "execution_count": 69,
      "outputs": [
        {
          "output_type": "execute_result",
          "data": {
            "text/plain": [
              "array([ 79.72,  81.08,  79.68,  79.8 ,  80.63,  80.8 ,  80.28,  78.99,\n",
              "        76.77,  76.09,  76.36,  77.16,  77.5 ,  79.03,  80.28,  80.05,\n",
              "        78.11,  76.9 ,  77.68,  76.05,  75.53,  73.39,  78.36,  89.16,\n",
              "       105.43, 104.82, 101.15,  98.63,  99.96,  97.29,  98.64, 104.26,\n",
              "       102.63,  98.64,  97.17,  98.09, 103.07, 110.26, 110.84, 112.28,\n",
              "       111.1 , 110.06, 113.7 , 112.88, 102.08,  95.54,  91.33,  89.99,\n",
              "        91.44,  93.51,  93.6 ,  93.78,  98.91, 121.76, 129.6 , 127.9 ,\n",
              "       114.55, 101.88,  99.09, 103.35, 106.58, 108.  , 114.95, 121.17,\n",
              "       122.48, 127.58, 131.89, 129.36, 104.26,  93.45,  92.93,  96.15,\n",
              "        99.1 , 103.  , 103.31, 103.01, 107.37, 116.91, 125.29, 123.94,\n",
              "       113.03, 102.19,  97.83, 101.07, 103.44, 108.23, 110.28])"
            ]
          },
          "metadata": {},
          "execution_count": 69
        }
      ]
    },
    {
      "cell_type": "markdown",
      "source": [
        "Agora, vamos comparar pedaços do array desta cidade para entender como os dados estão se comportando no decorrer um ano específico."
      ],
      "metadata": {
        "id": "0_Q5DaZcbVv4"
      }
    }
  ]
}