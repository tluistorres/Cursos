{
  "nbformat": 4,
  "nbformat_minor": 0,
  "metadata": {
    "colab": {
      "provenance": [],
      "authorship_tag": "ABX9TyP/AADp2+XTme4Jio4rxyOm",
      "include_colab_link": true
    },
    "kernelspec": {
      "name": "python3",
      "display_name": "Python 3"
    },
    "language_info": {
      "name": "python"
    }
  },
  "cells": [
    {
      "cell_type": "markdown",
      "metadata": {
        "id": "view-in-github",
        "colab_type": "text"
      },
      "source": [
        "<a href=\"https://colab.research.google.com/github/tluistorres/Cursos/blob/main/DevOps_seguranca_trafego_web.ipynb\" target=\"_parent\"><img src=\"https://colab.research.google.com/assets/colab-badge.svg\" alt=\"Open In Colab\"/></a>"
      ]
    },
    {
      "cell_type": "markdown",
      "source": [
        "##**Aula 01 - Preparando o ambiente**\n",
        "\n",
        "\n",
        "Ao longo do nosso curso, vamos desenvolver uma série de atividades práticas relacionadas ao projeto de aplicação web All Books. Para que você aproveite bem essa jornada de aprendizado, recomendamos a instalação do projeto em seu computador, observando as etapas abaixo.\n",
        "\n",
        "**1 - Instalando o Node.js**\n",
        "\n",
        "O Node.js é um ambiente de execução Javascript, ou seja, um lugar fora do navegador em que podemos executar a linguagem. Dessa forma, é uma plataforma na qual podemos executar códigos que utilizam essa linguagem do lado do servidor (ou server-side).\n",
        "\n",
        "Vamos utilizá-lo aqui para executar o projeto All Books do lado do servidor.\n",
        "\n",
        "Para fazer a instalação, [Confira o artigo: Como instalar o Node.js no Windows, Linux e macOS](https://).\n",
        "\n",
        "O projeto do All Books está dividido em duas partes: frontend e backend. Você deve fazer o download e executar cada uma dessas partes em seu computador.\n",
        "\n",
        "**2 - Baixando e executando o Backend**\n",
        "\n",
        "Abra um terminal em seu computador e execute os seguintes comandos:"
      ],
      "metadata": {
        "id": "Q0-cAePge1l9"
      }
    },
    {
      "cell_type": "code",
      "source": [
        "# baixando o backend\n",
        "git clone https://github.com/alura-cursos/api-alurabooks.git\n",
        "\n",
        "# acessando a pasta do backend\n",
        "cd api-alurabooks\n",
        "\n",
        "# instalando as dependências listadas no arquivo package.json\n",
        "npm install\n",
        "\n",
        "# executando o backend e o disponibilizando através de um servidor no endereço http://localhost:8000\n",
        "npm run start-auth"
      ],
      "metadata": {
        "id": "uXWge6g6oiw0"
      },
      "execution_count": null,
      "outputs": []
    },
    {
      "cell_type": "markdown",
      "source": [
        "**3 - Baixando e executando o Frontend**\n",
        "\n",
        "Agora você deve abrir outro terminal e executar os comandos listados abaixo:"
      ],
      "metadata": {
        "id": "-SgVSjZCpHRi"
      }
    },
    {
      "cell_type": "code",
      "source": [
        "# baixando o frontend do projeto\n",
        "git clone https://github.com/alura-cursos/curso-react-alurabooks.git\n",
        "\n",
        "# acessando a pasta do frontend\n",
        "cd curso-react-alurabooks\n",
        "\n",
        "# selecionando a versão correta\n",
        "git checkout aula-5\n",
        "\n",
        "# instalando as dependências\n",
        "npm install\n",
        "\n",
        "# compilando o frontend e o disponibilizando através de um servidor no endereço http://localhost:3000\n",
        "npm start"
      ],
      "metadata": {
        "id": "VaAMONjZpKLn"
      },
      "execution_count": null,
      "outputs": []
    },
    {
      "cell_type": "markdown",
      "source": [
        "Depois dessa sequência de passos, você estará com tudo pronto para embarcar na jornada pelo mundo DevOps!\n",
        "\n",
        "Acesse o endereço http://localhost:3000/ em seu navegador para conferir o projeto All Books!"
      ],
      "metadata": {
        "id": "EVXuAl3tp0t-"
      }
    },
    {
      "cell_type": "markdown",
      "source": [
        "##**Modelo cliente-servidor**"
      ],
      "metadata": {
        "id": "mmhJv1QfqMJr"
      }
    },
    {
      "cell_type": "markdown",
      "source": [
        "Em DevOps, nós sempre buscamos conectar desenvolvimento e operações. Afinal, não basta que uma solução funcione bem no computador do time de desenvolvimento. Ela precisa funcionar bem no computador das pessoas usuárias, que vão acessar recursos e funcionalidades que essa solução possui.\n",
        "\n",
        "Em geral, nós disponibilizamos essa solução para as pessoas usuárias em um servidor. Para isso, é muito comum usar um servidor web como o Nginx ou o Apache, que são bastante adotados.\n",
        "\n",
        "Como ocorre a interação entre o servidor e o computador de uma pessoa usuária? Como esses dois conversam para que a pessoa usuária acesse uma página, consuma serviços, funcionalidades e recursos, e que o servidor atenda às solicitações que a pessoa usuária encaminha para ele?\n",
        "\n",
        "É preciso ter uma conversa, uma transferência de dados, uma troca de mensagens. Nós podemos começar a pensar dessa forma. Temos um protocolo que atua para fazer essa conexão. Talvez você tenha ouvido falar nele. É o HTTP, acrônimo para Hypertext Transfer Protocol (Protocolo de Transferência de Hipertexto), o protocolo de comunicação usado no contexto da web.\n",
        "\n",
        "Vamos explorá-lo de forma prática usando o projeto da AllBooks.\n",
        "\n",
        "**Modelo cliente-servidor**\n",
        "\n",
        "Começaremos abrindo o prompt de comando. Por que abrir o prompt? Você precisou instalar o Node.js, porque o que vamos fazer é, na prática, visualizar essa interação, tanto do lado do PC de uma pessoa usuária, como também do lado do servidor que atende as mensagens encaminhadas por essa pessoa usuária. Por isso, vamos usar o Node.js.\n",
        "\n",
        "Primeiro, executaremos o comando cd para entrar no projeto do back-end."
      ],
      "metadata": {
        "id": "k7BUV0s4qCxZ"
      }
    },
    {
      "cell_type": "code",
      "source": [
        "cd api-alurabooks"
      ],
      "metadata": {
        "id": "HxJAVKr2qyIE"
      },
      "execution_count": null,
      "outputs": []
    },
    {
      "cell_type": "markdown",
      "source": [
        "Depois usaremos o comando npm run start-auth."
      ],
      "metadata": {
        "id": "Y2bq4XRxqzTp"
      }
    },
    {
      "cell_type": "code",
      "source": [
        "npm run start-auth"
      ],
      "metadata": {
        "id": "ytCgumPYq7Q3"
      },
      "execution_count": null,
      "outputs": []
    },
    {
      "cell_type": "markdown",
      "source": [
        "Agora vamos abrir outra aba do prompt, porque também teremos nesse projeto um front-end, onde podemos interagir com alguns recursos. Para isso, vamos entrar na pasta com o comando abaixo:"
      ],
      "metadata": {
        "id": "Cnw5rghOq9wE"
      }
    },
    {
      "cell_type": "code",
      "source": [
        "cd curso-react-alurabooks"
      ],
      "metadata": {
        "id": "dGOi70jNrMna"
      },
      "execution_count": null,
      "outputs": []
    },
    {
      "cell_type": "markdown",
      "source": [
        "Feito isso, rodaremos o comando npm start."
      ],
      "metadata": {
        "id": "pBFolPQ1rOrC"
      }
    },
    {
      "cell_type": "code",
      "source": [
        "npm start"
      ],
      "metadata": {
        "id": "uhCQnQMqrgKF"
      },
      "execution_count": null,
      "outputs": []
    },
    {
      "cell_type": "markdown",
      "source": [
        "Se tudo der certo, vai abrir no browser de navegação. Se não abrir, não se preocupe. Basta digitar na barra de navegação do navegador o endereço \"localhost:3000\".\n",
        "\n",
        "Agora vamos interagir mais com o nosso projeto. Podemos clicar com o botão direito do mouse no front-end e ir até a opção \"Inspecionar\". Será aberta uma nova aba com algumas informações, que são basicamente tudo o que acontece de maneira oculta na página web que acessamos.\n",
        "\n",
        "Vamos clicar no menu superior na opção \"Network\" ou \"Rede\". Ao clicar, temos uma tela em branco. O que vai aparecer nessa tela em branco será toda a interação que tivermos com a página. Ou seja, todos os logs das pessoas usuárias serão registrados nessa tela.\n",
        "\n",
        "Vamos interagir com a página para verificar se aparece um log de usuário. Clicaremos, por exemplo, na opção \"Cadastrar-se\". Iremos cadastrar o nome \"Lucas\", o e-mail \"lcs@alura.com\", e a senha \"123\". Ao clicar no botão de cadastrar, surge um prompt com a mensagem \"Usuário foi cadastrado com sucesso!\".\n",
        "\n",
        "Agora, na aba \"Inspecionar\", se clicarmos no log registrar, teremos alguns dados. Primeiro, temos o \"Status Code\" 200 OK, que indica algo bom.\n",
        "\n",
        "Também podemos analisar a aba \"Payload\". Observe que temos algumas informações enviadas para o servidor para nos registrar. Podemos ir também na aba \"Headers\", que significa cabeçalhos. Encontramos algumas informações da mensagem. Observe que há um \"Request Method\".\n",
        "\n",
        "Agora vamos analisar do lado do servidor. Do lado do servidor, temos uma linha com POST /public/registrar 200, seguido de uma informação do tempo levado para responder essa requisição.\n",
        "\n",
        "Para nós, o importante a se destacar é o POST. Observe que isso veio do front-end. Nesse caso, estamos na aba do back-end do servidor. Observe que o 200 que temos no front-end de status code, que apareceu para nós no log, veio do servidor do back-end.\n",
        "\n",
        "**Conclusão**\n",
        "\n",
        "Nessa interação, vemos que o HTTP se baseia na interação entre um cliente e um servidor. Esse é um modelo básico de funcionamento do HTTP.\n",
        "\n",
        "Aliás, é um modelo básico de funcionamento de uma aplicação web, de um website. Porém, vamos entender melhor como ocorre essa interação na prática explorando o nosso projeto!"
      ],
      "metadata": {
        "id": "Psz0XObyriK-"
      }
    },
    {
      "cell_type": "markdown",
      "source": [
        "##**Para saber mais: modelo Peer-to-Peer (P2P)**"
      ],
      "metadata": {
        "id": "7ABW8_htu0tA"
      }
    },
    {
      "cell_type": "markdown",
      "source": [
        "O modelo cliente-servidor, também conhecido como arquitetura cliente-servidor, é baseado na distribuição da rede entre os fornecedores de serviços e recursos (servidores) e os requerentes de recursos e serviços (clientes).\n",
        "\n",
        "Dessa forma, o cliente não compartilha recursos com o servidor, sendo responsável por iniciar a solicitação de um serviço ou recurso. Por sua vez, o servidor permanece com seus processos em execução, em modo de escuta, aguardando a chegada de alguma requisição.\n",
        "\n",
        "Observe que nesse modelo há uma centralização de recursos e tarefas no servidor que, em caso de falha ou sobrecarga, pode deixar de atender algumas requisições encaminhadas por clientes. Isso pode acontecer de modo similar quando tentamos comprar ingresso para um festival assim que suas vendas são liberadas no site oficial do evento.\n",
        "\n",
        "Para lidar com esses picos de requisições no modelo cliente-servidor, podemos adotar estratégias como **escalabilidade, balanceamento de carga e redundância** para melhorar sua capacidade de atendimento.\n",
        "\n",
        "Uma alternativa ao modelo consiste na adoção de uma abordagem descentralizada conhecida como **modelo peer-to-peer** (em tradução livre, par a par ou ponto a ponto - P2P) em que cada dispositivo computacional possui equivalência em funcionalidade.\n",
        "\n",
        "O modelo P2P se baseia no compartilhamento de recursos sem atuação de intermediários, como um servidor central, em que cada computador pode assumir tanto o papel de cliente como de servidor. Essa abordagem apresenta benefícios como maior escalabilidade, redundância e resistência a falhas.\n",
        "\n",
        "O compartilhamento de arquivos de forma direta entre usuários usando o protocolo de transferência BitTorrent é um exemplo prático de uma aplicação do modelo P2P. Além disso, criptomoedas como o Bitcoin utilizam também esse modelo para validar transações e manter um registro descentralizado (blockchain). Dessa forma, usuários podem realizar transações financeiras diretamente entre si, sem a intermediação de uma instituição bancária."
      ],
      "metadata": {
        "id": "TnMUxajqu3SU"
      }
    },
    {
      "cell_type": "markdown",
      "source": [
        "##**Redes de computadores**"
      ],
      "metadata": {
        "id": "8z7D3PlsvnVU"
      }
    },
    {
      "cell_type": "markdown",
      "source": [
        "Estamos com a página do projeto AllBooks aberta. Discutimos anteriormente como enviar uma requisição para nosso servidor back-end, mas como ocorre essa interação entre o servidor e o dispositivo do cliente? Será que somente o HTTP está envolvido nesse processo? Ele se encarrega de levar uma mensagem de ponta a ponta? Vamos descobrir que a realidade é um pouco mais complexa.\n",
        "\n",
        "##**Redes de computadores**\n",
        "\n",
        "Se analisarmos nosso cotidiano, quando nos conectamos a uma rede, seja em casa, no escritório ou na escola, temos uma série de dispositivos que atuam no meio de campo.\n",
        "\n",
        "Esses dispositivos recebem as mensagens e os dados que desejamos enviar para outro dispositivo, neste caso, um servidor, e também recebem as informações de volta desse servidor. Mas como funciona essa complexa rede de dispositivos todos conectados?\n",
        "\n",
        "Inicialmente, esses dispositivos devem permitir que computadores, servidores e celulares se conectem, usando a mesma tecnologia de comunicação.\n",
        "\n",
        "Isso significa que todos devem poder se comunicar nesse processo. Para isso, precisamos de algum tipo de tecnologia padrão que todos os dispositivos observem, tanto os dispositivos de rede que atuam no meio de campo (como o roteador, o modem, o switch), quanto nossos próprios dispositivos (como celular e notebook), independentemente de marca ou modelo.\n",
        "\n",
        "##**Modelo TCP/IP**\n",
        "\n",
        "É por isso que, ao trabalharmos com rede, seguimos um modelo conhecido como TCP/IP. Para facilitar tanto a construção quanto a operação e manutenção dessa rede de comunicação, dividimos esse processo em cinco camadas. Cada camada tem uma função bem definida nessa comunicação.\n",
        "\n",
        "A primeira delas é onde o protocolo HTTP opera, sendo o protagonista: a camada de aplicação. É nela que ocorre a interação entre as aplicações que temos em nosso notebook, por exemplo, com a rede.\n",
        "\n",
        "Na sequência, o HTTP entrega essa mensagem que enviamos, essa requisição para o servidor, para a camada de transporte. Nessa camada, temos um protocolo também bastante conhecido, o TCP, que garante uma entrega confiável dessa mensagem no dispositivo de destino.\n",
        "\n",
        "O TCP recebe essa mensagem, prepara e encaminha para a camada de rede. Na camada de rede, temos outro protocolo muito importante, o IP, que é o protocolo de endereçamento.\n",
        "\n",
        "Nesse protocolo, a mensagem vai receber tanto o endereço de destino como o endereço de origem, para facilitar o rastreamento desse pacote e garantir que ele chegue ao dispositivo de destino.\n",
        "\n",
        "Assim, o pacote pode ser encaminhado através da rede, passando por diversos cabos e roteadores, e chegar ao servidor que pode estar em outro país, por exemplo. Essa é a camada de enlace.\n",
        "\n",
        "Quando o pacote chega na rede do servidor, ele percorre a pilha de camadas no sentido oposto, da camada física até a camada de aplicação, até o servidor web que roda no servidor e disponibiliza nossa aplicação para o público.\n",
        "\n",
        "Da mesma forma, quando o servidor responde à requisição, essa mensagem percorre esse caminho de rede em rede, roteador em roteador, até chegar ao nosso notebook ou smartphone. Cada dispositivo nessa rede tem um endereço de identificação único, o endereço IP.\n",
        "\n",
        "    Uma coisa interessante a se notar é que a internet, na realidade, é uma rede mundial de computadores, ou seja, uma rede das redes, que integra várias redes diferentes.\n",
        "\n",
        "    Assim, conseguimos nos conectar com diferentes dispositivos localizados em diferentes redes. Também podemos criar redes isoladas, mas se quisermos trocar arquivos, transferir dados para dispositivos em outras redes, precisamos estar conectados nessa rede global que é a internet.\n",
        "\n",
        "##**Conclusão**\n",
        "\n",
        "Agora que entendemos mais sobre como ocorre esse envio de uma mensagem entre o servidor e o cliente, vamos explorar mais como funciona o HTTP e como são essas mensagens!"
      ],
      "metadata": {
        "id": "5LDe1djuvpW0"
      }
    },
    {
      "cell_type": "markdown",
      "source": [
        "# **Para saber mais: o que é o modelo OSI?**"
      ],
      "metadata": {
        "id": "RJRgqHyfwzk2"
      }
    },
    {
      "cell_type": "markdown",
      "source": [
        "Destacamos que as redes de computadores estão organizadas como pilhas de camadas em um modelo conhecido como TCP/IP. Na verdade esse modelo prático usado na implementação e operação de redes é baseado no modelo conceitual OSI (Open Systems Interconnection).\n",
        "\n",
        "O modelo OSI é uma referência que nos ajuda a entender e descrever as funcionalidades e interações entre os diferentes protocolos de rede em um sistema de comunicação de dados. Ele foi desenvolvido pela International Organization for Standardization (ISO) no final da década de 1970. Sua concepção foi uma uma resposta à crescente complexidade das redes de computadores e à necessidade de criar um conjunto de padrões que permitisse a comunicação eficaz em redes de computadores.\n",
        "\n",
        "Desse modo, o modelo foi estruturado em sete camadas, cada uma com funções específicas, possibilitando que os dispositivos de rede se comuniquem de forma eficiente e padronizada.\n",
        "\n",
        "Quer entender melhor a estrutura e funcionamento do modelo OSI? Então, recomendamos a leitura do artigo [Saiba o que é o modelo OSI e quais são suas camadas](http://)."
      ],
      "metadata": {
        "id": "L2r8BryVw3Gv"
      }
    },
    {
      "cell_type": "markdown",
      "source": [
        "# **Entendendo o HTTP**"
      ],
      "metadata": {
        "id": "b93OTgKsxI9x"
      }
    },
    {
      "cell_type": "markdown",
      "source": [
        "Em DevOps, nosso interesse é mais amplo. Não buscamos apenas entregar uma solução funcional que apresente um bom desempenho. Nosso objetivo é que essa solução funcione bem ao longo de todo o seu ciclo de vida. Por isso, praticamos o monitoramento contínuo, sempre observamos o desempenho e cuidamos da infraestrutura que hospeda esse serviço.\n",
        "\n",
        "Entendendo o HTTP\n",
        "É fundamental entender sobre redes, afinal, a aplicação fica disponível utilizando a rede de comunicação, principalmente a internet.\n",
        "\n",
        "O protocolo HTTP opera sobre a camada TCP. Ele entrega essa mensagem, essa requisição, para o protocolo TCP, de modo que ocorra uma entrega de forma confiável para o servidor. Da mesma forma, o servidor deve conseguir enviar essa informação para o dispositivo cliente que a requisitou.\n",
        "\n",
        "Entender o mundo de redes é importante também para que possamos otimizar, manter, atualizar a nossa infraestrutura, e também diagnosticar algumas falhas que podem ocorrer ao longo do processo.\n",
        "\n",
        "Agora que entendemos sobre redes, vamos explorar um pouco a interação entre o servidor e o cliente. No navegador, temos aberta a tela do cliente. Se minimizarmos o navegador, temos o servidor back-end e o servidor front-end.\n",
        "\n",
        "O servidor back-end armazena geralmente a lógica de negócios da aplicação, enquanto o servidor front-end cuida de toda a parte de interação e navegação da pessoa usuária. É uma prática muito comum dividir uma aplicação web entre esses dois servidores.\n",
        "\n",
        "Entre os servidores do front-end e do back-end e o navegador do dispositivo do cliente, tem o HTTP, que faz essa comunicação, usando toda a estrutura de rede. Mas como ocorre essa interação na prática?\n",
        "\n",
        "Nós temos o navegador do dispositivo do cliente, e é ele que vai iniciar a comunicação. Ele entra em contato com o servidor para pedir alguma informação, ou para renderizar uma página.\n",
        "\n",
        "Por exemplo: se digitamos um endereço de navegação na barra de endereço do nosso navegador, enviamos uma requisição para o servidor do front-end, que retorna com as informações necessárias para a renderização dessa página, ou seja, para popular essa página no navegador.\n",
        "\n",
        "Também podemos encaminhar uma mensagem para o servidor do back-end, para pegar alguns dados específicos e popular essa página. Enviamos uma requisição e o servidor do back-end responde com os dados necessários para popular nossa página web.\n",
        "\n",
        "O que observamos nesse processo de comunicação é uma troca de mensagens, mas verifique que não são mensagens como escrevemos no WhatsApp.\n",
        "\n",
        "Essas mensagens têm um padrão; assim são os protocolos de comunicação. Eles seguem normas específicas de modo que todos os dispositivos e soluções consigam aplicá-los, implementá-los de forma prática, e que todos os dispositivos também consigam ser ouvidos e ouvirem também nesse processo de comunicação.\n",
        "\n",
        "##**Conclusão**\n",
        "\n",
        "Agora, quando queremos acessar uma página web, o que fazemos? Digitamos um endereço na barra de navegação do navegador. Porém, como aquele endereço será usado para acessar a página web? Como esse processo de comunicação ocorre? Vamos explorar esse tópico na sequência!"
      ],
      "metadata": {
        "id": "ON85I1pcxZKJ"
      }
    },
    {
      "cell_type": "markdown",
      "source": [
        "# **Faça como eu fiz: explorando requisições HTTP com o navegador**"
      ],
      "metadata": {
        "id": "aV5i_6lEyHAi"
      }
    },
    {
      "cell_type": "markdown",
      "source": [
        "Nesta aula vimos algumas das principais características do modelo cliente-servidor e do protocolo HTTP amplamente adotado para transferência de dados na web. Para explorar de forma prática o que aprendemos você vai:\n",
        "\n",
        "Abra um navegador web de sua escolha (Google Chrome, Firefox, etc).\n",
        "\n",
        " - Acesse um site de sua preferência (Por exemplo: alura.com.br ou google.com.br).\n",
        "\n",
        " - Pressione a tecla ‘F12’ do seu teclado ou clique com o botão direito do seu mouse na página e selecione ‘Inspecionar’ para abrir o Console do Desenvolvedor.\n",
        "\n",
        " - Vá para a guia ‘Network’ (‘Rede’).\n",
        "\n",
        " - Recarregue a página pressionando ‘Ctrl + R’ ou clique com o botão direito do mouse na página e selecione a opção ‘Recarregar’.\n",
        "\n",
        " - No Console do Desenvolvedor, você verá uma lista de solicitações HTTP feitas para carregar a página. Essas solicitações incluem recursos como HTML, CSS, JavaScript, imagens, etc.\n",
        "\n",
        " - Clique em uma das solicitações na lista para obter detalhes sobre essa solicitação. Examine os cabeçalhos (headers), corpo (body) e outros detalhes. E então, o que você já consegue reparar, com base no que aprendemos durante a aula?\n"
      ],
      "metadata": {
        "id": "2Ovt3HqvyN1e"
      }
    },
    {
      "cell_type": "markdown",
      "source": [
        "Observe a coluna \"Method\" (Método) na guia \"Network\". Isso indica qual método HTTP foi usado para essa requisição (por exemplo, GET, POST).\n",
        "\n",
        "Ao interagir com a página web (acessando recursos como cadastro ou login), você poderá ver as requisições HTTP ocorrendo em tempo real.\n",
        "\n",
        "Não se preocupe em entender agora todas as informações que estão sendo listadas nas requisições HTTP. Vamos entender melhor cada um desses detalhes nas próximas aulas do nosso curso."
      ],
      "metadata": {
        "id": "k0YgjJinylU-"
      }
    },
    {
      "cell_type": "markdown",
      "source": [
        "# **Hora da prática**"
      ],
      "metadata": {
        "id": "iLd0IJu8ywYj"
      }
    },
    {
      "cell_type": "markdown",
      "source": [
        "A comunicação web é uma das bases da interconectividade na era digital, permitindo a troca instantânea de informações entre pessoas e sistemas por meio da internet. Esse processo de comunicação envolve variadas tecnologias e protocolos, dentre os quais o protocolo HTTP se destaca como elemento fundamental. O HTTP atua transferência de recursos como texto, imagens e vídeos entre clientes e servidores.\n",
        "\n",
        "Para que você possa explorar ainda mais os principais aspectos e fundamentos da comunicação web, preparamos aqui uma lista de atividades (não obrigatórias). Que tal praticar!?\n",
        "\n",
        "Atividades\n",
        "\n",
        " 1. Utilize o comando curl no prompt de comando para enviar uma requisição HTTP a um site específico.\n",
        "\n",
        " 2. Usando a ferramenta de desenvolvedor do navegador (normalmente acessada com F12), explore o código HTML, CSS e outros recursos para compreender como as informações são estruturadas e estilizadas.\n",
        "\n",
        " 3. Teste sua conectividade com um determinado site, como Google ou Alura.\n",
        "\n",
        " 4. Use as ferramentas de desenvolvedor do navegador para analisar a guia de \"Rede\" enquanto carrega uma página web. Analise as requisições HTTP, os tempos de carregamento e os tipos de conteúdo transferidos.\n",
        "\n",
        " 5. Utilize o comando curl no prompt de comando, com a opção -I, para realizar uma requisição HTTP.\n",
        "\n",
        "Caso necessite de ajuda para resolver as atividades, basta clicar na seção “Opinião da pessoa instrutora” para acessar instruções sobre como implementar as soluções."
      ],
      "metadata": {
        "id": "C02pvwSry1Rt"
      }
    },
    {
      "cell_type": "markdown",
      "source": [
        "Atividade 1\n",
        "\n",
        "Digite o comando seguinte em seu prompt de comando:\n",
        "\n",
        "    curl https://www.google.com\n",
        "\n",
        "Pressione Enter e observe a resposta da requisição HTTP.\n",
        "\n",
        "Atividade 2\n",
        "\n",
        " 1. Abra o navegador da sua escolha.\n",
        "\n",
        "2. Acesse um site de sua preferência (www.alura.com.br).\n",
        "\n",
        "3. Pressione F12 para abrir as ferramentas do desenvolvedor.\n",
        "\n",
        "4. Na guia \"Elements\" (Elementos), explore o código HTML da página. Na guia \"Styles\" (Estilos), examine o CSS aplicado. Nas guias adicionais, como \"Network\" (Rede), você pode explorar outras informações sobre a comunicação web da página.\n",
        "\n",
        "Atividade 3\n",
        "\n",
        "Digite o seguinte comando em seu prompt de comando:\n",
        "\n",
        "    ping www.google.com\n",
        "\n",
        "Pressione Entere analise os resultados do teste de conectividade com o ping.\n",
        "\n",
        "Atividade 4\n",
        "\n",
        " 1. Abra o navegador e acesse um site de sua preferência.\n",
        "\n",
        "2. Pressione F12 para abrir as ferramentas do desenvolvedor.\n",
        "\n",
        "3. Vá até a guia \"Network\" (Rede).\n",
        "\n",
        "4. Recarregue a página (pressione F5) e avalie as informações sobre as requisições HTTP, tempos de carregamento e tipos de conteúdo transferidos.\n",
        "\n",
        "Atividade 5\n",
        "\n",
        "O comando curl -I é usado para fazer uma “requisição HEAD”, solicitando somente os cabeçalhos da resposta HTTP, sem baixar o corpo do conteúdo.\n",
        "\n",
        "Digite o seguinte comando em seu prompt de comando:\n",
        "\n",
        "    curl -I https://www.google.com\n",
        "\n",
        "Os cabeçalhos retornados incluem informações como o status da resposta, tipo de conteúdo, tamanho do conteúdo, entre outros."
      ],
      "metadata": {
        "id": "XzBbp5_6zOYh"
      }
    },
    {
      "cell_type": "markdown",
      "source": [
        "# **O que aprendemos?**"
      ],
      "metadata": {
        "id": "1ze79riaz8IR"
      }
    },
    {
      "cell_type": "markdown",
      "source": [
        "##**Nessa aula, você aprendeu:**\n",
        "\n",
        " - Como configurar o projeto de aplicação web All Books que será explorado ao longo do curso.\n",
        "\n",
        " - Identificar o modelo cliente-servidor adotado na construção de aplicações web.\n",
        "\n",
        " - Que o protocolo HTTP atua na camada de aplicação para possibilitar a comunicação entre aplicações web.\n",
        "\n",
        " - Como as redes de computadores estão organizadas para garantir que diferentes dispositivos computacionais sejam capazes de enviar e receber dados.\n",
        "\n",
        " - Analisar os componentes e características do protocolo HTTP que atua na camada de aplicação para transferência de dados na web."
      ],
      "metadata": {
        "id": "wLvF1gadz9jh"
      }
    },
    {
      "cell_type": "markdown",
      "source": [
        "# **Aula 02 - Mapeamento de recursoa na web**"
      ],
      "metadata": {
        "id": "d2i0wEzB0PVL"
      }
    },
    {
      "cell_type": "markdown",
      "source": [
        "## **Localizando recursos na web**"
      ],
      "metadata": {
        "id": "CtLDThGa117p"
      }
    },
    {
      "cell_type": "markdown",
      "source": [
        "Nossa equipe está preparando a aplicação web do projeto AllBooks e adotando o modelo de integração contínua, usando o GitHub Actions, realizando testes de carga e desempenho para verificar se tudo está em ordem. Essa solução pode ser colocada em produção e disponibilizada aos usuários.\n",
        "\n",
        "Mas surge a pergunta: como as pessoas usuárias conseguirão acessar esse recurso na web? Vamos precisar de algum mecanismo que permita localizá-lo, certo?\n",
        "\n",
        "Para entendermos melhor, vamos pensar no dia a dia. Como acessamos uma página web, como o curso que estamos fazendo agora? Digitamos na barra de endereços do nosso navegador, por exemplo, \"google.com.br\" e dar \"Enter\". Mas o que permite acessar essa página web?\n",
        "\n",
        "Ao analisarmos o endereço do Google que acabamos de acessar, temos um termo, \"HTTPS\", que se refere ao protocolo que estamos investigando, e mais adiante, \"//[www.google.com.br](https://)\".\n",
        "\n",
        "##**URL**\n",
        "\n",
        "Analisando também o endereço com o qual estamos acessando o front-end do Projeto AllBooks, temos \"localhost:23000\". Esses endereços são diferentes, mas baseados na mesma nomenclatura, um mecanismo conhecido como URL (Uniform Resource Locator), que é um mecanismo de localização universal de recursos.\n",
        "\n",
        "A **UR** nos permite localizar diferentes recursos, que podem ser scripts, mensagens, páginas web, serviços, entre outros. Na URL que estamos usando no front-end, temos primeiro o termo **\"HTTP\"**, que já nos dá uma dica ao que se refere.\n",
        "\n",
        "    http://localhost:3000/\n",
        "\n",
        "O primeiro termo de uma URL se refere ao protocolo que estamos usando para acessar esse recurso. Além do \"HTTP\", poderíamos usar o \"FTP\" ou até mesmo o \"SSH\", se estivéssemos fazendo acesso remoto a um recurso.\n",
        "\n",
        "Em seguida, temos \"//localhost:3000\", que se refere ao servidor e à porta que estamos utilizando para fazer essa conexão. Por último, temos o caminho do recurso, ou seja, dado um servidor e uma porta de conexão, indicamos qual o recurso que queremos acessar dentro desse servidor.\n",
        "\n",
        "Nesse caso, temos apenas uma barra representando esse caminho. Essa barra também é conhecida como raiz, indicando que estamos acessando a Home, que é o recurso principal desse serviço.\n",
        "\n",
        "##**Porta**\n",
        "\n",
        "Falando em porta, o que é exatamente esse termo? A porta é um mecanismo que utilizamos para nos conectarmos a um servidor. Por exemplo, temos dois servidores de execução em um único dispositivo no nosso computador: o servidor do back-end e o servidor do front-end.\n",
        "\n",
        "Se formos ao back-end, perceberemos que temos um endereço bem parecido com o do front-end. A única coisa que muda é a especificação da porta, que é 8000 (8 mil) para o back-end e 3000 (3 mil) para o front-end. Utilizamos portas diferentes justamente para permitir a execução de múltiplos servidores em um único dispositivo. Assim, podemos oferecer diferentes serviços usando um único servidor.\n",
        "\n",
        "As portas não são definidas por acaso. Temos um intervalo para sua definição entre 0 (zero) e 65535 (65 mil, quinhentos e trinta e cinco). No entanto, as portas entre 0 (zero) e 1022 (mil e vinte e dois) são destinadas a serviços padrão, como, por exemplo, quando acessamos um site no nosso navegador.\n",
        "\n",
        "Esse tipo de acesso usa uma porta padrão. A partir de 1023 (mil e vinte e três), são portas de livre uso. Por isso que estamos usando portas como 3000 e 8000. Geralmente, usamos esse tipo de porta quando estamos na fase de desenvolvimento, testando a nossa aplicação.\n",
        "\n",
        "Mas você pode estar se perguntando, quando acessamos o Google, não especificamos nenhuma porta. Geralmente, não especificamos, porque quando usamos esse tipo de serviço, estamos usando uma porta padrão. No caso do Google, se analisarmos, ele está usando uma versão segura do protocolo HTTP, que é o HTTPS.\n",
        "\n",
        "A porta padrão desse serviço é 443. Se colocarmos 443 na URL, ele retorna para a página do Google. Ele retira essa informação, porque estamos acessando pela porta padrão.\n",
        "\n",
        "Da mesma forma, se alterarmos para o HTTP e colocarmos a porta padrão do HTTP que é 80, ele migra para a versão segura, mas mesmo assim conseguimos acessar o recurso da mesma maneira.\n",
        "\n",
        "Fica a pergunta: um servidor não tem um nome. Acessamos um servidor pelo endereço IP, que é um endereço único para facilitar sua localização em uma rede.\n",
        "\n",
        "Como acessamos um recurso que está hospedado em um servidor, usando esse nome, que é fácil de memorizar e até amigável, sendo que esse servidor tem um endereço IP? Como fazemos esse mapeamento? Vamos analisar isso?\n",
        "\n"
      ],
      "metadata": {
        "id": "3H74NyDt0V1K"
      }
    },
    {
      "cell_type": "markdown",
      "source": [
        "# **Sistema de nomes de domínio (DNS)**"
      ],
      "metadata": {
        "id": "ZEP_Owky1HRj"
      }
    }
  ]
}