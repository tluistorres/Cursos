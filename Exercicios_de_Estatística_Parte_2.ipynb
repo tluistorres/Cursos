{
  "cells": [
    {
      "cell_type": "markdown",
      "metadata": {
        "id": "view-in-github",
        "colab_type": "text"
      },
      "source": [
        "<a href=\"https://colab.research.google.com/github/tluistorres/Cursos/blob/main/Exercicios_de_Estat%C3%ADstica_Parte_2.ipynb\" target=\"_parent\"><img src=\"https://colab.research.google.com/assets/colab-badge.svg\" alt=\"Open In Colab\"/></a>"
      ]
    },
    {
      "cell_type": "markdown",
      "metadata": {
        "id": "WvMflodMjQKe"
      },
      "source": [
        "***\n",
        "# <font color=green size=10>CURSO DE ESTATÍSTICA - PARTE 2</font>\n",
        "***"
      ]
    },
    {
      "cell_type": "markdown",
      "source": [
        "# Aula 01 - Introdução"
      ],
      "metadata": {
        "id": "t5xhXFGRI2fG"
      }
    },
    {
      "cell_type": "markdown",
      "source": [
        "## Estatística com Python parte 2:\n",
        "\n",
        "Probabilidade e Amostragem, o qual faz parte de uma sequência lógica sobre este tema.\n",
        "\n",
        "No primeiro curso, começamos a falar de estatísticas descritivas e de coisas mais básicas, mas agora evoluiremos um pouco mais; conheceremos algumas Distribuições de Probabilidade e aprenderemos a calculá-las, como a distribuição binomial, a distribuição Poisson e a famosa distribuição normal.\n",
        "\n",
        "Também falaremos um pouco sobre o conceito de Amostragem, e calcularemos e obteremos uma amostra aleatória simples utilizando recursos do Pandas.\n",
        "\n",
        "Abordaremos técnicas de Amostragem, e depois passaremos para Estimação ainda no universo de inferência estatística, onde veremos estimações pontuais e intervalares.\n",
        "\n",
        "Aprenderemos a calcular o tamanho de amostra para obtermos amostras representativas da população que estamos estudando.\n",
        "\n",
        "Falaremos de erro inferencial, nível de confiança, nível de significância, teorema do limite central e todos esses conceitos importantes em Estatística pra termos uma bagagem sólida para avançarmos mais ainda, chegando em teste, regressão linear e etc."
      ],
      "metadata": {
        "id": "iS9wCmxHI9Ea"
      }
    },
    {
      "cell_type": "markdown",
      "metadata": {
        "id": "cVgsZ_E3jQKg"
      },
      "source": [
        "# <font color=green>1 CONHECENDO OS DADOS</font>\n",
        "***\n",
        "\n",
        "## <font color=green> 1.1 Conhecendo o ambiente e o dataset<font>"
      ]
    },
    {
      "cell_type": "markdown",
      "source": [
        "Inicialmente, apresentaremos a ferramenta Colaboratory do Google conhecida como Colab, a qual é acessível por meio deste link, sendo a mesma que utilizamos no curso anterior.\n",
        "\n",
        "Precisaremos fazer login para fazermos upload dos arquivos disponibilizados no passo anterior, do mesmo jeito que já fizemos.\n",
        "\n",
        "Feito o download dos documentos, abriremos o Colab no navegador, iremos em \"File > Upload notebook...\", e escolheremos o arquivo Versão_bibliotecas.ipynb. Abrindo-o para rodarmos a célula já pronta, verificaremos as versões das bibliotecas Pandas, Numpy, Scipy e Matplotlib que utilizaremos.\n"
      ],
      "metadata": {
        "id": "8WDxsGt5JmCL"
      }
    },
    {
      "cell_type": "code",
      "source": [
        "Versão do pandas -> 0.23.4\n",
        "Versão do numpy -> 1.16.2\n",
        "Versão do scipy -> 1.2.1\n",
        "Versão do matplotlib -> 3.0.3"
      ],
      "metadata": {
        "id": "PG82CUCrKGN5"
      },
      "execution_count": null,
      "outputs": []
    },
    {
      "cell_type": "markdown",
      "source": [
        "## Não funcionou"
      ],
      "metadata": {
        "id": "EvbQrqyOK48H"
      }
    },
    {
      "cell_type": "code",
      "source": [
        "import pandas as pd\n",
        "import numpy as np\n",
        "import scipy as sp\n",
        "import matplotlib as mpl\n",
        "\n",
        "print(\"Versão do pandas:\", pd.__version__)\n",
        "print(\"Versão do numpy:\", np.__version__)\n",
        "print(\"Versão do scipy:\", sp.__version__)\n",
        "print(\"Versão do matplotlib:\", mpl.__version__)\n"
      ],
      "metadata": {
        "colab": {
          "base_uri": "https://localhost:8080/"
        },
        "id": "gT9bNPqeKykQ",
        "outputId": "efef173a-e58a-4a5e-be41-52bb42c76cc1"
      },
      "execution_count": null,
      "outputs": [
        {
          "output_type": "stream",
          "name": "stdout",
          "text": [
            "Versão do pandas: 2.2.2\n",
            "Versão do numpy: 2.0.2\n",
            "Versão do scipy: 1.15.3\n",
            "Versão do matplotlib: 3.10.0\n"
          ]
        }
      ]
    },
    {
      "cell_type": "markdown",
      "source": [
        "Provavelmente sua versão será mais recente, mas se tiver algum problema enquanto estiver executando o código, poderá voltar e fazer o downgrade no Colab conforme aprendemos na primeira aula do primeiro curso de Estatística, caso haja dúvidas.\n",
        "\n",
        "Expandiremos a aba lateral para começarmos carregando o arquivo dos dados que utilizaremos em nosso projeto; clicaremos em \"upload\" e escolheremos dados.csv, o qual é o mesmo dataset criado no curso anterior.\n",
        "\n",
        "Não o utilizaremos muito neste treinamento, mas ao final teremos um notebook para executarmos um projeto de exercício usando o que aprendemos durante as aulas.\n",
        "\n",
        "Feito o carregamento dos dados, abriremos o notebook preparado para este curso indo em \"File > Upload Notebook...\" novamente para escolhermos o arquivo Curso_de_Estatística_Parte_2.ipynb.\n",
        "\n",
        "Este possui um roteiro para executarmos nossas aulas; na primeira parte, já conhecemos o mesmo dataset do curso anterior, o qual foi extraído do site oficial do IBGE e possui os dados da Pesquisa Nacional por Amostra de Domicílios de 2015 ou PNAD.\n",
        "\n",
        "Encontraremos o link com a fonte dos dados, bem como as variáveis que vamos utilizar; renda, idade das pessoas, a altura elaborada didaticamente para estudarmos uma distribuição que se comporta de forma normal, como veremos neste treinamento. Temos também as codificações numéricas das Unidades da Federação, sexo, anos de estudo e cor ou raça.\n",
        "\n",
        "Teremos algumas observações de tratamentos realizadas no dataset único e exclusivamente para facilitar nosso aprendizado; pois eliminamos tanto os registros de renda inválidos quanto os inexistentes ou missing, e consideramos somente as pessoas de referência que foram entrevistadas e são responsáveis pelo domicílio.\n",
        "\n",
        "Os registros das observações são importantes para entendermos bem os resultados finais. Em seguida, importaremos o dados.csv que já deve estar carregado na aba lateral de \"Files\".\n",
        "\n",
        "Na primeira célula da parte \"Importando pandas e lendo o dataset do projeto\", começaremos com o import de pandas como pd, da mesma forma que já conhecemos."
      ],
      "metadata": {
        "id": "lZgTSek7LQOK"
      }
    },
    {
      "cell_type": "markdown",
      "metadata": {
        "id": "TDjqYYNojQKh"
      },
      "source": [
        "## <font color=green>1.1 Dataset do projeto</font>\n",
        "***"
      ]
    },
    {
      "cell_type": "code",
      "source": [
        "import pandas as pd"
      ],
      "metadata": {
        "id": "-p8mWwPwLkh4"
      },
      "execution_count": null,
      "outputs": []
    },
    {
      "cell_type": "markdown",
      "source": [
        "Armazenaremos os dados na variável dados, a qual será igual a pd.read_csv() recebendo o arquivo 'dados.csv' para o lermos."
      ],
      "metadata": {
        "id": "jkeDbNB9LqTJ"
      }
    },
    {
      "cell_type": "code",
      "source": [
        "dados = pd.read_csv('dados.csv')"
      ],
      "metadata": {
        "id": "KCI5j9lGLtMg"
      },
      "execution_count": null,
      "outputs": []
    },
    {
      "cell_type": "markdown",
      "source": [
        "Após rodarmos esta célula com \"Shift + Enter\", exibiremos os primeiros cinco registros com head()"
      ],
      "metadata": {
        "id": "O5UodLLdL42W"
      }
    },
    {
      "cell_type": "code",
      "source": [
        "dados.head()"
      ],
      "metadata": {
        "colab": {
          "base_uri": "https://localhost:8080/",
          "height": 206
        },
        "id": "jQRaCp91L6-H",
        "outputId": "c8334c3c-4cbb-4530-c2b3-f9cc24751cc8"
      },
      "execution_count": null,
      "outputs": [
        {
          "output_type": "execute_result",
          "data": {
            "text/plain": [
              "   UF  Sexo  Idade  Cor  Anos de Estudo  Renda    Altura\n",
              "0  11     0     23    8              12    800  1.603808\n",
              "1  11     1     23    2              12   1150  1.739790\n",
              "2  11     1     35    8              15    880  1.760444\n",
              "3  11     0     46    2               6   3500  1.783158\n",
              "4  11     1     47    8               9    150  1.690631"
            ],
            "text/html": [
              "\n",
              "  <div id=\"df-e8463ea2-bf59-477d-9e7f-c69c61ffe5f4\" class=\"colab-df-container\">\n",
              "    <div>\n",
              "<style scoped>\n",
              "    .dataframe tbody tr th:only-of-type {\n",
              "        vertical-align: middle;\n",
              "    }\n",
              "\n",
              "    .dataframe tbody tr th {\n",
              "        vertical-align: top;\n",
              "    }\n",
              "\n",
              "    .dataframe thead th {\n",
              "        text-align: right;\n",
              "    }\n",
              "</style>\n",
              "<table border=\"1\" class=\"dataframe\">\n",
              "  <thead>\n",
              "    <tr style=\"text-align: right;\">\n",
              "      <th></th>\n",
              "      <th>UF</th>\n",
              "      <th>Sexo</th>\n",
              "      <th>Idade</th>\n",
              "      <th>Cor</th>\n",
              "      <th>Anos de Estudo</th>\n",
              "      <th>Renda</th>\n",
              "      <th>Altura</th>\n",
              "    </tr>\n",
              "  </thead>\n",
              "  <tbody>\n",
              "    <tr>\n",
              "      <th>0</th>\n",
              "      <td>11</td>\n",
              "      <td>0</td>\n",
              "      <td>23</td>\n",
              "      <td>8</td>\n",
              "      <td>12</td>\n",
              "      <td>800</td>\n",
              "      <td>1.603808</td>\n",
              "    </tr>\n",
              "    <tr>\n",
              "      <th>1</th>\n",
              "      <td>11</td>\n",
              "      <td>1</td>\n",
              "      <td>23</td>\n",
              "      <td>2</td>\n",
              "      <td>12</td>\n",
              "      <td>1150</td>\n",
              "      <td>1.739790</td>\n",
              "    </tr>\n",
              "    <tr>\n",
              "      <th>2</th>\n",
              "      <td>11</td>\n",
              "      <td>1</td>\n",
              "      <td>35</td>\n",
              "      <td>8</td>\n",
              "      <td>15</td>\n",
              "      <td>880</td>\n",
              "      <td>1.760444</td>\n",
              "    </tr>\n",
              "    <tr>\n",
              "      <th>3</th>\n",
              "      <td>11</td>\n",
              "      <td>0</td>\n",
              "      <td>46</td>\n",
              "      <td>2</td>\n",
              "      <td>6</td>\n",
              "      <td>3500</td>\n",
              "      <td>1.783158</td>\n",
              "    </tr>\n",
              "    <tr>\n",
              "      <th>4</th>\n",
              "      <td>11</td>\n",
              "      <td>1</td>\n",
              "      <td>47</td>\n",
              "      <td>8</td>\n",
              "      <td>9</td>\n",
              "      <td>150</td>\n",
              "      <td>1.690631</td>\n",
              "    </tr>\n",
              "  </tbody>\n",
              "</table>\n",
              "</div>\n",
              "    <div class=\"colab-df-buttons\">\n",
              "\n",
              "  <div class=\"colab-df-container\">\n",
              "    <button class=\"colab-df-convert\" onclick=\"convertToInteractive('df-e8463ea2-bf59-477d-9e7f-c69c61ffe5f4')\"\n",
              "            title=\"Convert this dataframe to an interactive table.\"\n",
              "            style=\"display:none;\">\n",
              "\n",
              "  <svg xmlns=\"http://www.w3.org/2000/svg\" height=\"24px\" viewBox=\"0 -960 960 960\">\n",
              "    <path d=\"M120-120v-720h720v720H120Zm60-500h600v-160H180v160Zm220 220h160v-160H400v160Zm0 220h160v-160H400v160ZM180-400h160v-160H180v160Zm440 0h160v-160H620v160ZM180-180h160v-160H180v160Zm440 0h160v-160H620v160Z\"/>\n",
              "  </svg>\n",
              "    </button>\n",
              "\n",
              "  <style>\n",
              "    .colab-df-container {\n",
              "      display:flex;\n",
              "      gap: 12px;\n",
              "    }\n",
              "\n",
              "    .colab-df-convert {\n",
              "      background-color: #E8F0FE;\n",
              "      border: none;\n",
              "      border-radius: 50%;\n",
              "      cursor: pointer;\n",
              "      display: none;\n",
              "      fill: #1967D2;\n",
              "      height: 32px;\n",
              "      padding: 0 0 0 0;\n",
              "      width: 32px;\n",
              "    }\n",
              "\n",
              "    .colab-df-convert:hover {\n",
              "      background-color: #E2EBFA;\n",
              "      box-shadow: 0px 1px 2px rgba(60, 64, 67, 0.3), 0px 1px 3px 1px rgba(60, 64, 67, 0.15);\n",
              "      fill: #174EA6;\n",
              "    }\n",
              "\n",
              "    .colab-df-buttons div {\n",
              "      margin-bottom: 4px;\n",
              "    }\n",
              "\n",
              "    [theme=dark] .colab-df-convert {\n",
              "      background-color: #3B4455;\n",
              "      fill: #D2E3FC;\n",
              "    }\n",
              "\n",
              "    [theme=dark] .colab-df-convert:hover {\n",
              "      background-color: #434B5C;\n",
              "      box-shadow: 0px 1px 3px 1px rgba(0, 0, 0, 0.15);\n",
              "      filter: drop-shadow(0px 1px 2px rgba(0, 0, 0, 0.3));\n",
              "      fill: #FFFFFF;\n",
              "    }\n",
              "  </style>\n",
              "\n",
              "    <script>\n",
              "      const buttonEl =\n",
              "        document.querySelector('#df-e8463ea2-bf59-477d-9e7f-c69c61ffe5f4 button.colab-df-convert');\n",
              "      buttonEl.style.display =\n",
              "        google.colab.kernel.accessAllowed ? 'block' : 'none';\n",
              "\n",
              "      async function convertToInteractive(key) {\n",
              "        const element = document.querySelector('#df-e8463ea2-bf59-477d-9e7f-c69c61ffe5f4');\n",
              "        const dataTable =\n",
              "          await google.colab.kernel.invokeFunction('convertToInteractive',\n",
              "                                                    [key], {});\n",
              "        if (!dataTable) return;\n",
              "\n",
              "        const docLinkHtml = 'Like what you see? Visit the ' +\n",
              "          '<a target=\"_blank\" href=https://colab.research.google.com/notebooks/data_table.ipynb>data table notebook</a>'\n",
              "          + ' to learn more about interactive tables.';\n",
              "        element.innerHTML = '';\n",
              "        dataTable['output_type'] = 'display_data';\n",
              "        await google.colab.output.renderOutput(dataTable, element);\n",
              "        const docLink = document.createElement('div');\n",
              "        docLink.innerHTML = docLinkHtml;\n",
              "        element.appendChild(docLink);\n",
              "      }\n",
              "    </script>\n",
              "  </div>\n",
              "\n",
              "\n",
              "    <div id=\"df-438e7fdb-06cc-42c2-a0b9-581b70451f14\">\n",
              "      <button class=\"colab-df-quickchart\" onclick=\"quickchart('df-438e7fdb-06cc-42c2-a0b9-581b70451f14')\"\n",
              "                title=\"Suggest charts\"\n",
              "                style=\"display:none;\">\n",
              "\n",
              "<svg xmlns=\"http://www.w3.org/2000/svg\" height=\"24px\"viewBox=\"0 0 24 24\"\n",
              "     width=\"24px\">\n",
              "    <g>\n",
              "        <path d=\"M19 3H5c-1.1 0-2 .9-2 2v14c0 1.1.9 2 2 2h14c1.1 0 2-.9 2-2V5c0-1.1-.9-2-2-2zM9 17H7v-7h2v7zm4 0h-2V7h2v10zm4 0h-2v-4h2v4z\"/>\n",
              "    </g>\n",
              "</svg>\n",
              "      </button>\n",
              "\n",
              "<style>\n",
              "  .colab-df-quickchart {\n",
              "      --bg-color: #E8F0FE;\n",
              "      --fill-color: #1967D2;\n",
              "      --hover-bg-color: #E2EBFA;\n",
              "      --hover-fill-color: #174EA6;\n",
              "      --disabled-fill-color: #AAA;\n",
              "      --disabled-bg-color: #DDD;\n",
              "  }\n",
              "\n",
              "  [theme=dark] .colab-df-quickchart {\n",
              "      --bg-color: #3B4455;\n",
              "      --fill-color: #D2E3FC;\n",
              "      --hover-bg-color: #434B5C;\n",
              "      --hover-fill-color: #FFFFFF;\n",
              "      --disabled-bg-color: #3B4455;\n",
              "      --disabled-fill-color: #666;\n",
              "  }\n",
              "\n",
              "  .colab-df-quickchart {\n",
              "    background-color: var(--bg-color);\n",
              "    border: none;\n",
              "    border-radius: 50%;\n",
              "    cursor: pointer;\n",
              "    display: none;\n",
              "    fill: var(--fill-color);\n",
              "    height: 32px;\n",
              "    padding: 0;\n",
              "    width: 32px;\n",
              "  }\n",
              "\n",
              "  .colab-df-quickchart:hover {\n",
              "    background-color: var(--hover-bg-color);\n",
              "    box-shadow: 0 1px 2px rgba(60, 64, 67, 0.3), 0 1px 3px 1px rgba(60, 64, 67, 0.15);\n",
              "    fill: var(--button-hover-fill-color);\n",
              "  }\n",
              "\n",
              "  .colab-df-quickchart-complete:disabled,\n",
              "  .colab-df-quickchart-complete:disabled:hover {\n",
              "    background-color: var(--disabled-bg-color);\n",
              "    fill: var(--disabled-fill-color);\n",
              "    box-shadow: none;\n",
              "  }\n",
              "\n",
              "  .colab-df-spinner {\n",
              "    border: 2px solid var(--fill-color);\n",
              "    border-color: transparent;\n",
              "    border-bottom-color: var(--fill-color);\n",
              "    animation:\n",
              "      spin 1s steps(1) infinite;\n",
              "  }\n",
              "\n",
              "  @keyframes spin {\n",
              "    0% {\n",
              "      border-color: transparent;\n",
              "      border-bottom-color: var(--fill-color);\n",
              "      border-left-color: var(--fill-color);\n",
              "    }\n",
              "    20% {\n",
              "      border-color: transparent;\n",
              "      border-left-color: var(--fill-color);\n",
              "      border-top-color: var(--fill-color);\n",
              "    }\n",
              "    30% {\n",
              "      border-color: transparent;\n",
              "      border-left-color: var(--fill-color);\n",
              "      border-top-color: var(--fill-color);\n",
              "      border-right-color: var(--fill-color);\n",
              "    }\n",
              "    40% {\n",
              "      border-color: transparent;\n",
              "      border-right-color: var(--fill-color);\n",
              "      border-top-color: var(--fill-color);\n",
              "    }\n",
              "    60% {\n",
              "      border-color: transparent;\n",
              "      border-right-color: var(--fill-color);\n",
              "    }\n",
              "    80% {\n",
              "      border-color: transparent;\n",
              "      border-right-color: var(--fill-color);\n",
              "      border-bottom-color: var(--fill-color);\n",
              "    }\n",
              "    90% {\n",
              "      border-color: transparent;\n",
              "      border-bottom-color: var(--fill-color);\n",
              "    }\n",
              "  }\n",
              "</style>\n",
              "\n",
              "      <script>\n",
              "        async function quickchart(key) {\n",
              "          const quickchartButtonEl =\n",
              "            document.querySelector('#' + key + ' button');\n",
              "          quickchartButtonEl.disabled = true;  // To prevent multiple clicks.\n",
              "          quickchartButtonEl.classList.add('colab-df-spinner');\n",
              "          try {\n",
              "            const charts = await google.colab.kernel.invokeFunction(\n",
              "                'suggestCharts', [key], {});\n",
              "          } catch (error) {\n",
              "            console.error('Error during call to suggestCharts:', error);\n",
              "          }\n",
              "          quickchartButtonEl.classList.remove('colab-df-spinner');\n",
              "          quickchartButtonEl.classList.add('colab-df-quickchart-complete');\n",
              "        }\n",
              "        (() => {\n",
              "          let quickchartButtonEl =\n",
              "            document.querySelector('#df-438e7fdb-06cc-42c2-a0b9-581b70451f14 button');\n",
              "          quickchartButtonEl.style.display =\n",
              "            google.colab.kernel.accessAllowed ? 'block' : 'none';\n",
              "        })();\n",
              "      </script>\n",
              "    </div>\n",
              "\n",
              "    </div>\n",
              "  </div>\n"
            ],
            "application/vnd.google.colaboratory.intrinsic+json": {
              "type": "dataframe",
              "variable_name": "dados",
              "summary": "{\n  \"name\": \"dados\",\n  \"rows\": 76840,\n  \"fields\": [\n    {\n      \"column\": \"UF\",\n      \"properties\": {\n        \"dtype\": \"number\",\n        \"std\": 11,\n        \"min\": 11,\n        \"max\": 53,\n        \"num_unique_values\": 27,\n        \"samples\": [\n          22,\n          27,\n          23\n        ],\n        \"semantic_type\": \"\",\n        \"description\": \"\"\n      }\n    },\n    {\n      \"column\": \"Sexo\",\n      \"properties\": {\n        \"dtype\": \"number\",\n        \"std\": 0,\n        \"min\": 0,\n        \"max\": 1,\n        \"num_unique_values\": 2,\n        \"samples\": [\n          1,\n          0\n        ],\n        \"semantic_type\": \"\",\n        \"description\": \"\"\n      }\n    },\n    {\n      \"column\": \"Idade\",\n      \"properties\": {\n        \"dtype\": \"number\",\n        \"std\": 12,\n        \"min\": 13,\n        \"max\": 99,\n        \"num_unique_values\": 84,\n        \"samples\": [\n          88,\n          23\n        ],\n        \"semantic_type\": \"\",\n        \"description\": \"\"\n      }\n    },\n    {\n      \"column\": \"Cor\",\n      \"properties\": {\n        \"dtype\": \"number\",\n        \"std\": 2,\n        \"min\": 0,\n        \"max\": 8,\n        \"num_unique_values\": 5,\n        \"samples\": [\n          2,\n          0\n        ],\n        \"semantic_type\": \"\",\n        \"description\": \"\"\n      }\n    },\n    {\n      \"column\": \"Anos de Estudo\",\n      \"properties\": {\n        \"dtype\": \"number\",\n        \"std\": 4,\n        \"min\": 1,\n        \"max\": 17,\n        \"num_unique_values\": 17,\n        \"samples\": [\n          12,\n          15\n        ],\n        \"semantic_type\": \"\",\n        \"description\": \"\"\n      }\n    },\n    {\n      \"column\": \"Renda\",\n      \"properties\": {\n        \"dtype\": \"number\",\n        \"std\": 3323,\n        \"min\": 0,\n        \"max\": 200000,\n        \"num_unique_values\": 1606,\n        \"samples\": [\n          3279,\n          2456\n        ],\n        \"semantic_type\": \"\",\n        \"description\": \"\"\n      }\n    },\n    {\n      \"column\": \"Altura\",\n      \"properties\": {\n        \"dtype\": \"number\",\n        \"std\": 0.07971743006825309,\n        \"min\": 1.339244614,\n        \"max\": 2.028496765,\n        \"num_unique_values\": 76831,\n        \"samples\": [\n          1.616531581,\n          1.799777606\n        ],\n        \"semantic_type\": \"\",\n        \"description\": \"\"\n      }\n    }\n  ]\n}"
            }
          },
          "metadata": {},
          "execution_count": 7
        }
      ]
    },
    {
      "cell_type": "markdown",
      "source": [
        "Já conhecemos a ferramenta e o dataset que vamos utilizar um pouco nesse curso.\n",
        "\n",
        "A seguir, vamos colocar a mão na massa e falar das Distribuições Teóricas de Probabilidade."
      ],
      "metadata": {
        "id": "T-VvqcE2MEPh"
      }
    },
    {
      "cell_type": "markdown",
      "metadata": {
        "id": "iN1gIbaKjQKh"
      },
      "source": [
        "### Pesquisa Nacional por Amostra de Domicílios - 2015\n",
        "\n",
        "A **Pesquisa Nacional por Amostra de Domicílios - PNAD** investiga anualmente, de forma permanente, características gerais da população, de educação, trabalho, rendimento e habitação e outras, com periodicidade variável, de acordo com as necessidades de informação para o país, como as características sobre migração, fecundidade, nupcialidade, saúde, segurança alimentar, entre outros temas. O levantamento dessas estatísticas constitui, ao longo dos 49 anos de realização da pesquisa, um importante instrumento para formulação, validação e avaliação de políticas orientadas para o desenvolvimento socioeconômico e a melhoria das condições de vida no Brasil."
      ]
    },
    {
      "cell_type": "markdown",
      "metadata": {
        "id": "U6V7br1RjQKi"
      },
      "source": [
        "### Fonte dos Dados\n",
        "\n",
        "https://ww2.ibge.gov.br/home/estatistica/populacao/trabalhoerendimento/pnad2015/microdados.shtm"
      ]
    },
    {
      "cell_type": "markdown",
      "metadata": {
        "id": "r0Fe_qnzjQKj"
      },
      "source": [
        "### Variáveis utilizadas\n",
        "\n",
        "> ### Renda\n",
        "> ***\n",
        "\n",
        "Rendimento mensal do trabalho principal para pessoas de 10 anos ou mais de idade.\n",
        "\n",
        "> ### Idade\n",
        "> ***\n",
        "\n",
        "Idade do morador na data de referência em anos.\n",
        "\n",
        "> ### Altura (elaboração própria)\n",
        "> ***\n",
        "\n",
        "Altura do morador em metros.\n",
        "\n",
        "> ### UF\n",
        "> ***\n",
        "\n",
        "|Código|Descrição|\n",
        "|---|---|\n",
        "|11|Rondônia|\n",
        "|12|Acre|\n",
        "|13|Amazonas|\n",
        "|14|Roraima|\n",
        "|15|Pará|\n",
        "|16|Amapá|\n",
        "|17|Tocantins|\n",
        "|21|Maranhão|\n",
        "|22|Piauí|\n",
        "|23|Ceará|\n",
        "|24|Rio Grande do Norte|\n",
        "|25|Paraíba|\n",
        "|26|Pernambuco|\n",
        "|27|Alagoas|\n",
        "|28|Sergipe|\n",
        "|29|Bahia|\n",
        "|31|Minas Gerais|\n",
        "|32|Espírito Santo|\n",
        "|33|Rio de Janeiro|\n",
        "|35|São Paulo|\n",
        "|41|Paraná|\n",
        "|42|Santa Catarina|\n",
        "|43|Rio Grande do Sul|\n",
        "|50|Mato Grosso do Sul|\n",
        "|51|Mato Grosso|\n",
        "|52|Goiás|\n",
        "|53|Distrito Federal|\n",
        "\n",
        "> ### Sexo\n",
        "> ***\n",
        "\n",
        "|Código|Descrição|\n",
        "|---|---|\n",
        "|0|Masculino|\n",
        "|1|Feminino|\n",
        "\n",
        "> ### Anos de Estudo\n",
        "> ***\n",
        "\n",
        "|Código|Descrição|\n",
        "|---|---|\n",
        "|1|Sem instrução e menos de 1 ano|\n",
        "|2|1 ano|\n",
        "|3|2 anos|\n",
        "|4|3 anos|\n",
        "|5|4 anos|\n",
        "|6|5 anos|\n",
        "|7|6 anos|\n",
        "|8|7 anos|\n",
        "|9|8 anos|\n",
        "|10|9 anos|\n",
        "|11|10 anos|\n",
        "|12|11 anos|\n",
        "|13|12 anos|\n",
        "|14|13 anos|\n",
        "|15|14 anos|\n",
        "|16|15 anos ou mais|\n",
        "|17|Não determinados|\n",
        "||Não aplicável|\n",
        "\n",
        "> ### Cor\n",
        "> ***\n",
        "\n",
        "|Código|Descrição|\n",
        "|---|---|\n",
        "|0|Indígena|\n",
        "|2|Branca|\n",
        "|4|Preta|\n",
        "|6|Amarela|\n",
        "|8|Parda|\n",
        "|9|Sem declaração|"
      ]
    },
    {
      "cell_type": "markdown",
      "metadata": {
        "id": "OK1IQH5cX7Gb"
      },
      "source": [
        "#### <font color='red'>Observação</font>\n",
        "***\n",
        "> Os seguintes tratamentos foram realizados nos dados originais:\n",
        "> 1. Foram eliminados os registros onde a **Renda** era inválida (999 999 999 999);\n",
        "> 2. Foram eliminados os registros onde a **Renda** era missing;\n",
        "> 3. Foram considerados somente os registros das **Pessoas de Referência** de cada domicílio (responsável pelo domicílio)."
      ]
    },
    {
      "cell_type": "markdown",
      "metadata": {
        "id": "8Rw70V6ojQKk"
      },
      "source": [
        "### Importando pandas e lendo o dataset do projeto\n",
        "\n",
        "https://pandas.pydata.org/"
      ]
    },
    {
      "cell_type": "code",
      "execution_count": null,
      "metadata": {
        "id": "8QgOpE-wjQKl"
      },
      "outputs": [],
      "source": [
        "import pandas as pd"
      ]
    },
    {
      "cell_type": "code",
      "execution_count": null,
      "metadata": {
        "id": "ufRZ7TLwjQKo"
      },
      "outputs": [],
      "source": [
        "dados = pd.read_csv('dados.csv')"
      ]
    },
    {
      "cell_type": "code",
      "execution_count": null,
      "metadata": {
        "colab": {
          "base_uri": "https://localhost:8080/",
          "height": 206
        },
        "id": "GsC_WhLFjQKq",
        "outputId": "f29bc7aa-d0b5-46bd-a5a0-1da781304054",
        "scrolled": true
      },
      "outputs": [
        {
          "output_type": "execute_result",
          "data": {
            "text/plain": [
              "   UF  Sexo  Idade  Cor  Anos de Estudo  Renda    Altura\n",
              "0  11     0     23    8              12    800  1.603808\n",
              "1  11     1     23    2              12   1150  1.739790\n",
              "2  11     1     35    8              15    880  1.760444\n",
              "3  11     0     46    2               6   3500  1.783158\n",
              "4  11     1     47    8               9    150  1.690631"
            ],
            "text/html": [
              "\n",
              "  <div id=\"df-4ef198b6-e307-42bc-8d97-3f6fca582b16\" class=\"colab-df-container\">\n",
              "    <div>\n",
              "<style scoped>\n",
              "    .dataframe tbody tr th:only-of-type {\n",
              "        vertical-align: middle;\n",
              "    }\n",
              "\n",
              "    .dataframe tbody tr th {\n",
              "        vertical-align: top;\n",
              "    }\n",
              "\n",
              "    .dataframe thead th {\n",
              "        text-align: right;\n",
              "    }\n",
              "</style>\n",
              "<table border=\"1\" class=\"dataframe\">\n",
              "  <thead>\n",
              "    <tr style=\"text-align: right;\">\n",
              "      <th></th>\n",
              "      <th>UF</th>\n",
              "      <th>Sexo</th>\n",
              "      <th>Idade</th>\n",
              "      <th>Cor</th>\n",
              "      <th>Anos de Estudo</th>\n",
              "      <th>Renda</th>\n",
              "      <th>Altura</th>\n",
              "    </tr>\n",
              "  </thead>\n",
              "  <tbody>\n",
              "    <tr>\n",
              "      <th>0</th>\n",
              "      <td>11</td>\n",
              "      <td>0</td>\n",
              "      <td>23</td>\n",
              "      <td>8</td>\n",
              "      <td>12</td>\n",
              "      <td>800</td>\n",
              "      <td>1.603808</td>\n",
              "    </tr>\n",
              "    <tr>\n",
              "      <th>1</th>\n",
              "      <td>11</td>\n",
              "      <td>1</td>\n",
              "      <td>23</td>\n",
              "      <td>2</td>\n",
              "      <td>12</td>\n",
              "      <td>1150</td>\n",
              "      <td>1.739790</td>\n",
              "    </tr>\n",
              "    <tr>\n",
              "      <th>2</th>\n",
              "      <td>11</td>\n",
              "      <td>1</td>\n",
              "      <td>35</td>\n",
              "      <td>8</td>\n",
              "      <td>15</td>\n",
              "      <td>880</td>\n",
              "      <td>1.760444</td>\n",
              "    </tr>\n",
              "    <tr>\n",
              "      <th>3</th>\n",
              "      <td>11</td>\n",
              "      <td>0</td>\n",
              "      <td>46</td>\n",
              "      <td>2</td>\n",
              "      <td>6</td>\n",
              "      <td>3500</td>\n",
              "      <td>1.783158</td>\n",
              "    </tr>\n",
              "    <tr>\n",
              "      <th>4</th>\n",
              "      <td>11</td>\n",
              "      <td>1</td>\n",
              "      <td>47</td>\n",
              "      <td>8</td>\n",
              "      <td>9</td>\n",
              "      <td>150</td>\n",
              "      <td>1.690631</td>\n",
              "    </tr>\n",
              "  </tbody>\n",
              "</table>\n",
              "</div>\n",
              "    <div class=\"colab-df-buttons\">\n",
              "\n",
              "  <div class=\"colab-df-container\">\n",
              "    <button class=\"colab-df-convert\" onclick=\"convertToInteractive('df-4ef198b6-e307-42bc-8d97-3f6fca582b16')\"\n",
              "            title=\"Convert this dataframe to an interactive table.\"\n",
              "            style=\"display:none;\">\n",
              "\n",
              "  <svg xmlns=\"http://www.w3.org/2000/svg\" height=\"24px\" viewBox=\"0 -960 960 960\">\n",
              "    <path d=\"M120-120v-720h720v720H120Zm60-500h600v-160H180v160Zm220 220h160v-160H400v160Zm0 220h160v-160H400v160ZM180-400h160v-160H180v160Zm440 0h160v-160H620v160ZM180-180h160v-160H180v160Zm440 0h160v-160H620v160Z\"/>\n",
              "  </svg>\n",
              "    </button>\n",
              "\n",
              "  <style>\n",
              "    .colab-df-container {\n",
              "      display:flex;\n",
              "      gap: 12px;\n",
              "    }\n",
              "\n",
              "    .colab-df-convert {\n",
              "      background-color: #E8F0FE;\n",
              "      border: none;\n",
              "      border-radius: 50%;\n",
              "      cursor: pointer;\n",
              "      display: none;\n",
              "      fill: #1967D2;\n",
              "      height: 32px;\n",
              "      padding: 0 0 0 0;\n",
              "      width: 32px;\n",
              "    }\n",
              "\n",
              "    .colab-df-convert:hover {\n",
              "      background-color: #E2EBFA;\n",
              "      box-shadow: 0px 1px 2px rgba(60, 64, 67, 0.3), 0px 1px 3px 1px rgba(60, 64, 67, 0.15);\n",
              "      fill: #174EA6;\n",
              "    }\n",
              "\n",
              "    .colab-df-buttons div {\n",
              "      margin-bottom: 4px;\n",
              "    }\n",
              "\n",
              "    [theme=dark] .colab-df-convert {\n",
              "      background-color: #3B4455;\n",
              "      fill: #D2E3FC;\n",
              "    }\n",
              "\n",
              "    [theme=dark] .colab-df-convert:hover {\n",
              "      background-color: #434B5C;\n",
              "      box-shadow: 0px 1px 3px 1px rgba(0, 0, 0, 0.15);\n",
              "      filter: drop-shadow(0px 1px 2px rgba(0, 0, 0, 0.3));\n",
              "      fill: #FFFFFF;\n",
              "    }\n",
              "  </style>\n",
              "\n",
              "    <script>\n",
              "      const buttonEl =\n",
              "        document.querySelector('#df-4ef198b6-e307-42bc-8d97-3f6fca582b16 button.colab-df-convert');\n",
              "      buttonEl.style.display =\n",
              "        google.colab.kernel.accessAllowed ? 'block' : 'none';\n",
              "\n",
              "      async function convertToInteractive(key) {\n",
              "        const element = document.querySelector('#df-4ef198b6-e307-42bc-8d97-3f6fca582b16');\n",
              "        const dataTable =\n",
              "          await google.colab.kernel.invokeFunction('convertToInteractive',\n",
              "                                                    [key], {});\n",
              "        if (!dataTable) return;\n",
              "\n",
              "        const docLinkHtml = 'Like what you see? Visit the ' +\n",
              "          '<a target=\"_blank\" href=https://colab.research.google.com/notebooks/data_table.ipynb>data table notebook</a>'\n",
              "          + ' to learn more about interactive tables.';\n",
              "        element.innerHTML = '';\n",
              "        dataTable['output_type'] = 'display_data';\n",
              "        await google.colab.output.renderOutput(dataTable, element);\n",
              "        const docLink = document.createElement('div');\n",
              "        docLink.innerHTML = docLinkHtml;\n",
              "        element.appendChild(docLink);\n",
              "      }\n",
              "    </script>\n",
              "  </div>\n",
              "\n",
              "\n",
              "    <div id=\"df-894b0773-273d-4fa7-a2b8-35f1dce505fe\">\n",
              "      <button class=\"colab-df-quickchart\" onclick=\"quickchart('df-894b0773-273d-4fa7-a2b8-35f1dce505fe')\"\n",
              "                title=\"Suggest charts\"\n",
              "                style=\"display:none;\">\n",
              "\n",
              "<svg xmlns=\"http://www.w3.org/2000/svg\" height=\"24px\"viewBox=\"0 0 24 24\"\n",
              "     width=\"24px\">\n",
              "    <g>\n",
              "        <path d=\"M19 3H5c-1.1 0-2 .9-2 2v14c0 1.1.9 2 2 2h14c1.1 0 2-.9 2-2V5c0-1.1-.9-2-2-2zM9 17H7v-7h2v7zm4 0h-2V7h2v10zm4 0h-2v-4h2v4z\"/>\n",
              "    </g>\n",
              "</svg>\n",
              "      </button>\n",
              "\n",
              "<style>\n",
              "  .colab-df-quickchart {\n",
              "      --bg-color: #E8F0FE;\n",
              "      --fill-color: #1967D2;\n",
              "      --hover-bg-color: #E2EBFA;\n",
              "      --hover-fill-color: #174EA6;\n",
              "      --disabled-fill-color: #AAA;\n",
              "      --disabled-bg-color: #DDD;\n",
              "  }\n",
              "\n",
              "  [theme=dark] .colab-df-quickchart {\n",
              "      --bg-color: #3B4455;\n",
              "      --fill-color: #D2E3FC;\n",
              "      --hover-bg-color: #434B5C;\n",
              "      --hover-fill-color: #FFFFFF;\n",
              "      --disabled-bg-color: #3B4455;\n",
              "      --disabled-fill-color: #666;\n",
              "  }\n",
              "\n",
              "  .colab-df-quickchart {\n",
              "    background-color: var(--bg-color);\n",
              "    border: none;\n",
              "    border-radius: 50%;\n",
              "    cursor: pointer;\n",
              "    display: none;\n",
              "    fill: var(--fill-color);\n",
              "    height: 32px;\n",
              "    padding: 0;\n",
              "    width: 32px;\n",
              "  }\n",
              "\n",
              "  .colab-df-quickchart:hover {\n",
              "    background-color: var(--hover-bg-color);\n",
              "    box-shadow: 0 1px 2px rgba(60, 64, 67, 0.3), 0 1px 3px 1px rgba(60, 64, 67, 0.15);\n",
              "    fill: var(--button-hover-fill-color);\n",
              "  }\n",
              "\n",
              "  .colab-df-quickchart-complete:disabled,\n",
              "  .colab-df-quickchart-complete:disabled:hover {\n",
              "    background-color: var(--disabled-bg-color);\n",
              "    fill: var(--disabled-fill-color);\n",
              "    box-shadow: none;\n",
              "  }\n",
              "\n",
              "  .colab-df-spinner {\n",
              "    border: 2px solid var(--fill-color);\n",
              "    border-color: transparent;\n",
              "    border-bottom-color: var(--fill-color);\n",
              "    animation:\n",
              "      spin 1s steps(1) infinite;\n",
              "  }\n",
              "\n",
              "  @keyframes spin {\n",
              "    0% {\n",
              "      border-color: transparent;\n",
              "      border-bottom-color: var(--fill-color);\n",
              "      border-left-color: var(--fill-color);\n",
              "    }\n",
              "    20% {\n",
              "      border-color: transparent;\n",
              "      border-left-color: var(--fill-color);\n",
              "      border-top-color: var(--fill-color);\n",
              "    }\n",
              "    30% {\n",
              "      border-color: transparent;\n",
              "      border-left-color: var(--fill-color);\n",
              "      border-top-color: var(--fill-color);\n",
              "      border-right-color: var(--fill-color);\n",
              "    }\n",
              "    40% {\n",
              "      border-color: transparent;\n",
              "      border-right-color: var(--fill-color);\n",
              "      border-top-color: var(--fill-color);\n",
              "    }\n",
              "    60% {\n",
              "      border-color: transparent;\n",
              "      border-right-color: var(--fill-color);\n",
              "    }\n",
              "    80% {\n",
              "      border-color: transparent;\n",
              "      border-right-color: var(--fill-color);\n",
              "      border-bottom-color: var(--fill-color);\n",
              "    }\n",
              "    90% {\n",
              "      border-color: transparent;\n",
              "      border-bottom-color: var(--fill-color);\n",
              "    }\n",
              "  }\n",
              "</style>\n",
              "\n",
              "      <script>\n",
              "        async function quickchart(key) {\n",
              "          const quickchartButtonEl =\n",
              "            document.querySelector('#' + key + ' button');\n",
              "          quickchartButtonEl.disabled = true;  // To prevent multiple clicks.\n",
              "          quickchartButtonEl.classList.add('colab-df-spinner');\n",
              "          try {\n",
              "            const charts = await google.colab.kernel.invokeFunction(\n",
              "                'suggestCharts', [key], {});\n",
              "          } catch (error) {\n",
              "            console.error('Error during call to suggestCharts:', error);\n",
              "          }\n",
              "          quickchartButtonEl.classList.remove('colab-df-spinner');\n",
              "          quickchartButtonEl.classList.add('colab-df-quickchart-complete');\n",
              "        }\n",
              "        (() => {\n",
              "          let quickchartButtonEl =\n",
              "            document.querySelector('#df-894b0773-273d-4fa7-a2b8-35f1dce505fe button');\n",
              "          quickchartButtonEl.style.display =\n",
              "            google.colab.kernel.accessAllowed ? 'block' : 'none';\n",
              "        })();\n",
              "      </script>\n",
              "    </div>\n",
              "\n",
              "    </div>\n",
              "  </div>\n"
            ],
            "application/vnd.google.colaboratory.intrinsic+json": {
              "type": "dataframe",
              "variable_name": "dados",
              "summary": "{\n  \"name\": \"dados\",\n  \"rows\": 76840,\n  \"fields\": [\n    {\n      \"column\": \"UF\",\n      \"properties\": {\n        \"dtype\": \"number\",\n        \"std\": 11,\n        \"min\": 11,\n        \"max\": 53,\n        \"num_unique_values\": 27,\n        \"samples\": [\n          22,\n          27,\n          23\n        ],\n        \"semantic_type\": \"\",\n        \"description\": \"\"\n      }\n    },\n    {\n      \"column\": \"Sexo\",\n      \"properties\": {\n        \"dtype\": \"number\",\n        \"std\": 0,\n        \"min\": 0,\n        \"max\": 1,\n        \"num_unique_values\": 2,\n        \"samples\": [\n          1,\n          0\n        ],\n        \"semantic_type\": \"\",\n        \"description\": \"\"\n      }\n    },\n    {\n      \"column\": \"Idade\",\n      \"properties\": {\n        \"dtype\": \"number\",\n        \"std\": 12,\n        \"min\": 13,\n        \"max\": 99,\n        \"num_unique_values\": 84,\n        \"samples\": [\n          88,\n          23\n        ],\n        \"semantic_type\": \"\",\n        \"description\": \"\"\n      }\n    },\n    {\n      \"column\": \"Cor\",\n      \"properties\": {\n        \"dtype\": \"number\",\n        \"std\": 2,\n        \"min\": 0,\n        \"max\": 8,\n        \"num_unique_values\": 5,\n        \"samples\": [\n          2,\n          0\n        ],\n        \"semantic_type\": \"\",\n        \"description\": \"\"\n      }\n    },\n    {\n      \"column\": \"Anos de Estudo\",\n      \"properties\": {\n        \"dtype\": \"number\",\n        \"std\": 4,\n        \"min\": 1,\n        \"max\": 17,\n        \"num_unique_values\": 17,\n        \"samples\": [\n          12,\n          15\n        ],\n        \"semantic_type\": \"\",\n        \"description\": \"\"\n      }\n    },\n    {\n      \"column\": \"Renda\",\n      \"properties\": {\n        \"dtype\": \"number\",\n        \"std\": 3323,\n        \"min\": 0,\n        \"max\": 200000,\n        \"num_unique_values\": 1606,\n        \"samples\": [\n          3279,\n          2456\n        ],\n        \"semantic_type\": \"\",\n        \"description\": \"\"\n      }\n    },\n    {\n      \"column\": \"Altura\",\n      \"properties\": {\n        \"dtype\": \"number\",\n        \"std\": 0.07971743006825309,\n        \"min\": 1.339244614,\n        \"max\": 2.028496765,\n        \"num_unique_values\": 76831,\n        \"samples\": [\n          1.616531581,\n          1.799777606\n        ],\n        \"semantic_type\": \"\",\n        \"description\": \"\"\n      }\n    }\n  ]\n}"
            }
          },
          "metadata": {},
          "execution_count": 10
        }
      ],
      "source": [
        "dados.head()"
      ]
    },
    {
      "cell_type": "markdown",
      "source": [
        "# Distribuição binomial"
      ],
      "metadata": {
        "id": "qGPqi4p2MkZ3"
      }
    },
    {
      "cell_type": "markdown",
      "source": [
        "Iniciaremos de fato nosso curso abordando as Distribuições Teóricas de Probabilidade.\n",
        "\n",
        "Quando avaliamos a forma como a variável aleatória se distribui, conseguimos definir diferentes tipos de Distribuições de Frequência ou de Probabilidade, como vimos no curso anterior a este.\n",
        "\n",
        "Neste primeiro passo, falaremos sobre as três importantes que são muito utilizadas em estatística: Binomial, a Poisson e a famosa Normal.\n",
        "\n",
        "Começaremos lidando com alguns problemas, e depois tentaremos encaixá-los nas Distribuições para solucioná-los.\n",
        "\n",
        "Um Evento Binomial é caracterizado pela possibilidade de ocorrência de apenas duas categorias; ou é sim ou é não, verdadeiro e falso, sucesso ou fracasso e etc.\n",
        "\n",
        "A soma dessas duas categorias é o Espaço Amostral, ou seja, o total de eventos possíveis dentro de um experimento.\n",
        "\n",
        "Por exemplo, o lançamento de uma moeda pode ter a face \"cara\" ou a \"coroa\", e esse é o Espaço Amostral com duas possibilidades.\n",
        "\n",
        "Em outro exemplo de um lançamento de dado de seis faces, só poderemos ter seis resultados possíveis: 1, 2, 3, 4, 5, ou 6.\n",
        "\n",
        "Na fórmula, teremos a probabilidade de ocorrer k representada por P vezes k, o qual é um número de eventos desejados que tenham sucesso."
      ],
      "metadata": {
        "id": "uKXlchv1Mp9h"
      }
    },
    {
      "cell_type": "markdown",
      "metadata": {
        "id": "-z3bLQIUG3Hv"
      },
      "source": [
        "---\n",
        "---"
      ]
    },
    {
      "cell_type": "markdown",
      "metadata": {
        "id": "tL9xVLwTX07g"
      },
      "source": [
        "# <font color=green>2 DISTRIBUIÇÕES DE PROBABILIDADE</font>\n",
        "***"
      ]
    },
    {
      "cell_type": "markdown",
      "metadata": {
        "id": "3nlvC-5qG3Bj"
      },
      "source": [
        "## <font color=red>Problema</font>\n",
        "***"
      ]
    },
    {
      "cell_type": "markdown",
      "metadata": {
        "id": "8CclIz9oG3Bk"
      },
      "source": [
        "Em um concurso para preencher uma vaga de cientista de dados temos um total de **10 questões** de múltipla escolha com **3 alternativas possíveis** em cada questão. **Cada questão tem o mesmo valor.** Suponha que um candidato resolva se aventurar sem ter estudado absolutamente nada. Ele resolve fazer a prova de olhos vendados e chutar todas as resposta. Assumindo que a prova **vale 10 pontos e a nota de corte seja 5**, obtenha a probabilidade deste candidato **acertar 5 questões** e também a probabilidade deste candidato **passar para a próxima etapa do processo seletivo**."
      ]
    },
    {
      "cell_type": "markdown",
      "metadata": {
        "id": "KJxd2KFSYLML"
      },
      "source": [
        "## <font color=green>2.1 Distribuição Binomial</font>\n",
        "***"
      ]
    },
    {
      "cell_type": "markdown",
      "metadata": {
        "id": "mcbl3KbnG3Bq"
      },
      "source": [
        "Um evento **binomial** é caracterizado pela possibilidade de ocorrência de apenas duas categorias. Estas categorias somadas representam todo o espaço amostral, sendo também mutuamente excludentes, ou seja, a ocorrência de uma implica na não ocorrência da outra.\n",
        "\n",
        "Em análises estatísticas o uso mais comum da distribuição binomial é na solução de problemas que envolvem situações de **sucesso** e **fracasso**."
      ]
    },
    {
      "cell_type": "markdown",
      "metadata": {
        "id": "iLoYAuJ9G3Bs"
      },
      "source": [
        "# $$P(k)=\\binom{n}{k} p^k q^{n-k}$$\n",
        "\n",
        "Onde:\n",
        "\n",
        "$p$ = probabilidade de sucesso\n",
        "\n",
        "$q = (1 - p)$ = probabilidade de fracasso\n",
        "\n",
        "$n$ = número de eventos estudados\n",
        "\n",
        "$k$ = número de eventos desejados que tenham sucesso"
      ]
    },
    {
      "cell_type": "markdown",
      "metadata": {
        "id": "PxEgWbFdG3Bt"
      },
      "source": [
        "### Experimento Binomial"
      ]
    },
    {
      "cell_type": "markdown",
      "metadata": {
        "id": "eqQK3Ny-G3Bv"
      },
      "source": [
        "1. Realização de $n$ ensaios idênticos.\n",
        "\n",
        "2. Os ensaios são independentes.\n",
        "\n",
        "3. Somente dois resultados são possíveis, exemplo: Verdadeiro ou falso; Cara ou coroa; Sucesso ou fracasso.\n",
        "\n",
        "4. A probabilidade de sucesso é representada por $p$ e a de fracasso por $1-p=q$. Estas probabilidades não se modificam de ensaio para ensaio."
      ]
    },
    {
      "cell_type": "markdown",
      "source": [
        "O n sobre k entre parênteses é a combinação de n combinados de k em k, o que é um método matemático bem simples de resolver, e temos um método no Python que fará este cálculo. Mais adiante, teremos p da probabilidade de sucesso elevado a k.\n",
        "\n",
        "Por exemplo, se estivermos estudando o número de \"caras\" que ocorrem no lançamento de uma moeda, queremos saber a probabilidade de ocorrer esta face, que obviamente seria de 50% por haver somente duas situações possíveis.\n",
        "\n",
        "Já o elemento q é igual a 1 menos p representando a probabilidade de fracasso. No caso da moeda, seria a probabilidade de obter \"coroa\" de 50% também.\n",
        "\n",
        "A soma das probabilidades p mais q será igual a 1 ou 100%, e o resultado variará de 0 a 1 dependendo do caso.\n",
        "\n",
        "Por fim, n é o número de eventos estudados. Em nosso exemplo das 80 questões em uma prova cuja nota máxima é 10 e a nota de corte é 5, o candidato deverá acertar pelo menos 40 questões, ou seja, a metade que corresponde à nota de corte.\n",
        "\n",
        "Com isso, o n seria 80 e o k seria 40 para o número de eventos mínimos necessários para o candidato ter sucesso.\n",
        "\n",
        "O Experimento Binomial tem etapas que o caracterizam, e se as seguirmos, conseguiremos identificar se o problema pode ser resolvido utilizando Distribuição Binomial ou não.\n",
        "\n",
        "Primeiro, faremos a realização de n ensaios idênticos, como quando jogamos uma moeda; a chance de cair \"cara\" é de 50% e a \"coroa\" de 50% também, e isso acontecerá da mesma maneira nos demais lançamentos.\n",
        "\n",
        "Os ensaios também são independentes entre si, e temos somente dois resultados possíveis como já falamos.\n",
        "\n",
        "A probabilidade de sucesso é representado por p e a de fracasso por q igual a 1 menos p, e não se modificam de ensaio para ensaio em nosso caso, mas claro que há situações em que isso não ocorrerá.\n",
        "\n"
      ],
      "metadata": {
        "id": "b2aFYCuTN0eq"
      }
    },
    {
      "cell_type": "markdown",
      "source": [],
      "metadata": {
        "id": "mXbcvcsmOVVq"
      }
    },
    {
      "cell_type": "markdown",
      "metadata": {
        "id": "mT77udQ0G3Bx"
      },
      "source": [
        "### Média da distribuição binomial"
      ]
    },
    {
      "cell_type": "markdown",
      "metadata": {
        "id": "EGiuemgqG3By"
      },
      "source": [
        "O valor esperado ou a média da distribuição binomial é igual ao número de experimentos realizados multiplicado pela chance de ocorrência do evento.\n",
        "\n",
        "# $$\\mu = n \\times p$$"
      ]
    },
    {
      "cell_type": "markdown",
      "metadata": {
        "id": "1fDLi96OG3Bz"
      },
      "source": [
        "### Desvio padrão da distribuição binomial"
      ]
    },
    {
      "cell_type": "markdown",
      "metadata": {
        "id": "EZojizotG3B1"
      },
      "source": [
        "O desvio padrão é o produto entre o número de experimentos, a probabilidade de sucesso e a probabilidade de fracasso.\n",
        "\n",
        "# $$\\sigma = \\sqrt{n \\times p \\times q}$$"
      ]
    },
    {
      "cell_type": "markdown",
      "source": [
        "Já a média da Distribuição Binomial é representado por μ igual a n vezes p e o Desvio Padrão por σ igual a raiz quadrada de n vezes p vezes q.\n",
        "\n",
        "De volta ao notebook, teremos a parte \"Importando bibliotecas\" onde deveremos importar o comb da biblioteca sipy.special para podermos calcular a combinação de n de k a k representada por Cnk ou n sobre k entre parênteses."
      ],
      "metadata": {
        "id": "5Veee7eSOkD_"
      }
    },
    {
      "cell_type": "markdown",
      "metadata": {
        "id": "udqnjFnsG3B2"
      },
      "source": [
        "### Importando bibliotecas\n",
        "https://docs.scipy.org/doc/scipy/reference/generated/scipy.special.comb.html"
      ]
    },
    {
      "cell_type": "code",
      "execution_count": null,
      "metadata": {
        "id": "-U2sGssNG3B4"
      },
      "outputs": [],
      "source": [
        "from scipy.special import comb"
      ]
    },
    {
      "cell_type": "markdown",
      "source": [
        "Nesta parte, também encontraremos um [link com a documentação do Scipy](https://), contendo informações sobre a funcionalidade comb() que utilizaremos, a qual é justamente o método que resolverá a combinação."
      ],
      "metadata": {
        "id": "oPS5BR6kOx9s"
      }
    },
    {
      "cell_type": "markdown",
      "metadata": {
        "id": "MxxuJNSwG3B7"
      },
      "source": [
        "### Combinações\n",
        "\n",
        "Número de combinações de $n$ objetos, tomados $k$ a cada vez, é:\n",
        "\n",
        "# $$C_{k}^{n} = \\binom{n}{k} = \\frac{n!}{k!(n - k)!}$$\n",
        "\n",
        "Onde\n",
        "\n",
        "## $$n! = n\\times(n-1)\\times(n-2)\\times...\\times(2)\\times(1)$$\n",
        "## $$k! = k\\times(k-1)\\times(k-2)\\times...\\times(2)\\times(1)$$\n",
        "\n",
        "Por definição\n",
        "\n",
        "## $$0! = 1$$"
      ]
    },
    {
      "cell_type": "markdown",
      "metadata": {
        "id": "Udz87Pq3G3B8"
      },
      "source": [
        "## <font color='green'>Exemplo: Mega Sena</font>"
      ]
    },
    {
      "cell_type": "markdown",
      "source": [
        "Em um exemplo prático bem simples da loteria Mega Sena que tem 60 números, descobriremos a probabilidade de ganhar este prêmio. Já que temos um total de 1 a 60 números para escolher onde a aposta mínima é 6 números, deveremos descobrir o Espaço Amostral e as possibilidades por meio da Combinação.\n",
        "\n",
        "Temos apenas uma chance de ganhar na Mega Sena, e precisamos calcular \"1\" dividido pelo Espaço Amostral, o qual é justamente a combinação de 60 números de 6 em 6.\n",
        "\n",
        "Usando o Python, aplicaremos a operação na parte \"Exemplo: Mega Sena\" de nosso notebook. Na primeira célula, criaremos a variável combinacoes sendo igual a comb() recebendo os valores 60 e 6. Para recebermos os resultados, chamaremos apenas combinacoes em seguida."
      ],
      "metadata": {
        "id": "rhv7BydcQCwB"
      }
    },
    {
      "cell_type": "markdown",
      "metadata": {
        "id": "h1Mo9AxyG3B8"
      },
      "source": [
        "Em um volante de loteria da Mega Sena temos um total de **60 números** para escolher onde a aposta mínima é de **seis números**. Você que é curiosa(o) resolve calcular a probabilidade de se acertar na Mega Sena com apenas **um jogo**. Para isso precisamos saber quantas **combinações de seis números podem ser formadas com os 60 números disponíveis**.\n",
        "\n",
        "### $$C_{6}^{60} = \\binom{60}{6} = \\frac{60!}{6!(60 - 6)!}$$"
      ]
    },
    {
      "cell_type": "code",
      "execution_count": null,
      "metadata": {
        "colab": {
          "base_uri": "https://localhost:8080/"
        },
        "id": "c2t7yHl7G3B9",
        "outputId": "c1816cbe-9cdb-4e3e-d9cc-67f6ae7aa370"
      },
      "outputs": [
        {
          "output_type": "execute_result",
          "data": {
            "text/plain": [
              "np.float64(50063860.0)"
            ]
          },
          "metadata": {},
          "execution_count": 17
        }
      ],
      "source": [
        "combinacoes = comb(60, 6)\n",
        "combinacoes"
      ]
    },
    {
      "cell_type": "code",
      "execution_count": null,
      "metadata": {
        "colab": {
          "base_uri": "https://localhost:8080/"
        },
        "id": "LpioeTSXG3CB",
        "outputId": "f3f98824-fa17-4e33-c6ca-1abb81c8a5e2"
      },
      "outputs": [
        {
          "output_type": "execute_result",
          "data": {
            "text/plain": [
              "np.float64(1.997448858318156e-08)"
            ]
          },
          "metadata": {},
          "execution_count": 18
        }
      ],
      "source": [
        "probabilidade = 1 / combinacoes\n",
        "probabilidade"
      ]
    },
    {
      "cell_type": "code",
      "source": [
        "probabilidade = 1 / combinacoes\n",
        "print('%0.15f' % probabilidade)"
      ],
      "metadata": {
        "colab": {
          "base_uri": "https://localhost:8080/"
        },
        "id": "KCyivRasQuuB",
        "outputId": "0438dd8c-7216-4eca-8d23-60f4f59a618a"
      },
      "execution_count": null,
      "outputs": [
        {
          "output_type": "stream",
          "name": "stdout",
          "text": [
            "0.000000019974489\n"
          ]
        }
      ]
    },
    {
      "cell_type": "markdown",
      "source": [
        "Portanto, a chance de ganharmos na Mega Sena é bem pequena, cerca de 0,0000000199%. Aplicando à fórmula, teremos a combinação de 60 de seis em seis números, sendo igual a 60 fatorial OU 60! dividido por 6 fatorial que é multiplicado pela subtração fatorial de 60 menos 6.\n",
        "\n",
        "A seguir, pegaremos o problema que começamos e o resolveremos utilizando a distribuição binomial."
      ],
      "metadata": {
        "id": "acIC_swmQpvc"
      }
    },
    {
      "cell_type": "markdown",
      "metadata": {
        "id": "t1rA1yJpG3CF"
      },
      "source": [
        "## <font color='green'>Exemplo: Concurso para cientista de dados</font>"
      ]
    },
    {
      "cell_type": "markdown",
      "metadata": {
        "id": "K0DPDD37G3CG"
      },
      "source": [
        "Em um concurso para preencher uma vaga de cientista de dados temos um total de **10 questões** de múltipla escolha com **3 alternativas possíveis** em cada questão. **Cada questão tem o mesmo valor.** Suponha que um candidato resolva se aventurar sem ter estudado absolutamente nada. Ele resolve fazer a prova de olhos vendados e chutar todas as resposta. Assumindo que a prova **vale 10 pontos e a nota de corte seja 5**, obtenha a probabilidade deste candidato **acertar 5 questões** e também a probabilidade deste candidato **passar para a próxima etapa do processo seletivo**."
      ]
    },
    {
      "cell_type": "markdown",
      "source": [
        "No passo anterior, recebemos um problema sobre um processo seletivo para uma vaga de trabalho para Cientista de Dados. Neste passo, tentaremos algumas alternativas para resolvê-lo usando a Distribuição Binomial.\n",
        "\n",
        "Na prova deste concurso, temos um total de 10 questões de múltipla escolha com 3 alternativas cada. Cada questão tem o mesmo valor, e suporemos que um candidato fez o teste chutando todas as perguntas de forma aleatória, pois não estudou absolutamente nada.\n",
        "\n",
        "Assumindo que a prova vale 10 pontos e 5 seja a nota de corte, ou seja, uma nota maior a 5 significará aprovação e menor que 5 reprovação, tentaremos descobrir qual a probabilidade do candidato acertar 5 pontos, e de acertar mais que isso e passar para a próxima etapa do processo seletivo, o que são perguntas diferentes.\n",
        "\n",
        "Começaremos pelo primeiro desafio, e a primeira coisa é tentar identificar se este experimento de fato se adequa a uma Distribuição Binomial.\n",
        "\n",
        "Temos 10 questões de múltipla escolha com 3 alternativas cada, ou seja, são ensaios idênticos. Então conseguimos identificar n como 10 e também podemos dizer que são independentes entre si, pois a opção escolhida aleatoriamente em cada questão não influencia em nada na outra.\n",
        "\n",
        "Em seguida, teremos que descobrir se somente dois resultados são possíveis em cada ensaio; dentre as três alternativas de cada questão, somente uma é correta, e o candidato pode acertar a questão ou não. Ou seja, cada ensaio tem somente as duas possibilidades de acerto ou de erro, o que é justamente o que precisamos saber.\n",
        "\n",
        "Portanto, estamos realmente diante de um Experimento Binomial, e só falta definirmos as probabilidades de sucesso e de fracasso, bem como verificar se estas se repetem em cada experimento.\n",
        "\n",
        "Para calcularmos a probabilidade de acerto representada por p, começaremos criando uma variável a numero_de_alternativas_por_questao sendo igual a 3 na parte \"Qual a probabilidade de sucesso (p)?\" de nosso notebook.\n",
        "\n",
        "Na linha seguinte, p será igual a 1 dividido pela última variável. Em seguida, chamaremos apenas p para vermos o resultado."
      ],
      "metadata": {
        "id": "Qg4ev19KREo9"
      }
    },
    {
      "cell_type": "markdown",
      "metadata": {
        "id": "sf-NMPfxG3CH"
      },
      "source": [
        "### Qual o número de ensaios ($n$)?"
      ]
    },
    {
      "cell_type": "code",
      "execution_count": null,
      "metadata": {
        "colab": {
          "base_uri": "https://localhost:8080/"
        },
        "id": "WmnjMTnYG3CH",
        "outputId": "55392e31-d6b2-433c-acea-3d660c350840"
      },
      "outputs": [
        {
          "output_type": "execute_result",
          "data": {
            "text/plain": [
              "10"
            ]
          },
          "metadata": {},
          "execution_count": 20
        }
      ],
      "source": [
        "n = 10\n",
        "n"
      ]
    },
    {
      "cell_type": "markdown",
      "metadata": {
        "id": "1USf9Ro8G3CK"
      },
      "source": [
        "### Os ensaios são independentes?"
      ]
    },
    {
      "cell_type": "markdown",
      "metadata": {
        "id": "82xf2XIkG3CM"
      },
      "source": [
        "Sim. A opção escolhida em uma questão não influencia em nada a opção escolhida em outra questão."
      ]
    },
    {
      "cell_type": "markdown",
      "metadata": {
        "id": "7jN0H5e7G3CN"
      },
      "source": [
        "### Somente dois resultados são possíveis em cada ensaio?"
      ]
    },
    {
      "cell_type": "markdown",
      "metadata": {
        "id": "gGxcY7K8G3CO"
      },
      "source": [
        "Sim. O candidato tem duas possibilidades, ACERTA ou ERRAR uma questão."
      ]
    },
    {
      "cell_type": "markdown",
      "metadata": {
        "id": "MZw2LDQjG3CR"
      },
      "source": [
        "### Qual a probabilidade de sucesso ($p$)?"
      ]
    },
    {
      "cell_type": "markdown",
      "source": [
        "Para calcularmos a probabilidade de acerto representada por p, começaremos criando uma variável a numero_de_alternativas_por_questao sendo igual a 3 na parte \"Qual a probabilidade de sucesso (p)?\" de nosso notebook.\n",
        "\n",
        "Na linha seguinte, p será igual a 1 dividido pela última variável. Em seguida, chamaremos apenas p para vermos o resultado."
      ],
      "metadata": {
        "id": "Jm2jb412R1K0"
      }
    },
    {
      "cell_type": "code",
      "execution_count": null,
      "metadata": {
        "colab": {
          "base_uri": "https://localhost:8080/"
        },
        "id": "AazGDtt0G3CS",
        "outputId": "c5f3a0b3-c9d9-4534-d029-9310127d88fe"
      },
      "outputs": [
        {
          "output_type": "execute_result",
          "data": {
            "text/plain": [
              "0.3333333333333333"
            ]
          },
          "metadata": {},
          "execution_count": 29
        }
      ],
      "source": [
        "numero_de_alternativas_por_questao = 3\n",
        "p = 1 / numero_de_alternativas_por_questao\n",
        "p"
      ]
    },
    {
      "cell_type": "markdown",
      "source": [
        "Com a execução, conseguiremos definir que p é aproximadamente 0,333.\n",
        "\n",
        "Na célula seguinte, a probabilidade de fracasso representada por q será igual a 1 menos p, como já vimos anteriormente."
      ],
      "metadata": {
        "id": "3qxLz2tdSCOw"
      }
    },
    {
      "cell_type": "markdown",
      "metadata": {
        "id": "KPCw41OlG3CX"
      },
      "source": [
        "### Qual a probabilidade de fracasso ($q$)?"
      ]
    },
    {
      "cell_type": "code",
      "execution_count": null,
      "metadata": {
        "colab": {
          "base_uri": "https://localhost:8080/"
        },
        "id": "FRhmjCnpG3CZ",
        "outputId": "1eba587d-773f-482d-e931-56c25dd05f97"
      },
      "outputs": [
        {
          "output_type": "execute_result",
          "data": {
            "text/plain": [
              "0.6666666666666667"
            ]
          },
          "metadata": {},
          "execution_count": 30
        }
      ],
      "source": [
        "q = 1 - p\n",
        "q"
      ]
    },
    {
      "cell_type": "markdown",
      "source": [
        "Feito isso, receberemos o resultado aproximado de 0,6666.\n",
        "\n",
        "Essas duas probabilidade não vão se alterar, pois logicamente não há diferenças entre as questões com 3 alternativas cada, então estamos diante de um experimento em que conseguimos resolver utilizando a Distribuição Binomial.\n",
        "\n",
        "O único ponto que falta da nossa formula é achar o número de eventos desejados que tenham sucesso.\n",
        "\n",
        "Para descobrirmos isso em nosso problema, deveremos pensar um pouco mais porque não está explícito; temos 10 experimentos de mesmo valor em uma prova que vale 10 pontos, e se o candidato acertar metade da prova, terá sucesso e caso contrário obterá reprovação.\n",
        "\n",
        "Logo, queremos saber a chance desta pessoa acertar os 5 pontos da nota de corte escolhendo as alternativas aleatoriamente.\n",
        "\n",
        "Os eventos em que desejamos obter sucesso serão representados pela variável k na célula da parte seguinte do notebook, a qual será igual a 5 relativa à nota de corte. Com isso, já teremos todos os elementos da fórmula.\n",
        "\n",
        "Veremos como solucionar manualmente aplicando a fórmula de Probabilidade por meio da variável probabilidade.\n",
        "\n",
        "Esta será igual a comb() recebendo n e k entre parênteses como primeiro item da fórmula.\n",
        "\n",
        "Isso será multiplicado por p elevado a k, operação esta representada por dois asteriscos seguidos ** também entre parênteses para separarmos as partes da fórmula.\n",
        "\n",
        "Em seguida, teremos q elevado a n menos k. Por fim, imprimiremos a probabilidade em porcentagem com oito casas decimais."
      ],
      "metadata": {
        "id": "yIGDYJC3SNHH"
      }
    },
    {
      "cell_type": "markdown",
      "metadata": {
        "id": "W2htpmzaG3Ce"
      },
      "source": [
        "### Qual o total de eventos que se deseja obter sucesso ($k$)?"
      ]
    },
    {
      "cell_type": "code",
      "execution_count": null,
      "metadata": {
        "colab": {
          "base_uri": "https://localhost:8080/"
        },
        "id": "MmHpiIIuG3Cj",
        "outputId": "9dcebd72-cb58-411b-dd2d-c140e25f1967"
      },
      "outputs": [
        {
          "output_type": "execute_result",
          "data": {
            "text/plain": [
              "5"
            ]
          },
          "metadata": {},
          "execution_count": 31
        }
      ],
      "source": [
        "k = 5\n",
        "k"
      ]
    },
    {
      "cell_type": "markdown",
      "metadata": {
        "id": "r8TZ6DSuG3Cm"
      },
      "source": [
        "### Solução 1"
      ]
    },
    {
      "cell_type": "code",
      "execution_count": null,
      "metadata": {
        "colab": {
          "base_uri": "https://localhost:8080/"
        },
        "id": "tZBbMIzKG3Cn",
        "outputId": "cc71bd2c-02a5-4a66-d8ed-bf0acd918dc9"
      },
      "outputs": [
        {
          "output_type": "stream",
          "name": "stdout",
          "text": [
            "0.13656455\n"
          ]
        }
      ],
      "source": [
        "probabilidade = (comb(n, k)) * (p ** k) * (q ** (n - k))\n",
        "print('%0.8f' % probabilidade)"
      ]
    },
    {
      "cell_type": "markdown",
      "source": [
        "Como retorno, receberemos o resultado 0.13656455 de probabilidade do candidato acertar os cinco pontos da prova.\n",
        "\n",
        "Veremos a segunda maneira de realizarmos o mesmo cálculo de forma mais simples utilizando Python. O primeiro passo é importar binom da biblioteca scipy.stats.\n",
        "\n",
        "Também encontraremos o link para acessar sua documentação e tirarmos qualquer dúvida.\n"
      ],
      "metadata": {
        "id": "7Yd1T9uJTXk8"
      }
    },
    {
      "cell_type": "markdown",
      "metadata": {
        "id": "rDwUvW5UG3Cq"
      },
      "source": [
        "### Importando bibliotecas\n",
        "https://docs.scipy.org/doc/scipy/reference/generated/scipy.stats.binom.html"
      ]
    },
    {
      "cell_type": "code",
      "execution_count": null,
      "metadata": {
        "id": "rhlsI3iLG3Cr"
      },
      "outputs": [],
      "source": [
        "from scipy.stats import binom"
      ]
    },
    {
      "cell_type": "markdown",
      "source": [
        "Na parte \"Solução 2\" de nosso notebook, digitaremos a variável probabilidade sendo igual a binom com o método .pmf() relativo à probability mais function recebendo os parâmetros k, n, p da fórmula.\n",
        "\n",
        "Em seguida, formataremos o resultado da mesma maneira que fizemos anteriormente."
      ],
      "metadata": {
        "id": "8nxFJQSLTnb5"
      }
    },
    {
      "cell_type": "markdown",
      "metadata": {
        "id": "hvj2sYaSG3Ct"
      },
      "source": [
        "### Solução 2"
      ]
    },
    {
      "cell_type": "code",
      "execution_count": null,
      "metadata": {
        "colab": {
          "base_uri": "https://localhost:8080/"
        },
        "id": "OjS1xsz5G3Cu",
        "outputId": "09edcb51-2e2b-4b29-c500-097c5e177e6b"
      },
      "outputs": [
        {
          "output_type": "stream",
          "name": "stdout",
          "text": [
            "0.13656455\n"
          ]
        }
      ],
      "source": [
        "probabilidade = binom.pmf(k, n, p)\n",
        "print('%0.8f' % probabilidade)"
      ]
    },
    {
      "cell_type": "markdown",
      "source": [
        "Com isso, receberemos o mesmo resultado obtido da maneira manual.\n",
        "\n",
        "Portanto, precisamos ter o k, o n e o p no método para calcular tudo isso.\n",
        "\n",
        "Além da probabilidade do candidato tirar a nota mínima para passar no processo seletivo, deveremos também obter as probabilidades do candidato passar tirando notas maiores do que 5, como as notas 6, 7, 8, 9 ou até mesmo 10.\n",
        "\n",
        "Na parte \"Obter a probabilidade do candidato passar\" de nosso notebook, digitaremos na primeira célula binom.pmf() recebendo 5, n e p, depois somaremos com o mesmo método com k sendo 6, depois 7 e assim por diante até 10.\n"
      ],
      "metadata": {
        "id": "5i2VkPkoT2er"
      }
    },
    {
      "cell_type": "markdown",
      "metadata": {
        "id": "cR3Tm8UBIpxb"
      },
      "source": [
        "### Obter a probabilidade do candidato passar"
      ]
    },
    {
      "cell_type": "markdown",
      "metadata": {
        "id": "P9kHzZLAIpxb"
      },
      "source": [
        "### $$P(acertar \\geq 5) = P(5) + P(6) + P(7) + P(8) + P(9) + P10)$$"
      ]
    },
    {
      "cell_type": "code",
      "execution_count": null,
      "metadata": {
        "colab": {
          "base_uri": "https://localhost:8080/"
        },
        "id": "f7XjTOVUIpxb",
        "outputId": "15634371-3cd7-4b02-88ce-d9dca63f4814"
      },
      "outputs": [
        {
          "output_type": "execute_result",
          "data": {
            "text/plain": [
              "np.float64(0.21312808006909476)"
            ]
          },
          "metadata": {},
          "execution_count": 35
        }
      ],
      "source": [
        "binom.pmf(5, n, p) + binom.pmf(6, n, p) + binom.pmf(7, n, p) + binom.pmf(8, n, p) + binom.pmf(9, n, p) + binom.pmf(10, n, p)"
      ]
    },
    {
      "cell_type": "markdown",
      "source": [
        "Como retorno, receberemos o valor de aproximadamente 0.21 relativa à probabilidade do candidato passar na prova.\n",
        "\n",
        "Porém, esta não é a maneira mais interessante de fazer o cálculo; na célula seguinte, usaremos os mesmos argumentos, mas ao invés de passarmos k, poderemos passar uma lista com todos os itens que queremos, ou seja, [5, 6, 7, 8, 9, 10].\n",
        "\n",
        "Ao final, o método fará o cálculo para cada uma das notas. Aplicando o método .sum() ao final do código, faremos a somatória e rodaremos a célula."
      ],
      "metadata": {
        "id": "EMT3y_85Un5p"
      }
    },
    {
      "cell_type": "code",
      "execution_count": null,
      "metadata": {
        "colab": {
          "base_uri": "https://localhost:8080/"
        },
        "id": "TsMpYUiAIpxc",
        "outputId": "68f2dca3-ab6e-45cf-c23c-84654f6b309c"
      },
      "outputs": [
        {
          "output_type": "execute_result",
          "data": {
            "text/plain": [
              "np.float64(0.21312808006909476)"
            ]
          },
          "metadata": {},
          "execution_count": 36
        }
      ],
      "source": [
        "binom.pmf([5, 6, 7, 8, 9, 10], n, p).sum()"
      ]
    },
    {
      "cell_type": "markdown",
      "source": [
        "O resultado será o mesmo do anterior, mas o código está bem mais simples.\n",
        "\n",
        "Dentro de binom, temos as funções .cdf() e .sf(). A primeira é cumulativa, e receberá os parâmetros 4, n, p."
      ],
      "metadata": {
        "id": "QSIBLXYgUs3O"
      }
    },
    {
      "cell_type": "code",
      "execution_count": null,
      "metadata": {
        "colab": {
          "base_uri": "https://localhost:8080/"
        },
        "id": "yemK8w4VIpxc",
        "outputId": "18ccd6a1-5d58-4b4f-a88c-8766a9f8b850"
      },
      "outputs": [
        {
          "output_type": "execute_result",
          "data": {
            "text/plain": [
              "np.float64(0.21312808006909523)"
            ]
          },
          "metadata": {},
          "execution_count": 37
        }
      ],
      "source": [
        "1 - binom.cdf(4, n, p)"
      ]
    },
    {
      "cell_type": "markdown",
      "source": [
        "Este método está calculando e somando as probabilidades do candidato obter 1, 2, 3 e 4 pontos.\n",
        "\n",
        "Porém, queremos justamente o contrário dos pontos para que possa ter sucesso. Logo, os subtrairemos de 1 para obtermos o mesmo resultado de aproximado de 0.21."
      ],
      "metadata": {
        "id": "RTshT7jfUw9E"
      }
    },
    {
      "cell_type": "markdown",
      "source": [
        "Já na célula seguinte, o método .sf() faz exatamente isso recebendo os mesmos parâmetros, sem a subtração."
      ],
      "metadata": {
        "id": "c-cU_UdlU2xX"
      }
    },
    {
      "cell_type": "code",
      "execution_count": null,
      "metadata": {
        "colab": {
          "base_uri": "https://localhost:8080/"
        },
        "id": "7sDrJLF2Ipxd",
        "outputId": "17e39341-4eac-4dfd-a902-7843d12713d3"
      },
      "outputs": [
        {
          "output_type": "execute_result",
          "data": {
            "text/plain": [
              "np.float64(0.21312808006909525)"
            ]
          },
          "metadata": {},
          "execution_count": 38
        }
      ],
      "source": [
        "binom.sf(4, n, p)"
      ]
    },
    {
      "cell_type": "markdown",
      "source": [
        "Esses cálculos responderiam à pergunta de qual seria a probabilidade do candidato conseguir pelo menos a nota de corte 5.\n",
        "\n",
        "A seguir, falaremos sobre a média da Distribuição Binomial na parte \"Exemplo: Gincana\" do notebook."
      ],
      "metadata": {
        "id": "gCEcrAvhU98M"
      }
    },
    {
      "cell_type": "markdown",
      "metadata": {
        "id": "7hAZ4XkMG3Cx"
      },
      "source": [
        "## <font color='green'>Exemplo: Gincana</font>"
      ]
    },
    {
      "cell_type": "markdown",
      "metadata": {
        "id": "l42alRhOG3Cy"
      },
      "source": [
        "Uma cidade do interior realiza todos os anos uma gincana para arrecadar fundos para o hospital da cidade. Na última gincana se sabe que a **proporção de participantes do sexo feminino foi de 60%**. **O total de equipes, com 12 integrantes, inscritas na gincana deste ano é de 30**. Com as informações acima responda: Quantas equipes deverão ser formadas por **8 mulheres**?"
      ]
    },
    {
      "cell_type": "markdown",
      "metadata": {
        "id": "dqBGf6d7G3C0"
      },
      "source": [
        "### Solução"
      ]
    },
    {
      "cell_type": "code",
      "execution_count": null,
      "metadata": {
        "colab": {
          "base_uri": "https://localhost:8080/",
          "height": 34
        },
        "id": "Xw9b6ch3G3C1",
        "outputId": "b4bb8b11-5113-4cc9-bac1-59e9acaf67e6"
      },
      "outputs": [
        {
          "data": {
            "text/plain": [
              "0.6"
            ]
          },
          "execution_count": 18,
          "metadata": {},
          "output_type": "execute_result"
        }
      ],
      "source": [
        "p = 0.6\n",
        "p"
      ]
    },
    {
      "cell_type": "code",
      "execution_count": null,
      "metadata": {
        "colab": {
          "base_uri": "https://localhost:8080/",
          "height": 34
        },
        "id": "R3-RaxP5G3C3",
        "outputId": "180b09ba-666e-47c9-b476-224c71fdd5c0"
      },
      "outputs": [
        {
          "data": {
            "text/plain": [
              "12"
            ]
          },
          "execution_count": 19,
          "metadata": {},
          "output_type": "execute_result"
        }
      ],
      "source": [
        "n = 12\n",
        "n"
      ]
    },
    {
      "cell_type": "code",
      "execution_count": null,
      "metadata": {
        "colab": {
          "base_uri": "https://localhost:8080/",
          "height": 34
        },
        "id": "otBHHyD0G3C6",
        "outputId": "c3bdd1ab-763a-43db-ec2e-fb890aa78e3f"
      },
      "outputs": [
        {
          "data": {
            "text/plain": [
              "8"
            ]
          },
          "execution_count": 20,
          "metadata": {},
          "output_type": "execute_result"
        }
      ],
      "source": [
        "k = 8\n",
        "k"
      ]
    },
    {
      "cell_type": "code",
      "execution_count": null,
      "metadata": {
        "colab": {
          "base_uri": "https://localhost:8080/",
          "height": 34
        },
        "id": "ZAoBvbQqG3C9",
        "outputId": "62d68ce0-f87f-4879-cc48-4358a7f23a68"
      },
      "outputs": [
        {
          "name": "stdout",
          "output_type": "stream",
          "text": [
            "0.21284094\n"
          ]
        }
      ],
      "source": [
        "probabilidade = binom.pmf(k, n, p)\n",
        "print('%0.8f' % probabilidade)"
      ]
    },
    {
      "cell_type": "code",
      "execution_count": null,
      "metadata": {
        "colab": {
          "base_uri": "https://localhost:8080/",
          "height": 34
        },
        "id": "Tg53uGL4G3DA",
        "outputId": "cf68634d-68fd-41c5-a9a1-98c5ead8b548"
      },
      "outputs": [
        {
          "data": {
            "text/plain": [
              "6.385228185599988"
            ]
          },
          "execution_count": 22,
          "metadata": {},
          "output_type": "execute_result"
        }
      ],
      "source": [
        "equipes = 30 * probabilidade\n",
        "equipes"
      ]
    },
    {
      "cell_type": "markdown",
      "source": [
        "## Aplicação da média"
      ],
      "metadata": {
        "id": "nCMn2ht2Vezd"
      }
    },
    {
      "cell_type": "markdown",
      "source": [
        "Neste passo, usaremos o conceito de média da Distribuição Binomial em um novo problema como exercício.\n",
        "\n",
        "Temos uma cidade do interior que realiza todos os anos uma gincana para arrecadar fundos para o hospital da cidade. Na última, a proporção de participantes do sexo feminino foi de 60% e o total foi de 30 equipes com 12 integrantes cada uma.\n",
        "\n",
        "Com as informações acima, deveremos responder quantas equipes são formadas por 8 mulheres.\n",
        "\n",
        "Então teremos que dividir esse experimento em duas partes; primeiro, descobriremos qual a probabilidade de uma equipe ser formada por 8 mulheres e 4 homens, e então calcularemos quantas das 30 equipes são formadas por 8 mulheres em média.\n",
        "\n",
        "Nesta situação, o Experimento Binomial está na seleção de pessoas para compor a equipe, que podem ser homens ou mulheres.\n",
        "\n",
        "Com uma proporção de 60% de participantes femininas e 40% masculinos por consequência, a chance de selecionarmos aleatoriamente alguma mulher é um pouco maior do que um homem, e teremos que realizar isso 12 vezes que é o número de integrantes.\n",
        "\n",
        "De volta ao nosso notebook na parte \"Exemplo: Gincana\", a probabilidade de sucesso no caso das mulheres é de 60%, ou seja, p seria 0,6, enquanto n seria as 12 vezes do experimento binomial onde selecionamos alguém para as equipes.\n",
        "\n",
        "Dentre as 30 equipes de 12 integrantes, descobriremos qual a chance de termos 8 mulheres e 4 homens.\n",
        "\n",
        "Para isso, eu tenho um k igual a probabilidade de termos 8 mulheres em uma equipe.\n",
        "\n",
        "Digitaremos os elementos nas células e as rodaremos."
      ],
      "metadata": {
        "id": "F2dggVtUVk45"
      }
    },
    {
      "cell_type": "code",
      "source": [
        "p = 0.6"
      ],
      "metadata": {
        "id": "gH25W4W4Vnbu"
      },
      "execution_count": null,
      "outputs": []
    },
    {
      "cell_type": "code",
      "source": [
        "n = 12"
      ],
      "metadata": {
        "id": "4NN8xBIPV0xO"
      },
      "execution_count": null,
      "outputs": []
    },
    {
      "cell_type": "code",
      "source": [
        "k = 8"
      ],
      "metadata": {
        "id": "rv53XYCQV5Go"
      },
      "execution_count": null,
      "outputs": []
    },
    {
      "cell_type": "markdown",
      "source": [
        "Com isso, teremos todos os elementos suficientes para aplicar a fórmula estudada no passo anterior. Poderemos copiá-la e colá-la na célula seguinte."
      ],
      "metadata": {
        "id": "giI5SSa-V9HH"
      }
    },
    {
      "cell_type": "code",
      "source": [
        "probabilidade = binom.pmf(k, n, p)\n",
        "print('%0.8f' % probabilidade)"
      ],
      "metadata": {
        "colab": {
          "base_uri": "https://localhost:8080/"
        },
        "id": "Wk82d4imV-ab",
        "outputId": "b231fb6f-df1d-4bff-ada1-29f9ec6007b5"
      },
      "execution_count": null,
      "outputs": [
        {
          "output_type": "stream",
          "name": "stdout",
          "text": [
            "0.21284094\n"
          ]
        }
      ]
    },
    {
      "cell_type": "markdown",
      "source": [
        "Com esta execução, teremos a chance de aproximadamente 21.28% de uma equipe ser selecionada com 8 mulheres e 4 homens.\n",
        "\n",
        "Porém, queremos saber quantas dessas 30 equipes serão formadas com esta configuração, então n passará a ser 30.\n",
        "\n",
        "Para isso, usaremos o conceito da Média de Distribuição Binomial, cuja fórmula é μ igual a n vezes esta probabilidade p de termos 8 mulheres na equipe.\n",
        "\n",
        "Dentro da variável equipes na célula seguinte, digitaremos 30 multiplicado pela variável probabilidade."
      ],
      "metadata": {
        "id": "LZIyVCMaWTRY"
      }
    },
    {
      "cell_type": "code",
      "source": [
        "equipes = 30 * probabilidade\n",
        "equipes"
      ],
      "metadata": {
        "colab": {
          "base_uri": "https://localhost:8080/"
        },
        "id": "utl_2EUuWZ7O",
        "outputId": "9f99079a-f872-4d61-9144-bbf522fedf59"
      },
      "execution_count": null,
      "outputs": [
        {
          "output_type": "execute_result",
          "data": {
            "text/plain": [
              "np.float64(6.3852281856)"
            ]
          },
          "metadata": {},
          "execution_count": 43
        }
      ]
    },
    {
      "cell_type": "markdown",
      "metadata": {
        "id": "49TiCQRvG3DC"
      },
      "source": [
        "---\n",
        "---"
      ]
    },
    {
      "cell_type": "markdown",
      "source": [
        "Como retorno, teremos o número aproximado de 6,38 equipes como a média. Porém, como logicamente estas devem ser representadas em números inteiros, poderemos arredondar sem problemas para darmos a resposta à questão da gincana.\n",
        "\n",
        "A seguir, abordaremos outras Distribuições de Probabilidade."
      ],
      "metadata": {
        "id": "N3fuxJsWWgV2"
      }
    },
    {
      "cell_type": "markdown",
      "metadata": {
        "id": "X6bYonAZG3DE"
      },
      "source": [
        "## <font color=red>Problema</font>\n",
        "***"
      ]
    },
    {
      "cell_type": "markdown",
      "metadata": {
        "id": "Ccx-Bc9oG3DH"
      },
      "source": [
        "Um restaurante recebe em média **20 pedidos por hora**. Qual a chance de que, em determinada hora escolhida ao acaso, o restaurante receba **15 pedidos**?"
      ]
    },
    {
      "cell_type": "markdown",
      "metadata": {
        "id": "k-uV7bgsmand"
      },
      "source": [
        "## <font color=green>2.2 Distribuição Poisson</font>\n",
        "***"
      ]
    },
    {
      "cell_type": "markdown",
      "source": [
        "Continuando com as Distribuições de Probabilidade, encontraremos mais um novo problema para resolvermos.\n",
        "\n",
        "Um restaurante recebe em média 20 pedidos por hora, e deveremos descobrir qual a chance do restaurante receber 15 pedidos em uma determinada hora escolhida ao acaso.\n",
        "\n",
        "Conseguiremos resolvera questão utilizando a Distribuição de Probabilidade Poisson.\n",
        "\n",
        "Na parte \"2.2 Distribuição Poisson\" do notebook, encontraremos um texto para consultarmos no futuro caso queiramos entender melhor seu funcionamento, sua fórmula e seus componentes específicos.\n",
        "\n",
        "Essa Distribuição é empregada para descrever número de ocorrências em um intervalo de tempo ou espaço específico, que nos permite contabilizar o sucesso, mas é impossível contar os fracassos, por exemplo.\n",
        "\n",
        "Em um rápido exemplo de aplicação da Poisson, temos 1 quilometro de estrada em que conseguimos contabilizar o número de buracos neste trecho, mas não podemos contar o número de não-buracos.\n",
        "\n",
        "Em um período de uma hora, podemos contabilizar quantas pessoas entraram em determinada loja do shopping, mas não podemos contar as pessoas que não entraram.\n",
        "\n",
        "Calcularemos com base nesta fórmula:"
      ],
      "metadata": {
        "id": "YpN9KypTW_-0"
      }
    },
    {
      "cell_type": "markdown",
      "metadata": {
        "id": "H0jPtJICG3DM"
      },
      "source": [
        "É empregada para descrever o número de ocorrências em um intervalo de tempo ou espaço específico. Os eventos são caracterizados pela possibilidade de contagem dos sucessos, mas a não possibilidade de contagem dos fracassos.\n",
        "\n",
        "Como exemplos de processos onde podemos aplicar a distribuição de Poisson temos a determinação do número de clientes que entram em uma loja em determinada hora, o número de carros que chegam em um drive-thru de uma lanchonete na hora do almoço, a determinação do número de acidentes registrados em um trecho de estrada etc."
      ]
    },
    {
      "cell_type": "markdown",
      "metadata": {
        "id": "O_XqwANJG3DN"
      },
      "source": [
        "# $$P(k) = \\frac{e^{-\\mu}(\\mu)^k}{k!}$$\n",
        "\n",
        "Onde:\n",
        "\n",
        "$e$ = constante cujo valor aproximado é 2,718281828459045\n",
        "\n",
        "$\\mu$ = representa o número médio de ocorrências em um determinado intervalo de tempo ou espaço\n",
        "\n",
        "$k$ = número de sucessos no intervalo desejado"
      ]
    },
    {
      "cell_type": "markdown",
      "metadata": {
        "id": "FqquU8wOG3DO"
      },
      "source": [
        "### Experimento Poisson"
      ]
    },
    {
      "cell_type": "markdown",
      "metadata": {
        "id": "ir2odEW3G3DO"
      },
      "source": [
        "1. A probabilidade de uma ocorrência é a mesma em todo o intervalo observado.\n",
        "\n",
        "2. O número de ocorrências em determinado intervalo é independente do número de ocorrências em outros intervalos.\n",
        "\n",
        "3. A probabilidade de uma ocorrência é a mesma em intervalos de igual comprimento."
      ]
    },
    {
      "cell_type": "markdown",
      "metadata": {
        "id": "2INlWMa0G3DP"
      },
      "source": [
        "### Média da distribuição Poisson"
      ]
    },
    {
      "cell_type": "markdown",
      "metadata": {
        "id": "xywTsniCG3DP"
      },
      "source": [
        "# $$\\mu$$"
      ]
    },
    {
      "cell_type": "markdown",
      "metadata": {
        "id": "7-Lh-LpfG3DQ"
      },
      "source": [
        "### Desvio padrão da distribuição Poisson"
      ]
    },
    {
      "cell_type": "markdown",
      "metadata": {
        "id": "61uStWUsG3DQ"
      },
      "source": [
        "# $$\\sigma = \\sqrt{\\mu}$$"
      ]
    },
    {
      "cell_type": "markdown",
      "source": [
        "Nesta, temos a probabilidade p com k sendo o número de sucesso no intervalo desejado, ou seja, tempo e espaço como vimos anteriormente.\n",
        "\n",
        "O elemento e é a constante matemática número de Euler, e representado pelo valor aproximado 2,718281828459045.\n",
        "\n",
        "Veremos como obteremos este número utilizando especificamente o NumPy.\n",
        "\n",
        "Já o µ representa a Média da Distribuição Poisson com o número médio de ocorrências em um determinado intervalo de tempo ou espaço, e às vezes µ precisa ser calculado dependendo do problema a ser resolvido.\n",
        "\n",
        "O Experimento Poisson tem as características similares ao Binomial, pois a probabilidade de ocorrência é igual em todo o intervalo observado.\n",
        "\n",
        "O número de ocorrências em determinado intervalo é independente do número de ocorrências em outros intervalos; essa independência é importante, pois a probabilidade de uma ocorrência é a mesma em intervalos de igual comprimento, ou em determinada hora, ou de uma pessoa entrar no shopping e etc.\n",
        "\n",
        "Por fim, o desvio padrão é a raiz quadrada do µ.\n",
        "\n",
        "Primeiro, importaremos o numpy como np usando as. Com isso, traremos o número de Euler, constantes matemáticas, número neperiano e etc."
      ],
      "metadata": {
        "id": "wz8xsU-sXPFB"
      }
    },
    {
      "cell_type": "markdown",
      "metadata": {
        "id": "vniBmzIMG3DR"
      },
      "source": [
        "### Importando bibliotecas\n",
        "\n",
        "http://www.numpy.org/"
      ]
    },
    {
      "cell_type": "code",
      "execution_count": null,
      "metadata": {
        "id": "w23fjVT-G3DS"
      },
      "outputs": [],
      "source": [
        "import numpy as np"
      ]
    },
    {
      "cell_type": "code",
      "execution_count": null,
      "metadata": {
        "colab": {
          "base_uri": "https://localhost:8080/"
        },
        "id": "rdNqMuFNG3DU",
        "outputId": "65a849d0-ef15-470d-bc29-7cdb64bebd65"
      },
      "outputs": [
        {
          "output_type": "execute_result",
          "data": {
            "text/plain": [
              "2.718281828459045"
            ]
          },
          "metadata": {},
          "execution_count": 44
        }
      ],
      "source": [
        "np.e"
      ]
    },
    {
      "cell_type": "markdown",
      "source": [
        "Com isso, receberemos o valor aproximado de 2,718281828459045.\n",
        "\n",
        "A seguir, resolveremos o problema apresentado no começo da aula utilizando a distribuição de Poisson."
      ],
      "metadata": {
        "id": "sSXMtWy5XbTT"
      }
    },
    {
      "cell_type": "markdown",
      "metadata": {
        "id": "RKQWuVgMG3DW"
      },
      "source": [
        "## <font color='grees'>Exemplo: Delivery</font>"
      ]
    },
    {
      "cell_type": "markdown",
      "metadata": {
        "id": "ZKc__49bG3DX"
      },
      "source": [
        "Um restaurante recebe em média **20 pedidos por hora**. Qual a chance de que, em determinada hora escolhida ao acaso, o restaurante receba **15 pedidos**?"
      ]
    },
    {
      "cell_type": "markdown",
      "source": [
        "Para isso, aplicaremos a fórmula de Poisson, em que será possível identificarmos e contabilizarmos os sucessos.\n",
        "\n",
        "Já sabemos quantos pedidos o restaurante recebe, mas não conseguimos contabilizar quantos pedidos não recebe, pois não faz sentido nesta situação. Isso caracteriza muito a aplicação de uma Distribuição Poisson.\n",
        "\n",
        "A primeira pergunta sobre qual o número médio de ocorrências por hora representado pelo µ da fórmula será armazenada na variável media.\n",
        "\n",
        "Esta informação já está no problema; o restaurante recebe, em média, 20 pedidos num período de uma hora. Logo, isso é o número de ocorrências em determinado período de tempo ou espaço, então media será igual a 20."
      ],
      "metadata": {
        "id": "VONAlV1KXsC3"
      }
    },
    {
      "cell_type": "markdown",
      "metadata": {
        "id": "W-MJ4XBkG3DX"
      },
      "source": [
        "### Qual o número médio de ocorrências por hora ($\\mu$)?"
      ]
    },
    {
      "cell_type": "code",
      "execution_count": null,
      "metadata": {
        "colab": {
          "base_uri": "https://localhost:8080/"
        },
        "id": "2fVfJxdSG3DY",
        "outputId": "f8175f22-b57e-471e-d13c-ceb353119831"
      },
      "outputs": [
        {
          "output_type": "execute_result",
          "data": {
            "text/plain": [
              "20"
            ]
          },
          "metadata": {},
          "execution_count": 53
        }
      ],
      "source": [
        "media = 20\n",
        "media"
      ]
    },
    {
      "cell_type": "markdown",
      "source": [
        "Em seguida, o número de ocorrências que queremos obter no período será o k da fórmula, ou seja, a chance do restaurante receber 15 pedidos em uma hora aleatória do dia. Portanto, k será igual a 15."
      ],
      "metadata": {
        "id": "o-HFhW0SXzTy"
      }
    },
    {
      "cell_type": "markdown",
      "metadata": {
        "id": "3SagRtPvG3Da"
      },
      "source": [
        "### Qual o número de ocorrências que queremos obter no período ($k$)?"
      ]
    },
    {
      "cell_type": "code",
      "execution_count": null,
      "metadata": {
        "colab": {
          "base_uri": "https://localhost:8080/"
        },
        "id": "yXB3QhWyG3Da",
        "outputId": "e847c5b6-b85f-4953-ec43-9f4f6fb26d13"
      },
      "outputs": [
        {
          "output_type": "execute_result",
          "data": {
            "text/plain": [
              "15"
            ]
          },
          "metadata": {},
          "execution_count": 52
        }
      ],
      "source": [
        "k = 15\n",
        "k"
      ]
    },
    {
      "cell_type": "markdown",
      "source": [
        "Faremos uma solução manual na parte \"Solução 1\", e na \"Solução 2\" usaremos os recursos do Python de forma mais simples, da mesma maneira que realizamos anteriormente na Distribuição Binomial.\n",
        "\n",
        "A variável probabilidade será igual às três partes da fórmula separadas por parênteses para começarmos."
      ],
      "metadata": {
        "id": "0c_AsN9ZYC4f"
      }
    },
    {
      "cell_type": "code",
      "source": [
        "probabilidade = () * () / ()"
      ],
      "metadata": {
        "id": "LaPUWNVzYFpT"
      },
      "execution_count": null,
      "outputs": []
    },
    {
      "cell_type": "markdown",
      "source": [
        "A primeira parte será e elevado a -media com uso de dois asteriscos ** e parênteses, e já vimos como obter essa constante matemática com np.e.\n",
        "\n",
        "Na segunda parte da fórmula, teremos a média elevada a k. Em seguida, englobaremos até este trecho entre parênteses novamente para não confundirmos com a divisão pelo k!.\n",
        "\n",
        "O numpy também tem essa função matemática para calcular o k fatorial, lembrando que é um produtório de uma contagem regressiva como já sabemos. Então usaremos o método np.math.factorial() recebendo o k.\n",
        "\n",
        "Por fim, exibiremos o resultado da probabilidade com o print() de '%o.8f' para formatarmos melhor."
      ],
      "metadata": {
        "id": "M5pJKqb4YOHR"
      }
    },
    {
      "cell_type": "markdown",
      "metadata": {
        "id": "3wFh3lFCG3De"
      },
      "source": [
        "### Solução 1"
      ]
    },
    {
      "cell_type": "code",
      "source": [
        "import math\n",
        "import numpy as np"
      ],
      "metadata": {
        "id": "Ny4YwF0OY6UP"
      },
      "execution_count": null,
      "outputs": []
    },
    {
      "cell_type": "code",
      "execution_count": null,
      "metadata": {
        "colab": {
          "base_uri": "https://localhost:8080/"
        },
        "id": "IEGO31WCG3Df",
        "outputId": "0378a0b0-2a75-416d-87d4-e10cff8bd9b1"
      },
      "outputs": [
        {
          "output_type": "stream",
          "name": "stdout",
          "text": [
            "0.05164885\n"
          ]
        }
      ],
      "source": [
        "\n",
        "probabilidade = ((np.exp(-media)) * (media ** k)) / math.factorial(k)\n",
        "print('%0.8f' % probabilidade)"
      ]
    },
    {
      "cell_type": "markdown",
      "source": [
        "Rodando a célula da \"Solução 1\", teremos a probabilidade de 0.05164885, ou seja, a chance é de aproximadamente 5.16% do restaurante receber 15 pedidos em determinada hora escolhida ao acaso.\n",
        "\n",
        "Já na parte \"Solução 2\", veremos uma forma mais simples de calcular usando Python, mas antes encontraremos um link com a documentação de scipy.stats.poisson.\n",
        "\n",
        "Importaremos poisson a partir da biblioteca scipy.stats na primeira célula."
      ],
      "metadata": {
        "id": "1DIgwWmAZNdL"
      }
    },
    {
      "cell_type": "markdown",
      "metadata": {
        "id": "GoIBvH62G3Di"
      },
      "source": [
        "### Importando bibliotecas"
      ]
    },
    {
      "cell_type": "markdown",
      "metadata": {
        "id": "iFSF_9Y4G3Dj"
      },
      "source": [
        "https://docs.scipy.org/doc/scipy/reference/generated/scipy.stats.poisson.html"
      ]
    },
    {
      "cell_type": "markdown",
      "metadata": {
        "id": "yAyXh0euG3Dk"
      },
      "source": [
        "### Solução 2"
      ]
    },
    {
      "cell_type": "markdown",
      "source": [
        "Em seguinte na mesma célula, chamaremos a probabilidade sendo igual a poisson com o método pmf() recebendo os parâmetros k e a media.\n",
        "\n",
        "Por fim, copiaremos a mesma formatação do print() para exibirmos o resultado em porcentagem."
      ],
      "metadata": {
        "id": "IJrG5TmdZV_D"
      }
    },
    {
      "cell_type": "code",
      "execution_count": null,
      "metadata": {
        "colab": {
          "base_uri": "https://localhost:8080/"
        },
        "id": "sNw4oCAyG3Dk",
        "outputId": "a77b240c-0751-4a34-9bba-4ea2c30d61be"
      },
      "outputs": [
        {
          "output_type": "stream",
          "name": "stdout",
          "text": [
            "0.05164885\n"
          ]
        }
      ],
      "source": [
        "from scipy.stats import poisson\n",
        "\n",
        "probabilidade = poisson.pmf(k, media)\n",
        "print('%0.8f' % probabilidade)"
      ]
    },
    {
      "cell_type": "markdown",
      "source": [
        "Com isso, teremos o mesmo valor 0.05164885 que obtivemos antes, porém de forma bem mais simples.\n",
        "\n",
        "Portanto, a probabilidade é de 5.16% do restaurante receber 15 pedidos em determinada hora escolhida ao acaso, dado que em média recebe 20 por hora.\n",
        "\n",
        "Talvez não utilizemos exatamente isso em nosso dataset no projeto final, até porque nem tudo que estamos aprendendo tem a ver com um possível projeto que estejamos executando, pois não usaremos todo o ferramental estatístico para resolvermos determinado assunto.\n",
        "\n",
        "De qualquer maneira, é importante termos essa base, afinal problemas desse tipo surgem e já teremos essa bagagem para resolvê-los.\n",
        "\n",
        "A seguir, começaremos com a Distribuição Normal."
      ],
      "metadata": {
        "id": "N1KvripEZcO1"
      }
    },
    {
      "cell_type": "markdown",
      "metadata": {
        "id": "g3ng8tQFG3Do"
      },
      "source": [
        "---\n",
        "---"
      ]
    },
    {
      "cell_type": "markdown",
      "metadata": {
        "id": "tVPUT9kEG3Dp"
      },
      "source": [
        "## <font color=red>Problema</font>\n",
        "***"
      ]
    },
    {
      "cell_type": "markdown",
      "metadata": {
        "id": "j7zVDN0kG3Dq"
      },
      "source": [
        "Em um estudo sobre as alturas dos moradores de uma cidade verificou-se que o conjunto de dados segue uma **distribuição aproximadamente normal**, com **média 1,70** e **desvio padrão de 0,1**. Com estas informações obtenha o seguinte conjunto de probabilidades:\n",
        "\n",
        "> **A.** probabilidade de uma pessoa, selecionada ao acaso, ter menos de 1,80 metros.\n",
        "\n",
        "> **B.** probabilidade de uma pessoa, selecionada ao acaso, ter entre 1,60 metros e 1,80 metros.    \n",
        "\n",
        "> **C.** probabilidade de uma pessoa, selecionada ao acaso, ter mais de 1,90 metros."
      ]
    },
    {
      "cell_type": "markdown",
      "metadata": {
        "id": "AowcVaKqpvf2"
      },
      "source": [
        "## <font color=green>2.3 Distribuição Normal</font>\n",
        "***"
      ]
    },
    {
      "cell_type": "markdown",
      "metadata": {
        "id": "YOBD21hGG3Dw"
      },
      "source": [
        "A distribuição normal é uma das mais utilizadas em estatística. É uma distribuição contínua, onde a distribuição de frequências de uma variável quantitativa apresenta a forma de sino e é simétrica em relação a sua média."
      ]
    },
    {
      "cell_type": "markdown",
      "metadata": {
        "id": "kbPy2ORqqKJA"
      },
      "source": [
        "![Normal](https://caelum-online-public.s3.amazonaws.com/1178-estatistica-parte2/01/img001.png)"
      ]
    },
    {
      "cell_type": "markdown",
      "metadata": {
        "id": "J3eKESHTG3Dx"
      },
      "source": [
        "### Características importantes"
      ]
    },
    {
      "cell_type": "markdown",
      "metadata": {
        "id": "z8GxAzWZG3Dx"
      },
      "source": [
        "1. É simétrica em torno da média;\n",
        "\n",
        "2. A área sob a curva corresponde à proporção 1 ou 100%;\n",
        "\n",
        "3. As medidas de tendência central (média, mediana e moda) apresentam o mesmo valor;\n",
        "\n",
        "4. Os extremos da curva tendem ao infinito em ambas as direções e, teoricamente, jamais tocam o eixo $x$;\n",
        "\n",
        "5. O desvio padrão define o achatamento e largura da distribuição. Curvas mais largas e mais achatadas apresentam valores maiores de desvio padrão;\n",
        "\n",
        "6. A distribuição é definida por sua média e desvio padrão;\n",
        "\n",
        "7. A probabilidade sempre será igual à área sob a curva, delimitada pelos limites inferior e superior."
      ]
    },
    {
      "cell_type": "markdown",
      "metadata": {
        "id": "hoWLlOiwG3Dy"
      },
      "source": [
        "# $$f(x) = \\frac{1}{\\sqrt{2\\pi\\sigma}}e^{-\\frac{1}{2}\\left(\\frac{x-\\mu}{\\sigma}\\right)^2}$$\n",
        "\n",
        "Onde:\n",
        "\n",
        "$x$ = variável normal\n",
        "\n",
        "$\\sigma$ = desvio padrão\n",
        "\n",
        "$\\mu$ = média"
      ]
    },
    {
      "cell_type": "markdown",
      "metadata": {
        "id": "8n03Z0VlG3Dz"
      },
      "source": [
        "A probabilidade é obtida a partir da área sob a curva, delimitada pelos limites inferior e superior especificados. Um exemplo pode ser visto na figura abaixo."
      ]
    },
    {
      "cell_type": "markdown",
      "metadata": {
        "id": "X1UgmFoxG3Dz"
      },
      "source": [
        "![alt text](https://caelum-online-public.s3.amazonaws.com/1178-estatistica-parte2/01/img002.png)\n"
      ]
    },
    {
      "cell_type": "markdown",
      "metadata": {
        "id": "rtKiApHLG3D0"
      },
      "source": [
        "Para obter a área acima basta calcular a integral da função para os intervalos determinados. Conforme equação abaixo:"
      ]
    },
    {
      "cell_type": "markdown",
      "metadata": {
        "id": "0r_9CbSOG3D0"
      },
      "source": [
        "# $$P(L_i<x<L_s) = \\int_{L_i}^{L_s}\\frac{1}{\\sqrt{2\\pi\\sigma}}e^{-\\frac{1}{2}\\left(\\frac{x-\\mu}{\\sigma}\\right)^2}$$\n",
        "\n",
        "Onde:\n",
        "\n",
        "$x$ = variável normal\n",
        "\n",
        "$\\sigma$ = desvio padrão\n",
        "\n",
        "$\\mu$ = média\n",
        "\n",
        "$L_i$ = limite inferior\n",
        "\n",
        "$L_s$ = limite superior"
      ]
    },
    {
      "cell_type": "markdown",
      "metadata": {
        "id": "qP-Ye-leG3D1"
      },
      "source": [
        "### Tabelas padronizadas"
      ]
    },
    {
      "cell_type": "markdown",
      "metadata": {
        "id": "Z1VnLK11G3D1"
      },
      "source": [
        "As tabelas padronizadas foram criadas para facilitar a obtenção dos valores das áreas sob a curva normal e eliminar a necessidade de solucionar integrais definidas.\n",
        "\n",
        "Para consultarmos os valores em uma tabela padronizada basta transformarmos nossa variável em uma variável padronizada $Z$.\n",
        "\n",
        "Esta variável $Z$ representa o afastamento em desvios padrões de um valor da variável original em relação à média."
      ]
    },
    {
      "cell_type": "markdown",
      "metadata": {
        "id": "HJcdgdsgG3D2"
      },
      "source": [
        "# $$Z = \\frac{x-\\mu}{\\sigma}$$\n",
        "\n",
        "Onde:\n",
        "\n",
        "$x$ = variável normal com média $\\mu$ e desvio padrão $\\sigma$\n",
        "\n",
        "$\\sigma$ = desvio padrão\n",
        "\n",
        "$\\mu$ = média"
      ]
    },
    {
      "cell_type": "markdown",
      "metadata": {
        "id": "hUrVKJH3G3D2"
      },
      "source": [
        "### Construindo tabela normal padronizada\n",
        "https://docs.scipy.org/doc/scipy/reference/generated/scipy.stats.norm.html"
      ]
    },
    {
      "cell_type": "code",
      "execution_count": null,
      "metadata": {
        "colab": {
          "base_uri": "https://localhost:8080/",
          "height": 1289
        },
        "id": "7SudUNlcG3D4",
        "outputId": "963d1484-7b91-4af0-905f-4cbb49a73277"
      },
      "outputs": [
        {
          "data": {
            "text/html": [
              "<div>\n",
              "<style scoped>\n",
              "    .dataframe tbody tr th:only-of-type {\n",
              "        vertical-align: middle;\n",
              "    }\n",
              "\n",
              "    .dataframe tbody tr th {\n",
              "        vertical-align: top;\n",
              "    }\n",
              "\n",
              "    .dataframe thead th {\n",
              "        text-align: right;\n",
              "    }\n",
              "</style>\n",
              "<table border=\"1\" class=\"dataframe\">\n",
              "  <thead>\n",
              "    <tr style=\"text-align: right;\">\n",
              "      <th>Z</th>\n",
              "      <th>0.00</th>\n",
              "      <th>0.01</th>\n",
              "      <th>0.02</th>\n",
              "      <th>0.03</th>\n",
              "      <th>0.04</th>\n",
              "      <th>0.05</th>\n",
              "      <th>0.06</th>\n",
              "      <th>0.07</th>\n",
              "      <th>0.08</th>\n",
              "      <th>0.09</th>\n",
              "    </tr>\n",
              "  </thead>\n",
              "  <tbody>\n",
              "    <tr>\n",
              "      <th>0.00</th>\n",
              "      <td>0.5000</td>\n",
              "      <td>0.5040</td>\n",
              "      <td>0.5080</td>\n",
              "      <td>0.5120</td>\n",
              "      <td>0.5160</td>\n",
              "      <td>0.5199</td>\n",
              "      <td>0.5239</td>\n",
              "      <td>0.5279</td>\n",
              "      <td>0.5319</td>\n",
              "      <td>0.5359</td>\n",
              "    </tr>\n",
              "    <tr>\n",
              "      <th>0.10</th>\n",
              "      <td>0.5398</td>\n",
              "      <td>0.5438</td>\n",
              "      <td>0.5478</td>\n",
              "      <td>0.5517</td>\n",
              "      <td>0.5557</td>\n",
              "      <td>0.5596</td>\n",
              "      <td>0.5636</td>\n",
              "      <td>0.5675</td>\n",
              "      <td>0.5714</td>\n",
              "      <td>0.5753</td>\n",
              "    </tr>\n",
              "    <tr>\n",
              "      <th>0.20</th>\n",
              "      <td>0.5793</td>\n",
              "      <td>0.5832</td>\n",
              "      <td>0.5871</td>\n",
              "      <td>0.5910</td>\n",
              "      <td>0.5948</td>\n",
              "      <td>0.5987</td>\n",
              "      <td>0.6026</td>\n",
              "      <td>0.6064</td>\n",
              "      <td>0.6103</td>\n",
              "      <td>0.6141</td>\n",
              "    </tr>\n",
              "    <tr>\n",
              "      <th>0.30</th>\n",
              "      <td>0.6179</td>\n",
              "      <td>0.6217</td>\n",
              "      <td>0.6255</td>\n",
              "      <td>0.6293</td>\n",
              "      <td>0.6331</td>\n",
              "      <td>0.6368</td>\n",
              "      <td>0.6406</td>\n",
              "      <td>0.6443</td>\n",
              "      <td>0.6480</td>\n",
              "      <td>0.6517</td>\n",
              "    </tr>\n",
              "    <tr>\n",
              "      <th>0.40</th>\n",
              "      <td>0.6554</td>\n",
              "      <td>0.6591</td>\n",
              "      <td>0.6628</td>\n",
              "      <td>0.6664</td>\n",
              "      <td>0.6700</td>\n",
              "      <td>0.6736</td>\n",
              "      <td>0.6772</td>\n",
              "      <td>0.6808</td>\n",
              "      <td>0.6844</td>\n",
              "      <td>0.6879</td>\n",
              "    </tr>\n",
              "    <tr>\n",
              "      <th>0.50</th>\n",
              "      <td>0.6915</td>\n",
              "      <td>0.6950</td>\n",
              "      <td>0.6985</td>\n",
              "      <td>0.7019</td>\n",
              "      <td>0.7054</td>\n",
              "      <td>0.7088</td>\n",
              "      <td>0.7123</td>\n",
              "      <td>0.7157</td>\n",
              "      <td>0.7190</td>\n",
              "      <td>0.7224</td>\n",
              "    </tr>\n",
              "    <tr>\n",
              "      <th>0.60</th>\n",
              "      <td>0.7257</td>\n",
              "      <td>0.7291</td>\n",
              "      <td>0.7324</td>\n",
              "      <td>0.7357</td>\n",
              "      <td>0.7389</td>\n",
              "      <td>0.7422</td>\n",
              "      <td>0.7454</td>\n",
              "      <td>0.7486</td>\n",
              "      <td>0.7517</td>\n",
              "      <td>0.7549</td>\n",
              "    </tr>\n",
              "    <tr>\n",
              "      <th>0.70</th>\n",
              "      <td>0.7580</td>\n",
              "      <td>0.7611</td>\n",
              "      <td>0.7642</td>\n",
              "      <td>0.7673</td>\n",
              "      <td>0.7704</td>\n",
              "      <td>0.7734</td>\n",
              "      <td>0.7764</td>\n",
              "      <td>0.7794</td>\n",
              "      <td>0.7823</td>\n",
              "      <td>0.7852</td>\n",
              "    </tr>\n",
              "    <tr>\n",
              "      <th>0.80</th>\n",
              "      <td>0.7881</td>\n",
              "      <td>0.7910</td>\n",
              "      <td>0.7939</td>\n",
              "      <td>0.7967</td>\n",
              "      <td>0.7995</td>\n",
              "      <td>0.8023</td>\n",
              "      <td>0.8051</td>\n",
              "      <td>0.8078</td>\n",
              "      <td>0.8106</td>\n",
              "      <td>0.8133</td>\n",
              "    </tr>\n",
              "    <tr>\n",
              "      <th>0.90</th>\n",
              "      <td>0.8159</td>\n",
              "      <td>0.8186</td>\n",
              "      <td>0.8212</td>\n",
              "      <td>0.8238</td>\n",
              "      <td>0.8264</td>\n",
              "      <td>0.8289</td>\n",
              "      <td>0.8315</td>\n",
              "      <td>0.8340</td>\n",
              "      <td>0.8365</td>\n",
              "      <td>0.8389</td>\n",
              "    </tr>\n",
              "    <tr>\n",
              "      <th>1.00</th>\n",
              "      <td>0.8413</td>\n",
              "      <td>0.8438</td>\n",
              "      <td>0.8461</td>\n",
              "      <td>0.8485</td>\n",
              "      <td>0.8508</td>\n",
              "      <td>0.8531</td>\n",
              "      <td>0.8554</td>\n",
              "      <td>0.8577</td>\n",
              "      <td>0.8599</td>\n",
              "      <td>0.8621</td>\n",
              "    </tr>\n",
              "    <tr>\n",
              "      <th>1.10</th>\n",
              "      <td>0.8643</td>\n",
              "      <td>0.8665</td>\n",
              "      <td>0.8686</td>\n",
              "      <td>0.8708</td>\n",
              "      <td>0.8729</td>\n",
              "      <td>0.8749</td>\n",
              "      <td>0.8770</td>\n",
              "      <td>0.8790</td>\n",
              "      <td>0.8810</td>\n",
              "      <td>0.8830</td>\n",
              "    </tr>\n",
              "    <tr>\n",
              "      <th>1.20</th>\n",
              "      <td>0.8849</td>\n",
              "      <td>0.8869</td>\n",
              "      <td>0.8888</td>\n",
              "      <td>0.8907</td>\n",
              "      <td>0.8925</td>\n",
              "      <td>0.8944</td>\n",
              "      <td>0.8962</td>\n",
              "      <td>0.8980</td>\n",
              "      <td>0.8997</td>\n",
              "      <td>0.9015</td>\n",
              "    </tr>\n",
              "    <tr>\n",
              "      <th>1.30</th>\n",
              "      <td>0.9032</td>\n",
              "      <td>0.9049</td>\n",
              "      <td>0.9066</td>\n",
              "      <td>0.9082</td>\n",
              "      <td>0.9099</td>\n",
              "      <td>0.9115</td>\n",
              "      <td>0.9131</td>\n",
              "      <td>0.9147</td>\n",
              "      <td>0.9162</td>\n",
              "      <td>0.9177</td>\n",
              "    </tr>\n",
              "    <tr>\n",
              "      <th>1.40</th>\n",
              "      <td>0.9192</td>\n",
              "      <td>0.9207</td>\n",
              "      <td>0.9222</td>\n",
              "      <td>0.9236</td>\n",
              "      <td>0.9251</td>\n",
              "      <td>0.9265</td>\n",
              "      <td>0.9279</td>\n",
              "      <td>0.9292</td>\n",
              "      <td>0.9306</td>\n",
              "      <td>0.9319</td>\n",
              "    </tr>\n",
              "    <tr>\n",
              "      <th>1.50</th>\n",
              "      <td>0.9332</td>\n",
              "      <td>0.9345</td>\n",
              "      <td>0.9357</td>\n",
              "      <td>0.9370</td>\n",
              "      <td>0.9382</td>\n",
              "      <td>0.9394</td>\n",
              "      <td>0.9406</td>\n",
              "      <td>0.9418</td>\n",
              "      <td>0.9429</td>\n",
              "      <td>0.9441</td>\n",
              "    </tr>\n",
              "    <tr>\n",
              "      <th>1.60</th>\n",
              "      <td>0.9452</td>\n",
              "      <td>0.9463</td>\n",
              "      <td>0.9474</td>\n",
              "      <td>0.9484</td>\n",
              "      <td>0.9495</td>\n",
              "      <td>0.9505</td>\n",
              "      <td>0.9515</td>\n",
              "      <td>0.9525</td>\n",
              "      <td>0.9535</td>\n",
              "      <td>0.9545</td>\n",
              "    </tr>\n",
              "    <tr>\n",
              "      <th>1.70</th>\n",
              "      <td>0.9554</td>\n",
              "      <td>0.9564</td>\n",
              "      <td>0.9573</td>\n",
              "      <td>0.9582</td>\n",
              "      <td>0.9591</td>\n",
              "      <td>0.9599</td>\n",
              "      <td>0.9608</td>\n",
              "      <td>0.9616</td>\n",
              "      <td>0.9625</td>\n",
              "      <td>0.9633</td>\n",
              "    </tr>\n",
              "    <tr>\n",
              "      <th>1.80</th>\n",
              "      <td>0.9641</td>\n",
              "      <td>0.9649</td>\n",
              "      <td>0.9656</td>\n",
              "      <td>0.9664</td>\n",
              "      <td>0.9671</td>\n",
              "      <td>0.9678</td>\n",
              "      <td>0.9686</td>\n",
              "      <td>0.9693</td>\n",
              "      <td>0.9699</td>\n",
              "      <td>0.9706</td>\n",
              "    </tr>\n",
              "    <tr>\n",
              "      <th>1.90</th>\n",
              "      <td>0.9713</td>\n",
              "      <td>0.9719</td>\n",
              "      <td>0.9726</td>\n",
              "      <td>0.9732</td>\n",
              "      <td>0.9738</td>\n",
              "      <td>0.9744</td>\n",
              "      <td>0.9750</td>\n",
              "      <td>0.9756</td>\n",
              "      <td>0.9761</td>\n",
              "      <td>0.9767</td>\n",
              "    </tr>\n",
              "    <tr>\n",
              "      <th>2.00</th>\n",
              "      <td>0.9772</td>\n",
              "      <td>0.9778</td>\n",
              "      <td>0.9783</td>\n",
              "      <td>0.9788</td>\n",
              "      <td>0.9793</td>\n",
              "      <td>0.9798</td>\n",
              "      <td>0.9803</td>\n",
              "      <td>0.9808</td>\n",
              "      <td>0.9812</td>\n",
              "      <td>0.9817</td>\n",
              "    </tr>\n",
              "    <tr>\n",
              "      <th>2.10</th>\n",
              "      <td>0.9821</td>\n",
              "      <td>0.9826</td>\n",
              "      <td>0.9830</td>\n",
              "      <td>0.9834</td>\n",
              "      <td>0.9838</td>\n",
              "      <td>0.9842</td>\n",
              "      <td>0.9846</td>\n",
              "      <td>0.9850</td>\n",
              "      <td>0.9854</td>\n",
              "      <td>0.9857</td>\n",
              "    </tr>\n",
              "    <tr>\n",
              "      <th>2.20</th>\n",
              "      <td>0.9861</td>\n",
              "      <td>0.9864</td>\n",
              "      <td>0.9868</td>\n",
              "      <td>0.9871</td>\n",
              "      <td>0.9875</td>\n",
              "      <td>0.9878</td>\n",
              "      <td>0.9881</td>\n",
              "      <td>0.9884</td>\n",
              "      <td>0.9887</td>\n",
              "      <td>0.9890</td>\n",
              "    </tr>\n",
              "    <tr>\n",
              "      <th>2.30</th>\n",
              "      <td>0.9893</td>\n",
              "      <td>0.9896</td>\n",
              "      <td>0.9898</td>\n",
              "      <td>0.9901</td>\n",
              "      <td>0.9904</td>\n",
              "      <td>0.9906</td>\n",
              "      <td>0.9909</td>\n",
              "      <td>0.9911</td>\n",
              "      <td>0.9913</td>\n",
              "      <td>0.9916</td>\n",
              "    </tr>\n",
              "    <tr>\n",
              "      <th>2.40</th>\n",
              "      <td>0.9918</td>\n",
              "      <td>0.9920</td>\n",
              "      <td>0.9922</td>\n",
              "      <td>0.9925</td>\n",
              "      <td>0.9927</td>\n",
              "      <td>0.9929</td>\n",
              "      <td>0.9931</td>\n",
              "      <td>0.9932</td>\n",
              "      <td>0.9934</td>\n",
              "      <td>0.9936</td>\n",
              "    </tr>\n",
              "    <tr>\n",
              "      <th>2.50</th>\n",
              "      <td>0.9938</td>\n",
              "      <td>0.9940</td>\n",
              "      <td>0.9941</td>\n",
              "      <td>0.9943</td>\n",
              "      <td>0.9945</td>\n",
              "      <td>0.9946</td>\n",
              "      <td>0.9948</td>\n",
              "      <td>0.9949</td>\n",
              "      <td>0.9951</td>\n",
              "      <td>0.9952</td>\n",
              "    </tr>\n",
              "    <tr>\n",
              "      <th>2.60</th>\n",
              "      <td>0.9953</td>\n",
              "      <td>0.9955</td>\n",
              "      <td>0.9956</td>\n",
              "      <td>0.9957</td>\n",
              "      <td>0.9959</td>\n",
              "      <td>0.9960</td>\n",
              "      <td>0.9961</td>\n",
              "      <td>0.9962</td>\n",
              "      <td>0.9963</td>\n",
              "      <td>0.9964</td>\n",
              "    </tr>\n",
              "    <tr>\n",
              "      <th>2.70</th>\n",
              "      <td>0.9965</td>\n",
              "      <td>0.9966</td>\n",
              "      <td>0.9967</td>\n",
              "      <td>0.9968</td>\n",
              "      <td>0.9969</td>\n",
              "      <td>0.9970</td>\n",
              "      <td>0.9971</td>\n",
              "      <td>0.9972</td>\n",
              "      <td>0.9973</td>\n",
              "      <td>0.9974</td>\n",
              "    </tr>\n",
              "    <tr>\n",
              "      <th>2.80</th>\n",
              "      <td>0.9974</td>\n",
              "      <td>0.9975</td>\n",
              "      <td>0.9976</td>\n",
              "      <td>0.9977</td>\n",
              "      <td>0.9977</td>\n",
              "      <td>0.9978</td>\n",
              "      <td>0.9979</td>\n",
              "      <td>0.9979</td>\n",
              "      <td>0.9980</td>\n",
              "      <td>0.9981</td>\n",
              "    </tr>\n",
              "    <tr>\n",
              "      <th>2.90</th>\n",
              "      <td>0.9981</td>\n",
              "      <td>0.9982</td>\n",
              "      <td>0.9982</td>\n",
              "      <td>0.9983</td>\n",
              "      <td>0.9984</td>\n",
              "      <td>0.9984</td>\n",
              "      <td>0.9985</td>\n",
              "      <td>0.9985</td>\n",
              "      <td>0.9986</td>\n",
              "      <td>0.9986</td>\n",
              "    </tr>\n",
              "    <tr>\n",
              "      <th>3.00</th>\n",
              "      <td>0.9987</td>\n",
              "      <td>0.9987</td>\n",
              "      <td>0.9987</td>\n",
              "      <td>0.9988</td>\n",
              "      <td>0.9988</td>\n",
              "      <td>0.9989</td>\n",
              "      <td>0.9989</td>\n",
              "      <td>0.9989</td>\n",
              "      <td>0.9990</td>\n",
              "      <td>0.9990</td>\n",
              "    </tr>\n",
              "    <tr>\n",
              "      <th>3.10</th>\n",
              "      <td>0.9990</td>\n",
              "      <td>0.9991</td>\n",
              "      <td>0.9991</td>\n",
              "      <td>0.9991</td>\n",
              "      <td>0.9992</td>\n",
              "      <td>0.9992</td>\n",
              "      <td>0.9992</td>\n",
              "      <td>0.9992</td>\n",
              "      <td>0.9993</td>\n",
              "      <td>0.9993</td>\n",
              "    </tr>\n",
              "    <tr>\n",
              "      <th>3.20</th>\n",
              "      <td>0.9993</td>\n",
              "      <td>0.9993</td>\n",
              "      <td>0.9994</td>\n",
              "      <td>0.9994</td>\n",
              "      <td>0.9994</td>\n",
              "      <td>0.9994</td>\n",
              "      <td>0.9994</td>\n",
              "      <td>0.9995</td>\n",
              "      <td>0.9995</td>\n",
              "      <td>0.9995</td>\n",
              "    </tr>\n",
              "    <tr>\n",
              "      <th>3.30</th>\n",
              "      <td>0.9995</td>\n",
              "      <td>0.9995</td>\n",
              "      <td>0.9995</td>\n",
              "      <td>0.9996</td>\n",
              "      <td>0.9996</td>\n",
              "      <td>0.9996</td>\n",
              "      <td>0.9996</td>\n",
              "      <td>0.9996</td>\n",
              "      <td>0.9996</td>\n",
              "      <td>0.9997</td>\n",
              "    </tr>\n",
              "    <tr>\n",
              "      <th>3.40</th>\n",
              "      <td>0.9997</td>\n",
              "      <td>0.9997</td>\n",
              "      <td>0.9997</td>\n",
              "      <td>0.9997</td>\n",
              "      <td>0.9997</td>\n",
              "      <td>0.9997</td>\n",
              "      <td>0.9997</td>\n",
              "      <td>0.9997</td>\n",
              "      <td>0.9997</td>\n",
              "      <td>0.9998</td>\n",
              "    </tr>\n",
              "    <tr>\n",
              "      <th>3.50</th>\n",
              "      <td>0.9998</td>\n",
              "      <td>0.9998</td>\n",
              "      <td>0.9998</td>\n",
              "      <td>0.9998</td>\n",
              "      <td>0.9998</td>\n",
              "      <td>0.9998</td>\n",
              "      <td>0.9998</td>\n",
              "      <td>0.9998</td>\n",
              "      <td>0.9998</td>\n",
              "      <td>0.9998</td>\n",
              "    </tr>\n",
              "    <tr>\n",
              "      <th>3.60</th>\n",
              "      <td>0.9998</td>\n",
              "      <td>0.9998</td>\n",
              "      <td>0.9999</td>\n",
              "      <td>0.9999</td>\n",
              "      <td>0.9999</td>\n",
              "      <td>0.9999</td>\n",
              "      <td>0.9999</td>\n",
              "      <td>0.9999</td>\n",
              "      <td>0.9999</td>\n",
              "      <td>0.9999</td>\n",
              "    </tr>\n",
              "    <tr>\n",
              "      <th>3.70</th>\n",
              "      <td>0.9999</td>\n",
              "      <td>0.9999</td>\n",
              "      <td>0.9999</td>\n",
              "      <td>0.9999</td>\n",
              "      <td>0.9999</td>\n",
              "      <td>0.9999</td>\n",
              "      <td>0.9999</td>\n",
              "      <td>0.9999</td>\n",
              "      <td>0.9999</td>\n",
              "      <td>0.9999</td>\n",
              "    </tr>\n",
              "    <tr>\n",
              "      <th>3.80</th>\n",
              "      <td>0.9999</td>\n",
              "      <td>0.9999</td>\n",
              "      <td>0.9999</td>\n",
              "      <td>0.9999</td>\n",
              "      <td>0.9999</td>\n",
              "      <td>0.9999</td>\n",
              "      <td>0.9999</td>\n",
              "      <td>0.9999</td>\n",
              "      <td>0.9999</td>\n",
              "      <td>0.9999</td>\n",
              "    </tr>\n",
              "    <tr>\n",
              "      <th>3.90</th>\n",
              "      <td>1.0000</td>\n",
              "      <td>1.0000</td>\n",
              "      <td>1.0000</td>\n",
              "      <td>1.0000</td>\n",
              "      <td>1.0000</td>\n",
              "      <td>1.0000</td>\n",
              "      <td>1.0000</td>\n",
              "      <td>1.0000</td>\n",
              "      <td>1.0000</td>\n",
              "      <td>1.0000</td>\n",
              "    </tr>\n",
              "  </tbody>\n",
              "</table>\n",
              "</div>"
            ],
            "text/plain": [
              "Z       0.00    0.01    0.02    0.03    0.04    0.05    0.06    0.07    0.08  \\\n",
              "0.00  0.5000  0.5040  0.5080  0.5120  0.5160  0.5199  0.5239  0.5279  0.5319   \n",
              "0.10  0.5398  0.5438  0.5478  0.5517  0.5557  0.5596  0.5636  0.5675  0.5714   \n",
              "0.20  0.5793  0.5832  0.5871  0.5910  0.5948  0.5987  0.6026  0.6064  0.6103   \n",
              "0.30  0.6179  0.6217  0.6255  0.6293  0.6331  0.6368  0.6406  0.6443  0.6480   \n",
              "0.40  0.6554  0.6591  0.6628  0.6664  0.6700  0.6736  0.6772  0.6808  0.6844   \n",
              "0.50  0.6915  0.6950  0.6985  0.7019  0.7054  0.7088  0.7123  0.7157  0.7190   \n",
              "0.60  0.7257  0.7291  0.7324  0.7357  0.7389  0.7422  0.7454  0.7486  0.7517   \n",
              "0.70  0.7580  0.7611  0.7642  0.7673  0.7704  0.7734  0.7764  0.7794  0.7823   \n",
              "0.80  0.7881  0.7910  0.7939  0.7967  0.7995  0.8023  0.8051  0.8078  0.8106   \n",
              "0.90  0.8159  0.8186  0.8212  0.8238  0.8264  0.8289  0.8315  0.8340  0.8365   \n",
              "1.00  0.8413  0.8438  0.8461  0.8485  0.8508  0.8531  0.8554  0.8577  0.8599   \n",
              "1.10  0.8643  0.8665  0.8686  0.8708  0.8729  0.8749  0.8770  0.8790  0.8810   \n",
              "1.20  0.8849  0.8869  0.8888  0.8907  0.8925  0.8944  0.8962  0.8980  0.8997   \n",
              "1.30  0.9032  0.9049  0.9066  0.9082  0.9099  0.9115  0.9131  0.9147  0.9162   \n",
              "1.40  0.9192  0.9207  0.9222  0.9236  0.9251  0.9265  0.9279  0.9292  0.9306   \n",
              "1.50  0.9332  0.9345  0.9357  0.9370  0.9382  0.9394  0.9406  0.9418  0.9429   \n",
              "1.60  0.9452  0.9463  0.9474  0.9484  0.9495  0.9505  0.9515  0.9525  0.9535   \n",
              "1.70  0.9554  0.9564  0.9573  0.9582  0.9591  0.9599  0.9608  0.9616  0.9625   \n",
              "1.80  0.9641  0.9649  0.9656  0.9664  0.9671  0.9678  0.9686  0.9693  0.9699   \n",
              "1.90  0.9713  0.9719  0.9726  0.9732  0.9738  0.9744  0.9750  0.9756  0.9761   \n",
              "2.00  0.9772  0.9778  0.9783  0.9788  0.9793  0.9798  0.9803  0.9808  0.9812   \n",
              "2.10  0.9821  0.9826  0.9830  0.9834  0.9838  0.9842  0.9846  0.9850  0.9854   \n",
              "2.20  0.9861  0.9864  0.9868  0.9871  0.9875  0.9878  0.9881  0.9884  0.9887   \n",
              "2.30  0.9893  0.9896  0.9898  0.9901  0.9904  0.9906  0.9909  0.9911  0.9913   \n",
              "2.40  0.9918  0.9920  0.9922  0.9925  0.9927  0.9929  0.9931  0.9932  0.9934   \n",
              "2.50  0.9938  0.9940  0.9941  0.9943  0.9945  0.9946  0.9948  0.9949  0.9951   \n",
              "2.60  0.9953  0.9955  0.9956  0.9957  0.9959  0.9960  0.9961  0.9962  0.9963   \n",
              "2.70  0.9965  0.9966  0.9967  0.9968  0.9969  0.9970  0.9971  0.9972  0.9973   \n",
              "2.80  0.9974  0.9975  0.9976  0.9977  0.9977  0.9978  0.9979  0.9979  0.9980   \n",
              "2.90  0.9981  0.9982  0.9982  0.9983  0.9984  0.9984  0.9985  0.9985  0.9986   \n",
              "3.00  0.9987  0.9987  0.9987  0.9988  0.9988  0.9989  0.9989  0.9989  0.9990   \n",
              "3.10  0.9990  0.9991  0.9991  0.9991  0.9992  0.9992  0.9992  0.9992  0.9993   \n",
              "3.20  0.9993  0.9993  0.9994  0.9994  0.9994  0.9994  0.9994  0.9995  0.9995   \n",
              "3.30  0.9995  0.9995  0.9995  0.9996  0.9996  0.9996  0.9996  0.9996  0.9996   \n",
              "3.40  0.9997  0.9997  0.9997  0.9997  0.9997  0.9997  0.9997  0.9997  0.9997   \n",
              "3.50  0.9998  0.9998  0.9998  0.9998  0.9998  0.9998  0.9998  0.9998  0.9998   \n",
              "3.60  0.9998  0.9998  0.9999  0.9999  0.9999  0.9999  0.9999  0.9999  0.9999   \n",
              "3.70  0.9999  0.9999  0.9999  0.9999  0.9999  0.9999  0.9999  0.9999  0.9999   \n",
              "3.80  0.9999  0.9999  0.9999  0.9999  0.9999  0.9999  0.9999  0.9999  0.9999   \n",
              "3.90  1.0000  1.0000  1.0000  1.0000  1.0000  1.0000  1.0000  1.0000  1.0000   \n",
              "\n",
              "Z       0.09  \n",
              "0.00  0.5359  \n",
              "0.10  0.5753  \n",
              "0.20  0.6141  \n",
              "0.30  0.6517  \n",
              "0.40  0.6879  \n",
              "0.50  0.7224  \n",
              "0.60  0.7549  \n",
              "0.70  0.7852  \n",
              "0.80  0.8133  \n",
              "0.90  0.8389  \n",
              "1.00  0.8621  \n",
              "1.10  0.8830  \n",
              "1.20  0.9015  \n",
              "1.30  0.9177  \n",
              "1.40  0.9319  \n",
              "1.50  0.9441  \n",
              "1.60  0.9545  \n",
              "1.70  0.9633  \n",
              "1.80  0.9706  \n",
              "1.90  0.9767  \n",
              "2.00  0.9817  \n",
              "2.10  0.9857  \n",
              "2.20  0.9890  \n",
              "2.30  0.9916  \n",
              "2.40  0.9936  \n",
              "2.50  0.9952  \n",
              "2.60  0.9964  \n",
              "2.70  0.9974  \n",
              "2.80  0.9981  \n",
              "2.90  0.9986  \n",
              "3.00  0.9990  \n",
              "3.10  0.9993  \n",
              "3.20  0.9995  \n",
              "3.30  0.9997  \n",
              "3.40  0.9998  \n",
              "3.50  0.9998  \n",
              "3.60  0.9999  \n",
              "3.70  0.9999  \n",
              "3.80  0.9999  \n",
              "3.90  1.0000  "
            ]
          },
          "execution_count": 29,
          "metadata": {},
          "output_type": "execute_result"
        }
      ],
      "source": [
        "import pandas as pd\n",
        "import numpy as np\n",
        "from scipy.stats import norm\n",
        "\n",
        "tabela_normal_padronizada = pd.DataFrame(\n",
        "    [],\n",
        "    index=[\"{0:0.2f}\".format(i / 100) for i in range(0, 400, 10)],\n",
        "    columns = [\"{0:0.2f}\".format(i / 100) for i in range(0, 10)])\n",
        "\n",
        "for index in tabela_normal_padronizada.index:\n",
        "    for column in tabela_normal_padronizada.columns:\n",
        "        Z = np.round(float(index) + float(column), 2)\n",
        "        tabela_normal_padronizada.loc[index, column] = \"{0:0.4f}\".format(norm.cdf(Z))\n",
        "\n",
        "tabela_normal_padronizada.rename_axis('Z', axis = 'columns', inplace = True)\n",
        "\n",
        "tabela_normal_padronizada"
      ]
    },
    {
      "cell_type": "markdown",
      "metadata": {
        "id": "XHYeMaN3G3D9"
      },
      "source": [
        "<img src='https://caelum-online-public.s3.amazonaws.com/1178-estatistica-parte2/01/img003.png' width='250px'>\n",
        "\n",
        "A tabela acima fornece a área sob a curva entre $-\\infty$ e $Z$ desvios padrão acima da média. Lembrando que por se tratar de valores padronizados temos $\\mu = 0$."
      ]
    },
    {
      "cell_type": "markdown",
      "metadata": {
        "id": "Bs-KyZAJG3D-"
      },
      "source": [
        "## <font color='blue'>Exemplo: Qual sua altura?</font>"
      ]
    },
    {
      "cell_type": "markdown",
      "metadata": {
        "id": "8PFIjXejG3EA"
      },
      "source": [
        "Em um estudo sobre as alturas dos moradores de uma cidade verificou-se que o conjunto de dados segue uma **distribuição aproximadamente normal**, com **média 1,70** e **desvio padrão de 0,1**. Com estas informações obtenha o seguinte conjunto de probabilidades:\n",
        "\n",
        "> **A.** probabilidade de uma pessoa, selecionada ao acaso, ter menos de 1,80 metros.\n",
        "\n",
        "> **B.** probabilidade de uma pessoa, selecionada ao acaso, ter entre 1,60 metros e 1,80 metros.    \n",
        "\n",
        "> **C.** probabilidade de uma pessoa, selecionada ao acaso, ter mais de 1,90 metros."
      ]
    },
    {
      "cell_type": "markdown",
      "metadata": {
        "id": "aHpZLwt1G3EC"
      },
      "source": [
        "### Problema A - Identificação da área sob a curva"
      ]
    },
    {
      "cell_type": "markdown",
      "metadata": {
        "id": "V1eC7tydG3EF"
      },
      "source": [
        "<img style='float: left' src='https://caelum-online-public.s3.amazonaws.com/1178-estatistica-parte2/01/img004.png' width='350px'>"
      ]
    },
    {
      "cell_type": "markdown",
      "metadata": {
        "id": "X61wEuRrG3EI"
      },
      "source": [
        "### Obter a variável padronizada $Z$"
      ]
    },
    {
      "cell_type": "code",
      "execution_count": null,
      "metadata": {
        "colab": {
          "base_uri": "https://localhost:8080/",
          "height": 34
        },
        "id": "gNSNIMvZG3EK",
        "outputId": "2d4048a7-4c0a-4f51-c964-2f063cbdf092"
      },
      "outputs": [
        {
          "data": {
            "text/plain": [
              "1.7"
            ]
          },
          "execution_count": 30,
          "metadata": {},
          "output_type": "execute_result"
        }
      ],
      "source": [
        "media = 1.7\n",
        "media"
      ]
    },
    {
      "cell_type": "code",
      "execution_count": null,
      "metadata": {
        "colab": {
          "base_uri": "https://localhost:8080/",
          "height": 34
        },
        "id": "E_f2lycRG3ES",
        "outputId": "7bb0daf7-7f86-4bdd-f195-429e7b68d239"
      },
      "outputs": [
        {
          "data": {
            "text/plain": [
              "0.1"
            ]
          },
          "execution_count": 31,
          "metadata": {},
          "output_type": "execute_result"
        }
      ],
      "source": [
        "desvio_padrao = 0.1\n",
        "desvio_padrao"
      ]
    },
    {
      "cell_type": "code",
      "execution_count": null,
      "metadata": {
        "colab": {
          "base_uri": "https://localhost:8080/",
          "height": 34
        },
        "id": "xnsCkUb6G3EX",
        "outputId": "b3f57dbb-4c23-4b9f-e89d-d8c35383a2d2"
      },
      "outputs": [
        {
          "data": {
            "text/plain": [
              "1.0000000000000009"
            ]
          },
          "execution_count": 32,
          "metadata": {},
          "output_type": "execute_result"
        }
      ],
      "source": [
        "Z = (1.8 - media) / desvio_padrao\n",
        "Z"
      ]
    },
    {
      "cell_type": "markdown",
      "metadata": {
        "id": "oj9sgHbkG3Eb"
      },
      "source": [
        "### Solução 1 - Utilizando tabela"
      ]
    },
    {
      "cell_type": "code",
      "execution_count": null,
      "metadata": {
        "colab": {
          "base_uri": "https://localhost:8080/",
          "height": 34
        },
        "id": "ReDTH3WgG3Ec",
        "outputId": "ec542c14-9cd4-405d-a899-dfa92493aa84"
      },
      "outputs": [
        {
          "data": {
            "text/plain": [
              "0.8413"
            ]
          },
          "execution_count": 33,
          "metadata": {},
          "output_type": "execute_result"
        }
      ],
      "source": [
        "probabilidade = 0.8413\n",
        "probabilidade"
      ]
    },
    {
      "cell_type": "markdown",
      "metadata": {
        "id": "4ud0OnQOG3Eh"
      },
      "source": [
        "### Solução 2 - Utilizando Scipy"
      ]
    },
    {
      "cell_type": "code",
      "execution_count": null,
      "metadata": {
        "colab": {
          "base_uri": "https://localhost:8080/",
          "height": 34
        },
        "id": "sx7riZVlG3Ei",
        "outputId": "c321c9f8-a1a8-44f8-977b-492d2ec65152"
      },
      "outputs": [
        {
          "data": {
            "text/plain": [
              "0.8413447460685431"
            ]
          },
          "execution_count": 34,
          "metadata": {},
          "output_type": "execute_result"
        }
      ],
      "source": [
        "from scipy.stats import norm\n",
        "norm.cdf(Z)"
      ]
    },
    {
      "cell_type": "markdown",
      "metadata": {
        "id": "ZsnMjGzJG3Ep"
      },
      "source": [
        "### Problema B - Identificação da área sob a curva"
      ]
    },
    {
      "cell_type": "markdown",
      "metadata": {
        "id": "LN2HY-UCG3Ep"
      },
      "source": [
        "<img style='float: left' src='https://caelum-online-public.s3.amazonaws.com/1178-estatistica-parte2/01/img005.png' width='350px'>"
      ]
    },
    {
      "cell_type": "markdown",
      "metadata": {
        "id": "FS6WNg88G3Eq"
      },
      "source": [
        "### Obter a variável padronizada $Z$"
      ]
    },
    {
      "cell_type": "code",
      "execution_count": null,
      "metadata": {
        "colab": {
          "base_uri": "https://localhost:8080/",
          "height": 34
        },
        "id": "mxPsPIOYG3Er",
        "outputId": "d86de31f-1ca0-443c-8ed6-81edfe5d36f4"
      },
      "outputs": [
        {
          "data": {
            "text/plain": [
              "-1.0"
            ]
          },
          "execution_count": 35,
          "metadata": {},
          "output_type": "execute_result"
        }
      ],
      "source": [
        "Z_inferior = (1.6 - media) / desvio_padrao\n",
        "round(Z_inferior, 2)"
      ]
    },
    {
      "cell_type": "code",
      "execution_count": null,
      "metadata": {
        "colab": {
          "base_uri": "https://localhost:8080/",
          "height": 34
        },
        "id": "s0Vf0GXHG3Et",
        "outputId": "5237e5e2-547b-4cbf-a5da-52bd4933f6a1"
      },
      "outputs": [
        {
          "data": {
            "text/plain": [
              "1.0"
            ]
          },
          "execution_count": 36,
          "metadata": {},
          "output_type": "execute_result"
        }
      ],
      "source": [
        "Z_superior = (1.8 - media) / desvio_padrao\n",
        "round(Z_superior, 2)"
      ]
    },
    {
      "cell_type": "markdown",
      "metadata": {
        "id": "MseXjmZ7G3E0"
      },
      "source": [
        "### Solução 1 - Utilizando tabela"
      ]
    },
    {
      "cell_type": "code",
      "execution_count": null,
      "metadata": {
        "colab": {
          "base_uri": "https://localhost:8080/",
          "height": 34
        },
        "id": "swZ6SVQGG3E0",
        "outputId": "53e30c74-5ec5-4737-f928-600388bfe570"
      },
      "outputs": [
        {
          "data": {
            "text/plain": [
              "0.6826000000000001"
            ]
          },
          "execution_count": 37,
          "metadata": {},
          "output_type": "execute_result"
        }
      ],
      "source": [
        "probabilidade = (0.8413 - 0.5) * 2\n",
        "probabilidade"
      ]
    },
    {
      "cell_type": "code",
      "execution_count": null,
      "metadata": {
        "colab": {
          "base_uri": "https://localhost:8080/",
          "height": 34
        },
        "id": "oNfZZRBdGy2G",
        "outputId": "408ee333-2e8e-4058-fe74-a75b715eedf8"
      },
      "outputs": [
        {
          "data": {
            "text/plain": [
              "0.6826000000000001"
            ]
          },
          "execution_count": 38,
          "metadata": {},
          "output_type": "execute_result"
        }
      ],
      "source": [
        "probabilidade = 0.8413 - (1 - 0.8413)\n",
        "probabilidade"
      ]
    },
    {
      "cell_type": "markdown",
      "metadata": {
        "id": "y5e4zAifG3E2"
      },
      "source": [
        "### Solução 2 - Utilizando Scipy"
      ]
    },
    {
      "cell_type": "code",
      "execution_count": null,
      "metadata": {
        "colab": {
          "base_uri": "https://localhost:8080/",
          "height": 34
        },
        "id": "hcps6lkNG3E3",
        "outputId": "c8de38f1-8411-408c-862c-7aa6e099e43f"
      },
      "outputs": [
        {
          "data": {
            "text/plain": [
              "0.6826894921370863"
            ]
          },
          "execution_count": 39,
          "metadata": {},
          "output_type": "execute_result"
        }
      ],
      "source": [
        "probabilidade = norm.cdf(Z_superior) - (1 - norm.cdf(Z_superior))\n",
        "probabilidade"
      ]
    },
    {
      "cell_type": "code",
      "execution_count": null,
      "metadata": {
        "colab": {
          "base_uri": "https://localhost:8080/",
          "height": 34
        },
        "id": "MjEfhnQEG3E5",
        "outputId": "4a6241c6-1b04-4c5f-b62d-9e98f412f3ad"
      },
      "outputs": [
        {
          "data": {
            "text/plain": [
              "0.6826894921370857"
            ]
          },
          "execution_count": 40,
          "metadata": {},
          "output_type": "execute_result"
        }
      ],
      "source": [
        "probabilidade = norm.cdf(Z_superior) - norm.cdf(Z_inferior)\n",
        "probabilidade"
      ]
    },
    {
      "cell_type": "markdown",
      "metadata": {
        "id": "05sqVgdaG3E-"
      },
      "source": [
        "### Problema C - Identificação da área sob a curva"
      ]
    },
    {
      "cell_type": "markdown",
      "metadata": {
        "id": "EPKhGTEkG3E_"
      },
      "source": [
        "<img style='float: left' src='https://caelum-online-public.s3.amazonaws.com/1178-estatistica-parte2/01/img006.png' width='350px'>"
      ]
    },
    {
      "cell_type": "markdown",
      "metadata": {
        "id": "BA6jYbsSG3E_"
      },
      "source": [
        "### Obter a variável padronizada $Z$"
      ]
    },
    {
      "cell_type": "code",
      "execution_count": null,
      "metadata": {
        "colab": {
          "base_uri": "https://localhost:8080/",
          "height": 34
        },
        "id": "3OVj60MzG3E_",
        "outputId": "71f57b74-bc13-4493-f8ba-6f05a2a07041"
      },
      "outputs": [
        {
          "data": {
            "text/plain": [
              "1.9999999999999996"
            ]
          },
          "execution_count": 41,
          "metadata": {},
          "output_type": "execute_result"
        }
      ],
      "source": [
        "Z = (1.9 - media) / desvio_padrao\n",
        "Z"
      ]
    },
    {
      "cell_type": "markdown",
      "metadata": {
        "id": "hCiiWAm_G3FC"
      },
      "source": [
        "### Solução 1 - Utilizando tabela"
      ]
    },
    {
      "cell_type": "code",
      "execution_count": null,
      "metadata": {
        "colab": {
          "base_uri": "https://localhost:8080/",
          "height": 34
        },
        "id": "mSNfoO6VG3FC",
        "outputId": "da00edc8-cd0e-42ae-a27f-02082230f9e6"
      },
      "outputs": [
        {
          "data": {
            "text/plain": [
              "0.022800000000000042"
            ]
          },
          "execution_count": 42,
          "metadata": {},
          "output_type": "execute_result"
        }
      ],
      "source": [
        "probabilidade = 1 - 0.9772\n",
        "probabilidade"
      ]
    },
    {
      "cell_type": "markdown",
      "metadata": {
        "id": "QCyoVXOdG3FF"
      },
      "source": [
        "### Solução 2 - Utilizando Scipy"
      ]
    },
    {
      "cell_type": "code",
      "execution_count": null,
      "metadata": {
        "colab": {
          "base_uri": "https://localhost:8080/",
          "height": 34
        },
        "id": "caIE-t83G3FF",
        "outputId": "224b72ff-7edd-4b66-a24e-a1f89e4685c9"
      },
      "outputs": [
        {
          "data": {
            "text/plain": [
              "0.02275013194817921"
            ]
          },
          "execution_count": 43,
          "metadata": {},
          "output_type": "execute_result"
        }
      ],
      "source": [
        "probabilidade = 1 - norm.cdf(Z)\n",
        "probabilidade"
      ]
    },
    {
      "cell_type": "code",
      "execution_count": null,
      "metadata": {
        "colab": {
          "base_uri": "https://localhost:8080/",
          "height": 34
        },
        "id": "wKjqQGgMG3FI",
        "outputId": "7ef30837-195e-4f5b-9bef-68fceaff2397"
      },
      "outputs": [
        {
          "data": {
            "text/plain": [
              "0.022750131948179216"
            ]
          },
          "execution_count": 44,
          "metadata": {},
          "output_type": "execute_result"
        }
      ],
      "source": [
        "probabilidade = norm.cdf(-Z)\n",
        "probabilidade"
      ]
    },
    {
      "cell_type": "markdown",
      "metadata": {
        "id": "GmmzChE2t4wW"
      },
      "source": [
        "# <font color=green>3 AMOSTRAGEM</font>\n",
        "***"
      ]
    },
    {
      "cell_type": "markdown",
      "metadata": {
        "id": "g8PbtmQZt4Wv"
      },
      "source": [
        "## <font color=green>3.1 População e Amostra</font>\n",
        "***"
      ]
    },
    {
      "cell_type": "markdown",
      "metadata": {
        "id": "sedD5gB9G3FV"
      },
      "source": [
        "### População\n",
        "Conjunto de todos os elementos de interesse em um estudo. Diversos elementos podem compor uma população, por exemplo: pessoas, idades, alturas, carros etc.\n",
        "\n",
        "Com relação ao tamanho, as populações podem ser limitadas (populações finitas) ou ilimitadas (populações infinitas)."
      ]
    },
    {
      "cell_type": "markdown",
      "metadata": {
        "id": "XBFhAWNcG3FW"
      },
      "source": [
        "### Populações finitas\n",
        "\n",
        "Permitem a contagem de seus elementos. Como exemplos temos o número de funcionário de uma empresa, a quantidade de alunos em uma escola etc."
      ]
    },
    {
      "cell_type": "markdown",
      "metadata": {
        "id": "YT8V2GB1G3FW"
      },
      "source": [
        "### Populações infinitas\n",
        "\n",
        "Não é possível contar seus elementos. Como exemplos temos a quantidade de porções que se pode extrair da água do mar para uma análise, temperatura medida em cada ponto de um território etc.\n",
        "\n",
        "<font color=red>Quando os elementos de uma população puderem ser contados, porém apresentando uma quantidade muito grande, assume-se a população como infinita.</font>."
      ]
    },
    {
      "cell_type": "markdown",
      "metadata": {
        "id": "a-WtAXv1G3FX"
      },
      "source": [
        "### Amostra\n",
        "Subconjunto representativo da população."
      ]
    },
    {
      "cell_type": "markdown",
      "metadata": {
        "id": "QWnDYpPSG3FX"
      },
      "source": [
        "Os atributos numéricos de uma população como sua média, variância e desvio padrão, são conhecidos como **parâmetros**. O principal foco da inferência estatística é justamente gerar estimativas e testar hipóteses sobre os parâmetros populacionais utilizando as informações de amostras."
      ]
    },
    {
      "cell_type": "markdown",
      "metadata": {
        "id": "dDz6vFbDG3FZ"
      },
      "source": [
        "## <font color=green>3.2 Quando utilizar uma amostra?</font>\n",
        "***"
      ]
    },
    {
      "cell_type": "markdown",
      "metadata": {
        "id": "5X1YwCGlG3Fe"
      },
      "source": [
        "### Populações infinitas\n",
        "\n",
        "O estudo não chegaria nunca ao fim. Não é possível investigar todos os elementos da população."
      ]
    },
    {
      "cell_type": "markdown",
      "metadata": {
        "id": "jHLtG8HSG3Ff"
      },
      "source": [
        "### Testes destrutivos\n",
        "\n",
        "Estudos onde os elementos avaliados são totalmente consumidos ou destruídos. Exemplo: testes de vida útil, testes de segurança contra colisões em automóveis."
      ]
    },
    {
      "cell_type": "markdown",
      "metadata": {
        "id": "lxYxepmdG3Ff"
      },
      "source": [
        "### Resultados rápidos\n",
        "\n",
        "Pesquisas que precisam de mais agilidade na divulgação. Exemplo: pesquisas de opinião, pesquisas que envolvam problemas de saúde pública."
      ]
    },
    {
      "cell_type": "markdown",
      "metadata": {
        "id": "PeUCGL5nG3Fj"
      },
      "source": [
        "### Custos elevados\n",
        "\n",
        "Quando a população é finita mas muito numerosa, o custo de um censo pode tornar o processo inviável."
      ]
    },
    {
      "cell_type": "markdown",
      "metadata": {
        "id": "1sbJeMpSG3Fj"
      },
      "source": [
        "## <font color=green>3.3 Amostragem Aleatória Simples</font>\n",
        "***"
      ]
    },
    {
      "cell_type": "markdown",
      "metadata": {
        "id": "Kiq9cYMYG3Fp"
      },
      "source": [
        "É uma das principais maneiras de se extrair uma amostra de uma população. A exigência fundamental deste tipo de abordagem é que cada elemeto da população tenha as mesmas chances de ser selecionado para fazer parte da amostra."
      ]
    },
    {
      "cell_type": "code",
      "execution_count": null,
      "metadata": {
        "colab": {
          "base_uri": "https://localhost:8080/",
          "height": 34
        },
        "id": "NtQ8HOYdG3Fq",
        "outputId": "d746a965-c212-4b99-ac1f-a7741b13544f"
      },
      "outputs": [
        {
          "data": {
            "text/plain": [
              "76840"
            ]
          },
          "execution_count": 45,
          "metadata": {},
          "output_type": "execute_result"
        }
      ],
      "source": [
        "dados.shape[0]"
      ]
    },
    {
      "cell_type": "code",
      "execution_count": null,
      "metadata": {
        "colab": {
          "base_uri": "https://localhost:8080/",
          "height": 34
        },
        "id": "DsXJHWhMG3Fs",
        "outputId": "b5e5d083-2d89-4f31-e8dd-5ae48375a81c"
      },
      "outputs": [
        {
          "data": {
            "text/plain": [
              "2000.3831988547631"
            ]
          },
          "execution_count": 46,
          "metadata": {},
          "output_type": "execute_result"
        }
      ],
      "source": [
        "dados.Renda.mean()"
      ]
    },
    {
      "cell_type": "code",
      "execution_count": null,
      "metadata": {
        "id": "k7yJucVMG3Fw"
      },
      "outputs": [],
      "source": [
        "amostra = dados.sample(n = 1000, random_state = 101)"
      ]
    },
    {
      "cell_type": "code",
      "execution_count": null,
      "metadata": {
        "colab": {
          "base_uri": "https://localhost:8080/",
          "height": 34
        },
        "id": "wUyXS65sG3F2",
        "outputId": "d3440aaa-c46f-4d44-8d29-5ab5a3c914a1"
      },
      "outputs": [
        {
          "data": {
            "text/plain": [
              "1000"
            ]
          },
          "execution_count": 48,
          "metadata": {},
          "output_type": "execute_result"
        }
      ],
      "source": [
        "amostra.shape[0]"
      ]
    },
    {
      "cell_type": "code",
      "execution_count": null,
      "metadata": {
        "colab": {
          "base_uri": "https://localhost:8080/",
          "height": 34
        },
        "id": "y0J4UtOwG3F5",
        "outputId": "f2d60d13-3544-4787-a3b4-876b02666da1"
      },
      "outputs": [
        {
          "data": {
            "text/plain": [
              "1998.783"
            ]
          },
          "execution_count": 49,
          "metadata": {},
          "output_type": "execute_result"
        }
      ],
      "source": [
        "amostra.Renda.mean()"
      ]
    },
    {
      "cell_type": "code",
      "execution_count": null,
      "metadata": {
        "colab": {
          "base_uri": "https://localhost:8080/",
          "height": 68
        },
        "id": "WGZT_wnjSgPy",
        "outputId": "f905ff8a-84f8-45d5-d232-927630754b70"
      },
      "outputs": [
        {
          "data": {
            "text/plain": [
              "0    0.692998\n",
              "1    0.307002\n",
              "Name: Sexo, dtype: float64"
            ]
          },
          "execution_count": 50,
          "metadata": {},
          "output_type": "execute_result"
        }
      ],
      "source": [
        "dados.Sexo.value_counts(normalize = True)"
      ]
    },
    {
      "cell_type": "code",
      "execution_count": null,
      "metadata": {
        "colab": {
          "base_uri": "https://localhost:8080/",
          "height": 68
        },
        "id": "1la3Y_reSgEM",
        "outputId": "4611d1f3-3903-454b-e136-fb21c708be03"
      },
      "outputs": [
        {
          "data": {
            "text/plain": [
              "0    0.706\n",
              "1    0.294\n",
              "Name: Sexo, dtype: float64"
            ]
          },
          "execution_count": 51,
          "metadata": {},
          "output_type": "execute_result"
        }
      ],
      "source": [
        "amostra.Sexo.value_counts(normalize = True)"
      ]
    },
    {
      "cell_type": "markdown",
      "metadata": {
        "id": "stcKhnJBG3F7"
      },
      "source": [
        "## <font color=green>3.4 Amostragem Estratificada</font>\n",
        "***"
      ]
    },
    {
      "cell_type": "markdown",
      "metadata": {
        "id": "W1uEZMRIG3GA"
      },
      "source": [
        "É uma melhoria do processo de amostragem aleatória simples. Neste método é proposta a divisão da população em subgrupos de elementos com características similares, ou seja, grupos mais homogêneos. Com estes subgrupos separados, aplica-se a técnica de amostragem aleatória simples dentro de cada subgrupo individualmente."
      ]
    },
    {
      "cell_type": "markdown",
      "metadata": {
        "id": "xRjUHDAbG3GB"
      },
      "source": [
        "## <font color=green>3.5 Amostragem por Conglomerados</font>\n",
        "***"
      ]
    },
    {
      "cell_type": "markdown",
      "metadata": {
        "id": "sW9IuaL9G3GH"
      },
      "source": [
        "Também visa melhorar o critério de amostragem aleatória simples. Na amostragem por conglomerados são também criados subgrupos, porém não serão homogêneas como na amostragem estratificada. Na amostragem por conglomerados os subgrupos serão heterogêneos, onde, em seguida, serão aplicadas a amostragem aleatória simples ou estratificada.\n",
        "\n",
        "Um exemplo bastante comum de aplicação deste tipo de técnica é na divisão da população em grupos territoriais, onde os elementos investigados terão características bastante variadas."
      ]
    },
    {
      "cell_type": "markdown",
      "metadata": {
        "id": "2LNJT4FEuzO4"
      },
      "source": [
        "# <font color=green>4 ESTIMAÇÃO</font>\n",
        "***"
      ]
    },
    {
      "cell_type": "markdown",
      "metadata": {
        "id": "z69W2sVGmybS"
      },
      "source": [
        "## <font color='red'>Problema </font>"
      ]
    },
    {
      "cell_type": "markdown",
      "metadata": {
        "id": "ytP6VpismwDY"
      },
      "source": [
        "Suponha que os pesos dos sacos de arroz de uma indústria alimentícia se distribuem aproximadamente como uma normal de **desvio padrão populacional igual a 150 g**. Selecionada uma **amostra aleatório de 20 sacos** de um lote específico, obteve-se um **peso médio de 5.050 g**. Construa um **intervalo de confiança para a média populacional** assumindo um **nível de significância de 5%**."
      ]
    },
    {
      "cell_type": "markdown",
      "metadata": {
        "id": "PCqEvJMOwvUf"
      },
      "source": [
        "---"
      ]
    },
    {
      "cell_type": "markdown",
      "metadata": {
        "id": "HU578SXBG3GN"
      },
      "source": [
        "É a forma de se fazer suposições generalizadas sobre os parâmetros de uma população tendo como base as informações de uma amostra.\n",
        "\n",
        "- **Parâmetros** são os atributos numéricos de uma população, tal como a média, desvio padrão etc.\n",
        "\n",
        "- **Estimativa** é o valor obtido para determinado parâmetro a partir dos dados de uma amostra da população."
      ]
    },
    {
      "cell_type": "markdown",
      "metadata": {
        "id": "klWVkoUDG3GR"
      },
      "source": [
        "## <font color=green>4.1 Teorema do limite central</font>\n",
        "***"
      ]
    },
    {
      "cell_type": "markdown",
      "metadata": {
        "id": "QpgTvbISG3GU"
      },
      "source": [
        "> O **Teorema do Limite Central** afirma que, com o aumento do tamanho da amostra, a distribuição das médias amostrais se aproxima de uma distribuição normal com média igual à média da população e desvio padrão igual ao desvio padrão da variável original dividido pela raiz quadrada do tamanho da amostra. Este fato é assegurado para $n$ maior ou igual a 30."
      ]
    },
    {
      "cell_type": "markdown",
      "metadata": {
        "id": "ZIAr6is3wEMp"
      },
      "source": [
        "# $$\\sigma_\\bar{x} = \\frac{\\sigma}{\\sqrt{n}}$$\n",
        "\n",
        "O desvio padrão das médias amostrais é conhecido como **erro padrão da média**"
      ]
    },
    {
      "cell_type": "markdown",
      "metadata": {
        "id": "eFtSo6H0iz7z"
      },
      "source": [
        "### Entendendo o Teorema do Limite Central"
      ]
    },
    {
      "cell_type": "code",
      "execution_count": null,
      "metadata": {
        "id": "S3q73XpnizTi"
      },
      "outputs": [],
      "source": [
        "n = 2000\n",
        "total_de_amostras = 1500"
      ]
    },
    {
      "cell_type": "code",
      "execution_count": null,
      "metadata": {
        "colab": {
          "base_uri": "https://localhost:8080/",
          "height": 32
        },
        "id": "uXZvARZ0izQp",
        "outputId": "84cfa6fa-e581-4cb6-bb4c-b622db1e85cd"
      },
      "outputs": [
        {
          "data": {
            "text/html": [
              "<div>\n",
              "<style scoped>\n",
              "    .dataframe tbody tr th:only-of-type {\n",
              "        vertical-align: middle;\n",
              "    }\n",
              "\n",
              "    .dataframe tbody tr th {\n",
              "        vertical-align: top;\n",
              "    }\n",
              "\n",
              "    .dataframe thead th {\n",
              "        text-align: right;\n",
              "    }\n",
              "</style>\n",
              "<table border=\"1\" class=\"dataframe\">\n",
              "  <thead>\n",
              "    <tr style=\"text-align: right;\">\n",
              "      <th></th>\n",
              "    </tr>\n",
              "  </thead>\n",
              "  <tbody>\n",
              "  </tbody>\n",
              "</table>\n",
              "</div>"
            ],
            "text/plain": [
              "Empty DataFrame\n",
              "Columns: []\n",
              "Index: []"
            ]
          },
          "execution_count": 53,
          "metadata": {},
          "output_type": "execute_result"
        }
      ],
      "source": [
        "amostras = pd.DataFrame()\n",
        "amostras"
      ]
    },
    {
      "cell_type": "code",
      "execution_count": null,
      "metadata": {
        "colab": {
          "base_uri": "https://localhost:8080/",
          "height": 1989
        },
        "id": "tXa7XKhKTyMu",
        "outputId": "2fe05b86-ecc8-48af-be13-17e8c7c235ce",
        "scrolled": true
      },
      "outputs": [
        {
          "data": {
            "text/html": [
              "<div>\n",
              "<style scoped>\n",
              "    .dataframe tbody tr th:only-of-type {\n",
              "        vertical-align: middle;\n",
              "    }\n",
              "\n",
              "    .dataframe tbody tr th {\n",
              "        vertical-align: top;\n",
              "    }\n",
              "\n",
              "    .dataframe thead th {\n",
              "        text-align: right;\n",
              "    }\n",
              "</style>\n",
              "<table border=\"1\" class=\"dataframe\">\n",
              "  <thead>\n",
              "    <tr style=\"text-align: right;\">\n",
              "      <th></th>\n",
              "      <th>Amostra_0</th>\n",
              "      <th>Amostra_1</th>\n",
              "      <th>Amostra_2</th>\n",
              "      <th>Amostra_3</th>\n",
              "      <th>Amostra_4</th>\n",
              "      <th>Amostra_5</th>\n",
              "      <th>Amostra_6</th>\n",
              "      <th>Amostra_7</th>\n",
              "      <th>Amostra_8</th>\n",
              "      <th>Amostra_9</th>\n",
              "      <th>...</th>\n",
              "      <th>Amostra_1490</th>\n",
              "      <th>Amostra_1491</th>\n",
              "      <th>Amostra_1492</th>\n",
              "      <th>Amostra_1493</th>\n",
              "      <th>Amostra_1494</th>\n",
              "      <th>Amostra_1495</th>\n",
              "      <th>Amostra_1496</th>\n",
              "      <th>Amostra_1497</th>\n",
              "      <th>Amostra_1498</th>\n",
              "      <th>Amostra_1499</th>\n",
              "    </tr>\n",
              "  </thead>\n",
              "  <tbody>\n",
              "    <tr>\n",
              "      <th>0</th>\n",
              "      <td>36</td>\n",
              "      <td>36</td>\n",
              "      <td>62</td>\n",
              "      <td>56</td>\n",
              "      <td>55</td>\n",
              "      <td>49</td>\n",
              "      <td>37</td>\n",
              "      <td>28</td>\n",
              "      <td>39</td>\n",
              "      <td>47</td>\n",
              "      <td>...</td>\n",
              "      <td>42</td>\n",
              "      <td>39</td>\n",
              "      <td>37</td>\n",
              "      <td>35</td>\n",
              "      <td>41</td>\n",
              "      <td>33</td>\n",
              "      <td>39</td>\n",
              "      <td>42</td>\n",
              "      <td>35</td>\n",
              "      <td>41</td>\n",
              "    </tr>\n",
              "    <tr>\n",
              "      <th>1</th>\n",
              "      <td>33</td>\n",
              "      <td>53</td>\n",
              "      <td>43</td>\n",
              "      <td>60</td>\n",
              "      <td>45</td>\n",
              "      <td>53</td>\n",
              "      <td>46</td>\n",
              "      <td>39</td>\n",
              "      <td>25</td>\n",
              "      <td>49</td>\n",
              "      <td>...</td>\n",
              "      <td>39</td>\n",
              "      <td>47</td>\n",
              "      <td>40</td>\n",
              "      <td>37</td>\n",
              "      <td>33</td>\n",
              "      <td>31</td>\n",
              "      <td>27</td>\n",
              "      <td>25</td>\n",
              "      <td>44</td>\n",
              "      <td>55</td>\n",
              "    </tr>\n",
              "    <tr>\n",
              "      <th>2</th>\n",
              "      <td>22</td>\n",
              "      <td>22</td>\n",
              "      <td>34</td>\n",
              "      <td>55</td>\n",
              "      <td>64</td>\n",
              "      <td>62</td>\n",
              "      <td>52</td>\n",
              "      <td>28</td>\n",
              "      <td>46</td>\n",
              "      <td>30</td>\n",
              "      <td>...</td>\n",
              "      <td>59</td>\n",
              "      <td>38</td>\n",
              "      <td>36</td>\n",
              "      <td>73</td>\n",
              "      <td>43</td>\n",
              "      <td>36</td>\n",
              "      <td>43</td>\n",
              "      <td>43</td>\n",
              "      <td>33</td>\n",
              "      <td>38</td>\n",
              "    </tr>\n",
              "    <tr>\n",
              "      <th>3</th>\n",
              "      <td>28</td>\n",
              "      <td>63</td>\n",
              "      <td>35</td>\n",
              "      <td>43</td>\n",
              "      <td>80</td>\n",
              "      <td>39</td>\n",
              "      <td>40</td>\n",
              "      <td>50</td>\n",
              "      <td>27</td>\n",
              "      <td>63</td>\n",
              "      <td>...</td>\n",
              "      <td>49</td>\n",
              "      <td>38</td>\n",
              "      <td>24</td>\n",
              "      <td>44</td>\n",
              "      <td>44</td>\n",
              "      <td>55</td>\n",
              "      <td>57</td>\n",
              "      <td>27</td>\n",
              "      <td>24</td>\n",
              "      <td>44</td>\n",
              "    </tr>\n",
              "    <tr>\n",
              "      <th>4</th>\n",
              "      <td>46</td>\n",
              "      <td>35</td>\n",
              "      <td>48</td>\n",
              "      <td>41</td>\n",
              "      <td>35</td>\n",
              "      <td>41</td>\n",
              "      <td>43</td>\n",
              "      <td>57</td>\n",
              "      <td>53</td>\n",
              "      <td>36</td>\n",
              "      <td>...</td>\n",
              "      <td>72</td>\n",
              "      <td>35</td>\n",
              "      <td>54</td>\n",
              "      <td>45</td>\n",
              "      <td>49</td>\n",
              "      <td>40</td>\n",
              "      <td>30</td>\n",
              "      <td>39</td>\n",
              "      <td>45</td>\n",
              "      <td>61</td>\n",
              "    </tr>\n",
              "    <tr>\n",
              "      <th>5</th>\n",
              "      <td>69</td>\n",
              "      <td>63</td>\n",
              "      <td>51</td>\n",
              "      <td>66</td>\n",
              "      <td>50</td>\n",
              "      <td>51</td>\n",
              "      <td>52</td>\n",
              "      <td>55</td>\n",
              "      <td>41</td>\n",
              "      <td>41</td>\n",
              "      <td>...</td>\n",
              "      <td>33</td>\n",
              "      <td>37</td>\n",
              "      <td>61</td>\n",
              "      <td>66</td>\n",
              "      <td>29</td>\n",
              "      <td>54</td>\n",
              "      <td>54</td>\n",
              "      <td>37</td>\n",
              "      <td>31</td>\n",
              "      <td>36</td>\n",
              "    </tr>\n",
              "    <tr>\n",
              "      <th>6</th>\n",
              "      <td>42</td>\n",
              "      <td>47</td>\n",
              "      <td>26</td>\n",
              "      <td>53</td>\n",
              "      <td>34</td>\n",
              "      <td>43</td>\n",
              "      <td>61</td>\n",
              "      <td>59</td>\n",
              "      <td>32</td>\n",
              "      <td>44</td>\n",
              "      <td>...</td>\n",
              "      <td>55</td>\n",
              "      <td>22</td>\n",
              "      <td>34</td>\n",
              "      <td>57</td>\n",
              "      <td>35</td>\n",
              "      <td>38</td>\n",
              "      <td>45</td>\n",
              "      <td>40</td>\n",
              "      <td>49</td>\n",
              "      <td>49</td>\n",
              "    </tr>\n",
              "    <tr>\n",
              "      <th>7</th>\n",
              "      <td>44</td>\n",
              "      <td>47</td>\n",
              "      <td>46</td>\n",
              "      <td>22</td>\n",
              "      <td>60</td>\n",
              "      <td>50</td>\n",
              "      <td>51</td>\n",
              "      <td>28</td>\n",
              "      <td>32</td>\n",
              "      <td>21</td>\n",
              "      <td>...</td>\n",
              "      <td>41</td>\n",
              "      <td>51</td>\n",
              "      <td>39</td>\n",
              "      <td>34</td>\n",
              "      <td>39</td>\n",
              "      <td>53</td>\n",
              "      <td>23</td>\n",
              "      <td>38</td>\n",
              "      <td>48</td>\n",
              "      <td>62</td>\n",
              "    </tr>\n",
              "    <tr>\n",
              "      <th>8</th>\n",
              "      <td>51</td>\n",
              "      <td>57</td>\n",
              "      <td>39</td>\n",
              "      <td>61</td>\n",
              "      <td>22</td>\n",
              "      <td>46</td>\n",
              "      <td>28</td>\n",
              "      <td>46</td>\n",
              "      <td>45</td>\n",
              "      <td>53</td>\n",
              "      <td>...</td>\n",
              "      <td>44</td>\n",
              "      <td>39</td>\n",
              "      <td>48</td>\n",
              "      <td>44</td>\n",
              "      <td>36</td>\n",
              "      <td>31</td>\n",
              "      <td>69</td>\n",
              "      <td>39</td>\n",
              "      <td>63</td>\n",
              "      <td>59</td>\n",
              "    </tr>\n",
              "    <tr>\n",
              "      <th>9</th>\n",
              "      <td>54</td>\n",
              "      <td>41</td>\n",
              "      <td>53</td>\n",
              "      <td>40</td>\n",
              "      <td>48</td>\n",
              "      <td>24</td>\n",
              "      <td>47</td>\n",
              "      <td>64</td>\n",
              "      <td>34</td>\n",
              "      <td>39</td>\n",
              "      <td>...</td>\n",
              "      <td>42</td>\n",
              "      <td>46</td>\n",
              "      <td>37</td>\n",
              "      <td>28</td>\n",
              "      <td>55</td>\n",
              "      <td>57</td>\n",
              "      <td>27</td>\n",
              "      <td>52</td>\n",
              "      <td>32</td>\n",
              "      <td>69</td>\n",
              "    </tr>\n",
              "    <tr>\n",
              "      <th>10</th>\n",
              "      <td>31</td>\n",
              "      <td>51</td>\n",
              "      <td>57</td>\n",
              "      <td>61</td>\n",
              "      <td>45</td>\n",
              "      <td>56</td>\n",
              "      <td>56</td>\n",
              "      <td>29</td>\n",
              "      <td>20</td>\n",
              "      <td>36</td>\n",
              "      <td>...</td>\n",
              "      <td>38</td>\n",
              "      <td>58</td>\n",
              "      <td>24</td>\n",
              "      <td>29</td>\n",
              "      <td>44</td>\n",
              "      <td>35</td>\n",
              "      <td>17</td>\n",
              "      <td>72</td>\n",
              "      <td>40</td>\n",
              "      <td>59</td>\n",
              "    </tr>\n",
              "    <tr>\n",
              "      <th>11</th>\n",
              "      <td>64</td>\n",
              "      <td>39</td>\n",
              "      <td>51</td>\n",
              "      <td>56</td>\n",
              "      <td>54</td>\n",
              "      <td>21</td>\n",
              "      <td>47</td>\n",
              "      <td>58</td>\n",
              "      <td>36</td>\n",
              "      <td>42</td>\n",
              "      <td>...</td>\n",
              "      <td>48</td>\n",
              "      <td>67</td>\n",
              "      <td>43</td>\n",
              "      <td>61</td>\n",
              "      <td>39</td>\n",
              "      <td>59</td>\n",
              "      <td>46</td>\n",
              "      <td>39</td>\n",
              "      <td>44</td>\n",
              "      <td>54</td>\n",
              "    </tr>\n",
              "    <tr>\n",
              "      <th>12</th>\n",
              "      <td>53</td>\n",
              "      <td>49</td>\n",
              "      <td>41</td>\n",
              "      <td>33</td>\n",
              "      <td>59</td>\n",
              "      <td>52</td>\n",
              "      <td>38</td>\n",
              "      <td>44</td>\n",
              "      <td>20</td>\n",
              "      <td>33</td>\n",
              "      <td>...</td>\n",
              "      <td>47</td>\n",
              "      <td>31</td>\n",
              "      <td>45</td>\n",
              "      <td>55</td>\n",
              "      <td>35</td>\n",
              "      <td>50</td>\n",
              "      <td>58</td>\n",
              "      <td>49</td>\n",
              "      <td>51</td>\n",
              "      <td>34</td>\n",
              "    </tr>\n",
              "    <tr>\n",
              "      <th>13</th>\n",
              "      <td>31</td>\n",
              "      <td>43</td>\n",
              "      <td>38</td>\n",
              "      <td>51</td>\n",
              "      <td>49</td>\n",
              "      <td>60</td>\n",
              "      <td>68</td>\n",
              "      <td>21</td>\n",
              "      <td>41</td>\n",
              "      <td>39</td>\n",
              "      <td>...</td>\n",
              "      <td>74</td>\n",
              "      <td>40</td>\n",
              "      <td>60</td>\n",
              "      <td>61</td>\n",
              "      <td>30</td>\n",
              "      <td>49</td>\n",
              "      <td>38</td>\n",
              "      <td>32</td>\n",
              "      <td>56</td>\n",
              "      <td>38</td>\n",
              "    </tr>\n",
              "    <tr>\n",
              "      <th>14</th>\n",
              "      <td>27</td>\n",
              "      <td>52</td>\n",
              "      <td>54</td>\n",
              "      <td>39</td>\n",
              "      <td>38</td>\n",
              "      <td>30</td>\n",
              "      <td>36</td>\n",
              "      <td>61</td>\n",
              "      <td>25</td>\n",
              "      <td>38</td>\n",
              "      <td>...</td>\n",
              "      <td>38</td>\n",
              "      <td>59</td>\n",
              "      <td>44</td>\n",
              "      <td>37</td>\n",
              "      <td>61</td>\n",
              "      <td>34</td>\n",
              "      <td>46</td>\n",
              "      <td>28</td>\n",
              "      <td>26</td>\n",
              "      <td>52</td>\n",
              "    </tr>\n",
              "    <tr>\n",
              "      <th>15</th>\n",
              "      <td>41</td>\n",
              "      <td>32</td>\n",
              "      <td>44</td>\n",
              "      <td>51</td>\n",
              "      <td>43</td>\n",
              "      <td>47</td>\n",
              "      <td>35</td>\n",
              "      <td>31</td>\n",
              "      <td>33</td>\n",
              "      <td>25</td>\n",
              "      <td>...</td>\n",
              "      <td>27</td>\n",
              "      <td>30</td>\n",
              "      <td>43</td>\n",
              "      <td>43</td>\n",
              "      <td>31</td>\n",
              "      <td>36</td>\n",
              "      <td>33</td>\n",
              "      <td>47</td>\n",
              "      <td>34</td>\n",
              "      <td>35</td>\n",
              "    </tr>\n",
              "    <tr>\n",
              "      <th>16</th>\n",
              "      <td>64</td>\n",
              "      <td>31</td>\n",
              "      <td>43</td>\n",
              "      <td>49</td>\n",
              "      <td>34</td>\n",
              "      <td>34</td>\n",
              "      <td>51</td>\n",
              "      <td>49</td>\n",
              "      <td>54</td>\n",
              "      <td>59</td>\n",
              "      <td>...</td>\n",
              "      <td>49</td>\n",
              "      <td>51</td>\n",
              "      <td>45</td>\n",
              "      <td>54</td>\n",
              "      <td>34</td>\n",
              "      <td>56</td>\n",
              "      <td>66</td>\n",
              "      <td>36</td>\n",
              "      <td>60</td>\n",
              "      <td>44</td>\n",
              "    </tr>\n",
              "    <tr>\n",
              "      <th>17</th>\n",
              "      <td>19</td>\n",
              "      <td>51</td>\n",
              "      <td>48</td>\n",
              "      <td>26</td>\n",
              "      <td>40</td>\n",
              "      <td>55</td>\n",
              "      <td>44</td>\n",
              "      <td>36</td>\n",
              "      <td>35</td>\n",
              "      <td>28</td>\n",
              "      <td>...</td>\n",
              "      <td>39</td>\n",
              "      <td>57</td>\n",
              "      <td>44</td>\n",
              "      <td>27</td>\n",
              "      <td>41</td>\n",
              "      <td>43</td>\n",
              "      <td>37</td>\n",
              "      <td>34</td>\n",
              "      <td>38</td>\n",
              "      <td>37</td>\n",
              "    </tr>\n",
              "    <tr>\n",
              "      <th>18</th>\n",
              "      <td>39</td>\n",
              "      <td>61</td>\n",
              "      <td>42</td>\n",
              "      <td>32</td>\n",
              "      <td>54</td>\n",
              "      <td>20</td>\n",
              "      <td>21</td>\n",
              "      <td>42</td>\n",
              "      <td>30</td>\n",
              "      <td>36</td>\n",
              "      <td>...</td>\n",
              "      <td>36</td>\n",
              "      <td>48</td>\n",
              "      <td>41</td>\n",
              "      <td>59</td>\n",
              "      <td>42</td>\n",
              "      <td>22</td>\n",
              "      <td>24</td>\n",
              "      <td>32</td>\n",
              "      <td>47</td>\n",
              "      <td>35</td>\n",
              "    </tr>\n",
              "    <tr>\n",
              "      <th>19</th>\n",
              "      <td>50</td>\n",
              "      <td>30</td>\n",
              "      <td>59</td>\n",
              "      <td>46</td>\n",
              "      <td>55</td>\n",
              "      <td>43</td>\n",
              "      <td>35</td>\n",
              "      <td>31</td>\n",
              "      <td>35</td>\n",
              "      <td>28</td>\n",
              "      <td>...</td>\n",
              "      <td>33</td>\n",
              "      <td>46</td>\n",
              "      <td>42</td>\n",
              "      <td>47</td>\n",
              "      <td>56</td>\n",
              "      <td>30</td>\n",
              "      <td>56</td>\n",
              "      <td>47</td>\n",
              "      <td>23</td>\n",
              "      <td>35</td>\n",
              "    </tr>\n",
              "    <tr>\n",
              "      <th>20</th>\n",
              "      <td>59</td>\n",
              "      <td>40</td>\n",
              "      <td>47</td>\n",
              "      <td>51</td>\n",
              "      <td>39</td>\n",
              "      <td>55</td>\n",
              "      <td>63</td>\n",
              "      <td>54</td>\n",
              "      <td>35</td>\n",
              "      <td>54</td>\n",
              "      <td>...</td>\n",
              "      <td>28</td>\n",
              "      <td>43</td>\n",
              "      <td>51</td>\n",
              "      <td>41</td>\n",
              "      <td>52</td>\n",
              "      <td>40</td>\n",
              "      <td>58</td>\n",
              "      <td>51</td>\n",
              "      <td>42</td>\n",
              "      <td>36</td>\n",
              "    </tr>\n",
              "    <tr>\n",
              "      <th>21</th>\n",
              "      <td>34</td>\n",
              "      <td>49</td>\n",
              "      <td>36</td>\n",
              "      <td>42</td>\n",
              "      <td>27</td>\n",
              "      <td>31</td>\n",
              "      <td>42</td>\n",
              "      <td>34</td>\n",
              "      <td>54</td>\n",
              "      <td>44</td>\n",
              "      <td>...</td>\n",
              "      <td>38</td>\n",
              "      <td>59</td>\n",
              "      <td>52</td>\n",
              "      <td>25</td>\n",
              "      <td>55</td>\n",
              "      <td>28</td>\n",
              "      <td>38</td>\n",
              "      <td>40</td>\n",
              "      <td>65</td>\n",
              "      <td>24</td>\n",
              "    </tr>\n",
              "    <tr>\n",
              "      <th>22</th>\n",
              "      <td>50</td>\n",
              "      <td>42</td>\n",
              "      <td>22</td>\n",
              "      <td>53</td>\n",
              "      <td>34</td>\n",
              "      <td>43</td>\n",
              "      <td>47</td>\n",
              "      <td>36</td>\n",
              "      <td>51</td>\n",
              "      <td>39</td>\n",
              "      <td>...</td>\n",
              "      <td>32</td>\n",
              "      <td>34</td>\n",
              "      <td>57</td>\n",
              "      <td>31</td>\n",
              "      <td>36</td>\n",
              "      <td>29</td>\n",
              "      <td>43</td>\n",
              "      <td>51</td>\n",
              "      <td>58</td>\n",
              "      <td>35</td>\n",
              "    </tr>\n",
              "    <tr>\n",
              "      <th>23</th>\n",
              "      <td>28</td>\n",
              "      <td>64</td>\n",
              "      <td>54</td>\n",
              "      <td>59</td>\n",
              "      <td>35</td>\n",
              "      <td>40</td>\n",
              "      <td>42</td>\n",
              "      <td>42</td>\n",
              "      <td>55</td>\n",
              "      <td>44</td>\n",
              "      <td>...</td>\n",
              "      <td>42</td>\n",
              "      <td>52</td>\n",
              "      <td>36</td>\n",
              "      <td>57</td>\n",
              "      <td>69</td>\n",
              "      <td>34</td>\n",
              "      <td>36</td>\n",
              "      <td>37</td>\n",
              "      <td>74</td>\n",
              "      <td>36</td>\n",
              "    </tr>\n",
              "    <tr>\n",
              "      <th>24</th>\n",
              "      <td>49</td>\n",
              "      <td>72</td>\n",
              "      <td>22</td>\n",
              "      <td>54</td>\n",
              "      <td>24</td>\n",
              "      <td>45</td>\n",
              "      <td>47</td>\n",
              "      <td>57</td>\n",
              "      <td>24</td>\n",
              "      <td>38</td>\n",
              "      <td>...</td>\n",
              "      <td>36</td>\n",
              "      <td>30</td>\n",
              "      <td>53</td>\n",
              "      <td>27</td>\n",
              "      <td>23</td>\n",
              "      <td>44</td>\n",
              "      <td>53</td>\n",
              "      <td>40</td>\n",
              "      <td>39</td>\n",
              "      <td>39</td>\n",
              "    </tr>\n",
              "    <tr>\n",
              "      <th>25</th>\n",
              "      <td>56</td>\n",
              "      <td>53</td>\n",
              "      <td>23</td>\n",
              "      <td>33</td>\n",
              "      <td>46</td>\n",
              "      <td>33</td>\n",
              "      <td>45</td>\n",
              "      <td>44</td>\n",
              "      <td>28</td>\n",
              "      <td>23</td>\n",
              "      <td>...</td>\n",
              "      <td>57</td>\n",
              "      <td>46</td>\n",
              "      <td>36</td>\n",
              "      <td>38</td>\n",
              "      <td>33</td>\n",
              "      <td>17</td>\n",
              "      <td>27</td>\n",
              "      <td>35</td>\n",
              "      <td>53</td>\n",
              "      <td>34</td>\n",
              "    </tr>\n",
              "    <tr>\n",
              "      <th>26</th>\n",
              "      <td>33</td>\n",
              "      <td>43</td>\n",
              "      <td>54</td>\n",
              "      <td>26</td>\n",
              "      <td>42</td>\n",
              "      <td>54</td>\n",
              "      <td>32</td>\n",
              "      <td>29</td>\n",
              "      <td>45</td>\n",
              "      <td>47</td>\n",
              "      <td>...</td>\n",
              "      <td>22</td>\n",
              "      <td>29</td>\n",
              "      <td>54</td>\n",
              "      <td>40</td>\n",
              "      <td>39</td>\n",
              "      <td>51</td>\n",
              "      <td>49</td>\n",
              "      <td>48</td>\n",
              "      <td>56</td>\n",
              "      <td>51</td>\n",
              "    </tr>\n",
              "    <tr>\n",
              "      <th>27</th>\n",
              "      <td>48</td>\n",
              "      <td>36</td>\n",
              "      <td>52</td>\n",
              "      <td>53</td>\n",
              "      <td>24</td>\n",
              "      <td>49</td>\n",
              "      <td>35</td>\n",
              "      <td>53</td>\n",
              "      <td>37</td>\n",
              "      <td>72</td>\n",
              "      <td>...</td>\n",
              "      <td>62</td>\n",
              "      <td>38</td>\n",
              "      <td>51</td>\n",
              "      <td>48</td>\n",
              "      <td>25</td>\n",
              "      <td>40</td>\n",
              "      <td>47</td>\n",
              "      <td>35</td>\n",
              "      <td>34</td>\n",
              "      <td>41</td>\n",
              "    </tr>\n",
              "    <tr>\n",
              "      <th>28</th>\n",
              "      <td>39</td>\n",
              "      <td>66</td>\n",
              "      <td>35</td>\n",
              "      <td>42</td>\n",
              "      <td>39</td>\n",
              "      <td>53</td>\n",
              "      <td>38</td>\n",
              "      <td>49</td>\n",
              "      <td>68</td>\n",
              "      <td>48</td>\n",
              "      <td>...</td>\n",
              "      <td>39</td>\n",
              "      <td>50</td>\n",
              "      <td>31</td>\n",
              "      <td>28</td>\n",
              "      <td>35</td>\n",
              "      <td>45</td>\n",
              "      <td>55</td>\n",
              "      <td>75</td>\n",
              "      <td>34</td>\n",
              "      <td>49</td>\n",
              "    </tr>\n",
              "    <tr>\n",
              "      <th>29</th>\n",
              "      <td>60</td>\n",
              "      <td>26</td>\n",
              "      <td>49</td>\n",
              "      <td>43</td>\n",
              "      <td>49</td>\n",
              "      <td>31</td>\n",
              "      <td>56</td>\n",
              "      <td>23</td>\n",
              "      <td>39</td>\n",
              "      <td>29</td>\n",
              "      <td>...</td>\n",
              "      <td>27</td>\n",
              "      <td>37</td>\n",
              "      <td>29</td>\n",
              "      <td>36</td>\n",
              "      <td>40</td>\n",
              "      <td>46</td>\n",
              "      <td>38</td>\n",
              "      <td>63</td>\n",
              "      <td>42</td>\n",
              "      <td>46</td>\n",
              "    </tr>\n",
              "    <tr>\n",
              "      <th>...</th>\n",
              "      <td>...</td>\n",
              "      <td>...</td>\n",
              "      <td>...</td>\n",
              "      <td>...</td>\n",
              "      <td>...</td>\n",
              "      <td>...</td>\n",
              "      <td>...</td>\n",
              "      <td>...</td>\n",
              "      <td>...</td>\n",
              "      <td>...</td>\n",
              "      <td>...</td>\n",
              "      <td>...</td>\n",
              "      <td>...</td>\n",
              "      <td>...</td>\n",
              "      <td>...</td>\n",
              "      <td>...</td>\n",
              "      <td>...</td>\n",
              "      <td>...</td>\n",
              "      <td>...</td>\n",
              "      <td>...</td>\n",
              "      <td>...</td>\n",
              "    </tr>\n",
              "    <tr>\n",
              "      <th>1970</th>\n",
              "      <td>58</td>\n",
              "      <td>21</td>\n",
              "      <td>51</td>\n",
              "      <td>53</td>\n",
              "      <td>59</td>\n",
              "      <td>59</td>\n",
              "      <td>52</td>\n",
              "      <td>51</td>\n",
              "      <td>26</td>\n",
              "      <td>36</td>\n",
              "      <td>...</td>\n",
              "      <td>38</td>\n",
              "      <td>24</td>\n",
              "      <td>46</td>\n",
              "      <td>30</td>\n",
              "      <td>55</td>\n",
              "      <td>56</td>\n",
              "      <td>53</td>\n",
              "      <td>47</td>\n",
              "      <td>22</td>\n",
              "      <td>38</td>\n",
              "    </tr>\n",
              "    <tr>\n",
              "      <th>1971</th>\n",
              "      <td>54</td>\n",
              "      <td>54</td>\n",
              "      <td>43</td>\n",
              "      <td>48</td>\n",
              "      <td>25</td>\n",
              "      <td>27</td>\n",
              "      <td>27</td>\n",
              "      <td>28</td>\n",
              "      <td>36</td>\n",
              "      <td>63</td>\n",
              "      <td>...</td>\n",
              "      <td>32</td>\n",
              "      <td>47</td>\n",
              "      <td>33</td>\n",
              "      <td>42</td>\n",
              "      <td>34</td>\n",
              "      <td>43</td>\n",
              "      <td>68</td>\n",
              "      <td>50</td>\n",
              "      <td>43</td>\n",
              "      <td>59</td>\n",
              "    </tr>\n",
              "    <tr>\n",
              "      <th>1972</th>\n",
              "      <td>63</td>\n",
              "      <td>65</td>\n",
              "      <td>41</td>\n",
              "      <td>43</td>\n",
              "      <td>37</td>\n",
              "      <td>42</td>\n",
              "      <td>44</td>\n",
              "      <td>46</td>\n",
              "      <td>37</td>\n",
              "      <td>58</td>\n",
              "      <td>...</td>\n",
              "      <td>33</td>\n",
              "      <td>72</td>\n",
              "      <td>36</td>\n",
              "      <td>60</td>\n",
              "      <td>79</td>\n",
              "      <td>52</td>\n",
              "      <td>54</td>\n",
              "      <td>42</td>\n",
              "      <td>63</td>\n",
              "      <td>31</td>\n",
              "    </tr>\n",
              "    <tr>\n",
              "      <th>1973</th>\n",
              "      <td>28</td>\n",
              "      <td>74</td>\n",
              "      <td>54</td>\n",
              "      <td>53</td>\n",
              "      <td>36</td>\n",
              "      <td>34</td>\n",
              "      <td>50</td>\n",
              "      <td>46</td>\n",
              "      <td>27</td>\n",
              "      <td>54</td>\n",
              "      <td>...</td>\n",
              "      <td>47</td>\n",
              "      <td>32</td>\n",
              "      <td>50</td>\n",
              "      <td>76</td>\n",
              "      <td>46</td>\n",
              "      <td>26</td>\n",
              "      <td>50</td>\n",
              "      <td>60</td>\n",
              "      <td>36</td>\n",
              "      <td>30</td>\n",
              "    </tr>\n",
              "    <tr>\n",
              "      <th>1974</th>\n",
              "      <td>37</td>\n",
              "      <td>49</td>\n",
              "      <td>47</td>\n",
              "      <td>29</td>\n",
              "      <td>32</td>\n",
              "      <td>69</td>\n",
              "      <td>44</td>\n",
              "      <td>37</td>\n",
              "      <td>38</td>\n",
              "      <td>41</td>\n",
              "      <td>...</td>\n",
              "      <td>51</td>\n",
              "      <td>39</td>\n",
              "      <td>37</td>\n",
              "      <td>26</td>\n",
              "      <td>56</td>\n",
              "      <td>40</td>\n",
              "      <td>31</td>\n",
              "      <td>25</td>\n",
              "      <td>42</td>\n",
              "      <td>33</td>\n",
              "    </tr>\n",
              "    <tr>\n",
              "      <th>1975</th>\n",
              "      <td>25</td>\n",
              "      <td>43</td>\n",
              "      <td>48</td>\n",
              "      <td>30</td>\n",
              "      <td>24</td>\n",
              "      <td>52</td>\n",
              "      <td>46</td>\n",
              "      <td>43</td>\n",
              "      <td>40</td>\n",
              "      <td>33</td>\n",
              "      <td>...</td>\n",
              "      <td>23</td>\n",
              "      <td>27</td>\n",
              "      <td>68</td>\n",
              "      <td>57</td>\n",
              "      <td>34</td>\n",
              "      <td>42</td>\n",
              "      <td>65</td>\n",
              "      <td>35</td>\n",
              "      <td>20</td>\n",
              "      <td>55</td>\n",
              "    </tr>\n",
              "    <tr>\n",
              "      <th>1976</th>\n",
              "      <td>31</td>\n",
              "      <td>55</td>\n",
              "      <td>30</td>\n",
              "      <td>30</td>\n",
              "      <td>54</td>\n",
              "      <td>45</td>\n",
              "      <td>39</td>\n",
              "      <td>28</td>\n",
              "      <td>47</td>\n",
              "      <td>52</td>\n",
              "      <td>...</td>\n",
              "      <td>53</td>\n",
              "      <td>35</td>\n",
              "      <td>56</td>\n",
              "      <td>20</td>\n",
              "      <td>57</td>\n",
              "      <td>43</td>\n",
              "      <td>42</td>\n",
              "      <td>46</td>\n",
              "      <td>26</td>\n",
              "      <td>36</td>\n",
              "    </tr>\n",
              "    <tr>\n",
              "      <th>1977</th>\n",
              "      <td>22</td>\n",
              "      <td>61</td>\n",
              "      <td>48</td>\n",
              "      <td>41</td>\n",
              "      <td>49</td>\n",
              "      <td>37</td>\n",
              "      <td>45</td>\n",
              "      <td>62</td>\n",
              "      <td>37</td>\n",
              "      <td>42</td>\n",
              "      <td>...</td>\n",
              "      <td>44</td>\n",
              "      <td>50</td>\n",
              "      <td>46</td>\n",
              "      <td>61</td>\n",
              "      <td>43</td>\n",
              "      <td>64</td>\n",
              "      <td>65</td>\n",
              "      <td>40</td>\n",
              "      <td>46</td>\n",
              "      <td>28</td>\n",
              "    </tr>\n",
              "    <tr>\n",
              "      <th>1978</th>\n",
              "      <td>52</td>\n",
              "      <td>44</td>\n",
              "      <td>48</td>\n",
              "      <td>65</td>\n",
              "      <td>42</td>\n",
              "      <td>66</td>\n",
              "      <td>48</td>\n",
              "      <td>61</td>\n",
              "      <td>45</td>\n",
              "      <td>21</td>\n",
              "      <td>...</td>\n",
              "      <td>31</td>\n",
              "      <td>38</td>\n",
              "      <td>32</td>\n",
              "      <td>29</td>\n",
              "      <td>58</td>\n",
              "      <td>51</td>\n",
              "      <td>61</td>\n",
              "      <td>42</td>\n",
              "      <td>32</td>\n",
              "      <td>40</td>\n",
              "    </tr>\n",
              "    <tr>\n",
              "      <th>1979</th>\n",
              "      <td>43</td>\n",
              "      <td>33</td>\n",
              "      <td>54</td>\n",
              "      <td>53</td>\n",
              "      <td>49</td>\n",
              "      <td>51</td>\n",
              "      <td>59</td>\n",
              "      <td>34</td>\n",
              "      <td>37</td>\n",
              "      <td>47</td>\n",
              "      <td>...</td>\n",
              "      <td>32</td>\n",
              "      <td>40</td>\n",
              "      <td>33</td>\n",
              "      <td>43</td>\n",
              "      <td>55</td>\n",
              "      <td>41</td>\n",
              "      <td>48</td>\n",
              "      <td>53</td>\n",
              "      <td>60</td>\n",
              "      <td>65</td>\n",
              "    </tr>\n",
              "    <tr>\n",
              "      <th>1980</th>\n",
              "      <td>42</td>\n",
              "      <td>36</td>\n",
              "      <td>43</td>\n",
              "      <td>53</td>\n",
              "      <td>54</td>\n",
              "      <td>65</td>\n",
              "      <td>40</td>\n",
              "      <td>53</td>\n",
              "      <td>52</td>\n",
              "      <td>55</td>\n",
              "      <td>...</td>\n",
              "      <td>55</td>\n",
              "      <td>61</td>\n",
              "      <td>51</td>\n",
              "      <td>37</td>\n",
              "      <td>51</td>\n",
              "      <td>42</td>\n",
              "      <td>41</td>\n",
              "      <td>39</td>\n",
              "      <td>66</td>\n",
              "      <td>45</td>\n",
              "    </tr>\n",
              "    <tr>\n",
              "      <th>1981</th>\n",
              "      <td>28</td>\n",
              "      <td>34</td>\n",
              "      <td>45</td>\n",
              "      <td>34</td>\n",
              "      <td>61</td>\n",
              "      <td>58</td>\n",
              "      <td>41</td>\n",
              "      <td>35</td>\n",
              "      <td>58</td>\n",
              "      <td>41</td>\n",
              "      <td>...</td>\n",
              "      <td>35</td>\n",
              "      <td>54</td>\n",
              "      <td>40</td>\n",
              "      <td>27</td>\n",
              "      <td>50</td>\n",
              "      <td>52</td>\n",
              "      <td>32</td>\n",
              "      <td>60</td>\n",
              "      <td>62</td>\n",
              "      <td>36</td>\n",
              "    </tr>\n",
              "    <tr>\n",
              "      <th>1982</th>\n",
              "      <td>59</td>\n",
              "      <td>72</td>\n",
              "      <td>66</td>\n",
              "      <td>37</td>\n",
              "      <td>41</td>\n",
              "      <td>80</td>\n",
              "      <td>56</td>\n",
              "      <td>31</td>\n",
              "      <td>35</td>\n",
              "      <td>43</td>\n",
              "      <td>...</td>\n",
              "      <td>58</td>\n",
              "      <td>28</td>\n",
              "      <td>66</td>\n",
              "      <td>52</td>\n",
              "      <td>35</td>\n",
              "      <td>73</td>\n",
              "      <td>26</td>\n",
              "      <td>62</td>\n",
              "      <td>44</td>\n",
              "      <td>64</td>\n",
              "    </tr>\n",
              "    <tr>\n",
              "      <th>1983</th>\n",
              "      <td>28</td>\n",
              "      <td>28</td>\n",
              "      <td>44</td>\n",
              "      <td>47</td>\n",
              "      <td>53</td>\n",
              "      <td>34</td>\n",
              "      <td>57</td>\n",
              "      <td>54</td>\n",
              "      <td>33</td>\n",
              "      <td>38</td>\n",
              "      <td>...</td>\n",
              "      <td>41</td>\n",
              "      <td>57</td>\n",
              "      <td>63</td>\n",
              "      <td>56</td>\n",
              "      <td>33</td>\n",
              "      <td>52</td>\n",
              "      <td>46</td>\n",
              "      <td>40</td>\n",
              "      <td>62</td>\n",
              "      <td>55</td>\n",
              "    </tr>\n",
              "    <tr>\n",
              "      <th>1984</th>\n",
              "      <td>59</td>\n",
              "      <td>29</td>\n",
              "      <td>24</td>\n",
              "      <td>33</td>\n",
              "      <td>41</td>\n",
              "      <td>40</td>\n",
              "      <td>33</td>\n",
              "      <td>52</td>\n",
              "      <td>55</td>\n",
              "      <td>52</td>\n",
              "      <td>...</td>\n",
              "      <td>49</td>\n",
              "      <td>51</td>\n",
              "      <td>25</td>\n",
              "      <td>34</td>\n",
              "      <td>56</td>\n",
              "      <td>52</td>\n",
              "      <td>70</td>\n",
              "      <td>36</td>\n",
              "      <td>60</td>\n",
              "      <td>30</td>\n",
              "    </tr>\n",
              "    <tr>\n",
              "      <th>1985</th>\n",
              "      <td>56</td>\n",
              "      <td>30</td>\n",
              "      <td>53</td>\n",
              "      <td>43</td>\n",
              "      <td>23</td>\n",
              "      <td>36</td>\n",
              "      <td>31</td>\n",
              "      <td>60</td>\n",
              "      <td>65</td>\n",
              "      <td>48</td>\n",
              "      <td>...</td>\n",
              "      <td>29</td>\n",
              "      <td>43</td>\n",
              "      <td>35</td>\n",
              "      <td>37</td>\n",
              "      <td>49</td>\n",
              "      <td>54</td>\n",
              "      <td>76</td>\n",
              "      <td>32</td>\n",
              "      <td>55</td>\n",
              "      <td>43</td>\n",
              "    </tr>\n",
              "    <tr>\n",
              "      <th>1986</th>\n",
              "      <td>39</td>\n",
              "      <td>29</td>\n",
              "      <td>35</td>\n",
              "      <td>45</td>\n",
              "      <td>71</td>\n",
              "      <td>50</td>\n",
              "      <td>46</td>\n",
              "      <td>40</td>\n",
              "      <td>62</td>\n",
              "      <td>47</td>\n",
              "      <td>...</td>\n",
              "      <td>53</td>\n",
              "      <td>62</td>\n",
              "      <td>55</td>\n",
              "      <td>34</td>\n",
              "      <td>25</td>\n",
              "      <td>37</td>\n",
              "      <td>38</td>\n",
              "      <td>39</td>\n",
              "      <td>51</td>\n",
              "      <td>29</td>\n",
              "    </tr>\n",
              "    <tr>\n",
              "      <th>1987</th>\n",
              "      <td>34</td>\n",
              "      <td>46</td>\n",
              "      <td>65</td>\n",
              "      <td>57</td>\n",
              "      <td>46</td>\n",
              "      <td>58</td>\n",
              "      <td>31</td>\n",
              "      <td>24</td>\n",
              "      <td>50</td>\n",
              "      <td>48</td>\n",
              "      <td>...</td>\n",
              "      <td>31</td>\n",
              "      <td>40</td>\n",
              "      <td>32</td>\n",
              "      <td>37</td>\n",
              "      <td>22</td>\n",
              "      <td>31</td>\n",
              "      <td>28</td>\n",
              "      <td>41</td>\n",
              "      <td>43</td>\n",
              "      <td>50</td>\n",
              "    </tr>\n",
              "    <tr>\n",
              "      <th>1988</th>\n",
              "      <td>57</td>\n",
              "      <td>30</td>\n",
              "      <td>56</td>\n",
              "      <td>26</td>\n",
              "      <td>23</td>\n",
              "      <td>29</td>\n",
              "      <td>56</td>\n",
              "      <td>42</td>\n",
              "      <td>42</td>\n",
              "      <td>68</td>\n",
              "      <td>...</td>\n",
              "      <td>26</td>\n",
              "      <td>44</td>\n",
              "      <td>41</td>\n",
              "      <td>43</td>\n",
              "      <td>39</td>\n",
              "      <td>47</td>\n",
              "      <td>38</td>\n",
              "      <td>46</td>\n",
              "      <td>38</td>\n",
              "      <td>42</td>\n",
              "    </tr>\n",
              "    <tr>\n",
              "      <th>1989</th>\n",
              "      <td>35</td>\n",
              "      <td>40</td>\n",
              "      <td>39</td>\n",
              "      <td>59</td>\n",
              "      <td>44</td>\n",
              "      <td>46</td>\n",
              "      <td>42</td>\n",
              "      <td>41</td>\n",
              "      <td>36</td>\n",
              "      <td>41</td>\n",
              "      <td>...</td>\n",
              "      <td>55</td>\n",
              "      <td>57</td>\n",
              "      <td>39</td>\n",
              "      <td>37</td>\n",
              "      <td>33</td>\n",
              "      <td>39</td>\n",
              "      <td>45</td>\n",
              "      <td>48</td>\n",
              "      <td>54</td>\n",
              "      <td>67</td>\n",
              "    </tr>\n",
              "    <tr>\n",
              "      <th>1990</th>\n",
              "      <td>45</td>\n",
              "      <td>57</td>\n",
              "      <td>28</td>\n",
              "      <td>57</td>\n",
              "      <td>68</td>\n",
              "      <td>52</td>\n",
              "      <td>44</td>\n",
              "      <td>50</td>\n",
              "      <td>30</td>\n",
              "      <td>28</td>\n",
              "      <td>...</td>\n",
              "      <td>45</td>\n",
              "      <td>51</td>\n",
              "      <td>54</td>\n",
              "      <td>72</td>\n",
              "      <td>63</td>\n",
              "      <td>38</td>\n",
              "      <td>58</td>\n",
              "      <td>61</td>\n",
              "      <td>37</td>\n",
              "      <td>56</td>\n",
              "    </tr>\n",
              "    <tr>\n",
              "      <th>1991</th>\n",
              "      <td>49</td>\n",
              "      <td>50</td>\n",
              "      <td>60</td>\n",
              "      <td>33</td>\n",
              "      <td>44</td>\n",
              "      <td>42</td>\n",
              "      <td>43</td>\n",
              "      <td>30</td>\n",
              "      <td>57</td>\n",
              "      <td>50</td>\n",
              "      <td>...</td>\n",
              "      <td>47</td>\n",
              "      <td>43</td>\n",
              "      <td>24</td>\n",
              "      <td>26</td>\n",
              "      <td>48</td>\n",
              "      <td>62</td>\n",
              "      <td>44</td>\n",
              "      <td>38</td>\n",
              "      <td>35</td>\n",
              "      <td>50</td>\n",
              "    </tr>\n",
              "    <tr>\n",
              "      <th>1992</th>\n",
              "      <td>37</td>\n",
              "      <td>46</td>\n",
              "      <td>26</td>\n",
              "      <td>43</td>\n",
              "      <td>44</td>\n",
              "      <td>30</td>\n",
              "      <td>52</td>\n",
              "      <td>53</td>\n",
              "      <td>38</td>\n",
              "      <td>31</td>\n",
              "      <td>...</td>\n",
              "      <td>34</td>\n",
              "      <td>45</td>\n",
              "      <td>53</td>\n",
              "      <td>67</td>\n",
              "      <td>35</td>\n",
              "      <td>44</td>\n",
              "      <td>58</td>\n",
              "      <td>45</td>\n",
              "      <td>40</td>\n",
              "      <td>53</td>\n",
              "    </tr>\n",
              "    <tr>\n",
              "      <th>1993</th>\n",
              "      <td>50</td>\n",
              "      <td>49</td>\n",
              "      <td>24</td>\n",
              "      <td>50</td>\n",
              "      <td>27</td>\n",
              "      <td>34</td>\n",
              "      <td>21</td>\n",
              "      <td>34</td>\n",
              "      <td>55</td>\n",
              "      <td>32</td>\n",
              "      <td>...</td>\n",
              "      <td>58</td>\n",
              "      <td>38</td>\n",
              "      <td>50</td>\n",
              "      <td>39</td>\n",
              "      <td>70</td>\n",
              "      <td>57</td>\n",
              "      <td>39</td>\n",
              "      <td>51</td>\n",
              "      <td>63</td>\n",
              "      <td>44</td>\n",
              "    </tr>\n",
              "    <tr>\n",
              "      <th>1994</th>\n",
              "      <td>64</td>\n",
              "      <td>37</td>\n",
              "      <td>28</td>\n",
              "      <td>29</td>\n",
              "      <td>50</td>\n",
              "      <td>62</td>\n",
              "      <td>43</td>\n",
              "      <td>51</td>\n",
              "      <td>50</td>\n",
              "      <td>65</td>\n",
              "      <td>...</td>\n",
              "      <td>42</td>\n",
              "      <td>42</td>\n",
              "      <td>29</td>\n",
              "      <td>26</td>\n",
              "      <td>56</td>\n",
              "      <td>56</td>\n",
              "      <td>47</td>\n",
              "      <td>39</td>\n",
              "      <td>57</td>\n",
              "      <td>54</td>\n",
              "    </tr>\n",
              "    <tr>\n",
              "      <th>1995</th>\n",
              "      <td>49</td>\n",
              "      <td>65</td>\n",
              "      <td>25</td>\n",
              "      <td>29</td>\n",
              "      <td>56</td>\n",
              "      <td>23</td>\n",
              "      <td>35</td>\n",
              "      <td>57</td>\n",
              "      <td>41</td>\n",
              "      <td>41</td>\n",
              "      <td>...</td>\n",
              "      <td>68</td>\n",
              "      <td>41</td>\n",
              "      <td>33</td>\n",
              "      <td>38</td>\n",
              "      <td>44</td>\n",
              "      <td>42</td>\n",
              "      <td>58</td>\n",
              "      <td>60</td>\n",
              "      <td>35</td>\n",
              "      <td>57</td>\n",
              "    </tr>\n",
              "    <tr>\n",
              "      <th>1996</th>\n",
              "      <td>48</td>\n",
              "      <td>55</td>\n",
              "      <td>45</td>\n",
              "      <td>43</td>\n",
              "      <td>46</td>\n",
              "      <td>48</td>\n",
              "      <td>43</td>\n",
              "      <td>54</td>\n",
              "      <td>50</td>\n",
              "      <td>31</td>\n",
              "      <td>...</td>\n",
              "      <td>37</td>\n",
              "      <td>28</td>\n",
              "      <td>45</td>\n",
              "      <td>41</td>\n",
              "      <td>59</td>\n",
              "      <td>43</td>\n",
              "      <td>25</td>\n",
              "      <td>38</td>\n",
              "      <td>58</td>\n",
              "      <td>52</td>\n",
              "    </tr>\n",
              "    <tr>\n",
              "      <th>1997</th>\n",
              "      <td>37</td>\n",
              "      <td>62</td>\n",
              "      <td>52</td>\n",
              "      <td>64</td>\n",
              "      <td>37</td>\n",
              "      <td>69</td>\n",
              "      <td>65</td>\n",
              "      <td>50</td>\n",
              "      <td>41</td>\n",
              "      <td>45</td>\n",
              "      <td>...</td>\n",
              "      <td>60</td>\n",
              "      <td>50</td>\n",
              "      <td>48</td>\n",
              "      <td>44</td>\n",
              "      <td>22</td>\n",
              "      <td>50</td>\n",
              "      <td>35</td>\n",
              "      <td>50</td>\n",
              "      <td>54</td>\n",
              "      <td>48</td>\n",
              "    </tr>\n",
              "    <tr>\n",
              "      <th>1998</th>\n",
              "      <td>54</td>\n",
              "      <td>38</td>\n",
              "      <td>52</td>\n",
              "      <td>54</td>\n",
              "      <td>44</td>\n",
              "      <td>20</td>\n",
              "      <td>42</td>\n",
              "      <td>32</td>\n",
              "      <td>44</td>\n",
              "      <td>48</td>\n",
              "      <td>...</td>\n",
              "      <td>43</td>\n",
              "      <td>26</td>\n",
              "      <td>47</td>\n",
              "      <td>33</td>\n",
              "      <td>48</td>\n",
              "      <td>42</td>\n",
              "      <td>31</td>\n",
              "      <td>32</td>\n",
              "      <td>41</td>\n",
              "      <td>53</td>\n",
              "    </tr>\n",
              "    <tr>\n",
              "      <th>1999</th>\n",
              "      <td>52</td>\n",
              "      <td>31</td>\n",
              "      <td>40</td>\n",
              "      <td>48</td>\n",
              "      <td>35</td>\n",
              "      <td>39</td>\n",
              "      <td>26</td>\n",
              "      <td>41</td>\n",
              "      <td>48</td>\n",
              "      <td>30</td>\n",
              "      <td>...</td>\n",
              "      <td>50</td>\n",
              "      <td>51</td>\n",
              "      <td>50</td>\n",
              "      <td>56</td>\n",
              "      <td>55</td>\n",
              "      <td>63</td>\n",
              "      <td>50</td>\n",
              "      <td>18</td>\n",
              "      <td>42</td>\n",
              "      <td>36</td>\n",
              "    </tr>\n",
              "  </tbody>\n",
              "</table>\n",
              "<p>2000 rows × 1500 columns</p>\n",
              "</div>"
            ],
            "text/plain": [
              "      Amostra_0  Amostra_1  Amostra_2  Amostra_3  Amostra_4  Amostra_5  \\\n",
              "0            36         36         62         56         55         49   \n",
              "1            33         53         43         60         45         53   \n",
              "2            22         22         34         55         64         62   \n",
              "3            28         63         35         43         80         39   \n",
              "4            46         35         48         41         35         41   \n",
              "5            69         63         51         66         50         51   \n",
              "6            42         47         26         53         34         43   \n",
              "7            44         47         46         22         60         50   \n",
              "8            51         57         39         61         22         46   \n",
              "9            54         41         53         40         48         24   \n",
              "10           31         51         57         61         45         56   \n",
              "11           64         39         51         56         54         21   \n",
              "12           53         49         41         33         59         52   \n",
              "13           31         43         38         51         49         60   \n",
              "14           27         52         54         39         38         30   \n",
              "15           41         32         44         51         43         47   \n",
              "16           64         31         43         49         34         34   \n",
              "17           19         51         48         26         40         55   \n",
              "18           39         61         42         32         54         20   \n",
              "19           50         30         59         46         55         43   \n",
              "20           59         40         47         51         39         55   \n",
              "21           34         49         36         42         27         31   \n",
              "22           50         42         22         53         34         43   \n",
              "23           28         64         54         59         35         40   \n",
              "24           49         72         22         54         24         45   \n",
              "25           56         53         23         33         46         33   \n",
              "26           33         43         54         26         42         54   \n",
              "27           48         36         52         53         24         49   \n",
              "28           39         66         35         42         39         53   \n",
              "29           60         26         49         43         49         31   \n",
              "...         ...        ...        ...        ...        ...        ...   \n",
              "1970         58         21         51         53         59         59   \n",
              "1971         54         54         43         48         25         27   \n",
              "1972         63         65         41         43         37         42   \n",
              "1973         28         74         54         53         36         34   \n",
              "1974         37         49         47         29         32         69   \n",
              "1975         25         43         48         30         24         52   \n",
              "1976         31         55         30         30         54         45   \n",
              "1977         22         61         48         41         49         37   \n",
              "1978         52         44         48         65         42         66   \n",
              "1979         43         33         54         53         49         51   \n",
              "1980         42         36         43         53         54         65   \n",
              "1981         28         34         45         34         61         58   \n",
              "1982         59         72         66         37         41         80   \n",
              "1983         28         28         44         47         53         34   \n",
              "1984         59         29         24         33         41         40   \n",
              "1985         56         30         53         43         23         36   \n",
              "1986         39         29         35         45         71         50   \n",
              "1987         34         46         65         57         46         58   \n",
              "1988         57         30         56         26         23         29   \n",
              "1989         35         40         39         59         44         46   \n",
              "1990         45         57         28         57         68         52   \n",
              "1991         49         50         60         33         44         42   \n",
              "1992         37         46         26         43         44         30   \n",
              "1993         50         49         24         50         27         34   \n",
              "1994         64         37         28         29         50         62   \n",
              "1995         49         65         25         29         56         23   \n",
              "1996         48         55         45         43         46         48   \n",
              "1997         37         62         52         64         37         69   \n",
              "1998         54         38         52         54         44         20   \n",
              "1999         52         31         40         48         35         39   \n",
              "\n",
              "      Amostra_6  Amostra_7  Amostra_8  Amostra_9      ...       Amostra_1490  \\\n",
              "0            37         28         39         47      ...                 42   \n",
              "1            46         39         25         49      ...                 39   \n",
              "2            52         28         46         30      ...                 59   \n",
              "3            40         50         27         63      ...                 49   \n",
              "4            43         57         53         36      ...                 72   \n",
              "5            52         55         41         41      ...                 33   \n",
              "6            61         59         32         44      ...                 55   \n",
              "7            51         28         32         21      ...                 41   \n",
              "8            28         46         45         53      ...                 44   \n",
              "9            47         64         34         39      ...                 42   \n",
              "10           56         29         20         36      ...                 38   \n",
              "11           47         58         36         42      ...                 48   \n",
              "12           38         44         20         33      ...                 47   \n",
              "13           68         21         41         39      ...                 74   \n",
              "14           36         61         25         38      ...                 38   \n",
              "15           35         31         33         25      ...                 27   \n",
              "16           51         49         54         59      ...                 49   \n",
              "17           44         36         35         28      ...                 39   \n",
              "18           21         42         30         36      ...                 36   \n",
              "19           35         31         35         28      ...                 33   \n",
              "20           63         54         35         54      ...                 28   \n",
              "21           42         34         54         44      ...                 38   \n",
              "22           47         36         51         39      ...                 32   \n",
              "23           42         42         55         44      ...                 42   \n",
              "24           47         57         24         38      ...                 36   \n",
              "25           45         44         28         23      ...                 57   \n",
              "26           32         29         45         47      ...                 22   \n",
              "27           35         53         37         72      ...                 62   \n",
              "28           38         49         68         48      ...                 39   \n",
              "29           56         23         39         29      ...                 27   \n",
              "...         ...        ...        ...        ...      ...                ...   \n",
              "1970         52         51         26         36      ...                 38   \n",
              "1971         27         28         36         63      ...                 32   \n",
              "1972         44         46         37         58      ...                 33   \n",
              "1973         50         46         27         54      ...                 47   \n",
              "1974         44         37         38         41      ...                 51   \n",
              "1975         46         43         40         33      ...                 23   \n",
              "1976         39         28         47         52      ...                 53   \n",
              "1977         45         62         37         42      ...                 44   \n",
              "1978         48         61         45         21      ...                 31   \n",
              "1979         59         34         37         47      ...                 32   \n",
              "1980         40         53         52         55      ...                 55   \n",
              "1981         41         35         58         41      ...                 35   \n",
              "1982         56         31         35         43      ...                 58   \n",
              "1983         57         54         33         38      ...                 41   \n",
              "1984         33         52         55         52      ...                 49   \n",
              "1985         31         60         65         48      ...                 29   \n",
              "1986         46         40         62         47      ...                 53   \n",
              "1987         31         24         50         48      ...                 31   \n",
              "1988         56         42         42         68      ...                 26   \n",
              "1989         42         41         36         41      ...                 55   \n",
              "1990         44         50         30         28      ...                 45   \n",
              "1991         43         30         57         50      ...                 47   \n",
              "1992         52         53         38         31      ...                 34   \n",
              "1993         21         34         55         32      ...                 58   \n",
              "1994         43         51         50         65      ...                 42   \n",
              "1995         35         57         41         41      ...                 68   \n",
              "1996         43         54         50         31      ...                 37   \n",
              "1997         65         50         41         45      ...                 60   \n",
              "1998         42         32         44         48      ...                 43   \n",
              "1999         26         41         48         30      ...                 50   \n",
              "\n",
              "      Amostra_1491  Amostra_1492  Amostra_1493  Amostra_1494  Amostra_1495  \\\n",
              "0               39            37            35            41            33   \n",
              "1               47            40            37            33            31   \n",
              "2               38            36            73            43            36   \n",
              "3               38            24            44            44            55   \n",
              "4               35            54            45            49            40   \n",
              "5               37            61            66            29            54   \n",
              "6               22            34            57            35            38   \n",
              "7               51            39            34            39            53   \n",
              "8               39            48            44            36            31   \n",
              "9               46            37            28            55            57   \n",
              "10              58            24            29            44            35   \n",
              "11              67            43            61            39            59   \n",
              "12              31            45            55            35            50   \n",
              "13              40            60            61            30            49   \n",
              "14              59            44            37            61            34   \n",
              "15              30            43            43            31            36   \n",
              "16              51            45            54            34            56   \n",
              "17              57            44            27            41            43   \n",
              "18              48            41            59            42            22   \n",
              "19              46            42            47            56            30   \n",
              "20              43            51            41            52            40   \n",
              "21              59            52            25            55            28   \n",
              "22              34            57            31            36            29   \n",
              "23              52            36            57            69            34   \n",
              "24              30            53            27            23            44   \n",
              "25              46            36            38            33            17   \n",
              "26              29            54            40            39            51   \n",
              "27              38            51            48            25            40   \n",
              "28              50            31            28            35            45   \n",
              "29              37            29            36            40            46   \n",
              "...            ...           ...           ...           ...           ...   \n",
              "1970            24            46            30            55            56   \n",
              "1971            47            33            42            34            43   \n",
              "1972            72            36            60            79            52   \n",
              "1973            32            50            76            46            26   \n",
              "1974            39            37            26            56            40   \n",
              "1975            27            68            57            34            42   \n",
              "1976            35            56            20            57            43   \n",
              "1977            50            46            61            43            64   \n",
              "1978            38            32            29            58            51   \n",
              "1979            40            33            43            55            41   \n",
              "1980            61            51            37            51            42   \n",
              "1981            54            40            27            50            52   \n",
              "1982            28            66            52            35            73   \n",
              "1983            57            63            56            33            52   \n",
              "1984            51            25            34            56            52   \n",
              "1985            43            35            37            49            54   \n",
              "1986            62            55            34            25            37   \n",
              "1987            40            32            37            22            31   \n",
              "1988            44            41            43            39            47   \n",
              "1989            57            39            37            33            39   \n",
              "1990            51            54            72            63            38   \n",
              "1991            43            24            26            48            62   \n",
              "1992            45            53            67            35            44   \n",
              "1993            38            50            39            70            57   \n",
              "1994            42            29            26            56            56   \n",
              "1995            41            33            38            44            42   \n",
              "1996            28            45            41            59            43   \n",
              "1997            50            48            44            22            50   \n",
              "1998            26            47            33            48            42   \n",
              "1999            51            50            56            55            63   \n",
              "\n",
              "      Amostra_1496  Amostra_1497  Amostra_1498  Amostra_1499  \n",
              "0               39            42            35            41  \n",
              "1               27            25            44            55  \n",
              "2               43            43            33            38  \n",
              "3               57            27            24            44  \n",
              "4               30            39            45            61  \n",
              "5               54            37            31            36  \n",
              "6               45            40            49            49  \n",
              "7               23            38            48            62  \n",
              "8               69            39            63            59  \n",
              "9               27            52            32            69  \n",
              "10              17            72            40            59  \n",
              "11              46            39            44            54  \n",
              "12              58            49            51            34  \n",
              "13              38            32            56            38  \n",
              "14              46            28            26            52  \n",
              "15              33            47            34            35  \n",
              "16              66            36            60            44  \n",
              "17              37            34            38            37  \n",
              "18              24            32            47            35  \n",
              "19              56            47            23            35  \n",
              "20              58            51            42            36  \n",
              "21              38            40            65            24  \n",
              "22              43            51            58            35  \n",
              "23              36            37            74            36  \n",
              "24              53            40            39            39  \n",
              "25              27            35            53            34  \n",
              "26              49            48            56            51  \n",
              "27              47            35            34            41  \n",
              "28              55            75            34            49  \n",
              "29              38            63            42            46  \n",
              "...            ...           ...           ...           ...  \n",
              "1970            53            47            22            38  \n",
              "1971            68            50            43            59  \n",
              "1972            54            42            63            31  \n",
              "1973            50            60            36            30  \n",
              "1974            31            25            42            33  \n",
              "1975            65            35            20            55  \n",
              "1976            42            46            26            36  \n",
              "1977            65            40            46            28  \n",
              "1978            61            42            32            40  \n",
              "1979            48            53            60            65  \n",
              "1980            41            39            66            45  \n",
              "1981            32            60            62            36  \n",
              "1982            26            62            44            64  \n",
              "1983            46            40            62            55  \n",
              "1984            70            36            60            30  \n",
              "1985            76            32            55            43  \n",
              "1986            38            39            51            29  \n",
              "1987            28            41            43            50  \n",
              "1988            38            46            38            42  \n",
              "1989            45            48            54            67  \n",
              "1990            58            61            37            56  \n",
              "1991            44            38            35            50  \n",
              "1992            58            45            40            53  \n",
              "1993            39            51            63            44  \n",
              "1994            47            39            57            54  \n",
              "1995            58            60            35            57  \n",
              "1996            25            38            58            52  \n",
              "1997            35            50            54            48  \n",
              "1998            31            32            41            53  \n",
              "1999            50            18            42            36  \n",
              "\n",
              "[2000 rows x 1500 columns]"
            ]
          },
          "execution_count": 54,
          "metadata": {},
          "output_type": "execute_result"
        }
      ],
      "source": [
        "for i in range(total_de_amostras):\n",
        "  _ = dados.Idade.sample(n)\n",
        "  _.index = range(0, len(_))\n",
        "  amostras['Amostra_' + str(i)] = _\n",
        "\n",
        "amostras"
      ]
    },
    {
      "cell_type": "code",
      "execution_count": null,
      "metadata": {
        "colab": {
          "base_uri": "https://localhost:8080/",
          "height": 1071
        },
        "id": "v5Q-rnS_izNd",
        "outputId": "5097951e-8900-42f8-894a-539ad7d51f76",
        "scrolled": true
      },
      "outputs": [
        {
          "data": {
            "text/plain": [
              "Amostra_0       43.9640\n",
              "Amostra_1       44.1240\n",
              "Amostra_2       44.0445\n",
              "Amostra_3       43.9810\n",
              "Amostra_4       44.1515\n",
              "Amostra_5       43.8525\n",
              "Amostra_6       44.2455\n",
              "Amostra_7       44.0295\n",
              "Amostra_8       43.9100\n",
              "Amostra_9       43.7565\n",
              "Amostra_10      43.8590\n",
              "Amostra_11      44.1775\n",
              "Amostra_12      44.2405\n",
              "Amostra_13      44.1470\n",
              "Amostra_14      44.3010\n",
              "Amostra_15      44.2025\n",
              "Amostra_16      44.2320\n",
              "Amostra_17      44.5425\n",
              "Amostra_18      43.9645\n",
              "Amostra_19      44.2230\n",
              "Amostra_20      44.5535\n",
              "Amostra_21      43.6575\n",
              "Amostra_22      43.9640\n",
              "Amostra_23      43.6145\n",
              "Amostra_24      43.8650\n",
              "Amostra_25      44.1760\n",
              "Amostra_26      43.8305\n",
              "Amostra_27      44.3325\n",
              "Amostra_28      43.9475\n",
              "Amostra_29      43.8400\n",
              "                 ...   \n",
              "Amostra_1470    43.8575\n",
              "Amostra_1471    44.6585\n",
              "Amostra_1472    44.0830\n",
              "Amostra_1473    44.3230\n",
              "Amostra_1474    43.9245\n",
              "Amostra_1475    44.0695\n",
              "Amostra_1476    44.1800\n",
              "Amostra_1477    44.3435\n",
              "Amostra_1478    43.8790\n",
              "Amostra_1479    44.1120\n",
              "Amostra_1480    44.0250\n",
              "Amostra_1481    44.0925\n",
              "Amostra_1482    44.3755\n",
              "Amostra_1483    43.8640\n",
              "Amostra_1484    43.6925\n",
              "Amostra_1485    44.2625\n",
              "Amostra_1486    44.4810\n",
              "Amostra_1487    44.3700\n",
              "Amostra_1488    43.9540\n",
              "Amostra_1489    44.4300\n",
              "Amostra_1490    44.3235\n",
              "Amostra_1491    44.0705\n",
              "Amostra_1492    43.8845\n",
              "Amostra_1493    43.7150\n",
              "Amostra_1494    44.1510\n",
              "Amostra_1495    43.5320\n",
              "Amostra_1496    43.8740\n",
              "Amostra_1497    44.0495\n",
              "Amostra_1498    43.7850\n",
              "Amostra_1499    44.3340\n",
              "Length: 1500, dtype: float64"
            ]
          },
          "execution_count": 55,
          "metadata": {},
          "output_type": "execute_result"
        }
      ],
      "source": [
        "amostras.mean()"
      ]
    },
    {
      "cell_type": "markdown",
      "metadata": {
        "id": "JfgEBDx0jDzf"
      },
      "source": [
        "> O Teorema do Limite Central afirma que, **com o aumento do tamanho da amostra, a distribuição das médias amostrais se aproxima de uma distribuição normal** com média igual à média da população e desvio padrão igual ao desvio padrão da variável original dividido pela raiz quadrada do tamanho da amostra. Este fato é assegurado para n maior ou igual a 30."
      ]
    },
    {
      "cell_type": "code",
      "execution_count": null,
      "metadata": {
        "colab": {
          "base_uri": "https://localhost:8080/",
          "height": 286
        },
        "id": "giJKqa_9izKF",
        "outputId": "a90fdc6d-9970-42dd-85c3-0da9e0977ef0"
      },
      "outputs": [
        {
          "data": {
            "text/plain": [
              "<matplotlib.axes._subplots.AxesSubplot at 0x2066c4ac6d8>"
            ]
          },
          "execution_count": 56,
          "metadata": {},
          "output_type": "execute_result"
        }
      ],
      "source": [
        "amostras.mean().hist()"
      ]
    },
    {
      "cell_type": "markdown",
      "metadata": {
        "id": "_A4RKStwjkLI"
      },
      "source": [
        "> O Teorema do Limite Central afirma que, com o aumento do tamanho da amostra, a distribuição das médias amostrais se aproxima de uma distribuição normal **com média igual à média da população** e desvio padrão igual ao desvio padrão da variável original dividido pela raiz quadrada do tamanho da amostra. Este fato é assegurado para n maior ou igual a 30."
      ]
    },
    {
      "cell_type": "code",
      "execution_count": null,
      "metadata": {
        "colab": {
          "base_uri": "https://localhost:8080/",
          "height": 34
        },
        "id": "vXE-UOj_izGZ",
        "outputId": "6eecc478-100a-4b55-eec3-896dbfc2079d"
      },
      "outputs": [
        {
          "data": {
            "text/plain": [
              "44.07142113482561"
            ]
          },
          "execution_count": 57,
          "metadata": {},
          "output_type": "execute_result"
        }
      ],
      "source": [
        "dados.Idade.mean()"
      ]
    },
    {
      "cell_type": "code",
      "execution_count": null,
      "metadata": {
        "colab": {
          "base_uri": "https://localhost:8080/",
          "height": 34
        },
        "id": "bahA7_WYizC6",
        "outputId": "c95ef032-57b3-479d-b78e-b05efbaa9510"
      },
      "outputs": [
        {
          "data": {
            "text/plain": [
              "44.067321000000064"
            ]
          },
          "execution_count": 58,
          "metadata": {},
          "output_type": "execute_result"
        }
      ],
      "source": [
        "amostras.mean().mean()"
      ]
    },
    {
      "cell_type": "markdown",
      "metadata": {
        "id": "7lIWJCAKlPmA"
      },
      "source": [
        "> O Teorema do Limite Central afirma que, com o aumento do tamanho da amostra, a distribuição das médias amostrais se aproxima de uma distribuição normal com média igual à média da população e **desvio padrão igual ao desvio padrão da variável original dividido pela raiz quadrada do tamanho da amostra**. Este fato é assegurado para n maior ou igual a 30.\n",
        "\n",
        "# $$\\sigma_\\bar{x} = \\frac{\\sigma}{\\sqrt{n}}$$"
      ]
    },
    {
      "cell_type": "code",
      "execution_count": null,
      "metadata": {
        "colab": {
          "base_uri": "https://localhost:8080/",
          "height": 34
        },
        "id": "qKrG0zqhVNzn",
        "outputId": "90ab25da-d1bd-4f27-ebe7-af4bb0563d54"
      },
      "outputs": [
        {
          "data": {
            "text/plain": [
              "0.27657506932413095"
            ]
          },
          "execution_count": 59,
          "metadata": {},
          "output_type": "execute_result"
        }
      ],
      "source": [
        "amostras.mean().std()"
      ]
    },
    {
      "cell_type": "code",
      "execution_count": null,
      "metadata": {
        "colab": {
          "base_uri": "https://localhost:8080/",
          "height": 34
        },
        "id": "83ILp8Quiy_W",
        "outputId": "9f16b942-f1dd-47c3-f1bc-adfb0e4be636"
      },
      "outputs": [
        {
          "data": {
            "text/plain": [
              "12.480583465360187"
            ]
          },
          "execution_count": 60,
          "metadata": {},
          "output_type": "execute_result"
        }
      ],
      "source": [
        "dados.Idade.std()"
      ]
    },
    {
      "cell_type": "code",
      "execution_count": null,
      "metadata": {
        "colab": {
          "base_uri": "https://localhost:8080/",
          "height": 34
        },
        "id": "IQ7wC-Nkiy75",
        "outputId": "c70c88bd-52f6-41fd-a29d-a88f1641072e"
      },
      "outputs": [
        {
          "data": {
            "text/plain": [
              "0.2790743302740527"
            ]
          },
          "execution_count": 61,
          "metadata": {},
          "output_type": "execute_result"
        }
      ],
      "source": [
        "dados.Idade.std() / np.sqrt(n)"
      ]
    },
    {
      "cell_type": "markdown",
      "metadata": {
        "id": "ku8CE67iG3Ge"
      },
      "source": [
        "## <font color=green>4.2 Níveis de confiança e significância</font>\n",
        "***"
      ]
    },
    {
      "cell_type": "markdown",
      "metadata": {
        "id": "mk6ZsvgyG3Gf"
      },
      "source": [
        "O **nível de confiança** ($1 - \\alpha$) representa a probabilidade de acerto da estimativa. De forma complementar o **nível de significância** ($\\alpha$) expressa a probabilidade de erro da estimativa.\n",
        "\n",
        "O **nível de confiança** representa o grau de confiabilidade do resultado da estimativa estar dentro de determinado intervalo. Quando fixamos em uma pesquisa um **nível de confiança** de 95%, por exemplo, estamos assumindo que existe uma probabilidade de 95% dos resultados da pesquisa representarem bem a realidade, ou seja, estarem corretos.\n",
        "\n",
        "O **nível de confiança** de uma estimativa pode ser obtido a partir da área sob a curva normal como ilustrado na figura abaixo."
      ]
    },
    {
      "cell_type": "markdown",
      "metadata": {
        "id": "WeGyDfvaG3Gg"
      },
      "source": [
        "![alt text](https://caelum-online-public.s3.amazonaws.com/1178-estatistica-parte2/01/img007.png)"
      ]
    },
    {
      "cell_type": "markdown",
      "metadata": {
        "id": "AN8WDZ-HG3Gi"
      },
      "source": [
        "## <font color=green>4.3 Erro inferencial</font>\n",
        "***"
      ]
    },
    {
      "cell_type": "markdown",
      "metadata": {
        "id": "tk-TwhhfG3Gi"
      },
      "source": [
        "O **erro inferencial** é definido pelo **desvio padrão das médias amostrais** $\\sigma_\\bar{x}$ e pelo **nível de confiança** determinado para o processo."
      ]
    },
    {
      "cell_type": "markdown",
      "metadata": {
        "id": "FKOQUPYHG3Gk"
      },
      "source": [
        "# $$e = z \\frac{\\sigma}{\\sqrt{n}}$$"
      ]
    },
    {
      "cell_type": "markdown",
      "metadata": {
        "id": "ELbWQW4sG3HS"
      },
      "source": [
        "## <font color=green>4.4 Intervalos de confiança</font>\n",
        "***"
      ]
    },
    {
      "cell_type": "markdown",
      "metadata": {
        "id": "-r6EMnH-G3HT"
      },
      "source": [
        "### Intevalo de confiança para a média da população"
      ]
    },
    {
      "cell_type": "markdown",
      "metadata": {
        "id": "QWgBFeRnG3HT"
      },
      "source": [
        "#### Com desvio padrão populacional conhecido\n",
        "\n",
        "## $$\\mu = \\bar{x} \\pm z\\frac{\\sigma}{\\sqrt{n}}$$\n",
        "\n",
        "#### Com desvio padrão populacional desconhecido\n",
        "\n",
        "## $$\\mu = \\bar{x} \\pm z\\frac{s}{\\sqrt{n}}$$"
      ]
    },
    {
      "cell_type": "markdown",
      "metadata": {
        "id": "R2qqLneeG3HT"
      },
      "source": [
        "## <font color='blue'>Exemplo: </font>"
      ]
    },
    {
      "cell_type": "markdown",
      "metadata": {
        "id": "AgnrFjdMG3HT"
      },
      "source": [
        "Suponha que os pesos dos sacos de arroz de uma indústria alimentícia se distribuem aproximadamente como uma normal de **desvio padrão populacional igual a 150 g**. Selecionada uma **amostra aleatório de 20 sacos** de um lote específico, obteve-se um **peso médio de 5.050 g**. Construa um intervalo de confiança para a **média populacional** assumindo um **nível de significância de 5%**."
      ]
    },
    {
      "cell_type": "markdown",
      "metadata": {
        "id": "LpGQGksTG3HU"
      },
      "source": [
        "### Média amostral"
      ]
    },
    {
      "cell_type": "code",
      "execution_count": null,
      "metadata": {
        "colab": {
          "base_uri": "https://localhost:8080/",
          "height": 34
        },
        "id": "aF2QQ0z3G3HU",
        "outputId": "31b20b10-a4f7-49fe-b113-f0fff1e2f30f"
      },
      "outputs": [
        {
          "data": {
            "text/plain": [
              "5050"
            ]
          },
          "execution_count": 62,
          "metadata": {},
          "output_type": "execute_result"
        }
      ],
      "source": [
        "media_amostra = 5050\n",
        "media_amostra"
      ]
    },
    {
      "cell_type": "markdown",
      "metadata": {
        "id": "Jly1bVP9G3HY"
      },
      "source": [
        "### Nível de significância ($\\alpha$)"
      ]
    },
    {
      "cell_type": "code",
      "execution_count": null,
      "metadata": {
        "colab": {
          "base_uri": "https://localhost:8080/",
          "height": 34
        },
        "id": "BzIgN3C7G3HY",
        "outputId": "53b76a9a-fce9-41dc-829e-4c7b318b7d75"
      },
      "outputs": [
        {
          "data": {
            "text/plain": [
              "0.05"
            ]
          },
          "execution_count": 63,
          "metadata": {},
          "output_type": "execute_result"
        }
      ],
      "source": [
        "significancia = 0.05\n",
        "significancia"
      ]
    },
    {
      "cell_type": "markdown",
      "metadata": {
        "id": "SrZAbQRKG3Ha"
      },
      "source": [
        "### Nível de confiança ($1 - \\alpha$)"
      ]
    },
    {
      "cell_type": "code",
      "execution_count": null,
      "metadata": {
        "colab": {
          "base_uri": "https://localhost:8080/",
          "height": 34
        },
        "id": "1JeWXwA6G3Ha",
        "outputId": "8ac9e63f-f2e5-46a5-b693-e221203ada3f"
      },
      "outputs": [
        {
          "data": {
            "text/plain": [
              "0.95"
            ]
          },
          "execution_count": 64,
          "metadata": {},
          "output_type": "execute_result"
        }
      ],
      "source": [
        "confianca = 1 - significancia\n",
        "confianca"
      ]
    },
    {
      "cell_type": "markdown",
      "metadata": {
        "id": "mZoUFr1nG3Hf"
      },
      "source": [
        "### Obtendo $z$"
      ]
    },
    {
      "cell_type": "code",
      "execution_count": null,
      "metadata": {
        "colab": {
          "base_uri": "https://localhost:8080/",
          "height": 359
        },
        "id": "f9IMOwY2Xeva",
        "outputId": "e8efe36b-5dfd-4272-de0c-fdab162d3582"
      },
      "outputs": [
        {
          "data": {
            "text/html": [
              "<div>\n",
              "<style scoped>\n",
              "    .dataframe tbody tr th:only-of-type {\n",
              "        vertical-align: middle;\n",
              "    }\n",
              "\n",
              "    .dataframe tbody tr th {\n",
              "        vertical-align: top;\n",
              "    }\n",
              "\n",
              "    .dataframe thead th {\n",
              "        text-align: right;\n",
              "    }\n",
              "</style>\n",
              "<table border=\"1\" class=\"dataframe\">\n",
              "  <thead>\n",
              "    <tr style=\"text-align: right;\">\n",
              "      <th>Z</th>\n",
              "      <th>0.00</th>\n",
              "      <th>0.01</th>\n",
              "      <th>0.02</th>\n",
              "      <th>0.03</th>\n",
              "      <th>0.04</th>\n",
              "      <th>0.05</th>\n",
              "      <th>0.06</th>\n",
              "      <th>0.07</th>\n",
              "      <th>0.08</th>\n",
              "      <th>0.09</th>\n",
              "    </tr>\n",
              "  </thead>\n",
              "  <tbody>\n",
              "    <tr>\n",
              "      <th>1.60</th>\n",
              "      <td>0.9452</td>\n",
              "      <td>0.9463</td>\n",
              "      <td>0.9474</td>\n",
              "      <td>0.9484</td>\n",
              "      <td>0.9495</td>\n",
              "      <td>0.9505</td>\n",
              "      <td>0.9515</td>\n",
              "      <td>0.9525</td>\n",
              "      <td>0.9535</td>\n",
              "      <td>0.9545</td>\n",
              "    </tr>\n",
              "    <tr>\n",
              "      <th>1.70</th>\n",
              "      <td>0.9554</td>\n",
              "      <td>0.9564</td>\n",
              "      <td>0.9573</td>\n",
              "      <td>0.9582</td>\n",
              "      <td>0.9591</td>\n",
              "      <td>0.9599</td>\n",
              "      <td>0.9608</td>\n",
              "      <td>0.9616</td>\n",
              "      <td>0.9625</td>\n",
              "      <td>0.9633</td>\n",
              "    </tr>\n",
              "    <tr>\n",
              "      <th>1.80</th>\n",
              "      <td>0.9641</td>\n",
              "      <td>0.9649</td>\n",
              "      <td>0.9656</td>\n",
              "      <td>0.9664</td>\n",
              "      <td>0.9671</td>\n",
              "      <td>0.9678</td>\n",
              "      <td>0.9686</td>\n",
              "      <td>0.9693</td>\n",
              "      <td>0.9699</td>\n",
              "      <td>0.9706</td>\n",
              "    </tr>\n",
              "    <tr>\n",
              "      <th>1.90</th>\n",
              "      <td>0.9713</td>\n",
              "      <td>0.9719</td>\n",
              "      <td>0.9726</td>\n",
              "      <td>0.9732</td>\n",
              "      <td>0.9738</td>\n",
              "      <td>0.9744</td>\n",
              "      <td>0.9750</td>\n",
              "      <td>0.9756</td>\n",
              "      <td>0.9761</td>\n",
              "      <td>0.9767</td>\n",
              "    </tr>\n",
              "    <tr>\n",
              "      <th>2.00</th>\n",
              "      <td>0.9772</td>\n",
              "      <td>0.9778</td>\n",
              "      <td>0.9783</td>\n",
              "      <td>0.9788</td>\n",
              "      <td>0.9793</td>\n",
              "      <td>0.9798</td>\n",
              "      <td>0.9803</td>\n",
              "      <td>0.9808</td>\n",
              "      <td>0.9812</td>\n",
              "      <td>0.9817</td>\n",
              "    </tr>\n",
              "    <tr>\n",
              "      <th>2.10</th>\n",
              "      <td>0.9821</td>\n",
              "      <td>0.9826</td>\n",
              "      <td>0.9830</td>\n",
              "      <td>0.9834</td>\n",
              "      <td>0.9838</td>\n",
              "      <td>0.9842</td>\n",
              "      <td>0.9846</td>\n",
              "      <td>0.9850</td>\n",
              "      <td>0.9854</td>\n",
              "      <td>0.9857</td>\n",
              "    </tr>\n",
              "    <tr>\n",
              "      <th>2.20</th>\n",
              "      <td>0.9861</td>\n",
              "      <td>0.9864</td>\n",
              "      <td>0.9868</td>\n",
              "      <td>0.9871</td>\n",
              "      <td>0.9875</td>\n",
              "      <td>0.9878</td>\n",
              "      <td>0.9881</td>\n",
              "      <td>0.9884</td>\n",
              "      <td>0.9887</td>\n",
              "      <td>0.9890</td>\n",
              "    </tr>\n",
              "    <tr>\n",
              "      <th>2.30</th>\n",
              "      <td>0.9893</td>\n",
              "      <td>0.9896</td>\n",
              "      <td>0.9898</td>\n",
              "      <td>0.9901</td>\n",
              "      <td>0.9904</td>\n",
              "      <td>0.9906</td>\n",
              "      <td>0.9909</td>\n",
              "      <td>0.9911</td>\n",
              "      <td>0.9913</td>\n",
              "      <td>0.9916</td>\n",
              "    </tr>\n",
              "    <tr>\n",
              "      <th>2.40</th>\n",
              "      <td>0.9918</td>\n",
              "      <td>0.9920</td>\n",
              "      <td>0.9922</td>\n",
              "      <td>0.9925</td>\n",
              "      <td>0.9927</td>\n",
              "      <td>0.9929</td>\n",
              "      <td>0.9931</td>\n",
              "      <td>0.9932</td>\n",
              "      <td>0.9934</td>\n",
              "      <td>0.9936</td>\n",
              "    </tr>\n",
              "    <tr>\n",
              "      <th>2.50</th>\n",
              "      <td>0.9938</td>\n",
              "      <td>0.9940</td>\n",
              "      <td>0.9941</td>\n",
              "      <td>0.9943</td>\n",
              "      <td>0.9945</td>\n",
              "      <td>0.9946</td>\n",
              "      <td>0.9948</td>\n",
              "      <td>0.9949</td>\n",
              "      <td>0.9951</td>\n",
              "      <td>0.9952</td>\n",
              "    </tr>\n",
              "  </tbody>\n",
              "</table>\n",
              "</div>"
            ],
            "text/plain": [
              "Z       0.00    0.01    0.02    0.03    0.04    0.05    0.06    0.07    0.08  \\\n",
              "1.60  0.9452  0.9463  0.9474  0.9484  0.9495  0.9505  0.9515  0.9525  0.9535   \n",
              "1.70  0.9554  0.9564  0.9573  0.9582  0.9591  0.9599  0.9608  0.9616  0.9625   \n",
              "1.80  0.9641  0.9649  0.9656  0.9664  0.9671  0.9678  0.9686  0.9693  0.9699   \n",
              "1.90  0.9713  0.9719  0.9726  0.9732  0.9738  0.9744  0.9750  0.9756  0.9761   \n",
              "2.00  0.9772  0.9778  0.9783  0.9788  0.9793  0.9798  0.9803  0.9808  0.9812   \n",
              "2.10  0.9821  0.9826  0.9830  0.9834  0.9838  0.9842  0.9846  0.9850  0.9854   \n",
              "2.20  0.9861  0.9864  0.9868  0.9871  0.9875  0.9878  0.9881  0.9884  0.9887   \n",
              "2.30  0.9893  0.9896  0.9898  0.9901  0.9904  0.9906  0.9909  0.9911  0.9913   \n",
              "2.40  0.9918  0.9920  0.9922  0.9925  0.9927  0.9929  0.9931  0.9932  0.9934   \n",
              "2.50  0.9938  0.9940  0.9941  0.9943  0.9945  0.9946  0.9948  0.9949  0.9951   \n",
              "\n",
              "Z       0.09  \n",
              "1.60  0.9545  \n",
              "1.70  0.9633  \n",
              "1.80  0.9706  \n",
              "1.90  0.9767  \n",
              "2.00  0.9817  \n",
              "2.10  0.9857  \n",
              "2.20  0.9890  \n",
              "2.30  0.9916  \n",
              "2.40  0.9936  \n",
              "2.50  0.9952  "
            ]
          },
          "execution_count": 65,
          "metadata": {},
          "output_type": "execute_result"
        }
      ],
      "source": [
        "tabela_normal_padronizada[16:26]"
      ]
    },
    {
      "cell_type": "markdown",
      "metadata": {
        "id": "rMRmnaNPG3Go"
      },
      "source": [
        "### Obtendo $z$"
      ]
    },
    {
      "cell_type": "markdown",
      "metadata": {
        "id": "T-3mV1qlUj1t"
      },
      "source": [
        "![alt text](https://caelum-online-public.s3.amazonaws.com/1178-estatistica-parte2/01/img008.png)"
      ]
    },
    {
      "cell_type": "code",
      "execution_count": null,
      "metadata": {
        "colab": {
          "base_uri": "https://localhost:8080/",
          "height": 34
        },
        "id": "nT5ZTwjOG3Go",
        "outputId": "9c20d5b5-fb36-40f1-b901-3969a2fa8ea0"
      },
      "outputs": [
        {
          "data": {
            "text/plain": [
              "0.475"
            ]
          },
          "execution_count": 66,
          "metadata": {},
          "output_type": "execute_result"
        }
      ],
      "source": [
        "0.95 / 2"
      ]
    },
    {
      "cell_type": "code",
      "execution_count": null,
      "metadata": {
        "colab": {
          "base_uri": "https://localhost:8080/",
          "height": 34
        },
        "id": "vMjck-3ZU_sz",
        "outputId": "56a3f3ba-e5d4-40c7-dc4c-b31ed5d07262"
      },
      "outputs": [
        {
          "data": {
            "text/plain": [
              "0.975"
            ]
          },
          "execution_count": 67,
          "metadata": {},
          "output_type": "execute_result"
        }
      ],
      "source": [
        "0.5 + (0.95 / 2)"
      ]
    },
    {
      "cell_type": "code",
      "execution_count": null,
      "metadata": {
        "colab": {
          "base_uri": "https://localhost:8080/",
          "height": 34
        },
        "id": "L4CMGZ3oVHLX",
        "outputId": "60470140-1dfa-4d5c-9627-097378b2fc8e"
      },
      "outputs": [
        {
          "data": {
            "text/plain": [
              "1.96"
            ]
          },
          "execution_count": 68,
          "metadata": {},
          "output_type": "execute_result"
        }
      ],
      "source": [
        "1.9 + 0.06"
      ]
    },
    {
      "cell_type": "code",
      "execution_count": null,
      "metadata": {
        "colab": {
          "base_uri": "https://localhost:8080/",
          "height": 34
        },
        "id": "JJS6Z-85G3Hf",
        "outputId": "4cc8e179-05a4-4237-f099-06550ac200bf"
      },
      "outputs": [
        {
          "data": {
            "text/plain": [
              "1.959963984540054"
            ]
          },
          "execution_count": 69,
          "metadata": {},
          "output_type": "execute_result"
        }
      ],
      "source": [
        "z = norm.ppf(0.975)\n",
        "z"
      ]
    },
    {
      "cell_type": "markdown",
      "metadata": {
        "id": "ggXXP8QqTyNA"
      },
      "source": [
        "### Valores de $z$ para os níveis de confiança mais utilizados\n",
        "\n",
        "|Nível de<br>confiança|Valor da área sob<br>a curva normal| $z$ |\n",
        "|:----------------:|:---------------------------------:|:---:|\n",
        "|90%               |0,95                               |1,645|\n",
        "|95%               |0,975                              |1,96 |\n",
        "|99%               |0,995                              |2,575|"
      ]
    },
    {
      "cell_type": "markdown",
      "metadata": {
        "id": "MfE1ru0AG3Hg"
      },
      "source": [
        "### Obtendo $\\sigma_\\bar{x}$"
      ]
    },
    {
      "cell_type": "code",
      "execution_count": null,
      "metadata": {
        "colab": {
          "base_uri": "https://localhost:8080/",
          "height": 34
        },
        "id": "LyQ6UUYtG3Hh",
        "outputId": "4c066583-4272-4e26-daf5-575ea4815371"
      },
      "outputs": [
        {
          "data": {
            "text/plain": [
              "150"
            ]
          },
          "execution_count": 70,
          "metadata": {},
          "output_type": "execute_result"
        }
      ],
      "source": [
        "desvio_padrao = 150\n",
        "desvio_padrao"
      ]
    },
    {
      "cell_type": "code",
      "execution_count": null,
      "metadata": {
        "colab": {
          "base_uri": "https://localhost:8080/",
          "height": 34
        },
        "id": "ebvikT95G3Hi",
        "outputId": "bfbc2f5c-e706-46a6-aa6c-e94632aed4fc"
      },
      "outputs": [
        {
          "data": {
            "text/plain": [
              "20"
            ]
          },
          "execution_count": 71,
          "metadata": {},
          "output_type": "execute_result"
        }
      ],
      "source": [
        "n = 20\n",
        "n"
      ]
    },
    {
      "cell_type": "code",
      "execution_count": null,
      "metadata": {
        "colab": {
          "base_uri": "https://localhost:8080/",
          "height": 34
        },
        "id": "TxM3yTpjG3Hk",
        "outputId": "a38a0bfc-2c3b-48f4-cea7-ee5f5147a251"
      },
      "outputs": [
        {
          "data": {
            "text/plain": [
              "4.47213595499958"
            ]
          },
          "execution_count": 72,
          "metadata": {},
          "output_type": "execute_result"
        }
      ],
      "source": [
        "raiz_de_n = np.sqrt(n)\n",
        "raiz_de_n"
      ]
    },
    {
      "cell_type": "code",
      "execution_count": null,
      "metadata": {
        "colab": {
          "base_uri": "https://localhost:8080/",
          "height": 34
        },
        "id": "HNAcOpl0G3Hl",
        "outputId": "3b37c2d5-b02d-40af-897d-6c588e2696aa"
      },
      "outputs": [
        {
          "data": {
            "text/plain": [
              "33.54101966249684"
            ]
          },
          "execution_count": 73,
          "metadata": {},
          "output_type": "execute_result"
        }
      ],
      "source": [
        "sigma = desvio_padrao / raiz_de_n\n",
        "sigma"
      ]
    },
    {
      "cell_type": "markdown",
      "metadata": {
        "id": "NHbXlLk-G3Hn"
      },
      "source": [
        "### Obtendo $e$"
      ]
    },
    {
      "cell_type": "code",
      "execution_count": null,
      "metadata": {
        "colab": {
          "base_uri": "https://localhost:8080/",
          "height": 34
        },
        "id": "gAfakih5G3Ho",
        "outputId": "48958fa3-2cf8-4bc5-dfc3-0fb925798b38"
      },
      "outputs": [
        {
          "data": {
            "text/plain": [
              "65.73919054324361"
            ]
          },
          "execution_count": 74,
          "metadata": {},
          "output_type": "execute_result"
        }
      ],
      "source": [
        "e = z * sigma\n",
        "e"
      ]
    },
    {
      "cell_type": "markdown",
      "metadata": {
        "id": "sx1QTfNrG3Hq"
      },
      "source": [
        "### Solução 1 - Calculando o intervalo de confiança para a média"
      ]
    },
    {
      "cell_type": "code",
      "execution_count": null,
      "metadata": {
        "colab": {
          "base_uri": "https://localhost:8080/",
          "height": 34
        },
        "id": "NlJCcPZnG3Hq",
        "outputId": "09cee323-103e-4832-c23f-97daf4b9929f"
      },
      "outputs": [
        {
          "data": {
            "text/plain": [
              "(4984.260809456757, 5115.739190543243)"
            ]
          },
          "execution_count": 75,
          "metadata": {},
          "output_type": "execute_result"
        }
      ],
      "source": [
        "intervalo = (\n",
        "  media_amostra - e,\n",
        "  media_amostra + e\n",
        ")\n",
        "intervalo"
      ]
    },
    {
      "cell_type": "markdown",
      "metadata": {
        "id": "DkFJL7fcG3Ht"
      },
      "source": [
        "### Solução 2 - Calculando o intervalo de confiança para a média"
      ]
    },
    {
      "cell_type": "code",
      "execution_count": null,
      "metadata": {
        "colab": {
          "base_uri": "https://localhost:8080/",
          "height": 34
        },
        "id": "U92vSYMkG3Hu",
        "outputId": "45923471-3d21-42ad-a922-5067ff21067b"
      },
      "outputs": [
        {
          "data": {
            "text/plain": [
              "(4984.260809456757, 5115.739190543243)"
            ]
          },
          "execution_count": 76,
          "metadata": {},
          "output_type": "execute_result"
        }
      ],
      "source": [
        "norm.interval(alpha = 0.95, loc = media_amostra, scale = sigma)"
      ]
    },
    {
      "cell_type": "markdown",
      "metadata": {
        "id": "aF9jAC6yG3Gl"
      },
      "source": [
        "# <font color=green>5 CÁLCULO DO TAMANHO DA AMOSTRA</font>\n",
        "***"
      ]
    },
    {
      "cell_type": "markdown",
      "metadata": {
        "id": "BwiygaNqnjrr"
      },
      "source": [
        "## <font color='red'>Problema </font>"
      ]
    },
    {
      "cell_type": "markdown",
      "metadata": {
        "id": "a7RjjVVUnlI3"
      },
      "source": [
        "Estamos estudando o rendimento mensal dos chefes de domicílios com renda até R$\\$$ 5.000,00 no Brasil. Nosso supervisor determinou que o **erro máximo em relação a média seja de R$\\$$ 10,00**. Sabemos que o **desvio padrão populacional** deste grupo de trabalhadores é de **R$\\$$ 1.082,79**. Para um **nível de confiança de 95%**, qual deve ser o tamanho da amostra de nosso estudo?"
      ]
    },
    {
      "cell_type": "markdown",
      "metadata": {
        "id": "za2sGJt6G3Gm"
      },
      "source": [
        "## <font color=green>5.1 Variáveis quantitativas e população infinita</font>\n",
        "***"
      ]
    },
    {
      "cell_type": "markdown",
      "metadata": {
        "id": "3wqMjJWR5sVq"
      },
      "source": [
        "# $$e = z \\frac{\\sigma}{\\sqrt{n}}$$"
      ]
    },
    {
      "cell_type": "markdown",
      "metadata": {
        "id": "X1AxpKtIG3Gn"
      },
      "source": [
        "#### Com desvio padrão conhecido\n",
        "\n",
        "## $$n = \\left(z\\frac{\\sigma}{e}\\right)^2$$\n",
        "\n",
        "#### Com desvio padrão desconhecido\n",
        "\n",
        "## $$n = \\left(z\\frac{s}{e}\\right)^2$$\n",
        "\n",
        "Onde:\n",
        "\n",
        "$z$ = variável normal padronizada\n",
        "\n",
        "$\\sigma$ = desvio padrão populacional\n",
        "\n",
        "$s$ = desvio padrão amostral\n",
        "\n",
        "$e$ = erro inferencial"
      ]
    },
    {
      "cell_type": "markdown",
      "metadata": {
        "id": "T0fysCyDG3Gn"
      },
      "source": [
        "### <font color='red'>Observações</font>\n",
        "\n",
        "1. O desvio padrão ($\\sigma$ ou $s$) e o erro ($e$) devem estar na mesma unidade de medida.\n",
        "\n",
        "2. Quando o erro ($e$) for representado em termos percentuais, deve ser interpretado como um percentual relacionado à média."
      ]
    },
    {
      "cell_type": "markdown",
      "metadata": {
        "id": "WHYBTaupG3Gn"
      },
      "source": [
        "## <font color='blue'>Exemplo: Rendimento médio</font>"
      ]
    },
    {
      "cell_type": "markdown",
      "metadata": {
        "id": "dcdzo7EgG3Go"
      },
      "source": [
        "Estamos estudando o rendimento mensal dos chefes de domicílios no Brasil. Nosso supervisor determinou que o **erro máximo em relação a média seja de R$\\$$ 100,00**. Sabemos que o **desvio padrão populacional** deste grupo de trabalhadores é de **R$\\$$ 3.323,39**. Para um **nível de confiança de 95%**, qual deve ser o tamanho da amostra de nosso estudo?"
      ]
    },
    {
      "cell_type": "code",
      "execution_count": null,
      "metadata": {
        "colab": {
          "base_uri": "https://localhost:8080/",
          "height": 34
        },
        "id": "XtJ5I_kaKDN3",
        "outputId": "a519e330-ddf0-492c-f42d-5cef36fed4c9"
      },
      "outputs": [
        {
          "data": {
            "text/plain": [
              "0.475"
            ]
          },
          "execution_count": 77,
          "metadata": {},
          "output_type": "execute_result"
        }
      ],
      "source": [
        "0.95 / 2"
      ]
    },
    {
      "cell_type": "code",
      "execution_count": null,
      "metadata": {
        "colab": {
          "base_uri": "https://localhost:8080/",
          "height": 34
        },
        "id": "-4TLCgNLKC95",
        "outputId": "19f3b7af-ff33-4db4-c675-c62b5088137e"
      },
      "outputs": [
        {
          "data": {
            "text/plain": [
              "0.975"
            ]
          },
          "execution_count": 78,
          "metadata": {},
          "output_type": "execute_result"
        }
      ],
      "source": [
        "0.5 + (0.95 / 2)"
      ]
    },
    {
      "cell_type": "code",
      "execution_count": null,
      "metadata": {
        "colab": {
          "base_uri": "https://localhost:8080/",
          "height": 34
        },
        "id": "7XDT12I4ViYN",
        "outputId": "a0af8729-80a8-4b33-b307-96d144c83029"
      },
      "outputs": [
        {
          "data": {
            "text/plain": [
              "1.959963984540054"
            ]
          },
          "execution_count": 79,
          "metadata": {},
          "output_type": "execute_result"
        }
      ],
      "source": [
        "z = norm.ppf(0.975)\n",
        "z"
      ]
    },
    {
      "cell_type": "markdown",
      "metadata": {
        "id": "6uCkW4KlG3Gr"
      },
      "source": [
        "### Obtendo $\\sigma$"
      ]
    },
    {
      "cell_type": "code",
      "execution_count": null,
      "metadata": {
        "colab": {
          "base_uri": "https://localhost:8080/",
          "height": 34
        },
        "id": "1RmtZfj-G3Gr",
        "outputId": "d3e77bf1-b933-4ade-846f-95e25f4e1d6e"
      },
      "outputs": [
        {
          "data": {
            "text/plain": [
              "3323.39"
            ]
          },
          "execution_count": 80,
          "metadata": {},
          "output_type": "execute_result"
        }
      ],
      "source": [
        "sigma = 3323.39\n",
        "sigma"
      ]
    },
    {
      "cell_type": "markdown",
      "metadata": {
        "id": "Cl39PIZ2G3Gt"
      },
      "source": [
        "### Obtendo $e$"
      ]
    },
    {
      "cell_type": "code",
      "execution_count": null,
      "metadata": {
        "colab": {
          "base_uri": "https://localhost:8080/",
          "height": 34
        },
        "id": "NTRMt2gWG3Gt",
        "outputId": "f7d7ae3f-7e33-41cc-a11a-5b09de70cc2c"
      },
      "outputs": [
        {
          "data": {
            "text/plain": [
              "100"
            ]
          },
          "execution_count": 81,
          "metadata": {},
          "output_type": "execute_result"
        }
      ],
      "source": [
        "e = 100\n",
        "e"
      ]
    },
    {
      "cell_type": "markdown",
      "metadata": {
        "id": "OlAX3Gj6G3Gv"
      },
      "source": [
        "### Obtendo $n$"
      ]
    },
    {
      "cell_type": "code",
      "execution_count": null,
      "metadata": {
        "colab": {
          "base_uri": "https://localhost:8080/",
          "height": 34
        },
        "id": "0MjluwHPG3Gv",
        "outputId": "8f74510a-4f4b-4129-d3c3-d31be24567fa",
        "scrolled": true
      },
      "outputs": [
        {
          "data": {
            "text/plain": [
              "4243"
            ]
          },
          "execution_count": 82,
          "metadata": {},
          "output_type": "execute_result"
        }
      ],
      "source": [
        "n = (z * (sigma / e)) ** 2\n",
        "int(n.round())"
      ]
    },
    {
      "cell_type": "markdown",
      "metadata": {
        "id": "MjP0xsqyTyNO"
      },
      "source": [
        "---\n",
        "---"
      ]
    },
    {
      "cell_type": "markdown",
      "metadata": {
        "id": "dx2vyLC-TyNP"
      },
      "source": [
        "## <font color='red'>Problema</font>"
      ]
    },
    {
      "cell_type": "markdown",
      "metadata": {
        "id": "uzK2fAOFTyNP"
      },
      "source": [
        "Em um lote de **10.000 latas** de refrigerante foi realizada uma amostra aleatória simples de **100 latas** e foi obtido o **desvio padrão amostral do conteúdo das latas igual a 12 ml**. O fabricante estipula um **erro máximo sobre a média populacional de apenas 5 ml**. Para garantir um **nível de confiança de 95%** qual o tamanho de amostra deve ser selecionado para este estudo?"
      ]
    },
    {
      "cell_type": "markdown",
      "metadata": {
        "id": "FlAz5kycTyNQ"
      },
      "source": [
        "## <font color=green>5.2 Variáveis quantitativas e população finita</font>\n",
        "***"
      ]
    },
    {
      "cell_type": "markdown",
      "metadata": {
        "id": "UOe02McSTyNR"
      },
      "source": [
        "#### Com desvio padrão conhecido\n",
        "\n",
        "## $$n = \\frac{z^2 \\sigma^2 N}{z^2 \\sigma^2 + e^2(N-1)}$$\n",
        "\n",
        "#### Com desvio padrão desconhecido\n",
        "\n",
        "## $$n = \\frac{z^2 s^2 N}{z^2 s^2 + e^2(N-1)}$$\n",
        "\n",
        "Onde:\n",
        "\n",
        "$N$ = tamanho da população\n",
        "\n",
        "$z$ = variável normal padronizada\n",
        "\n",
        "$\\sigma$ = desvio padrão populacional\n",
        "\n",
        "$s$ = desvio padrão amostral\n",
        "\n",
        "$e$ = erro inferencial"
      ]
    },
    {
      "cell_type": "markdown",
      "metadata": {
        "id": "cUELtYTKTyNS"
      },
      "source": [
        "## <font color='blue'>Exemplo: Indústria de refrigerantes</font>"
      ]
    },
    {
      "cell_type": "markdown",
      "metadata": {
        "id": "upv1mM7fTyNS"
      },
      "source": [
        "Em um lote de **10.000 latas** de refrigerante foi realizada uma amostra aleatória simples de **100 latas** e foi obtido o **desvio padrão amostral do conteúdo das latas igual a 12 ml**. O fabricante estipula um **erro máximo sobre a média populacional de apenas 5 ml**. Para garantir um **nível de confiança de 95%** qual o tamanho de amostra deve ser selecionado para este estudo?"
      ]
    },
    {
      "cell_type": "markdown",
      "metadata": {
        "id": "_y3-3VIBTyNS"
      },
      "source": [
        "### Obtendo $N$"
      ]
    },
    {
      "cell_type": "code",
      "execution_count": null,
      "metadata": {
        "colab": {
          "base_uri": "https://localhost:8080/",
          "height": 34
        },
        "id": "gXWn9zTETyNS",
        "outputId": "4daa26ff-4a96-47fb-9f0e-53a4390d701e"
      },
      "outputs": [
        {
          "data": {
            "text/plain": [
              "10000"
            ]
          },
          "execution_count": 83,
          "metadata": {},
          "output_type": "execute_result"
        }
      ],
      "source": [
        "N = 10000\n",
        "N"
      ]
    },
    {
      "cell_type": "markdown",
      "metadata": {
        "id": "xCgZ1JSjTyNT"
      },
      "source": [
        "### Obtendo $z$"
      ]
    },
    {
      "cell_type": "code",
      "execution_count": null,
      "metadata": {
        "colab": {
          "base_uri": "https://localhost:8080/",
          "height": 34
        },
        "id": "ZUs9aYJRTyNT",
        "outputId": "02560c9f-57ee-41c7-cdf4-5fd382365a74"
      },
      "outputs": [
        {
          "data": {
            "text/plain": [
              "1.959963984540054"
            ]
          },
          "execution_count": 84,
          "metadata": {},
          "output_type": "execute_result"
        }
      ],
      "source": [
        "z = norm.ppf((0.5 + (0.95 / 2)))\n",
        "z"
      ]
    },
    {
      "cell_type": "markdown",
      "metadata": {
        "id": "KCnigJd8TyNU"
      },
      "source": [
        "### Obtendo $s$"
      ]
    },
    {
      "cell_type": "code",
      "execution_count": null,
      "metadata": {
        "colab": {
          "base_uri": "https://localhost:8080/",
          "height": 34
        },
        "id": "fKqFI_TZTyNU",
        "outputId": "68a9ee2f-428a-4d18-9148-f33704968fb7"
      },
      "outputs": [
        {
          "data": {
            "text/plain": [
              "12"
            ]
          },
          "execution_count": 85,
          "metadata": {},
          "output_type": "execute_result"
        }
      ],
      "source": [
        "s = 12\n",
        "s"
      ]
    },
    {
      "cell_type": "markdown",
      "metadata": {
        "id": "K9gDEIUdTyNX"
      },
      "source": [
        "### Obtendo $e$"
      ]
    },
    {
      "cell_type": "code",
      "execution_count": null,
      "metadata": {
        "colab": {
          "base_uri": "https://localhost:8080/",
          "height": 34
        },
        "id": "hyhJ3MQKTyNX",
        "outputId": "2849bd05-6c70-4d97-980d-67e140f27850"
      },
      "outputs": [
        {
          "data": {
            "text/plain": [
              "5"
            ]
          },
          "execution_count": 86,
          "metadata": {},
          "output_type": "execute_result"
        }
      ],
      "source": [
        "e = 5\n",
        "e"
      ]
    },
    {
      "cell_type": "markdown",
      "metadata": {
        "id": "Dsm3bg9gTyNX"
      },
      "source": [
        "### Obtendo $n$\n",
        "\n",
        "## $$n = \\frac{z^2 s^2 N}{z^2 s^2 + e^2(N-1)}$$"
      ]
    },
    {
      "cell_type": "code",
      "execution_count": null,
      "metadata": {
        "colab": {
          "base_uri": "https://localhost:8080/",
          "height": 34
        },
        "id": "0XxWfaPdTyNY",
        "outputId": "8494180f-9149-419f-dee9-f02ec3e81b93",
        "scrolled": true
      },
      "outputs": [
        {
          "data": {
            "text/plain": [
              "22"
            ]
          },
          "execution_count": 87,
          "metadata": {},
          "output_type": "execute_result"
        }
      ],
      "source": [
        "n = ((z**2) * (s**2) * (N)) / (((z**2) * (s**2)) + ((e**2) * (N - 1)))\n",
        "int(n.round())"
      ]
    },
    {
      "cell_type": "markdown",
      "metadata": {
        "id": "XNH7CMglG3Hv"
      },
      "source": [
        "# <font color=green>6 FIXANDO O CONTEÚDO</font>\n",
        "***"
      ]
    },
    {
      "cell_type": "markdown",
      "metadata": {
        "id": "iRYqVAxuG3Hv"
      },
      "source": [
        "## <font color='blue'>Exemplo: Rendimento médio</font>"
      ]
    },
    {
      "cell_type": "markdown",
      "metadata": {
        "id": "ggloHI5sG3Hw"
      },
      "source": [
        "Estamos estudando o **rendimento mensal dos chefes de domicílios com renda até R$\\$$ 5.000,00 no Brasil**. Nosso supervisor determinou que o **erro máximo em relação a média seja de R$\\$$ 10,00**. Sabemos que o **desvio padrão populacional** deste grupo de trabalhadores é de **R$\\$$ 1.082,79** e que a **média populacional** é de **R$\\$$ 1.426,54**. Para um **nível de confiança de 95%**, qual deve ser o tamanho da amostra de nosso estudo? Qual o intervalo de confiança para a média considerando o tamanho de amostra obtido?"
      ]
    },
    {
      "cell_type": "markdown",
      "metadata": {
        "id": "JZDvLD-NG3Hw"
      },
      "source": [
        "### Construindo o dataset conforme especificado pelo problema"
      ]
    },
    {
      "cell_type": "code",
      "execution_count": null,
      "metadata": {
        "id": "qlnYQeaKG3Hw"
      },
      "outputs": [],
      "source": [
        "renda_5000 = dados.query('Renda <= 5000').Renda"
      ]
    },
    {
      "cell_type": "code",
      "execution_count": null,
      "metadata": {
        "id": "VKuxbygIG3Hy"
      },
      "outputs": [],
      "source": [
        "sigma = renda_5000.std()\n",
        "sigma"
      ]
    },
    {
      "cell_type": "code",
      "execution_count": null,
      "metadata": {
        "id": "Q2Ku3mVPG3Hz"
      },
      "outputs": [],
      "source": [
        "media = renda_5000.mean()\n",
        "media"
      ]
    },
    {
      "cell_type": "markdown",
      "metadata": {
        "id": "F33TdkXdG3H2"
      },
      "source": [
        "### Calculando o tamanho da amostra"
      ]
    },
    {
      "cell_type": "code",
      "execution_count": null,
      "metadata": {
        "id": "sWIvnmygG3H2"
      },
      "outputs": [],
      "source": []
    },
    {
      "cell_type": "markdown",
      "metadata": {
        "id": "xRN_gmmLG3H6"
      },
      "source": [
        "### Calculando o intervalo de confiança para a média"
      ]
    },
    {
      "cell_type": "code",
      "execution_count": null,
      "metadata": {
        "id": "HoG6JKxxG3H6"
      },
      "outputs": [],
      "source": []
    },
    {
      "cell_type": "markdown",
      "metadata": {
        "id": "xWAG8q8oG3H8"
      },
      "source": [
        "### Realizando uma prova gráfica"
      ]
    },
    {
      "cell_type": "code",
      "execution_count": null,
      "metadata": {
        "id": "pxjJyWnNG3H8"
      },
      "outputs": [],
      "source": [
        "import matplotlib.pyplot as plt\n",
        "\n",
        "tamanho_simulacao = 1000\n",
        "\n",
        "medias = [renda_5000.sample(n = n).mean() for i in range(1, tamanho_simulacao)]\n",
        "medias = pd.DataFrame(medias)\n",
        "\n",
        "ax = medias.plot(style = '.')\n",
        "ax.figure.set_size_inches(12, 6)\n",
        "ax.hlines(y = media, xmin = 0, xmax = tamanho_simulacao, colors='black', linestyles='dashed')\n",
        "ax.hlines(y = intervalo[0], xmin = 0, xmax = tamanho_simulacao, colors='red', linestyles='dashed')\n",
        "ax.hlines(y = intervalo[1], xmin = 0, xmax = tamanho_simulacao, colors='red', linestyles='dashed')\n",
        "ax"
      ]
    },
    {
      "cell_type": "markdown",
      "source": [
        "# <font color=green>EXERCÍCIOS</font>"
      ],
      "metadata": {
        "id": "dLosz2zYrKfM"
      }
    },
    {
      "cell_type": "markdown",
      "source": [
        "## 1.) Utilizando DataFrames"
      ],
      "metadata": {
        "id": "PUiRL9PIrbYb"
      }
    },
    {
      "cell_type": "markdown",
      "source": [
        "Com a biblioteca pandas, podemos ler conjuntos de dados em diversos formatos e convertê-los em um DataFrame. Para um conjunto de dados no formato CSV, qual seria a função do pandas para a leitura destes dados?"
      ],
      "metadata": {
        "id": "SOocUKvXsKf9"
      }
    },
    {
      "cell_type": "markdown",
      "source": [
        "Resp.: Lembre-se de observar o tipo de separador de colunas que o arquivo CSV está utilizando. Por padrão, a função read_csv( ) utiliza o parâmetro sep=','. Caso o separador seja algum caractere diferente da vírgula, será necessário informarmos isto para a função, por exemplo:<font color=red> read_csv(‘dados.csv’, sep=’;’)).</font>"
      ],
      "metadata": {
        "id": "iBV3VHjtsWoN"
      }
    },
    {
      "cell_type": "markdown",
      "source": [
        "# 2.) Show de prêmios da Alura"
      ],
      "metadata": {
        "id": "8MgTt951tBdL"
      }
    },
    {
      "cell_type": "markdown",
      "source": [
        "Suponha que acabamos de criar um jogo de loteria, chamado Show de prêmios da Alura. Neste nosso novo jogo, o apostador marca 20 números, dentre os 25 disponíveis no bilhete, e pode ganhar até 1 milhão de reais.\n",
        "\n",
        "Determine qual o número de combinações possíveis (espaço amostral) e a probabilidade de se ganhar o prêmio jogando apenas um bilhete (considere apenas quinze casas decimais)."
      ],
      "metadata": {
        "id": "5b5Ce0iVtTuJ"
      }
    },
    {
      "cell_type": "markdown",
      "source": [
        "Resp.: <font color=red> from scipy.special import comb\n",
        "\n",
        "combinacoes = comb(25, 20)\n",
        "probabilidade = 1 / combinacoes\n",
        "print('Combinações = %d e Probabilidade = %0.15f' % (combinacoes, probabilidade))</font>"
      ],
      "metadata": {
        "id": "hXkE-jLytcW7"
      }
    },
    {
      "cell_type": "code",
      "source": [
        "from scipy.special import comb\n",
        "\n",
        "combinacoes = comb(25, 20)\n",
        "probabilidade = 1 / combinacoes\n",
        "print('Combinações = %d e Probabilidade = %0.15f' % (combinacoes, probabilidade))"
      ],
      "metadata": {
        "colab": {
          "base_uri": "https://localhost:8080/",
          "height": 0
        },
        "id": "xULL5jBXt5G9",
        "outputId": "c39cdaf1-b67c-482a-d8c7-edea6272832f"
      },
      "execution_count": 1,
      "outputs": [
        {
          "output_type": "stream",
          "name": "stdout",
          "text": [
            "Combinações = 53130 e Probabilidade = 0.000018821757952\n"
          ]
        }
      ]
    },
    {
      "cell_type": "markdown",
      "source": [
        "Explicação usando a fórmula:\n",
        "\n",
        "- comb(25, 20) calcula o número de combinações de 25 elementos tomados 20 a 20.\n",
        "- 1 / combinacoes calcula a probabilidade de acertar exatamente 20 números em 25.\n",
        "\n",
        "Fórmula\n",
        "\n",
        "A fórmula de combinação é:\n",
        "\n",
        "C(n, k) = n! / (k! * (n-k)!)\n",
        "\n",
        "Onde:\n",
        "\n",
        "- n é o número total de elementos (25)\n",
        "- k é o número de elementos escolhidos (20)\n",
        "- ! denota o fatorial (n! = n * (n-1) * ... * 1)"
      ],
      "metadata": {
        "id": "FurvC8IVuhRh"
      }
    },
    {
      "cell_type": "markdown",
      "source": [
        "## 3.) Distribuição de probabilidade binomial"
      ],
      "metadata": {
        "id": "fql6005vuqip"
      }
    },
    {
      "cell_type": "markdown",
      "source": [
        "As alternativas abaixo descrevem as características básicas de um experimento binomial."
      ],
      "metadata": {
        "id": "Uxh1zL0Xu1kG"
      }
    },
    {
      "cell_type": "markdown",
      "source": [
        "    - Realização de n ensaios idênticos.\n",
        "\n",
        "    - Todos os ensaios realizados precisam ter a mesma configuração\n",
        "\n",
        "    - Somente dois resultados são possíveis.\n",
        "\n",
        "    - Exemplo: verdadeiro ou falso; cara ou coroa; sucesso ou fracasso"
      ],
      "metadata": {
        "id": "knRGlxpeu50R"
      }
    },
    {
      "cell_type": "markdown",
      "source": [
        "## 4.) Lançando moedas"
      ],
      "metadata": {
        "id": "C2RySOtLvdiB"
      }
    },
    {
      "cell_type": "markdown",
      "source": [
        "Uma moeda, perfeitamente equilibrada, é lançada para o alto quatro vezes. Utilizando a distribuição binomial, obtenha a probabilidade de a moeda cair com a face coroa voltada para cima duas vezes."
      ],
      "metadata": {
        "id": "4J2FqlKvvgJ_"
      }
    },
    {
      "cell_type": "markdown",
      "source": [
        "Distribuição Binomial\n",
        "\n",
        "A distribuição binomial é uma distribuição de probabilidade discreta que modela o número de sucessos em uma sequência de experimentos independentes, cada um com uma probabilidade de sucesso constante.\n",
        "\n",
        "Parâmetros\n",
        "\n",
        "- n = 4 (número de lançamentos da moeda)\n",
        "- k = 2 (número de sucessos, ou seja, face coroa voltada para cima)\n",
        "- p = 0,5 (probabilidade de sucesso, ou seja, face coroa voltada para cima em um lançamento)\n",
        "- q = 1 - p = 0,5 (probabilidade de falha, ou seja, face cara voltada para cima em um lançamento)\n",
        "\n",
        "Fórmula\n",
        "\n",
        "A probabilidade de k sucessos em n experimentos é dada pela fórmula:\n",
        "\n",
        "P(X = k) = (nCk) * p^k * q^(n-k)\n",
        "\n",
        "Onde nCk é o número de combinações de n elementos tomados k a k.\n",
        "\n",
        "Cálculo\n",
        "\n",
        "P(X = 2) = (4C2) * (0,5)^2 * (0,5)^(4-2)\n",
        "= 6 * (0,5)^2 * (0,5)^2\n",
        "= 6 * (0,5)^4\n",
        "= 6 * 0,0625\n",
        "= 0,375\n",
        "\n",
        "Resposta\n",
        "\n",
        "A probabilidade de a moeda cair com a face coroa voltada para cima duas vezes em quatro lançamentos é de 0,375 ou 37,5%.\n",
        "\n",
        "Código em Python\n",
        "\n",
        "\n",
        "from scipy.special import comb\n",
        "\n",
        "n = 4  # número de lançamentos\n",
        "k = 2  # número de sucessos\n",
        "p = 0.5  # probabilidade de sucesso\n",
        "\n",
        "probabilidade = comb(n, k) * (p ** k) * ((1 - p) ** (n - k))\n",
        "print(\"Probabilidade =\", probabilidade)"
      ],
      "metadata": {
        "id": "03A8GdVHv6md"
      }
    },
    {
      "cell_type": "code",
      "source": [
        "from scipy.special import comb\n",
        "\n",
        "n = 4  # número de lançamentos\n",
        "k = 2  # número de sucessos\n",
        "p = 0.5  # probabilidade de sucesso\n",
        "\n",
        "probabilidade = comb(n, k) * (p ** k) * ((1 - p) ** (n - k))\n",
        "print(\"Probabilidade =\", probabilidade)"
      ],
      "metadata": {
        "colab": {
          "base_uri": "https://localhost:8080/",
          "height": 0
        },
        "id": "U5TE_HYLwf1s",
        "outputId": "47916444-ee12-47e1-fd6a-de92ca2ad30a"
      },
      "execution_count": 2,
      "outputs": [
        {
          "output_type": "stream",
          "name": "stdout",
          "text": [
            "Probabilidade = 0.375\n"
          ]
        }
      ]
    },
    {
      "cell_type": "markdown",
      "source": [
        "## 5.) Lançando dados"
      ],
      "metadata": {
        "id": "UpOIpmVWwlqm"
      }
    },
    {
      "cell_type": "markdown",
      "source": [
        "Um dado, perfeitamente equilibrado, é lançado para o alto dez vezes. Utilizando a distribuição binomial, obtenha a probabilidade de o dado cair com o número cinco voltado para cima pelo menos três vezes."
      ],
      "metadata": {
        "id": "EPhdfAKgwsGj"
      }
    },
    {
      "cell_type": "code",
      "source": [
        "from scipy.stats import binom\n",
        "\n",
        "p = 1 / 6   # Probabilidade de sair o número CINCO\n",
        "n = 10      # Total de lançamentos\n",
        "\n",
        "print(\"{0:.2%}\".format(binom.sf(2, n, p)))"
      ],
      "metadata": {
        "colab": {
          "base_uri": "https://localhost:8080/",
          "height": 0
        },
        "id": "FSrlXKZfw3Ee",
        "outputId": "b3167d9a-7ac6-4f88-d26c-2e42b05ad06c"
      },
      "execution_count": 3,
      "outputs": [
        {
          "output_type": "stream",
          "name": "stdout",
          "text": [
            "22.48%\n"
          ]
        }
      ]
    },
    {
      "cell_type": "markdown",
      "source": [
        "## 6.) Chance de ter olhos azuis"
      ],
      "metadata": {
        "id": "Bj52NSM_xCf9"
      }
    },
    {
      "cell_type": "markdown",
      "source": [
        "Suponha que a probabilidade de um casal ter filhos com olhos azuis seja de 22%. Em 50 famílias, com 3 crianças cada uma, quantas podemos esperar que tenham dois filhos com olhos azuis?"
      ],
      "metadata": {
        "id": "jxKEKoBUxIj5"
      }
    },
    {
      "cell_type": "code",
      "source": [
        "from scipy.stats import binom\n",
        "\n",
        "p = 0.22\n",
        "n = 3\n",
        "k = 2\n",
        "N = 50\n",
        "\n",
        "probabilidade = binom.pmf(k, n, p)\n",
        "\n",
        "media = probabilidade * N\n",
        "\n",
        "print(\"Probabilidade =\", probabilidade)\n",
        "print(\"Média =\", media)\n"
      ],
      "metadata": {
        "colab": {
          "base_uri": "https://localhost:8080/",
          "height": 0
        },
        "id": "W-ZLnOG9xQJi",
        "outputId": "05e567a8-78ee-486e-c592-677f17d50736"
      },
      "execution_count": 6,
      "outputs": [
        {
          "output_type": "stream",
          "name": "stdout",
          "text": [
            "Probabilidade = 0.11325599999999993\n",
            "Média = 5.662799999999996\n"
          ]
        }
      ]
    },
    {
      "cell_type": "markdown",
      "source": [
        "## 7.) Experimento Poisson"
      ],
      "metadata": {
        "id": "Y3LlOs0sx2vy"
      }
    },
    {
      "cell_type": "markdown",
      "source": [
        "As alternativas abaixo descrevem as características básicas de um experimento Poisson."
      ],
      "metadata": {
        "id": "f0q3EHg_yNyT"
      }
    },
    {
      "cell_type": "markdown",
      "source": [
        "  O número de ocorrências em determinado intervalo é independente do número de ocorrências em outros intervalos.\n",
        "\n",
        "\n",
        "  A independência entre os experimentos é uma característica importante em cálculos de probabilidade"
      ],
      "metadata": {
        "id": "9aj1bM9rySNi"
      }
    },
    {
      "cell_type": "markdown",
      "source": [
        "## 8.) Estimativa de clientes em determinada hora\n"
      ],
      "metadata": {
        "id": "LGWocD5Ezddv"
      }
    },
    {
      "cell_type": "markdown",
      "source": [
        "O número médio de clientes que entram em uma padaria por hora é igual a 20. Obtenha a probabilidade de, na próxima hora, entrarem exatamente 25 clientes."
      ],
      "metadata": {
        "id": "dCahUX7tzrQl"
      }
    },
    {
      "cell_type": "markdown",
      "source": [
        "Distribuição de Poisson\n",
        "\n",
        "A distribuição de Poisson é uma distribuição de probabilidade discreta que modela o número de eventos que ocorrem em um intervalo de tempo ou espaço fixo, com uma taxa média conhecida.\n",
        "\n",
        "Parâmetros\n",
        "\n",
        "- λ (lambda) = 20 (número médio de clientes por hora)\n",
        "- k = 25 (número de clientes que entram na próxima hora)\n",
        "\n",
        "Fórmula\n",
        "\n",
        "A probabilidade de k eventos ocorrerem em um intervalo de tempo é dada pela fórmula:\n",
        "\n",
        "P(X = k) = (e^(-λ) * (λ^k)) / k!\n",
        "\n",
        "Onde e é a base do logaritmo natural.\n",
        "\n",
        "Cálculo\n",
        "\n",
        "P(X = 25) = (e^(-20) * (20^25)) / 25!"
      ],
      "metadata": {
        "id": "rb99v8szyyQp"
      }
    },
    {
      "cell_type": "code",
      "source": [
        "from scipy.stats import poisson\n",
        "\n",
        "lambda_ = 20  # número médio de clientes por hora\n",
        "k = 25  # número de clientes\n",
        "\n",
        "probabilidade = poisson.pmf(k, lambda_)\n",
        "print(\"Probabilidade =\", probabilidade)\n"
      ],
      "metadata": {
        "colab": {
          "base_uri": "https://localhost:8080/",
          "height": 0
        },
        "id": "WqCZWWMMyz4V",
        "outputId": "45ad389d-a76b-491b-c330-413cf12eaf4f"
      },
      "execution_count": 7,
      "outputs": [
        {
          "output_type": "stream",
          "name": "stdout",
          "text": [
            "Probabilidade = 0.04458764910826764\n"
          ]
        }
      ]
    },
    {
      "cell_type": "markdown",
      "source": [
        "## 9.) Distribuição de probabilidade normal"
      ],
      "metadata": {
        "id": "sbomMoMfzxuZ"
      }
    },
    {
      "cell_type": "markdown",
      "source": [
        "Sobre a distribuição normal, avalie as afirmativas abaixo:\n",
        "\n",
        "1) A distribuição normal é definida por sua média e desvio padrão\n",
        "\n",
        "2) A distribuição normal é simétrica em torno da média\n",
        "\n",
        "3) O desvio padrão define o achatamento e largura da curva da distribuição normal\n",
        "\n",
        "Quais estão corretas?"
      ],
      "metadata": {
        "id": "OKdc0XDMz75G"
      }
    },
    {
      "cell_type": "markdown",
      "source": [
        "Todas."
      ],
      "metadata": {
        "id": "ktVs59Xz0AmC"
      }
    },
    {
      "cell_type": "markdown",
      "source": [
        "## 10.) Variável padronizada Z"
      ],
      "metadata": {
        "id": "iO_UHHPs0Hsj"
      }
    },
    {
      "cell_type": "markdown",
      "source": [
        "![image.png](data:image/png;base64,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)"
      ],
      "metadata": {
        "id": "mImF4IGO0R3D"
      }
    },
    {
      "cell_type": "markdown",
      "source": [
        "Onde μ é a média e σ é o desvio padrão da variável X.\n",
        "\n",
        "\n",
        "Esta variável Z representa o afastamento em desvios padrões de um valor da variável original em relação à média."
      ],
      "metadata": {
        "id": "8Gw82qXK0V2h"
      }
    },
    {
      "cell_type": "markdown",
      "source": [
        "## 11.) Prova de estatística"
      ],
      "metadata": {
        "id": "p5cw0K9w0a2d"
      }
    },
    {
      "cell_type": "markdown",
      "source": [
        "A aplicação de uma prova de estatística em um concurso apresentou um conjunto de notas normalmente distribuídas. Verificou-se que o conjunto de notas tinha média 70 e desvio padrão de 5 pontos.\n",
        "\n",
        "Qual a probabilidade de um aluno, selecionado ao acaso, ter nota menor que 85?"
      ],
      "metadata": {
        "id": "db21xJ210jUR"
      }
    },
    {
      "cell_type": "markdown",
      "source": [
        "Distribuição Normal\n",
        "\n",
        "A distribuição normal é uma distribuição de probabilidade contínua que é simétrica em torno da média e tem uma forma de sino.\n",
        "\n",
        "Parâmetros\n",
        "\n",
        "- μ (média) = 70\n",
        "- σ (desvio padrão) = 5\n",
        "- X (nota do aluno) = 85\n",
        "\n",
        "Cálculo\n",
        "\n",
        "Para calcular a probabilidade de um aluno ter nota menor que 85, precisamos calcular a pontuação Z:\n",
        "\n",
        "Z = (X - μ) / σ\n",
        "= (85 - 70) / 5\n",
        "= 15 / 5\n",
        "= 3\n"
      ],
      "metadata": {
        "id": "9vtLq6mm0n5t"
      }
    },
    {
      "cell_type": "code",
      "source": [
        "from scipy.stats import norm\n",
        "\n",
        "media = 70\n",
        "desvio_padrao = 5\n",
        "nota = 85\n",
        "\n",
        "z = (nota - media) / desvio_padrao\n",
        "probabilidade = norm.cdf(z)\n",
        "\n",
        "print(\"Probabilidade =\", probabilidade)"
      ],
      "metadata": {
        "colab": {
          "base_uri": "https://localhost:8080/",
          "height": 0
        },
        "id": "QljYN0Zv0tBP",
        "outputId": "69e09c47-0c64-43e1-d909-244338315b05"
      },
      "execution_count": 8,
      "outputs": [
        {
          "output_type": "stream",
          "name": "stdout",
          "text": [
            "Probabilidade = 0.9986501019683699\n"
          ]
        }
      ]
    },
    {
      "cell_type": "markdown",
      "source": [
        "Tabela Z\n",
        "\n",
        "A tabela Z é uma tabela que fornece a probabilidade cumulativa para uma distribuição normal padrão (com média 0 e desvio padrão 1) até um determinado valor Z.\n",
        "\n",
        "Valor Z Calculado\n",
        "\n",
        "No nosso caso, o valor Z calculado é:\n",
        "\n",
        "Z = (85 - 70) / 5\n",
        "= 3\n",
        "\n",
        "Tabela Z\n",
        "\n",
        "Aqui está uma tabela Z parcial:\n",
        "\n",
        "| Z | 0,00 | 0,01 | 0,02 | 0,03 | 0,04 | 0,05 | 0,06 | 0,07 | 0,08 | 0,09 |\n",
        "| --- | --- | --- | --- | --- | --- | --- | --- | --- | --- | --- |\n",
        "| 0,0 | 0,5000 | 0,5040 | 0,5080 | 0,5120 | 0,5160 | 0,5199 | 0,5239 | 0,5279 | 0,5319 | 0,5359 |\n",
        "| 0,1 | 0,5398 | 0,5438 | 0,5478 | 0,5517 | 0,5557 | 0,5596 | 0,5636 | 0,5675 | 0,5714 | 0,5753 |\n",
        "| 0,2 | 0,5793 | 0,5832 | 0,5871 | 0,5910 | 0,5948 | 0,5987 | 0,6026 | 0,6064 | 0,6103 | 0,6141 |\n",
        "| 0,3 | 0,6179 | 0,6217 | 0,6255 | 0,6293 | 0,6331 | 0,6368 | 0,6406 | 0,6443 | 0,6480 | 0,6517 |\n",
        "| ... | ... | ... | ... | ... | ... | ... | ... | ... | ... | ... |\n",
        "| 2,9 | 0,9981 | 0,9982 | 0,9983 | 0,9984 | 0,9984 | 0,9985 | 0,9985 | 0,9986 | 0,9986 | 0,9987 |\n",
        "| 3,0 | 0,9987 | 0,9987 | 0,9987 | 0,9988 | 0,9988 | 0,9989 | 0,9989 | 0,9989 | 0,9990 | 0,9990 |\n",
        "\n",
        "Probabilidade\n",
        "\n",
        "Para encontrar a probabilidade, procuramos o valor Z = 3,00 na tabela. Como o valor Z é exatamente 3,00, podemos ler a probabilidade diretamente da tabela:\n",
        "\n",
        "P(Z ≤ 3,00) = 0,9987\n",
        "\n",
        "Interpretação\n",
        "\n",
        "A probabilidade de um aluno ter nota menor que 85 é aproximadamente 0,9987, ou 99,87%. Isso significa que aproximadamente 99,87% dos alunos terão nota menor que 85."
      ],
      "metadata": {
        "id": "DJdJSLYV1ZXp"
      }
    },
    {
      "cell_type": "markdown",
      "source": [
        "## 12.) Faturamento diário"
      ],
      "metadata": {
        "id": "WEaACKZv1bW-"
      }
    },
    {
      "cell_type": "markdown",
      "source": [
        "O faturamento diário de um motorista de aplicativo segue uma distribuição aproximadamente normal, com média R$ 300,00 e desvio padrão igual a R$ 50,00. Obtenha as probabilidades de que, em um dia aleatório, o motorista ganhe:\n",
        "\n",
        "1) Entre R$ 250,00 e R$ 350,00\n",
        "\n",
        "2) Entre R$ 400,00 e R$ 500,00"
      ],
      "metadata": {
        "id": "5iZjzn2K1mRO"
      }
    },
    {
      "cell_type": "markdown",
      "source": [
        "Distribuição Normal\n",
        "\n",
        "A distribuição normal é uma distribuição de probabilidade contínua que é simétrica em torno da média e tem uma forma de sino.\n",
        "\n",
        "Parâmetros\n",
        "\n",
        "- μ (média) = R$ 300,00\n",
        "- σ (desvio padrão) = R$ 50,00\n",
        "\n",
        "Cálculo das Probabilidades\n",
        "\n",
        "1) Entre R$ 250,00 e R$ 350,00\n",
        "- Z1 = (250 - 300) / 50 = -50 / 50 = -1\n",
        "- Z2 = (350 - 300) / 50 = 50 / 50 = 1\n",
        "\n",
        "Tabela Z ou Código em Python\n",
        "\n",
        "Agora, podemos usar uma tabela Z ou o código em Python para calcular as probabilidades:\n",
        "\n",
        "\n",
        "from scipy.stats import norm\n",
        "\n",
        "media = 300\n",
        "desvio_padrao = 50\n",
        "\n",
        "z1 = (250 - media) / desvio_padrao\n",
        "z2 = (350 - media) / desvio_padrao\n",
        "\n",
        "probabilidade = norm.cdf(z2) - norm.cdf(z1)\n",
        "print(\"Probabilidade =\", probabilidade)\n",
        "\n",
        "\n",
        "A função norm.cdf(z) calcula a probabilidade cumulativa até o valor Z.\n",
        "\n",
        "Probabilidade\n",
        "\n",
        "P(-1 ≤ Z ≤ 1) = P(Z ≤ 1) - P(Z ≤ -1)\n",
        "= 0,8413 - 0,1587\n",
        "= 0,6826\n",
        "\n",
        "2) Entre R$ 400,00 e R$ 500,00\n",
        "- Z1 = (400 - 300) / 50 = 100 / 50 = 2\n",
        "- Z2 = (500 - 300) / 50 = 200 / 50 = 4\n",
        "\n",
        "Código em Python\n",
        "\n",
        "\n",
        "z1 = (400 - media) / desvio_padrao\n",
        "z2 = (500 - media) / desvio_padrao\n",
        "\n",
        "probabilidade = norm.cdf(z2) - norm.cdf(z1)\n",
        "print(\"Probabilidade =\", probabilidade)\n",
        "\n",
        "\n",
        "Probabilidade\n",
        "\n",
        "P(2 ≤ Z ≤ 4) = P(Z ≤ 4) - P(Z ≤ 2)\n",
        "= 0,99997 - 0,9772\n",
        "= 0,02277\n",
        "\n",
        "Interpretação\n",
        "\n",
        "- A probabilidade de o motorista ganhar entre R$ 250,00 e R$ 350,00 é aproximadamente 0,6826, ou 68,26%.\n",
        "- A probabilidade de o motorista ganhar entre R$ 400,00 e R$ 500,00 é aproximadamente 0,02277, ou 2,28%. Isso significa que é muito improvável que o motorista ganhe mais de R$ 400,00 em um dia."
      ],
      "metadata": {
        "id": "vFbIZbH02BXr"
      }
    },
    {
      "cell_type": "code",
      "source": [
        "from scipy.stats import norm\n",
        "\n",
        "media = 300\n",
        "desvio_padrao = 50\n",
        "Z_inferior = (250 - media) / desvio_padrao\n",
        "Z_superior = (350 - media) / desvio_padrao\n",
        "\n",
        "probabilidade = norm.cdf(Z_superior) - norm.cdf(Z_inferior)\n",
        "print(\"{0:.2%}\".format(probabilidade))\n",
        "\n",
        "from scipy.stats import norm\n",
        "\n",
        "media = 300\n",
        "desvio_padrao = 50\n",
        "Z_inferior = (400 - media) / desvio_padrao\n",
        "Z_superior = (500 - media) / desvio_padrao\n",
        "\n",
        "probabilidade = norm.cdf(Z_superior) - norm.cdf(Z_inferior)\n",
        "print(\"{0:.2%}\".format(probabilidade))"
      ],
      "metadata": {
        "colab": {
          "base_uri": "https://localhost:8080/",
          "height": 0
        },
        "id": "jzxLlP8x2TPM",
        "outputId": "48e3ad87-3a0d-459f-894a-a5f396c80493"
      },
      "execution_count": 10,
      "outputs": [
        {
          "output_type": "stream",
          "name": "stdout",
          "text": [
            "68.27%\n",
            "2.27%\n"
          ]
        }
      ]
    },
    {
      "cell_type": "markdown",
      "source": [
        "## 13.) Vida útil"
      ],
      "metadata": {
        "id": "nbJe49_O2zI5"
      }
    },
    {
      "cell_type": "markdown",
      "source": [
        "O Inmetro verificou que as lâmpadas incandescentes da fabricante XPTO apresentam uma vida útil normalmente distribuída, com média igual a 720 dias e desvio padrão igual a 30 dias. Calcule a probabilidade de uma lâmpada, escolhida ao acaso, durar:\n",
        "\n",
        "1) Entre 650 e 750 dias\n",
        "\n",
        "2) Mais que 800 dias\n",
        "\n",
        "3) Menos que 700 dias"
      ],
      "metadata": {
        "id": "OCkGI4rG23P5"
      }
    },
    {
      "cell_type": "code",
      "source": [
        "from scipy.stats import norm\n",
        "\n",
        "media = 720\n",
        "desvio_padrao = 30\n",
        "\n",
        "# Item A\n",
        "Z_inferior = (650 - media) / desvio_padrao\n",
        "Z_superior = (750 - media) / desvio_padrao\n",
        "\n",
        "probabilidade = norm.cdf(Z_superior) - norm.cdf(Z_inferior)\n",
        "print(\"{0:.2%}\".format(probabilidade))\n",
        "\n",
        "# Item B\n",
        "Z = (800 - media) / desvio_padrao\n",
        "\n",
        "probabilidade = 1 - norm.cdf(Z)\n",
        "print(\"{0:.2%}\".format(probabilidade))\n",
        "\n",
        "# Item C\n",
        "Z = (700 - media) / desvio_padrao\n",
        "\n",
        "probabilidade = norm.cdf(Z)\n",
        "print(\"{0:.2%}\".format(probabilidade))"
      ],
      "metadata": {
        "colab": {
          "base_uri": "https://localhost:8080/",
          "height": 0
        },
        "id": "E4QrStxj2_s1",
        "outputId": "096d57ff-304b-48c2-9f1a-80ceaf1e6f09"
      },
      "execution_count": 11,
      "outputs": [
        {
          "output_type": "stream",
          "name": "stdout",
          "text": [
            "83.15%\n",
            "0.38%\n",
            "25.25%\n"
          ]
        }
      ]
    },
    {
      "cell_type": "markdown",
      "source": [
        "## 14.) Obtendo probabilidades"
      ],
      "metadata": {
        "id": "jZq_4yrE3Mro"
      }
    },
    {
      "cell_type": "markdown",
      "source": [
        "Utilizando a tabela padronizada, ou o ferramental disponibilizado pelo Python, encontre a área sob a curva normal para os valores de Z abaixo:\n",
        "\n",
        "1) Z < 1,96\n",
        "\n",
        "2) Z > 2,15\n",
        "\n",
        "3) Z < -0,78\n",
        "\n",
        "4) Z > 0,59\n",
        "\n"
      ],
      "metadata": {
        "id": "_LBIduXW3T4Q"
      }
    },
    {
      "cell_type": "code",
      "source": [
        "from scipy.stats import norm\n",
        "\n",
        "# Item A\n",
        "probabilidade = norm.cdf(1.96)\n",
        "print(\"{0:0.4f}\".format(probabilidade))\n",
        "\n",
        "# Item B\n",
        "probabilidade = 1 - norm.cdf(2.15)\n",
        "# ou -> probabilidade = norm.sf(2.15)\n",
        "print(\"{0:0.4f}\".format(probabilidade))\n",
        "\n",
        "# Item C\n",
        "probabilidade = norm.cdf(-0.78)\n",
        "print(\"{0:0.4f}\".format(probabilidade))\n",
        "\n",
        "# Item D\n",
        "probabilidade = 1 - norm.cdf(0.59)\n",
        "# ou -> probabilidade = norm.sf(0.59)\n",
        "print(\"{0:0.4f}\".format(probabilidade))"
      ],
      "metadata": {
        "colab": {
          "base_uri": "https://localhost:8080/",
          "height": 0
        },
        "id": "l3MNPpeX3huA",
        "outputId": "f05176c9-a4e6-402f-dd4e-e50badccaf35"
      },
      "execution_count": 12,
      "outputs": [
        {
          "output_type": "stream",
          "name": "stdout",
          "text": [
            "0.9750\n",
            "0.0158\n",
            "0.2177\n",
            "0.2776\n"
          ]
        }
      ]
    },
    {
      "cell_type": "markdown",
      "source": [
        "## 15.) Um pouco de teoria\n",
        "\n",
        "Sobre populações, avalie as afirmativas abaixo:\n",
        "\n",
        "1) Quando os elementos de uma população puderem ser contados, porém apresentando uma quantidade muito grande, assume-se a população como infinita\n",
        "\n",
        "2) Estudos envolvendo populações infinitas devem ser realizados com a utilização de amostras\n",
        "\n",
        "3) Amostra é um subconjunto qualquer de uma população\n",
        "\n",
        "Quais estão corretas?"
      ],
      "metadata": {
        "id": "Zshf2XpP3wng"
      }
    },
    {
      "cell_type": "markdown",
      "source": [
        "Somente as afirmativas 1 e 2 estão corretas.\n",
        "\n",
        "\n",
        "Amostras são subconjuntos representativos de uma população."
      ],
      "metadata": {
        "id": "3_6ZL8bP4AbU"
      }
    },
    {
      "cell_type": "markdown",
      "source": [
        "## 16.) Selecionando uma amostra"
      ],
      "metadata": {
        "id": "EHyGLwzU4Ld7"
      }
    },
    {
      "cell_type": "markdown",
      "source": [
        "Considerando o exemplo visto em aula, marque a forma correta de obtermos uma amostra aleatória simples do nosso dataset dados.\n",
        "\n",
        "Para este problema, considere que queremos uma amostra de tamanho 1000."
      ],
      "metadata": {
        "id": "oRG8vlMj4OBD"
      }
    },
    {
      "cell_type": "markdown",
      "source": [
        "amostra = dados.sample(1000)\n",
        "\n",
        "Perfeito, na aula utilizamos o parâmetro random_state, que é a semente para o gerador de números aleatórios (utilize caso queira repetir o processo e manter a mesma amostra selecionada)"
      ],
      "metadata": {
        "id": "mzhS6Lu94Yvk"
      }
    },
    {
      "cell_type": "markdown",
      "source": [
        "Amostra Aleatória Simples\n",
        "\n",
        "Para obter uma amostra aleatória simples do dataset dados com tamanho 1000, você pode usar a função sample() do pandas:\n",
        "\n",
        "\n",
        "amostra = dados.sample(n=1000)\n",
        "\n",
        "\n",
        "Essa função seleciona aleatoriamente 1000 linhas do dataset dados e retorna uma nova DataFrame com essas linhas.\n",
        "\n",
        "Observação\n",
        "\n",
        "Certifique-se de que o tamanho da amostra (n=1000) não exceda o tamanho do dataset original. Se o dataset tiver menos de 1000 linhas, você precisará ajustar o tamanho da amostra ou usar uma abordagem diferente. Além disso, se você quiser garantir que a amostra seja reprodutível, pode usar o parâmetro random_state:\n",
        "\n",
        "\n",
        "<font color=red>amostra = dados.sample(n=1000, random_state=42)</font>"
      ],
      "metadata": {
        "id": "kHDYoidX4o24"
      }
    },
    {
      "cell_type": "markdown",
      "source": [
        "## 17. Mais um pouco de teoria"
      ],
      "metadata": {
        "id": "xJfNJaFL47Ln"
      }
    },
    {
      "cell_type": "markdown",
      "source": [
        "Avalie as alternativas abaixo e marque as corretas.\n",
        "\n",
        "\n"
      ],
      "metadata": {
        "id": "4hQNyAWc49yE"
      }
    },
    {
      "cell_type": "markdown",
      "source": [
        "  - A exigência fundamental de um processo de amostragem aleatória simples é que cada elemento da população tenha as mesmas chances de ser selecionado para fazer parte da amostra.\n",
        "\n",
        "\n",
        "Utilizando o pandas, podemos fazer a seleção de uma amostra aleatória simples com o método sample( ) do pandas DataFrame"
      ],
      "metadata": {
        "id": "eIcyBL235OZ8"
      }
    },
    {
      "cell_type": "markdown",
      "source": [
        "   - Na amostragem por conglomerados, os subgrupos separados da população não precisam ser homogêneos.\n",
        "\n",
        "\n",
        "Um exemplo bastante comum de aplicação deste tipo de técnica é na divisão da população em grupos territoriais, onde os elementos investigados terão características bastante variadas"
      ],
      "metadata": {
        "id": "LzUF5qSB5Rf5"
      }
    },
    {
      "cell_type": "markdown",
      "source": [
        "## 18.) Conceitos sobre estimação"
      ],
      "metadata": {
        "id": "NACMrbHw5WtZ"
      }
    },
    {
      "cell_type": "markdown",
      "source": [
        "Em nossa última aula, conhecemos o Teorema do Limite Central e, a partir de um exemplo, entendemos cada ponto de seu enunciado.\n",
        "\n",
        "Avalie as alternativas abaixo e marque aquela com o enunciado correto do teorema que aprendemos."
      ],
      "metadata": {
        "id": "PzxrFTfr5mqe"
      }
    },
    {
      "cell_type": "markdown",
      "source": [
        "O Teorema do Limite Central afirma que, com o aumento do tamanho da amostra, a distribuição das médias amostrais se aproxima de uma distribuição normal, com média igual à média da população, e desvio padrão igual ao desvio padrão da variável original dividido pela raiz quadrada do tamanho da amostra. Este fato é assegurado para n maior ou igual a 30.\n",
        "\n",
        "\n",
        "Exatamente como apresentado em nosso notebook de estudo. Altere os tamanhos de amostra e variáveis selecionadas para verificar a validade do teorema em outros cenários"
      ],
      "metadata": {
        "id": "Tl-_oPfi5s-n"
      }
    },
    {
      "cell_type": "markdown",
      "source": [
        "## 19. ) Sobre os níveis de confiança e significância"
      ],
      "metadata": {
        "id": "G5OXT_ep6Azh"
      }
    },
    {
      "cell_type": "markdown",
      "source": [
        "Sobre os níveis de confiança e significância, avalie as afirmativas abaixo:\n",
        "\n",
        "1) O nível de confiança (1 - α) representa a probabilidade de acerto da estimativa. De forma complementar, o nível de significância (α) expressa a probabilidade de erro da estimativa\n",
        "\n",
        "2) O nível de confiança representa o grau de confiabilidade do resultado da estimativa estar dentro de determinado intervalo\n",
        "\n",
        "3) O nível de confiança de uma estimativa pode ser obtido a partir da área sob a curva normal, como ilustrado na figura abaixo:"
      ],
      "metadata": {
        "id": "Rd4ene386Dqc"
      }
    },
    {
      "cell_type": "markdown",
      "source": [
        "![image.png](data:image/png;base64,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)"
      ],
      "metadata": {
        "id": "BsMm_A2E6Iem"
      }
    },
    {
      "cell_type": "markdown",
      "source": [
        "Somente as afirmativas 1 e 2 estão corretas.\n",
        "\n",
        "O nível de confiança de uma estimativa pode ser obtido a partir da área sob a curva normal, como ilustrado na figura acima:"
      ],
      "metadata": {
        "id": "dkhZy7QU6K08"
      }
    },
    {
      "cell_type": "markdown",
      "source": [
        "## 20). Margem de erro"
      ],
      "metadata": {
        "id": "7VsIcVFv6gbl"
      }
    },
    {
      "cell_type": "markdown",
      "source": [
        "Para estimar o valor médio gasto por cada cliente de uma grande rede de fast-food, foi selecionada uma amostra de 50 clientes.\n",
        "\n",
        "Assumindo que o valor do desvio padrão da população seja de R$ 6,00 e que esta população se distribui normalmente, obtenha a margem de erro desta estimativa para um nível de confiança de 95%.\n",
        "\n"
      ],
      "metadata": {
        "id": "uyYowG146y-C"
      }
    },
    {
      "cell_type": "markdown",
      "source": [
        "Margem de Erro\n",
        "\n",
        "A margem de erro é calculada usando a fórmula:\n",
        "\n",
        "Margem de Erro = Z * (σ / √n)\n",
        "\n",
        "Onde:\n",
        "\n",
        "- Z é o valor Z correspondente ao nível de confiança desejado\n",
        "- σ é o desvio padrão da população\n",
        "- n é o tamanho da amostra\n",
        "\n",
        "Cálculo\n",
        "\n",
        "- Nível de confiança = 95%\n",
        "- Z = 1,96 (para um nível de confiança de 95%)\n",
        "- σ = R$ 6,00\n",
        "- n = 50\n",
        "\n",
        "Margem de Erro = 1,96 * (6 / √50)\n",
        "= 1,96 * (6 / 7,071)\n",
        "= 1,96 * 0,848\n",
        "= 1,66\n",
        "\n",
        "Resposta\n",
        "\n",
        "A margem de erro é de aproximadamente R$ 1,66.\n"
      ],
      "metadata": {
        "id": "7zZjPPzh7Aam"
      }
    },
    {
      "cell_type": "code",
      "source": [
        "import math\n",
        "from scipy.stats import norm\n",
        "\n",
        "desvio_padrao = 6\n",
        "tamanho_amostra = 50\n",
        "nivel_confianca = 0.95\n",
        "\n",
        "z = norm.ppf(1 - (1 - nivel_confianca) / 2)\n",
        "margem_erro = z * (desvio_padrao / math.sqrt(tamanho_amostra))\n",
        "\n",
        "print(\"Margem de Erro =\", margem_erro)\n"
      ],
      "metadata": {
        "colab": {
          "base_uri": "https://localhost:8080/",
          "height": 0
        },
        "id": "ajyCl3wI7Dtw",
        "outputId": "1cea0652-53ef-410e-c535-c1eece5f1b7b"
      },
      "execution_count": 13,
      "outputs": [
        {
          "output_type": "stream",
          "name": "stdout",
          "text": [
            "Margem de Erro = 1.6630845892196133\n"
          ]
        }
      ]
    },
    {
      "cell_type": "markdown",
      "source": [
        "## 21.) Intervalo de confiança"
      ],
      "metadata": {
        "id": "LbOVljci7RGz"
      }
    },
    {
      "cell_type": "markdown",
      "source": [
        "Uma amostra aleatória simples de 1976 itens de uma população normalmente distribuída, com desvio padrão populacional igual a 11, resultou em uma média amostral de 28.\n",
        "\n",
        "Qual o intervalo de confiança de 90% para a média populacional?"
      ],
      "metadata": {
        "id": "yPG9e8Qa7UIX"
      }
    },
    {
      "cell_type": "code",
      "source": [
        "from scipy.stats import norm\n",
        "import numpy as np\n",
        "\n",
        "media_amostral = 28\n",
        "desvio_padrao = 11\n",
        "n = 1976\n",
        "\n",
        "norm.interval(confidence = 0.90,\n",
        "                loc = media_amostral,\n",
        "                scale = desvio_padrao / np.sqrt(n))"
      ],
      "metadata": {
        "colab": {
          "base_uri": "https://localhost:8080/",
          "height": 0
        },
        "id": "lx0c4TtF7ZE5",
        "outputId": "3187f52c-47cf-4d22-e383-a474e9395bcc"
      },
      "execution_count": 14,
      "outputs": [
        {
          "output_type": "execute_result",
          "data": {
            "text/plain": [
              "(np.float64(27.592969951356466), np.float64(28.407030048643534))"
            ]
          },
          "metadata": {},
          "execution_count": 14
        }
      ]
    },
    {
      "cell_type": "markdown",
      "source": [
        "## 22.) Obtendo o tamanho da amostra"
      ],
      "metadata": {
        "id": "mTemdO5v7m85"
      }
    },
    {
      "cell_type": "markdown",
      "source": [
        "O valor do gasto médio dos clientes de uma loja de conveniência é de R$ 45,50. Assumindo que o desvio padrão dos gastos é igual a R$ 15,00, qual deve ser o tamanho da amostra para estimarmos a média populacional com um nível de significância de 10%?\n",
        "\n",
        "Considere que o erro máximo aceitável seja de 10%."
      ],
      "metadata": {
        "id": "UOuVE8Dy7qLN"
      }
    },
    {
      "cell_type": "markdown",
      "source": [
        "Tamanho da Amostra\n",
        "\n",
        "O tamanho da amostra é calculado usando a fórmula:\n",
        "\n",
        "n = (Z^2 * σ^2) / E^2\n",
        "\n",
        "Onde:\n",
        "\n",
        "- Z é o valor Z correspondente ao nível de confiança desejado (ou nível de significância)\n",
        "- σ é o desvio padrão da população\n",
        "- E é o erro máximo aceitável\n",
        "\n",
        "Cálculo\n",
        "\n",
        "- Nível de significância = 10% => Nível de confiança = 90%\n",
        "- Z = 1,645 (para um nível de confiança de 90%)\n",
        "- σ = R$ 15,00\n",
        "- E = 10% de R$ 45,50 = 0,1 * 45,50 = R$ 4,55\n",
        "\n",
        "n = (1,6449^2 * 15^2) / (0,1 * 45,5)^2\n",
        "= (2,7055 * 225) / 20,7025\n",
        "= 608,7375 / 20,7025\n",
        "≈ 29,39\n"
      ],
      "metadata": {
        "id": "QB71CGLL74Vq"
      }
    },
    {
      "cell_type": "code",
      "source": [
        "from scipy.stats import norm\n",
        "\n",
        "media = 45.5\n",
        "sigma = 15\n",
        "significancia = 0.10\n",
        "confianca = 1 - significancia\n",
        "\n",
        "z = norm.ppf(0.5 + (confianca / 2))\n",
        "erro_percentual = 0.10\n",
        "e = media * erro_percentual\n",
        "\n",
        "n = (z * (sigma / e)) ** 2\n",
        "n.round()"
      ],
      "metadata": {
        "colab": {
          "base_uri": "https://localhost:8080/",
          "height": 0
        },
        "id": "cwTdop3677na",
        "outputId": "66ef3947-9c8b-42bd-e27e-28255879f6d1"
      },
      "execution_count": 15,
      "outputs": [
        {
          "output_type": "execute_result",
          "data": {
            "text/plain": [
              "np.float64(29.0)"
            ]
          },
          "metadata": {},
          "execution_count": 15
        }
      ]
    },
    {
      "cell_type": "markdown",
      "source": [
        "## 23.) Amostra de sacos de farinha"
      ],
      "metadata": {
        "id": "HJpAKmOQ8tsl"
      }
    },
    {
      "cell_type": "markdown",
      "source": [
        "Um fabricante de farinha verificou que, em uma amostra aleatória formada por 200 sacos de 25 kg de um lote formado por 2.000 sacos, apresentou um desvio padrão amostral do peso igual a 480 g.\n",
        "\n",
        "Considerando um erro máximo associado à média populacional igual a 0,3 kg e um nível de confiança igual a 95%, qual tamanho de amostra deveria ser selecionado para obtermos uma estimativa confiável do parâmetro populacional?"
      ],
      "metadata": {
        "id": "kPquyPqT81xW"
      }
    },
    {
      "cell_type": "code",
      "source": [
        "from scipy.stats import norm\n",
        "\n",
        "N = 2000\n",
        "z = norm.ppf(0.5 + (0.95 / 2))\n",
        "s = 480\n",
        "e = 0.3 * 1000   # Convertendo kg para g\n",
        "\n",
        "n = ((z**2) * (s**2) * (N)) / (((z**2) * (s**2)) + ((e**2) * (N - 1)))\n",
        "int(n.round())"
      ],
      "metadata": {
        "colab": {
          "base_uri": "https://localhost:8080/",
          "height": 0
        },
        "id": "nk8Uvtfh898j",
        "outputId": "17c3af3a-95e3-4caa-f2ac-f7e1a01b1e8b"
      },
      "execution_count": 16,
      "outputs": [
        {
          "output_type": "execute_result",
          "data": {
            "text/plain": [
              "10"
            ]
          },
          "metadata": {},
          "execution_count": 16
        }
      ]
    },
    {
      "cell_type": "markdown",
      "source": [
        "## 24.) Tamanho de amostra"
      ],
      "metadata": {
        "id": "0V0_H2KC9ErR"
      }
    },
    {
      "cell_type": "markdown",
      "source": [
        "Assinale a alternativa que apresenta a forma correta de obter o tamanho de uma amostra quando os dados são quantitativos, o desvio padrão populacional é conhecido e a população é infinita."
      ],
      "metadata": {
        "id": "OSmGBP769HQC"
      }
    },
    {
      "cell_type": "markdown",
      "source": [
        "![image.png](data:image/png;base64,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)"
      ],
      "metadata": {
        "id": "9M21gtw99NJh"
      }
    },
    {
      "cell_type": "markdown",
      "source": [
        "Lembrando que o desvio padrão e o erro devem estar na mesma unidade de medida"
      ],
      "metadata": {
        "id": "dCIIkdZv9Qmq"
      }
    },
    {
      "cell_type": "markdown",
      "source": [
        "## 25.) Revisando o conteúdo"
      ],
      "metadata": {
        "id": "C_8L6mZz9Tcz"
      }
    },
    {
      "cell_type": "markdown",
      "source": [
        "Avalie as afirmativas abaixo:\n",
        "\n",
        "1) Um evento binomial é caracterizado pela possibilidade de ocorrência de apenas duas categorias. Estas categorias somadas representam todo o espaço amostral, sendo também mutuamente excludentes, ou seja, a ocorrência de uma implica na não ocorrência da outra\n",
        "\n",
        "2) A distribuição Poisson é empregada para descrever o número de ocorrências em um intervalo de tempo ou espaço específico. Os eventos são caracterizados pela possibilidade de contagem dos sucessos, mas a não possibilidade de contagem dos fracassos\n",
        "\n",
        "3) A distribuição normal é uma distribuição contínua e é assimétrica em relação a sua média\n",
        "\n",
        "Quais estão corretas?"
      ],
      "metadata": {
        "id": "aGtQbNOU9asS"
      }
    },
    {
      "cell_type": "markdown",
      "source": [
        "Somente as afirmativas 1 e 2 estão corretas.\n",
        "\n",
        "\n",
        "A distribuição normal é simétrica em relação a sua média"
      ],
      "metadata": {
        "id": "xHds-obM9ek2"
      }
    },
    {
      "cell_type": "markdown",
      "source": [
        "## 26.) Revisando o conteúdo um pouco mais"
      ],
      "metadata": {
        "id": "J2ktrEjZ9jGl"
      }
    },
    {
      "cell_type": "markdown",
      "source": [
        "Avalie as afirmativas abaixo:\n",
        "\n",
        "1) Os atributos numéricos de uma população como sua média, variância e desvio padrão, são conhecidos como parâmetros. O principal foco da inferência estatística é justamente gerar estimativas e testar hipóteses sobre os parâmetros populacionais utilizando as informações de amostras\n",
        "\n",
        "2) O Teorema do Limite Central afirma que, com o aumento do tamanho da amostra, a distribuição das médias amostrais se aproxima de uma distribuição normal, com média igual à média da população, e desvio padrão igual ao desvio padrão da variável original dividido pela raiz quadrada do tamanho da amostra. Este fato é assegurado para n menor ou igual a 30\n",
        "\n",
        "3) O erro inferencial é definido pelo desvio padrão das médias amostrais e pelo nível de confiança determinado para o processo:\n",
        "\n",
        "Fórmula do erro inferencial definido como z multiplicado pelo desvio amostral (desvio padrão populacional dividido pela raiz do número de amostras da população.\n",
        "\n",
        "Quais afirmativas estão corretas?"
      ],
      "metadata": {
        "id": "MbCYe3n09ri-"
      }
    },
    {
      "cell_type": "markdown",
      "source": [
        "Somente as afirmativas 1 e 3 estão corretas.\n",
        "\n",
        "\n",
        "O erro inferencial também é conhecido como a margem de erro)"
      ],
      "metadata": {
        "id": "mA1CIrI79wYq"
      }
    }
  ],
  "metadata": {
    "colab": {
      "provenance": [],
      "include_colab_link": true
    },
    "kernelspec": {
      "display_name": "Python 3",
      "language": "python",
      "name": "python3"
    },
    "language_info": {
      "codemirror_mode": {
        "name": "ipython",
        "version": 3
      },
      "file_extension": ".py",
      "mimetype": "text/x-python",
      "name": "python",
      "nbconvert_exporter": "python",
      "pygments_lexer": "ipython3",
      "version": "3.6.5"
    }
  },
  "nbformat": 4,
  "nbformat_minor": 0
}