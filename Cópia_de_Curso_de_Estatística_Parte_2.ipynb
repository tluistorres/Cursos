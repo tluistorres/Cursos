{
  "cells": [
    {
      "cell_type": "markdown",
      "metadata": {
        "id": "view-in-github",
        "colab_type": "text"
      },
      "source": [
        "<a href=\"https://colab.research.google.com/github/tluistorres/Cursos/blob/main/C%C3%B3pia_de_Curso_de_Estat%C3%ADstica_Parte_2.ipynb\" target=\"_parent\"><img src=\"https://colab.research.google.com/assets/colab-badge.svg\" alt=\"Open In Colab\"/></a>"
      ]
    },
    {
      "cell_type": "markdown",
      "metadata": {
        "id": "WvMflodMjQKe"
      },
      "source": [
        "***\n",
        "# <font color=green size=10>CURSO DE ESTATÍSTICA - PARTE 2</font>\n",
        "***"
      ]
    },
    {
      "cell_type": "markdown",
      "source": [
        "# <font color=green size=10>Aula 01 - Introdução</font>"
      ],
      "metadata": {
        "id": "t5xhXFGRI2fG"
      }
    },
    {
      "cell_type": "markdown",
      "source": [
        "## Estatística com Python parte 2:\n",
        "\n",
        "Probabilidade e Amostragem, o qual faz parte de uma sequência lógica sobre este tema.\n",
        "\n",
        "No primeiro curso, começamos a falar de estatísticas descritivas e de coisas mais básicas, mas agora evoluiremos um pouco mais; conheceremos algumas Distribuições de Probabilidade e aprenderemos a calculá-las, como a distribuição binomial, a distribuição Poisson e a famosa distribuição normal.\n",
        "\n",
        "Também falaremos um pouco sobre o conceito de Amostragem, e calcularemos e obteremos uma amostra aleatória simples utilizando recursos do Pandas.\n",
        "\n",
        "Abordaremos técnicas de Amostragem, e depois passaremos para Estimação ainda no universo de inferência estatística, onde veremos estimações pontuais e intervalares.\n",
        "\n",
        "Aprenderemos a calcular o tamanho de amostra para obtermos amostras representativas da população que estamos estudando.\n",
        "\n",
        "Falaremos de erro inferencial, nível de confiança, nível de significância, teorema do limite central e todos esses conceitos importantes em Estatística pra termos uma bagagem sólida para avançarmos mais ainda, chegando em teste, regressão linear e etc."
      ],
      "metadata": {
        "id": "iS9wCmxHI9Ea"
      }
    },
    {
      "cell_type": "markdown",
      "metadata": {
        "id": "cVgsZ_E3jQKg"
      },
      "source": [
        "# <font color=green>1 CONHECENDO OS DADOS</font>\n",
        "***\n",
        "\n",
        "## <font color=green> 1.1 Conhecendo o ambiente e o dataset<font>"
      ]
    },
    {
      "cell_type": "markdown",
      "source": [
        "Inicialmente, apresentaremos a ferramenta Colaboratory do Google conhecida como Colab, a qual é acessível por meio deste link, sendo a mesma que utilizamos no curso anterior.\n",
        "\n",
        "Precisaremos fazer login para fazermos upload dos arquivos disponibilizados no passo anterior, do mesmo jeito que já fizemos.\n",
        "\n",
        "Feito o download dos documentos, abriremos o Colab no navegador, iremos em \"File > Upload notebook...\", e escolheremos o arquivo Versão_bibliotecas.ipynb. Abrindo-o para rodarmos a célula já pronta, verificaremos as versões das bibliotecas Pandas, Numpy, Scipy e Matplotlib que utilizaremos.\n"
      ],
      "metadata": {
        "id": "8WDxsGt5JmCL"
      }
    },
    {
      "cell_type": "code",
      "source": [
        "Versão do pandas -> 0.23.4\n",
        "Versão do numpy -> 1.16.2\n",
        "Versão do scipy -> 1.2.1\n",
        "Versão do matplotlib -> 3.0.3"
      ],
      "metadata": {
        "id": "PG82CUCrKGN5"
      },
      "execution_count": null,
      "outputs": []
    },
    {
      "cell_type": "markdown",
      "source": [
        "## Não funcionou"
      ],
      "metadata": {
        "id": "EvbQrqyOK48H"
      }
    },
    {
      "cell_type": "code",
      "source": [
        "import pandas as pd\n",
        "import numpy as np\n",
        "import scipy as sp\n",
        "import matplotlib as mpl\n",
        "\n",
        "print(\"Versão do pandas:\", pd.__version__)\n",
        "print(\"Versão do numpy:\", np.__version__)\n",
        "print(\"Versão do scipy:\", sp.__version__)\n",
        "print(\"Versão do matplotlib:\", mpl.__version__)\n"
      ],
      "metadata": {
        "colab": {
          "base_uri": "https://localhost:8080/"
        },
        "id": "gT9bNPqeKykQ",
        "outputId": "006e2a66-d78a-4181-cd85-1e26b8929efb"
      },
      "execution_count": null,
      "outputs": [
        {
          "output_type": "stream",
          "name": "stdout",
          "text": [
            "Versão do pandas: 2.2.2\n",
            "Versão do numpy: 2.0.2\n",
            "Versão do scipy: 1.15.3\n",
            "Versão do matplotlib: 3.10.0\n"
          ]
        }
      ]
    },
    {
      "cell_type": "markdown",
      "source": [
        "Provavelmente sua versão será mais recente, mas se tiver algum problema enquanto estiver executando o código, poderá voltar e fazer o downgrade no Colab conforme aprendemos na primeira aula do primeiro curso de Estatística, caso haja dúvidas.\n",
        "\n",
        "Expandiremos a aba lateral para começarmos carregando o arquivo dos dados que utilizaremos em nosso projeto; clicaremos em \"upload\" e escolheremos dados.csv, o qual é o mesmo dataset criado no curso anterior.\n",
        "\n",
        "Não o utilizaremos muito neste treinamento, mas ao final teremos um notebook para executarmos um projeto de exercício usando o que aprendemos durante as aulas.\n",
        "\n",
        "Feito o carregamento dos dados, abriremos o notebook preparado para este curso indo em \"File > Upload Notebook...\" novamente para escolhermos o arquivo Curso_de_Estatística_Parte_2.ipynb.\n",
        "\n",
        "Este possui um roteiro para executarmos nossas aulas; na primeira parte, já conhecemos o mesmo dataset do curso anterior, o qual foi extraído do site oficial do IBGE e possui os dados da Pesquisa Nacional por Amostra de Domicílios de 2015 ou PNAD.\n",
        "\n",
        "Encontraremos o link com a fonte dos dados, bem como as variáveis que vamos utilizar; renda, idade das pessoas, a altura elaborada didaticamente para estudarmos uma distribuição que se comporta de forma normal, como veremos neste treinamento. Temos também as codificações numéricas das Unidades da Federação, sexo, anos de estudo e cor ou raça.\n",
        "\n",
        "Teremos algumas observações de tratamentos realizadas no dataset único e exclusivamente para facilitar nosso aprendizado; pois eliminamos tanto os registros de renda inválidos quanto os inexistentes ou missing, e consideramos somente as pessoas de referência que foram entrevistadas e são responsáveis pelo domicílio.\n",
        "\n",
        "Os registros das observações são importantes para entendermos bem os resultados finais. Em seguida, importaremos o dados.csv que já deve estar carregado na aba lateral de \"Files\".\n",
        "\n",
        "Na primeira célula da parte \"Importando pandas e lendo o dataset do projeto\", começaremos com o import de pandas como pd, da mesma forma que já conhecemos."
      ],
      "metadata": {
        "id": "lZgTSek7LQOK"
      }
    },
    {
      "cell_type": "markdown",
      "metadata": {
        "id": "TDjqYYNojQKh"
      },
      "source": [
        "## <font color=green>1.1 Dataset do projeto</font>\n",
        "***"
      ]
    },
    {
      "cell_type": "code",
      "source": [
        "import pandas as pd"
      ],
      "metadata": {
        "id": "-p8mWwPwLkh4"
      },
      "execution_count": null,
      "outputs": []
    },
    {
      "cell_type": "markdown",
      "source": [
        "Armazenaremos os dados na variável dados, a qual será igual a pd.read_csv() recebendo o arquivo 'dados.csv' para o lermos."
      ],
      "metadata": {
        "id": "jkeDbNB9LqTJ"
      }
    },
    {
      "cell_type": "code",
      "source": [
        "dados = pd.read_csv('dados.csv')"
      ],
      "metadata": {
        "id": "KCI5j9lGLtMg"
      },
      "execution_count": null,
      "outputs": []
    },
    {
      "cell_type": "markdown",
      "source": [
        "Após rodarmos esta célula com \"Shift + Enter\", exibiremos os primeiros cinco registros com head()"
      ],
      "metadata": {
        "id": "O5UodLLdL42W"
      }
    },
    {
      "cell_type": "code",
      "source": [
        "dados.head()"
      ],
      "metadata": {
        "colab": {
          "base_uri": "https://localhost:8080/",
          "height": 206
        },
        "id": "jQRaCp91L6-H",
        "outputId": "93e23ac6-8ce5-401b-8a53-dca0c267fb28"
      },
      "execution_count": null,
      "outputs": [
        {
          "output_type": "execute_result",
          "data": {
            "text/plain": [
              "   UF  Sexo  Idade  Cor  Anos de Estudo  Renda    Altura\n",
              "0  11     0     23    8              12    800  1.603808\n",
              "1  11     1     23    2              12   1150  1.739790\n",
              "2  11     1     35    8              15    880  1.760444\n",
              "3  11     0     46    2               6   3500  1.783158\n",
              "4  11     1     47    8               9    150  1.690631"
            ],
            "text/html": [
              "\n",
              "  <div id=\"df-0f98aa71-4a07-44bd-90ae-7b525e292a46\" class=\"colab-df-container\">\n",
              "    <div>\n",
              "<style scoped>\n",
              "    .dataframe tbody tr th:only-of-type {\n",
              "        vertical-align: middle;\n",
              "    }\n",
              "\n",
              "    .dataframe tbody tr th {\n",
              "        vertical-align: top;\n",
              "    }\n",
              "\n",
              "    .dataframe thead th {\n",
              "        text-align: right;\n",
              "    }\n",
              "</style>\n",
              "<table border=\"1\" class=\"dataframe\">\n",
              "  <thead>\n",
              "    <tr style=\"text-align: right;\">\n",
              "      <th></th>\n",
              "      <th>UF</th>\n",
              "      <th>Sexo</th>\n",
              "      <th>Idade</th>\n",
              "      <th>Cor</th>\n",
              "      <th>Anos de Estudo</th>\n",
              "      <th>Renda</th>\n",
              "      <th>Altura</th>\n",
              "    </tr>\n",
              "  </thead>\n",
              "  <tbody>\n",
              "    <tr>\n",
              "      <th>0</th>\n",
              "      <td>11</td>\n",
              "      <td>0</td>\n",
              "      <td>23</td>\n",
              "      <td>8</td>\n",
              "      <td>12</td>\n",
              "      <td>800</td>\n",
              "      <td>1.603808</td>\n",
              "    </tr>\n",
              "    <tr>\n",
              "      <th>1</th>\n",
              "      <td>11</td>\n",
              "      <td>1</td>\n",
              "      <td>23</td>\n",
              "      <td>2</td>\n",
              "      <td>12</td>\n",
              "      <td>1150</td>\n",
              "      <td>1.739790</td>\n",
              "    </tr>\n",
              "    <tr>\n",
              "      <th>2</th>\n",
              "      <td>11</td>\n",
              "      <td>1</td>\n",
              "      <td>35</td>\n",
              "      <td>8</td>\n",
              "      <td>15</td>\n",
              "      <td>880</td>\n",
              "      <td>1.760444</td>\n",
              "    </tr>\n",
              "    <tr>\n",
              "      <th>3</th>\n",
              "      <td>11</td>\n",
              "      <td>0</td>\n",
              "      <td>46</td>\n",
              "      <td>2</td>\n",
              "      <td>6</td>\n",
              "      <td>3500</td>\n",
              "      <td>1.783158</td>\n",
              "    </tr>\n",
              "    <tr>\n",
              "      <th>4</th>\n",
              "      <td>11</td>\n",
              "      <td>1</td>\n",
              "      <td>47</td>\n",
              "      <td>8</td>\n",
              "      <td>9</td>\n",
              "      <td>150</td>\n",
              "      <td>1.690631</td>\n",
              "    </tr>\n",
              "  </tbody>\n",
              "</table>\n",
              "</div>\n",
              "    <div class=\"colab-df-buttons\">\n",
              "\n",
              "  <div class=\"colab-df-container\">\n",
              "    <button class=\"colab-df-convert\" onclick=\"convertToInteractive('df-0f98aa71-4a07-44bd-90ae-7b525e292a46')\"\n",
              "            title=\"Convert this dataframe to an interactive table.\"\n",
              "            style=\"display:none;\">\n",
              "\n",
              "  <svg xmlns=\"http://www.w3.org/2000/svg\" height=\"24px\" viewBox=\"0 -960 960 960\">\n",
              "    <path d=\"M120-120v-720h720v720H120Zm60-500h600v-160H180v160Zm220 220h160v-160H400v160Zm0 220h160v-160H400v160ZM180-400h160v-160H180v160Zm440 0h160v-160H620v160ZM180-180h160v-160H180v160Zm440 0h160v-160H620v160Z\"/>\n",
              "  </svg>\n",
              "    </button>\n",
              "\n",
              "  <style>\n",
              "    .colab-df-container {\n",
              "      display:flex;\n",
              "      gap: 12px;\n",
              "    }\n",
              "\n",
              "    .colab-df-convert {\n",
              "      background-color: #E8F0FE;\n",
              "      border: none;\n",
              "      border-radius: 50%;\n",
              "      cursor: pointer;\n",
              "      display: none;\n",
              "      fill: #1967D2;\n",
              "      height: 32px;\n",
              "      padding: 0 0 0 0;\n",
              "      width: 32px;\n",
              "    }\n",
              "\n",
              "    .colab-df-convert:hover {\n",
              "      background-color: #E2EBFA;\n",
              "      box-shadow: 0px 1px 2px rgba(60, 64, 67, 0.3), 0px 1px 3px 1px rgba(60, 64, 67, 0.15);\n",
              "      fill: #174EA6;\n",
              "    }\n",
              "\n",
              "    .colab-df-buttons div {\n",
              "      margin-bottom: 4px;\n",
              "    }\n",
              "\n",
              "    [theme=dark] .colab-df-convert {\n",
              "      background-color: #3B4455;\n",
              "      fill: #D2E3FC;\n",
              "    }\n",
              "\n",
              "    [theme=dark] .colab-df-convert:hover {\n",
              "      background-color: #434B5C;\n",
              "      box-shadow: 0px 1px 3px 1px rgba(0, 0, 0, 0.15);\n",
              "      filter: drop-shadow(0px 1px 2px rgba(0, 0, 0, 0.3));\n",
              "      fill: #FFFFFF;\n",
              "    }\n",
              "  </style>\n",
              "\n",
              "    <script>\n",
              "      const buttonEl =\n",
              "        document.querySelector('#df-0f98aa71-4a07-44bd-90ae-7b525e292a46 button.colab-df-convert');\n",
              "      buttonEl.style.display =\n",
              "        google.colab.kernel.accessAllowed ? 'block' : 'none';\n",
              "\n",
              "      async function convertToInteractive(key) {\n",
              "        const element = document.querySelector('#df-0f98aa71-4a07-44bd-90ae-7b525e292a46');\n",
              "        const dataTable =\n",
              "          await google.colab.kernel.invokeFunction('convertToInteractive',\n",
              "                                                    [key], {});\n",
              "        if (!dataTable) return;\n",
              "\n",
              "        const docLinkHtml = 'Like what you see? Visit the ' +\n",
              "          '<a target=\"_blank\" href=https://colab.research.google.com/notebooks/data_table.ipynb>data table notebook</a>'\n",
              "          + ' to learn more about interactive tables.';\n",
              "        element.innerHTML = '';\n",
              "        dataTable['output_type'] = 'display_data';\n",
              "        await google.colab.output.renderOutput(dataTable, element);\n",
              "        const docLink = document.createElement('div');\n",
              "        docLink.innerHTML = docLinkHtml;\n",
              "        element.appendChild(docLink);\n",
              "      }\n",
              "    </script>\n",
              "  </div>\n",
              "\n",
              "\n",
              "    <div id=\"df-37a21fce-87f5-4872-b880-473e58e22eca\">\n",
              "      <button class=\"colab-df-quickchart\" onclick=\"quickchart('df-37a21fce-87f5-4872-b880-473e58e22eca')\"\n",
              "                title=\"Suggest charts\"\n",
              "                style=\"display:none;\">\n",
              "\n",
              "<svg xmlns=\"http://www.w3.org/2000/svg\" height=\"24px\"viewBox=\"0 0 24 24\"\n",
              "     width=\"24px\">\n",
              "    <g>\n",
              "        <path d=\"M19 3H5c-1.1 0-2 .9-2 2v14c0 1.1.9 2 2 2h14c1.1 0 2-.9 2-2V5c0-1.1-.9-2-2-2zM9 17H7v-7h2v7zm4 0h-2V7h2v10zm4 0h-2v-4h2v4z\"/>\n",
              "    </g>\n",
              "</svg>\n",
              "      </button>\n",
              "\n",
              "<style>\n",
              "  .colab-df-quickchart {\n",
              "      --bg-color: #E8F0FE;\n",
              "      --fill-color: #1967D2;\n",
              "      --hover-bg-color: #E2EBFA;\n",
              "      --hover-fill-color: #174EA6;\n",
              "      --disabled-fill-color: #AAA;\n",
              "      --disabled-bg-color: #DDD;\n",
              "  }\n",
              "\n",
              "  [theme=dark] .colab-df-quickchart {\n",
              "      --bg-color: #3B4455;\n",
              "      --fill-color: #D2E3FC;\n",
              "      --hover-bg-color: #434B5C;\n",
              "      --hover-fill-color: #FFFFFF;\n",
              "      --disabled-bg-color: #3B4455;\n",
              "      --disabled-fill-color: #666;\n",
              "  }\n",
              "\n",
              "  .colab-df-quickchart {\n",
              "    background-color: var(--bg-color);\n",
              "    border: none;\n",
              "    border-radius: 50%;\n",
              "    cursor: pointer;\n",
              "    display: none;\n",
              "    fill: var(--fill-color);\n",
              "    height: 32px;\n",
              "    padding: 0;\n",
              "    width: 32px;\n",
              "  }\n",
              "\n",
              "  .colab-df-quickchart:hover {\n",
              "    background-color: var(--hover-bg-color);\n",
              "    box-shadow: 0 1px 2px rgba(60, 64, 67, 0.3), 0 1px 3px 1px rgba(60, 64, 67, 0.15);\n",
              "    fill: var(--button-hover-fill-color);\n",
              "  }\n",
              "\n",
              "  .colab-df-quickchart-complete:disabled,\n",
              "  .colab-df-quickchart-complete:disabled:hover {\n",
              "    background-color: var(--disabled-bg-color);\n",
              "    fill: var(--disabled-fill-color);\n",
              "    box-shadow: none;\n",
              "  }\n",
              "\n",
              "  .colab-df-spinner {\n",
              "    border: 2px solid var(--fill-color);\n",
              "    border-color: transparent;\n",
              "    border-bottom-color: var(--fill-color);\n",
              "    animation:\n",
              "      spin 1s steps(1) infinite;\n",
              "  }\n",
              "\n",
              "  @keyframes spin {\n",
              "    0% {\n",
              "      border-color: transparent;\n",
              "      border-bottom-color: var(--fill-color);\n",
              "      border-left-color: var(--fill-color);\n",
              "    }\n",
              "    20% {\n",
              "      border-color: transparent;\n",
              "      border-left-color: var(--fill-color);\n",
              "      border-top-color: var(--fill-color);\n",
              "    }\n",
              "    30% {\n",
              "      border-color: transparent;\n",
              "      border-left-color: var(--fill-color);\n",
              "      border-top-color: var(--fill-color);\n",
              "      border-right-color: var(--fill-color);\n",
              "    }\n",
              "    40% {\n",
              "      border-color: transparent;\n",
              "      border-right-color: var(--fill-color);\n",
              "      border-top-color: var(--fill-color);\n",
              "    }\n",
              "    60% {\n",
              "      border-color: transparent;\n",
              "      border-right-color: var(--fill-color);\n",
              "    }\n",
              "    80% {\n",
              "      border-color: transparent;\n",
              "      border-right-color: var(--fill-color);\n",
              "      border-bottom-color: var(--fill-color);\n",
              "    }\n",
              "    90% {\n",
              "      border-color: transparent;\n",
              "      border-bottom-color: var(--fill-color);\n",
              "    }\n",
              "  }\n",
              "</style>\n",
              "\n",
              "      <script>\n",
              "        async function quickchart(key) {\n",
              "          const quickchartButtonEl =\n",
              "            document.querySelector('#' + key + ' button');\n",
              "          quickchartButtonEl.disabled = true;  // To prevent multiple clicks.\n",
              "          quickchartButtonEl.classList.add('colab-df-spinner');\n",
              "          try {\n",
              "            const charts = await google.colab.kernel.invokeFunction(\n",
              "                'suggestCharts', [key], {});\n",
              "          } catch (error) {\n",
              "            console.error('Error during call to suggestCharts:', error);\n",
              "          }\n",
              "          quickchartButtonEl.classList.remove('colab-df-spinner');\n",
              "          quickchartButtonEl.classList.add('colab-df-quickchart-complete');\n",
              "        }\n",
              "        (() => {\n",
              "          let quickchartButtonEl =\n",
              "            document.querySelector('#df-37a21fce-87f5-4872-b880-473e58e22eca button');\n",
              "          quickchartButtonEl.style.display =\n",
              "            google.colab.kernel.accessAllowed ? 'block' : 'none';\n",
              "        })();\n",
              "      </script>\n",
              "    </div>\n",
              "\n",
              "    </div>\n",
              "  </div>\n"
            ],
            "application/vnd.google.colaboratory.intrinsic+json": {
              "type": "dataframe",
              "variable_name": "dados",
              "summary": "{\n  \"name\": \"dados\",\n  \"rows\": 76840,\n  \"fields\": [\n    {\n      \"column\": \"UF\",\n      \"properties\": {\n        \"dtype\": \"number\",\n        \"std\": 11,\n        \"min\": 11,\n        \"max\": 53,\n        \"num_unique_values\": 27,\n        \"samples\": [\n          22,\n          27,\n          23\n        ],\n        \"semantic_type\": \"\",\n        \"description\": \"\"\n      }\n    },\n    {\n      \"column\": \"Sexo\",\n      \"properties\": {\n        \"dtype\": \"number\",\n        \"std\": 0,\n        \"min\": 0,\n        \"max\": 1,\n        \"num_unique_values\": 2,\n        \"samples\": [\n          1,\n          0\n        ],\n        \"semantic_type\": \"\",\n        \"description\": \"\"\n      }\n    },\n    {\n      \"column\": \"Idade\",\n      \"properties\": {\n        \"dtype\": \"number\",\n        \"std\": 12,\n        \"min\": 13,\n        \"max\": 99,\n        \"num_unique_values\": 84,\n        \"samples\": [\n          88,\n          23\n        ],\n        \"semantic_type\": \"\",\n        \"description\": \"\"\n      }\n    },\n    {\n      \"column\": \"Cor\",\n      \"properties\": {\n        \"dtype\": \"number\",\n        \"std\": 2,\n        \"min\": 0,\n        \"max\": 8,\n        \"num_unique_values\": 5,\n        \"samples\": [\n          2,\n          0\n        ],\n        \"semantic_type\": \"\",\n        \"description\": \"\"\n      }\n    },\n    {\n      \"column\": \"Anos de Estudo\",\n      \"properties\": {\n        \"dtype\": \"number\",\n        \"std\": 4,\n        \"min\": 1,\n        \"max\": 17,\n        \"num_unique_values\": 17,\n        \"samples\": [\n          12,\n          15\n        ],\n        \"semantic_type\": \"\",\n        \"description\": \"\"\n      }\n    },\n    {\n      \"column\": \"Renda\",\n      \"properties\": {\n        \"dtype\": \"number\",\n        \"std\": 3323,\n        \"min\": 0,\n        \"max\": 200000,\n        \"num_unique_values\": 1606,\n        \"samples\": [\n          3279,\n          2456\n        ],\n        \"semantic_type\": \"\",\n        \"description\": \"\"\n      }\n    },\n    {\n      \"column\": \"Altura\",\n      \"properties\": {\n        \"dtype\": \"number\",\n        \"std\": 0.07971743006825309,\n        \"min\": 1.339244614,\n        \"max\": 2.028496765,\n        \"num_unique_values\": 76831,\n        \"samples\": [\n          1.616531581,\n          1.799777606\n        ],\n        \"semantic_type\": \"\",\n        \"description\": \"\"\n      }\n    }\n  ]\n}"
            }
          },
          "metadata": {},
          "execution_count": 51
        }
      ]
    },
    {
      "cell_type": "markdown",
      "source": [
        "Já conhecemos a ferramenta e o dataset que vamos utilizar um pouco nesse curso.\n",
        "\n",
        "A seguir, vamos colocar a mão na massa e falar das Distribuições Teóricas de Probabilidade."
      ],
      "metadata": {
        "id": "T-VvqcE2MEPh"
      }
    },
    {
      "cell_type": "markdown",
      "metadata": {
        "id": "iN1gIbaKjQKh"
      },
      "source": [
        "### Pesquisa Nacional por Amostra de Domicílios - 2015\n",
        "\n",
        "A **Pesquisa Nacional por Amostra de Domicílios - PNAD** investiga anualmente, de forma permanente, características gerais da população, de educação, trabalho, rendimento e habitação e outras, com periodicidade variável, de acordo com as necessidades de informação para o país, como as características sobre migração, fecundidade, nupcialidade, saúde, segurança alimentar, entre outros temas. O levantamento dessas estatísticas constitui, ao longo dos 49 anos de realização da pesquisa, um importante instrumento para formulação, validação e avaliação de políticas orientadas para o desenvolvimento socioeconômico e a melhoria das condições de vida no Brasil."
      ]
    },
    {
      "cell_type": "markdown",
      "metadata": {
        "id": "U6V7br1RjQKi"
      },
      "source": [
        "### Fonte dos Dados\n",
        "\n",
        "https://ww2.ibge.gov.br/home/estatistica/populacao/trabalhoerendimento/pnad2015/microdados.shtm"
      ]
    },
    {
      "cell_type": "markdown",
      "metadata": {
        "id": "r0Fe_qnzjQKj"
      },
      "source": [
        "### Variáveis utilizadas\n",
        "\n",
        "> ### Renda\n",
        "> ***\n",
        "\n",
        "Rendimento mensal do trabalho principal para pessoas de 10 anos ou mais de idade.\n",
        "\n",
        "> ### Idade\n",
        "> ***\n",
        "\n",
        "Idade do morador na data de referência em anos.\n",
        "\n",
        "> ### Altura (elaboração própria)\n",
        "> ***\n",
        "\n",
        "Altura do morador em metros.\n",
        "\n",
        "> ### UF\n",
        "> ***\n",
        "\n",
        "|Código|Descrição|\n",
        "|---|---|\n",
        "|11|Rondônia|\n",
        "|12|Acre|\n",
        "|13|Amazonas|\n",
        "|14|Roraima|\n",
        "|15|Pará|\n",
        "|16|Amapá|\n",
        "|17|Tocantins|\n",
        "|21|Maranhão|\n",
        "|22|Piauí|\n",
        "|23|Ceará|\n",
        "|24|Rio Grande do Norte|\n",
        "|25|Paraíba|\n",
        "|26|Pernambuco|\n",
        "|27|Alagoas|\n",
        "|28|Sergipe|\n",
        "|29|Bahia|\n",
        "|31|Minas Gerais|\n",
        "|32|Espírito Santo|\n",
        "|33|Rio de Janeiro|\n",
        "|35|São Paulo|\n",
        "|41|Paraná|\n",
        "|42|Santa Catarina|\n",
        "|43|Rio Grande do Sul|\n",
        "|50|Mato Grosso do Sul|\n",
        "|51|Mato Grosso|\n",
        "|52|Goiás|\n",
        "|53|Distrito Federal|\n",
        "\n",
        "> ### Sexo\n",
        "> ***\n",
        "\n",
        "|Código|Descrição|\n",
        "|---|---|\n",
        "|0|Masculino|\n",
        "|1|Feminino|\n",
        "\n",
        "> ### Anos de Estudo\n",
        "> ***\n",
        "\n",
        "|Código|Descrição|\n",
        "|---|---|\n",
        "|1|Sem instrução e menos de 1 ano|\n",
        "|2|1 ano|\n",
        "|3|2 anos|\n",
        "|4|3 anos|\n",
        "|5|4 anos|\n",
        "|6|5 anos|\n",
        "|7|6 anos|\n",
        "|8|7 anos|\n",
        "|9|8 anos|\n",
        "|10|9 anos|\n",
        "|11|10 anos|\n",
        "|12|11 anos|\n",
        "|13|12 anos|\n",
        "|14|13 anos|\n",
        "|15|14 anos|\n",
        "|16|15 anos ou mais|\n",
        "|17|Não determinados|\n",
        "||Não aplicável|\n",
        "\n",
        "> ### Cor\n",
        "> ***\n",
        "\n",
        "|Código|Descrição|\n",
        "|---|---|\n",
        "|0|Indígena|\n",
        "|2|Branca|\n",
        "|4|Preta|\n",
        "|6|Amarela|\n",
        "|8|Parda|\n",
        "|9|Sem declaração|"
      ]
    },
    {
      "cell_type": "markdown",
      "metadata": {
        "id": "OK1IQH5cX7Gb"
      },
      "source": [
        "#### <font color='red'>Observação</font>\n",
        "***\n",
        "> Os seguintes tratamentos foram realizados nos dados originais:\n",
        "> 1. Foram eliminados os registros onde a **Renda** era inválida (999 999 999 999);\n",
        "> 2. Foram eliminados os registros onde a **Renda** era missing;\n",
        "> 3. Foram considerados somente os registros das **Pessoas de Referência** de cada domicílio (responsável pelo domicílio)."
      ]
    },
    {
      "cell_type": "markdown",
      "metadata": {
        "id": "8Rw70V6ojQKk"
      },
      "source": [
        "### Importando pandas e lendo o dataset do projeto\n",
        "\n",
        "https://pandas.pydata.org/"
      ]
    },
    {
      "cell_type": "code",
      "execution_count": null,
      "metadata": {
        "id": "8QgOpE-wjQKl"
      },
      "outputs": [],
      "source": [
        "import pandas as pd"
      ]
    },
    {
      "cell_type": "code",
      "execution_count": null,
      "metadata": {
        "id": "ufRZ7TLwjQKo"
      },
      "outputs": [],
      "source": [
        "dados = pd.read_csv('dados.csv')"
      ]
    },
    {
      "cell_type": "code",
      "execution_count": null,
      "metadata": {
        "colab": {
          "base_uri": "https://localhost:8080/",
          "height": 206
        },
        "id": "GsC_WhLFjQKq",
        "outputId": "452ad431-b77f-4786-ba92-39dabfbd224b",
        "scrolled": true
      },
      "outputs": [
        {
          "output_type": "execute_result",
          "data": {
            "text/plain": [
              "   UF  Sexo  Idade  Cor  Anos de Estudo  Renda    Altura\n",
              "0  11     0     23    8              12    800  1.603808\n",
              "1  11     1     23    2              12   1150  1.739790\n",
              "2  11     1     35    8              15    880  1.760444\n",
              "3  11     0     46    2               6   3500  1.783158\n",
              "4  11     1     47    8               9    150  1.690631"
            ],
            "text/html": [
              "\n",
              "  <div id=\"df-096b0bec-a0e3-4f9c-8f5a-52e5451d7901\" class=\"colab-df-container\">\n",
              "    <div>\n",
              "<style scoped>\n",
              "    .dataframe tbody tr th:only-of-type {\n",
              "        vertical-align: middle;\n",
              "    }\n",
              "\n",
              "    .dataframe tbody tr th {\n",
              "        vertical-align: top;\n",
              "    }\n",
              "\n",
              "    .dataframe thead th {\n",
              "        text-align: right;\n",
              "    }\n",
              "</style>\n",
              "<table border=\"1\" class=\"dataframe\">\n",
              "  <thead>\n",
              "    <tr style=\"text-align: right;\">\n",
              "      <th></th>\n",
              "      <th>UF</th>\n",
              "      <th>Sexo</th>\n",
              "      <th>Idade</th>\n",
              "      <th>Cor</th>\n",
              "      <th>Anos de Estudo</th>\n",
              "      <th>Renda</th>\n",
              "      <th>Altura</th>\n",
              "    </tr>\n",
              "  </thead>\n",
              "  <tbody>\n",
              "    <tr>\n",
              "      <th>0</th>\n",
              "      <td>11</td>\n",
              "      <td>0</td>\n",
              "      <td>23</td>\n",
              "      <td>8</td>\n",
              "      <td>12</td>\n",
              "      <td>800</td>\n",
              "      <td>1.603808</td>\n",
              "    </tr>\n",
              "    <tr>\n",
              "      <th>1</th>\n",
              "      <td>11</td>\n",
              "      <td>1</td>\n",
              "      <td>23</td>\n",
              "      <td>2</td>\n",
              "      <td>12</td>\n",
              "      <td>1150</td>\n",
              "      <td>1.739790</td>\n",
              "    </tr>\n",
              "    <tr>\n",
              "      <th>2</th>\n",
              "      <td>11</td>\n",
              "      <td>1</td>\n",
              "      <td>35</td>\n",
              "      <td>8</td>\n",
              "      <td>15</td>\n",
              "      <td>880</td>\n",
              "      <td>1.760444</td>\n",
              "    </tr>\n",
              "    <tr>\n",
              "      <th>3</th>\n",
              "      <td>11</td>\n",
              "      <td>0</td>\n",
              "      <td>46</td>\n",
              "      <td>2</td>\n",
              "      <td>6</td>\n",
              "      <td>3500</td>\n",
              "      <td>1.783158</td>\n",
              "    </tr>\n",
              "    <tr>\n",
              "      <th>4</th>\n",
              "      <td>11</td>\n",
              "      <td>1</td>\n",
              "      <td>47</td>\n",
              "      <td>8</td>\n",
              "      <td>9</td>\n",
              "      <td>150</td>\n",
              "      <td>1.690631</td>\n",
              "    </tr>\n",
              "  </tbody>\n",
              "</table>\n",
              "</div>\n",
              "    <div class=\"colab-df-buttons\">\n",
              "\n",
              "  <div class=\"colab-df-container\">\n",
              "    <button class=\"colab-df-convert\" onclick=\"convertToInteractive('df-096b0bec-a0e3-4f9c-8f5a-52e5451d7901')\"\n",
              "            title=\"Convert this dataframe to an interactive table.\"\n",
              "            style=\"display:none;\">\n",
              "\n",
              "  <svg xmlns=\"http://www.w3.org/2000/svg\" height=\"24px\" viewBox=\"0 -960 960 960\">\n",
              "    <path d=\"M120-120v-720h720v720H120Zm60-500h600v-160H180v160Zm220 220h160v-160H400v160Zm0 220h160v-160H400v160ZM180-400h160v-160H180v160Zm440 0h160v-160H620v160ZM180-180h160v-160H180v160Zm440 0h160v-160H620v160Z\"/>\n",
              "  </svg>\n",
              "    </button>\n",
              "\n",
              "  <style>\n",
              "    .colab-df-container {\n",
              "      display:flex;\n",
              "      gap: 12px;\n",
              "    }\n",
              "\n",
              "    .colab-df-convert {\n",
              "      background-color: #E8F0FE;\n",
              "      border: none;\n",
              "      border-radius: 50%;\n",
              "      cursor: pointer;\n",
              "      display: none;\n",
              "      fill: #1967D2;\n",
              "      height: 32px;\n",
              "      padding: 0 0 0 0;\n",
              "      width: 32px;\n",
              "    }\n",
              "\n",
              "    .colab-df-convert:hover {\n",
              "      background-color: #E2EBFA;\n",
              "      box-shadow: 0px 1px 2px rgba(60, 64, 67, 0.3), 0px 1px 3px 1px rgba(60, 64, 67, 0.15);\n",
              "      fill: #174EA6;\n",
              "    }\n",
              "\n",
              "    .colab-df-buttons div {\n",
              "      margin-bottom: 4px;\n",
              "    }\n",
              "\n",
              "    [theme=dark] .colab-df-convert {\n",
              "      background-color: #3B4455;\n",
              "      fill: #D2E3FC;\n",
              "    }\n",
              "\n",
              "    [theme=dark] .colab-df-convert:hover {\n",
              "      background-color: #434B5C;\n",
              "      box-shadow: 0px 1px 3px 1px rgba(0, 0, 0, 0.15);\n",
              "      filter: drop-shadow(0px 1px 2px rgba(0, 0, 0, 0.3));\n",
              "      fill: #FFFFFF;\n",
              "    }\n",
              "  </style>\n",
              "\n",
              "    <script>\n",
              "      const buttonEl =\n",
              "        document.querySelector('#df-096b0bec-a0e3-4f9c-8f5a-52e5451d7901 button.colab-df-convert');\n",
              "      buttonEl.style.display =\n",
              "        google.colab.kernel.accessAllowed ? 'block' : 'none';\n",
              "\n",
              "      async function convertToInteractive(key) {\n",
              "        const element = document.querySelector('#df-096b0bec-a0e3-4f9c-8f5a-52e5451d7901');\n",
              "        const dataTable =\n",
              "          await google.colab.kernel.invokeFunction('convertToInteractive',\n",
              "                                                    [key], {});\n",
              "        if (!dataTable) return;\n",
              "\n",
              "        const docLinkHtml = 'Like what you see? Visit the ' +\n",
              "          '<a target=\"_blank\" href=https://colab.research.google.com/notebooks/data_table.ipynb>data table notebook</a>'\n",
              "          + ' to learn more about interactive tables.';\n",
              "        element.innerHTML = '';\n",
              "        dataTable['output_type'] = 'display_data';\n",
              "        await google.colab.output.renderOutput(dataTable, element);\n",
              "        const docLink = document.createElement('div');\n",
              "        docLink.innerHTML = docLinkHtml;\n",
              "        element.appendChild(docLink);\n",
              "      }\n",
              "    </script>\n",
              "  </div>\n",
              "\n",
              "\n",
              "    <div id=\"df-65aa2b05-6907-4d52-a7cd-c2112e2a734a\">\n",
              "      <button class=\"colab-df-quickchart\" onclick=\"quickchart('df-65aa2b05-6907-4d52-a7cd-c2112e2a734a')\"\n",
              "                title=\"Suggest charts\"\n",
              "                style=\"display:none;\">\n",
              "\n",
              "<svg xmlns=\"http://www.w3.org/2000/svg\" height=\"24px\"viewBox=\"0 0 24 24\"\n",
              "     width=\"24px\">\n",
              "    <g>\n",
              "        <path d=\"M19 3H5c-1.1 0-2 .9-2 2v14c0 1.1.9 2 2 2h14c1.1 0 2-.9 2-2V5c0-1.1-.9-2-2-2zM9 17H7v-7h2v7zm4 0h-2V7h2v10zm4 0h-2v-4h2v4z\"/>\n",
              "    </g>\n",
              "</svg>\n",
              "      </button>\n",
              "\n",
              "<style>\n",
              "  .colab-df-quickchart {\n",
              "      --bg-color: #E8F0FE;\n",
              "      --fill-color: #1967D2;\n",
              "      --hover-bg-color: #E2EBFA;\n",
              "      --hover-fill-color: #174EA6;\n",
              "      --disabled-fill-color: #AAA;\n",
              "      --disabled-bg-color: #DDD;\n",
              "  }\n",
              "\n",
              "  [theme=dark] .colab-df-quickchart {\n",
              "      --bg-color: #3B4455;\n",
              "      --fill-color: #D2E3FC;\n",
              "      --hover-bg-color: #434B5C;\n",
              "      --hover-fill-color: #FFFFFF;\n",
              "      --disabled-bg-color: #3B4455;\n",
              "      --disabled-fill-color: #666;\n",
              "  }\n",
              "\n",
              "  .colab-df-quickchart {\n",
              "    background-color: var(--bg-color);\n",
              "    border: none;\n",
              "    border-radius: 50%;\n",
              "    cursor: pointer;\n",
              "    display: none;\n",
              "    fill: var(--fill-color);\n",
              "    height: 32px;\n",
              "    padding: 0;\n",
              "    width: 32px;\n",
              "  }\n",
              "\n",
              "  .colab-df-quickchart:hover {\n",
              "    background-color: var(--hover-bg-color);\n",
              "    box-shadow: 0 1px 2px rgba(60, 64, 67, 0.3), 0 1px 3px 1px rgba(60, 64, 67, 0.15);\n",
              "    fill: var(--button-hover-fill-color);\n",
              "  }\n",
              "\n",
              "  .colab-df-quickchart-complete:disabled,\n",
              "  .colab-df-quickchart-complete:disabled:hover {\n",
              "    background-color: var(--disabled-bg-color);\n",
              "    fill: var(--disabled-fill-color);\n",
              "    box-shadow: none;\n",
              "  }\n",
              "\n",
              "  .colab-df-spinner {\n",
              "    border: 2px solid var(--fill-color);\n",
              "    border-color: transparent;\n",
              "    border-bottom-color: var(--fill-color);\n",
              "    animation:\n",
              "      spin 1s steps(1) infinite;\n",
              "  }\n",
              "\n",
              "  @keyframes spin {\n",
              "    0% {\n",
              "      border-color: transparent;\n",
              "      border-bottom-color: var(--fill-color);\n",
              "      border-left-color: var(--fill-color);\n",
              "    }\n",
              "    20% {\n",
              "      border-color: transparent;\n",
              "      border-left-color: var(--fill-color);\n",
              "      border-top-color: var(--fill-color);\n",
              "    }\n",
              "    30% {\n",
              "      border-color: transparent;\n",
              "      border-left-color: var(--fill-color);\n",
              "      border-top-color: var(--fill-color);\n",
              "      border-right-color: var(--fill-color);\n",
              "    }\n",
              "    40% {\n",
              "      border-color: transparent;\n",
              "      border-right-color: var(--fill-color);\n",
              "      border-top-color: var(--fill-color);\n",
              "    }\n",
              "    60% {\n",
              "      border-color: transparent;\n",
              "      border-right-color: var(--fill-color);\n",
              "    }\n",
              "    80% {\n",
              "      border-color: transparent;\n",
              "      border-right-color: var(--fill-color);\n",
              "      border-bottom-color: var(--fill-color);\n",
              "    }\n",
              "    90% {\n",
              "      border-color: transparent;\n",
              "      border-bottom-color: var(--fill-color);\n",
              "    }\n",
              "  }\n",
              "</style>\n",
              "\n",
              "      <script>\n",
              "        async function quickchart(key) {\n",
              "          const quickchartButtonEl =\n",
              "            document.querySelector('#' + key + ' button');\n",
              "          quickchartButtonEl.disabled = true;  // To prevent multiple clicks.\n",
              "          quickchartButtonEl.classList.add('colab-df-spinner');\n",
              "          try {\n",
              "            const charts = await google.colab.kernel.invokeFunction(\n",
              "                'suggestCharts', [key], {});\n",
              "          } catch (error) {\n",
              "            console.error('Error during call to suggestCharts:', error);\n",
              "          }\n",
              "          quickchartButtonEl.classList.remove('colab-df-spinner');\n",
              "          quickchartButtonEl.classList.add('colab-df-quickchart-complete');\n",
              "        }\n",
              "        (() => {\n",
              "          let quickchartButtonEl =\n",
              "            document.querySelector('#df-65aa2b05-6907-4d52-a7cd-c2112e2a734a button');\n",
              "          quickchartButtonEl.style.display =\n",
              "            google.colab.kernel.accessAllowed ? 'block' : 'none';\n",
              "        })();\n",
              "      </script>\n",
              "    </div>\n",
              "\n",
              "    </div>\n",
              "  </div>\n"
            ],
            "application/vnd.google.colaboratory.intrinsic+json": {
              "type": "dataframe",
              "variable_name": "dados",
              "summary": "{\n  \"name\": \"dados\",\n  \"rows\": 76840,\n  \"fields\": [\n    {\n      \"column\": \"UF\",\n      \"properties\": {\n        \"dtype\": \"number\",\n        \"std\": 11,\n        \"min\": 11,\n        \"max\": 53,\n        \"num_unique_values\": 27,\n        \"samples\": [\n          22,\n          27,\n          23\n        ],\n        \"semantic_type\": \"\",\n        \"description\": \"\"\n      }\n    },\n    {\n      \"column\": \"Sexo\",\n      \"properties\": {\n        \"dtype\": \"number\",\n        \"std\": 0,\n        \"min\": 0,\n        \"max\": 1,\n        \"num_unique_values\": 2,\n        \"samples\": [\n          1,\n          0\n        ],\n        \"semantic_type\": \"\",\n        \"description\": \"\"\n      }\n    },\n    {\n      \"column\": \"Idade\",\n      \"properties\": {\n        \"dtype\": \"number\",\n        \"std\": 12,\n        \"min\": 13,\n        \"max\": 99,\n        \"num_unique_values\": 84,\n        \"samples\": [\n          88,\n          23\n        ],\n        \"semantic_type\": \"\",\n        \"description\": \"\"\n      }\n    },\n    {\n      \"column\": \"Cor\",\n      \"properties\": {\n        \"dtype\": \"number\",\n        \"std\": 2,\n        \"min\": 0,\n        \"max\": 8,\n        \"num_unique_values\": 5,\n        \"samples\": [\n          2,\n          0\n        ],\n        \"semantic_type\": \"\",\n        \"description\": \"\"\n      }\n    },\n    {\n      \"column\": \"Anos de Estudo\",\n      \"properties\": {\n        \"dtype\": \"number\",\n        \"std\": 4,\n        \"min\": 1,\n        \"max\": 17,\n        \"num_unique_values\": 17,\n        \"samples\": [\n          12,\n          15\n        ],\n        \"semantic_type\": \"\",\n        \"description\": \"\"\n      }\n    },\n    {\n      \"column\": \"Renda\",\n      \"properties\": {\n        \"dtype\": \"number\",\n        \"std\": 3323,\n        \"min\": 0,\n        \"max\": 200000,\n        \"num_unique_values\": 1606,\n        \"samples\": [\n          3279,\n          2456\n        ],\n        \"semantic_type\": \"\",\n        \"description\": \"\"\n      }\n    },\n    {\n      \"column\": \"Altura\",\n      \"properties\": {\n        \"dtype\": \"number\",\n        \"std\": 0.07971743006825309,\n        \"min\": 1.339244614,\n        \"max\": 2.028496765,\n        \"num_unique_values\": 76831,\n        \"samples\": [\n          1.616531581,\n          1.799777606\n        ],\n        \"semantic_type\": \"\",\n        \"description\": \"\"\n      }\n    }\n  ]\n}"
            }
          },
          "metadata": {},
          "execution_count": 54
        }
      ],
      "source": [
        "dados.head()"
      ]
    },
    {
      "cell_type": "markdown",
      "source": [
        "# Distribuição binomial"
      ],
      "metadata": {
        "id": "qGPqi4p2MkZ3"
      }
    },
    {
      "cell_type": "markdown",
      "source": [
        "Iniciaremos de fato nosso curso abordando as Distribuições Teóricas de Probabilidade.\n",
        "\n",
        "Quando avaliamos a forma como a variável aleatória se distribui, conseguimos definir diferentes tipos de Distribuições de Frequência ou de Probabilidade, como vimos no curso anterior a este.\n",
        "\n",
        "Neste primeiro passo, falaremos sobre as três importantes que são muito utilizadas em estatística: Binomial, a Poisson e a famosa Normal.\n",
        "\n",
        "Começaremos lidando com alguns problemas, e depois tentaremos encaixá-los nas Distribuições para solucioná-los.\n",
        "\n",
        "Um Evento Binomial é caracterizado pela possibilidade de ocorrência de apenas duas categorias; ou é sim ou é não, verdadeiro e falso, sucesso ou fracasso e etc.\n",
        "\n",
        "A soma dessas duas categorias é o Espaço Amostral, ou seja, o total de eventos possíveis dentro de um experimento.\n",
        "\n",
        "Por exemplo, o lançamento de uma moeda pode ter a face \"cara\" ou a \"coroa\", e esse é o Espaço Amostral com duas possibilidades.\n",
        "\n",
        "Em outro exemplo de um lançamento de dado de seis faces, só poderemos ter seis resultados possíveis: 1, 2, 3, 4, 5, ou 6.\n",
        "\n",
        "Na fórmula, teremos a probabilidade de ocorrer k representada por P vezes k, o qual é um número de eventos desejados que tenham sucesso."
      ],
      "metadata": {
        "id": "uKXlchv1Mp9h"
      }
    },
    {
      "cell_type": "markdown",
      "metadata": {
        "id": "-z3bLQIUG3Hv"
      },
      "source": [
        "---\n",
        "---"
      ]
    },
    {
      "cell_type": "markdown",
      "metadata": {
        "id": "tL9xVLwTX07g"
      },
      "source": [
        "# <font color=green>2 DISTRIBUIÇÕES DE PROBABILIDADE</font>\n",
        "***"
      ]
    },
    {
      "cell_type": "markdown",
      "metadata": {
        "id": "3nlvC-5qG3Bj"
      },
      "source": [
        "## <font color=red>Problema</font>\n",
        "***"
      ]
    },
    {
      "cell_type": "markdown",
      "metadata": {
        "id": "8CclIz9oG3Bk"
      },
      "source": [
        "Em um concurso para preencher uma vaga de cientista de dados temos um total de **10 questões** de múltipla escolha com **3 alternativas possíveis** em cada questão. **Cada questão tem o mesmo valor.** Suponha que um candidato resolva se aventurar sem ter estudado absolutamente nada. Ele resolve fazer a prova de olhos vendados e chutar todas as resposta. Assumindo que a prova **vale 10 pontos e a nota de corte seja 5**, obtenha a probabilidade deste candidato **acertar 5 questões** e também a probabilidade deste candidato **passar para a próxima etapa do processo seletivo**."
      ]
    },
    {
      "cell_type": "markdown",
      "metadata": {
        "id": "KJxd2KFSYLML"
      },
      "source": [
        "## <font color=green>2.1 Distribuição Binomial</font>\n",
        "***"
      ]
    },
    {
      "cell_type": "markdown",
      "metadata": {
        "id": "mcbl3KbnG3Bq"
      },
      "source": [
        "Um evento **binomial** é caracterizado pela possibilidade de ocorrência de apenas duas categorias. Estas categorias somadas representam todo o espaço amostral, sendo também mutuamente excludentes, ou seja, a ocorrência de uma implica na não ocorrência da outra.\n",
        "\n",
        "Em análises estatísticas o uso mais comum da distribuição binomial é na solução de problemas que envolvem situações de **sucesso** e **fracasso**."
      ]
    },
    {
      "cell_type": "markdown",
      "metadata": {
        "id": "iLoYAuJ9G3Bs"
      },
      "source": [
        "# $$P(k)=\\binom{n}{k} p^k q^{n-k}$$\n",
        "\n",
        "Onde:\n",
        "\n",
        "$p$ = probabilidade de sucesso\n",
        "\n",
        "$q = (1 - p)$ = probabilidade de fracasso\n",
        "\n",
        "$n$ = número de eventos estudados\n",
        "\n",
        "$k$ = número de eventos desejados que tenham sucesso"
      ]
    },
    {
      "cell_type": "markdown",
      "metadata": {
        "id": "PxEgWbFdG3Bt"
      },
      "source": [
        "### Experimento Binomial"
      ]
    },
    {
      "cell_type": "markdown",
      "metadata": {
        "id": "eqQK3Ny-G3Bv"
      },
      "source": [
        "1. Realização de $n$ ensaios idênticos.\n",
        "\n",
        "2. Os ensaios são independentes.\n",
        "\n",
        "3. Somente dois resultados são possíveis, exemplo: Verdadeiro ou falso; Cara ou coroa; Sucesso ou fracasso.\n",
        "\n",
        "4. A probabilidade de sucesso é representada por $p$ e a de fracasso por $1-p=q$. Estas probabilidades não se modificam de ensaio para ensaio."
      ]
    },
    {
      "cell_type": "markdown",
      "source": [
        "O n sobre k entre parênteses é a combinação de n combinados de k em k, o que é um método matemático bem simples de resolver, e temos um método no Python que fará este cálculo. Mais adiante, teremos p da probabilidade de sucesso elevado a k.\n",
        "\n",
        "Por exemplo, se estivermos estudando o número de \"caras\" que ocorrem no lançamento de uma moeda, queremos saber a probabilidade de ocorrer esta face, que obviamente seria de 50% por haver somente duas situações possíveis.\n",
        "\n",
        "Já o elemento q é igual a 1 menos p representando a probabilidade de fracasso. No caso da moeda, seria a probabilidade de obter \"coroa\" de 50% também.\n",
        "\n",
        "A soma das probabilidades p mais q será igual a 1 ou 100%, e o resultado variará de 0 a 1 dependendo do caso.\n",
        "\n",
        "Por fim, n é o número de eventos estudados. Em nosso exemplo das 80 questões em uma prova cuja nota máxima é 10 e a nota de corte é 5, o candidato deverá acertar pelo menos 40 questões, ou seja, a metade que corresponde à nota de corte.\n",
        "\n",
        "Com isso, o n seria 80 e o k seria 40 para o número de eventos mínimos necessários para o candidato ter sucesso.\n",
        "\n",
        "O Experimento Binomial tem etapas que o caracterizam, e se as seguirmos, conseguiremos identificar se o problema pode ser resolvido utilizando Distribuição Binomial ou não.\n",
        "\n",
        "Primeiro, faremos a realização de n ensaios idênticos, como quando jogamos uma moeda; a chance de cair \"cara\" é de 50% e a \"coroa\" de 50% também, e isso acontecerá da mesma maneira nos demais lançamentos.\n",
        "\n",
        "Os ensaios também são independentes entre si, e temos somente dois resultados possíveis como já falamos.\n",
        "\n",
        "A probabilidade de sucesso é representado por p e a de fracasso por q igual a 1 menos p, e não se modificam de ensaio para ensaio em nosso caso, mas claro que há situações em que isso não ocorrerá.\n",
        "\n"
      ],
      "metadata": {
        "id": "b2aFYCuTN0eq"
      }
    },
    {
      "cell_type": "markdown",
      "source": [],
      "metadata": {
        "id": "mXbcvcsmOVVq"
      }
    },
    {
      "cell_type": "markdown",
      "metadata": {
        "id": "mT77udQ0G3Bx"
      },
      "source": [
        "### Média da distribuição binomial"
      ]
    },
    {
      "cell_type": "markdown",
      "metadata": {
        "id": "EGiuemgqG3By"
      },
      "source": [
        "O valor esperado ou a média da distribuição binomial é igual ao número de experimentos realizados multiplicado pela chance de ocorrência do evento.\n",
        "\n",
        "# $$\\mu = n \\times p$$"
      ]
    },
    {
      "cell_type": "markdown",
      "metadata": {
        "id": "1fDLi96OG3Bz"
      },
      "source": [
        "### Desvio padrão da distribuição binomial"
      ]
    },
    {
      "cell_type": "markdown",
      "metadata": {
        "id": "EZojizotG3B1"
      },
      "source": [
        "O desvio padrão é o produto entre o número de experimentos, a probabilidade de sucesso e a probabilidade de fracasso.\n",
        "\n",
        "# $$\\sigma = \\sqrt{n \\times p \\times q}$$"
      ]
    },
    {
      "cell_type": "markdown",
      "source": [
        "Já a média da Distribuição Binomial é representado por μ igual a n vezes p e o Desvio Padrão por σ igual a raiz quadrada de n vezes p vezes q.\n",
        "\n",
        "De volta ao notebook, teremos a parte \"Importando bibliotecas\" onde deveremos importar o comb da biblioteca sipy.special para podermos calcular a combinação de n de k a k representada por Cnk ou n sobre k entre parênteses."
      ],
      "metadata": {
        "id": "5Veee7eSOkD_"
      }
    },
    {
      "cell_type": "markdown",
      "metadata": {
        "id": "udqnjFnsG3B2"
      },
      "source": [
        "### Importando bibliotecas\n",
        "https://docs.scipy.org/doc/scipy/reference/generated/scipy.special.comb.html"
      ]
    },
    {
      "cell_type": "code",
      "execution_count": null,
      "metadata": {
        "id": "-U2sGssNG3B4"
      },
      "outputs": [],
      "source": [
        "from scipy.special import comb"
      ]
    },
    {
      "cell_type": "markdown",
      "source": [
        "Nesta parte, também encontraremos um [link com a documentação do Scipy](https://), contendo informações sobre a funcionalidade comb() que utilizaremos, a qual é justamente o método que resolverá a combinação."
      ],
      "metadata": {
        "id": "oPS5BR6kOx9s"
      }
    },
    {
      "cell_type": "markdown",
      "metadata": {
        "id": "MxxuJNSwG3B7"
      },
      "source": [
        "### Combinações\n",
        "\n",
        "Número de combinações de $n$ objetos, tomados $k$ a cada vez, é:\n",
        "\n",
        "# $$C_{k}^{n} = \\binom{n}{k} = \\frac{n!}{k!(n - k)!}$$\n",
        "\n",
        "Onde\n",
        "\n",
        "## $$n! = n\\times(n-1)\\times(n-2)\\times...\\times(2)\\times(1)$$\n",
        "## $$k! = k\\times(k-1)\\times(k-2)\\times...\\times(2)\\times(1)$$\n",
        "\n",
        "Por definição\n",
        "\n",
        "## $$0! = 1$$"
      ]
    },
    {
      "cell_type": "markdown",
      "metadata": {
        "id": "Udz87Pq3G3B8"
      },
      "source": [
        "## <font color='green'>Exemplo: Mega Sena</font>"
      ]
    },
    {
      "cell_type": "markdown",
      "source": [
        "Em um exemplo prático bem simples da loteria Mega Sena que tem 60 números, descobriremos a probabilidade de ganhar este prêmio. Já que temos um total de 1 a 60 números para escolher onde a aposta mínima é 6 números, deveremos descobrir o Espaço Amostral e as possibilidades por meio da Combinação.\n",
        "\n",
        "Temos apenas uma chance de ganhar na Mega Sena, e precisamos calcular \"1\" dividido pelo Espaço Amostral, o qual é justamente a combinação de 60 números de 6 em 6.\n",
        "\n",
        "Usando o Python, aplicaremos a operação na parte \"Exemplo: Mega Sena\" de nosso notebook. Na primeira célula, criaremos a variável combinacoes sendo igual a comb() recebendo os valores 60 e 6. Para recebermos os resultados, chamaremos apenas combinacoes em seguida."
      ],
      "metadata": {
        "id": "rhv7BydcQCwB"
      }
    },
    {
      "cell_type": "markdown",
      "metadata": {
        "id": "h1Mo9AxyG3B8"
      },
      "source": [
        "Em um volante de loteria da Mega Sena temos um total de **60 números** para escolher onde a aposta mínima é de **seis números**. Você que é curiosa(o) resolve calcular a probabilidade de se acertar na Mega Sena com apenas **um jogo**. Para isso precisamos saber quantas **combinações de seis números podem ser formadas com os 60 números disponíveis**.\n",
        "\n",
        "### $$C_{6}^{60} = \\binom{60}{6} = \\frac{60!}{6!(60 - 6)!}$$"
      ]
    },
    {
      "cell_type": "code",
      "execution_count": null,
      "metadata": {
        "colab": {
          "base_uri": "https://localhost:8080/"
        },
        "id": "c2t7yHl7G3B9",
        "outputId": "c1816cbe-9cdb-4e3e-d9cc-67f6ae7aa370"
      },
      "outputs": [
        {
          "output_type": "execute_result",
          "data": {
            "text/plain": [
              "np.float64(50063860.0)"
            ]
          },
          "metadata": {},
          "execution_count": 17
        }
      ],
      "source": [
        "combinacoes = comb(60, 6)\n",
        "combinacoes"
      ]
    },
    {
      "cell_type": "code",
      "execution_count": null,
      "metadata": {
        "colab": {
          "base_uri": "https://localhost:8080/"
        },
        "id": "LpioeTSXG3CB",
        "outputId": "f3f98824-fa17-4e33-c6ca-1abb81c8a5e2"
      },
      "outputs": [
        {
          "output_type": "execute_result",
          "data": {
            "text/plain": [
              "np.float64(1.997448858318156e-08)"
            ]
          },
          "metadata": {},
          "execution_count": 18
        }
      ],
      "source": [
        "probabilidade = 1 / combinacoes\n",
        "probabilidade"
      ]
    },
    {
      "cell_type": "code",
      "source": [
        "probabilidade = 1 / combinacoes\n",
        "print('%0.15f' % probabilidade)"
      ],
      "metadata": {
        "colab": {
          "base_uri": "https://localhost:8080/"
        },
        "id": "KCyivRasQuuB",
        "outputId": "0438dd8c-7216-4eca-8d23-60f4f59a618a"
      },
      "execution_count": null,
      "outputs": [
        {
          "output_type": "stream",
          "name": "stdout",
          "text": [
            "0.000000019974489\n"
          ]
        }
      ]
    },
    {
      "cell_type": "markdown",
      "source": [
        "Portanto, a chance de ganharmos na Mega Sena é bem pequena, cerca de 0,0000000199%. Aplicando à fórmula, teremos a combinação de 60 de seis em seis números, sendo igual a 60 fatorial OU 60! dividido por 6 fatorial que é multiplicado pela subtração fatorial de 60 menos 6.\n",
        "\n",
        "A seguir, pegaremos o problema que começamos e o resolveremos utilizando a distribuição binomial."
      ],
      "metadata": {
        "id": "acIC_swmQpvc"
      }
    },
    {
      "cell_type": "markdown",
      "metadata": {
        "id": "t1rA1yJpG3CF"
      },
      "source": [
        "## <font color='green'>Exemplo: Concurso para cientista de dados</font>"
      ]
    },
    {
      "cell_type": "markdown",
      "metadata": {
        "id": "K0DPDD37G3CG"
      },
      "source": [
        "Em um concurso para preencher uma vaga de cientista de dados temos um total de **10 questões** de múltipla escolha com **3 alternativas possíveis** em cada questão. **Cada questão tem o mesmo valor.** Suponha que um candidato resolva se aventurar sem ter estudado absolutamente nada. Ele resolve fazer a prova de olhos vendados e chutar todas as resposta. Assumindo que a prova **vale 10 pontos e a nota de corte seja 5**, obtenha a probabilidade deste candidato **acertar 5 questões** e também a probabilidade deste candidato **passar para a próxima etapa do processo seletivo**."
      ]
    },
    {
      "cell_type": "markdown",
      "source": [
        "No passo anterior, recebemos um problema sobre um processo seletivo para uma vaga de trabalho para Cientista de Dados. Neste passo, tentaremos algumas alternativas para resolvê-lo usando a Distribuição Binomial.\n",
        "\n",
        "Na prova deste concurso, temos um total de 10 questões de múltipla escolha com 3 alternativas cada. Cada questão tem o mesmo valor, e suporemos que um candidato fez o teste chutando todas as perguntas de forma aleatória, pois não estudou absolutamente nada.\n",
        "\n",
        "Assumindo que a prova vale 10 pontos e 5 seja a nota de corte, ou seja, uma nota maior a 5 significará aprovação e menor que 5 reprovação, tentaremos descobrir qual a probabilidade do candidato acertar 5 pontos, e de acertar mais que isso e passar para a próxima etapa do processo seletivo, o que são perguntas diferentes.\n",
        "\n",
        "Começaremos pelo primeiro desafio, e a primeira coisa é tentar identificar se este experimento de fato se adequa a uma Distribuição Binomial.\n",
        "\n",
        "Temos 10 questões de múltipla escolha com 3 alternativas cada, ou seja, são ensaios idênticos. Então conseguimos identificar n como 10 e também podemos dizer que são independentes entre si, pois a opção escolhida aleatoriamente em cada questão não influencia em nada na outra.\n",
        "\n",
        "Em seguida, teremos que descobrir se somente dois resultados são possíveis em cada ensaio; dentre as três alternativas de cada questão, somente uma é correta, e o candidato pode acertar a questão ou não. Ou seja, cada ensaio tem somente as duas possibilidades de acerto ou de erro, o que é justamente o que precisamos saber.\n",
        "\n",
        "Portanto, estamos realmente diante de um Experimento Binomial, e só falta definirmos as probabilidades de sucesso e de fracasso, bem como verificar se estas se repetem em cada experimento.\n",
        "\n",
        "Para calcularmos a probabilidade de acerto representada por p, começaremos criando uma variável a numero_de_alternativas_por_questao sendo igual a 3 na parte \"Qual a probabilidade de sucesso (p)?\" de nosso notebook.\n",
        "\n",
        "Na linha seguinte, p será igual a 1 dividido pela última variável. Em seguida, chamaremos apenas p para vermos o resultado."
      ],
      "metadata": {
        "id": "Qg4ev19KREo9"
      }
    },
    {
      "cell_type": "markdown",
      "metadata": {
        "id": "sf-NMPfxG3CH"
      },
      "source": [
        "### Qual o número de ensaios ($n$)?"
      ]
    },
    {
      "cell_type": "code",
      "execution_count": null,
      "metadata": {
        "colab": {
          "base_uri": "https://localhost:8080/"
        },
        "id": "WmnjMTnYG3CH",
        "outputId": "55392e31-d6b2-433c-acea-3d660c350840"
      },
      "outputs": [
        {
          "output_type": "execute_result",
          "data": {
            "text/plain": [
              "10"
            ]
          },
          "metadata": {},
          "execution_count": 20
        }
      ],
      "source": [
        "n = 10\n",
        "n"
      ]
    },
    {
      "cell_type": "markdown",
      "metadata": {
        "id": "1USf9Ro8G3CK"
      },
      "source": [
        "### Os ensaios são independentes?"
      ]
    },
    {
      "cell_type": "markdown",
      "metadata": {
        "id": "82xf2XIkG3CM"
      },
      "source": [
        "Sim. A opção escolhida em uma questão não influencia em nada a opção escolhida em outra questão."
      ]
    },
    {
      "cell_type": "markdown",
      "metadata": {
        "id": "7jN0H5e7G3CN"
      },
      "source": [
        "### Somente dois resultados são possíveis em cada ensaio?"
      ]
    },
    {
      "cell_type": "markdown",
      "metadata": {
        "id": "gGxcY7K8G3CO"
      },
      "source": [
        "Sim. O candidato tem duas possibilidades, ACERTA ou ERRAR uma questão."
      ]
    },
    {
      "cell_type": "markdown",
      "metadata": {
        "id": "MZw2LDQjG3CR"
      },
      "source": [
        "### Qual a probabilidade de sucesso ($p$)?"
      ]
    },
    {
      "cell_type": "markdown",
      "source": [
        "Para calcularmos a probabilidade de acerto representada por p, começaremos criando uma variável a numero_de_alternativas_por_questao sendo igual a 3 na parte \"Qual a probabilidade de sucesso (p)?\" de nosso notebook.\n",
        "\n",
        "Na linha seguinte, p será igual a 1 dividido pela última variável. Em seguida, chamaremos apenas p para vermos o resultado."
      ],
      "metadata": {
        "id": "Jm2jb412R1K0"
      }
    },
    {
      "cell_type": "code",
      "execution_count": null,
      "metadata": {
        "colab": {
          "base_uri": "https://localhost:8080/"
        },
        "id": "AazGDtt0G3CS",
        "outputId": "c5f3a0b3-c9d9-4534-d029-9310127d88fe"
      },
      "outputs": [
        {
          "output_type": "execute_result",
          "data": {
            "text/plain": [
              "0.3333333333333333"
            ]
          },
          "metadata": {},
          "execution_count": 29
        }
      ],
      "source": [
        "numero_de_alternativas_por_questao = 3\n",
        "p = 1 / numero_de_alternativas_por_questao\n",
        "p"
      ]
    },
    {
      "cell_type": "markdown",
      "source": [
        "Com a execução, conseguiremos definir que p é aproximadamente 0,333.\n",
        "\n",
        "Na célula seguinte, a probabilidade de fracasso representada por q será igual a 1 menos p, como já vimos anteriormente."
      ],
      "metadata": {
        "id": "3qxLz2tdSCOw"
      }
    },
    {
      "cell_type": "markdown",
      "metadata": {
        "id": "KPCw41OlG3CX"
      },
      "source": [
        "### Qual a probabilidade de fracasso ($q$)?"
      ]
    },
    {
      "cell_type": "code",
      "execution_count": null,
      "metadata": {
        "colab": {
          "base_uri": "https://localhost:8080/"
        },
        "id": "FRhmjCnpG3CZ",
        "outputId": "1eba587d-773f-482d-e931-56c25dd05f97"
      },
      "outputs": [
        {
          "output_type": "execute_result",
          "data": {
            "text/plain": [
              "0.6666666666666667"
            ]
          },
          "metadata": {},
          "execution_count": 30
        }
      ],
      "source": [
        "q = 1 - p\n",
        "q"
      ]
    },
    {
      "cell_type": "markdown",
      "source": [
        "Feito isso, receberemos o resultado aproximado de 0,6666.\n",
        "\n",
        "Essas duas probabilidade não vão se alterar, pois logicamente não há diferenças entre as questões com 3 alternativas cada, então estamos diante de um experimento em que conseguimos resolver utilizando a Distribuição Binomial.\n",
        "\n",
        "O único ponto que falta da nossa formula é achar o número de eventos desejados que tenham sucesso.\n",
        "\n",
        "Para descobrirmos isso em nosso problema, deveremos pensar um pouco mais porque não está explícito; temos 10 experimentos de mesmo valor em uma prova que vale 10 pontos, e se o candidato acertar metade da prova, terá sucesso e caso contrário obterá reprovação.\n",
        "\n",
        "Logo, queremos saber a chance desta pessoa acertar os 5 pontos da nota de corte escolhendo as alternativas aleatoriamente.\n",
        "\n",
        "Os eventos em que desejamos obter sucesso serão representados pela variável k na célula da parte seguinte do notebook, a qual será igual a 5 relativa à nota de corte. Com isso, já teremos todos os elementos da fórmula.\n",
        "\n",
        "Veremos como solucionar manualmente aplicando a fórmula de Probabilidade por meio da variável probabilidade.\n",
        "\n",
        "Esta será igual a comb() recebendo n e k entre parênteses como primeiro item da fórmula.\n",
        "\n",
        "Isso será multiplicado por p elevado a k, operação esta representada por dois asteriscos seguidos ** também entre parênteses para separarmos as partes da fórmula.\n",
        "\n",
        "Em seguida, teremos q elevado a n menos k. Por fim, imprimiremos a probabilidade em porcentagem com oito casas decimais."
      ],
      "metadata": {
        "id": "yIGDYJC3SNHH"
      }
    },
    {
      "cell_type": "markdown",
      "metadata": {
        "id": "W2htpmzaG3Ce"
      },
      "source": [
        "### Qual o total de eventos que se deseja obter sucesso ($k$)?"
      ]
    },
    {
      "cell_type": "code",
      "execution_count": null,
      "metadata": {
        "colab": {
          "base_uri": "https://localhost:8080/"
        },
        "id": "MmHpiIIuG3Cj",
        "outputId": "9dcebd72-cb58-411b-dd2d-c140e25f1967"
      },
      "outputs": [
        {
          "output_type": "execute_result",
          "data": {
            "text/plain": [
              "5"
            ]
          },
          "metadata": {},
          "execution_count": 31
        }
      ],
      "source": [
        "k = 5\n",
        "k"
      ]
    },
    {
      "cell_type": "markdown",
      "metadata": {
        "id": "r8TZ6DSuG3Cm"
      },
      "source": [
        "### Solução 1"
      ]
    },
    {
      "cell_type": "code",
      "execution_count": null,
      "metadata": {
        "colab": {
          "base_uri": "https://localhost:8080/"
        },
        "id": "tZBbMIzKG3Cn",
        "outputId": "cc71bd2c-02a5-4a66-d8ed-bf0acd918dc9"
      },
      "outputs": [
        {
          "output_type": "stream",
          "name": "stdout",
          "text": [
            "0.13656455\n"
          ]
        }
      ],
      "source": [
        "probabilidade = (comb(n, k)) * (p ** k) * (q ** (n - k))\n",
        "print('%0.8f' % probabilidade)"
      ]
    },
    {
      "cell_type": "markdown",
      "source": [
        "Como retorno, receberemos o resultado 0.13656455 de probabilidade do candidato acertar os cinco pontos da prova.\n",
        "\n",
        "Veremos a segunda maneira de realizarmos o mesmo cálculo de forma mais simples utilizando Python. O primeiro passo é importar binom da biblioteca scipy.stats.\n",
        "\n",
        "Também encontraremos o link para acessar sua documentação e tirarmos qualquer dúvida.\n"
      ],
      "metadata": {
        "id": "7Yd1T9uJTXk8"
      }
    },
    {
      "cell_type": "markdown",
      "metadata": {
        "id": "rDwUvW5UG3Cq"
      },
      "source": [
        "### Importando bibliotecas\n",
        "https://docs.scipy.org/doc/scipy/reference/generated/scipy.stats.binom.html"
      ]
    },
    {
      "cell_type": "code",
      "execution_count": null,
      "metadata": {
        "id": "rhlsI3iLG3Cr"
      },
      "outputs": [],
      "source": [
        "from scipy.stats import binom"
      ]
    },
    {
      "cell_type": "markdown",
      "source": [
        "Na parte \"Solução 2\" de nosso notebook, digitaremos a variável probabilidade sendo igual a binom com o método .pmf() relativo à probability mais function recebendo os parâmetros k, n, p da fórmula.\n",
        "\n",
        "Em seguida, formataremos o resultado da mesma maneira que fizemos anteriormente."
      ],
      "metadata": {
        "id": "8nxFJQSLTnb5"
      }
    },
    {
      "cell_type": "markdown",
      "metadata": {
        "id": "hvj2sYaSG3Ct"
      },
      "source": [
        "### Solução 2"
      ]
    },
    {
      "cell_type": "code",
      "execution_count": null,
      "metadata": {
        "colab": {
          "base_uri": "https://localhost:8080/"
        },
        "id": "OjS1xsz5G3Cu",
        "outputId": "09edcb51-2e2b-4b29-c500-097c5e177e6b"
      },
      "outputs": [
        {
          "output_type": "stream",
          "name": "stdout",
          "text": [
            "0.13656455\n"
          ]
        }
      ],
      "source": [
        "probabilidade = binom.pmf(k, n, p)\n",
        "print('%0.8f' % probabilidade)"
      ]
    },
    {
      "cell_type": "markdown",
      "source": [
        "Com isso, receberemos o mesmo resultado obtido da maneira manual.\n",
        "\n",
        "Portanto, precisamos ter o k, o n e o p no método para calcular tudo isso.\n",
        "\n",
        "Além da probabilidade do candidato tirar a nota mínima para passar no processo seletivo, deveremos também obter as probabilidades do candidato passar tirando notas maiores do que 5, como as notas 6, 7, 8, 9 ou até mesmo 10.\n",
        "\n",
        "Na parte \"Obter a probabilidade do candidato passar\" de nosso notebook, digitaremos na primeira célula binom.pmf() recebendo 5, n e p, depois somaremos com o mesmo método com k sendo 6, depois 7 e assim por diante até 10.\n"
      ],
      "metadata": {
        "id": "5i2VkPkoT2er"
      }
    },
    {
      "cell_type": "markdown",
      "metadata": {
        "id": "cR3Tm8UBIpxb"
      },
      "source": [
        "### Obter a probabilidade do candidato passar"
      ]
    },
    {
      "cell_type": "markdown",
      "metadata": {
        "id": "P9kHzZLAIpxb"
      },
      "source": [
        "### $$P(acertar \\geq 5) = P(5) + P(6) + P(7) + P(8) + P(9) + P10)$$"
      ]
    },
    {
      "cell_type": "code",
      "execution_count": null,
      "metadata": {
        "colab": {
          "base_uri": "https://localhost:8080/"
        },
        "id": "f7XjTOVUIpxb",
        "outputId": "15634371-3cd7-4b02-88ce-d9dca63f4814"
      },
      "outputs": [
        {
          "output_type": "execute_result",
          "data": {
            "text/plain": [
              "np.float64(0.21312808006909476)"
            ]
          },
          "metadata": {},
          "execution_count": 35
        }
      ],
      "source": [
        "binom.pmf(5, n, p) + binom.pmf(6, n, p) + binom.pmf(7, n, p) + binom.pmf(8, n, p) + binom.pmf(9, n, p) + binom.pmf(10, n, p)"
      ]
    },
    {
      "cell_type": "markdown",
      "source": [
        "Como retorno, receberemos o valor de aproximadamente 0.21 relativa à probabilidade do candidato passar na prova.\n",
        "\n",
        "Porém, esta não é a maneira mais interessante de fazer o cálculo; na célula seguinte, usaremos os mesmos argumentos, mas ao invés de passarmos k, poderemos passar uma lista com todos os itens que queremos, ou seja, [5, 6, 7, 8, 9, 10].\n",
        "\n",
        "Ao final, o método fará o cálculo para cada uma das notas. Aplicando o método .sum() ao final do código, faremos a somatória e rodaremos a célula."
      ],
      "metadata": {
        "id": "EMT3y_85Un5p"
      }
    },
    {
      "cell_type": "code",
      "execution_count": null,
      "metadata": {
        "colab": {
          "base_uri": "https://localhost:8080/"
        },
        "id": "TsMpYUiAIpxc",
        "outputId": "68f2dca3-ab6e-45cf-c23c-84654f6b309c"
      },
      "outputs": [
        {
          "output_type": "execute_result",
          "data": {
            "text/plain": [
              "np.float64(0.21312808006909476)"
            ]
          },
          "metadata": {},
          "execution_count": 36
        }
      ],
      "source": [
        "binom.pmf([5, 6, 7, 8, 9, 10], n, p).sum()"
      ]
    },
    {
      "cell_type": "markdown",
      "source": [
        "O resultado será o mesmo do anterior, mas o código está bem mais simples.\n",
        "\n",
        "Dentro de binom, temos as funções .cdf() e .sf(). A primeira é cumulativa, e receberá os parâmetros 4, n, p."
      ],
      "metadata": {
        "id": "QSIBLXYgUs3O"
      }
    },
    {
      "cell_type": "code",
      "execution_count": null,
      "metadata": {
        "colab": {
          "base_uri": "https://localhost:8080/"
        },
        "id": "yemK8w4VIpxc",
        "outputId": "18ccd6a1-5d58-4b4f-a88c-8766a9f8b850"
      },
      "outputs": [
        {
          "output_type": "execute_result",
          "data": {
            "text/plain": [
              "np.float64(0.21312808006909523)"
            ]
          },
          "metadata": {},
          "execution_count": 37
        }
      ],
      "source": [
        "1 - binom.cdf(4, n, p)"
      ]
    },
    {
      "cell_type": "markdown",
      "source": [
        "Este método está calculando e somando as probabilidades do candidato obter 1, 2, 3 e 4 pontos.\n",
        "\n",
        "Porém, queremos justamente o contrário dos pontos para que possa ter sucesso. Logo, os subtrairemos de 1 para obtermos o mesmo resultado de aproximado de 0.21."
      ],
      "metadata": {
        "id": "RTshT7jfUw9E"
      }
    },
    {
      "cell_type": "markdown",
      "source": [
        "Já na célula seguinte, o método .sf() faz exatamente isso recebendo os mesmos parâmetros, sem a subtração."
      ],
      "metadata": {
        "id": "c-cU_UdlU2xX"
      }
    },
    {
      "cell_type": "code",
      "execution_count": null,
      "metadata": {
        "colab": {
          "base_uri": "https://localhost:8080/"
        },
        "id": "7sDrJLF2Ipxd",
        "outputId": "17e39341-4eac-4dfd-a902-7843d12713d3"
      },
      "outputs": [
        {
          "output_type": "execute_result",
          "data": {
            "text/plain": [
              "np.float64(0.21312808006909525)"
            ]
          },
          "metadata": {},
          "execution_count": 38
        }
      ],
      "source": [
        "binom.sf(4, n, p)"
      ]
    },
    {
      "cell_type": "markdown",
      "source": [
        "Esses cálculos responderiam à pergunta de qual seria a probabilidade do candidato conseguir pelo menos a nota de corte 5.\n",
        "\n",
        "A seguir, falaremos sobre a média da Distribuição Binomial na parte \"Exemplo: Gincana\" do notebook."
      ],
      "metadata": {
        "id": "gCEcrAvhU98M"
      }
    },
    {
      "cell_type": "markdown",
      "metadata": {
        "id": "7hAZ4XkMG3Cx"
      },
      "source": [
        "## <font color='green'>Exemplo: Gincana</font>"
      ]
    },
    {
      "cell_type": "markdown",
      "metadata": {
        "id": "l42alRhOG3Cy"
      },
      "source": [
        "Uma cidade do interior realiza todos os anos uma gincana para arrecadar fundos para o hospital da cidade. Na última gincana se sabe que a **proporção de participantes do sexo feminino foi de 60%**. **O total de equipes, com 12 integrantes, inscritas na gincana deste ano é de 30**. Com as informações acima responda: Quantas equipes deverão ser formadas por **8 mulheres**?"
      ]
    },
    {
      "cell_type": "markdown",
      "metadata": {
        "id": "dqBGf6d7G3C0"
      },
      "source": [
        "### Solução"
      ]
    },
    {
      "cell_type": "code",
      "execution_count": null,
      "metadata": {
        "colab": {
          "base_uri": "https://localhost:8080/",
          "height": 34
        },
        "id": "Xw9b6ch3G3C1",
        "outputId": "b4bb8b11-5113-4cc9-bac1-59e9acaf67e6"
      },
      "outputs": [
        {
          "data": {
            "text/plain": [
              "0.6"
            ]
          },
          "execution_count": 18,
          "metadata": {},
          "output_type": "execute_result"
        }
      ],
      "source": [
        "p = 0.6\n",
        "p"
      ]
    },
    {
      "cell_type": "code",
      "execution_count": null,
      "metadata": {
        "colab": {
          "base_uri": "https://localhost:8080/",
          "height": 34
        },
        "id": "R3-RaxP5G3C3",
        "outputId": "180b09ba-666e-47c9-b476-224c71fdd5c0"
      },
      "outputs": [
        {
          "data": {
            "text/plain": [
              "12"
            ]
          },
          "execution_count": 19,
          "metadata": {},
          "output_type": "execute_result"
        }
      ],
      "source": [
        "n = 12\n",
        "n"
      ]
    },
    {
      "cell_type": "code",
      "execution_count": null,
      "metadata": {
        "colab": {
          "base_uri": "https://localhost:8080/",
          "height": 34
        },
        "id": "otBHHyD0G3C6",
        "outputId": "c3bdd1ab-763a-43db-ec2e-fb890aa78e3f"
      },
      "outputs": [
        {
          "data": {
            "text/plain": [
              "8"
            ]
          },
          "execution_count": 20,
          "metadata": {},
          "output_type": "execute_result"
        }
      ],
      "source": [
        "k = 8\n",
        "k"
      ]
    },
    {
      "cell_type": "code",
      "execution_count": null,
      "metadata": {
        "colab": {
          "base_uri": "https://localhost:8080/",
          "height": 34
        },
        "id": "ZAoBvbQqG3C9",
        "outputId": "62d68ce0-f87f-4879-cc48-4358a7f23a68"
      },
      "outputs": [
        {
          "name": "stdout",
          "output_type": "stream",
          "text": [
            "0.21284094\n"
          ]
        }
      ],
      "source": [
        "probabilidade = binom.pmf(k, n, p)\n",
        "print('%0.8f' % probabilidade)"
      ]
    },
    {
      "cell_type": "code",
      "execution_count": null,
      "metadata": {
        "colab": {
          "base_uri": "https://localhost:8080/",
          "height": 34
        },
        "id": "Tg53uGL4G3DA",
        "outputId": "cf68634d-68fd-41c5-a9a1-98c5ead8b548"
      },
      "outputs": [
        {
          "data": {
            "text/plain": [
              "6.385228185599988"
            ]
          },
          "execution_count": 22,
          "metadata": {},
          "output_type": "execute_result"
        }
      ],
      "source": [
        "equipes = 30 * probabilidade\n",
        "equipes"
      ]
    },
    {
      "cell_type": "markdown",
      "source": [
        "## Aplicação da média"
      ],
      "metadata": {
        "id": "nCMn2ht2Vezd"
      }
    },
    {
      "cell_type": "markdown",
      "source": [
        "Neste passo, usaremos o conceito de média da Distribuição Binomial em um novo problema como exercício.\n",
        "\n",
        "Temos uma cidade do interior que realiza todos os anos uma gincana para arrecadar fundos para o hospital da cidade. Na última, a proporção de participantes do sexo feminino foi de 60% e o total foi de 30 equipes com 12 integrantes cada uma.\n",
        "\n",
        "Com as informações acima, deveremos responder quantas equipes são formadas por 8 mulheres.\n",
        "\n",
        "Então teremos que dividir esse experimento em duas partes; primeiro, descobriremos qual a probabilidade de uma equipe ser formada por 8 mulheres e 4 homens, e então calcularemos quantas das 30 equipes são formadas por 8 mulheres em média.\n",
        "\n",
        "Nesta situação, o Experimento Binomial está na seleção de pessoas para compor a equipe, que podem ser homens ou mulheres.\n",
        "\n",
        "Com uma proporção de 60% de participantes femininas e 40% masculinos por consequência, a chance de selecionarmos aleatoriamente alguma mulher é um pouco maior do que um homem, e teremos que realizar isso 12 vezes que é o número de integrantes.\n",
        "\n",
        "De volta ao nosso notebook na parte \"Exemplo: Gincana\", a probabilidade de sucesso no caso das mulheres é de 60%, ou seja, p seria 0,6, enquanto n seria as 12 vezes do experimento binomial onde selecionamos alguém para as equipes.\n",
        "\n",
        "Dentre as 30 equipes de 12 integrantes, descobriremos qual a chance de termos 8 mulheres e 4 homens.\n",
        "\n",
        "Para isso, eu tenho um k igual a probabilidade de termos 8 mulheres em uma equipe.\n",
        "\n",
        "Digitaremos os elementos nas células e as rodaremos."
      ],
      "metadata": {
        "id": "F2dggVtUVk45"
      }
    },
    {
      "cell_type": "code",
      "source": [
        "p = 0.6"
      ],
      "metadata": {
        "id": "gH25W4W4Vnbu"
      },
      "execution_count": null,
      "outputs": []
    },
    {
      "cell_type": "code",
      "source": [
        "n = 12"
      ],
      "metadata": {
        "id": "4NN8xBIPV0xO"
      },
      "execution_count": null,
      "outputs": []
    },
    {
      "cell_type": "code",
      "source": [
        "k = 8"
      ],
      "metadata": {
        "id": "rv53XYCQV5Go"
      },
      "execution_count": null,
      "outputs": []
    },
    {
      "cell_type": "markdown",
      "source": [
        "Com isso, teremos todos os elementos suficientes para aplicar a fórmula estudada no passo anterior. Poderemos copiá-la e colá-la na célula seguinte."
      ],
      "metadata": {
        "id": "giI5SSa-V9HH"
      }
    },
    {
      "cell_type": "code",
      "source": [
        "probabilidade = binom.pmf(k, n, p)\n",
        "print('%0.8f' % probabilidade)"
      ],
      "metadata": {
        "colab": {
          "base_uri": "https://localhost:8080/"
        },
        "id": "Wk82d4imV-ab",
        "outputId": "b231fb6f-df1d-4bff-ada1-29f9ec6007b5"
      },
      "execution_count": null,
      "outputs": [
        {
          "output_type": "stream",
          "name": "stdout",
          "text": [
            "0.21284094\n"
          ]
        }
      ]
    },
    {
      "cell_type": "markdown",
      "source": [
        "Com esta execução, teremos a chance de aproximadamente 21.28% de uma equipe ser selecionada com 8 mulheres e 4 homens.\n",
        "\n",
        "Porém, queremos saber quantas dessas 30 equipes serão formadas com esta configuração, então n passará a ser 30.\n",
        "\n",
        "Para isso, usaremos o conceito da Média de Distribuição Binomial, cuja fórmula é μ igual a n vezes esta probabilidade p de termos 8 mulheres na equipe.\n",
        "\n",
        "Dentro da variável equipes na célula seguinte, digitaremos 30 multiplicado pela variável probabilidade."
      ],
      "metadata": {
        "id": "LZIyVCMaWTRY"
      }
    },
    {
      "cell_type": "code",
      "source": [
        "equipes = 30 * probabilidade\n",
        "equipes"
      ],
      "metadata": {
        "colab": {
          "base_uri": "https://localhost:8080/"
        },
        "id": "utl_2EUuWZ7O",
        "outputId": "9f99079a-f872-4d61-9144-bbf522fedf59"
      },
      "execution_count": null,
      "outputs": [
        {
          "output_type": "execute_result",
          "data": {
            "text/plain": [
              "np.float64(6.3852281856)"
            ]
          },
          "metadata": {},
          "execution_count": 43
        }
      ]
    },
    {
      "cell_type": "markdown",
      "metadata": {
        "id": "49TiCQRvG3DC"
      },
      "source": [
        "---\n",
        "---"
      ]
    },
    {
      "cell_type": "markdown",
      "source": [
        "Como retorno, teremos o número aproximado de 6,38 equipes como a média. Porém, como logicamente estas devem ser representadas em números inteiros, poderemos arredondar sem problemas para darmos a resposta à questão da gincana.\n",
        "\n",
        "A seguir, abordaremos outras Distribuições de Probabilidade."
      ],
      "metadata": {
        "id": "N3fuxJsWWgV2"
      }
    },
    {
      "cell_type": "markdown",
      "metadata": {
        "id": "X6bYonAZG3DE"
      },
      "source": [
        "## <font color=red>Problema</font>\n",
        "***"
      ]
    },
    {
      "cell_type": "markdown",
      "metadata": {
        "id": "Ccx-Bc9oG3DH"
      },
      "source": [
        "Um restaurante recebe em média **20 pedidos por hora**. Qual a chance de que, em determinada hora escolhida ao acaso, o restaurante receba **15 pedidos**?"
      ]
    },
    {
      "cell_type": "markdown",
      "metadata": {
        "id": "k-uV7bgsmand"
      },
      "source": [
        "# <font color=green size=10>Aula 02 -  Distribuição Poisson</font>\n",
        "***"
      ]
    },
    {
      "cell_type": "markdown",
      "source": [
        "Continuando com as Distribuições de Probabilidade, encontraremos mais um novo problema para resolvermos.\n",
        "\n",
        "Um restaurante recebe em média 20 pedidos por hora, e deveremos descobrir qual a chance do restaurante receber 15 pedidos em uma determinada hora escolhida ao acaso.\n",
        "\n",
        "Conseguiremos resolvera questão utilizando a Distribuição de Probabilidade Poisson.\n",
        "\n",
        "Na parte \"2.2 Distribuição Poisson\" do notebook, encontraremos um texto para consultarmos no futuro caso queiramos entender melhor seu funcionamento, sua fórmula e seus componentes específicos.\n",
        "\n",
        "Essa Distribuição é empregada para descrever número de ocorrências em um intervalo de tempo ou espaço específico, que nos permite contabilizar o sucesso, mas é impossível contar os fracassos, por exemplo.\n",
        "\n",
        "Em um rápido exemplo de aplicação da Poisson, temos 1 quilometro de estrada em que conseguimos contabilizar o número de buracos neste trecho, mas não podemos contar o número de não-buracos.\n",
        "\n",
        "Em um período de uma hora, podemos contabilizar quantas pessoas entraram em determinada loja do shopping, mas não podemos contar as pessoas que não entraram.\n",
        "\n",
        "Calcularemos com base nesta fórmula:"
      ],
      "metadata": {
        "id": "YpN9KypTW_-0"
      }
    },
    {
      "cell_type": "markdown",
      "metadata": {
        "id": "H0jPtJICG3DM"
      },
      "source": [
        "É empregada para descrever o número de ocorrências em um intervalo de tempo ou espaço específico. Os eventos são caracterizados pela possibilidade de contagem dos sucessos, mas a não possibilidade de contagem dos fracassos.\n",
        "\n",
        "Como exemplos de processos onde podemos aplicar a distribuição de Poisson temos a determinação do número de clientes que entram em uma loja em determinada hora, o número de carros que chegam em um drive-thru de uma lanchonete na hora do almoço, a determinação do número de acidentes registrados em um trecho de estrada etc."
      ]
    },
    {
      "cell_type": "markdown",
      "metadata": {
        "id": "O_XqwANJG3DN"
      },
      "source": [
        "# $$P(k) = \\frac{e^{-\\mu}(\\mu)^k}{k!}$$\n",
        "\n",
        "Onde:\n",
        "\n",
        "$e$ = constante cujo valor aproximado é 2,718281828459045\n",
        "\n",
        "$\\mu$ = representa o número médio de ocorrências em um determinado intervalo de tempo ou espaço\n",
        "\n",
        "$k$ = número de sucessos no intervalo desejado"
      ]
    },
    {
      "cell_type": "markdown",
      "metadata": {
        "id": "FqquU8wOG3DO"
      },
      "source": [
        "### Experimento Poisson"
      ]
    },
    {
      "cell_type": "markdown",
      "metadata": {
        "id": "ir2odEW3G3DO"
      },
      "source": [
        "1. A probabilidade de uma ocorrência é a mesma em todo o intervalo observado.\n",
        "\n",
        "2. O número de ocorrências em determinado intervalo é independente do número de ocorrências em outros intervalos.\n",
        "\n",
        "3. A probabilidade de uma ocorrência é a mesma em intervalos de igual comprimento."
      ]
    },
    {
      "cell_type": "markdown",
      "metadata": {
        "id": "2INlWMa0G3DP"
      },
      "source": [
        "### Média da distribuição Poisson"
      ]
    },
    {
      "cell_type": "markdown",
      "metadata": {
        "id": "xywTsniCG3DP"
      },
      "source": [
        "# $$\\mu$$"
      ]
    },
    {
      "cell_type": "markdown",
      "metadata": {
        "id": "7-Lh-LpfG3DQ"
      },
      "source": [
        "### Desvio padrão da distribuição Poisson"
      ]
    },
    {
      "cell_type": "markdown",
      "metadata": {
        "id": "61uStWUsG3DQ"
      },
      "source": [
        "# $$\\sigma = \\sqrt{\\mu}$$"
      ]
    },
    {
      "cell_type": "markdown",
      "source": [
        "Nesta, temos a probabilidade p com k sendo o número de sucesso no intervalo desejado, ou seja, tempo e espaço como vimos anteriormente.\n",
        "\n",
        "O elemento e é a constante matemática número de Euler, e representado pelo valor aproximado 2,718281828459045.\n",
        "\n",
        "Veremos como obteremos este número utilizando especificamente o NumPy.\n",
        "\n",
        "Já o µ representa a Média da Distribuição Poisson com o número médio de ocorrências em um determinado intervalo de tempo ou espaço, e às vezes µ precisa ser calculado dependendo do problema a ser resolvido.\n",
        "\n",
        "O Experimento Poisson tem as características similares ao Binomial, pois a probabilidade de ocorrência é igual em todo o intervalo observado.\n",
        "\n",
        "O número de ocorrências em determinado intervalo é independente do número de ocorrências em outros intervalos; essa independência é importante, pois a probabilidade de uma ocorrência é a mesma em intervalos de igual comprimento, ou em determinada hora, ou de uma pessoa entrar no shopping e etc.\n",
        "\n",
        "Por fim, o desvio padrão é a raiz quadrada do µ.\n",
        "\n",
        "Primeiro, importaremos o numpy como np usando as. Com isso, traremos o número de Euler, constantes matemáticas, número neperiano e etc."
      ],
      "metadata": {
        "id": "wz8xsU-sXPFB"
      }
    },
    {
      "cell_type": "markdown",
      "metadata": {
        "id": "vniBmzIMG3DR"
      },
      "source": [
        "### Importando bibliotecas\n",
        "\n",
        "http://www.numpy.org/"
      ]
    },
    {
      "cell_type": "code",
      "execution_count": null,
      "metadata": {
        "id": "w23fjVT-G3DS"
      },
      "outputs": [],
      "source": [
        "import numpy as np"
      ]
    },
    {
      "cell_type": "code",
      "execution_count": null,
      "metadata": {
        "colab": {
          "base_uri": "https://localhost:8080/"
        },
        "id": "rdNqMuFNG3DU",
        "outputId": "edb8d898-b8c8-4bf3-c859-58e31ea9d046"
      },
      "outputs": [
        {
          "output_type": "execute_result",
          "data": {
            "text/plain": [
              "2.718281828459045"
            ]
          },
          "metadata": {},
          "execution_count": 2
        }
      ],
      "source": [
        "np.e"
      ]
    },
    {
      "cell_type": "markdown",
      "source": [
        "Com isso, receberemos o valor aproximado de 2,718281828459045.\n",
        "\n",
        "A seguir, resolveremos o problema apresentado no começo da aula utilizando a distribuição de Poisson."
      ],
      "metadata": {
        "id": "sSXMtWy5XbTT"
      }
    },
    {
      "cell_type": "markdown",
      "metadata": {
        "id": "RKQWuVgMG3DW"
      },
      "source": [
        "## <font color='grees'>Exemplo: Delivery</font>"
      ]
    },
    {
      "cell_type": "markdown",
      "metadata": {
        "id": "ZKc__49bG3DX"
      },
      "source": [
        "Um restaurante recebe em média **20 pedidos por hora**. Qual a chance de que, em determinada hora escolhida ao acaso, o restaurante receba **15 pedidos**?"
      ]
    },
    {
      "cell_type": "markdown",
      "source": [
        "Para isso, aplicaremos a fórmula de Poisson, em que será possível identificarmos e contabilizarmos os sucessos.\n",
        "\n",
        "Já sabemos quantos pedidos o restaurante recebe, mas não conseguimos contabilizar quantos pedidos não recebe, pois não faz sentido nesta situação. Isso caracteriza muito a aplicação de uma Distribuição Poisson.\n",
        "\n",
        "A primeira pergunta sobre qual o número médio de ocorrências por hora representado pelo µ da fórmula será armazenada na variável media.\n",
        "\n",
        "Esta informação já está no problema; o restaurante recebe, em média, 20 pedidos num período de uma hora. Logo, isso é o número de ocorrências em determinado período de tempo ou espaço, então media será igual a 20."
      ],
      "metadata": {
        "id": "VONAlV1KXsC3"
      }
    },
    {
      "cell_type": "markdown",
      "metadata": {
        "id": "W-MJ4XBkG3DX"
      },
      "source": [
        "### Qual o número médio de ocorrências por hora ($\\mu$)?"
      ]
    },
    {
      "cell_type": "code",
      "execution_count": null,
      "metadata": {
        "colab": {
          "base_uri": "https://localhost:8080/"
        },
        "id": "2fVfJxdSG3DY",
        "outputId": "f8175f22-b57e-471e-d13c-ceb353119831"
      },
      "outputs": [
        {
          "output_type": "execute_result",
          "data": {
            "text/plain": [
              "20"
            ]
          },
          "metadata": {},
          "execution_count": 53
        }
      ],
      "source": [
        "media = 20\n",
        "media"
      ]
    },
    {
      "cell_type": "markdown",
      "source": [
        "Em seguida, o número de ocorrências que queremos obter no período será o k da fórmula, ou seja, a chance do restaurante receber 15 pedidos em uma hora aleatória do dia. Portanto, k será igual a 15."
      ],
      "metadata": {
        "id": "o-HFhW0SXzTy"
      }
    },
    {
      "cell_type": "markdown",
      "metadata": {
        "id": "3SagRtPvG3Da"
      },
      "source": [
        "### Qual o número de ocorrências que queremos obter no período ($k$)?"
      ]
    },
    {
      "cell_type": "code",
      "execution_count": null,
      "metadata": {
        "colab": {
          "base_uri": "https://localhost:8080/"
        },
        "id": "yXB3QhWyG3Da",
        "outputId": "e847c5b6-b85f-4953-ec43-9f4f6fb26d13"
      },
      "outputs": [
        {
          "output_type": "execute_result",
          "data": {
            "text/plain": [
              "15"
            ]
          },
          "metadata": {},
          "execution_count": 52
        }
      ],
      "source": [
        "k = 15\n",
        "k"
      ]
    },
    {
      "cell_type": "markdown",
      "source": [
        "Faremos uma solução manual na parte \"Solução 1\", e na \"Solução 2\" usaremos os recursos do Python de forma mais simples, da mesma maneira que realizamos anteriormente na Distribuição Binomial.\n",
        "\n",
        "A variável probabilidade será igual às três partes da fórmula separadas por parênteses para começarmos."
      ],
      "metadata": {
        "id": "0c_AsN9ZYC4f"
      }
    },
    {
      "cell_type": "code",
      "source": [
        "probabilidade = () * () / ()"
      ],
      "metadata": {
        "id": "LaPUWNVzYFpT"
      },
      "execution_count": null,
      "outputs": []
    },
    {
      "cell_type": "markdown",
      "source": [
        "A primeira parte será e elevado a -media com uso de dois asteriscos ** e parênteses, e já vimos como obter essa constante matemática com np.e.\n",
        "\n",
        "Na segunda parte da fórmula, teremos a média elevada a k. Em seguida, englobaremos até este trecho entre parênteses novamente para não confundirmos com a divisão pelo k!.\n",
        "\n",
        "O numpy também tem essa função matemática para calcular o k fatorial, lembrando que é um produtório de uma contagem regressiva como já sabemos. Então usaremos o método np.math.factorial() recebendo o k.\n",
        "\n",
        "Por fim, exibiremos o resultado da probabilidade com o print() de '%o.8f' para formatarmos melhor."
      ],
      "metadata": {
        "id": "M5pJKqb4YOHR"
      }
    },
    {
      "cell_type": "markdown",
      "metadata": {
        "id": "3wFh3lFCG3De"
      },
      "source": [
        "### Solução 1"
      ]
    },
    {
      "cell_type": "code",
      "source": [
        "import math\n",
        "import numpy as np"
      ],
      "metadata": {
        "id": "Ny4YwF0OY6UP"
      },
      "execution_count": null,
      "outputs": []
    },
    {
      "cell_type": "code",
      "execution_count": null,
      "metadata": {
        "colab": {
          "base_uri": "https://localhost:8080/"
        },
        "id": "IEGO31WCG3Df",
        "outputId": "0378a0b0-2a75-416d-87d4-e10cff8bd9b1"
      },
      "outputs": [
        {
          "output_type": "stream",
          "name": "stdout",
          "text": [
            "0.05164885\n"
          ]
        }
      ],
      "source": [
        "\n",
        "probabilidade = ((np.exp(-media)) * (media ** k)) / math.factorial(k)\n",
        "print('%0.8f' % probabilidade)"
      ]
    },
    {
      "cell_type": "markdown",
      "source": [
        "Rodando a célula da \"Solução 1\", teremos a probabilidade de 0.05164885, ou seja, a chance é de aproximadamente 5.16% do restaurante receber 15 pedidos em determinada hora escolhida ao acaso.\n",
        "\n",
        "Já na parte \"Solução 2\", veremos uma forma mais simples de calcular usando Python, mas antes encontraremos um link com a documentação de scipy.stats.poisson.\n",
        "\n",
        "Importaremos poisson a partir da biblioteca scipy.stats na primeira célula."
      ],
      "metadata": {
        "id": "1DIgwWmAZNdL"
      }
    },
    {
      "cell_type": "markdown",
      "metadata": {
        "id": "GoIBvH62G3Di"
      },
      "source": [
        "### Importando bibliotecas"
      ]
    },
    {
      "cell_type": "markdown",
      "metadata": {
        "id": "iFSF_9Y4G3Dj"
      },
      "source": [
        "https://docs.scipy.org/doc/scipy/reference/generated/scipy.stats.poisson.html"
      ]
    },
    {
      "cell_type": "markdown",
      "metadata": {
        "id": "yAyXh0euG3Dk"
      },
      "source": [
        "### Solução 2"
      ]
    },
    {
      "cell_type": "markdown",
      "source": [
        "Em seguinte na mesma célula, chamaremos a probabilidade sendo igual a poisson com o método pmf() recebendo os parâmetros k e a media.\n",
        "\n",
        "Por fim, copiaremos a mesma formatação do print() para exibirmos o resultado em porcentagem."
      ],
      "metadata": {
        "id": "IJrG5TmdZV_D"
      }
    },
    {
      "cell_type": "code",
      "execution_count": null,
      "metadata": {
        "colab": {
          "base_uri": "https://localhost:8080/"
        },
        "id": "sNw4oCAyG3Dk",
        "outputId": "a77b240c-0751-4a34-9bba-4ea2c30d61be"
      },
      "outputs": [
        {
          "output_type": "stream",
          "name": "stdout",
          "text": [
            "0.05164885\n"
          ]
        }
      ],
      "source": [
        "from scipy.stats import poisson\n",
        "\n",
        "probabilidade = poisson.pmf(k, media)\n",
        "print('%0.8f' % probabilidade)"
      ]
    },
    {
      "cell_type": "markdown",
      "source": [
        "Com isso, teremos o mesmo valor 0.05164885 que obtivemos antes, porém de forma bem mais simples.\n",
        "\n",
        "Portanto, a probabilidade é de 5.16% do restaurante receber 15 pedidos em determinada hora escolhida ao acaso, dado que em média recebe 20 por hora.\n",
        "\n",
        "Talvez não utilizemos exatamente isso em nosso dataset no projeto final, até porque nem tudo que estamos aprendendo tem a ver com um possível projeto que estejamos executando, pois não usaremos todo o ferramental estatístico para resolvermos determinado assunto.\n",
        "\n",
        "De qualquer maneira, é importante termos essa base, afinal problemas desse tipo surgem e já teremos essa bagagem para resolvê-los.\n",
        "\n",
        "A seguir, começaremos com a Distribuição Normal."
      ],
      "metadata": {
        "id": "N1KvripEZcO1"
      }
    },
    {
      "cell_type": "markdown",
      "source": [
        "## Estimativa de clientes em determinada hora"
      ],
      "metadata": {
        "id": "dbBwA1LQnhFP"
      }
    },
    {
      "cell_type": "markdown",
      "source": [
        "O número médio de clientes que entram em uma padaria por hora é igual a 20. Obtenha a probabilidade de, na próxima hora, entrarem exatamente 25 clientes.\n",
        "\n"
      ],
      "metadata": {
        "id": "kktzs_1knms3"
      }
    },
    {
      "cell_type": "markdown",
      "source": [
        "# Fórmula com \"n\"\n",
        "\n",
        "# A fórmula da Distribuição de Poisson ficaria:\n",
        "\n",
        "# P(k) = (e^(-n) * (n^k)) / k!\n",
        "\n",
        "Onde:\n",
        "\n",
        "- P(k) é a probabilidade de ocorrerem exatamente k eventos\n",
        "- e é a base do logaritmo natural (aproximadamente 2,718)\n",
        "- n é o número médio de eventos que ocorrem no intervalo de tempo\n",
        "- k é o número de eventos que queremos calcular a probabilidade\n",
        "- k! é o fatorial de k (o produto de todos os números inteiros positivos até k)\n",
        "\n",
        "Exemplo\n",
        "\n",
        "No problema anterior, tínhamos n = 20 (número médio de clientes por hora) e k = 25 (número de clientes que queremos calcular a probabilidade). A fórmula ficaria:\n",
        "\n",
        "P(25) = (e^(-20) * (20^25)) / 25!\n",
        "\n",
        "Código em Python\n",
        "\n",
        "O código em Python também seria semelhante, apenas mudando a variável λ para n:\n"
      ],
      "metadata": {
        "id": "ahp8RU3Homj2"
      }
    },
    {
      "cell_type": "code",
      "source": [
        "import math\n",
        "\n",
        "lambda_ = 20  # número médio de clientes por hora\n",
        "k = 25  # número de clientes que queremos calcular a probabilidade\n",
        "\n",
        "probabilidade = (math.exp(-lambda_) * (lambda_ ** k)) / math.factorial(k)\n",
        "print(f\"A probabilidade de entrarem exatamente {k} clientes é: {probabilidade:.8f}\")"
      ],
      "metadata": {
        "colab": {
          "base_uri": "https://localhost:8080/"
        },
        "id": "c4IyEIHPnR2K",
        "outputId": "7d96ddec-79b9-400c-95be-201615aa9e5c"
      },
      "execution_count": null,
      "outputs": [
        {
          "output_type": "stream",
          "name": "stdout",
          "text": [
            "A probabilidade de entrarem exatamente 25 clientes é: 0.04458765\n"
          ]
        }
      ]
    },
    {
      "cell_type": "markdown",
      "source": [
        "## O que aprendemos?"
      ],
      "metadata": {
        "id": "SVpyHbdDrLhY"
      }
    },
    {
      "cell_type": "markdown",
      "source": [
        "Nesta aula, aprendemos:\n",
        "\n",
        "   - Os conceitos básicos da distribuição de probabilidades Poisson\n",
        "\n",
        "   - A obter as probabilidades em problemas, como os seguintes:\n",
        "\n",
        "      - Determinação do número de clientes que entram em uma loja em determinada hora\n",
        "\n",
        "      - Número de carros que chegam em um drive-thru de uma lanchonete na hora do almoço\n",
        "      \n",
        "Determinação do número de acidentes registrados em um trecho de estrada"
      ],
      "metadata": {
        "id": "mp6f6uO-rNpW"
      }
    },
    {
      "cell_type": "markdown",
      "metadata": {
        "id": "g3ng8tQFG3Do"
      },
      "source": [
        "---\n",
        "---"
      ]
    },
    {
      "cell_type": "markdown",
      "source": [
        "# <font color=green size=10>Aula 03 - Conhecendo a distribuição normal</font>\n"
      ],
      "metadata": {
        "id": "Izj8BXZ1saPU"
      }
    },
    {
      "cell_type": "markdown",
      "source": [
        "Em um estudo sobre alturas dos moradores de uma cidade, verificou-se que o conjunto de dados segue uma aproximada Distribuição Normal, com média de 1,70 metros e desvio padrão de 0.1.\n",
        "\n",
        "Com essas informações, deveremos obter três probabilidades: a de uma pessoa selecionada ao acaso ter menos de 1.80 metros, a de ter entre 1.60 e 1.80 metros, e a terceira de ter mais de 1.90 metros de altura.\n",
        "\n",
        "O próprio problema já disse qual tipo de Distribuição temos que aplicar na variável altura que inclusive temos no nosso dataset também, a qual possui uma Distribuição aproximadamente Normal porque a criamos desta forma para fins didáticos, mas mais adiante trabalharemos exatamente com esta em nosso projeto.\n",
        "\n",
        "Para conseguirmos resolver esse tipo de problema, usaremos a Distribuição Normal, a qual é mais importante em Estatística.\n",
        "\n",
        "Testes paramétricos por exemplo, assumem que a variável que estamos estudando segue aproximadamente uma Distribuição Normal.\n",
        "\n",
        "Na parte \"4.1\" do notebook, abordaremos o Teorema do Limite Central que é muito importante em Estatística e nos diz que com o aumento da amostra, a Distribuição das Médias Amostrais tende a se aproximar de uma Distribuição Normal que é contínua também. Em um gráfico simétrico, seria justamente o pico central do eixo x.\n",
        "\n",
        "É uma Distribuição de Frequência de variável quantitativa contínua, apresenta uma linha em forma de sino e é simétrica em relação a sua média.\n",
        "\n",
        "No curso anterior, abordamos a Simetria, ou seja, os dois lados do gráfico divididos pela média são iguais.\n",
        "\n",
        "A área sob a curva corresponde a proporção de 100% por causa da probabilidade, como falaremos adiante.\n",
        "\n",
        "As Medidas da Tendência Central chamadas Média, Mediana e Moda são iguais e apresentam o mesmo valor.\n",
        "\n",
        "Os extremos da curva tendem ao infinito, tanto positivo e negativo, e ambas teoricamente não tocam o eixo x.\n",
        "\n",
        "O desvio padrão define o achatamento da curva, pois quanto maior o desvio padrão, mais larga é a curva.\n",
        "\n",
        "A Distribuição é definida exclusivamente pela sua média e pelo seu desvio padrão, cuja fórmula da Densidade de Probabilidade possui constantes, desvio padrão representado por sigma e o µ novamente, definido por essas variáveis.\n",
        "\n",
        "A probabilidade sempre será igual à área sob a curva, como também veremos adiante. Sua fórmula é:"
      ],
      "metadata": {
        "id": "PVbCxjBvsYDL"
      }
    },
    {
      "cell_type": "markdown",
      "source": [
        "![image.png](data:image/png;base64,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)"
      ],
      "metadata": {
        "id": "-8BhuhAqtG3B"
      }
    },
    {
      "cell_type": "markdown",
      "source": [
        "Teremos a função de x, a variável normalmente distribuída, o σ é o desvio padrão e o µ é a média, e a probabilidade é a área obtida abaixo da curva delimitada pelos Limites Inferior chamado Li e Superior Ls.\n",
        "\n",
        "Essa área é calculada da seguinte forma usando Integrais Definidas:"
      ],
      "metadata": {
        "id": "083QaXh_tdIX"
      }
    },
    {
      "cell_type": "markdown",
      "source": [
        "![image.png](data:image/png;base64,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)"
      ],
      "metadata": {
        "id": "Xmh4RFJfthYX"
      }
    },
    {
      "cell_type": "markdown",
      "source": [
        "Não precisaremos calcular Integrais aqui, pois está fora do escopo do nosso curso.\n",
        "\n",
        "Então veremos uma forma de calcular isso mais fácil utilizando Python como fizemos com as outras Distribuições, e faremos um cálculo manual usando Tabelas Padronizadas no próximo passo.\n",
        "\n",
        "Em nosso caso mais simples, da probabilidade de alguém ter entre 1.60 e 1.80 metros de altura: 1.60 metros corresponderá ao Limite Inferior, enquanto 1.80 metros será o Limite Superior.\n",
        "\n",
        "Descobriremos justamente o valor da área representando o cálculo da probabilidade dentro desse limite.\n",
        "\n",
        "A seguir, abordaremos as Tabelas Padronizadas, as quais são uma forma manual de obtermos esses valores sem precisarmos calcular Integrais Definidas."
      ],
      "metadata": {
        "id": "8-URWqYMtlPi"
      }
    },
    {
      "cell_type": "markdown",
      "source": [
        "# Usando a tabela padronizada"
      ],
      "metadata": {
        "id": "0xDsNchFuEHM"
      }
    },
    {
      "cell_type": "markdown",
      "source": [
        "Neste passo, falaremos sobre as Tabelas Padronizadas.\n",
        "\n",
        "Conheceremos a forma de obter a área sob a curva que representa a probabilidade que estamos interessados, e isso sem precisarmos calcular Integrais Definidas.\n",
        "\n",
        "Já sabemos que a Distribuição Normal é definida pela sua média e pelo desvio padrão, então cada variável aleatória que se distribui normalmente tem uma média e um desvio padrão específicos, ou seja, vão gerar curvas de formatos diferentes e específicos.\n",
        "\n",
        "Se tivermos que calcular essas probabilidades para cada curva, teremos também que calcular as Integrais Definidas para cada uma, o que torna o trabalho mais complicado.\n",
        "\n",
        "Pra resolvermos esse problema, podemos usar as Tabelas Padronizadas; para consultarmos as que já têm os valores das probabilidades definidos, precisaremos transformar a variável em uma variável normal padronizada, como mostra a fórmula:"
      ],
      "metadata": {
        "id": "v2rRZEH7uFtl"
      }
    },
    {
      "cell_type": "markdown",
      "source": [
        "![image.png](data:image/png;base64,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)"
      ],
      "metadata": {
        "id": "IUnMxklDuTDS"
      }
    },
    {
      "cell_type": "markdown",
      "source": [
        "Partiremos de x como nossa variável original, e a transformaremos em Z; pegaremos x e subtrairemos a média da variável μ e dividiremos pelo seu desvio padrão σ.\n",
        "\n",
        "Isto padronizará a variável para futuramente podermos consultar a tabela e solucionar o problema proposto. Em livros de Estatística, poderemos encontrar as diversas Tabelas de Distribuições de Probabilidade.\n",
        "\n",
        "Aqui, conheceremos uma forma de obtermos nossa própria tabela, a qual terá basicamente o mesmo valor da encontrada no livro. Criaremos um DataFrame onde colocaremos esses valores de probabilidade.\n",
        "\n",
        "Nesta consulta, somaremos os valores das linhas com os das colunas para obtermos o Z e buscar na tabela. Ele vai de 0 até 3.90, então cobre praticamente 100% da Distribuição.\n",
        "\n",
        "O valor da probabilidade que está aqui dentro será a área sob a curva, a qual vai de menos infinito até o valor da variável padronizada que encontramos, ou seja, até Z.\n",
        "\n",
        "Algumas tabelas podem estar um pouco diferentes das do livro, pois algumas mostrarão a média que é o valor central, o qual parte a Distribuição ao meio porque é simétrica em relação a média.\n",
        "\n",
        "O valor da tabela vai da média até Z, mas isso não é um problema; afinal bastará somarmos 0.5 com o valor da da média até Z. Com o tempo, entenderemos melhor os macetes.\n",
        "\n",
        "Já conhecemos a construção da tabela neste passo, a qual pode ser encontrada na parte \"Construindo tabela normal padronizada\" de nosso notebook. Também teremos o código de criação do DataFrame com a novidade da importação de norm a partir da biblioteca scipy.stats, que entenderemos melhor a seguir."
      ],
      "metadata": {
        "id": "duFX9BotuWeg"
      }
    },
    {
      "cell_type": "markdown",
      "metadata": {
        "id": "tVPUT9kEG3Dp"
      },
      "source": [
        "## <font color=red>Problema</font>\n",
        "***"
      ]
    },
    {
      "cell_type": "markdown",
      "source": [],
      "metadata": {
        "id": "YZL0F6sNtIQg"
      }
    },
    {
      "cell_type": "markdown",
      "metadata": {
        "id": "j7zVDN0kG3Dq"
      },
      "source": [
        "Em um estudo sobre as alturas dos moradores de uma cidade verificou-se que o conjunto de dados segue uma **distribuição aproximadamente normal**, com **média 1,70** e **desvio padrão de 0,1**. Com estas informações obtenha o seguinte conjunto de probabilidades:\n",
        "\n",
        "> **A.** probabilidade de uma pessoa, selecionada ao acaso, ter menos de 1,80 metros.\n",
        "\n",
        "> **B.** probabilidade de uma pessoa, selecionada ao acaso, ter entre 1,60 metros e 1,80 metros.    \n",
        "\n",
        "> **C.** probabilidade de uma pessoa, selecionada ao acaso, ter mais de 1,90 metros."
      ]
    },
    {
      "cell_type": "markdown",
      "metadata": {
        "id": "AowcVaKqpvf2"
      },
      "source": [
        "## <font color=green>2.3 Distribuição Normal</font>\n",
        "***"
      ]
    },
    {
      "cell_type": "markdown",
      "metadata": {
        "id": "YOBD21hGG3Dw"
      },
      "source": [
        "A distribuição normal é uma das mais utilizadas em estatística. É uma distribuição contínua, onde a distribuição de frequências de uma variável quantitativa apresenta a forma de sino e é simétrica em relação a sua média."
      ]
    },
    {
      "cell_type": "markdown",
      "metadata": {
        "id": "kbPy2ORqqKJA"
      },
      "source": [
        "![Normal](https://caelum-online-public.s3.amazonaws.com/1178-estatistica-parte2/01/img001.png)"
      ]
    },
    {
      "cell_type": "markdown",
      "metadata": {
        "id": "J3eKESHTG3Dx"
      },
      "source": [
        "### Características importantes"
      ]
    },
    {
      "cell_type": "markdown",
      "metadata": {
        "id": "z8GxAzWZG3Dx"
      },
      "source": [
        "1. É simétrica em torno da média;\n",
        "\n",
        "2. A área sob a curva corresponde à proporção 1 ou 100%;\n",
        "\n",
        "3. As medidas de tendência central (média, mediana e moda) apresentam o mesmo valor;\n",
        "\n",
        "4. Os extremos da curva tendem ao infinito em ambas as direções e, teoricamente, jamais tocam o eixo $x$;\n",
        "\n",
        "5. O desvio padrão define o achatamento e largura da distribuição. Curvas mais largas e mais achatadas apresentam valores maiores de desvio padrão;\n",
        "\n",
        "6. A distribuição é definida por sua média e desvio padrão;\n",
        "\n",
        "7. A probabilidade sempre será igual à área sob a curva, delimitada pelos limites inferior e superior."
      ]
    },
    {
      "cell_type": "markdown",
      "metadata": {
        "id": "hoWLlOiwG3Dy"
      },
      "source": [
        "# $$f(x) = \\frac{1}{\\sqrt{2\\pi\\sigma}}e^{-\\frac{1}{2}\\left(\\frac{x-\\mu}{\\sigma}\\right)^2}$$\n",
        "\n",
        "Onde:\n",
        "\n",
        "$x$ = variável normal\n",
        "\n",
        "$\\sigma$ = desvio padrão\n",
        "\n",
        "$\\mu$ = média"
      ]
    },
    {
      "cell_type": "markdown",
      "metadata": {
        "id": "8n03Z0VlG3Dz"
      },
      "source": [
        "A probabilidade é obtida a partir da área sob a curva, delimitada pelos limites inferior e superior especificados. Um exemplo pode ser visto na figura abaixo."
      ]
    },
    {
      "cell_type": "markdown",
      "metadata": {
        "id": "X1UgmFoxG3Dz"
      },
      "source": [
        "![alt text](https://caelum-online-public.s3.amazonaws.com/1178-estatistica-parte2/01/img002.png)\n"
      ]
    },
    {
      "cell_type": "markdown",
      "metadata": {
        "id": "rtKiApHLG3D0"
      },
      "source": [
        "Para obter a área acima basta calcular a integral da função para os intervalos determinados. Conforme equação abaixo:"
      ]
    },
    {
      "cell_type": "markdown",
      "metadata": {
        "id": "0r_9CbSOG3D0"
      },
      "source": [
        "# $$P(L_i<x<L_s) = \\int_{L_i}^{L_s}\\frac{1}{\\sqrt{2\\pi\\sigma}}e^{-\\frac{1}{2}\\left(\\frac{x-\\mu}{\\sigma}\\right)^2}$$\n",
        "\n",
        "Onde:\n",
        "\n",
        "$x$ = variável normal\n",
        "\n",
        "$\\sigma$ = desvio padrão\n",
        "\n",
        "$\\mu$ = média\n",
        "\n",
        "$L_i$ = limite inferior = 1,60m\n",
        "\n",
        "$L_s$ = limite superior = 1,80m"
      ]
    },
    {
      "cell_type": "markdown",
      "metadata": {
        "id": "qP-Ye-leG3D1"
      },
      "source": [
        "### Tabelas padronizadas"
      ]
    },
    {
      "cell_type": "markdown",
      "source": [
        "Neste passo, falaremos sobre as Tabelas Padronizadas.\n",
        "\n",
        "Conheceremos a forma de obter a área sob a curva que representa a probabilidade que estamos interessados, e isso sem precisarmos calcular Integrais Definidas.\n",
        "\n",
        "Já sabemos que a Distribuição Normal é definida pela sua média e pelo desvio padrão, então cada variável aleatória que se distribui normalmente tem uma média e um desvio padrão específicos, ou seja, vão gerar curvas de formatos diferentes e específicos.\n",
        "\n",
        "Se tivermos que calcular essas probabilidades para cada curva, teremos também que calcular as Integrais Definidas para cada uma, o que torna o trabalho mais complicado.\n",
        "\n",
        "Pra resolvermos esse problema, podemos usar as Tabelas Padronizadas; para consultarmos as que já têm os valores das probabilidades definidos, precisaremos transformar a variável em uma variável normal padronizada, como mostra a fórmula:"
      ],
      "metadata": {
        "id": "tic5P2qbxnCl"
      }
    },
    {
      "cell_type": "markdown",
      "metadata": {
        "id": "Z1VnLK11G3D1"
      },
      "source": [
        "As tabelas padronizadas foram criadas para facilitar a obtenção dos valores das áreas sob a curva normal e eliminar a necessidade de solucionar integrais definidas.\n",
        "\n",
        "Para consultarmos os valores em uma tabela padronizada basta transformarmos nossa variável em uma variável padronizada $Z$.\n",
        "\n",
        "Esta variável $Z$ representa o afastamento em desvios padrões de um valor da variável original em relação à média."
      ]
    },
    {
      "cell_type": "markdown",
      "metadata": {
        "id": "HJcdgdsgG3D2"
      },
      "source": [
        "# $$Z = \\frac{x-\\mu}{\\sigma}$$\n",
        "\n",
        "Onde:\n",
        "\n",
        "$x$ = variável normal com média $\\mu$ e desvio padrão $\\sigma$\n",
        "\n",
        "$\\sigma$ = desvio padrão\n",
        "\n",
        "$\\mu$ = média"
      ]
    },
    {
      "cell_type": "markdown",
      "metadata": {
        "id": "hUrVKJH3G3D2"
      },
      "source": [
        "### Construindo tabela normal padronizada\n",
        "https://docs.scipy.org/doc/scipy/reference/generated/scipy.stats.norm.html"
      ]
    },
    {
      "cell_type": "code",
      "execution_count": null,
      "metadata": {
        "colab": {
          "base_uri": "https://localhost:8080/",
          "height": 1000
        },
        "id": "7SudUNlcG3D4",
        "outputId": "1a1364a7-f084-4cc0-9646-235f9fcbd07b"
      },
      "outputs": [
        {
          "output_type": "execute_result",
          "data": {
            "text/plain": [
              "Z       0.00    0.01    0.02    0.03    0.04    0.05    0.06    0.07    0.08  \\\n",
              "0.00  0.5000  0.5040  0.5080  0.5120  0.5160  0.5199  0.5239  0.5279  0.5319   \n",
              "0.10  0.5398  0.5438  0.5478  0.5517  0.5557  0.5596  0.5636  0.5675  0.5714   \n",
              "0.20  0.5793  0.5832  0.5871  0.5910  0.5948  0.5987  0.6026  0.6064  0.6103   \n",
              "0.30  0.6179  0.6217  0.6255  0.6293  0.6331  0.6368  0.6406  0.6443  0.6480   \n",
              "0.40  0.6554  0.6591  0.6628  0.6664  0.6700  0.6736  0.6772  0.6808  0.6844   \n",
              "0.50  0.6915  0.6950  0.6985  0.7019  0.7054  0.7088  0.7123  0.7157  0.7190   \n",
              "0.60  0.7257  0.7291  0.7324  0.7357  0.7389  0.7422  0.7454  0.7486  0.7517   \n",
              "0.70  0.7580  0.7611  0.7642  0.7673  0.7704  0.7734  0.7764  0.7794  0.7823   \n",
              "0.80  0.7881  0.7910  0.7939  0.7967  0.7995  0.8023  0.8051  0.8078  0.8106   \n",
              "0.90  0.8159  0.8186  0.8212  0.8238  0.8264  0.8289  0.8315  0.8340  0.8365   \n",
              "1.00  0.8413  0.8438  0.8461  0.8485  0.8508  0.8531  0.8554  0.8577  0.8599   \n",
              "1.10  0.8643  0.8665  0.8686  0.8708  0.8729  0.8749  0.8770  0.8790  0.8810   \n",
              "1.20  0.8849  0.8869  0.8888  0.8907  0.8925  0.8944  0.8962  0.8980  0.8997   \n",
              "1.30  0.9032  0.9049  0.9066  0.9082  0.9099  0.9115  0.9131  0.9147  0.9162   \n",
              "1.40  0.9192  0.9207  0.9222  0.9236  0.9251  0.9265  0.9279  0.9292  0.9306   \n",
              "1.50  0.9332  0.9345  0.9357  0.9370  0.9382  0.9394  0.9406  0.9418  0.9429   \n",
              "1.60  0.9452  0.9463  0.9474  0.9484  0.9495  0.9505  0.9515  0.9525  0.9535   \n",
              "1.70  0.9554  0.9564  0.9573  0.9582  0.9591  0.9599  0.9608  0.9616  0.9625   \n",
              "1.80  0.9641  0.9649  0.9656  0.9664  0.9671  0.9678  0.9686  0.9693  0.9699   \n",
              "1.90  0.9713  0.9719  0.9726  0.9732  0.9738  0.9744  0.9750  0.9756  0.9761   \n",
              "2.00  0.9772  0.9778  0.9783  0.9788  0.9793  0.9798  0.9803  0.9808  0.9812   \n",
              "2.10  0.9821  0.9826  0.9830  0.9834  0.9838  0.9842  0.9846  0.9850  0.9854   \n",
              "2.20  0.9861  0.9864  0.9868  0.9871  0.9875  0.9878  0.9881  0.9884  0.9887   \n",
              "2.30  0.9893  0.9896  0.9898  0.9901  0.9904  0.9906  0.9909  0.9911  0.9913   \n",
              "2.40  0.9918  0.9920  0.9922  0.9925  0.9927  0.9929  0.9931  0.9932  0.9934   \n",
              "2.50  0.9938  0.9940  0.9941  0.9943  0.9945  0.9946  0.9948  0.9949  0.9951   \n",
              "2.60  0.9953  0.9955  0.9956  0.9957  0.9959  0.9960  0.9961  0.9962  0.9963   \n",
              "2.70  0.9965  0.9966  0.9967  0.9968  0.9969  0.9970  0.9971  0.9972  0.9973   \n",
              "2.80  0.9974  0.9975  0.9976  0.9977  0.9977  0.9978  0.9979  0.9979  0.9980   \n",
              "2.90  0.9981  0.9982  0.9982  0.9983  0.9984  0.9984  0.9985  0.9985  0.9986   \n",
              "3.00  0.9987  0.9987  0.9987  0.9988  0.9988  0.9989  0.9989  0.9989  0.9990   \n",
              "3.10  0.9990  0.9991  0.9991  0.9991  0.9992  0.9992  0.9992  0.9992  0.9993   \n",
              "3.20  0.9993  0.9993  0.9994  0.9994  0.9994  0.9994  0.9994  0.9995  0.9995   \n",
              "3.30  0.9995  0.9995  0.9995  0.9996  0.9996  0.9996  0.9996  0.9996  0.9996   \n",
              "3.40  0.9997  0.9997  0.9997  0.9997  0.9997  0.9997  0.9997  0.9997  0.9997   \n",
              "3.50  0.9998  0.9998  0.9998  0.9998  0.9998  0.9998  0.9998  0.9998  0.9998   \n",
              "3.60  0.9998  0.9998  0.9999  0.9999  0.9999  0.9999  0.9999  0.9999  0.9999   \n",
              "3.70  0.9999  0.9999  0.9999  0.9999  0.9999  0.9999  0.9999  0.9999  0.9999   \n",
              "3.80  0.9999  0.9999  0.9999  0.9999  0.9999  0.9999  0.9999  0.9999  0.9999   \n",
              "3.90  1.0000  1.0000  1.0000  1.0000  1.0000  1.0000  1.0000  1.0000  1.0000   \n",
              "\n",
              "Z       0.09  \n",
              "0.00  0.5359  \n",
              "0.10  0.5753  \n",
              "0.20  0.6141  \n",
              "0.30  0.6517  \n",
              "0.40  0.6879  \n",
              "0.50  0.7224  \n",
              "0.60  0.7549  \n",
              "0.70  0.7852  \n",
              "0.80  0.8133  \n",
              "0.90  0.8389  \n",
              "1.00  0.8621  \n",
              "1.10  0.8830  \n",
              "1.20  0.9015  \n",
              "1.30  0.9177  \n",
              "1.40  0.9319  \n",
              "1.50  0.9441  \n",
              "1.60  0.9545  \n",
              "1.70  0.9633  \n",
              "1.80  0.9706  \n",
              "1.90  0.9767  \n",
              "2.00  0.9817  \n",
              "2.10  0.9857  \n",
              "2.20  0.9890  \n",
              "2.30  0.9916  \n",
              "2.40  0.9936  \n",
              "2.50  0.9952  \n",
              "2.60  0.9964  \n",
              "2.70  0.9974  \n",
              "2.80  0.9981  \n",
              "2.90  0.9986  \n",
              "3.00  0.9990  \n",
              "3.10  0.9993  \n",
              "3.20  0.9995  \n",
              "3.30  0.9997  \n",
              "3.40  0.9998  \n",
              "3.50  0.9998  \n",
              "3.60  0.9999  \n",
              "3.70  0.9999  \n",
              "3.80  0.9999  \n",
              "3.90  1.0000  "
            ],
            "text/html": [
              "\n",
              "  <div id=\"df-d1f5a118-3c2f-4f4e-85df-c2d53be3d69a\" class=\"colab-df-container\">\n",
              "    <div>\n",
              "<style scoped>\n",
              "    .dataframe tbody tr th:only-of-type {\n",
              "        vertical-align: middle;\n",
              "    }\n",
              "\n",
              "    .dataframe tbody tr th {\n",
              "        vertical-align: top;\n",
              "    }\n",
              "\n",
              "    .dataframe thead th {\n",
              "        text-align: right;\n",
              "    }\n",
              "</style>\n",
              "<table border=\"1\" class=\"dataframe\">\n",
              "  <thead>\n",
              "    <tr style=\"text-align: right;\">\n",
              "      <th>Z</th>\n",
              "      <th>0.00</th>\n",
              "      <th>0.01</th>\n",
              "      <th>0.02</th>\n",
              "      <th>0.03</th>\n",
              "      <th>0.04</th>\n",
              "      <th>0.05</th>\n",
              "      <th>0.06</th>\n",
              "      <th>0.07</th>\n",
              "      <th>0.08</th>\n",
              "      <th>0.09</th>\n",
              "    </tr>\n",
              "  </thead>\n",
              "  <tbody>\n",
              "    <tr>\n",
              "      <th>0.00</th>\n",
              "      <td>0.5000</td>\n",
              "      <td>0.5040</td>\n",
              "      <td>0.5080</td>\n",
              "      <td>0.5120</td>\n",
              "      <td>0.5160</td>\n",
              "      <td>0.5199</td>\n",
              "      <td>0.5239</td>\n",
              "      <td>0.5279</td>\n",
              "      <td>0.5319</td>\n",
              "      <td>0.5359</td>\n",
              "    </tr>\n",
              "    <tr>\n",
              "      <th>0.10</th>\n",
              "      <td>0.5398</td>\n",
              "      <td>0.5438</td>\n",
              "      <td>0.5478</td>\n",
              "      <td>0.5517</td>\n",
              "      <td>0.5557</td>\n",
              "      <td>0.5596</td>\n",
              "      <td>0.5636</td>\n",
              "      <td>0.5675</td>\n",
              "      <td>0.5714</td>\n",
              "      <td>0.5753</td>\n",
              "    </tr>\n",
              "    <tr>\n",
              "      <th>0.20</th>\n",
              "      <td>0.5793</td>\n",
              "      <td>0.5832</td>\n",
              "      <td>0.5871</td>\n",
              "      <td>0.5910</td>\n",
              "      <td>0.5948</td>\n",
              "      <td>0.5987</td>\n",
              "      <td>0.6026</td>\n",
              "      <td>0.6064</td>\n",
              "      <td>0.6103</td>\n",
              "      <td>0.6141</td>\n",
              "    </tr>\n",
              "    <tr>\n",
              "      <th>0.30</th>\n",
              "      <td>0.6179</td>\n",
              "      <td>0.6217</td>\n",
              "      <td>0.6255</td>\n",
              "      <td>0.6293</td>\n",
              "      <td>0.6331</td>\n",
              "      <td>0.6368</td>\n",
              "      <td>0.6406</td>\n",
              "      <td>0.6443</td>\n",
              "      <td>0.6480</td>\n",
              "      <td>0.6517</td>\n",
              "    </tr>\n",
              "    <tr>\n",
              "      <th>0.40</th>\n",
              "      <td>0.6554</td>\n",
              "      <td>0.6591</td>\n",
              "      <td>0.6628</td>\n",
              "      <td>0.6664</td>\n",
              "      <td>0.6700</td>\n",
              "      <td>0.6736</td>\n",
              "      <td>0.6772</td>\n",
              "      <td>0.6808</td>\n",
              "      <td>0.6844</td>\n",
              "      <td>0.6879</td>\n",
              "    </tr>\n",
              "    <tr>\n",
              "      <th>0.50</th>\n",
              "      <td>0.6915</td>\n",
              "      <td>0.6950</td>\n",
              "      <td>0.6985</td>\n",
              "      <td>0.7019</td>\n",
              "      <td>0.7054</td>\n",
              "      <td>0.7088</td>\n",
              "      <td>0.7123</td>\n",
              "      <td>0.7157</td>\n",
              "      <td>0.7190</td>\n",
              "      <td>0.7224</td>\n",
              "    </tr>\n",
              "    <tr>\n",
              "      <th>0.60</th>\n",
              "      <td>0.7257</td>\n",
              "      <td>0.7291</td>\n",
              "      <td>0.7324</td>\n",
              "      <td>0.7357</td>\n",
              "      <td>0.7389</td>\n",
              "      <td>0.7422</td>\n",
              "      <td>0.7454</td>\n",
              "      <td>0.7486</td>\n",
              "      <td>0.7517</td>\n",
              "      <td>0.7549</td>\n",
              "    </tr>\n",
              "    <tr>\n",
              "      <th>0.70</th>\n",
              "      <td>0.7580</td>\n",
              "      <td>0.7611</td>\n",
              "      <td>0.7642</td>\n",
              "      <td>0.7673</td>\n",
              "      <td>0.7704</td>\n",
              "      <td>0.7734</td>\n",
              "      <td>0.7764</td>\n",
              "      <td>0.7794</td>\n",
              "      <td>0.7823</td>\n",
              "      <td>0.7852</td>\n",
              "    </tr>\n",
              "    <tr>\n",
              "      <th>0.80</th>\n",
              "      <td>0.7881</td>\n",
              "      <td>0.7910</td>\n",
              "      <td>0.7939</td>\n",
              "      <td>0.7967</td>\n",
              "      <td>0.7995</td>\n",
              "      <td>0.8023</td>\n",
              "      <td>0.8051</td>\n",
              "      <td>0.8078</td>\n",
              "      <td>0.8106</td>\n",
              "      <td>0.8133</td>\n",
              "    </tr>\n",
              "    <tr>\n",
              "      <th>0.90</th>\n",
              "      <td>0.8159</td>\n",
              "      <td>0.8186</td>\n",
              "      <td>0.8212</td>\n",
              "      <td>0.8238</td>\n",
              "      <td>0.8264</td>\n",
              "      <td>0.8289</td>\n",
              "      <td>0.8315</td>\n",
              "      <td>0.8340</td>\n",
              "      <td>0.8365</td>\n",
              "      <td>0.8389</td>\n",
              "    </tr>\n",
              "    <tr>\n",
              "      <th>1.00</th>\n",
              "      <td>0.8413</td>\n",
              "      <td>0.8438</td>\n",
              "      <td>0.8461</td>\n",
              "      <td>0.8485</td>\n",
              "      <td>0.8508</td>\n",
              "      <td>0.8531</td>\n",
              "      <td>0.8554</td>\n",
              "      <td>0.8577</td>\n",
              "      <td>0.8599</td>\n",
              "      <td>0.8621</td>\n",
              "    </tr>\n",
              "    <tr>\n",
              "      <th>1.10</th>\n",
              "      <td>0.8643</td>\n",
              "      <td>0.8665</td>\n",
              "      <td>0.8686</td>\n",
              "      <td>0.8708</td>\n",
              "      <td>0.8729</td>\n",
              "      <td>0.8749</td>\n",
              "      <td>0.8770</td>\n",
              "      <td>0.8790</td>\n",
              "      <td>0.8810</td>\n",
              "      <td>0.8830</td>\n",
              "    </tr>\n",
              "    <tr>\n",
              "      <th>1.20</th>\n",
              "      <td>0.8849</td>\n",
              "      <td>0.8869</td>\n",
              "      <td>0.8888</td>\n",
              "      <td>0.8907</td>\n",
              "      <td>0.8925</td>\n",
              "      <td>0.8944</td>\n",
              "      <td>0.8962</td>\n",
              "      <td>0.8980</td>\n",
              "      <td>0.8997</td>\n",
              "      <td>0.9015</td>\n",
              "    </tr>\n",
              "    <tr>\n",
              "      <th>1.30</th>\n",
              "      <td>0.9032</td>\n",
              "      <td>0.9049</td>\n",
              "      <td>0.9066</td>\n",
              "      <td>0.9082</td>\n",
              "      <td>0.9099</td>\n",
              "      <td>0.9115</td>\n",
              "      <td>0.9131</td>\n",
              "      <td>0.9147</td>\n",
              "      <td>0.9162</td>\n",
              "      <td>0.9177</td>\n",
              "    </tr>\n",
              "    <tr>\n",
              "      <th>1.40</th>\n",
              "      <td>0.9192</td>\n",
              "      <td>0.9207</td>\n",
              "      <td>0.9222</td>\n",
              "      <td>0.9236</td>\n",
              "      <td>0.9251</td>\n",
              "      <td>0.9265</td>\n",
              "      <td>0.9279</td>\n",
              "      <td>0.9292</td>\n",
              "      <td>0.9306</td>\n",
              "      <td>0.9319</td>\n",
              "    </tr>\n",
              "    <tr>\n",
              "      <th>1.50</th>\n",
              "      <td>0.9332</td>\n",
              "      <td>0.9345</td>\n",
              "      <td>0.9357</td>\n",
              "      <td>0.9370</td>\n",
              "      <td>0.9382</td>\n",
              "      <td>0.9394</td>\n",
              "      <td>0.9406</td>\n",
              "      <td>0.9418</td>\n",
              "      <td>0.9429</td>\n",
              "      <td>0.9441</td>\n",
              "    </tr>\n",
              "    <tr>\n",
              "      <th>1.60</th>\n",
              "      <td>0.9452</td>\n",
              "      <td>0.9463</td>\n",
              "      <td>0.9474</td>\n",
              "      <td>0.9484</td>\n",
              "      <td>0.9495</td>\n",
              "      <td>0.9505</td>\n",
              "      <td>0.9515</td>\n",
              "      <td>0.9525</td>\n",
              "      <td>0.9535</td>\n",
              "      <td>0.9545</td>\n",
              "    </tr>\n",
              "    <tr>\n",
              "      <th>1.70</th>\n",
              "      <td>0.9554</td>\n",
              "      <td>0.9564</td>\n",
              "      <td>0.9573</td>\n",
              "      <td>0.9582</td>\n",
              "      <td>0.9591</td>\n",
              "      <td>0.9599</td>\n",
              "      <td>0.9608</td>\n",
              "      <td>0.9616</td>\n",
              "      <td>0.9625</td>\n",
              "      <td>0.9633</td>\n",
              "    </tr>\n",
              "    <tr>\n",
              "      <th>1.80</th>\n",
              "      <td>0.9641</td>\n",
              "      <td>0.9649</td>\n",
              "      <td>0.9656</td>\n",
              "      <td>0.9664</td>\n",
              "      <td>0.9671</td>\n",
              "      <td>0.9678</td>\n",
              "      <td>0.9686</td>\n",
              "      <td>0.9693</td>\n",
              "      <td>0.9699</td>\n",
              "      <td>0.9706</td>\n",
              "    </tr>\n",
              "    <tr>\n",
              "      <th>1.90</th>\n",
              "      <td>0.9713</td>\n",
              "      <td>0.9719</td>\n",
              "      <td>0.9726</td>\n",
              "      <td>0.9732</td>\n",
              "      <td>0.9738</td>\n",
              "      <td>0.9744</td>\n",
              "      <td>0.9750</td>\n",
              "      <td>0.9756</td>\n",
              "      <td>0.9761</td>\n",
              "      <td>0.9767</td>\n",
              "    </tr>\n",
              "    <tr>\n",
              "      <th>2.00</th>\n",
              "      <td>0.9772</td>\n",
              "      <td>0.9778</td>\n",
              "      <td>0.9783</td>\n",
              "      <td>0.9788</td>\n",
              "      <td>0.9793</td>\n",
              "      <td>0.9798</td>\n",
              "      <td>0.9803</td>\n",
              "      <td>0.9808</td>\n",
              "      <td>0.9812</td>\n",
              "      <td>0.9817</td>\n",
              "    </tr>\n",
              "    <tr>\n",
              "      <th>2.10</th>\n",
              "      <td>0.9821</td>\n",
              "      <td>0.9826</td>\n",
              "      <td>0.9830</td>\n",
              "      <td>0.9834</td>\n",
              "      <td>0.9838</td>\n",
              "      <td>0.9842</td>\n",
              "      <td>0.9846</td>\n",
              "      <td>0.9850</td>\n",
              "      <td>0.9854</td>\n",
              "      <td>0.9857</td>\n",
              "    </tr>\n",
              "    <tr>\n",
              "      <th>2.20</th>\n",
              "      <td>0.9861</td>\n",
              "      <td>0.9864</td>\n",
              "      <td>0.9868</td>\n",
              "      <td>0.9871</td>\n",
              "      <td>0.9875</td>\n",
              "      <td>0.9878</td>\n",
              "      <td>0.9881</td>\n",
              "      <td>0.9884</td>\n",
              "      <td>0.9887</td>\n",
              "      <td>0.9890</td>\n",
              "    </tr>\n",
              "    <tr>\n",
              "      <th>2.30</th>\n",
              "      <td>0.9893</td>\n",
              "      <td>0.9896</td>\n",
              "      <td>0.9898</td>\n",
              "      <td>0.9901</td>\n",
              "      <td>0.9904</td>\n",
              "      <td>0.9906</td>\n",
              "      <td>0.9909</td>\n",
              "      <td>0.9911</td>\n",
              "      <td>0.9913</td>\n",
              "      <td>0.9916</td>\n",
              "    </tr>\n",
              "    <tr>\n",
              "      <th>2.40</th>\n",
              "      <td>0.9918</td>\n",
              "      <td>0.9920</td>\n",
              "      <td>0.9922</td>\n",
              "      <td>0.9925</td>\n",
              "      <td>0.9927</td>\n",
              "      <td>0.9929</td>\n",
              "      <td>0.9931</td>\n",
              "      <td>0.9932</td>\n",
              "      <td>0.9934</td>\n",
              "      <td>0.9936</td>\n",
              "    </tr>\n",
              "    <tr>\n",
              "      <th>2.50</th>\n",
              "      <td>0.9938</td>\n",
              "      <td>0.9940</td>\n",
              "      <td>0.9941</td>\n",
              "      <td>0.9943</td>\n",
              "      <td>0.9945</td>\n",
              "      <td>0.9946</td>\n",
              "      <td>0.9948</td>\n",
              "      <td>0.9949</td>\n",
              "      <td>0.9951</td>\n",
              "      <td>0.9952</td>\n",
              "    </tr>\n",
              "    <tr>\n",
              "      <th>2.60</th>\n",
              "      <td>0.9953</td>\n",
              "      <td>0.9955</td>\n",
              "      <td>0.9956</td>\n",
              "      <td>0.9957</td>\n",
              "      <td>0.9959</td>\n",
              "      <td>0.9960</td>\n",
              "      <td>0.9961</td>\n",
              "      <td>0.9962</td>\n",
              "      <td>0.9963</td>\n",
              "      <td>0.9964</td>\n",
              "    </tr>\n",
              "    <tr>\n",
              "      <th>2.70</th>\n",
              "      <td>0.9965</td>\n",
              "      <td>0.9966</td>\n",
              "      <td>0.9967</td>\n",
              "      <td>0.9968</td>\n",
              "      <td>0.9969</td>\n",
              "      <td>0.9970</td>\n",
              "      <td>0.9971</td>\n",
              "      <td>0.9972</td>\n",
              "      <td>0.9973</td>\n",
              "      <td>0.9974</td>\n",
              "    </tr>\n",
              "    <tr>\n",
              "      <th>2.80</th>\n",
              "      <td>0.9974</td>\n",
              "      <td>0.9975</td>\n",
              "      <td>0.9976</td>\n",
              "      <td>0.9977</td>\n",
              "      <td>0.9977</td>\n",
              "      <td>0.9978</td>\n",
              "      <td>0.9979</td>\n",
              "      <td>0.9979</td>\n",
              "      <td>0.9980</td>\n",
              "      <td>0.9981</td>\n",
              "    </tr>\n",
              "    <tr>\n",
              "      <th>2.90</th>\n",
              "      <td>0.9981</td>\n",
              "      <td>0.9982</td>\n",
              "      <td>0.9982</td>\n",
              "      <td>0.9983</td>\n",
              "      <td>0.9984</td>\n",
              "      <td>0.9984</td>\n",
              "      <td>0.9985</td>\n",
              "      <td>0.9985</td>\n",
              "      <td>0.9986</td>\n",
              "      <td>0.9986</td>\n",
              "    </tr>\n",
              "    <tr>\n",
              "      <th>3.00</th>\n",
              "      <td>0.9987</td>\n",
              "      <td>0.9987</td>\n",
              "      <td>0.9987</td>\n",
              "      <td>0.9988</td>\n",
              "      <td>0.9988</td>\n",
              "      <td>0.9989</td>\n",
              "      <td>0.9989</td>\n",
              "      <td>0.9989</td>\n",
              "      <td>0.9990</td>\n",
              "      <td>0.9990</td>\n",
              "    </tr>\n",
              "    <tr>\n",
              "      <th>3.10</th>\n",
              "      <td>0.9990</td>\n",
              "      <td>0.9991</td>\n",
              "      <td>0.9991</td>\n",
              "      <td>0.9991</td>\n",
              "      <td>0.9992</td>\n",
              "      <td>0.9992</td>\n",
              "      <td>0.9992</td>\n",
              "      <td>0.9992</td>\n",
              "      <td>0.9993</td>\n",
              "      <td>0.9993</td>\n",
              "    </tr>\n",
              "    <tr>\n",
              "      <th>3.20</th>\n",
              "      <td>0.9993</td>\n",
              "      <td>0.9993</td>\n",
              "      <td>0.9994</td>\n",
              "      <td>0.9994</td>\n",
              "      <td>0.9994</td>\n",
              "      <td>0.9994</td>\n",
              "      <td>0.9994</td>\n",
              "      <td>0.9995</td>\n",
              "      <td>0.9995</td>\n",
              "      <td>0.9995</td>\n",
              "    </tr>\n",
              "    <tr>\n",
              "      <th>3.30</th>\n",
              "      <td>0.9995</td>\n",
              "      <td>0.9995</td>\n",
              "      <td>0.9995</td>\n",
              "      <td>0.9996</td>\n",
              "      <td>0.9996</td>\n",
              "      <td>0.9996</td>\n",
              "      <td>0.9996</td>\n",
              "      <td>0.9996</td>\n",
              "      <td>0.9996</td>\n",
              "      <td>0.9997</td>\n",
              "    </tr>\n",
              "    <tr>\n",
              "      <th>3.40</th>\n",
              "      <td>0.9997</td>\n",
              "      <td>0.9997</td>\n",
              "      <td>0.9997</td>\n",
              "      <td>0.9997</td>\n",
              "      <td>0.9997</td>\n",
              "      <td>0.9997</td>\n",
              "      <td>0.9997</td>\n",
              "      <td>0.9997</td>\n",
              "      <td>0.9997</td>\n",
              "      <td>0.9998</td>\n",
              "    </tr>\n",
              "    <tr>\n",
              "      <th>3.50</th>\n",
              "      <td>0.9998</td>\n",
              "      <td>0.9998</td>\n",
              "      <td>0.9998</td>\n",
              "      <td>0.9998</td>\n",
              "      <td>0.9998</td>\n",
              "      <td>0.9998</td>\n",
              "      <td>0.9998</td>\n",
              "      <td>0.9998</td>\n",
              "      <td>0.9998</td>\n",
              "      <td>0.9998</td>\n",
              "    </tr>\n",
              "    <tr>\n",
              "      <th>3.60</th>\n",
              "      <td>0.9998</td>\n",
              "      <td>0.9998</td>\n",
              "      <td>0.9999</td>\n",
              "      <td>0.9999</td>\n",
              "      <td>0.9999</td>\n",
              "      <td>0.9999</td>\n",
              "      <td>0.9999</td>\n",
              "      <td>0.9999</td>\n",
              "      <td>0.9999</td>\n",
              "      <td>0.9999</td>\n",
              "    </tr>\n",
              "    <tr>\n",
              "      <th>3.70</th>\n",
              "      <td>0.9999</td>\n",
              "      <td>0.9999</td>\n",
              "      <td>0.9999</td>\n",
              "      <td>0.9999</td>\n",
              "      <td>0.9999</td>\n",
              "      <td>0.9999</td>\n",
              "      <td>0.9999</td>\n",
              "      <td>0.9999</td>\n",
              "      <td>0.9999</td>\n",
              "      <td>0.9999</td>\n",
              "    </tr>\n",
              "    <tr>\n",
              "      <th>3.80</th>\n",
              "      <td>0.9999</td>\n",
              "      <td>0.9999</td>\n",
              "      <td>0.9999</td>\n",
              "      <td>0.9999</td>\n",
              "      <td>0.9999</td>\n",
              "      <td>0.9999</td>\n",
              "      <td>0.9999</td>\n",
              "      <td>0.9999</td>\n",
              "      <td>0.9999</td>\n",
              "      <td>0.9999</td>\n",
              "    </tr>\n",
              "    <tr>\n",
              "      <th>3.90</th>\n",
              "      <td>1.0000</td>\n",
              "      <td>1.0000</td>\n",
              "      <td>1.0000</td>\n",
              "      <td>1.0000</td>\n",
              "      <td>1.0000</td>\n",
              "      <td>1.0000</td>\n",
              "      <td>1.0000</td>\n",
              "      <td>1.0000</td>\n",
              "      <td>1.0000</td>\n",
              "      <td>1.0000</td>\n",
              "    </tr>\n",
              "  </tbody>\n",
              "</table>\n",
              "</div>\n",
              "    <div class=\"colab-df-buttons\">\n",
              "\n",
              "  <div class=\"colab-df-container\">\n",
              "    <button class=\"colab-df-convert\" onclick=\"convertToInteractive('df-d1f5a118-3c2f-4f4e-85df-c2d53be3d69a')\"\n",
              "            title=\"Convert this dataframe to an interactive table.\"\n",
              "            style=\"display:none;\">\n",
              "\n",
              "  <svg xmlns=\"http://www.w3.org/2000/svg\" height=\"24px\" viewBox=\"0 -960 960 960\">\n",
              "    <path d=\"M120-120v-720h720v720H120Zm60-500h600v-160H180v160Zm220 220h160v-160H400v160Zm0 220h160v-160H400v160ZM180-400h160v-160H180v160Zm440 0h160v-160H620v160ZM180-180h160v-160H180v160Zm440 0h160v-160H620v160Z\"/>\n",
              "  </svg>\n",
              "    </button>\n",
              "\n",
              "  <style>\n",
              "    .colab-df-container {\n",
              "      display:flex;\n",
              "      gap: 12px;\n",
              "    }\n",
              "\n",
              "    .colab-df-convert {\n",
              "      background-color: #E8F0FE;\n",
              "      border: none;\n",
              "      border-radius: 50%;\n",
              "      cursor: pointer;\n",
              "      display: none;\n",
              "      fill: #1967D2;\n",
              "      height: 32px;\n",
              "      padding: 0 0 0 0;\n",
              "      width: 32px;\n",
              "    }\n",
              "\n",
              "    .colab-df-convert:hover {\n",
              "      background-color: #E2EBFA;\n",
              "      box-shadow: 0px 1px 2px rgba(60, 64, 67, 0.3), 0px 1px 3px 1px rgba(60, 64, 67, 0.15);\n",
              "      fill: #174EA6;\n",
              "    }\n",
              "\n",
              "    .colab-df-buttons div {\n",
              "      margin-bottom: 4px;\n",
              "    }\n",
              "\n",
              "    [theme=dark] .colab-df-convert {\n",
              "      background-color: #3B4455;\n",
              "      fill: #D2E3FC;\n",
              "    }\n",
              "\n",
              "    [theme=dark] .colab-df-convert:hover {\n",
              "      background-color: #434B5C;\n",
              "      box-shadow: 0px 1px 3px 1px rgba(0, 0, 0, 0.15);\n",
              "      filter: drop-shadow(0px 1px 2px rgba(0, 0, 0, 0.3));\n",
              "      fill: #FFFFFF;\n",
              "    }\n",
              "  </style>\n",
              "\n",
              "    <script>\n",
              "      const buttonEl =\n",
              "        document.querySelector('#df-d1f5a118-3c2f-4f4e-85df-c2d53be3d69a button.colab-df-convert');\n",
              "      buttonEl.style.display =\n",
              "        google.colab.kernel.accessAllowed ? 'block' : 'none';\n",
              "\n",
              "      async function convertToInteractive(key) {\n",
              "        const element = document.querySelector('#df-d1f5a118-3c2f-4f4e-85df-c2d53be3d69a');\n",
              "        const dataTable =\n",
              "          await google.colab.kernel.invokeFunction('convertToInteractive',\n",
              "                                                    [key], {});\n",
              "        if (!dataTable) return;\n",
              "\n",
              "        const docLinkHtml = 'Like what you see? Visit the ' +\n",
              "          '<a target=\"_blank\" href=https://colab.research.google.com/notebooks/data_table.ipynb>data table notebook</a>'\n",
              "          + ' to learn more about interactive tables.';\n",
              "        element.innerHTML = '';\n",
              "        dataTable['output_type'] = 'display_data';\n",
              "        await google.colab.output.renderOutput(dataTable, element);\n",
              "        const docLink = document.createElement('div');\n",
              "        docLink.innerHTML = docLinkHtml;\n",
              "        element.appendChild(docLink);\n",
              "      }\n",
              "    </script>\n",
              "  </div>\n",
              "\n",
              "\n",
              "    <div id=\"df-f9255afd-25cd-449a-8468-dedc7e33a35d\">\n",
              "      <button class=\"colab-df-quickchart\" onclick=\"quickchart('df-f9255afd-25cd-449a-8468-dedc7e33a35d')\"\n",
              "                title=\"Suggest charts\"\n",
              "                style=\"display:none;\">\n",
              "\n",
              "<svg xmlns=\"http://www.w3.org/2000/svg\" height=\"24px\"viewBox=\"0 0 24 24\"\n",
              "     width=\"24px\">\n",
              "    <g>\n",
              "        <path d=\"M19 3H5c-1.1 0-2 .9-2 2v14c0 1.1.9 2 2 2h14c1.1 0 2-.9 2-2V5c0-1.1-.9-2-2-2zM9 17H7v-7h2v7zm4 0h-2V7h2v10zm4 0h-2v-4h2v4z\"/>\n",
              "    </g>\n",
              "</svg>\n",
              "      </button>\n",
              "\n",
              "<style>\n",
              "  .colab-df-quickchart {\n",
              "      --bg-color: #E8F0FE;\n",
              "      --fill-color: #1967D2;\n",
              "      --hover-bg-color: #E2EBFA;\n",
              "      --hover-fill-color: #174EA6;\n",
              "      --disabled-fill-color: #AAA;\n",
              "      --disabled-bg-color: #DDD;\n",
              "  }\n",
              "\n",
              "  [theme=dark] .colab-df-quickchart {\n",
              "      --bg-color: #3B4455;\n",
              "      --fill-color: #D2E3FC;\n",
              "      --hover-bg-color: #434B5C;\n",
              "      --hover-fill-color: #FFFFFF;\n",
              "      --disabled-bg-color: #3B4455;\n",
              "      --disabled-fill-color: #666;\n",
              "  }\n",
              "\n",
              "  .colab-df-quickchart {\n",
              "    background-color: var(--bg-color);\n",
              "    border: none;\n",
              "    border-radius: 50%;\n",
              "    cursor: pointer;\n",
              "    display: none;\n",
              "    fill: var(--fill-color);\n",
              "    height: 32px;\n",
              "    padding: 0;\n",
              "    width: 32px;\n",
              "  }\n",
              "\n",
              "  .colab-df-quickchart:hover {\n",
              "    background-color: var(--hover-bg-color);\n",
              "    box-shadow: 0 1px 2px rgba(60, 64, 67, 0.3), 0 1px 3px 1px rgba(60, 64, 67, 0.15);\n",
              "    fill: var(--button-hover-fill-color);\n",
              "  }\n",
              "\n",
              "  .colab-df-quickchart-complete:disabled,\n",
              "  .colab-df-quickchart-complete:disabled:hover {\n",
              "    background-color: var(--disabled-bg-color);\n",
              "    fill: var(--disabled-fill-color);\n",
              "    box-shadow: none;\n",
              "  }\n",
              "\n",
              "  .colab-df-spinner {\n",
              "    border: 2px solid var(--fill-color);\n",
              "    border-color: transparent;\n",
              "    border-bottom-color: var(--fill-color);\n",
              "    animation:\n",
              "      spin 1s steps(1) infinite;\n",
              "  }\n",
              "\n",
              "  @keyframes spin {\n",
              "    0% {\n",
              "      border-color: transparent;\n",
              "      border-bottom-color: var(--fill-color);\n",
              "      border-left-color: var(--fill-color);\n",
              "    }\n",
              "    20% {\n",
              "      border-color: transparent;\n",
              "      border-left-color: var(--fill-color);\n",
              "      border-top-color: var(--fill-color);\n",
              "    }\n",
              "    30% {\n",
              "      border-color: transparent;\n",
              "      border-left-color: var(--fill-color);\n",
              "      border-top-color: var(--fill-color);\n",
              "      border-right-color: var(--fill-color);\n",
              "    }\n",
              "    40% {\n",
              "      border-color: transparent;\n",
              "      border-right-color: var(--fill-color);\n",
              "      border-top-color: var(--fill-color);\n",
              "    }\n",
              "    60% {\n",
              "      border-color: transparent;\n",
              "      border-right-color: var(--fill-color);\n",
              "    }\n",
              "    80% {\n",
              "      border-color: transparent;\n",
              "      border-right-color: var(--fill-color);\n",
              "      border-bottom-color: var(--fill-color);\n",
              "    }\n",
              "    90% {\n",
              "      border-color: transparent;\n",
              "      border-bottom-color: var(--fill-color);\n",
              "    }\n",
              "  }\n",
              "</style>\n",
              "\n",
              "      <script>\n",
              "        async function quickchart(key) {\n",
              "          const quickchartButtonEl =\n",
              "            document.querySelector('#' + key + ' button');\n",
              "          quickchartButtonEl.disabled = true;  // To prevent multiple clicks.\n",
              "          quickchartButtonEl.classList.add('colab-df-spinner');\n",
              "          try {\n",
              "            const charts = await google.colab.kernel.invokeFunction(\n",
              "                'suggestCharts', [key], {});\n",
              "          } catch (error) {\n",
              "            console.error('Error during call to suggestCharts:', error);\n",
              "          }\n",
              "          quickchartButtonEl.classList.remove('colab-df-spinner');\n",
              "          quickchartButtonEl.classList.add('colab-df-quickchart-complete');\n",
              "        }\n",
              "        (() => {\n",
              "          let quickchartButtonEl =\n",
              "            document.querySelector('#df-f9255afd-25cd-449a-8468-dedc7e33a35d button');\n",
              "          quickchartButtonEl.style.display =\n",
              "            google.colab.kernel.accessAllowed ? 'block' : 'none';\n",
              "        })();\n",
              "      </script>\n",
              "    </div>\n",
              "\n",
              "  <div id=\"id_369def0d-9c3c-4fe3-8eb0-6a89d7c9b7b3\">\n",
              "    <style>\n",
              "      .colab-df-generate {\n",
              "        background-color: #E8F0FE;\n",
              "        border: none;\n",
              "        border-radius: 50%;\n",
              "        cursor: pointer;\n",
              "        display: none;\n",
              "        fill: #1967D2;\n",
              "        height: 32px;\n",
              "        padding: 0 0 0 0;\n",
              "        width: 32px;\n",
              "      }\n",
              "\n",
              "      .colab-df-generate:hover {\n",
              "        background-color: #E2EBFA;\n",
              "        box-shadow: 0px 1px 2px rgba(60, 64, 67, 0.3), 0px 1px 3px 1px rgba(60, 64, 67, 0.15);\n",
              "        fill: #174EA6;\n",
              "      }\n",
              "\n",
              "      [theme=dark] .colab-df-generate {\n",
              "        background-color: #3B4455;\n",
              "        fill: #D2E3FC;\n",
              "      }\n",
              "\n",
              "      [theme=dark] .colab-df-generate:hover {\n",
              "        background-color: #434B5C;\n",
              "        box-shadow: 0px 1px 3px 1px rgba(0, 0, 0, 0.15);\n",
              "        filter: drop-shadow(0px 1px 2px rgba(0, 0, 0, 0.3));\n",
              "        fill: #FFFFFF;\n",
              "      }\n",
              "    </style>\n",
              "    <button class=\"colab-df-generate\" onclick=\"generateWithVariable('tabela_normal_padronizada')\"\n",
              "            title=\"Generate code using this dataframe.\"\n",
              "            style=\"display:none;\">\n",
              "\n",
              "  <svg xmlns=\"http://www.w3.org/2000/svg\" height=\"24px\"viewBox=\"0 0 24 24\"\n",
              "       width=\"24px\">\n",
              "    <path d=\"M7,19H8.4L18.45,9,17,7.55,7,17.6ZM5,21V16.75L18.45,3.32a2,2,0,0,1,2.83,0l1.4,1.43a1.91,1.91,0,0,1,.58,1.4,1.91,1.91,0,0,1-.58,1.4L9.25,21ZM18.45,9,17,7.55Zm-12,3A5.31,5.31,0,0,0,4.9,8.1,5.31,5.31,0,0,0,1,6.5,5.31,5.31,0,0,0,4.9,4.9,5.31,5.31,0,0,0,6.5,1,5.31,5.31,0,0,0,8.1,4.9,5.31,5.31,0,0,0,12,6.5,5.46,5.46,0,0,0,6.5,12Z\"/>\n",
              "  </svg>\n",
              "    </button>\n",
              "    <script>\n",
              "      (() => {\n",
              "      const buttonEl =\n",
              "        document.querySelector('#id_369def0d-9c3c-4fe3-8eb0-6a89d7c9b7b3 button.colab-df-generate');\n",
              "      buttonEl.style.display =\n",
              "        google.colab.kernel.accessAllowed ? 'block' : 'none';\n",
              "\n",
              "      buttonEl.onclick = () => {\n",
              "        google.colab.notebook.generateWithVariable('tabela_normal_padronizada');\n",
              "      }\n",
              "      })();\n",
              "    </script>\n",
              "  </div>\n",
              "\n",
              "    </div>\n",
              "  </div>\n"
            ],
            "application/vnd.google.colaboratory.intrinsic+json": {
              "type": "dataframe",
              "variable_name": "tabela_normal_padronizada",
              "summary": "{\n  \"name\": \"tabela_normal_padronizada\",\n  \"rows\": 40,\n  \"fields\": [\n    {\n      \"column\": \"0.00\",\n      \"properties\": {\n        \"dtype\": \"string\",\n        \"num_unique_values\": 38,\n        \"samples\": [\n          \"0.9995\",\n          \"0.9999\",\n          \"0.6554\"\n        ],\n        \"semantic_type\": \"\",\n        \"description\": \"\"\n      }\n    },\n    {\n      \"column\": \"0.01\",\n      \"properties\": {\n        \"dtype\": \"string\",\n        \"num_unique_values\": 38,\n        \"samples\": [\n          \"0.9995\",\n          \"0.9999\",\n          \"0.6591\"\n        ],\n        \"semantic_type\": \"\",\n        \"description\": \"\"\n      }\n    },\n    {\n      \"column\": \"0.02\",\n      \"properties\": {\n        \"dtype\": \"string\",\n        \"num_unique_values\": 38,\n        \"samples\": [\n          \"0.9995\",\n          \"0.9999\",\n          \"0.6628\"\n        ],\n        \"semantic_type\": \"\",\n        \"description\": \"\"\n      }\n    },\n    {\n      \"column\": \"0.03\",\n      \"properties\": {\n        \"dtype\": \"string\",\n        \"num_unique_values\": 38,\n        \"samples\": [\n          \"0.9996\",\n          \"0.9999\",\n          \"0.6664\"\n        ],\n        \"semantic_type\": \"\",\n        \"description\": \"\"\n      }\n    },\n    {\n      \"column\": \"0.04\",\n      \"properties\": {\n        \"dtype\": \"string\",\n        \"num_unique_values\": 38,\n        \"samples\": [\n          \"0.9996\",\n          \"0.9999\",\n          \"0.6700\"\n        ],\n        \"semantic_type\": \"\",\n        \"description\": \"\"\n      }\n    },\n    {\n      \"column\": \"0.05\",\n      \"properties\": {\n        \"dtype\": \"string\",\n        \"num_unique_values\": 38,\n        \"samples\": [\n          \"0.9996\",\n          \"0.9999\",\n          \"0.6736\"\n        ],\n        \"semantic_type\": \"\",\n        \"description\": \"\"\n      }\n    },\n    {\n      \"column\": \"0.06\",\n      \"properties\": {\n        \"dtype\": \"string\",\n        \"num_unique_values\": 38,\n        \"samples\": [\n          \"0.9996\",\n          \"0.9999\",\n          \"0.6772\"\n        ],\n        \"semantic_type\": \"\",\n        \"description\": \"\"\n      }\n    },\n    {\n      \"column\": \"0.07\",\n      \"properties\": {\n        \"dtype\": \"string\",\n        \"num_unique_values\": 38,\n        \"samples\": [\n          \"0.9996\",\n          \"0.9999\",\n          \"0.6808\"\n        ],\n        \"semantic_type\": \"\",\n        \"description\": \"\"\n      }\n    },\n    {\n      \"column\": \"0.08\",\n      \"properties\": {\n        \"dtype\": \"string\",\n        \"num_unique_values\": 38,\n        \"samples\": [\n          \"0.9996\",\n          \"0.9999\",\n          \"0.6844\"\n        ],\n        \"semantic_type\": \"\",\n        \"description\": \"\"\n      }\n    },\n    {\n      \"column\": \"0.09\",\n      \"properties\": {\n        \"dtype\": \"string\",\n        \"num_unique_values\": 37,\n        \"samples\": [\n          \"0.9633\",\n          \"0.9177\",\n          \"0.6879\"\n        ],\n        \"semantic_type\": \"\",\n        \"description\": \"\"\n      }\n    }\n  ]\n}"
            }
          },
          "metadata": {},
          "execution_count": 4
        }
      ],
      "source": [
        "import pandas as pd\n",
        "import numpy as np\n",
        "from scipy.stats import norm\n",
        "\n",
        "tabela_normal_padronizada = pd.DataFrame(\n",
        "    [],\n",
        "    index=[\"{0:0.2f}\".format(i / 100) for i in range(0, 400, 10)],\n",
        "    columns = [\"{0:0.2f}\".format(i / 100) for i in range(0, 10)])\n",
        "\n",
        "for index in tabela_normal_padronizada.index:\n",
        "    for column in tabela_normal_padronizada.columns:\n",
        "        Z = np.round(float(index) + float(column), 2)\n",
        "        tabela_normal_padronizada.loc[index, column] = \"{0:0.4f}\".format(norm.cdf(Z))\n",
        "\n",
        "tabela_normal_padronizada.rename_axis('Z', axis = 'columns', inplace = True)\n",
        "\n",
        "tabela_normal_padronizada"
      ]
    },
    {
      "cell_type": "markdown",
      "source": [
        "A área que estamos procurando está sob a curva normal. O pico está na média de 1,70 metros partindo a distribuição exatamente ao meio. Deste ponto em diante, sabemos que estão 50%, então a probabilidade até este é de 0.5.\n",
        "\n",
        "Porém, ainda não sabemos a distância entre o ponto do problema em 1,80 metros até a média, e deveremos descobrir com a tabela padronizada em mente, calculando de menos infinito até Z.\n",
        "\n",
        "Padronizaremos essa variável para consultarmos a tabela e sabermos a área que vai de menos infinito até a variável original em 1,80 metros.\n",
        "\n",
        "Na parte \"Obter a variável padronizada Z\" do notebook, o problema já nos diz que a media será igual a 1.7 metros."
      ],
      "metadata": {
        "id": "opAQkjTcyw6G"
      }
    },
    {
      "cell_type": "markdown",
      "metadata": {
        "id": "XHYeMaN3G3D9"
      },
      "source": [
        "<img src='https://caelum-online-public.s3.amazonaws.com/1178-estatistica-parte2/01/img003.png' width='250px'>\n",
        "\n",
        "A tabela acima fornece a área sob a curva entre $-\\infty$ e $Z$ desvios padrão acima da média. Lembrando que por se tratar de valores padronizados temos $\\mu = 0$."
      ]
    },
    {
      "cell_type": "markdown",
      "metadata": {
        "id": "Bs-KyZAJG3D-"
      },
      "source": [
        "## <font color='blue'>Exemplo: Qual sua altura?</font>"
      ]
    },
    {
      "cell_type": "markdown",
      "metadata": {
        "id": "8PFIjXejG3EA"
      },
      "source": [
        "Em um estudo sobre as alturas dos moradores de uma cidade verificou-se que o conjunto de dados segue uma **distribuição aproximadamente normal**, com **média 1,70** e **desvio padrão de 0,1**. Com estas informações obtenha o seguinte conjunto de probabilidades:\n",
        "\n",
        "> **A.** probabilidade de uma pessoa, selecionada ao acaso, ter menos de 1,80 metros.\n",
        "\n",
        "> **B.** probabilidade de uma pessoa, selecionada ao acaso, ter entre 1,60 metros e 1,80 metros.    \n",
        "\n",
        "> **C.** probabilidade de uma pessoa, selecionada ao acaso, ter mais de 1,90 metros."
      ]
    },
    {
      "cell_type": "markdown",
      "metadata": {
        "id": "aHpZLwt1G3EC"
      },
      "source": [
        "### Problema A - Identificação da área sob a curva"
      ]
    },
    {
      "cell_type": "markdown",
      "metadata": {
        "id": "V1eC7tydG3EF"
      },
      "source": [
        "<img style='float: left' src='https://caelum-online-public.s3.amazonaws.com/1178-estatistica-parte2/01/img004.png' width='350px'>"
      ]
    },
    {
      "cell_type": "markdown",
      "metadata": {
        "id": "X61wEuRrG3EI"
      },
      "source": [
        "### Obter a variável padronizada $Z$"
      ]
    },
    {
      "cell_type": "markdown",
      "source": [
        "Na parte \"Obter a variável padronizada Z\" do notebook, o problema já nos diz que a media será igual a 1.7 metros."
      ],
      "metadata": {
        "id": "bYAxZrwTy_qz"
      }
    },
    {
      "cell_type": "code",
      "execution_count": null,
      "metadata": {
        "colab": {
          "base_uri": "https://localhost:8080/"
        },
        "id": "gNSNIMvZG3EK",
        "outputId": "4f5bd1a7-657d-44d1-af3b-88036512c215"
      },
      "outputs": [
        {
          "output_type": "execute_result",
          "data": {
            "text/plain": [
              "1.7"
            ]
          },
          "metadata": {},
          "execution_count": 5
        }
      ],
      "source": [
        "media = 1.7\n",
        "media"
      ]
    },
    {
      "cell_type": "markdown",
      "source": [
        "Na célula seguinte, o desvio_padrao é 0.1."
      ],
      "metadata": {
        "id": "cBrOGb0-zGWw"
      }
    },
    {
      "cell_type": "code",
      "execution_count": null,
      "metadata": {
        "colab": {
          "base_uri": "https://localhost:8080/"
        },
        "id": "E_f2lycRG3ES",
        "outputId": "5a2a45b0-79e5-4be0-ee82-abae9d8fb8e1"
      },
      "outputs": [
        {
          "output_type": "execute_result",
          "data": {
            "text/plain": [
              "0.1"
            ]
          },
          "metadata": {},
          "execution_count": 6
        }
      ],
      "source": [
        "desvio_padrao = 0.1\n",
        "desvio_padrao"
      ]
    },
    {
      "cell_type": "markdown",
      "source": [
        "Segundo a fórmula, sabemos que Z é igual a x da variável original 1.8 menos a media dividido pelo desvio_padrao. Então digitaremos o cálculo:"
      ],
      "metadata": {
        "id": "CFPz0SrvzPod"
      }
    },
    {
      "cell_type": "code",
      "execution_count": null,
      "metadata": {
        "colab": {
          "base_uri": "https://localhost:8080/"
        },
        "id": "xnsCkUb6G3EX",
        "outputId": "0b814ef6-64e8-4e4e-9406-ce781f4a3637"
      },
      "outputs": [
        {
          "output_type": "execute_result",
          "data": {
            "text/plain": [
              "1.0000000000000009"
            ]
          },
          "metadata": {},
          "execution_count": 7
        }
      ],
      "source": [
        "Z = (1.8 - media) / desvio_padrao\n",
        "Z"
      ]
    },
    {
      "cell_type": "markdown",
      "source": [
        "Como retorno, saberemos que Z é igual a praticamente 1.0.\n",
        "\n",
        "Para consultarmos a tabela e obtermos a probabilidade na \"Solução 1 - Utilizando tabela\", escreveremos que a variável probabilidade será igual ao valor consultado.\n",
        "\n",
        "O Z será construído com a soma do valor da linha com o da coluna. Por exemplo, se tivermos Z igual a 0.15 e encontrarmos a linha onde Z é 0.1, deveremos saber quanto falta para chegarmos no 0.15, ou seja, faltam 0.05.\n",
        "\n",
        "Na tabela criada com o DataFrame na parte \"Construindo tabela normal padronizada\", pegaremos o valor da coluna 0.05 que cruza com o correspondente a linha 0.10 da coluna Z."
      ],
      "metadata": {
        "id": "vzn0SCqXzXwd"
      }
    },
    {
      "cell_type": "markdown",
      "source": [
        "Neste exemplo, pegaríamos o valor 0.5596 correspondente a Z igual a 0.15.\n",
        "\n",
        "Em nosso problema, não precisaremos fazer esta soma porque Z foi igual a 1. Ou seja, iremos até a linha 1.00 da coluna Z e cruzaremos com o valor da coluna 0.00.\n",
        "\n",
        "Com isso, teremos o valor 0.8413 que queríamos, então o copiaremos para dentro da variável probabilidade na \"Solução 1\"."
      ],
      "metadata": {
        "id": "jtplmTdAz7p9"
      }
    },
    {
      "cell_type": "markdown",
      "metadata": {
        "id": "oj9sgHbkG3Eb"
      },
      "source": [
        "### Solução 1 - Utilizando tabela"
      ]
    },
    {
      "cell_type": "code",
      "execution_count": null,
      "metadata": {
        "colab": {
          "base_uri": "https://localhost:8080/"
        },
        "id": "ReDTH3WgG3Ec",
        "outputId": "84b1c192-59fe-4bd9-b572-a1b54ab4ebde"
      },
      "outputs": [
        {
          "output_type": "execute_result",
          "data": {
            "text/plain": [
              "0.8413"
            ]
          },
          "metadata": {},
          "execution_count": 8
        }
      ],
      "source": [
        "probabilidade = 0.8413\n",
        "probabilidade"
      ]
    },
    {
      "cell_type": "markdown",
      "source": [
        "Portanto, a chance de encontrarmos alguém com menos de 1,80 metros de altura selecionando aleatoriamente é de 84.13%.\n",
        "\n",
        "Conheceremos uma forma mais simples de fazer este cálculo utilizando o SciPy, então importaremos norm da biblioteca scipy.stats em \"Solução 2\" para ficar bem claro."
      ],
      "metadata": {
        "id": "F-j-s9F00TG5"
      }
    },
    {
      "cell_type": "markdown",
      "metadata": {
        "id": "4ud0OnQOG3Eh"
      },
      "source": [
        "### Solução 2 - Utilizando Scipy"
      ]
    },
    {
      "cell_type": "code",
      "execution_count": null,
      "metadata": {
        "colab": {
          "base_uri": "https://localhost:8080/"
        },
        "id": "sx7riZVlG3Ei",
        "outputId": "5bc39a24-a4c7-440d-966f-2a0917e93b71"
      },
      "outputs": [
        {
          "output_type": "execute_result",
          "data": {
            "text/plain": [
              "np.float64(0.8413447460685431)"
            ]
          },
          "metadata": {},
          "execution_count": 9
        }
      ],
      "source": [
        "from scipy.stats import norm\n",
        "norm.cdf(Z)"
      ]
    },
    {
      "cell_type": "markdown",
      "source": [
        "Nesta mesma parte do notebook, encontraremos um [link para a documentação deste método](https://).\n",
        "\n",
        "Precisaremos justamente encontrar o .cdf() que corresponde a cumulative distribution function, o qual é usado para preencher as células do DataFrame.\n",
        "\n",
        "Na linha seguinte da célula, chamaremos norm com .cdf() recebendo o Z encontrado na tabela. Pode ser que apareça um valor um pouco diferente porque está usando outro tipo e não a tabela que geramos, a qual está arredondada e simplificada para nosso problema."
      ],
      "metadata": {
        "id": "vWnq87XF0dcP"
      }
    },
    {
      "cell_type": "code",
      "source": [
        "from scipy.stats import norm\n",
        "norm.cdf(Z)"
      ],
      "metadata": {
        "colab": {
          "base_uri": "https://localhost:8080/"
        },
        "id": "U9CVN0gb0rBV",
        "outputId": "51e52274-56ad-4e3e-b5bf-54b2b3f096fa"
      },
      "execution_count": null,
      "outputs": [
        {
          "output_type": "execute_result",
          "data": {
            "text/plain": [
              "np.float64(0.8413447460685431)"
            ]
          },
          "metadata": {},
          "execution_count": 10
        }
      ]
    },
    {
      "cell_type": "markdown",
      "source": [
        "Como retorno, teremos basicamente as mesmas primeiras casas decimais 0.8413, pois o Z não é exatamente 1 e sim 1.0000000000000009 para um cálculo mais exato. Caálculo exato é utilizando Python, pela tabela obtemos um valor pr´ximo.\n",
        "\n",
        "De qualquer maneira, conseguimos obter o resultado com boa precisão utilizando a tabela manualmente, mas hoje em dia é bem mais comum o uso do computador(utilizando Python) para fazermos os cálculos, como acabamos de aprender utilizando Python.\n",
        "\n",
        "A seguir, resolveremos a questão \"B\" do nosso problema."
      ],
      "metadata": {
        "id": "9q6IoqTz0yJm"
      }
    },
    {
      "cell_type": "markdown",
      "source": [
        "***\n",
        "# <font color=green size=10>Prova de estatística</font>\n",
        "***\n",
        "\n"
      ],
      "metadata": {
        "id": "FFYz09xK081k"
      }
    },
    {
      "cell_type": "markdown",
      "source": [
        "A aplicação de uma prova de estatística em um concurso apresentou um conjunto de notas normalmente distribuídas. Verificou-se que o conjunto de notas tinha média 70 e desvio padrão de 5 pontos.\n",
        "\n",
        "Qual a probabilidade de um aluno, selecionado ao acaso, ter nota menor que 85?"
      ],
      "metadata": {
        "id": "Gf2II2UI0-lB"
      }
    },
    {
      "cell_type": "markdown",
      "source": [
        "Neste caso, a nota de 85 corresponde a 3 desvios padrão acima da média (85 - 70 = 15, 15 / 5 = 3). Consultando a tabela, encontramos que a probabilidade de uma nota estar abaixo de 3 desvios padrão da média é de aproximadamente 99,87%."
      ],
      "metadata": {
        "id": "ObG9ZTm92L6b"
      }
    },
    {
      "cell_type": "code",
      "source": [
        "# Podemos calcular essa probabilidade usando Python:\n",
        "\n",
        "import scipy.stats as stats\n",
        "\n",
        "media = 70\n",
        "desvio_padrao = 5\n",
        "x = 85\n",
        "\n",
        "z = (x - media) / desvio_padrao\n",
        "probabilidade = stats.norm.cdf(z)\n",
        "\n",
        "print(f\"A probabilidade de um aluno ter nota menor que {x} é: {probabilidade:.4f}\")"
      ],
      "metadata": {
        "colab": {
          "base_uri": "https://localhost:8080/"
        },
        "id": "295olA5a2ebP",
        "outputId": "5cd47fd8-e32f-40ab-cd62-fa8faf61402b"
      },
      "execution_count": null,
      "outputs": [
        {
          "output_type": "stream",
          "name": "stdout",
          "text": [
            "A probabilidade de um aluno ter nota menor que 85 é: 0.9987\n"
          ]
        }
      ]
    },
    {
      "cell_type": "markdown",
      "source": [
        "## Padronização\n",
        "\n",
        "Calcular a probabilidade usando a padronização da distribuição normal. Isso envolve converter o valor x em um valor Z, que é o número de desvios padrão que x está afastado da média:\n",
        "\n",
        "Z = (x - μ) / σ\n",
        "\n",
        "## Cálculo da Probabilidade\n",
        "\n",
        "Vamos calcular o valor Z para x = 85:\n",
        "\n",
        "Z = (85 - 70) / 5 = 3\n",
        "\n",
        "Agora, podemos usar uma tabela de distribuição normal padrão ou uma função de distribuição acumulada para calcular a probabilidade:\n",
        "\n",
        "P(X < 85) = P(Z < 3)"
      ],
      "metadata": {
        "id": "e-ABXwCa1WQX"
      }
    },
    {
      "cell_type": "markdown",
      "metadata": {
        "id": "ZsnMjGzJG3Ep"
      },
      "source": [
        "### Problema B - Identificação da área sob a curva"
      ]
    },
    {
      "cell_type": "markdown",
      "source": [
        "Continuando com a solução do nosso problema, partiremos para a questão \"B\" que nos pede a probabilidade de uma pessoa selecionada ao acaso de ter entre 1,60 e 1,80 metros de altura.\n",
        "\n",
        "Nesta representação, a área destacada sob a curva é o que procuramos."
      ],
      "metadata": {
        "id": "KTyUm23E8GOx"
      }
    },
    {
      "cell_type": "markdown",
      "metadata": {
        "id": "LN2HY-UCG3Ep"
      },
      "source": [
        "<img style='float: left' src='https://caelum-online-public.s3.amazonaws.com/1178-estatistica-parte2/01/img005.png' width='350px'>"
      ]
    },
    {
      "cell_type": "markdown",
      "source": [
        "Sabemos que a média é 1.7. Para 1.8, temos uma diferença de 10 centímetros, e notaremos esta mesma diferença de 1.6 para a média também.\n",
        "\n",
        "Como a variável normal é simétrica, os lados divididos pela média são iguais, ou seja 50% para cada um. Com isso, concluímos que a área entre 1.7 e 1.8 metros é a mesma de entre 1.6 e 1.7.\n",
        "\n",
        "Logo, obteremos essa primeira área entre 1.7 e 1.8 e depois multiplicaremos por 2 para termos a área total questionada.\n",
        "\n",
        "Já calculamos a variável padronizada para 1.8, a qual vai de 0 até 4. Na célula da parte \"Obter a variável padronizada Z\" criaremos Z com o valor da média 1.7, que menos a média dará 0."
      ],
      "metadata": {
        "id": "v6R2Fvcv8L2a"
      }
    },
    {
      "cell_type": "markdown",
      "metadata": {
        "id": "FS6WNg88G3Eq"
      },
      "source": [
        "### Obter a variável padronizada $Z$"
      ]
    },
    {
      "cell_type": "markdown",
      "source": [
        "Sabemos que a média é 1.7. Para 1.8, temos uma diferença de 10 centímetros, e notaremos esta mesma diferença de 1.6 para a média também.\n",
        "\n",
        "Como a variável normal é simétrica, os lados divididos pela média são iguais, ou seja 50% para cada um. Com isso, concluímos que a área entre 1.7 e 1.8 metros é a mesma de entre 1.6 e 1.7.\n",
        "\n",
        "Logo, obteremos essa primeira área entre 1.7 e 1.8 e depois multiplicaremos por 2 para termos a área total questionada.\n",
        "\n",
        "Já calculamos a variável padronizada para 1.8, a qual vai de 0 até 4. Na célula da parte \"Obter a variável padronizada Z\" criaremos Z com o valor da média 1.7, que menos a média dará 0."
      ],
      "metadata": {
        "id": "38_4AoEZ-vb2"
      }
    },
    {
      "cell_type": "code",
      "source": [
        "Z = (1.7 - media) / desvio_padrao\n",
        "Z"
      ],
      "metadata": {
        "colab": {
          "base_uri": "https://localhost:8080/"
        },
        "id": "ft3jIEsh9oCC",
        "outputId": "0171e828-2f04-44c6-ec0a-95d0536a1665"
      },
      "execution_count": null,
      "outputs": [
        {
          "output_type": "execute_result",
          "data": {
            "text/plain": [
              "0.0"
            ]
          },
          "metadata": {},
          "execution_count": 11
        }
      ]
    },
    {
      "cell_type": "markdown",
      "source": [
        "Ou seja, se consultamos a tabela na linha 0.00 e coluna 0.00, teremos o valor de 50%.\n",
        "\n",
        "Para calcularmos exatamente a área que precisamos, pegaremos a área de menos infinito até 1.8 e diminuiremos o valor de menos infinito até 1.7 relativa a metade como vimos na tabela.\n",
        "\n",
        "Calcularemos outro Z de 1.80 como fizemos anteriormente, cujo resultado será aproximadamente 1 e a probabilidade 0,843."
      ],
      "metadata": {
        "id": "GaNWA3Nh-6jm"
      }
    },
    {
      "cell_type": "code",
      "source": [
        "probabilidade = 0.843"
      ],
      "metadata": {
        "id": "YteJduJF_HYH"
      },
      "execution_count": null,
      "outputs": []
    },
    {
      "cell_type": "markdown",
      "source": [
        "Como agora queremos somente o valor de 1.7 até 1.8, teremos que tirar todo o valor da probabilidade de 0.5 relativo a área de menos infinito até a metade."
      ],
      "metadata": {
        "id": "k79CgDGu_N5p"
      }
    },
    {
      "cell_type": "code",
      "source": [
        "probabilidade = 0.8413 - 0.5\n",
        "probabilidade"
      ],
      "metadata": {
        "colab": {
          "base_uri": "https://localhost:8080/"
        },
        "id": "PMkEl-W8_TRH",
        "outputId": "94e8687d-d26f-49be-ebea-e1abd84cf63e"
      },
      "execution_count": null,
      "outputs": [
        {
          "output_type": "execute_result",
          "data": {
            "text/plain": [
              "0.34130000000000005"
            ]
          },
          "metadata": {},
          "execution_count": 13
        }
      ]
    },
    {
      "cell_type": "code",
      "source": [
        "Z = (1.8 - media) / desvio_padrao\n",
        "Z"
      ],
      "metadata": {
        "colab": {
          "base_uri": "https://localhost:8080/"
        },
        "id": "12KmMcml92D1",
        "outputId": "43a9337f-0ded-478d-dab5-b6ddd65034a4"
      },
      "execution_count": null,
      "outputs": [
        {
          "output_type": "execute_result",
          "data": {
            "text/plain": [
              "1.0000000000000009"
            ]
          },
          "metadata": {},
          "execution_count": 14
        }
      ]
    },
    {
      "cell_type": "code",
      "execution_count": null,
      "metadata": {
        "colab": {
          "base_uri": "https://localhost:8080/"
        },
        "id": "mxPsPIOYG3Er",
        "outputId": "fd7eb6e5-567d-4ea0-a8bc-019b3008e5f5"
      },
      "outputs": [
        {
          "output_type": "execute_result",
          "data": {
            "text/plain": [
              "-1.0"
            ]
          },
          "metadata": {},
          "execution_count": 15
        }
      ],
      "source": [
        "Z_inferior = (1.6 - media) / desvio_padrao\n",
        "round(Z_inferior, 2)"
      ]
    },
    {
      "cell_type": "markdown",
      "source": [
        "Ou seja, se consultamos a tabela na linha 0.00 e coluna 0.00, teremos o valor de 50%.\n",
        "\n",
        "Para calcularmos exatamente a área que precisamos, pegaremos a área de menos infinito até 1.8 e diminuiremos o valor de menos infinito até 1.7 relativa a metade como vimos na tabela.\n",
        "\n",
        "Calcularemos outro Z de 1.80 como fizemos anteriormente, cujo resultado será aproximadamente 1 e a probabilidade 0,843."
      ],
      "metadata": {
        "id": "GvsxwAMk8qGp"
      }
    },
    {
      "cell_type": "code",
      "execution_count": null,
      "metadata": {
        "colab": {
          "base_uri": "https://localhost:8080/"
        },
        "id": "s0Vf0GXHG3Et",
        "outputId": "e13cca13-342a-4b2f-f123-28273286e34a"
      },
      "outputs": [
        {
          "output_type": "execute_result",
          "data": {
            "text/plain": [
              "1.0"
            ]
          },
          "metadata": {},
          "execution_count": 16
        }
      ],
      "source": [
        "Z_superior = (1.8 - media) / desvio_padrao\n",
        "round(Z_superior, 2)"
      ]
    },
    {
      "cell_type": "markdown",
      "metadata": {
        "id": "MseXjmZ7G3E0"
      },
      "source": [
        "### Solução 1 - Utilizando tabela"
      ]
    },
    {
      "cell_type": "markdown",
      "source": [
        "Como agora queremos somente o valor de 1.7 até 1.8, teremos que tirar todo o valor da probabilidade de 0.5 relativo a área de menos infinito até a metade."
      ],
      "metadata": {
        "id": "V0kT7GVf_-ya"
      }
    },
    {
      "cell_type": "code",
      "source": [
        "probabilidade = 0.8413 - 0.5\n",
        "probabilidade"
      ],
      "metadata": {
        "colab": {
          "base_uri": "https://localhost:8080/"
        },
        "id": "drAry_09AA88",
        "outputId": "3ff0b20f-3612-42d5-e0bf-9e3040a71357"
      },
      "execution_count": null,
      "outputs": [
        {
          "output_type": "execute_result",
          "data": {
            "text/plain": [
              "0.34130000000000005"
            ]
          },
          "metadata": {},
          "execution_count": 17
        }
      ]
    },
    {
      "cell_type": "markdown",
      "source": [
        "O valor da área da média 1.7 até 1.8 é de aproximadamente 0,3413. Como concluímos que este valor é exatamente igual ao da área entre 1.6 e 1.7, bastará apenas multiplicá-lo por 2."
      ],
      "metadata": {
        "id": "LtwqhtIc_287"
      }
    },
    {
      "cell_type": "code",
      "execution_count": null,
      "metadata": {
        "colab": {
          "base_uri": "https://localhost:8080/"
        },
        "id": "swZ6SVQGG3E0",
        "outputId": "2ea82639-0ac8-495f-fbec-29d18e22adf3"
      },
      "outputs": [
        {
          "output_type": "execute_result",
          "data": {
            "text/plain": [
              "0.6826000000000001"
            ]
          },
          "metadata": {},
          "execution_count": 18
        }
      ],
      "source": [
        "probabilidade = (0.8413 - 0.5) * 2\n",
        "probabilidade"
      ]
    },
    {
      "cell_type": "code",
      "execution_count": null,
      "metadata": {
        "colab": {
          "base_uri": "https://localhost:8080/"
        },
        "id": "oNfZZRBdGy2G",
        "outputId": "35a6afa1-f69c-4dec-ccc7-7850a49a8738"
      },
      "outputs": [
        {
          "output_type": "execute_result",
          "data": {
            "text/plain": [
              "0.6826000000000001"
            ]
          },
          "metadata": {},
          "execution_count": 19
        }
      ],
      "source": [
        "probabilidade = 0.8413 - (1 - 0.8413)\n",
        "probabilidade"
      ]
    },
    {
      "cell_type": "markdown",
      "source": [
        "Com isso, teremos o valor de 0.6826.\n",
        "\n",
        "Outra forma de fazer isso é usando o método .cdf() do SciPy novamente. Transformaremos o cálculo de Z como 1.8 para Z_superior relativo ao Limite Superior."
      ],
      "metadata": {
        "id": "dWVKtQsGAMAv"
      }
    },
    {
      "cell_type": "markdown",
      "metadata": {
        "id": "y5e4zAifG3E2"
      },
      "source": [
        "### Solução 2 - Utilizando Scipy"
      ]
    },
    {
      "cell_type": "code",
      "execution_count": null,
      "metadata": {
        "colab": {
          "base_uri": "https://localhost:8080/"
        },
        "id": "hcps6lkNG3E3",
        "outputId": "d52c4169-0233-403f-d52f-3ea852f6baee"
      },
      "outputs": [
        {
          "output_type": "execute_result",
          "data": {
            "text/plain": [
              "np.float64(0.6826894921370863)"
            ]
          },
          "metadata": {},
          "execution_count": 20
        }
      ],
      "source": [
        "probabilidade = norm.cdf(Z_superior) - (1 - norm.cdf(Z_superior))\n",
        "probabilidade"
      ]
    },
    {
      "cell_type": "code",
      "source": [
        "Z_superior = (1.8 - media) / desvio_padrao\n",
        "Z_superior"
      ],
      "metadata": {
        "colab": {
          "base_uri": "https://localhost:8080/"
        },
        "id": "6kcpyf1TA6xD",
        "outputId": "85ad6448-504b-40f1-cc2f-bd9be6faf0bb"
      },
      "execution_count": null,
      "outputs": [
        {
          "output_type": "execute_result",
          "data": {
            "text/plain": [
              "1.0000000000000009"
            ]
          },
          "metadata": {},
          "execution_count": 21
        }
      ]
    },
    {
      "cell_type": "markdown",
      "source": [
        "Já o Limite Inferior será calculado com o Z_inferior pegando a variável original 1.6. Faremos o arredondamento com round() recebendo as variáveis para obtermos números mais simples e 2 para as casas decimais."
      ],
      "metadata": {
        "id": "JLmx_E8VAbrh"
      }
    },
    {
      "cell_type": "code",
      "execution_count": null,
      "metadata": {
        "colab": {
          "base_uri": "https://localhost:8080/"
        },
        "id": "MjEfhnQEG3E5",
        "outputId": "cab1f0db-e6de-43bb-8fa1-885ce51d875b"
      },
      "outputs": [
        {
          "output_type": "execute_result",
          "data": {
            "text/plain": [
              "-1.0"
            ]
          },
          "metadata": {},
          "execution_count": 22
        }
      ],
      "source": [
        "Z_inferior = (1.6 - media) / desvio_padrao\n",
        "round(Z_inferior, 2)"
      ]
    },
    {
      "cell_type": "code",
      "source": [
        "Z_superior = (1.8 - media) / desvio_padrao\n",
        "round(Z_superior, 2)"
      ],
      "metadata": {
        "colab": {
          "base_uri": "https://localhost:8080/"
        },
        "id": "iWAm-dFWAng3",
        "outputId": "7165707d-72cc-429d-e3ee-abd8103e8950"
      },
      "execution_count": null,
      "outputs": [
        {
          "output_type": "execute_result",
          "data": {
            "text/plain": [
              "1.0"
            ]
          },
          "metadata": {},
          "execution_count": 23
        }
      ]
    },
    {
      "cell_type": "markdown",
      "source": [
        "Como retorno das células, receberemos -1.0 e 1.0 respectivamente, confirmando que são áreas iguais.\n",
        "\n",
        "Usando o .cdf(), podemos fazer o cálculo de duas formas; uma delas é com a variável probabilidade igual a norm com .cdf()recebendo o Z_superior."
      ],
      "metadata": {
        "id": "QIY_9YpuA_Uj"
      }
    },
    {
      "cell_type": "code",
      "source": [
        "probabilidade = norm.cdf(Z_superior)\n",
        "probabilidade"
      ],
      "metadata": {
        "colab": {
          "base_uri": "https://localhost:8080/"
        },
        "id": "yK_ICV6mBGuK",
        "outputId": "314e6800-1002-4ff2-8268-46d9cf90d054"
      },
      "execution_count": null,
      "outputs": [
        {
          "output_type": "execute_result",
          "data": {
            "text/plain": [
              "np.float64(0.8413447460685431)"
            ]
          },
          "metadata": {},
          "execution_count": 24
        }
      ]
    },
    {
      "cell_type": "markdown",
      "source": [
        "Notaremos que essa mesma área que queremos retirar é idêntica a área de 1.8 em diante, já que se trata de uma curva simétrica.\n",
        "\n",
        "Portanto, a probabilidade será norm.cdf(Z_superior) menos 1 que subtrai este mesmo norm.cdf(Z_superior)."
      ],
      "metadata": {
        "id": "YlD7dhPhBLD9"
      }
    },
    {
      "cell_type": "code",
      "source": [
        "probabilidade = norm.cdf(Z_superior) - (1- norm.cdf(Z_superior))"
      ],
      "metadata": {
        "id": "eilzVF7BBNm_"
      },
      "execution_count": null,
      "outputs": []
    },
    {
      "cell_type": "markdown",
      "source": [
        "Ao rodarmos, teremos o valor de 0.6826, lembrando que não está com a mesma precisão porque estamos usando a tabela.\n",
        "\n",
        "Seria como calcular a probabilidade utilizando nossa tabela como fizemos na \"Solução 1\"."
      ],
      "metadata": {
        "id": "B4sD2HyNBXB7"
      }
    },
    {
      "cell_type": "code",
      "source": [
        "probabilidade = 0.8413 - (1 - 0.8413)\n",
        "probabilidade"
      ],
      "metadata": {
        "colab": {
          "base_uri": "https://localhost:8080/"
        },
        "id": "V7cIilErBYSN",
        "outputId": "2991947c-25a6-43ab-c8cb-4523d2707cfb"
      },
      "execution_count": null,
      "outputs": [
        {
          "output_type": "execute_result",
          "data": {
            "text/plain": [
              "0.6826000000000001"
            ]
          },
          "metadata": {},
          "execution_count": 26
        }
      ]
    },
    {
      "cell_type": "markdown",
      "source": [
        "Com isso, teremos o mesmo o valor de 0.6826.\n",
        "\n",
        "Há ainda outra forma mais simples ainda oferecida pelo SciPy, o qual utiliza os Limites Inferiores e Superiores para calcular a metade.\n",
        "\n",
        "A probabilidade será igual a norm.cdf(Z_superior) menos norm.cdf(Z_inferior)."
      ],
      "metadata": {
        "id": "uRnn9Gx1Bd2W"
      }
    },
    {
      "cell_type": "code",
      "source": [
        "probabilidade = norm.cdf(Z_superior) - norm.cdf(Z_inferior)\n",
        "probabilidade"
      ],
      "metadata": {
        "colab": {
          "base_uri": "https://localhost:8080/"
        },
        "id": "sZ_F0M2nBigk",
        "outputId": "67eb2204-e028-4455-8ba6-4ec9af03dea6"
      },
      "execution_count": null,
      "outputs": [
        {
          "output_type": "execute_result",
          "data": {
            "text/plain": [
              "np.float64(0.6826894921370857)"
            ]
          },
          "metadata": {},
          "execution_count": 27
        }
      ]
    },
    {
      "cell_type": "markdown",
      "source": [
        "Ao executarmos, receberemos o mesmo valor aproximado de 0.6826, ou seja, a chance de cerca de 68,26% de selecionarmos aleatoriamente alguém com altura entre 1,60 e 1,80 metros."
      ],
      "metadata": {
        "id": "T1B_npSFBnU7"
      }
    },
    {
      "cell_type": "markdown",
      "source": [
        "## Faturamento diário"
      ],
      "metadata": {
        "id": "ZEOq8qj5Bqt1"
      }
    },
    {
      "cell_type": "markdown",
      "source": [
        "O faturamento diário de um motorista de aplicativo segue uma distribuição aproximadamente normal, com média R$ 300,00 e desvio padrão igual a R$ 50,00. Obtenha as probabilidades de que, em um dia aleatório, o motorista ganhe:\n",
        "\n",
        "1) Entre R$ 250,00 e R$ 350,00\n",
        "\n",
        "2) Entre R$ 400,00 e R$ 500,00"
      ],
      "metadata": {
        "id": "234K0d9jBxzx"
      }
    },
    {
      "cell_type": "code",
      "source": [
        "from scipy.stats import norm\n",
        "\n",
        "media = 300\n",
        "desvio_padrao = 50\n",
        "Z_inferior = (250 - media) / desvio_padrao\n",
        "Z_superior = (350 - media) / desvio_padrao\n",
        "\n",
        "probabilidade = norm.cdf(Z_superior) - norm.cdf(Z_inferior)\n",
        "print(\"{0:.2%}\".format(probabilidade))\n",
        "\n",
        "# Resp.: 68,27%"
      ],
      "metadata": {
        "id": "wLO8KvTZCRjk",
        "colab": {
          "base_uri": "https://localhost:8080/"
        },
        "outputId": "1eefb07b-8b9c-4c48-e088-06d463ff005e"
      },
      "execution_count": null,
      "outputs": [
        {
          "output_type": "stream",
          "name": "stdout",
          "text": [
            "68.27%\n"
          ]
        }
      ]
    },
    {
      "cell_type": "code",
      "source": [
        "from scipy.stats import norm\n",
        "\n",
        "media = 300\n",
        "desvio_padrao = 50\n",
        "Z_inferior = (400 - media) / desvio_padrao\n",
        "Z_superior = (500 - media) / desvio_padrao\n",
        "\n",
        "probabilidade = norm.cdf(Z_superior) - norm.cdf(Z_inferior)\n",
        "print(\"{0:.2%}\".format(probabilidade))\n",
        "\n",
        "# Resp.: 2,27%"
      ],
      "metadata": {
        "id": "MNCzzkNFCZy9",
        "colab": {
          "base_uri": "https://localhost:8080/"
        },
        "outputId": "fe056075-4238-4ef6-e347-ba99cbff560c"
      },
      "execution_count": null,
      "outputs": [
        {
          "output_type": "stream",
          "name": "stdout",
          "text": [
            "2.27%\n"
          ]
        }
      ]
    },
    {
      "cell_type": "code",
      "source": [
        "import scipy.stats as stats\n",
        "\n",
        "media = 300\n",
        "desvio_padrao = 50\n",
        "\n",
        "# 1) Entre R$ 250,00 e R$ 350,00\n",
        "x_inferior = 250\n",
        "x_superior = 350\n",
        "z_inferior = (x_inferior - media) / desvio_padrao\n",
        "z_superior = (x_superior - media) / desvio_padrao\n",
        "probabilidade1 = stats.norm.cdf(z_superior) - stats.norm.cdf(z_inferior)\n",
        "\n",
        "# 2) Entre R$ 400,00 e R$ 500,00\n",
        "x_inferior = 400\n",
        "x_superior = 500\n",
        "z_inferior = (x_inferior - media) / desvio_padrao\n",
        "z_superior = (x_superior - media) / desvio_padrao\n",
        "probabilidade2 = stats.norm.cdf(z_superior) - stats.norm.cdf(z_inferior)\n",
        "\n",
        "print(f\"A probabilidade de ganhar entre R$ 250,00 e R$ 350,00 é: {probabilidade1:.4f}\")\n",
        "print(f\"A probabilidade de ganhar entre R$ 400,00 e R$ 500,00 é: {probabilidade2:.4f}\")\n",
        "\n",
        "# Resp.: A probabilidade de ganhar entre R$ 250,00 e R$ 350,00 é: 0.6827\n",
        "# A probabilidade de ganhar entre R$ 400,00 e R$ 500,00 é: 0.0227"
      ],
      "metadata": {
        "id": "wWZ_fRnJEH1d",
        "colab": {
          "base_uri": "https://localhost:8080/"
        },
        "outputId": "1b100a85-c1ee-47cc-934e-0c81b8a13756"
      },
      "execution_count": null,
      "outputs": [
        {
          "output_type": "stream",
          "name": "stdout",
          "text": [
            "A probabilidade de ganhar entre R$ 250,00 e R$ 350,00 é: 0.6827\n",
            "A probabilidade de ganhar entre R$ 400,00 e R$ 500,00 é: 0.0227\n"
          ]
        }
      ]
    },
    {
      "cell_type": "markdown",
      "source": [
        "A probabilidade de ganhar entre R$ 250,00 e R$ 350,00 é: 0.6827\n",
        "A probabilidade de ganhar entre R$ 400,00 e R$ 500,00 é: 0.0227"
      ],
      "metadata": {
        "id": "d8f1IkTZHxMF"
      }
    },
    {
      "cell_type": "markdown",
      "source": [
        "Como retorno, receberemos o mesmo valor relativo aos 2,27% da probabilidade de selecionar ao acaso uma pessoa com mais de 1,90 metros.\n",
        "\n",
        "Isso é muito importante, pois a seguir abordaremos a Amostragem e a Estimação, o que servirá de base para Teste de Hipótese, Regressão e outros processos de Estatística em cursos posteriores."
      ],
      "metadata": {
        "id": "Fs5EGvoLHviv"
      }
    },
    {
      "cell_type": "markdown",
      "metadata": {
        "id": "05sqVgdaG3E-"
      },
      "source": [
        "### Problema C - Identificação da área sob a curva"
      ]
    },
    {
      "cell_type": "markdown",
      "source": [
        "O último item do nosso problema pede a probabilidade de uma pessoa selecionada ao acaso ter mais de 1,90 metros.\n",
        "\n",
        "Com esta representação, usaremos um raciocínio próximo do que fizemos no passo anterior, ou seja, queremos somente a área sob a curva a partir de 1.9."
      ],
      "metadata": {
        "id": "iaGvxG-mEa12"
      }
    },
    {
      "cell_type": "markdown",
      "metadata": {
        "id": "EPKhGTEkG3E_"
      },
      "source": [
        "<img style='float: left' src='https://caelum-online-public.s3.amazonaws.com/1178-estatistica-parte2/01/img006.png' width='350px'>"
      ]
    },
    {
      "cell_type": "markdown",
      "source": [
        "Conforme calculamos a área sob a curva entre os pontos 1.6 e 1.8 anteriormente ,e agora queremos apenas a área sob a curva a partir de 1.9, pegaremos 1 menos a área anterior a este ponto específico.\n",
        "\n",
        "Na célula da parte \"Obter a variável padronizada Z\" em \"Problema C\", teremos um novo Z igual a 1.9 menos a média que foi definida na aula inicial dividido pelo desvio padrão.\n",
        "\n",
        "Este novo Z será usado para consultar a tabela."
      ],
      "metadata": {
        "id": "Nix-Z4EyEfsp"
      }
    },
    {
      "cell_type": "markdown",
      "metadata": {
        "id": "BA6jYbsSG3E_"
      },
      "source": [
        "### Obter a variável padronizada $Z$"
      ]
    },
    {
      "cell_type": "markdown",
      "source": [
        "Sabemos que a média é 1.7. Para 1.8, temos uma diferença de 10 centímetros, e notaremos esta mesma diferença de 1.6 para a média também.\n",
        "\n",
        "Como a variável normal é simétrica, os lados divididos pela média são iguais, ou seja 50% para cada um. Com isso, concluímos que a área entre 1.7 e 1.8 metros é a mesma de entre 1.6 e 1.7.\n",
        "\n",
        "Logo, obteremos essa primeira área entre 1.7 e 1.8 e depois multiplicaremos por 2 para termos a área total questionada.\n",
        "\n",
        "Já calculamos a variável padronizada para 1.8, a qual vai de 0 até 4. Na célula da parte \"Obter a variável padronizada Z\" criaremos Z com o valor da média 1.7, que menos a média dará 0."
      ],
      "metadata": {
        "id": "IKIkBhDYEtm6"
      }
    },
    {
      "cell_type": "code",
      "source": [
        "Z = (1.7 - media) / desvio_padrao\n",
        "Z"
      ],
      "metadata": {
        "id": "DUfeZQf1JY6A",
        "colab": {
          "base_uri": "https://localhost:8080/"
        },
        "outputId": "e40f6601-48c1-433e-896c-13721b77f35d"
      },
      "execution_count": null,
      "outputs": [
        {
          "output_type": "execute_result",
          "data": {
            "text/plain": [
              "0.0"
            ]
          },
          "metadata": {},
          "execution_count": 31
        }
      ]
    },
    {
      "cell_type": "markdown",
      "source": [
        "Ou seja, se consultamos a tabela na linha 0.00 e coluna 0.00, teremos o valor de 50%.\n",
        "\n",
        "Para calcularmos exatamente a área que precisamos, pegaremos a área de menos infinito até 1.8 e diminuiremos o valor de menos infinito até 1.7 relativa a metade como vimos na tabela.\n",
        "\n",
        "Calcularemos outro Z de 1.80 como fizemos anteriormente, cujo resultado será aproximadamente 1 e a probabilidade 0,843."
      ],
      "metadata": {
        "id": "sczPKsURE-r1"
      }
    },
    {
      "cell_type": "code",
      "source": [
        "Z = (1.9 - media) / desvio_padrao\n",
        "Z\n"
      ],
      "metadata": {
        "colab": {
          "base_uri": "https://localhost:8080/"
        },
        "id": "sqJ5zGG1IRcb",
        "outputId": "d1109261-d97f-43ac-bbf9-17b5437faa97"
      },
      "execution_count": null,
      "outputs": [
        {
          "output_type": "execute_result",
          "data": {
            "text/plain": [
              "1.9900000507450009"
            ]
          },
          "metadata": {},
          "execution_count": 32
        }
      ]
    },
    {
      "cell_type": "code",
      "source": [
        "probabilidade = 0.843"
      ],
      "metadata": {
        "id": "s2Wcj6P6FLUQ"
      },
      "execution_count": null,
      "outputs": []
    },
    {
      "cell_type": "markdown",
      "source": [
        "Como agora queremos somente o valor de 1.7 até 1.8, teremos que tirar todo o valor da probabilidade de 0.5 relativo a área de menos infinito até a metade."
      ],
      "metadata": {
        "id": "35V76rKiFRX6"
      }
    },
    {
      "cell_type": "code",
      "execution_count": null,
      "metadata": {
        "colab": {
          "base_uri": "https://localhost:8080/"
        },
        "id": "3OVj60MzG3E_",
        "outputId": "efbb3099-c4c9-429d-a3d6-bfd15c6c06f4"
      },
      "outputs": [
        {
          "output_type": "execute_result",
          "data": {
            "text/plain": [
              "0.34130000000000005"
            ]
          },
          "metadata": {},
          "execution_count": 34
        }
      ],
      "source": [
        "probabilidade = 0.8413 - 0.5\n",
        "probabilidade"
      ]
    },
    {
      "cell_type": "markdown",
      "source": [
        "O valor da área da média 1.7 até 1.8 é de aproximadamente 0,3413. Como concluímos que este valor é exatamente igual ao da área entre 1.6 e 1.7, bastará apenas multiplicá-lo por 2."
      ],
      "metadata": {
        "id": "5sQ3gcheFaBt"
      }
    },
    {
      "cell_type": "code",
      "source": [
        "probabilidade = (0.8413 - 0.5) * 2\n",
        "probabilidade"
      ],
      "metadata": {
        "colab": {
          "base_uri": "https://localhost:8080/"
        },
        "id": "cPO9mugGFfWn",
        "outputId": "4301d120-4e92-47af-94cc-6d64eead64d7"
      },
      "execution_count": null,
      "outputs": [
        {
          "output_type": "execute_result",
          "data": {
            "text/plain": [
              "0.6826000000000001"
            ]
          },
          "metadata": {},
          "execution_count": 35
        }
      ]
    },
    {
      "cell_type": "markdown",
      "source": [
        "Com isso, teremos o valor de 0.6826.\n",
        "\n",
        "Outra forma de fazer isso é usando o método .cdf() do SciPy novamente. Transformaremos o cálculo de Z como 1.8 para Z_superior relativo ao Limite Superior."
      ],
      "metadata": {
        "id": "vdjmGU9tFjT_"
      }
    },
    {
      "cell_type": "code",
      "source": [
        "Z_superior = (1.8 - media) / desvio_padrao\n",
        "Z_superior"
      ],
      "metadata": {
        "colab": {
          "base_uri": "https://localhost:8080/"
        },
        "id": "Ki3n3st3FoEi",
        "outputId": "be8fcdb3-580e-41cc-d524-0d2b0b6bca77"
      },
      "execution_count": null,
      "outputs": [
        {
          "output_type": "execute_result",
          "data": {
            "text/plain": [
              "0.9950000253725015"
            ]
          },
          "metadata": {},
          "execution_count": 36
        }
      ]
    },
    {
      "cell_type": "markdown",
      "source": [
        "Já o Limite Inferior será calculado com o Z_inferior pegando a variável original 1.6. Faremos o arredondamento com round() recebendo as variáveis para obtermos números mais simples e 2 para as casas decimais."
      ],
      "metadata": {
        "id": "F5fC0hyBFze1"
      }
    },
    {
      "cell_type": "code",
      "source": [
        "Z_inferior = (1.6 - media) / desvio_padrao\n",
        "round(Z_inferior, 2)"
      ],
      "metadata": {
        "colab": {
          "base_uri": "https://localhost:8080/"
        },
        "id": "7ALBEJbIF0x0",
        "outputId": "a03fe761-f0a5-40ae-c098-7b411c7c0d82"
      },
      "execution_count": null,
      "outputs": [
        {
          "output_type": "execute_result",
          "data": {
            "text/plain": [
              "-1.0"
            ]
          },
          "metadata": {},
          "execution_count": 37
        }
      ]
    },
    {
      "cell_type": "code",
      "source": [
        "Z_superior = (1.8 - media) / desvio_padrao\n",
        "round(Z_superior, 2)"
      ],
      "metadata": {
        "colab": {
          "base_uri": "https://localhost:8080/"
        },
        "id": "-YzHvVXoF3t3",
        "outputId": "59e8ab8e-96b4-407c-b847-e9e31f43c43e"
      },
      "execution_count": null,
      "outputs": [
        {
          "output_type": "execute_result",
          "data": {
            "text/plain": [
              "1.0"
            ]
          },
          "metadata": {},
          "execution_count": 38
        }
      ]
    },
    {
      "cell_type": "markdown",
      "source": [
        "Como retorno das células, receberemos -1.0 e 1.0 respectivamente, confirmando que são áreas iguais.\n",
        "\n",
        "Usando o .cdf(), podemos fazer o cálculo de duas formas; uma delas é com a variável probabilidade igual a norm com .cdf()recebendo o Z_superior"
      ],
      "metadata": {
        "id": "8xfr_xV_F8-c"
      }
    },
    {
      "cell_type": "code",
      "source": [
        "probabilidade = norm.cdf(Z_superior)\n",
        "probabilidade"
      ],
      "metadata": {
        "colab": {
          "base_uri": "https://localhost:8080/"
        },
        "id": "XgyIswlfGAj4",
        "outputId": "7b40a548-82d9-4447-95d0-e6701384af07"
      },
      "execution_count": null,
      "outputs": [
        {
          "output_type": "execute_result",
          "data": {
            "text/plain": [
              "np.float64(0.8401318739946053)"
            ]
          },
          "metadata": {},
          "execution_count": 39
        }
      ]
    },
    {
      "cell_type": "markdown",
      "source": [
        "Rodando a célula na \"Solução 2\" como está, teremos o mesmo resultado 0.8413."
      ],
      "metadata": {
        "id": "HFpt8-QUGGKX"
      }
    },
    {
      "cell_type": "code",
      "source": [
        "# Retiraremos a área que vai desde menos infinito até `1.6` para obtermos apenas a área que nos interessa, ou seja, A da chance de obtermos alguém entre 1,60 e 1,80 metros de altura."
      ],
      "metadata": {
        "id": "XC4qM8KzGH58"
      },
      "execution_count": null,
      "outputs": []
    },
    {
      "cell_type": "markdown",
      "source": [
        "Notaremos que essa mesma área que queremos retirar é idêntica a área de 1.8 em diante, já que se trata de uma curva simétrica.\n",
        "\n",
        "Portanto, a probabilidade será norm.cdf(Z_superior) menos 1 que subtrai este mesmo norm.cdf(Z_superior)."
      ],
      "metadata": {
        "id": "sp-e5NcrGXCZ"
      }
    },
    {
      "cell_type": "code",
      "source": [
        "probabilidade = norm.cdf(Z_superior) - (1- norm.cdf(Z_superior))"
      ],
      "metadata": {
        "id": "INrniN86GZsY"
      },
      "execution_count": null,
      "outputs": []
    },
    {
      "cell_type": "markdown",
      "source": [
        "Ao rodarmos, teremos o valor de 0.6826, lembrando que não está com a mesma precisão porque estamos usando a tabela.\n",
        "\n",
        "Seria como calcular a probabilidade utilizando nossa tabela como fizemos na \"Solução 1\"."
      ],
      "metadata": {
        "id": "AQMQAsi1GdQ_"
      }
    },
    {
      "cell_type": "code",
      "source": [
        "probabilidade = 0.8413 - (1 - 0.8413)\n",
        "probabilidade"
      ],
      "metadata": {
        "colab": {
          "base_uri": "https://localhost:8080/"
        },
        "id": "-Nha173qGel2",
        "outputId": "e5bb41e1-94da-4eee-c6f0-b3527d993316"
      },
      "execution_count": null,
      "outputs": [
        {
          "output_type": "execute_result",
          "data": {
            "text/plain": [
              "0.6826000000000001"
            ]
          },
          "metadata": {},
          "execution_count": 41
        }
      ]
    },
    {
      "cell_type": "markdown",
      "source": [
        "Com isso, teremos o mesmo o valor de 0.6826.\n",
        "\n",
        "Há ainda outra forma mais simples ainda oferecida pelo SciPy, o qual utiliza os Limites Inferiores e Superiores para calcular a metade.\n",
        "\n",
        "A probabilidade será igual a norm.cdf(Z_superior) menos norm.cdf(Z_inferior)."
      ],
      "metadata": {
        "id": "BVkX3st9Gk_x"
      }
    },
    {
      "cell_type": "code",
      "source": [
        "probabilidade = norm.cdf(Z_superior) - norm.cdf(Z_inferior)\n",
        "probabilidade"
      ],
      "metadata": {
        "colab": {
          "base_uri": "https://localhost:8080/"
        },
        "id": "JdA57va0Gnwa",
        "outputId": "3cfd23e5-1631-4df6-c3fd-c825ca747c58"
      },
      "execution_count": null,
      "outputs": [
        {
          "output_type": "execute_result",
          "data": {
            "text/plain": [
              "np.float64(0.68026374798921)"
            ]
          },
          "metadata": {},
          "execution_count": 42
        }
      ]
    },
    {
      "cell_type": "markdown",
      "source": [
        "Ao executarmos, receberemos o mesmo valor aproximado de 0.6826, ou seja, a chance de cerca de 68,26% de selecionarmos aleatoriamente alguém com altura entre 1,60 e 1,80 metros."
      ],
      "metadata": {
        "id": "0TmSYVuvGsXs"
      }
    },
    {
      "cell_type": "markdown",
      "source": [
        "Rodando a célula, a probabilidade será de 0.0232, ou seja, apenas 2,32% de chance de termos alguém com mais de 1 metro e 90 centímetros de altura.\n",
        "\n",
        "Usando o norm do SciPy na parte \"Solução 2\" e o mesmo raciocínio aplicado na probabilidade, digitaremos 1 menos norm.cdf() recebendo o Z\n",
        "\n",
        "Em seguida, exibiremos o resultado e rodaremos a célula."
      ],
      "metadata": {
        "id": "BIAg-rz9FI5m"
      }
    },
    {
      "cell_type": "markdown",
      "metadata": {
        "id": "hCiiWAm_G3FC"
      },
      "source": [
        "### Solução 1 - Utilizando tabela"
      ]
    },
    {
      "cell_type": "code",
      "execution_count": null,
      "metadata": {
        "colab": {
          "base_uri": "https://localhost:8080/"
        },
        "id": "mSNfoO6VG3FC",
        "outputId": "016a8530-c4a8-4586-d447-123ad3344384"
      },
      "outputs": [
        {
          "output_type": "execute_result",
          "data": {
            "text/plain": [
              "0.022800000000000042"
            ]
          },
          "metadata": {},
          "execution_count": 184
        }
      ],
      "source": [
        "probabilidade = 1 - 0.9772\n",
        "probabilidade"
      ]
    },
    {
      "cell_type": "code",
      "source": [
        "probabilidade = 1 - norm.cdf(Z)\n",
        "probabilidade"
      ],
      "metadata": {
        "colab": {
          "base_uri": "https://localhost:8080/"
        },
        "id": "8roUvehXREUJ",
        "outputId": "0095e92d-5403-471b-c204-718b9e206631"
      },
      "execution_count": null,
      "outputs": [
        {
          "output_type": "execute_result",
          "data": {
            "text/plain": [
              "np.float64(0.023295464955233047)"
            ]
          },
          "metadata": {},
          "execution_count": 186
        }
      ]
    },
    {
      "cell_type": "markdown",
      "metadata": {
        "id": "QCyoVXOdG3FF"
      },
      "source": [
        "### Solução 2 - Utilizando Scipy"
      ]
    },
    {
      "cell_type": "code",
      "execution_count": null,
      "metadata": {
        "colab": {
          "base_uri": "https://localhost:8080/"
        },
        "id": "caIE-t83G3FF",
        "outputId": "9cd4d665-9391-4717-c1b6-1c03c229e5fe"
      },
      "outputs": [
        {
          "output_type": "execute_result",
          "data": {
            "text/plain": [
              "np.float64(0.023295464955233047)"
            ]
          },
          "metadata": {},
          "execution_count": 179
        }
      ],
      "source": [
        "from scipy.stats import norm\n",
        "\n",
        "probabilidade = 1 - norm.cdf(Z)\n",
        "probabilidade"
      ]
    },
    {
      "cell_type": "markdown",
      "source": [
        "Com isso, receberemos o retorno de 0.228 para a primeira célula e 0.0227 para a segunda, o que é bem próximo.\n",
        "\n",
        "Outra forma usando .cdf() será passarmos um valor negativo para Z, pois o método consegue entender que estamos justamente querendo calcular a probabilidade contrária, ou seja, a partir dos 1.9 da curva.\n",
        "\n",
        "Para obtermos esse mesmo resultado, retiraremos a subtração de 1 e passaremos um -Z negativo para norm.cdf()."
      ],
      "metadata": {
        "id": "gsUCJV0-MBi0"
      }
    },
    {
      "cell_type": "code",
      "execution_count": null,
      "metadata": {
        "colab": {
          "base_uri": "https://localhost:8080/"
        },
        "id": "wKjqQGgMG3FI",
        "outputId": "9f3e3c0b-1361-4a9a-d17f-a8057635d4d8"
      },
      "outputs": [
        {
          "output_type": "execute_result",
          "data": {
            "text/plain": [
              "np.float64(0.023295464955233013)"
            ]
          },
          "metadata": {},
          "execution_count": 188
        }
      ],
      "source": [
        "probabilidade = norm.cdf(-Z)\n",
        "probabilidade"
      ]
    },
    {
      "cell_type": "markdown",
      "source": [
        "## Vida útil"
      ],
      "metadata": {
        "id": "SSU6inS9RmBG"
      }
    },
    {
      "cell_type": "markdown",
      "source": [
        "O Inmetro verificou que as lâmpadas incandescentes da fabricante XPTO apresentam uma vida útil normalmente distribuída, com média igual a 720 dias e desvio padrão igual a 30 dias. Calcule a probabilidade de uma lâmpada, escolhida ao acaso, durar:\n",
        "\n",
        "1) Entre 650 e 750 dias\n",
        "\n",
        "2) Mais que 800 dias\n",
        "\n",
        "3) Menos que 700 dias"
      ],
      "metadata": {
        "id": "o79hJ-itRnpl"
      }
    },
    {
      "cell_type": "code",
      "source": [
        "from scipy.stats import norm\n",
        "\n",
        "media = 720\n",
        "desvio_padrao = 30\n",
        "\n",
        "# Item A\n",
        "Z_inferior = (650 - media) / desvio_padrao\n",
        "Z_superior = (750 - media) / desvio_padrao\n",
        "\n",
        "probabilidade = norm.cdf(Z_superior) - norm.cdf(Z_inferior)\n",
        "print(\"{0:.2%}\".format(probabilidade))\n",
        "\n",
        "# Item B\n",
        "Z = (800 - media) / desvio_padrao\n",
        "\n",
        "probabilidade = 1 - norm.cdf(Z)\n",
        "print(\"{0:.2%}\".format(probabilidade))\n",
        "\n",
        "# Item C\n",
        "Z = (700 - media) / desvio_padrao\n",
        "\n",
        "probabilidade = norm.cdf(Z)\n",
        "print(\"{0:.2%}\".format(probabilidade))"
      ],
      "metadata": {
        "colab": {
          "base_uri": "https://localhost:8080/"
        },
        "id": "nHH-81JpRrbc",
        "outputId": "1f18fab0-eca4-4788-a622-339af83d3693"
      },
      "execution_count": null,
      "outputs": [
        {
          "output_type": "stream",
          "name": "stdout",
          "text": [
            "83.15%\n",
            "0.38%\n",
            "25.25%\n"
          ]
        }
      ]
    },
    {
      "cell_type": "markdown",
      "source": [
        "Distribuição Normal\n",
        "\n",
        "Esse é um problema clássico de distribuição normal, que é usada para modelar variáveis aleatórias contínuas que seguem uma curva em forma de sino.\n",
        "\n",
        "Cálculo das Probabilidades\n",
        "\n",
        "Vamos calcular as probabilidades usando a padronização da distribuição normal.\n",
        "\n",
        "1) Entre 650 e 750 dias\n",
        "\n",
        "Primeiro, vamos calcular os valores Z para os limites inferior e superior:\n",
        "\n",
        "Z_inferior = (650 - 720) / 30 = -2.33\n",
        "Z_superior = (750 - 720) / 30 = 1\n",
        "\n",
        "Agora, podemos usar uma tabela de distribuição normal padrão ou uma função de distribuição acumulada para calcular a probabilidade:\n",
        "\n",
        "P(650 < X < 750) = P(-2.33 < Z < 1)\n",
        "= P(Z < 1) - P(Z < -2.33)\n",
        "\n",
        "2) Mais que 800 dias\n",
        "\n",
        "Vamos calcular o valor Z para o limite inferior:\n",
        "\n",
        "Z = (800 - 720) / 30 = 2.67\n",
        "\n",
        "Agora, podemos calcular a probabilidade:\n",
        "\n",
        "P(X > 800) = P(Z > 2.67)\n",
        "= 1 - P(Z < 2.67)\n",
        "\n",
        "3) Menos que 700 dias\n",
        "\n",
        "Vamos calcular o valor Z para o limite superior:\n",
        "\n",
        "Z = (700 - 720) / 30 = -0.67\n",
        "\n",
        "Agora, podemos calcular a probabilidade:\n",
        "\n",
        "P(X < 700) = P(Z < -0.67)\n",
        "\n",
        "Implementação em Python\n",
        "\n",
        "Podemos calcular essas probabilidades usando Python:\n",
        "\n",
        "import scipy.stats as stats\n",
        "\n",
        "media = 720\n",
        "desvio_padrao = 30\n",
        "\n",
        "# 1) Entre 650 e 750 dias\n",
        "x_inferior = 650\n",
        "x_superior = 750\n",
        "z_inferior = (x_inferior - media) / desvio_padrao\n",
        "z_superior = (x_superior - media) / desvio_padrao\n",
        "probabilidade1 = stats.norm.cdf(z_superior) - stats.norm.cdf(z_inferior)\n",
        "\n",
        "# 2) Mais que 800 dias\n",
        "x = 800\n",
        "z = (x - media) / desvio_padrao\n",
        "probabilidade2 = 1 - stats.norm.cdf(z)\n",
        "\n",
        "# 3) Menos que 700 dias\n",
        "x = 700\n",
        "z = (x - media) / desvio_padrao\n",
        "probabilidade3 = stats.norm.cdf(z)\n",
        "\n",
        "print(f\"A probabilidade de durar entre 650 e 750 dias é: {probabilidade1:.4f}\")\n",
        "print(f\"A probabilidade de durar mais que 800 dias é: {probabilidade2:.4f}\")\n",
        "print(f\"A probabilidade de durar menos que 700 dias é: {probabilidade3:.4f}\")\n",
        "\n",
        "\n",
        "Resultados\n",
        "\n",
        "As probabilidades são calculadas e impressas pelo código acima. Os resultados serão números entre 0 e 1, representando as probabilidades.\n",
        "\n",
        "Nesse caso, as probabilidades são:\n",
        "\n",
        "- P(650 < X < 750) ≈ 0.8340\n",
        "- P(X > 800) ≈ 0.0038\n",
        "- P(X < 700) ≈ 0.2514\n",
        "\n",
        "Esses resultados indicam que:\n",
        "\n",
        "- Aproximadamente 83,40% das lâmpadas durarão entre 650 e 750 dias.\n",
        "- Aproximadamente 0,38% das lâmpadas durarão mais que 800 dias.\n",
        "- Aproximadamente 25,14% das lâmpadas durarão menos que 700 dias."
      ],
      "metadata": {
        "id": "Ca0KJsG3SM5h"
      }
    },
    {
      "cell_type": "code",
      "source": [
        "import scipy.stats as stats\n",
        "\n",
        "media = 720\n",
        "desvio_padrao = 30\n",
        "\n",
        "# 1) Entre 650 e 750 dias\n",
        "x_inferior = 650\n",
        "x_superior = 750\n",
        "z_inferior = (x_inferior - media) / desvio_padrao\n",
        "z_superior = (x_superior - media) / desvio_padrao\n",
        "probabilidade1 = stats.norm.cdf(z_superior) - stats.norm.cdf(z_inferior)\n",
        "\n",
        "# 2) Mais que 800 dias\n",
        "x = 800\n",
        "z = (x - media) / desvio_padrao\n",
        "probabilidade2 = 1 - stats.norm.cdf(z)\n",
        "\n",
        "# 3) Menos que 700 dias\n",
        "x = 700\n",
        "z = (x - media) / desvio_padrao\n",
        "probabilidade3 = stats.norm.cdf(z)\n",
        "\n",
        "print(f\"A probabilidade de durar entre 650 e 750 dias é: {probabilidade1:.4f}\")\n",
        "print(f\"A probabilidade de durar mais que 800 dias é: {probabilidade2:.4f}\")\n",
        "print(f\"A probabilidade de durar menos que 700 dias é: {probabilidade3:.4f}\")\n"
      ],
      "metadata": {
        "colab": {
          "base_uri": "https://localhost:8080/"
        },
        "id": "O0mdyFVESZZu",
        "outputId": "b84e3d75-d671-4529-9d2e-1b99c2f9751f"
      },
      "execution_count": null,
      "outputs": [
        {
          "output_type": "stream",
          "name": "stdout",
          "text": [
            "A probabilidade de durar entre 650 e 750 dias é: 0.8315\n",
            "A probabilidade de durar mais que 800 dias é: 0.0038\n",
            "A probabilidade de durar menos que 700 dias é: 0.2525\n"
          ]
        }
      ]
    },
    {
      "cell_type": "markdown",
      "source": [
        "## Obtendo probabilidades"
      ],
      "metadata": {
        "id": "TNZSAmH2Sh4C"
      }
    },
    {
      "cell_type": "markdown",
      "source": [
        "Utilizando a tabela padronizada, ou o ferramental disponibilizado pelo Python, encontre a área sob a curva normal para os valores de Z abaixo:\n",
        "\n",
        "1) Z < 1,96\n",
        "\n",
        "2) Z > 2,15\n",
        "\n",
        "3) Z < -0,78\n",
        "\n",
        "4) Z > 0,59"
      ],
      "metadata": {
        "id": "nNbTEGpLSkaW"
      }
    },
    {
      "cell_type": "code",
      "source": [
        "from scipy.stats import norm\n",
        "\n",
        "# Item A\n",
        "probabilidade = norm.cdf(1.96)\n",
        "print(\"{0:0.4f}\".format(probabilidade))\n",
        "\n",
        "# Item B\n",
        "probabilidade = 1 - norm.cdf(2.15)\n",
        "# ou -> probabilidade = norm.sf(2.15)\n",
        "print(\"{0:0.4f}\".format(probabilidade))\n",
        "\n",
        "# Item C\n",
        "probabilidade = norm.cdf(-0.78)\n",
        "print(\"{0:0.4f}\".format(probabilidade))\n",
        "\n",
        "# Item D\n",
        "probabilidade = 1 - norm.cdf(0.59)\n",
        "# ou -> probabilidade = norm.sf(0.59)\n",
        "print(\"{0:0.4f}\".format(probabilidade))"
      ],
      "metadata": {
        "colab": {
          "base_uri": "https://localhost:8080/"
        },
        "id": "5IAi8RZRS6Ee",
        "outputId": "c15c90d7-2b4f-4df8-8d04-e7a1a6b69030"
      },
      "execution_count": null,
      "outputs": [
        {
          "output_type": "stream",
          "name": "stdout",
          "text": [
            "0.9750\n",
            "0.0158\n",
            "0.2177\n",
            "0.2776\n"
          ]
        }
      ]
    },
    {
      "cell_type": "markdown",
      "source": [
        "Como retorno, receberemos o mesmo valor relativo aos 2,27% da probabilidade de selecionar ao acaso uma pessoa com mais de 1,90 metros.\n",
        "\n",
        "Isso é muito importante, pois a seguir abordaremos a Amostragem e a Estimação, o que servirá de base para Teste de Hipótese, Regressão e outros processos de Estatística em cursos posteriores."
      ],
      "metadata": {
        "id": "FZRH6AYzH9JM"
      }
    },
    {
      "cell_type": "markdown",
      "source": [
        "## O que aprendemos?"
      ],
      "metadata": {
        "id": "XSWk_Ub6TFkz"
      }
    },
    {
      "cell_type": "markdown",
      "source": [
        "Nesta aula, aprendemos:\n",
        "\n",
        "   - Os conceitos básicos da distribuição normal de probabilidades\n",
        "\n",
        "   - A trabalhar com a tabela padronizada Z\n",
        "\n",
        "   - A obter as probabilidades utilizando a distribuição normal em um conjunto de situações"
      ],
      "metadata": {
        "id": "nYR9UwozTG_I"
      }
    },
    {
      "cell_type": "markdown",
      "source": [],
      "metadata": {
        "id": "YJ6JIhArTV_3"
      }
    },
    {
      "cell_type": "markdown",
      "metadata": {
        "id": "GmmzChE2t4wW"
      },
      "source": [
        "# <font color=green size=10>Aula 4  - AMOSTRAGEM</font>\n",
        "***"
      ]
    },
    {
      "cell_type": "markdown",
      "metadata": {
        "id": "g8PbtmQZt4Wv"
      },
      "source": [
        "## <font color=green>4.1 População e Amostra</font>\n",
        "***"
      ]
    },
    {
      "cell_type": "markdown",
      "source": [
        "Começando uma sessão nova no nosso curso, abordaremos a Amostragem.\n",
        "\n",
        "Para entendermos sua importância, é interessante sabermos que geralmente estamos lidando com Amostras em Estatística e raramente com a População. Por isso é importante aprendermos bem os conceitos para calcularmos o tamanho de Amostra quando estivermos abordando Estimação.\n",
        "\n",
        "População é um conjunto de todos os elementos de interesse em um estudo, e diversos elementos podem compor uma população como pessoas, idades, alturas, carros e etc.\n",
        "\n",
        "Com relação ao tamanho, as populações podem ser tanto limitadas e conhecidas como Populações Finitas, as quais nos permitem fazer contagem como os alunos de uma escola, funcionários de uma empresa e etc., ou também ilimitadas chamadas de Populações Infinitas, que não possibilita uma contagem, como as gotas de um oceano.\n",
        "\n",
        "Quando as Populações Finitas são contáveis mas muito grandes e extensas, eventualmente assumimos que são Infinitas. A amostra precisa ser um subconjunto realmente representativo de uma População para ter o valor que a represente de fato.\n",
        "\n",
        "Do contrário, não conseguiremos tirar uma conclusão dos parâmetros de uma População a partir da Amostra caso esta não seja representativa nem tenha um tamanho adequado o suficiente, ou ainda se não tiver sido utilizada uma técnica adequada para sua extração e etc.\n",
        "\n",
        "Parâmetros da População são atributos numéricos, como a média e o desvio padrão; o foco de inferência estatística é justamente criar Testes de Hipótese e estimar parâmetros a partir de Amostras, como veremos em Estimação.\n",
        "\n",
        "Na parte \"4.2 Quando utilizar uma amostra?\" de nosso notebook, teremos alguns casos mais claros para começarmos a entender quando que devemos utilizar Amostra e não sempre toda a População.\n",
        "\n",
        "Um exemplo bem interessante são os famosos testes destrutivos, como os testes que os engenheiros fazem com carro utilizando um boneco e simulando um acidente para verificar questões de segurança, o que obviamente não pode ser realizado com todos os automóveis produzidos na fábrica.\n",
        "\n",
        "Outro caso seria com as pesquisas de intenção de votos em uma eleição, as quais devem apresentar novos resultados rapidamente. Se este censo fosse feito com toda a população votante, teríamos o resultado final da própria eleição.\n",
        "\n",
        "A seguir, falaremos sobre Técnica de Amostragem, Amostra Aleatória Simples e outros assuntos."
      ],
      "metadata": {
        "id": "-KWuvn5wIQtZ"
      }
    },
    {
      "cell_type": "markdown",
      "metadata": {
        "id": "sedD5gB9G3FV"
      },
      "source": [
        "### População\n",
        "Conjunto de todos os elementos de interesse em um estudo. Diversos elementos podem compor uma população, por exemplo: pessoas, idades, alturas, carros etc.\n",
        "\n",
        "Com relação ao tamanho, as populações podem ser limitadas (populações finitas) ou ilimitadas (populações infinitas)."
      ]
    },
    {
      "cell_type": "markdown",
      "metadata": {
        "id": "XBFhAWNcG3FW"
      },
      "source": [
        "### Populações finitas\n",
        "\n",
        "Permitem a contagem de seus elementos. Como exemplos temos o número de funcionário de uma empresa, a quantidade de alunos em uma escola etc."
      ]
    },
    {
      "cell_type": "markdown",
      "metadata": {
        "id": "YT8V2GB1G3FW"
      },
      "source": [
        "### Populações infinitas\n",
        "\n",
        "Não é possível contar seus elementos. Como exemplos temos a quantidade de porções que se pode extrair da água do mar para uma análise, temperatura medida em cada ponto de um território etc.\n",
        "\n",
        "<font color=red>Quando os elementos de uma população puderem ser contados, porém apresentando uma quantidade muito grande, assume-se a população como infinita.</font>."
      ]
    },
    {
      "cell_type": "markdown",
      "metadata": {
        "id": "a-WtAXv1G3FX"
      },
      "source": [
        "### Amostra\n",
        "Subconjunto representativo da população."
      ]
    },
    {
      "cell_type": "markdown",
      "metadata": {
        "id": "QWnDYpPSG3FX"
      },
      "source": [
        "Os atributos numéricos de uma população como sua média, variância e desvio padrão, são conhecidos como **parâmetros**. O principal foco da inferência estatística é justamente gerar estimativas e testar hipóteses sobre os parâmetros populacionais utilizando as informações de amostras."
      ]
    },
    {
      "cell_type": "markdown",
      "metadata": {
        "id": "dDz6vFbDG3FZ"
      },
      "source": [
        "## <font color=green>4.2 Quando utilizar uma amostra?</font>\n",
        "***"
      ]
    },
    {
      "cell_type": "markdown",
      "metadata": {
        "id": "5X1YwCGlG3Fe"
      },
      "source": [
        "### Populações infinitas\n",
        "\n",
        "O estudo não chegaria nunca ao fim. Não é possível investigar todos os elementos da população."
      ]
    },
    {
      "cell_type": "markdown",
      "metadata": {
        "id": "jHLtG8HSG3Ff"
      },
      "source": [
        "### Testes destrutivos\n",
        "\n",
        "Estudos onde os elementos avaliados são totalmente consumidos ou destruídos. Exemplo: testes de vida útil, testes de segurança contra colisões em automóveis."
      ]
    },
    {
      "cell_type": "markdown",
      "metadata": {
        "id": "lxYxepmdG3Ff"
      },
      "source": [
        "### Resultados rápidos\n",
        "\n",
        "Pesquisas que precisam de mais agilidade na divulgação. Exemplo: pesquisas de opinião, pesquisas que envolvam problemas de saúde pública."
      ]
    },
    {
      "cell_type": "markdown",
      "metadata": {
        "id": "PeUCGL5nG3Fj"
      },
      "source": [
        "### Custos elevados\n",
        "\n",
        "Quando a população é finita mas muito numerosa, o custo de um censo pode tornar o processo inviável."
      ]
    },
    {
      "cell_type": "markdown",
      "metadata": {
        "id": "1sbJeMpSG3Fj"
      },
      "source": [
        "## <font color=green>3.3 Amostragem Aleatória Simples</font>\n",
        "***"
      ]
    },
    {
      "cell_type": "markdown",
      "metadata": {
        "id": "Kiq9cYMYG3Fp"
      },
      "source": [
        "É uma das principais maneiras de se extrair uma amostra de uma população. A exigência fundamental deste tipo de abordagem é que cada elemeto da população tenha as mesmas chances de ser selecionado para fazer parte da amostra."
      ]
    },
    {
      "cell_type": "markdown",
      "source": [
        "Neste passo, abordaremos a Seleção de Amostra com uma técnica conhecida como Amostragem Aleatória Simples.\n",
        "\n",
        "A exigência principal é que cada elemento da população tenha exatamente a mesma chance de ser selecionado para fazer parte na Amostra.\n",
        "\n",
        "Anteriormente, falamos que uma Amostra tem que ser representativa, onde a chance de selecionarmos uma pessoa com determinada característica na População deve ser a mesma chance de termos esta pessoa com esta mesma característica na Amostra.\n",
        "\n",
        "Por exemplo, se temos uma População onde a proporção de homens é 40%, deveremos garantir um valor bem próximo a isso na Amostra. Obviamente não será idêntica, afinal há sempre uma margem de erro embutida quando fazemos uma Seleção de Amostra, e inclusive aprenderemos a calcular o tipo de erro quando estivermos falando de Cálculo de Tamanho de Amostra.\n",
        "\n",
        "Na parte \"4.3 Amostragem Aleatória Simples\", conheceremos uma seleção aleatória utilizando uma funcionalidade do próprio dataframe Pandas.\n",
        "\n",
        "Na primeira célula, pegaremos os dados e veremos seu tamanho com shape[] recebendo 0."
      ],
      "metadata": {
        "id": "6D1d2qPsJSIB"
      }
    },
    {
      "cell_type": "code",
      "execution_count": null,
      "metadata": {
        "colab": {
          "base_uri": "https://localhost:8080/"
        },
        "id": "NtQ8HOYdG3Fq",
        "outputId": "85f94e6c-0569-4caa-c9dc-27c69cfff069"
      },
      "outputs": [
        {
          "output_type": "execute_result",
          "data": {
            "text/plain": [
              "76840"
            ]
          },
          "metadata": {},
          "execution_count": 56
        }
      ],
      "source": [
        "dados.shape[0]"
      ]
    },
    {
      "cell_type": "markdown",
      "source": [
        "Com isso, veremos que há 76840 registros ou observações, como se diz em Estatística.\n",
        "\n",
        "Pegaremos a variável .Renda dos dados e tiraremos a média com .mean() para ser nosso parâmetro desta população."
      ],
      "metadata": {
        "id": "afKASbVAJoJJ"
      }
    },
    {
      "cell_type": "code",
      "execution_count": null,
      "metadata": {
        "colab": {
          "base_uri": "https://localhost:8080/"
        },
        "id": "DsXJHWhMG3Fs",
        "outputId": "889fe006-8391-4e9e-8d53-4d3d8b21b662"
      },
      "outputs": [
        {
          "output_type": "execute_result",
          "data": {
            "text/plain": [
              "np.float64(2000.3831988547631)"
            ]
          },
          "metadata": {},
          "execution_count": 55
        }
      ],
      "source": [
        "dados.Renda.mean()"
      ]
    },
    {
      "cell_type": "markdown",
      "source": [
        "Como retorno, receberemos o valor aproximado de 2000.\n",
        "\n",
        "Quando selecionamos uma Amostra, a utilizamos para fazermos inferências sobre esses parâmetros populacionais. Caso seja representativa com erro controlado, chegaremos a um valor próximo aos 2 mil que retornamos.\n",
        "\n",
        "Haverá uma margem de erro e Nível de Significância ou Confiança, mas isso será visto mais adiante. Aqui lidaremos com apenas um exemplo para entendermos bem o funcionamento dos cálculos.\n",
        "\n",
        "Criaremos uma Amostra Aleatória Simples com essa nossa população por meio de uma variável chamada amostra. Esta será igual a um novo dataframe com dados.sample().\n",
        "\n",
        "Passaremos um tamanho de Amostra bem pequeno como o parâmetro n igual a apenas 100 dentro do método .sample().\n",
        "\n",
        "Como segundo parâmetro, passaremos random_state igual ao valor 101. Este é como se fosse um seed de um gerador de número aleatório, então se tivermos o mesmo valor, teremos o resultado idêntico no notebook para compararmos."
      ],
      "metadata": {
        "id": "CiKzpUoqJwI7"
      }
    },
    {
      "cell_type": "code",
      "execution_count": null,
      "metadata": {
        "id": "k7yJucVMG3Fw"
      },
      "outputs": [],
      "source": [
        "amostra = dados.sample(n = 1000, random_state = 101)"
      ]
    },
    {
      "cell_type": "markdown",
      "source": [
        "Vamos conferir o tamanho da amostra digitando amostra.shape[0] para confirmarmos se temos de fato 1000 registros."
      ],
      "metadata": {
        "id": "pTp936NFKY3x"
      }
    },
    {
      "cell_type": "code",
      "execution_count": null,
      "metadata": {
        "colab": {
          "base_uri": "https://localhost:8080/",
          "height": 34
        },
        "id": "wUyXS65sG3F2",
        "outputId": "d3440aaa-c46f-4d44-8d29-5ab5a3c914a1"
      },
      "outputs": [
        {
          "data": {
            "text/plain": [
              "1000"
            ]
          },
          "execution_count": 48,
          "metadata": {},
          "output_type": "execute_result"
        }
      ],
      "source": [
        "amostra.shape[0]"
      ]
    },
    {
      "cell_type": "code",
      "execution_count": null,
      "metadata": {
        "colab": {
          "base_uri": "https://localhost:8080/"
        },
        "id": "y0J4UtOwG3F5",
        "outputId": "f9bf296c-f8e1-4f7c-a326-ef8dfb6e7dcd"
      },
      "outputs": [
        {
          "output_type": "execute_result",
          "data": {
            "text/plain": [
              "np.float64(1998.783)"
            ]
          },
          "metadata": {},
          "execution_count": 58
        }
      ],
      "source": [
        "amostra.Renda.mean()"
      ]
    },
    {
      "cell_type": "markdown",
      "source": [
        "Como retorno, nossa média da Amostra será de 1998.783, um pouco diferente do primeiro resultado.\n",
        "\n",
        "Não usamos critério nenhum para selecionar o n, e deveremos garantir que a Amostra seja de fato representativa da População.\n",
        "\n",
        "Faremos este teste com a suposição de que o gênero masculino compõe 40% da população total; selecionaremos a variável Sexo de dados e aplicaremos o mesmo .value_counts() que aprendemos quando estávamos criando Distribuições de Frequência no primeiro curso, mas usaremos em percentual e normalize igual a True.\n",
        "\n",
        "dados.Sexo.value_counts(normalize = True)\n",
        "Copiar código\n",
        "Segundo nosso DataFrame, a identificação 0 representa o sexo masculino cuja porcentagem é relativa a aproximadamente 70% e 1 o feminino com 30%.\n",
        "\n",
        "Supondo que seja a População, faremos a mesma técnica com a variável amostra para Sexo."
      ],
      "metadata": {
        "id": "DWpzY44wKzqF"
      }
    },
    {
      "cell_type": "code",
      "execution_count": null,
      "metadata": {
        "colab": {
          "base_uri": "https://localhost:8080/",
          "height": 68
        },
        "id": "WGZT_wnjSgPy",
        "outputId": "f905ff8a-84f8-45d5-d232-927630754b70"
      },
      "outputs": [
        {
          "data": {
            "text/plain": [
              "0    0.692998\n",
              "1    0.307002\n",
              "Name: Sexo, dtype: float64"
            ]
          },
          "execution_count": 50,
          "metadata": {},
          "output_type": "execute_result"
        }
      ],
      "source": [
        "dados.Sexo.value_counts(normalize = True)"
      ]
    },
    {
      "cell_type": "code",
      "execution_count": null,
      "metadata": {
        "colab": {
          "base_uri": "https://localhost:8080/",
          "height": 68
        },
        "id": "1la3Y_reSgEM",
        "outputId": "4611d1f3-3903-454b-e136-fb21c708be03"
      },
      "outputs": [
        {
          "data": {
            "text/plain": [
              "0    0.706\n",
              "1    0.294\n",
              "Name: Sexo, dtype: float64"
            ]
          },
          "execution_count": 51,
          "metadata": {},
          "output_type": "execute_result"
        }
      ],
      "source": [
        "amostra.Sexo.value_counts(normalize = True)"
      ]
    },
    {
      "cell_type": "markdown",
      "source": [
        "Como retorno, veremos que uma amostra tão pequena está apresentando uma proporção parecida com a que obtivemos da população, 70.6% de homens e 29.4% de mulheres.\n",
        "\n",
        "Como não usamos nenhuma técnica para definir n, não temos certeza de que esse resultado próximo garante que seja uma Amostra representativa o suficiente.\n",
        "\n",
        "Testaremos agora com n igual a 1000 dentro de .sample() e rodaremos tudo de novo."
      ],
      "metadata": {
        "id": "jP0XZ44TLBYr"
      }
    },
    {
      "cell_type": "code",
      "source": [
        "amostra = dados.sample(n = 1000, random_state = 101)"
      ],
      "metadata": {
        "id": "wcPYVmMJLMkZ"
      },
      "execution_count": null,
      "outputs": []
    },
    {
      "cell_type": "code",
      "source": [
        "amostra.shape[0]"
      ],
      "metadata": {
        "colab": {
          "base_uri": "https://localhost:8080/"
        },
        "id": "SosBWzkBLS7G",
        "outputId": "f754b6ae-ff15-4984-dbd8-9dc26e17d187"
      },
      "execution_count": null,
      "outputs": [
        {
          "output_type": "execute_result",
          "data": {
            "text/plain": [
              "1000"
            ]
          },
          "metadata": {},
          "execution_count": 60
        }
      ]
    },
    {
      "cell_type": "code",
      "source": [
        "amostra.Renda.mean()"
      ],
      "metadata": {
        "colab": {
          "base_uri": "https://localhost:8080/"
        },
        "id": "L6vuGrhOLV0T",
        "outputId": "070e0b47-3b14-4a76-ba09-6d5df787a55d"
      },
      "execution_count": null,
      "outputs": [
        {
          "output_type": "execute_result",
          "data": {
            "text/plain": [
              "np.float64(1998.783)"
            ]
          },
          "metadata": {},
          "execution_count": 61
        }
      ]
    },
    {
      "cell_type": "code",
      "source": [
        "amostra.Sexo.value_counts(normalize = True)"
      ],
      "metadata": {
        "colab": {
          "base_uri": "https://localhost:8080/",
          "height": 178
        },
        "id": "2icBckUOLYtQ",
        "outputId": "5f51ce2a-a3a8-4e08-a5a2-4e32889037e1"
      },
      "execution_count": null,
      "outputs": [
        {
          "output_type": "execute_result",
          "data": {
            "text/plain": [
              "Sexo\n",
              "0    0.706\n",
              "1    0.294\n",
              "Name: proportion, dtype: float64"
            ],
            "text/html": [
              "<div>\n",
              "<style scoped>\n",
              "    .dataframe tbody tr th:only-of-type {\n",
              "        vertical-align: middle;\n",
              "    }\n",
              "\n",
              "    .dataframe tbody tr th {\n",
              "        vertical-align: top;\n",
              "    }\n",
              "\n",
              "    .dataframe thead th {\n",
              "        text-align: right;\n",
              "    }\n",
              "</style>\n",
              "<table border=\"1\" class=\"dataframe\">\n",
              "  <thead>\n",
              "    <tr style=\"text-align: right;\">\n",
              "      <th></th>\n",
              "      <th>proportion</th>\n",
              "    </tr>\n",
              "    <tr>\n",
              "      <th>Sexo</th>\n",
              "      <th></th>\n",
              "    </tr>\n",
              "  </thead>\n",
              "  <tbody>\n",
              "    <tr>\n",
              "      <th>0</th>\n",
              "      <td>0.706</td>\n",
              "    </tr>\n",
              "    <tr>\n",
              "      <th>1</th>\n",
              "      <td>0.294</td>\n",
              "    </tr>\n",
              "  </tbody>\n",
              "</table>\n",
              "</div><br><label><b>dtype:</b> float64</label>"
            ]
          },
          "metadata": {},
          "execution_count": 62
        }
      ]
    },
    {
      "cell_type": "markdown",
      "source": [
        "A média passa a ser 1998.783 e as proporção mudam apenas um pouco, se mantendo próxima aos valores anteriores.\n",
        "\n",
        "Quando estivermos fazendo as Estimações, veremos técnicas de Seleção de Tamanho de Amostra onde lidamos com uma margem de erro para controlar e calcular, gerando uma confiança de que o valor vai estar dentro de um intervalo.\n",
        "\n",
        "A seguir, abordaremos as teorias sobre dois tipos de Seleção de Amostra bastante comuns."
      ],
      "metadata": {
        "id": "y5sZp3sSLc9y"
      }
    },
    {
      "cell_type": "markdown",
      "source": [
        "Para finalizarmos o assunto Amostragem, abordaremos duas técnicas de Seleção de Amostra, conhecidas como Amostragem Estratificada e por Conglomerados.\n",
        "\n",
        "Em nosso notebook, teremos um texto sobre cada uma delas. A ideia de ambas é justamente a melhoria do processo de Amostragem Simples que conhecemos.\n",
        "\n",
        "No caso da Estratificada, a ideia é separar a população em grupos mais similares e mais homogêneos, onde dentro de cada um faremos uma seleção de uma amostra aleatória, ou até mesmo uma Estratificada dentro de cada grupo.\n",
        "\n",
        "Por exemplo, separaremos a População em classes de renda, como classe A, B, C, D, e E, e dentro de cada uma selecionaremos uma Amostra Aleatória Simples.\n",
        "\n",
        "No caso de Amostragem por Conglomerados, a ideia é basicamente a mesma, a diferença é que os grupos não são homogêneos, e sim são heterogêneos.\n",
        "\n",
        "Um exemplo dessa técnica é a separação da População em grupos territoriais; se quisermos estudar os bairros de uma cidade, os separaremos em grupos de bairros onde selecionaremos uma Amostra Aleatória Simples dentro de cada um, ou até mesmo uma amostra estratificada dentro desse grupo, pois pode ser misturado também.\n",
        "\n",
        "A seguir, vamos começar a falar de Estimação, Estimação Pontual, Intervalo de Confiança, Cálculo de Tamanho de Amostra, e etc."
      ],
      "metadata": {
        "id": "4lBqbtkpLwWT"
      }
    },
    {
      "cell_type": "markdown",
      "metadata": {
        "id": "stcKhnJBG3F7"
      },
      "source": [
        "## <font color=green>3.4 Amostragem Estratificada</font>\n",
        "***"
      ]
    },
    {
      "cell_type": "markdown",
      "metadata": {
        "id": "W1uEZMRIG3GA"
      },
      "source": [
        "É uma melhoria do processo de amostragem aleatória simples. Neste método é proposta a divisão da população em subgrupos de elementos com características similares, ou seja, grupos mais homogêneos. Com estes subgrupos separados, aplica-se a técnica de amostragem aleatória simples dentro de cada subgrupo individualmente."
      ]
    },
    {
      "cell_type": "markdown",
      "metadata": {
        "id": "xRjUHDAbG3GB"
      },
      "source": [
        "## <font color=green>4.5 Amostragem por Conglomerados</font>\n",
        "***"
      ]
    },
    {
      "cell_type": "markdown",
      "metadata": {
        "id": "sW9IuaL9G3GH"
      },
      "source": [
        "Também visa melhorar o critério de amostragem aleatória simples. Na amostragem por conglomerados são também criados subgrupos, porém não serão homogêneas como na amostragem estratificada. Na amostragem por conglomerados os subgrupos serão heterogêneos, onde, em seguida, serão aplicadas a amostragem aleatória simples ou estratificada.\n",
        "\n",
        "Um exemplo bastante comum de aplicação deste tipo de técnica é na divisão da população em grupos territoriais, onde os elementos investigados terão características bastante variadas."
      ]
    },
    {
      "cell_type": "markdown",
      "source": [
        "## <font color=green>4.6 O que aprendemos <font color=green>"
      ],
      "metadata": {
        "id": "D_dSv-pCMUVU"
      }
    },
    {
      "cell_type": "markdown",
      "source": [
        "Nesta aula, aprendemos:\n",
        "\n",
        "   - Os conceitos de população e amostra\n",
        "\n",
        "   - A identificação de populações finita e infinita\n",
        "\n",
        "   - Quando utilizar a técnica de amostragem em um estudo\n",
        "\n",
        "   - Técnicas de seleção de amostra, como:\n",
        "\n",
        "     - Amostragem aleatória simples\n",
        "\n",
        "     - Amostragem estratificada\n",
        "\n",
        "     - Amostragem por conglomerados"
      ],
      "metadata": {
        "id": "AmO99c3wMXdX"
      }
    },
    {
      "cell_type": "markdown",
      "metadata": {
        "id": "2LNJT4FEuzO4"
      },
      "source": [
        "# <font color=green>5 ESTIMAÇÃO</font>\n",
        "***"
      ]
    },
    {
      "cell_type": "markdown",
      "source": [
        "# <font color=green>5 Teorema do limite central</font>\n",
        "***"
      ],
      "metadata": {
        "id": "LFu6lgAQMyVi"
      }
    },
    {
      "cell_type": "markdown",
      "source": [
        "Já aprendemos sobre a Amostragem e como selecionar uma amostra, e neste passo veremos como obter estimativas dos parâmetros de uma População a partir dos dados de Amostra, processo conhecido como Estimação.\n",
        "\n",
        "Sabemos que os parâmetros da População são os atributos numéricos de População, como a nota média, desvio padrão e etc.\n",
        "\n",
        "Agora estamos trabalhando com amostras, então existe uma margem de erro embutida por não estarmos trabalhando com dados completos da População total, e aprenderemos como calculá-lo.\n",
        "\n",
        "As amostras pontuais são justamente o cálculo de uma média dentro de amostra e desvio padrão de amostra. Também aprenderemos a calcular Estimativas Intervalares e Intervalos de Confiança.\n",
        "\n",
        "Na parte \"5. Estimação\", começaremos com o tipo de problema que já vínhamos lidando até agora para sabermos o que vamos aprender; suponhamos que os pesos dos sacos de arroz de uma indústria alimentícia se distribuam como uma Normal com desvio padrão populacional igual a 150 gramas.\n",
        "\n",
        "Selecionando uma amostra aleatória de 20 sacos de um lote especifico, obteve-se o peso médio de 5 mil e 50 gramas para cada saco.\n",
        "\n",
        "Deveremos construir um Intervalo de Confiança para a média populacional assumir Nível de Significância de 5%. Começaremos a estudar isso agora.\n",
        "\n",
        "Antes de resolver, faremos uma abordagem teórica para começarmos a entender partes desse processo de Estimação, o que tem a ver com a construção do cálculo o Intervalo de Confiança, de um Erro Inferencial, e um tamanho de amostra utilizando informações que aprenderemos adiante.\n",
        "\n",
        "Na parte \"5.1\" do nosso notebook, encontraremos o Teorema do Limite Central com a fórmula:"
      ],
      "metadata": {
        "id": "mqgfZ8hLNhLY"
      }
    },
    {
      "cell_type": "markdown",
      "source": [
        "![image.png](data:image/png;base64,iVBORw0KGgoAAAANSUhEUgAAAMYAAAByCAIAAACHojlpAAALt0lEQVR4Ae2d3UsbyxvHz78yFwtBcrEXEkJIsQQMLdqAKLYIxtZCFIoVCVpE21oVoZa2UJS0UIpVeqPEQn74ciHBm0AopL5EsI1FiLTW14Som5oQs+dw5seQk6xxszuZJOTJhWxmZ55n5jsfZzcz8+z+JcIHFKCqwF9UrYExUEAEpAACygoAUpQFBXOAFDBAWQFAirKgYA6QAgYoKwBIURYUzAFSwABlBQApyoKCOUAKGKCsACBFWVAwB0gBA5QVAKQoCwrmAClggLICgBRlQcEcIAUMUFYAkKIsKJgDpIABygoAUpQFBXOAFDBAWQFAirKgzMwJguB0Ou/du6fT6VDWD8/zS0tLzCoGSDGTmpqjWCw2MzNzJUmpmI2Pj1Nzf5UhQOoqhYrsfCgUstvtqbhcedzS0vLr1y9m7QCkmElNwdHR0ZHNZsMMXb9+fXFxURAEURTj8fjS0pLRaMSnxsbGkskkBX+KTABSimQrRKFoNNrd3Y2h6erqOj09TauF2+3mOA4hVF9ff3x8nHaW2VdAipnUah05nU5MzJ07d/b39zPNHR0dWSwWhJDBYAgEApkZ2KQAUmx0Vutlb28P48Jx3PLysqS5UChUV1eHhzGv1yuZh0EiIMVAZAouXC4XZqWpqSkcDkta3NnZqa6uBqQkxYHE/ygQjUY7OzsxK1mmA1ZWVrRaLULIaDRubW39xwTDLzBKMRRbqSsy/HAcl+WKNj09jbFraGi4bCRTWoUcygFSOYhVqKxk+Kmqqtre3pasRjwe7+3txUiNjo7CJIKkSpD4fwW8Xi9mpbm5ORKJSOpCRjKe579+/SqZh00ijFJsdFblhYxSnZ2d0WhU0ha56vX19cViMck8bBIBKTY6q/JCRqCOjg48XZ5mbnd3t7a2FiFkNpuDwWDaWcZfASnGgitxl0gkhoeHEUImkymTmNPT066uLoQQz/Mej0eJA6plACmqcubNWCAQMJlMCKHXr18nEgniJxgMtra2YtpWVlZIegEPAKkCip+b6y9fvuCFYavV+r9/P52dnRqNhuO4J0+eHB4e5mYub7kBqbxJmwfDgiBMTk42NjZqNBqe51taWiYnJw8ODvLgSrlJQEq5dlBSUgFASlIWSFSuACClXDsoKakAICUpCyQqVwCQUq4dlJRUAJCSlAUSlSsASCnXDkpKKgBIScoCicoVAKSUawclJRWgj1TRBlZLth8SqStAE6kiD6ymrh0YlFSAGlLFGVjt9Xpf0/ssLCyk7gKQFBQS6SBVnIHVFxcXL168wFtsqfy12WwnJycATXYFKCBVKoHV2YWAs7QUoIBUqQRW05JMgR0qY2ShjOTaXrVIUQysjkajocs/kUikgIFEucqalr9QNFDxm9aWK7+qRYpiYDWJ8ZAUIktwyJWNhAwsFVCFVGkFVrOUtZx9qUKKBAOVRGB1OXczy7arQoqELBZnYDX1SYS7d+/CJMKVdKpCimJgtSAInz59unnzJsdxTU1NHo8nHo87nU6TyaTRaB4+fPjz588rG5OZAaY6MzXJd4oqpMgoleXemdx0Zwms3t/ft1qt/f39u7u7kUiko6OD47iampqGhobt7e3FxUWe57O4yLdGYD8nBVQhRe6l1ARWx2Kxvr4+u91OQrMxhVqt1ufzra+v8zyPEMryhImcGgyZ862AKqSoBFb7fL6qqqrNzU3c1GQyOTIyQhjy+/06nU6j0TidztKdl8p3LxaVfVVIiaKoPrB6f39/dXWVLMdGIpHm5maEUGEfklRUnSS/MnNzcxaLRdl9p3wv2XOqRUoURbqB1RsbG5WVlQih+fn57FWHs2kKhEKh2traa9euNTY23lb3efTokdvtVnZZoICUKIoUA6vn5+cL/rTJtK4qla8ulws/xVpy+SHXxJ6envPzcwVtp4OUAseSRRKJxMDAAELIZrOdnZ3hPIlEYnV1VfJJ35JGyjMxHA5brdYszxtmJkvhkfr8+bNGozEajd++fSOL0C9fviQS+P3+qqoqn89HUuAgUwH8agaXy5V5inFKgZEiN+M8z6+vr5NXVkxPT2MhBEGw2+1Z5rQY61Wc7gRBaG9vL4YhShTFAiOFF555nl9cXPz+/Xt9fb3FYuE4Dr8jZW9vz263W61WuOplR3l5eZnjOPJ/mD1zvs8WGClRFHd2dlpbWzmOMxgMTqczHo8vLCzcuHHjnx99Op3O4XCQKdB8a1Gi9vG/pcVi2dvbK4YmFB6pYlChpOvg8Xi0Wu3U1FSRtAKQKpKOUFiNWCzW09NTW1u7u7ur0ATtYoAUbUXZ2vP5fFqt1uFwKJuWzEdlAal8qMrIJl5xl3xy9Z8/fxwOh+7fT0dHh9/vJ8wdHBy8e/eurq4OP/Dz9u3bLpeL4tP3ASlG3Z8PN36/X6/XZ7529h8+nj59ajQa379/39TURB6JnkgkZmZmeJ43GAzPnz93uVx9fX14wj11J4jKqgJSKgUsWPFEIjE4OCj5njS3211RUTE3NyeKotvtxksx7e3tr169qqioePv2LRmTEonE48ePcQZa06SAVMGYUOl4c3NTr9cPDw+TTRzYYNq0J9l5ixDiOG5mZoZcAXF+skdyYGAgzZSyGgJSynQrcCm8U02v15N9ZqRCW1tbRqORbA0ixOD9QpnQkAy09s0CUqQvSukAc5M5RImiOD8/TwKWyDI8QuiyiYbx8XF84YNRqpQIoFvXZDI5Njam1+v9fn+m5Y8fPz548CAUComiSJZQEUIfPnzIzJz6YsjZ2dnMDApSYJRSIFqBiwSDQZPJJGcpPRAIGAwGfBcl+Qbb379/19TUIIQqKys3NjaoNAyQoiKjKiOxWCwQCGTe5UgaxUMUjvWQzJCaiPczIoSqq6t3dnZST+Fjr9eLJxHq6+uPj48zMyhIAaQUiEazCH7Um1arlfkqvWAwaDabe3p6yETAZbVJJpOjo6P4Pil1S2NqfnIjRW7nU88qOwaklOlGp9Ta2prZbMa9LpOSiYkJmfydnZ3ZbDZsPHVLI6k6udPiOG55eZmkqzwApFQKqLA4mcjGXY4Quux2O9UB3vUq89c+ibJECLnd7lQ7+JhE9tLdGANIZUqd9xRBEJ49e4YQ6u/vn5iYIDEIkpMCqbWZmpqSP6J4PB7Mq8FgCAQCqXZEUcT3ZDgD8RsOh7u6ut68eSPzxi7NJv4KSEnKkt9EQRCGhoZcLtfFxUU4HMbLcJe9uphUBQ9R7e3tMvckkvskyUBt4jeVUbyvQeXuUECKdFnBDsj8NUIocw2YVGt6eprjOMlLGMlDDs7Pz+12Ox6ERkZG0hZhRFEkv/XIVQ+PW5KLhsSsnANASo5K+c1D4oIQQqSD01ziQaWtrU3m04iOjo4sFgtGSjLIlnDc29sbj8dFUcQz8oODg2queoUPZ0gTrjy/JpNJh8OBux8hJLnlF4d94s0FclQiQduXjTpklHr+/DkO7rXb7SaT6cePH3LsZ8kDo1QWcdidwhPimKrM2Ck8RGWmZ6kfmeS87N4Lh5IihBoaGmZnZxsbG3U6ncy5sSx+YZTKLg67s+QZOHjxJG00mpub4zgup/1Ma2trBoPh1q1bkuuAuGGHh4dDQ0M8z+OHwgWDQSoNhlGKiowUjOD9T3igSh1aTk5O2trachqiKNRGhQlASoV4VIvijeQYqdQf9jgCW+UPe6o1vcIYIHWFQCxP42khTBVen8FbNC/7GciybvJ9AVLytcp7TgwQRgrvNcCR6ZK/AfNeG6UOACmlyuWnHGYIU9Xd3X3//v3LdmPmxz8Fq4AUBREpmiDrJJgqhNDExETm3DdFj9RNAVLUJVVrkLyWByFkNptp/bZXWy3Z5QEp2VKxypi6PlNUkekyBQCkZArFNNvU1NSVGxOYVigXZ4BULmqxyot3A5fiEAULMqwYKSc/MEqVU28zaSsgxUTmcnICSJVTbzNpKyDFROZycgJIlVNvM2krIMVE5nJyAkiVU28zaSsgxUTmcnICSJVTbzNpKyDFROZycvI3wgun+ZnRCMQAAAAASUVORK5CYII=)"
      ],
      "metadata": {
        "id": "Eqie_pxCN-Am"
      }
    },
    {
      "cell_type": "markdown",
      "source": [
        "Este teorema afirma que, com o aumento do tamanho da amostra, a distribuição das média amostrais se aproxima de distribuição normal com média igual a da População e desvio padrão igual ao desvio padrão da variável original, divido pela raiz quadrada do tamanho da amostra, isso é assegurado para n maior ou igual a 30.\n",
        "\n",
        "Passaremos por cada parte dessa afirmação para tentarmos entendê-lo bem.\n",
        "\n",
        "O cálculo do Desvio Padrão das Médias Amostrais é conhecido como Erro Padrão da Média. Por isso estamos vendo um Teorema de Limite Central, o qual será muito importante para calcularmos o Erro Inferencial, Intervalo de Confiança e o tamanho de amostra.\n",
        "\n",
        "Para entendermos o Limite Central na primeira célula desta parte do notebook, assumiremos que precisamos selecionar uma amostra do dataset que estamos trabalhando, os mesmos dados que importamos no começo do nosso curso.\n",
        "\n",
        "Faremos n igual a 2000, ou seja, amostras do tamanho 2 mil. Repetindo o processo de Amostragem, a variável total_de_amostras será igual a 1500 para repetirmos mil e quinhentas seleções de 2 mil itens do dataset."
      ],
      "metadata": {
        "id": "STGLIg52N_e5"
      }
    },
    {
      "cell_type": "markdown",
      "metadata": {
        "id": "z69W2sVGmybS"
      },
      "source": [
        "## <font color='red'>Problema </font>"
      ]
    },
    {
      "cell_type": "markdown",
      "metadata": {
        "id": "ytP6VpismwDY"
      },
      "source": [
        "Suponha que os pesos dos sacos de arroz de uma indústria alimentícia se distribuem aproximadamente como uma normal de **desvio padrão populacional igual a 150 g**. Selecionada uma **amostra aleatório de 20 sacos** de um lote específico, obteve-se um **peso médio de 5.050 g**. Construa um **intervalo de confiança para a média populacional** assumindo um **nível de significância de 5%**."
      ]
    },
    {
      "cell_type": "markdown",
      "metadata": {
        "id": "PCqEvJMOwvUf"
      },
      "source": [
        "---"
      ]
    },
    {
      "cell_type": "markdown",
      "metadata": {
        "id": "HU578SXBG3GN"
      },
      "source": [
        "É a forma de se fazer suposições generalizadas sobre os parâmetros de uma população tendo como base as informações de uma amostra.\n",
        "\n",
        "- **Parâmetros** são os atributos numéricos de uma população, tal como a média, desvio padrão etc.\n",
        "\n",
        "- **Estimativa** é o valor obtido para determinado parâmetro a partir dos dados de uma amostra da população."
      ]
    },
    {
      "cell_type": "markdown",
      "metadata": {
        "id": "klWVkoUDG3GR"
      },
      "source": [
        "## <font color=green>5.1 Teorema do limite central</font>\n",
        "***"
      ]
    },
    {
      "cell_type": "markdown",
      "metadata": {
        "id": "QpgTvbISG3GU"
      },
      "source": [
        "> O **Teorema do Limite Central** afirma que, com o aumento do tamanho da amostra, a distribuição das médias amostrais se aproxima de uma distribuição normal com média igual à média da população e desvio padrão igual ao desvio padrão da variável original dividido pela raiz quadrada do tamanho da amostra. Este fato é assegurado para $n$ maior ou igual a 30."
      ]
    },
    {
      "cell_type": "markdown",
      "metadata": {
        "id": "ZIAr6is3wEMp"
      },
      "source": [
        "# $$\\sigma_\\bar{x} = \\frac{\\sigma}{\\sqrt{n}}$$\n",
        "\n",
        "O desvio padrão das médias amostrais é conhecido como **erro padrão da média**"
      ]
    },
    {
      "cell_type": "markdown",
      "metadata": {
        "id": "eFtSo6H0iz7z"
      },
      "source": [
        "### Entendendo o Teorema do Limite Central"
      ]
    },
    {
      "cell_type": "code",
      "execution_count": null,
      "metadata": {
        "id": "S3q73XpnizTi"
      },
      "outputs": [],
      "source": [
        "n = 2000\n",
        "total_de_amostras = 1500"
      ]
    },
    {
      "cell_type": "markdown",
      "source": [
        "Na célula seguinte, montaremos um DataFrame vazio chamado amostras com pd.DataFrame()."
      ],
      "metadata": {
        "id": "7gz3IsIFOfo8"
      }
    },
    {
      "cell_type": "code",
      "execution_count": null,
      "metadata": {
        "colab": {
          "base_uri": "https://localhost:8080/",
          "height": 89
        },
        "id": "uXZvARZ0izQp",
        "outputId": "d7afceec-9fc0-42ab-93f7-4159a8e91abc"
      },
      "outputs": [
        {
          "output_type": "execute_result",
          "data": {
            "text/plain": [
              "Empty DataFrame\n",
              "Columns: []\n",
              "Index: []"
            ],
            "text/html": [
              "\n",
              "  <div id=\"df-29469f7d-0220-4a2b-96ce-93e429d84466\" class=\"colab-df-container\">\n",
              "    <div>\n",
              "<style scoped>\n",
              "    .dataframe tbody tr th:only-of-type {\n",
              "        vertical-align: middle;\n",
              "    }\n",
              "\n",
              "    .dataframe tbody tr th {\n",
              "        vertical-align: top;\n",
              "    }\n",
              "\n",
              "    .dataframe thead th {\n",
              "        text-align: right;\n",
              "    }\n",
              "</style>\n",
              "<table border=\"1\" class=\"dataframe\">\n",
              "  <thead>\n",
              "    <tr style=\"text-align: right;\">\n",
              "      <th></th>\n",
              "    </tr>\n",
              "  </thead>\n",
              "  <tbody>\n",
              "  </tbody>\n",
              "</table>\n",
              "</div>\n",
              "    <div class=\"colab-df-buttons\">\n",
              "\n",
              "  <div class=\"colab-df-container\">\n",
              "    <button class=\"colab-df-convert\" onclick=\"convertToInteractive('df-29469f7d-0220-4a2b-96ce-93e429d84466')\"\n",
              "            title=\"Convert this dataframe to an interactive table.\"\n",
              "            style=\"display:none;\">\n",
              "\n",
              "  <svg xmlns=\"http://www.w3.org/2000/svg\" height=\"24px\" viewBox=\"0 -960 960 960\">\n",
              "    <path d=\"M120-120v-720h720v720H120Zm60-500h600v-160H180v160Zm220 220h160v-160H400v160Zm0 220h160v-160H400v160ZM180-400h160v-160H180v160Zm440 0h160v-160H620v160ZM180-180h160v-160H180v160Zm440 0h160v-160H620v160Z\"/>\n",
              "  </svg>\n",
              "    </button>\n",
              "\n",
              "  <style>\n",
              "    .colab-df-container {\n",
              "      display:flex;\n",
              "      gap: 12px;\n",
              "    }\n",
              "\n",
              "    .colab-df-convert {\n",
              "      background-color: #E8F0FE;\n",
              "      border: none;\n",
              "      border-radius: 50%;\n",
              "      cursor: pointer;\n",
              "      display: none;\n",
              "      fill: #1967D2;\n",
              "      height: 32px;\n",
              "      padding: 0 0 0 0;\n",
              "      width: 32px;\n",
              "    }\n",
              "\n",
              "    .colab-df-convert:hover {\n",
              "      background-color: #E2EBFA;\n",
              "      box-shadow: 0px 1px 2px rgba(60, 64, 67, 0.3), 0px 1px 3px 1px rgba(60, 64, 67, 0.15);\n",
              "      fill: #174EA6;\n",
              "    }\n",
              "\n",
              "    .colab-df-buttons div {\n",
              "      margin-bottom: 4px;\n",
              "    }\n",
              "\n",
              "    [theme=dark] .colab-df-convert {\n",
              "      background-color: #3B4455;\n",
              "      fill: #D2E3FC;\n",
              "    }\n",
              "\n",
              "    [theme=dark] .colab-df-convert:hover {\n",
              "      background-color: #434B5C;\n",
              "      box-shadow: 0px 1px 3px 1px rgba(0, 0, 0, 0.15);\n",
              "      filter: drop-shadow(0px 1px 2px rgba(0, 0, 0, 0.3));\n",
              "      fill: #FFFFFF;\n",
              "    }\n",
              "  </style>\n",
              "\n",
              "    <script>\n",
              "      const buttonEl =\n",
              "        document.querySelector('#df-29469f7d-0220-4a2b-96ce-93e429d84466 button.colab-df-convert');\n",
              "      buttonEl.style.display =\n",
              "        google.colab.kernel.accessAllowed ? 'block' : 'none';\n",
              "\n",
              "      async function convertToInteractive(key) {\n",
              "        const element = document.querySelector('#df-29469f7d-0220-4a2b-96ce-93e429d84466');\n",
              "        const dataTable =\n",
              "          await google.colab.kernel.invokeFunction('convertToInteractive',\n",
              "                                                    [key], {});\n",
              "        if (!dataTable) return;\n",
              "\n",
              "        const docLinkHtml = 'Like what you see? Visit the ' +\n",
              "          '<a target=\"_blank\" href=https://colab.research.google.com/notebooks/data_table.ipynb>data table notebook</a>'\n",
              "          + ' to learn more about interactive tables.';\n",
              "        element.innerHTML = '';\n",
              "        dataTable['output_type'] = 'display_data';\n",
              "        await google.colab.output.renderOutput(dataTable, element);\n",
              "        const docLink = document.createElement('div');\n",
              "        docLink.innerHTML = docLinkHtml;\n",
              "        element.appendChild(docLink);\n",
              "      }\n",
              "    </script>\n",
              "  </div>\n",
              "\n",
              "\n",
              "  <div id=\"id_259350b7-35a1-4a64-9787-52f8ec3612ef\">\n",
              "    <style>\n",
              "      .colab-df-generate {\n",
              "        background-color: #E8F0FE;\n",
              "        border: none;\n",
              "        border-radius: 50%;\n",
              "        cursor: pointer;\n",
              "        display: none;\n",
              "        fill: #1967D2;\n",
              "        height: 32px;\n",
              "        padding: 0 0 0 0;\n",
              "        width: 32px;\n",
              "      }\n",
              "\n",
              "      .colab-df-generate:hover {\n",
              "        background-color: #E2EBFA;\n",
              "        box-shadow: 0px 1px 2px rgba(60, 64, 67, 0.3), 0px 1px 3px 1px rgba(60, 64, 67, 0.15);\n",
              "        fill: #174EA6;\n",
              "      }\n",
              "\n",
              "      [theme=dark] .colab-df-generate {\n",
              "        background-color: #3B4455;\n",
              "        fill: #D2E3FC;\n",
              "      }\n",
              "\n",
              "      [theme=dark] .colab-df-generate:hover {\n",
              "        background-color: #434B5C;\n",
              "        box-shadow: 0px 1px 3px 1px rgba(0, 0, 0, 0.15);\n",
              "        filter: drop-shadow(0px 1px 2px rgba(0, 0, 0, 0.3));\n",
              "        fill: #FFFFFF;\n",
              "      }\n",
              "    </style>\n",
              "    <button class=\"colab-df-generate\" onclick=\"generateWithVariable('amostras')\"\n",
              "            title=\"Generate code using this dataframe.\"\n",
              "            style=\"display:none;\">\n",
              "\n",
              "  <svg xmlns=\"http://www.w3.org/2000/svg\" height=\"24px\"viewBox=\"0 0 24 24\"\n",
              "       width=\"24px\">\n",
              "    <path d=\"M7,19H8.4L18.45,9,17,7.55,7,17.6ZM5,21V16.75L18.45,3.32a2,2,0,0,1,2.83,0l1.4,1.43a1.91,1.91,0,0,1,.58,1.4,1.91,1.91,0,0,1-.58,1.4L9.25,21ZM18.45,9,17,7.55Zm-12,3A5.31,5.31,0,0,0,4.9,8.1,5.31,5.31,0,0,0,1,6.5,5.31,5.31,0,0,0,4.9,4.9,5.31,5.31,0,0,0,6.5,1,5.31,5.31,0,0,0,8.1,4.9,5.31,5.31,0,0,0,12,6.5,5.46,5.46,0,0,0,6.5,12Z\"/>\n",
              "  </svg>\n",
              "    </button>\n",
              "    <script>\n",
              "      (() => {\n",
              "      const buttonEl =\n",
              "        document.querySelector('#id_259350b7-35a1-4a64-9787-52f8ec3612ef button.colab-df-generate');\n",
              "      buttonEl.style.display =\n",
              "        google.colab.kernel.accessAllowed ? 'block' : 'none';\n",
              "\n",
              "      buttonEl.onclick = () => {\n",
              "        google.colab.notebook.generateWithVariable('amostras');\n",
              "      }\n",
              "      })();\n",
              "    </script>\n",
              "  </div>\n",
              "\n",
              "    </div>\n",
              "  </div>\n"
            ],
            "application/vnd.google.colaboratory.intrinsic+json": {
              "type": "dataframe",
              "variable_name": "amostras",
              "summary": "{\n  \"name\": \"amostras\",\n  \"rows\": 0,\n  \"fields\": []\n}"
            }
          },
          "metadata": {},
          "execution_count": 65
        }
      ],
      "source": [
        "amostras = pd.DataFrame()\n",
        "amostras"
      ]
    },
    {
      "cell_type": "markdown",
      "source": [
        "O preencheremos com as amostras que criaremos agora. Com laço for para cada i em range() com o total_de_amostras para repetirmos o processo de Amostragem 1500 vezes com amostras de tamanho 2000.\n",
        "\n",
        "Usaremos o underscore _ para não armazenarmos o resultado em lugar nenhum.\n",
        "\n",
        "Chamaremos o dados que é o nosso dadaset com a variável Idade e o método .sample() para a primeira Amostragem de n, pois queremos amostras de tamanho 2 mil e nosso n é igual a 2000.\n",
        "\n",
        "Antes, temos que fazer alguns ajustes para isso funcionar.\n",
        "\n",
        "Como faremos a Seleção de Amostra, manteremos os índices dos registros que foram amostrados ou selecionados. O index será resetado e transformado em nova sequência numérica partindo de 0.\n",
        "\n",
        "Logo, _.index será igual a range() com 0 e tamanho len() do underscore _. Com isso, falaremos que o índice será um intervalo de 0 ao tamanho total de 2000.\n",
        "\n",
        "Em seguida, pegaremos a amostras[] e criaremos outra variável dentro chamada de 'Amostra_ com underscore. Concatenaremos com a amostra usando str(i) para termos um índice de cada iteração que estamos fazendo.\n",
        "\n",
        "Por fim, atribuiremos ao _ criado e rodaremos chamando apenas amostras."
      ],
      "metadata": {
        "id": "YKPdHqeiOqGC"
      }
    },
    {
      "cell_type": "code",
      "execution_count": null,
      "metadata": {
        "colab": {
          "base_uri": "https://localhost:8080/",
          "height": 443
        },
        "id": "tXa7XKhKTyMu",
        "outputId": "8cdc0d3f-309d-4b5b-8bb5-072646d1ac09",
        "scrolled": true
      },
      "outputs": [
        {
          "output_type": "execute_result",
          "data": {
            "text/plain": [
              "      Amostra_0  Amostra_1  Amostra_2  Amostra_3  Amostra_4  Amostra_5  \\\n",
              "0            28         44         50         46         38         51   \n",
              "1            26         34         62         36         43         56   \n",
              "2            28         43         60         45         40         40   \n",
              "3            48         22         28         32         38         41   \n",
              "4            29         27         57         36         33         67   \n",
              "...         ...        ...        ...        ...        ...        ...   \n",
              "1995         69         54         51         20         50         45   \n",
              "1996         37         27         35         41         54         36   \n",
              "1997         35         38         31         43         51         43   \n",
              "1998         18         57         62         22         33         59   \n",
              "1999         37         42         52         40         39         52   \n",
              "\n",
              "      Amostra_6  Amostra_7  Amostra_8  Amostra_9  ...  Amostra_1490  \\\n",
              "0            25         53         39         25  ...            37   \n",
              "1            39         41         51         36  ...            39   \n",
              "2            47         55         22         57  ...            42   \n",
              "3            37         35         39         31  ...            57   \n",
              "4            63         32         59         39  ...            51   \n",
              "...         ...        ...        ...        ...  ...           ...   \n",
              "1995         40         48         49         45  ...            37   \n",
              "1996         47         65         42         51  ...            53   \n",
              "1997         40         24         43         70  ...            53   \n",
              "1998         40         46         41         57  ...            55   \n",
              "1999         43         24         58         53  ...            43   \n",
              "\n",
              "      Amostra_1491  Amostra_1492  Amostra_1493  Amostra_1494  Amostra_1495  \\\n",
              "0               49            53            48            40            34   \n",
              "1               54            40            44            57            59   \n",
              "2               57            25            57            29            45   \n",
              "3               43            40            31            41            55   \n",
              "4               52            19            35            50            43   \n",
              "...            ...           ...           ...           ...           ...   \n",
              "1995            29            34            38            27            37   \n",
              "1996            27            47            58            27            45   \n",
              "1997            35            61            59            50            43   \n",
              "1998            34            34            46            35            41   \n",
              "1999            57            42            30            43            50   \n",
              "\n",
              "      Amostra_1496  Amostra_1497  Amostra_1498  Amostra_1499  \n",
              "0               57            38            51            51  \n",
              "1               49            45            58            57  \n",
              "2               46            35            46            36  \n",
              "3               47            72            29            61  \n",
              "4               19            37            29            41  \n",
              "...            ...           ...           ...           ...  \n",
              "1995            41            41            45            44  \n",
              "1996            65            63            23            37  \n",
              "1997            26            46            57            51  \n",
              "1998            37            72            48            41  \n",
              "1999            19            40            64            40  \n",
              "\n",
              "[2000 rows x 1500 columns]"
            ],
            "text/html": [
              "\n",
              "  <div id=\"df-a9a9bf1f-8dca-43bc-bad8-670e2d54351b\" class=\"colab-df-container\">\n",
              "    <div>\n",
              "<style scoped>\n",
              "    .dataframe tbody tr th:only-of-type {\n",
              "        vertical-align: middle;\n",
              "    }\n",
              "\n",
              "    .dataframe tbody tr th {\n",
              "        vertical-align: top;\n",
              "    }\n",
              "\n",
              "    .dataframe thead th {\n",
              "        text-align: right;\n",
              "    }\n",
              "</style>\n",
              "<table border=\"1\" class=\"dataframe\">\n",
              "  <thead>\n",
              "    <tr style=\"text-align: right;\">\n",
              "      <th></th>\n",
              "      <th>Amostra_0</th>\n",
              "      <th>Amostra_1</th>\n",
              "      <th>Amostra_2</th>\n",
              "      <th>Amostra_3</th>\n",
              "      <th>Amostra_4</th>\n",
              "      <th>Amostra_5</th>\n",
              "      <th>Amostra_6</th>\n",
              "      <th>Amostra_7</th>\n",
              "      <th>Amostra_8</th>\n",
              "      <th>Amostra_9</th>\n",
              "      <th>...</th>\n",
              "      <th>Amostra_1490</th>\n",
              "      <th>Amostra_1491</th>\n",
              "      <th>Amostra_1492</th>\n",
              "      <th>Amostra_1493</th>\n",
              "      <th>Amostra_1494</th>\n",
              "      <th>Amostra_1495</th>\n",
              "      <th>Amostra_1496</th>\n",
              "      <th>Amostra_1497</th>\n",
              "      <th>Amostra_1498</th>\n",
              "      <th>Amostra_1499</th>\n",
              "    </tr>\n",
              "  </thead>\n",
              "  <tbody>\n",
              "    <tr>\n",
              "      <th>0</th>\n",
              "      <td>28</td>\n",
              "      <td>44</td>\n",
              "      <td>50</td>\n",
              "      <td>46</td>\n",
              "      <td>38</td>\n",
              "      <td>51</td>\n",
              "      <td>25</td>\n",
              "      <td>53</td>\n",
              "      <td>39</td>\n",
              "      <td>25</td>\n",
              "      <td>...</td>\n",
              "      <td>37</td>\n",
              "      <td>49</td>\n",
              "      <td>53</td>\n",
              "      <td>48</td>\n",
              "      <td>40</td>\n",
              "      <td>34</td>\n",
              "      <td>57</td>\n",
              "      <td>38</td>\n",
              "      <td>51</td>\n",
              "      <td>51</td>\n",
              "    </tr>\n",
              "    <tr>\n",
              "      <th>1</th>\n",
              "      <td>26</td>\n",
              "      <td>34</td>\n",
              "      <td>62</td>\n",
              "      <td>36</td>\n",
              "      <td>43</td>\n",
              "      <td>56</td>\n",
              "      <td>39</td>\n",
              "      <td>41</td>\n",
              "      <td>51</td>\n",
              "      <td>36</td>\n",
              "      <td>...</td>\n",
              "      <td>39</td>\n",
              "      <td>54</td>\n",
              "      <td>40</td>\n",
              "      <td>44</td>\n",
              "      <td>57</td>\n",
              "      <td>59</td>\n",
              "      <td>49</td>\n",
              "      <td>45</td>\n",
              "      <td>58</td>\n",
              "      <td>57</td>\n",
              "    </tr>\n",
              "    <tr>\n",
              "      <th>2</th>\n",
              "      <td>28</td>\n",
              "      <td>43</td>\n",
              "      <td>60</td>\n",
              "      <td>45</td>\n",
              "      <td>40</td>\n",
              "      <td>40</td>\n",
              "      <td>47</td>\n",
              "      <td>55</td>\n",
              "      <td>22</td>\n",
              "      <td>57</td>\n",
              "      <td>...</td>\n",
              "      <td>42</td>\n",
              "      <td>57</td>\n",
              "      <td>25</td>\n",
              "      <td>57</td>\n",
              "      <td>29</td>\n",
              "      <td>45</td>\n",
              "      <td>46</td>\n",
              "      <td>35</td>\n",
              "      <td>46</td>\n",
              "      <td>36</td>\n",
              "    </tr>\n",
              "    <tr>\n",
              "      <th>3</th>\n",
              "      <td>48</td>\n",
              "      <td>22</td>\n",
              "      <td>28</td>\n",
              "      <td>32</td>\n",
              "      <td>38</td>\n",
              "      <td>41</td>\n",
              "      <td>37</td>\n",
              "      <td>35</td>\n",
              "      <td>39</td>\n",
              "      <td>31</td>\n",
              "      <td>...</td>\n",
              "      <td>57</td>\n",
              "      <td>43</td>\n",
              "      <td>40</td>\n",
              "      <td>31</td>\n",
              "      <td>41</td>\n",
              "      <td>55</td>\n",
              "      <td>47</td>\n",
              "      <td>72</td>\n",
              "      <td>29</td>\n",
              "      <td>61</td>\n",
              "    </tr>\n",
              "    <tr>\n",
              "      <th>4</th>\n",
              "      <td>29</td>\n",
              "      <td>27</td>\n",
              "      <td>57</td>\n",
              "      <td>36</td>\n",
              "      <td>33</td>\n",
              "      <td>67</td>\n",
              "      <td>63</td>\n",
              "      <td>32</td>\n",
              "      <td>59</td>\n",
              "      <td>39</td>\n",
              "      <td>...</td>\n",
              "      <td>51</td>\n",
              "      <td>52</td>\n",
              "      <td>19</td>\n",
              "      <td>35</td>\n",
              "      <td>50</td>\n",
              "      <td>43</td>\n",
              "      <td>19</td>\n",
              "      <td>37</td>\n",
              "      <td>29</td>\n",
              "      <td>41</td>\n",
              "    </tr>\n",
              "    <tr>\n",
              "      <th>...</th>\n",
              "      <td>...</td>\n",
              "      <td>...</td>\n",
              "      <td>...</td>\n",
              "      <td>...</td>\n",
              "      <td>...</td>\n",
              "      <td>...</td>\n",
              "      <td>...</td>\n",
              "      <td>...</td>\n",
              "      <td>...</td>\n",
              "      <td>...</td>\n",
              "      <td>...</td>\n",
              "      <td>...</td>\n",
              "      <td>...</td>\n",
              "      <td>...</td>\n",
              "      <td>...</td>\n",
              "      <td>...</td>\n",
              "      <td>...</td>\n",
              "      <td>...</td>\n",
              "      <td>...</td>\n",
              "      <td>...</td>\n",
              "      <td>...</td>\n",
              "    </tr>\n",
              "    <tr>\n",
              "      <th>1995</th>\n",
              "      <td>69</td>\n",
              "      <td>54</td>\n",
              "      <td>51</td>\n",
              "      <td>20</td>\n",
              "      <td>50</td>\n",
              "      <td>45</td>\n",
              "      <td>40</td>\n",
              "      <td>48</td>\n",
              "      <td>49</td>\n",
              "      <td>45</td>\n",
              "      <td>...</td>\n",
              "      <td>37</td>\n",
              "      <td>29</td>\n",
              "      <td>34</td>\n",
              "      <td>38</td>\n",
              "      <td>27</td>\n",
              "      <td>37</td>\n",
              "      <td>41</td>\n",
              "      <td>41</td>\n",
              "      <td>45</td>\n",
              "      <td>44</td>\n",
              "    </tr>\n",
              "    <tr>\n",
              "      <th>1996</th>\n",
              "      <td>37</td>\n",
              "      <td>27</td>\n",
              "      <td>35</td>\n",
              "      <td>41</td>\n",
              "      <td>54</td>\n",
              "      <td>36</td>\n",
              "      <td>47</td>\n",
              "      <td>65</td>\n",
              "      <td>42</td>\n",
              "      <td>51</td>\n",
              "      <td>...</td>\n",
              "      <td>53</td>\n",
              "      <td>27</td>\n",
              "      <td>47</td>\n",
              "      <td>58</td>\n",
              "      <td>27</td>\n",
              "      <td>45</td>\n",
              "      <td>65</td>\n",
              "      <td>63</td>\n",
              "      <td>23</td>\n",
              "      <td>37</td>\n",
              "    </tr>\n",
              "    <tr>\n",
              "      <th>1997</th>\n",
              "      <td>35</td>\n",
              "      <td>38</td>\n",
              "      <td>31</td>\n",
              "      <td>43</td>\n",
              "      <td>51</td>\n",
              "      <td>43</td>\n",
              "      <td>40</td>\n",
              "      <td>24</td>\n",
              "      <td>43</td>\n",
              "      <td>70</td>\n",
              "      <td>...</td>\n",
              "      <td>53</td>\n",
              "      <td>35</td>\n",
              "      <td>61</td>\n",
              "      <td>59</td>\n",
              "      <td>50</td>\n",
              "      <td>43</td>\n",
              "      <td>26</td>\n",
              "      <td>46</td>\n",
              "      <td>57</td>\n",
              "      <td>51</td>\n",
              "    </tr>\n",
              "    <tr>\n",
              "      <th>1998</th>\n",
              "      <td>18</td>\n",
              "      <td>57</td>\n",
              "      <td>62</td>\n",
              "      <td>22</td>\n",
              "      <td>33</td>\n",
              "      <td>59</td>\n",
              "      <td>40</td>\n",
              "      <td>46</td>\n",
              "      <td>41</td>\n",
              "      <td>57</td>\n",
              "      <td>...</td>\n",
              "      <td>55</td>\n",
              "      <td>34</td>\n",
              "      <td>34</td>\n",
              "      <td>46</td>\n",
              "      <td>35</td>\n",
              "      <td>41</td>\n",
              "      <td>37</td>\n",
              "      <td>72</td>\n",
              "      <td>48</td>\n",
              "      <td>41</td>\n",
              "    </tr>\n",
              "    <tr>\n",
              "      <th>1999</th>\n",
              "      <td>37</td>\n",
              "      <td>42</td>\n",
              "      <td>52</td>\n",
              "      <td>40</td>\n",
              "      <td>39</td>\n",
              "      <td>52</td>\n",
              "      <td>43</td>\n",
              "      <td>24</td>\n",
              "      <td>58</td>\n",
              "      <td>53</td>\n",
              "      <td>...</td>\n",
              "      <td>43</td>\n",
              "      <td>57</td>\n",
              "      <td>42</td>\n",
              "      <td>30</td>\n",
              "      <td>43</td>\n",
              "      <td>50</td>\n",
              "      <td>19</td>\n",
              "      <td>40</td>\n",
              "      <td>64</td>\n",
              "      <td>40</td>\n",
              "    </tr>\n",
              "  </tbody>\n",
              "</table>\n",
              "<p>2000 rows × 1500 columns</p>\n",
              "</div>\n",
              "    <div class=\"colab-df-buttons\">\n",
              "\n",
              "  <div class=\"colab-df-container\">\n",
              "    <button class=\"colab-df-convert\" onclick=\"convertToInteractive('df-a9a9bf1f-8dca-43bc-bad8-670e2d54351b')\"\n",
              "            title=\"Convert this dataframe to an interactive table.\"\n",
              "            style=\"display:none;\">\n",
              "\n",
              "  <svg xmlns=\"http://www.w3.org/2000/svg\" height=\"24px\" viewBox=\"0 -960 960 960\">\n",
              "    <path d=\"M120-120v-720h720v720H120Zm60-500h600v-160H180v160Zm220 220h160v-160H400v160Zm0 220h160v-160H400v160ZM180-400h160v-160H180v160Zm440 0h160v-160H620v160ZM180-180h160v-160H180v160Zm440 0h160v-160H620v160Z\"/>\n",
              "  </svg>\n",
              "    </button>\n",
              "\n",
              "  <style>\n",
              "    .colab-df-container {\n",
              "      display:flex;\n",
              "      gap: 12px;\n",
              "    }\n",
              "\n",
              "    .colab-df-convert {\n",
              "      background-color: #E8F0FE;\n",
              "      border: none;\n",
              "      border-radius: 50%;\n",
              "      cursor: pointer;\n",
              "      display: none;\n",
              "      fill: #1967D2;\n",
              "      height: 32px;\n",
              "      padding: 0 0 0 0;\n",
              "      width: 32px;\n",
              "    }\n",
              "\n",
              "    .colab-df-convert:hover {\n",
              "      background-color: #E2EBFA;\n",
              "      box-shadow: 0px 1px 2px rgba(60, 64, 67, 0.3), 0px 1px 3px 1px rgba(60, 64, 67, 0.15);\n",
              "      fill: #174EA6;\n",
              "    }\n",
              "\n",
              "    .colab-df-buttons div {\n",
              "      margin-bottom: 4px;\n",
              "    }\n",
              "\n",
              "    [theme=dark] .colab-df-convert {\n",
              "      background-color: #3B4455;\n",
              "      fill: #D2E3FC;\n",
              "    }\n",
              "\n",
              "    [theme=dark] .colab-df-convert:hover {\n",
              "      background-color: #434B5C;\n",
              "      box-shadow: 0px 1px 3px 1px rgba(0, 0, 0, 0.15);\n",
              "      filter: drop-shadow(0px 1px 2px rgba(0, 0, 0, 0.3));\n",
              "      fill: #FFFFFF;\n",
              "    }\n",
              "  </style>\n",
              "\n",
              "    <script>\n",
              "      const buttonEl =\n",
              "        document.querySelector('#df-a9a9bf1f-8dca-43bc-bad8-670e2d54351b button.colab-df-convert');\n",
              "      buttonEl.style.display =\n",
              "        google.colab.kernel.accessAllowed ? 'block' : 'none';\n",
              "\n",
              "      async function convertToInteractive(key) {\n",
              "        const element = document.querySelector('#df-a9a9bf1f-8dca-43bc-bad8-670e2d54351b');\n",
              "        const dataTable =\n",
              "          await google.colab.kernel.invokeFunction('convertToInteractive',\n",
              "                                                    [key], {});\n",
              "        if (!dataTable) return;\n",
              "\n",
              "        const docLinkHtml = 'Like what you see? Visit the ' +\n",
              "          '<a target=\"_blank\" href=https://colab.research.google.com/notebooks/data_table.ipynb>data table notebook</a>'\n",
              "          + ' to learn more about interactive tables.';\n",
              "        element.innerHTML = '';\n",
              "        dataTable['output_type'] = 'display_data';\n",
              "        await google.colab.output.renderOutput(dataTable, element);\n",
              "        const docLink = document.createElement('div');\n",
              "        docLink.innerHTML = docLinkHtml;\n",
              "        element.appendChild(docLink);\n",
              "      }\n",
              "    </script>\n",
              "  </div>\n",
              "\n",
              "\n",
              "    <div id=\"df-9c8f16ba-48a6-4402-b128-b56eabdfb880\">\n",
              "      <button class=\"colab-df-quickchart\" onclick=\"quickchart('df-9c8f16ba-48a6-4402-b128-b56eabdfb880')\"\n",
              "                title=\"Suggest charts\"\n",
              "                style=\"display:none;\">\n",
              "\n",
              "<svg xmlns=\"http://www.w3.org/2000/svg\" height=\"24px\"viewBox=\"0 0 24 24\"\n",
              "     width=\"24px\">\n",
              "    <g>\n",
              "        <path d=\"M19 3H5c-1.1 0-2 .9-2 2v14c0 1.1.9 2 2 2h14c1.1 0 2-.9 2-2V5c0-1.1-.9-2-2-2zM9 17H7v-7h2v7zm4 0h-2V7h2v10zm4 0h-2v-4h2v4z\"/>\n",
              "    </g>\n",
              "</svg>\n",
              "      </button>\n",
              "\n",
              "<style>\n",
              "  .colab-df-quickchart {\n",
              "      --bg-color: #E8F0FE;\n",
              "      --fill-color: #1967D2;\n",
              "      --hover-bg-color: #E2EBFA;\n",
              "      --hover-fill-color: #174EA6;\n",
              "      --disabled-fill-color: #AAA;\n",
              "      --disabled-bg-color: #DDD;\n",
              "  }\n",
              "\n",
              "  [theme=dark] .colab-df-quickchart {\n",
              "      --bg-color: #3B4455;\n",
              "      --fill-color: #D2E3FC;\n",
              "      --hover-bg-color: #434B5C;\n",
              "      --hover-fill-color: #FFFFFF;\n",
              "      --disabled-bg-color: #3B4455;\n",
              "      --disabled-fill-color: #666;\n",
              "  }\n",
              "\n",
              "  .colab-df-quickchart {\n",
              "    background-color: var(--bg-color);\n",
              "    border: none;\n",
              "    border-radius: 50%;\n",
              "    cursor: pointer;\n",
              "    display: none;\n",
              "    fill: var(--fill-color);\n",
              "    height: 32px;\n",
              "    padding: 0;\n",
              "    width: 32px;\n",
              "  }\n",
              "\n",
              "  .colab-df-quickchart:hover {\n",
              "    background-color: var(--hover-bg-color);\n",
              "    box-shadow: 0 1px 2px rgba(60, 64, 67, 0.3), 0 1px 3px 1px rgba(60, 64, 67, 0.15);\n",
              "    fill: var(--button-hover-fill-color);\n",
              "  }\n",
              "\n",
              "  .colab-df-quickchart-complete:disabled,\n",
              "  .colab-df-quickchart-complete:disabled:hover {\n",
              "    background-color: var(--disabled-bg-color);\n",
              "    fill: var(--disabled-fill-color);\n",
              "    box-shadow: none;\n",
              "  }\n",
              "\n",
              "  .colab-df-spinner {\n",
              "    border: 2px solid var(--fill-color);\n",
              "    border-color: transparent;\n",
              "    border-bottom-color: var(--fill-color);\n",
              "    animation:\n",
              "      spin 1s steps(1) infinite;\n",
              "  }\n",
              "\n",
              "  @keyframes spin {\n",
              "    0% {\n",
              "      border-color: transparent;\n",
              "      border-bottom-color: var(--fill-color);\n",
              "      border-left-color: var(--fill-color);\n",
              "    }\n",
              "    20% {\n",
              "      border-color: transparent;\n",
              "      border-left-color: var(--fill-color);\n",
              "      border-top-color: var(--fill-color);\n",
              "    }\n",
              "    30% {\n",
              "      border-color: transparent;\n",
              "      border-left-color: var(--fill-color);\n",
              "      border-top-color: var(--fill-color);\n",
              "      border-right-color: var(--fill-color);\n",
              "    }\n",
              "    40% {\n",
              "      border-color: transparent;\n",
              "      border-right-color: var(--fill-color);\n",
              "      border-top-color: var(--fill-color);\n",
              "    }\n",
              "    60% {\n",
              "      border-color: transparent;\n",
              "      border-right-color: var(--fill-color);\n",
              "    }\n",
              "    80% {\n",
              "      border-color: transparent;\n",
              "      border-right-color: var(--fill-color);\n",
              "      border-bottom-color: var(--fill-color);\n",
              "    }\n",
              "    90% {\n",
              "      border-color: transparent;\n",
              "      border-bottom-color: var(--fill-color);\n",
              "    }\n",
              "  }\n",
              "</style>\n",
              "\n",
              "      <script>\n",
              "        async function quickchart(key) {\n",
              "          const quickchartButtonEl =\n",
              "            document.querySelector('#' + key + ' button');\n",
              "          quickchartButtonEl.disabled = true;  // To prevent multiple clicks.\n",
              "          quickchartButtonEl.classList.add('colab-df-spinner');\n",
              "          try {\n",
              "            const charts = await google.colab.kernel.invokeFunction(\n",
              "                'suggestCharts', [key], {});\n",
              "          } catch (error) {\n",
              "            console.error('Error during call to suggestCharts:', error);\n",
              "          }\n",
              "          quickchartButtonEl.classList.remove('colab-df-spinner');\n",
              "          quickchartButtonEl.classList.add('colab-df-quickchart-complete');\n",
              "        }\n",
              "        (() => {\n",
              "          let quickchartButtonEl =\n",
              "            document.querySelector('#df-9c8f16ba-48a6-4402-b128-b56eabdfb880 button');\n",
              "          quickchartButtonEl.style.display =\n",
              "            google.colab.kernel.accessAllowed ? 'block' : 'none';\n",
              "        })();\n",
              "      </script>\n",
              "    </div>\n",
              "\n",
              "  <div id=\"id_b6c10146-f8a9-4e5c-b795-8c95b1173bd2\">\n",
              "    <style>\n",
              "      .colab-df-generate {\n",
              "        background-color: #E8F0FE;\n",
              "        border: none;\n",
              "        border-radius: 50%;\n",
              "        cursor: pointer;\n",
              "        display: none;\n",
              "        fill: #1967D2;\n",
              "        height: 32px;\n",
              "        padding: 0 0 0 0;\n",
              "        width: 32px;\n",
              "      }\n",
              "\n",
              "      .colab-df-generate:hover {\n",
              "        background-color: #E2EBFA;\n",
              "        box-shadow: 0px 1px 2px rgba(60, 64, 67, 0.3), 0px 1px 3px 1px rgba(60, 64, 67, 0.15);\n",
              "        fill: #174EA6;\n",
              "      }\n",
              "\n",
              "      [theme=dark] .colab-df-generate {\n",
              "        background-color: #3B4455;\n",
              "        fill: #D2E3FC;\n",
              "      }\n",
              "\n",
              "      [theme=dark] .colab-df-generate:hover {\n",
              "        background-color: #434B5C;\n",
              "        box-shadow: 0px 1px 3px 1px rgba(0, 0, 0, 0.15);\n",
              "        filter: drop-shadow(0px 1px 2px rgba(0, 0, 0, 0.3));\n",
              "        fill: #FFFFFF;\n",
              "      }\n",
              "    </style>\n",
              "    <button class=\"colab-df-generate\" onclick=\"generateWithVariable('amostras')\"\n",
              "            title=\"Generate code using this dataframe.\"\n",
              "            style=\"display:none;\">\n",
              "\n",
              "  <svg xmlns=\"http://www.w3.org/2000/svg\" height=\"24px\"viewBox=\"0 0 24 24\"\n",
              "       width=\"24px\">\n",
              "    <path d=\"M7,19H8.4L18.45,9,17,7.55,7,17.6ZM5,21V16.75L18.45,3.32a2,2,0,0,1,2.83,0l1.4,1.43a1.91,1.91,0,0,1,.58,1.4,1.91,1.91,0,0,1-.58,1.4L9.25,21ZM18.45,9,17,7.55Zm-12,3A5.31,5.31,0,0,0,4.9,8.1,5.31,5.31,0,0,0,1,6.5,5.31,5.31,0,0,0,4.9,4.9,5.31,5.31,0,0,0,6.5,1,5.31,5.31,0,0,0,8.1,4.9,5.31,5.31,0,0,0,12,6.5,5.46,5.46,0,0,0,6.5,12Z\"/>\n",
              "  </svg>\n",
              "    </button>\n",
              "    <script>\n",
              "      (() => {\n",
              "      const buttonEl =\n",
              "        document.querySelector('#id_b6c10146-f8a9-4e5c-b795-8c95b1173bd2 button.colab-df-generate');\n",
              "      buttonEl.style.display =\n",
              "        google.colab.kernel.accessAllowed ? 'block' : 'none';\n",
              "\n",
              "      buttonEl.onclick = () => {\n",
              "        google.colab.notebook.generateWithVariable('amostras');\n",
              "      }\n",
              "      })();\n",
              "    </script>\n",
              "  </div>\n",
              "\n",
              "    </div>\n",
              "  </div>\n"
            ],
            "application/vnd.google.colaboratory.intrinsic+json": {
              "type": "dataframe",
              "variable_name": "amostras"
            }
          },
          "metadata": {},
          "execution_count": 67
        }
      ],
      "source": [
        "for i in range(total_de_amostras):\n",
        "  _ = dados.Idade.sample(n)\n",
        "  _.index = range(0, len(_))\n",
        "  amostras['Amostra_' + str(i)] = _\n",
        "\n",
        "amostras"
      ]
    },
    {
      "cell_type": "markdown",
      "source": [
        "Como resultado, teremos uma tabela com 2 mil linhas e mil e 500 colunas, representando amostras de tamanho 2 mil repetidas mil e quinhentas vezes.\n",
        "\n",
        "Com o aumento do tamanho da amostra, a Distribuição das Médias Amostrais se aproximam de uma Distribuição Normal.\n",
        "\n",
        "Para entendermos melhor, chamaremos amostras com o método .mean() que tira a média de cada coluna da tabela com as duas mil amostras."
      ],
      "metadata": {
        "id": "sR-epbQYPAL6"
      }
    },
    {
      "cell_type": "code",
      "execution_count": null,
      "metadata": {
        "colab": {
          "base_uri": "https://localhost:8080/",
          "height": 458
        },
        "id": "v5Q-rnS_izNd",
        "outputId": "5de9af7d-3c8e-41ee-9fe2-0e93b512822b",
        "scrolled": true
      },
      "outputs": [
        {
          "output_type": "execute_result",
          "data": {
            "text/plain": [
              "Amostra_0       43.7510\n",
              "Amostra_1       43.7885\n",
              "Amostra_2       43.9715\n",
              "Amostra_3       44.5645\n",
              "Amostra_4       44.4455\n",
              "                 ...   \n",
              "Amostra_1495    43.7435\n",
              "Amostra_1496    43.8880\n",
              "Amostra_1497    44.3810\n",
              "Amostra_1498    43.9835\n",
              "Amostra_1499    44.0850\n",
              "Length: 1500, dtype: float64"
            ],
            "text/html": [
              "<div>\n",
              "<style scoped>\n",
              "    .dataframe tbody tr th:only-of-type {\n",
              "        vertical-align: middle;\n",
              "    }\n",
              "\n",
              "    .dataframe tbody tr th {\n",
              "        vertical-align: top;\n",
              "    }\n",
              "\n",
              "    .dataframe thead th {\n",
              "        text-align: right;\n",
              "    }\n",
              "</style>\n",
              "<table border=\"1\" class=\"dataframe\">\n",
              "  <thead>\n",
              "    <tr style=\"text-align: right;\">\n",
              "      <th></th>\n",
              "      <th>0</th>\n",
              "    </tr>\n",
              "  </thead>\n",
              "  <tbody>\n",
              "    <tr>\n",
              "      <th>Amostra_0</th>\n",
              "      <td>43.7510</td>\n",
              "    </tr>\n",
              "    <tr>\n",
              "      <th>Amostra_1</th>\n",
              "      <td>43.7885</td>\n",
              "    </tr>\n",
              "    <tr>\n",
              "      <th>Amostra_2</th>\n",
              "      <td>43.9715</td>\n",
              "    </tr>\n",
              "    <tr>\n",
              "      <th>Amostra_3</th>\n",
              "      <td>44.5645</td>\n",
              "    </tr>\n",
              "    <tr>\n",
              "      <th>Amostra_4</th>\n",
              "      <td>44.4455</td>\n",
              "    </tr>\n",
              "    <tr>\n",
              "      <th>...</th>\n",
              "      <td>...</td>\n",
              "    </tr>\n",
              "    <tr>\n",
              "      <th>Amostra_1495</th>\n",
              "      <td>43.7435</td>\n",
              "    </tr>\n",
              "    <tr>\n",
              "      <th>Amostra_1496</th>\n",
              "      <td>43.8880</td>\n",
              "    </tr>\n",
              "    <tr>\n",
              "      <th>Amostra_1497</th>\n",
              "      <td>44.3810</td>\n",
              "    </tr>\n",
              "    <tr>\n",
              "      <th>Amostra_1498</th>\n",
              "      <td>43.9835</td>\n",
              "    </tr>\n",
              "    <tr>\n",
              "      <th>Amostra_1499</th>\n",
              "      <td>44.0850</td>\n",
              "    </tr>\n",
              "  </tbody>\n",
              "</table>\n",
              "<p>1500 rows × 1 columns</p>\n",
              "</div><br><label><b>dtype:</b> float64</label>"
            ]
          },
          "metadata": {},
          "execution_count": 68
        }
      ],
      "source": [
        "amostras.mean()"
      ]
    },
    {
      "cell_type": "markdown",
      "source": [
        "Para fazermos o Teorema do Limite Central, só precisamos usar o mesmo código anterior e rodar o histograma com .hist()."
      ],
      "metadata": {
        "id": "uuR1fWnrPKrA"
      }
    },
    {
      "cell_type": "markdown",
      "metadata": {
        "id": "JfgEBDx0jDzf"
      },
      "source": [
        "> O Teorema do Limite Central afirma que, **com o aumento do tamanho da amostra, a distribuição das médias amostrais se aproxima de uma distribuição normal** com média igual à média da população e desvio padrão igual ao desvio padrão da variável original dividido pela raiz quadrada do tamanho da amostra. Este fato é assegurado para n maior ou igual a 30."
      ]
    },
    {
      "cell_type": "code",
      "execution_count": null,
      "metadata": {
        "colab": {
          "base_uri": "https://localhost:8080/",
          "height": 447
        },
        "id": "giJKqa_9izKF",
        "outputId": "1e1ae3b9-4721-42ad-821c-fed28f5d9658"
      },
      "outputs": [
        {
          "output_type": "execute_result",
          "data": {
            "text/plain": [
              "<Axes: >"
            ]
          },
          "metadata": {},
          "execution_count": 69
        },
        {
          "output_type": "display_data",
          "data": {
            "text/plain": [
              "<Figure size 640x480 with 1 Axes>"
            ],
            "image/png": "[encoded data removed]"
          },
          "metadata": {}
        }
      ],
      "source": [
        "amostras.mean().hist()"
      ]
    },
    {
      "cell_type": "markdown",
      "source": [
        "Notaremos o formato próximo a uma Distribuição Normal.\n",
        "\n",
        "A média da População pode ser descoberta com dados.Idade.mean(),"
      ],
      "metadata": {
        "id": "9ygXV5m7PS4k"
      }
    },
    {
      "cell_type": "markdown",
      "metadata": {
        "id": "_A4RKStwjkLI"
      },
      "source": [
        "> O Teorema do Limite Central afirma que, com o aumento do tamanho da amostra, a distribuição das médias amostrais se aproxima de uma distribuição normal **com média igual à média da população** e desvio padrão igual ao desvio padrão da variável original dividido pela raiz quadrada do tamanho da amostra. Este fato é assegurado para n maior ou igual a 30."
      ]
    },
    {
      "cell_type": "code",
      "execution_count": null,
      "metadata": {
        "colab": {
          "base_uri": "https://localhost:8080/",
          "height": 34
        },
        "id": "vXE-UOj_izGZ",
        "outputId": "6eecc478-100a-4b55-eec3-896dbfc2079d"
      },
      "outputs": [
        {
          "data": {
            "text/plain": [
              "44.07142113482561"
            ]
          },
          "execution_count": 57,
          "metadata": {},
          "output_type": "execute_result"
        }
      ],
      "source": [
        "dados.Idade.mean()"
      ]
    },
    {
      "cell_type": "code",
      "execution_count": null,
      "metadata": {
        "colab": {
          "base_uri": "https://localhost:8080/"
        },
        "id": "bahA7_WYizC6",
        "outputId": "e14d9f0f-5a03-4867-f0f2-26db4c9eb319"
      },
      "outputs": [
        {
          "output_type": "execute_result",
          "data": {
            "text/plain": [
              "np.float64(44.071994333333336)"
            ]
          },
          "metadata": {},
          "execution_count": 70
        }
      ],
      "source": [
        "amostras.mean().mean()"
      ]
    },
    {
      "cell_type": "markdown",
      "source": [
        "A média da idade da População é de 44.07 anos.\n",
        "\n",
        "Calcularemos a média das médias das amostras com amostras.mean().mean()."
      ],
      "metadata": {
        "id": "_lTOKr0xPgLm"
      }
    },
    {
      "cell_type": "markdown",
      "metadata": {
        "id": "7lIWJCAKlPmA"
      },
      "source": [
        "> O Teorema do Limite Central afirma que, com o aumento do tamanho da amostra, a distribuição das médias amostrais se aproxima de uma distribuição normal com média igual à média da população e **desvio padrão igual ao desvio padrão da variável original dividido pela raiz quadrada do tamanho da amostra**. Este fato é assegurado para n maior ou igual a 30.\n",
        "\n",
        "# $$\\sigma_\\bar{x} = \\frac{\\sigma}{\\sqrt{n}}$$"
      ]
    },
    {
      "cell_type": "markdown",
      "source": [
        "Como se aproxima de uma Distribuição Normal, não é exatamente igual e sim próximo.\n",
        "\n",
        "Mais adiante no Teorema do limite Central, o desvio padrão é igual ao desvio padrão da variável original Idade, dividido pela raiz quadrada do tamanho da amostra que é 2 mil.\n",
        "\n",
        "Na célula seguinte, descobriremos esse desvio padrão das médias amostrais com amostras.mean().std()."
      ],
      "metadata": {
        "id": "8PX6Mu6kPupz"
      }
    },
    {
      "cell_type": "code",
      "execution_count": null,
      "metadata": {
        "colab": {
          "base_uri": "https://localhost:8080/"
        },
        "id": "qKrG0zqhVNzn",
        "outputId": "70c8faa4-2fa0-4e7f-b9c9-8f8d748baee5"
      },
      "outputs": [
        {
          "output_type": "execute_result",
          "data": {
            "text/plain": [
              "0.2753340589730513"
            ]
          },
          "metadata": {},
          "execution_count": 71
        }
      ],
      "source": [
        "amostras.mean().std()"
      ]
    },
    {
      "cell_type": "code",
      "execution_count": null,
      "metadata": {
        "colab": {
          "base_uri": "https://localhost:8080/",
          "height": 34
        },
        "id": "83ILp8Quiy_W",
        "outputId": "9f16b942-f1dd-47c3-f1bc-adfb0e4be636"
      },
      "outputs": [
        {
          "data": {
            "text/plain": [
              "12.480583465360187"
            ]
          },
          "execution_count": 60,
          "metadata": {},
          "output_type": "execute_result"
        }
      ],
      "source": [
        "dados.Idade.std()"
      ]
    },
    {
      "cell_type": "code",
      "execution_count": null,
      "metadata": {
        "colab": {
          "base_uri": "https://localhost:8080/",
          "height": 34
        },
        "id": "IQ7wC-Nkiy75",
        "outputId": "c70c88bd-52f6-41fd-a29d-a88f1641072e"
      },
      "outputs": [
        {
          "data": {
            "text/plain": [
              "0.2790743302740527"
            ]
          },
          "execution_count": 61,
          "metadata": {},
          "output_type": "execute_result"
        }
      ],
      "source": [
        "dados.Idade.std() / np.sqrt(n)"
      ]
    },
    {
      "cell_type": "markdown",
      "source": [
        "Como retorno, teremos o desvio padrão de aproximadamente 0.27.\n",
        "\n",
        "Em seguida, calcularemos o Limite Central com a fórmula já apresentada; digitaremos dados com a variável .Idade seguido de .std()."
      ],
      "metadata": {
        "id": "3o2MuKemP0zQ"
      }
    },
    {
      "cell_type": "code",
      "source": [
        "dados.Idade.std()"
      ],
      "metadata": {
        "colab": {
          "base_uri": "https://localhost:8080/"
        },
        "id": "qsBohd8CP7-k",
        "outputId": "e46c3a82-d47a-4e26-8315-444b2687d1ea"
      },
      "execution_count": null,
      "outputs": [
        {
          "output_type": "execute_result",
          "data": {
            "text/plain": [
              "12.480583465360187"
            ]
          },
          "metadata": {},
          "execution_count": 72
        }
      ]
    },
    {
      "cell_type": "markdown",
      "source": [
        "Teremos o desvio padrão da variável original com 12.48 aproximadamente.\n",
        "\n",
        "Copiaremos este valor e dividiremos por raiz de n com o método np.sqrt() recebendo n."
      ],
      "metadata": {
        "id": "h4cOrfPbP_Zk"
      }
    },
    {
      "cell_type": "code",
      "source": [
        "dados.Idade.std() / np.sqrt(n)"
      ],
      "metadata": {
        "colab": {
          "base_uri": "https://localhost:8080/"
        },
        "id": "tbW0BvaeQG5_",
        "outputId": "b9318093-5382-4626-f67f-d26de21252e0"
      },
      "execution_count": null,
      "outputs": [
        {
          "output_type": "execute_result",
          "data": {
            "text/plain": [
              "np.float64(0.2790743302740527)"
            ]
          },
          "metadata": {},
          "execution_count": 73
        }
      ]
    },
    {
      "cell_type": "markdown",
      "source": [
        "Como retorno, receberemos 0.27 próximo ao desvio padrão.\n",
        "\n",
        "É interessante como exercício aumentar e diminuir o tamanho da amostra e mudar a variável de Idade para Renda por exemplo.\n",
        "\n",
        "Não importa o comportamento da variável, a Distribuição das Médias Amostrais sempre se comportará como uma variável aproximadamente normal. Enquanto o desvio padrão fica mais contido conforme aumentamos a amostra, pois a média se aproxima da média da População.\n",
        "\n",
        "A seguir, falaremos de Nível de Confiança e Nível de Significância."
      ],
      "metadata": {
        "id": "JQMMceiEQNzM"
      }
    },
    {
      "cell_type": "markdown",
      "metadata": {
        "id": "ku8CE67iG3Ge"
      },
      "source": [
        "## <font color=green>5.2 Níveis de confiança e significância</font>\n",
        "***"
      ]
    },
    {
      "cell_type": "markdown",
      "metadata": {
        "id": "mk6ZsvgyG3Gf"
      },
      "source": [
        "O **nível de confiança** ($1 - \\alpha$) representa a probabilidade de acerto da estimativa. De forma complementar o **nível de significância** ($\\alpha$) expressa a probabilidade de erro da estimativa.\n",
        "\n",
        "O **nível de confiança** representa o grau de confiabilidade do resultado da estimativa estar dentro de determinado intervalo. Quando fixamos em uma pesquisa um **nível de confiança** de 95%, por exemplo, estamos assumindo que existe uma probabilidade de 95% dos resultados da pesquisa representarem bem a realidade, ou seja, estarem corretos.\n",
        "\n",
        "O **nível de confiança** de uma estimativa pode ser obtido a partir da área sob a curva normal como ilustrado na figura abaixo."
      ]
    },
    {
      "cell_type": "markdown",
      "metadata": {
        "id": "WeGyDfvaG3Gg"
      },
      "source": [
        "![alt text](https://caelum-online-public.s3.amazonaws.com/1178-estatistica-parte2/01/img007.png)"
      ]
    },
    {
      "cell_type": "markdown",
      "source": [
        "Quando fixamos um Nível de Significância de 95% por exemplo como é o padrão, queremos dizer que existe uma probabilidade do resultado da estimativa desse parâmetro estar dentro de um determinado intervalo, ou seja, o Grau de Confiabilidade da minha estimativa.\n",
        "\n",
        "Conseguimos obter essas probabilidades utilizando a Distribuição Normal como já aprendemos. Por exemplo, se temos uma probabilidade de 95%, a área sob a curva deverá ter um valor de 0.95 na tabela.\n",
        "\n",
        "Deveremos obter o Z para calcular um erro, tamanho de amostra ou um Erro Inferencial. Este último é obtido através do desvio padrão das Médias Amostrais com o Teorema do Limite Central, como falamos no vídeo anterior. Sua fórmula é:"
      ],
      "metadata": {
        "id": "1ClYJ5TQRLnn"
      }
    },
    {
      "cell_type": "markdown",
      "metadata": {
        "id": "AN8WDZ-HG3Gi"
      },
      "source": [
        "## <font color=green>4.3 Erro inferencial</font>\n",
        "***"
      ]
    },
    {
      "cell_type": "markdown",
      "metadata": {
        "id": "tk-TwhhfG3Gi"
      },
      "source": [
        "O **erro inferencial** é definido pelo **desvio padrão das médias amostrais** $\\sigma_\\bar{x}$ e pelo **nível de confiança** determinado para o processo."
      ]
    },
    {
      "cell_type": "markdown",
      "metadata": {
        "id": "FKOQUPYHG3Gk"
      },
      "source": [
        "# $$e = z \\frac{\\sigma}{\\sqrt{n}}$$"
      ]
    },
    {
      "cell_type": "markdown",
      "source": [
        "Na fórmula do Erro Inferencial, a margem de erro é obtido com o Z da curva normal vezes o desvio padrão das médias amostrais sobre raiz quadrada de n.\n",
        "\n",
        "Com isso, teremos o erro da estimativa. Como dissemos no passo anterior, quando trabalhamos com amostra, existe o Erro Inferencial embutido na nossa estimativa, pois não estamos trabalhando com o dado completo da população.\n",
        "\n",
        "A seguir, conheceremos o Intervalo de Confiança e aprenderemos como calculá-lo. Também veremos como obter esse Z de uma forma prática e resolveremos o exemplo dado no início, calculando o Intervalo de Confiança que é uma Estimativa Intervalar."
      ],
      "metadata": {
        "id": "72uFJkEtRXRX"
      }
    },
    {
      "cell_type": "markdown",
      "metadata": {
        "id": "ELbWQW4sG3HS"
      },
      "source": [
        "## <font color=green>5.4 Intervalos de confiança</font>\n",
        "***"
      ]
    },
    {
      "cell_type": "markdown",
      "metadata": {
        "id": "-r6EMnH-G3HT"
      },
      "source": [
        "### Intevalo de confiança para a média da população"
      ]
    },
    {
      "cell_type": "markdown",
      "metadata": {
        "id": "QWgBFeRnG3HT"
      },
      "source": [
        "#### Com desvio padrão populacional conhecido\n",
        "\n",
        "## $$\\mu = \\bar{x} \\pm z\\frac{\\sigma}{\\sqrt{n}}$$\n",
        "\n",
        "#### Com desvio padrão populacional desconhecido\n",
        "\n",
        "## $$\\mu = \\bar{x} \\pm z\\frac{s}{\\sqrt{n}}$$"
      ]
    },
    {
      "cell_type": "markdown",
      "metadata": {
        "id": "R2qqLneeG3HT"
      },
      "source": [
        "## <font color='blue'>Exemplo: </font>"
      ]
    },
    {
      "cell_type": "markdown",
      "metadata": {
        "id": "AgnrFjdMG3HT"
      },
      "source": [
        "Suponha que os pesos dos sacos de arroz de uma indústria alimentícia se distribuem aproximadamente como uma normal de **desvio padrão populacional igual a 150 g**. Selecionada uma **amostra aleatório de 20 sacos** de um lote específico, obteve-se um **peso médio de 5.050 g**. Construa um intervalo de confiança para a **média populacional** assumindo um **nível de significância de 5%**."
      ]
    },
    {
      "cell_type": "markdown",
      "source": [
        "Vamos colocar a mão na massa agora e calcular Intervalos de Confiança.\n",
        "\n",
        "Quando calculamos Intervalo de Confiança com o Nível de Confiança de 95% que vimos na aula anterior, queremos dizer que o parâmetro estimado tem uma probabilidade de 95% de estar dentro do Intervalo.\n",
        "\n",
        "Consideramos aquele Erro Inferencial, ou seja, é uma Estimativa Intervalar e não Pontual.\n",
        "\n",
        "A Estimativa Pontual é justamente a média da amostra, e aqui lidaremos com um intervalo onde consideraremos os erros e teremos uma probabilidade. Esse erro será calculado segundo o Nível de Confiança.\n",
        "\n",
        "Fórmulas para o Intervalo de Confiança para a média populacional, sendo a primeira com desvio padrão populacional conhecido:"
      ],
      "metadata": {
        "id": "wjIAfSSNSuD4"
      }
    },
    {
      "cell_type": "markdown",
      "metadata": {
        "id": "LpGQGksTG3HU"
      },
      "source": [
        "### Média amostral"
      ]
    },
    {
      "cell_type": "markdown",
      "source": [
        "Vamos fazer usando o desvio padrão da própria amostra; no primeiro caso, µ representa parâmetro da média populacional, igual a x barra, que é a média da amostra selecionada.\n",
        "\n",
        "O mais ou menos ±, por que? Vou calcular dois números; o primeiro será o Intervalo Inferior, e o segundo o Intervalo Superior. Vamos ver como isso funciona.\n",
        "\n",
        "Após o mais ou menos ±, teremos a fórmula de e do Erro Inferencial que obtemos na última aula, ou seja, z vezes sigma sobre a raiz de n.\n",
        "\n",
        "Por isso vimos o Teorema do Limite Central e aprendemos o que significa. Também já tínhamos visto Probabilidade e aprendemos a obter o Z. Calcularemos de novo para reforçar.\n",
        "\n",
        "O problema lançado quando começamos a falar de Estimação nos pediu para supormos que os pesos do saco de arroz de uma indústria alimentícia se distribuem aproximadamente como uma Normal, e seu desvio padrão populacional é igual a 150 gramas. Selecionada uma amostra aleatória de 20 sacos de um lote específico, obteve-se peso médio de 5 mil e 50 gramas.\n",
        "\n",
        "Deveremos construir o Intervalo de Confiança para a Média Populacional com Nível de Significância de 5%. Aprendemos no ultimo passo que consequentemente o Nível de Confiança será de 95%. Ou seja, 1 menos alfa.\n",
        "\n",
        "Na célula de \"Média amostral\" dentro de \"4.4 Intervalos de confiança\" no notebook, a média amostral será armazenada na variável media_amostra igual a 5050 que já poderemos obter a partir do problema."
      ],
      "metadata": {
        "id": "-T0O7zInS07r"
      }
    },
    {
      "cell_type": "code",
      "execution_count": null,
      "metadata": {
        "colab": {
          "base_uri": "https://localhost:8080/"
        },
        "id": "aF2QQ0z3G3HU",
        "outputId": "2b018597-933a-4fea-c1bc-02fd72d0ff0e"
      },
      "outputs": [
        {
          "output_type": "execute_result",
          "data": {
            "text/plain": [
              "5050"
            ]
          },
          "metadata": {},
          "execution_count": 74
        }
      ],
      "source": [
        "media_amostra = 5050\n",
        "media_amostra"
      ]
    },
    {
      "cell_type": "markdown",
      "metadata": {
        "id": "Jly1bVP9G3HY"
      },
      "source": [
        "### Nível de significância ($\\alpha$)"
      ]
    },
    {
      "cell_type": "code",
      "execution_count": null,
      "metadata": {
        "colab": {
          "base_uri": "https://localhost:8080/",
          "height": 34
        },
        "id": "BzIgN3C7G3HY",
        "outputId": "53b76a9a-fce9-41dc-829e-4c7b318b7d75"
      },
      "outputs": [
        {
          "data": {
            "text/plain": [
              "0.05"
            ]
          },
          "execution_count": 63,
          "metadata": {},
          "output_type": "execute_result"
        }
      ],
      "source": [
        "significancia = 0.05\n",
        "significancia"
      ]
    },
    {
      "cell_type": "markdown",
      "source": [
        "O Nível de Significância α é igual a 0.05 relativo aos 5% pedidos."
      ],
      "metadata": {
        "id": "IiHlWk6gS7sY"
      }
    },
    {
      "cell_type": "markdown",
      "metadata": {
        "id": "SrZAbQRKG3Ha"
      },
      "source": [
        "### Nível de confiança ($1 - \\alpha$)"
      ]
    },
    {
      "cell_type": "markdown",
      "source": [
        "Calcularemos o Nível de Confiança com a fórmula 1 - α, ou seja, a variável confianca igual a 1 menos a significancia."
      ],
      "metadata": {
        "id": "Bj73AQCJTKS5"
      }
    },
    {
      "cell_type": "code",
      "execution_count": null,
      "metadata": {
        "colab": {
          "base_uri": "https://localhost:8080/",
          "height": 34
        },
        "id": "1JeWXwA6G3Ha",
        "outputId": "8ac9e63f-f2e5-46a5-b693-e221203ada3f"
      },
      "outputs": [
        {
          "data": {
            "text/plain": [
              "0.95"
            ]
          },
          "execution_count": 64,
          "metadata": {},
          "output_type": "execute_result"
        }
      ],
      "source": [
        "confianca = 1 - significancia\n",
        "confianca"
      ]
    },
    {
      "cell_type": "markdown",
      "source": [
        "Ao rodarmos a célula, receberemos 0.95 como esperado.\n",
        "\n",
        "Em \"Obtendo Z\", teremos a mesma tabela_normal_padronizada[] com uma seleção de 16:26. Teremos também uma tabela com os Níveis de Confiança mais utilizados para consultarmos."
      ],
      "metadata": {
        "id": "PjrJAi5-TOtw"
      }
    },
    {
      "cell_type": "markdown",
      "metadata": {
        "id": "mZoUFr1nG3Hf"
      },
      "source": [
        "### Obtendo $z$"
      ]
    },
    {
      "cell_type": "code",
      "execution_count": null,
      "metadata": {
        "colab": {
          "base_uri": "https://localhost:8080/",
          "height": 359
        },
        "id": "f9IMOwY2Xeva",
        "outputId": "e8efe36b-5dfd-4272-de0c-fdab162d3582"
      },
      "outputs": [
        {
          "data": {
            "text/html": [
              "<div>\n",
              "<style scoped>\n",
              "    .dataframe tbody tr th:only-of-type {\n",
              "        vertical-align: middle;\n",
              "    }\n",
              "\n",
              "    .dataframe tbody tr th {\n",
              "        vertical-align: top;\n",
              "    }\n",
              "\n",
              "    .dataframe thead th {\n",
              "        text-align: right;\n",
              "    }\n",
              "</style>\n",
              "<table border=\"1\" class=\"dataframe\">\n",
              "  <thead>\n",
              "    <tr style=\"text-align: right;\">\n",
              "      <th>Z</th>\n",
              "      <th>0.00</th>\n",
              "      <th>0.01</th>\n",
              "      <th>0.02</th>\n",
              "      <th>0.03</th>\n",
              "      <th>0.04</th>\n",
              "      <th>0.05</th>\n",
              "      <th>0.06</th>\n",
              "      <th>0.07</th>\n",
              "      <th>0.08</th>\n",
              "      <th>0.09</th>\n",
              "    </tr>\n",
              "  </thead>\n",
              "  <tbody>\n",
              "    <tr>\n",
              "      <th>1.60</th>\n",
              "      <td>0.9452</td>\n",
              "      <td>0.9463</td>\n",
              "      <td>0.9474</td>\n",
              "      <td>0.9484</td>\n",
              "      <td>0.9495</td>\n",
              "      <td>0.9505</td>\n",
              "      <td>0.9515</td>\n",
              "      <td>0.9525</td>\n",
              "      <td>0.9535</td>\n",
              "      <td>0.9545</td>\n",
              "    </tr>\n",
              "    <tr>\n",
              "      <th>1.70</th>\n",
              "      <td>0.9554</td>\n",
              "      <td>0.9564</td>\n",
              "      <td>0.9573</td>\n",
              "      <td>0.9582</td>\n",
              "      <td>0.9591</td>\n",
              "      <td>0.9599</td>\n",
              "      <td>0.9608</td>\n",
              "      <td>0.9616</td>\n",
              "      <td>0.9625</td>\n",
              "      <td>0.9633</td>\n",
              "    </tr>\n",
              "    <tr>\n",
              "      <th>1.80</th>\n",
              "      <td>0.9641</td>\n",
              "      <td>0.9649</td>\n",
              "      <td>0.9656</td>\n",
              "      <td>0.9664</td>\n",
              "      <td>0.9671</td>\n",
              "      <td>0.9678</td>\n",
              "      <td>0.9686</td>\n",
              "      <td>0.9693</td>\n",
              "      <td>0.9699</td>\n",
              "      <td>0.9706</td>\n",
              "    </tr>\n",
              "    <tr>\n",
              "      <th>1.90</th>\n",
              "      <td>0.9713</td>\n",
              "      <td>0.9719</td>\n",
              "      <td>0.9726</td>\n",
              "      <td>0.9732</td>\n",
              "      <td>0.9738</td>\n",
              "      <td>0.9744</td>\n",
              "      <td>0.9750</td>\n",
              "      <td>0.9756</td>\n",
              "      <td>0.9761</td>\n",
              "      <td>0.9767</td>\n",
              "    </tr>\n",
              "    <tr>\n",
              "      <th>2.00</th>\n",
              "      <td>0.9772</td>\n",
              "      <td>0.9778</td>\n",
              "      <td>0.9783</td>\n",
              "      <td>0.9788</td>\n",
              "      <td>0.9793</td>\n",
              "      <td>0.9798</td>\n",
              "      <td>0.9803</td>\n",
              "      <td>0.9808</td>\n",
              "      <td>0.9812</td>\n",
              "      <td>0.9817</td>\n",
              "    </tr>\n",
              "    <tr>\n",
              "      <th>2.10</th>\n",
              "      <td>0.9821</td>\n",
              "      <td>0.9826</td>\n",
              "      <td>0.9830</td>\n",
              "      <td>0.9834</td>\n",
              "      <td>0.9838</td>\n",
              "      <td>0.9842</td>\n",
              "      <td>0.9846</td>\n",
              "      <td>0.9850</td>\n",
              "      <td>0.9854</td>\n",
              "      <td>0.9857</td>\n",
              "    </tr>\n",
              "    <tr>\n",
              "      <th>2.20</th>\n",
              "      <td>0.9861</td>\n",
              "      <td>0.9864</td>\n",
              "      <td>0.9868</td>\n",
              "      <td>0.9871</td>\n",
              "      <td>0.9875</td>\n",
              "      <td>0.9878</td>\n",
              "      <td>0.9881</td>\n",
              "      <td>0.9884</td>\n",
              "      <td>0.9887</td>\n",
              "      <td>0.9890</td>\n",
              "    </tr>\n",
              "    <tr>\n",
              "      <th>2.30</th>\n",
              "      <td>0.9893</td>\n",
              "      <td>0.9896</td>\n",
              "      <td>0.9898</td>\n",
              "      <td>0.9901</td>\n",
              "      <td>0.9904</td>\n",
              "      <td>0.9906</td>\n",
              "      <td>0.9909</td>\n",
              "      <td>0.9911</td>\n",
              "      <td>0.9913</td>\n",
              "      <td>0.9916</td>\n",
              "    </tr>\n",
              "    <tr>\n",
              "      <th>2.40</th>\n",
              "      <td>0.9918</td>\n",
              "      <td>0.9920</td>\n",
              "      <td>0.9922</td>\n",
              "      <td>0.9925</td>\n",
              "      <td>0.9927</td>\n",
              "      <td>0.9929</td>\n",
              "      <td>0.9931</td>\n",
              "      <td>0.9932</td>\n",
              "      <td>0.9934</td>\n",
              "      <td>0.9936</td>\n",
              "    </tr>\n",
              "    <tr>\n",
              "      <th>2.50</th>\n",
              "      <td>0.9938</td>\n",
              "      <td>0.9940</td>\n",
              "      <td>0.9941</td>\n",
              "      <td>0.9943</td>\n",
              "      <td>0.9945</td>\n",
              "      <td>0.9946</td>\n",
              "      <td>0.9948</td>\n",
              "      <td>0.9949</td>\n",
              "      <td>0.9951</td>\n",
              "      <td>0.9952</td>\n",
              "    </tr>\n",
              "  </tbody>\n",
              "</table>\n",
              "</div>"
            ],
            "text/plain": [
              "Z       0.00    0.01    0.02    0.03    0.04    0.05    0.06    0.07    0.08  \\\n",
              "1.60  0.9452  0.9463  0.9474  0.9484  0.9495  0.9505  0.9515  0.9525  0.9535   \n",
              "1.70  0.9554  0.9564  0.9573  0.9582  0.9591  0.9599  0.9608  0.9616  0.9625   \n",
              "1.80  0.9641  0.9649  0.9656  0.9664  0.9671  0.9678  0.9686  0.9693  0.9699   \n",
              "1.90  0.9713  0.9719  0.9726  0.9732  0.9738  0.9744  0.9750  0.9756  0.9761   \n",
              "2.00  0.9772  0.9778  0.9783  0.9788  0.9793  0.9798  0.9803  0.9808  0.9812   \n",
              "2.10  0.9821  0.9826  0.9830  0.9834  0.9838  0.9842  0.9846  0.9850  0.9854   \n",
              "2.20  0.9861  0.9864  0.9868  0.9871  0.9875  0.9878  0.9881  0.9884  0.9887   \n",
              "2.30  0.9893  0.9896  0.9898  0.9901  0.9904  0.9906  0.9909  0.9911  0.9913   \n",
              "2.40  0.9918  0.9920  0.9922  0.9925  0.9927  0.9929  0.9931  0.9932  0.9934   \n",
              "2.50  0.9938  0.9940  0.9941  0.9943  0.9945  0.9946  0.9948  0.9949  0.9951   \n",
              "\n",
              "Z       0.09  \n",
              "1.60  0.9545  \n",
              "1.70  0.9633  \n",
              "1.80  0.9706  \n",
              "1.90  0.9767  \n",
              "2.00  0.9817  \n",
              "2.10  0.9857  \n",
              "2.20  0.9890  \n",
              "2.30  0.9916  \n",
              "2.40  0.9936  \n",
              "2.50  0.9952  "
            ]
          },
          "execution_count": 65,
          "metadata": {},
          "output_type": "execute_result"
        }
      ],
      "source": [
        "tabela_normal_padronizada[16:26]"
      ]
    },
    {
      "cell_type": "markdown",
      "source": [
        "Precisaremos obter z, o σ e o raiz de n para aplicarmos a fórmula, mas o x barra já foi dado.\n",
        "\n",
        "Para obtermos o z, deveremos lembrar de quando estávamos trabalhando com a Distribuição Normal; o z era calculado e tinha toda essa área hachurada abaixo dele. Ou seja, do pico médio da curva para trás, sabemos que vale 0.5.\n",
        "\n",
        "Porém, ainda tínhamos que calcular deste meio até o z. Como temos uma função simétrica e sabemos que a área sob a curva de um z a outro divididos pela média é de 0.95, deveremos dividir por 2. Logo, saberemos que do meio da curva até o z o valor será de 0.475 ou 47.5%.\n",
        "\n",
        "Na tabela_normal_padronizada[16:26], precisaremos saber qual é o valor todo de um limite Z ao outro, porque a tabela é representada com a área de zero até Z superior.\n",
        "\n",
        "Obteremos essa Probabilidade da área hachurada que não é mais 95%. Contaremos do z positivo até o início, inclusive com o vazio anterior ao z negativo.\n",
        "\n",
        "A área do z até o meio é igual a 0.475, falta-nos justamente obter a metade 0.5.\n",
        "\n",
        "Somaremos 0.5 com a divisão de 0.95 por 2."
      ],
      "metadata": {
        "id": "RyUflyUNTWb6"
      }
    },
    {
      "cell_type": "markdown",
      "metadata": {
        "id": "rMRmnaNPG3Go"
      },
      "source": [
        "### Obtendo $z$"
      ]
    },
    {
      "cell_type": "markdown",
      "metadata": {
        "id": "T-3mV1qlUj1t"
      },
      "source": [
        "![alt text](https://caelum-online-public.s3.amazonaws.com/1178-estatistica-parte2/01/img008.png)"
      ]
    },
    {
      "cell_type": "code",
      "execution_count": null,
      "metadata": {
        "colab": {
          "base_uri": "https://localhost:8080/"
        },
        "id": "nT5ZTwjOG3Go",
        "outputId": "0921002d-0c5e-4772-b622-858e662dcfea"
      },
      "outputs": [
        {
          "output_type": "execute_result",
          "data": {
            "text/plain": [
              "0.475"
            ]
          },
          "metadata": {},
          "execution_count": 75
        }
      ],
      "source": [
        "0.95 / 2"
      ]
    },
    {
      "cell_type": "code",
      "execution_count": null,
      "metadata": {
        "colab": {
          "base_uri": "https://localhost:8080/",
          "height": 34
        },
        "id": "vMjck-3ZU_sz",
        "outputId": "56a3f3ba-e5d4-40c7-dc4c-b31ed5d07262"
      },
      "outputs": [
        {
          "data": {
            "text/plain": [
              "0.975"
            ]
          },
          "execution_count": 67,
          "metadata": {},
          "output_type": "execute_result"
        }
      ],
      "source": [
        "0.5 + (0.95 / 2)"
      ]
    },
    {
      "cell_type": "markdown",
      "source": [
        "O resultado será 0.975, ou seja, a área sob a curva normal deste ponto Z superior até o final é de 0.975.\n",
        "\n",
        "Na tabela, procuraremos o valor 0.975 na linha 1.90 de Z e na coluna 0.06. Como já sabemos, somaremos esses valores e obteremos 1.96."
      ],
      "metadata": {
        "id": "8g80zH1jTj9B"
      }
    },
    {
      "cell_type": "markdown",
      "source": [
        "![image.png](data:image/png;base64,iVBORw0KGgoAAAANSUhEUgAAAcwAAAEWCAIAAABkHDCYAAAgAElEQVR4Ae2dCXRUVbrvz3p3XZv31ut7Wa/7vsXlrfWub717rzQqhYq0jXSQpl833DYYyzDI0DIJccAOioJDgt3aBhGohIQAhYTBYCJTmoAJmAECwUxw6pwaMgCXNKIi0jZDo9Cg1Otkh127zlSnTu1TZ59TX5YLd+3aZw//vfevvrNHLgx/oIClCjTy3WvKmxatrJqdux399+a6ujXlTac+/crSfEHioAAdBTg60UAsoECcCly+cm3rXt/PZq1zuT1q/01fXF59uDPOiCE4KMCWAgBZtuojRXKzsaLt/smr1Ngq8c+Yv7kteCZFlIFiOk8BgKzz6pTpEnX98cuHn9kowaiejzmF+89fuMJ02SBzoICSAgBZJVXAzxwFtuw5ds9j+VKkPuq557H8ByYXpv16Ndf7Nzh9xZBHFcYQxszydp760pysQayggFkKAGTNUhbilSiQs2q/FK9uz89nrnm9oKK8or66prHhUDOCbG7+rv+Y570zY+VdGSsljwyfVAijtBJh4SPjCgBkGa8gJ2Tvu5s35+Rul+DywalF67buO9p29ES7vysktvuFoCggyHaF/C3NbetK942b5x2Uvtwls2o37Gx1gi5QhtRQACCbGvVsXSlv3Phu6ktlEsL++qUtR9uOdYX8QdEn8Dz+D0FW5PmQKHSF/Ec+bl28bIfL7ZGbtMBZ66oUUo5PAYBsfHpB6HgVmPXqNpKwQ935S/J3nWiX4hVxFkEWMzfkF7pC4vqt+0dMKRw8fjkZj8vt2V0fijczEB4USL4CANnka55CKT6Xt5sk4z2Z+WtL9x1v94u+iPWKkSrwvASyAs/7fb4THf6dew7+Ys7anqGD6EW1MD6bQo3JtkUFyNq26pjP+Btra4e6I2sJ7s3ML9tV3xUSSapK3HLICjwv8vzxdn9N/cfjn1o/6OEozg6fVCh2fc68EpDBlFYAIJvS1W9e4bd/5CcJe487f13pvs6gFmEVLVlM4a6Qv6buyLi5634Ubc+Oy9oA62fNq0eIOXEFALKJatjU1ITsr6ampkTjcsrz4vHPh02M2tBVUFIVk7CYp2qO4yH/3n2Hx8xcM3j8CnLcYHbudqcoB+VwoALJgOzFixfT09MRidC/p0+f1tayrq6ODB+vWztyPd/GmyLHcRqFOn36tNfrxSJ4vd6uri492UBhurq6UH6WL1+u/ymrQl76y1XJiQQvvLVNe5RAjapy/xPt/h2VB38ypfDujKjdCstKDlpVXkgXKQDWhlpLSAZkly9fLmGWBo9QRhOBbHp6ulpp9ftLMqzno1qhKisrOY7zer0XL14Mh8OnT59+7bXXOI4rKyvTmZ+srCyUgXPnzul8xKpg3353c86SqCWxDz/lPdHhl+PSmI/o4090+Iu3VPcs6opeP8v++QZgbaSUtYH7oOmQxb9vJKfUeISzhcBEPqLfXVdXh+Mx7NCfHA6pWChkhGZlZZE5OXfuHHpKzwgD/r2prKwkI2HTXVLRSg7FjphayB87praWwBhn/T5fR0B8dcXOO6InwcZlbbh2/QabsqBcgbWROtYG2Q7Nhaz8pxvBRZFHZLbkzRGzLKYDGYxkbAbcMVORB1BMBQ0RyGHq9Xo5jotpdGMcSzCtmJblnic/+ZNkKLZib0NAiNpuYAyskqeCouDj+RmL37sj/R1ycDancL/lIqhlAKwNjuMkzRg3b3kHkctoL2uDzL+5kFVjpXmQ1f8OTqogd8sZGtNHHokg9O0Tlb/m4y6nPTiLBdQOJk86+T5/vf5t5oItJPJeWb6jIxBjOYGEnvo/dgbFmvojo58ovuuRqPMNGvnu5Jc9ZopgbaSUtSFpDyZCFnNEjifzICvHmaTAOj+Sedb5iDxYWVkZikf+1enTp9FXGoMbmNG2mO8qfL+RJOy4ud6AP24bFmmiE7XH2/3FW/bdmbFiCLFDYcwsL4ODBvjHkmxX2pOlqM2oPSiJR/4RrA15p7PKxyzIqv10o9agH7JlZWUxX/8vXryIoqUII7LVGq4b1EMUxwT05BmvRoipgOEc0noweOKL+yZE1mzd+1h+7cGPRZ+5kPULvlBAmP9G2b//KmqHwpvrKAzK01ImHA6DtZFS1oa85ZgFWfwL7PV6sRuTKyZkUUjJCI4898gHV6EgCGph4vXHWeU44xKhSNTQr/0tnvrTMHXjLZRJ4b/97uaUF7eSZuw7a/eE/IJOg5QMhjQhfbTd7QHh0OGWsXPXSU6QYWcbGFgb4XA4dawNxS5mnCCK0SFP/NONjDi8AgmTSydk9cynY5NQJ5E1sk1+hbNqCWTxYALdQpEFpOj+YJ/gIo7i/tU87/GQwTVb8UJW6N1xu+mDmiGPRo3MTnyhlJFBA2xhgLXheGtDrU/Rhyz5042ma0hgIXdMyKplV+6PGzFdi4/MszxRnT4oEgNtCy2k1TNmpzMn5gX74k9/GfnrNaQZu6/miIGBAmSxIsW0rVfJt36fr90vzP9dmeRYgzXl1m/AA2sDNTzDHcFe1oZaL6MPWUw9r9dLSkxiixZkcR0ojnuqlVmPP5lbPeEVwxhrW7hnYgEVI2fE88UVe8mFsQt+X94eMDJQYBiyAs93BMX6g02jnyi+m7Bnh08qtPZMA7A2cBM11hHC4bCNrA1cWLmDMmQxIEjqkcBCblqQxUCnNZeKBSLzjD3jdeBxEsUHURKSnOOeSQqo+DgLnq2BM/dkFmAzdsSUQskh3BKrM+ZHpEnMYPIAx9v9qzZWSc40yF5q5fYN3DjxjyXZqJCbVkcAa4OF7qCWB5qQxYDgOI5c12lS28INi+M46vPvZJ7D4bAgCF6vF0MTLav2er3aU224m8nVx5mXLMNGmxQ4jpP4y2Ow3OfGt99NXhg13+Ut3R+If0UBSUwkO+mj0x0QfaKPf2LRlkHpUWfHWHXxIlgbZPvEHYf0xG5U6ba2NnBZFB00IYuZgn+6UZIksJCbyg84fpVQG/RULLBOTzLPeCkV6YndWVlZasXBe1TkAfCZL+TCXkze1157jcxngju+yagouvceaifnuzKefTfxc7Z0IlUxWFfIX/Fhw/2TCshlsxNfKKVYZJ1RgbUhEQqTQeKPjvJAXUliVdjI2pAXSuJDDbKKP90oMcwj7JBDR5KtmB/xQn2J1RzzQZ0BcFZ1OhRNWrzyQdKAwuEwWnYm+XnAP/ikPomfL6OzyHEFu/LNX38+24sHClxuz/7aI4rsS5qn2Ds4uzBv26CHo4zZ5N+egJkC1gZqVM62NmJ2HDqQVfvpRsnLOUVCJGYWFQNgHpm0yKmrqyu996+yspLMbVdXF+5CZLnS09MVhywQTOWZRNYxGTNuiOTCtcTPl1FUL3HPtR80kfNdz/y2zNjCWLoI7ggItfUfP/RE8d3EXeJJ3gMG1oa8dTnY2pAXVu5DB7KYO5KfbpQeCSPkxnDB6mMfeRblPqQZKzcS5eGp++DtD2TRJINKOFE0rPHaa68hCp87dw75kMYv1kEy35Xgjm+cB7qOz89f+smU1diMvTezoKW1jS4ujcXWc1FNyP/W6t2S5Vyle3i6CqjFBtZGqlkbai2B9KcAWfzTrbZunyQRCdmLFy/icdW4IIsHSSVIIgtmthv/rpClU0u0qakJlzQ9Pb2srIwcisVbYjiOI8mLf0skgcmdmuQEo1rq1P3fXBd1eVfe6t0JLiowhlTFp0Ki0NzcNv7p9Xc9Ehk0SJoxi1sFWBvyVuc8a0NeRkUfCpDFyCNxE69b8V1bMcf4tZrjOPLNWjGweZ6YgGRJ4/qpwHnDk2CSIVpsL+OQ2IGnyOhuwcDxazhOf37hgccjZuyIKUUBMe4zChT5SMvzeMi/9r19gwnIutyeJBizYG3gvqDWfhxmbagVU+JPAbJY2UQckmxpfCSZrh/NGhEa+wq/4JOlJu1Q/dHiEkmKg8wiRWsdpy7hsv5EDYd8a309ORr79ppKipBFYiZI26AoHDt69LHnNtxJcHbMLO/lK9cMl1rPg7geySYRr1vSBjTSBWuDXJyQfGtDo2okX9kMsmTDUnwjkxTP1I/y/mNggFjjIBgUvxpGtb81qeCffHFx+OTIaVsjphQF4z/PUIOhqFAaAXR+dby915jNiIwYuNwes+8Bk7cHAz76K45kun40649fZ0j8e08WNhWsDZ36hMNhCpCNmRipPnIbe62WVKexSGLmVn+AxMuFT4aXLz/oqZveP6Yg+7LnQ9KMfWfdHn9iuw8k0ERFlnga+BgQfPzRYxOzS8hBA7M32srbgwEfnc0PrA0sFBJZrZvgYBY67ARZPEYpv8eCroJk39CImQyG3PEaFHieRHH+Srv1aH+rkW3DX3WcOjdsUiFeVPBgz2gsb4CAGo+gQmkE0P9VV8hfuqOO3JiQBGNWW1tUOvJfY4YCWBukzsnvCGTqety2gaykYRl7H9GjCDYhUeUp4o8cDMJ9RtEa1UgRz5OojXtotx7tbzXSNfzVSytlZizt+7tQofSTVCNkQPAFBN8Ti7YMJjbaJm2ZgaLIuKlghzHIgrVBypv8jkCmrsdtG8iSDUtxLkijtLhNq+FM8iwOz3Gc2msIHkvFgePlPhpTU1tXGA6H8YYLSfbQR5Su2uJcxUcS8ew4de6+iZHR2AenmrKoABVKA51xfdUV8m/dUYdNb+RIwjIDNZ1xU8EOA5AFa0MiLxJTrZ9KAlvy0XTIStpEXy+K8woDvGIJPR7vTCJu0zprAodXyy255hyF0RkzrmP8m6FRFjyYgJ/CDiyIgak2HIl+x82bN18tqDZ1NBbRs09wns4ohF/w+X2+GYu3kKdzWWjMStqVsfOCccvRc9uxpIpxBsDakChj6kdzIXvx4kVMClzBqHEIgqB/BFMSif4HkXY4aZ0oxOGxo66uDicqCAI5sath7arVHEak5CAYSXg8uSG3d/DSWvk+BUkkVD52nPpy2ERiNLbHjKXDQYlligSXeCbysSskbt3JhDEL1oZiU8S/GbawNhSLENPTXMhiSKk5YuYPBSAfN/CCjB/XCdnKykoJRnEMEkd6eroBWxKPA8jpSQqCu6U8CdQ0dRaHjNOY+9VV+0gzdvm6vX7ao7GJkFTjWX/vyKzlxixYG4oNz3bWhmIpYnraD7LaYFIsMCZjXFQ6d+5cXV2d/Gqm9PT05cuXV1ZWqs2JKeYBe2L7VM+vBYKpfEoN/QYYkAJnQ7+j64/nh08uwiObD04t8gummLEarEzkq66Q+L7VxixugWoOndVBPq6n/UiixY/r7AhgbUgENPbRXMgayxPdp7A9yMJJ2HgwV//cnZ4d33QVk8T29oYDpBn72sqdfp+dIBsQeL/gm7n4PXLNbJJHZjHd1BwSzdU+ko8b+InFj+uELMoGWBtq1aHT3/mQxcOXZlygoFNlHMzYUcQxd3zj+Kk7Pv3i4gOPR8zY+zILWlqYOHArLtv2eLv/PZaWGVCvJj0RgrWhRyUzwjgfsnpG1s1Q1hlxFpV/TJqxL729ne4Wr7hYaThwzwawY/zE7BLyNIOM+ZudUUc6SwHWhk6hqAdzOGTxvlWda1ao62vrCL/885WHZkSu++4xY5vtZ8YiNHeF/Ou37r8z+jSD+paTtq6guDIP1kZcclEM7HDIorVf2iulKKrpsKje/1Agb/FauHSb2efGokFDwxarxoNB0dfScnT80+tJY9aSG8AsaSRgbVgiO0rU4ZDt6uoyMAlrYX2wk/TX31z/5ZPr8aKCHjO2tVWDYlS+Mg+yAs8fb/fnb/hw8CPLcaFcbk+KGLNgbVjYsxwOWQuVtXvSexuiLqN98rWtAfPXxpoK2WDvpQlj56wjbwDLXlpp95rSk3+wNvSoZFIYgKxJwto72us3vn184VbS4tuz7xAVW1U7ElMhK/B8Z1DMK979I+LIGJfb03nqS3vXFuSebQUAsmzXj0W5O+LrviezAEP2V1ne5FxGazZk2/3CgUPNo2cUk0cgmn2Yt0V1CMmyogBAlpWaYCof2XmV5MqtkrIabQuU1rdmQ1bk+a6Q/5V3dgwijFmzD/NmqmYhM8lXACCbfM1ZTzF44ov7JkRONRw5bbXoO0YLo9rxmA1Zgec7gsKH+w8/8Pgq16MebKpbeP4h660B8pewAgDZPgnz8vLOnj2bsJ5OiOD33jrSjH1j1R/EZO2jTQJkRR8f8gvPvF7GyPmHjLSYCxcu5OXlXb16lZH8OCkbANme2qyoqOA4rl+/fkuWLLlw4YKTKjjespw+e2HkdGIDwoSC5mbTV25pm7fUv+0M+T/4w4F7HotYsqmzlkuxPXg8ngEDBnAc5/F4FAOAZyIKAGR71Bs6dCiyoTiOGzBgQCo3tY0VbUOJKa9nf1tml1MN9bMYHeY9deGmOx9ZiUcMUmdjAsmLioqKQYMG4cbfv39/eJ8j9aHiBsj2yFhRUXH77bfjpsZx3O23315RUUFFYhtF8s3V6w9nlWDuuNyej2qP6IeXjUIeD/kLN1XdOT7qzvCUWsvl8/keeughSZuHnTtm9FaAbERV/NKEW97QoUMPHDgQCeF0196DURsQJmaXJGEDgiVoDoq+5ua2sXNTcWNCd3f35MmTcSPnOK5///4wIGte5wbIRmn7twHZJUuW9O/fn2yCY8eO9fl8UeGc+OHGt9/NWbKDnPIq3VFnCQGTk2hn0P9m0e5B6ZFdto5fy3XhwoXFixf369cPN+9+/fplZ2en+DyE2b0ZIKug8NmzZ7Ozs3FDRI4ZM2Y4e7hK6Pz8XmI0dvSM4o6AmBzeWZJKR1CsqT+SNr0oFTYmXL161ePxSKyHjIyM7u5uhQ4AXlQVAMiqytnd3Z2RkUGi1tk/+zmF+0kz1rN+b/LZh9ROTrpiz5pZMfvNcsev5ZJPOTz00EPyi+NUewJ8kZgCANkY+snnBxw5gPXJ2Qsjpq7GU173TSg41nY0ObAjU0kmZHs2JgTEXXsb7pkQtZZrd30oRpuwz9dNTU0PPPAAaSik5oyutTUGkNWlf3V1NbnMC6302rhxo66H7RCopKLNRYwVvPT2NktWbiUZsn7BJ/r4mS9vIa//csZaLvl7WP/+/VN5baKFvRAgG4f4GzdulKz0GjRokANWen199fr4ZzdhM7Zn5VadNSu3kgxZgedPtPtLyj66KyOyYNbu53JduHBBMqPQr1+/xYsXw+xWHF2dalCAbHxyKk4g2H2Eq675BHkDwoTskoAokG/xSXMnH7IB0dfWejT96fXkIbM5hfvjaxZshL569WpeXp5kdmvy5MnOnrBlQ3utXABktdRR+06+FIbjOPvO1c5/axc55ZW0M7fk7E4+ZHsPmfUvLa4kp7/suJarrKwMbY1FGnIc99BDD6XC0kO1TsqOP0DWeF2cPXs2KysLt2nkyMrKspfh0HHq3I8nF+KxgpHTVgvJOnOLEci2B4Ta+o9HTotay2Wjc7kOHDggmTAYNGhQdXW18ZYNT1JVACCbqJwdHR3ylV42OmimsPSI67HI+dw5nl3+ZJ25xQhkRR/fHhAW/L58MLExYVzWhkRbhvnPd3R0jB07lvyZHzBgwJo1a8xPGVKIQwGAbBxiaQQ9cOCAZK2MLQ6aufiXq2Nme7EZ63J7Wlrteum3HNn6fbpCYnlF/VD7nMslf4uCM+Q0uqe1XwFkaeovOdMIHTTD8qEbu2oDQwkzdubi9yxZuaWfhiaF7Cm1j5+UXUIuM2DzjsW/Hfkq3/ltu0Eqmr2O+bgAsvSraM2aNZIpCDYPmrl+47snXiknp7zKK+pNohj70XaGxMKSKskdi5+du0S/fSQQo7xppcjBGgloZv2jAFlT6kDR3GCtP7QFz9w7ITIa+4vZa9sD1qzcYgHBIb9w6HDL/5u1ZsijkTWz7NyxKN8Ow+YvtyndyeaRAmRNrEC0LJw89IjjuMmTJzNyKsdvi2tIM9azfq/o87HAO0vygO5YfHnZjsHEHYtjZnmvXb9hYhPREbV8Y/eAAQOctNtQhwb2DgKQNb3+5Md3snDQzBfnL0sPKziapNsSLWGonkQ7AmJl9aH7JxWQdyxaeJTB2bNnZ8yYQS4ecOS5Gab3QKsTAMgmqQZ8Pp9ktY21Habnmhliyuv5tz6wcOUWJiACCv6YZIffxwcE38yX37vzkciNCZYcZaC42yU7O9teS7CT1LWYTwYgm9Qqkq8bt2Rh45Vv/ur+zWZy5dZ+Nq6ZsRayAs93hfwbyj4iIZv8owzkN3RkZGR0dHQktaVCYvQUAMjS01J3TGVlZdYeNHPo6CnytsQJ2SUhPxNTXpZDNij6WlvaMp599+6MyPmHb66r0123CQWULwF84IEHUuoCpITkY/VhgKxlNSM3WJJ20MyCZZXklNfG8pokv5irJWc5ZAWeP97uzyveTR5+OHxSodnTX01NTXCtoWVd0eSEAbImC6wZPbpSTLL8wOx3wz9+duEnUyLnc4+cVuTjeTXqJdmfBciG/EJN/ccPTi0ip7+27RM1a9L4l/J5UXTw699WARqPFJ5kSQGArPW1oXilmHl7eNZvbxmauQoPyC5atp2dXV4sQFb0+UJ+4TdvRF1LY8b0l3yFHwvLTqzvD47LAUCWlSqVH2Vvxm70v3zz14z5GzFhXW7PgYamJJurGsmxAFk0YlC6s45Uie70l+KpxOwsoGalSzglHwBZtmpSPjZH9+Wx4egp8nzuiQtKggJDGxAYgaxf8B07esw9/13yKANaJ3nLpz2TNhbPVltPmdwAZFmsavkeyttvv53KQTPPv7OHnPLaurNOw65M5a+62v3L1lQOHr8c27PDJxVevnItkeYiP6oNrjVMRE+7PAuQZbemNm7cSPegmf/85KufTCnC1PjptNU+PtV3ean9kIT8Qv3BppHTVg9xR9ZyGT7JWz4WZIuTMNntG7bKGUCW6epSHLwzfK1I75RX5ESY3vO5GRorUOOdJf5+n6/3JO8PyHO5DEx/yWc14VpDprucCZkDyJogKu0oFTdZxjtP8s3V6488GzXldeRIqyX8skuix0P+93fV3xN9krfY9bnO6lW81nDGjBmwNVangI4JBpC1TVXKjwuJa8XPgZaTLnc+HiuYtnBzgKUpLwbJ6xd8vmPHJjwXdZL3opVVelqMfKjH8PuHnuQgDMsKAGRZrh2FvMmvFOvfv/+SJUtirl3/zdu7ySmv0h0w5RV7C0ZnUFzu3fOj8ZHzYmJeZCs/nmLo0KFwraFCU04ZL4CsLataPk+tfdDMyU/+9ED0lFe7X2TQeGRkCRdWpt0vHGhoeuiJYnL3l9r0l/ygNe1KsWXLg0zHrwBANn7NmHmioqJC50Ez3p5dXpEpr9+t+gOb53OzBlnRx3cGxRfytpHTXxnzN0uagNq1hjFfLyTxwEdHKgCQtX21yu99khzd9PXV6796pgSPxvZcSdvC6JQXa5AV+B7IfvCH+nsm5JPGbFvwDGo36J4hyekT5m2Jtn1jTckCAGSdUO2oq/fv3x9BCv2LD5qpa46a8pq5eAs7hxXgF3PkYBCy/t4reSYt2Eju/kLTX/Kft7Fjx8LBr07oUVTLAJClKqelkaElmXKr6smczeSU13vbayVoY+cjg5DtMWZD4qqei2wju7/uSHvq3/7t38mfNLjW0NK2z3TiAFmmq8dA5uRH5/2Xv/v7/3nHmLvS33K5PT+dtrojwOKUF7OWrMDz7QHhQEPzmJk9F9n++5iF//2f/pXE64ABA6jseDZQ1/CILRQAyNqimuLOpPyK07/7+/86cEjGkpXbRF/spUtW2bZsWrK919KIT73i/Yf/dQ+JV2tvaYu7TcADFikAkLVI+KQku++jmn/44f8mufDP//zPS/PyrGJozHTZhOzhhoYn58z6+9tuI5X8p38dte8gn5RqhETsrQBA1t71p5372qYTrsfy/2X4r2/7b/+DBMQdd9yxuqgoJvIggMDzLy5c+MMf/IBU7x8H3v2jsTkut4fW4YfalQjf2l0BgKzda1A1/zdvhp9/p+8uryGPvDNwSMY/9o9C7bBhwz4oKwOSqingWbFi4MCBJF5v/7+D/mXEU3gxXOKHH6pWHnzhIAUAsg6qzOiidH/25x8/XoiJ8NNpq1ubGrPmzfte9Gvv2F/+smrvXjXQpKb/ls2bhw0bRuJ14MCBhfmeQ4dafj6rZ/oLq6q2+yu6KuBTSisAkHVs9a/fEbXLKzd/F5ryqq2pmZCZSRKE47ipU6bU1rByZ62FZK/au3f06NGkON///vdfXLiwpbm551qakP/FpdsHE0cZGDj80LENDgqmogBAVkUYm3t/c/X6w89EHWx4+HALCS9FmmTNm4doQoaUuFuam+2I49VFRdoG++GGhqlTppBm/vduu23WzJmHGxqwAh0BoeLDhvsmRjYou9we/Ycf2rxNQfYNKgCQNSgc44/VNZ8gDytQO9hQ/l78wx/84NVXXsFYkTteXLjwufnz5f6M+4zu/VPMZEtz83Pz53//+98nDVjFURS0U27qi5vvfCQyYgDTX4z3BcuzB5C1vAroZ+DmzfBiTxW5y6t0R53G8ljPihV33HEHiZiBAwd6VqyQI6m2puZ7t902cOBA+VdUfFAeqERFRlJbU4Nilk/0Lc3Lk8xuDRs2bMvmzeTjpPt4u79wYzW5+wumv+i3YGfFCJB1Vn32lub0538ePiky5TVy2moNwmKC/O711yVrlYbcffe7Xi8OIPD81ClTEK1MWgFmEmSz5s1DMd9xxx24OO96vUPuvhv5o3//z+23K/604EcEng/5hcONLb+YsxamvxzYc8wpEkDWHF0tjdW7vXnoY5Fxw1zPLhITGm7FF+fRo0dX7OqJAZmxiEejR4/WiMfwVyhyw4+rPUjaqp4VKyp27ZLMbv3wBz94ceFCtccl/l0h/0tvbydHDOSHH1pa/5A4WwoAZNmqj8Rz85evrz38VNTBhpIpLwky5B8PNzTMmjmTnALiOG78+PEkmL53221mTH+ZAdnVRUUoWrFcYmAAACAASURBVPSvxFr/3m23Zc2bR85uyQWR+HQExIoPG+7JjNxi63J7GvnuxOsOYnCkAgBZp1Xr/iNdpBk7deHmoChIMKHnY21Nzfjx40k8SdxmTH+hJPRkT38Y8rdBUoTx48cb+KkICIKP56e/tPnORyLX0mQvrXRaS4LyUFIAIEtJSGai+c3S3eSFiVt3JnSX1wdlZWqQMmP6izpkySEOkrAPjhghnwTTD+4T7f6iTdUkZGPe/cVMA4GMJFsBgGyyFTc1vePd5++fuArvR/rptNWC75h+dqiFfG7+fJJQ2E19+os6ZNVyPnXKFLXC6vEPir6Pm1ol018bdraaWrkQuU0VAMjatOKUs+3Zctj1WOTe7zcK/yDQONhQssALQ5b69Bd1yJJTXjjbHMclPqbcGRRfW7HzTmL315hZXuVaAd/UVgAg65z6//Olb8bN24DNWJfb09xM4S4vz4oVJJ5Id+Ko0mM2Gg4jmfIic85x3Nhf/tJwzALPdwTFyupD90bf/VXfctI57QlKQkkBgCwlIRmIZs/B9qGZkbGCGYu3BAxNeZHoaWluVjMGhw0bNnXKlERGNsmETHJX7d3rWbEia968B0eMkKwr4Dgukcz7fT6/4Jv9ynvkWi6Y/mKgHzCXBYAsc1ViLEPf3bw59/Ud5C6vBKe8EPVeXLgQG4CIqr97/fVE2GQSTHVGW1tT867XmzVv3ujRowcOHDhs2DCdDyoGO9Hh95buv5vYYutye85fuGKsBuEppyoAkHVIzQZPfHFvZmQ09qfTVof8RlZuSWjy3Pz5tqaqpDiSj4cbGmIeiCN5hPwYEITmpraxT64jd38VlDY6pElBMSgpAJClJKTV0Sx994BkykvPVloSGeCOVwHRx3cGxd+uqhhMXGQ7Zpb32vUbVjcHSJ8hBQCyDFWG4ayc+9Nfxsz2Up/yihc6KRi+Myju3X/4x5Mjm5hdbg9MfxluyY58ECDrhGrd8VHARRxWMPPl9wKCz47IQ+O/Nsq53+cL+n1zXi0dTOz+mp273QmtCspASQGALCUhrYvmu5s3py1+n5zy+mD3ARtxisyq7SDbe1u4v6T8oyGPRh1lcOrTr6xrEZAyWwoAZNmqDwO5afF/ct+EyMqtn80sNnZYAQk7q9x2hGxA9LW2tj2c5SU5u6zkoIGqhEccqQBA1vbV+npxDXkizNLiSvtOedkRsgLPd4bE3xft/lF65LyYkdOLYfrL9l2LUgEAspSEtCiaM2cvjpxejKe8hk0oaG6hsMsLLNm4FOgMitU1jSOmFrqIQQO4yNaiPsFcsgBZ5qokrgxt/MNR0ozNyt1qXzNW4HmbWrIiz3cExKdff5/c/QUX2cbVkh0cGCBr48r9+upfH31uMzZjXW7P/tojcZlgrAW2KWR7RgyCYtmuerIuXG5PW/CMjZsXZJ2SAgBZSkJaEU3PlbTEmVsPP+UNirZcuYVZb1/IBkTfsaPHJmWX3JURucgWjjKwolswlyZAlrkq0Zmh7767ueCdSnKX17rSfbYeK8CotanjeLt/VcmHg+EoA50tOGWCAWTtWtUnTp8fRpzPPXJakSjwNsWTM7Ldc5HtEXSRbWTNLBxlYNcORi/fAFl6WiY3ppWbD5FmbK5nl8gDZC1WoCvkf2X5jsHRJ3nDWq7k9gzmUgPIMlclejL01cWvfz4HDiuwGKlyA7wj0HOUwX0TI8ehudye3fUhPXUKYZyqAEDWljW74yM/eVjBjMVbgvY8rEDOKVv7+AVfQPTNzdlKHmUAa7ls2cfoZRogS0/LZMX07bffPf5iKXlYQcWHDbZmk5Myf7zdv+mDmiHuyLCsy+3pPPVlsloHpMOcAgBZ5qokZoaahD+SK7d+leUN+u29cgtD1r5LuHAR/ELPWq5Hn333bmIt16KVVTGrFQI4VQGArP1qduHyPaQZu3L9XtzD7e5wAGTRUQYrvHvI6a/hkwrhWhr79TRKOQbIUhIyWdEc/+P5Bx5fjXcW/fjxVU5aG+sMyLYHhAMNzT+buQbO5UpWt2A6HYAs09Ujz1zh1iPklNfiZdv9Dloe6wzI9lxLExIXvb2dNGbhXC55Y04RH4CsnSr64uWrD81Yh81Yl9vT0tJm9yECMv/OgKzA8x1BsbL60P2TCuBcLjt1MHPyCpA1R1dzYt26lyc3IMx6+T2/zyFTXgi1joFs77U0wpxX37uTuJYG7lg0p1uwHitAlvUawvn7+pvrj/1mC2nG7q+x95lbpA3rMMj2Xksjbt1ZRw7Lutye6sOduELBkSIKAGRtU9H1LSdJM3bKC5vse82MHK/Og2zPXZbH+CkvbCKNWdiYYJv+Ri+jAFl6Wpoc0xOvlJNm7NaddWqoAn9GFDge8q/dUk0umIULw03uJSxGD5BlsVbkeTrW/tm9xG2J/5HldZ4ZywgZKWYjIPpaWo4+/NR6krNwyKy8eTvbByBrg/r97ubN3yzdTW5A2PD+R05aHkuRa0xFJfJ8V0h8e+0e8o5F2GVrgy5HNYsAWapymhPZ8T+ev39iIR4rGDm1yElrY5nCIvXMtAeEhsPNY2YWD3kUbkwwp3swHytAlvkqCod7Lv12R07PW+HdC2YsdRqaF2FnSMxZuZPcmAC7bG3Q6+hlESBLT0tzYvrk7MUHHi/CZuyPJ68CM9Y8IJoRc3tAqD3w8YNTC8mjuZaVHDSnvUCszCkAkGWuSiQZWlXaSK7ceuntbX44OtZWd0CIPr7dLy58a9uP0pfjH8vhkwovX7kmqWv46EgFALJMV+uXf74ycnox7pn3ZRY4bB+tGZYjg3F29u6yHT4Zdtky3d1MyhxA1iRh6US7saJt6GMFGLIvLt3msH20DALRjCyJPj7kF+blbCVHZmGXLZ1OwnwsAFl2q+hPF77+xZz1mLAut2d/rdP20ZpBNDbj7AyKO/YcvGdC1I0JpXt4dtsf5IySAgBZSkKaEE2vGbsKQ/aJRVtgAwKbANWTK7/gC/qFrNyo67/GzPKa0HAgSrYUAMiyVR84N3++9M3PZ0fdR/tRHZixzF1PqwevOExXSNxRefDeCfnk+Yf1LSdxpYPDkQoAZBmt1g07W8nDuXvNWEedaojRkzqOnvMPRWHGoi2SI2OuXb/BaCuEbNFQACBLQ0XacZy/cOUXc97FAwUut2fPvsOpAyMHl7QzKJbuqCN3f7ncHhiZpd2B2IoPIMtWfaDcbNsnkmbsw095Q6LgYPSkTtECgs/v8/160ZbBcJg3iz3PlDwBZE2RNZFIv7r49S9mRy0qSKlTDbds2oTuR9iyaZMj4dsV8r+3o458TQFjNpH+wv6zAFnm6ujdntHYyEkFjz67wdpFBdvKy5fm5T05Zw5iH8dxo9LSnl+woCA/v/HQIZ0cxM/qd1RXValFXl1VlZuTMyotDcWWm5Ozu6JCLbDcf3dFBXrw+QUL5N+a7eP39RqzL0WNzMKaWeb6Ib0MAWTpaUkjpvMXvv5Z9KICC9fGeteuxSBTg2NuTo4eKqk9ruGvBtmC/HyO43JzchDiq6uq0A/A0rw8PTkReH5CZiZKt762VucjdIN1hsRtuw/cOzFqmQGMzNLoQCzGAZBlq1a821tIM3aGdWtjSdOV4zjSbvWuXUvCcVRaWkxakeF1uhUhi4zQCZmZJPXqa2tRnHpGGHDmC/LzyUiS6fb7+PaA+NSS9yUjs3CaAVu9kVJuALKUhKQRzZkvLj44bTU5WmeVGSshrHftWgmDMKoQ3STUkwQWeF4nWMlg8kgEnkeWtRymuTk5aBxD8SnsiXEcM8P4EZMcnUFx196G+yZGxoVcbg8czUWjGzEXB0CWoSr53doa0oyd+fJ7lhy4hYCFeafGI8lIgvbbOo5Nv0NOt23l5ehxueGMp8u0B2efX7AAxaAdTJ40dR+/zxfyC08veZ+8NGH4pMLPzl1iqEVCVmgoAJCloSKNOIInvhhGXH9wX2ZBfUMT9b4dM0Js62Eaqr1WL83Lw2GQQ2MejAwZMw9qAXCK8gDVVVUoCbnRjQNjRlsy34WzgR3oaK77J0UdzQU3gNHoTGzFAZBlpT6e+t0ucqDgpbe3W3LgFppWIpm4rbwcc4F0YGbhwPK3eBweh+E4DnvG60B26Ki0NPmDjYcOoSQ0AIpNb40fA3nMpvp0hcRFy7aTxqzL7RG7PmelUUI+aCgAkKWhYsJxHGz9z3snRG7xenBqUXNLq6ndWy1yyWgsx3GKE1ACz2PjEQNUA3A4TCKQ1cao9rf4x0PD1FXTxDz/9oBwoKFp9BOrhzwaOZ1r4gulsNE24S7FUAQAWesr46/Xv81csIU0Y1d491pixirOUKlBVjGwGo+shSz+PVAbX1bLttn+fdfZFldKjFlYzmV9t6SXA4AsPS2NxvR+FU/Od42bu87CexJJGiK3AyCLzXONspjNU7X4g6LQ3NyW8cy7dz0Suc4Wblo02plYfA4ga3GtnD1/Oe3Xa0kztuLDBrUOmQT/BCGrRjEyWsOlQJGoDUqofYsXHujcN2E4e4Yf7Ar5333/o7syIpB1uT2LVlZZ3DQheUoKAGQpCWk0mlfyq8jrvrNyt4b8Vp4Fg3dDYSxqDGLiMNhhKmRx3hRxhvIgWUnWeOgQmu9SnC5TjCf5ngGh5wjEuTlbBz0cuWnR5fa0Bc8YbVbwHEMKAGStrIzD/CnyCq8RU4osvydRskiW4zg1y1G+2EtjlgxTGE18bSsvz83JwdDkOG5CZmZuTo7aSgYEPrzKVc5BPOoqWeGAiyPxl8dgrU9HQNxfe2TktCLy2vBxWRtgBszK/kkpbYAsJSHjj+bi5atj520gBwrWbNln1XwXRox8YZYaOvFAJwlQPZYsXkpFPojdEzIz1SLB28zkAfCZL+Q+BUzeJ+fMwQVE6yISOV+GjIqi+3i7P082A5ZTuD/+lgVPsKUAQNay+ni96CNyoODR+e92BEWKndZwVKSBidg3Ki0N25iNhw5pHByjlihmqE4HTo6MEC+GlZulaJ+CxOjGBSGhnPj5MmSWKLqDoq+t9VjmcyXkgQYut6eR77asjULCNBQAyNJQMf44Dh09NTQzsm/93syCI0esWRgrx4TiOIAcjooGqTw25LO7omJUWtqotLSC/HwSebsrKvAgAJnEqLQ0xS0DCKbylVgoM2TM2Owld6wlfr6MWgGp+HeF/GW76u+d4CEvARszy3v+wpX4mxg8wYoCAFlramLUE2vIgYKijVUBkaErvKqrqhQZijg4Ki3Nu3YtfhnHcJQYkvq5g/fL4qg4jpNMYeHY0DDFk3PmIArX19YiH9L4xTavZL4LFUpuCOs8XwbnwSSH6OM7g/4lnl2SGTDYa2tNL6WUKkCWkpDxRNMWPEMOFEzMLulkY6BAwo4tmzaRZuaEzMznFyzAhMKmIiYjaTNKoor5kUwIR6j21JZNm/CI8Ki0tKV5eeRQrMDzODaSvHi4WRJY4Hm8zMvyg2OCfuFo69HM5zbcOX4F+TO8prwpniYGYRlSACCb7Mo4f+HKmFmRu75/8nhhS2ubGk1Y9scT95iJiRAKExDHpjbhFlMTPAkmsayxvSyPAVvlGuvV5E+Z5NMVEnfuOXj/xIIh7qiVs7CiK9l9lVJ6AFlKQuqL5tr1G7Nzt5MWyrbKAwGBoYEC/eCQjCdIXsz1x4NC4hd8ErKkHao/QpwxyaguMm8V84lTl3BZf6IUQ4o+viskLi2uHJS+nPw9Hjm9GA5C1NfP2AoFkE1qfby5LuoGvZff2dEeYGJFQbyMkBueiYwVoNRJvCI3HprQnz2Ng2BQnGoY1f5WfwaohAwIvoDge3rJ+23BM+RPcsb8zXB7QlJ7LI3EALI0VNQXx5ryJrLDPPLM+q6Qn0qfTH4keHUUYpOieRhvrlBU5L/kagE9seF1EfLlB/g4G1tAVuD59oDw8cet4XB4w85WstnMzt0OOxT0dThWQgFkk1QTu+tDZFcZOa3Ix/MWHgSjh1lqYfA0EQaitsmJg2mfc0gGQ27J+75afrA/nu9SHB1GcdoFsgLfM2iAWueilVVk44HFBknqtJSSAchSElIzmka+m+wkI6cX1x742JKrZTCPDDvkAwVq2MJJkPRUxJ/i6bSK1iiOU+7A6Fc7CMZ2kBV4HjWra9dvPP1GBdmE4DYwzQ7H1pcAWdPrQ+z6fPikyIHcwycVil2fB0UrT4GRE0qnj3zZlmTHqmI8JGTViIzHUnHgeGe90HyX2i4G8iZwjUyqLc5VfCQJnrh1Xr5ybeILpSRnN+zsGUyAP/YVAMiaW0enPv1q5PRism8giCShf1JMorqqqiA/H8/aYw6q2YySpHF45JDTE5+VhUOqsVgSM/6Il2dprMHCgwn4KezAS7i0xz1w+OQ4kBq4gX527tK4rKjDLnbXh/C34GBWAYCsiVUj7xXb9omo5ySnlyaeCqaexDEqLU0/jyTPchznXbsWj7duKy+X4DtewmJEapvV2AyXz6fhpbXyfQqJa2g4BqQb2UAlv9nDJxXCyQakPmy6AbJm1YucsGjTDuo5hjtekh+U4A+dSahhLSpmT9EKlpOX47i42I3Twksd5PTEYQSex4th5T8PyBCOF+5k5Ga45ZANh8Py0SfgrFl9mFK8AFlKQkZHIycsPrPOXpBFJt6Tc+bk5uR4165NxNCrr631rl2bm5ODX9uRFKPS0p5fsKAgP19tTkybX9g+1TOcimAqn1JDvyXajNbOhhnfKkI2HA7Xt5wkB6DAno3ufMx9AsjSrxINwobDYXtB1gx2UIwTD+bqX6ir53wZijlMJCo1yIbDYcmKQOAs/W5ML0aALD0te2PSJixANhHoyJ/F5yfIRwDkgbFPzPNlcEhrHRqQBc5S7rdmRgeQpaluTMICZK3Flr1S14asImerD3fSbNAQFw0FALI0VOyNo5HvlqzWwuOwZBowXGAv0lmY25iQlXPW5faU7unbwkC2OnBbqABAlo74u+tD5I4Dl9ujSFicmIVdF5K2kQK4wWg4JOOzLrcH9oNpyJX8rwCyFDQvKG0kZ3tjEjYcDtuon0NWLVRAZ+usPtwp+Y1ftLIKzpHRqZ7ZwQCyCSl87fqNnML9EsLq2e9oYb+FpG2kgP7W2RY8Ixmtmp27Hc5F1C+geSEBssa1vXzlmuQE7uGTCnXOPNion0NWLVQgrtbZeepLyb7biS+Unvr0q7gigcDUFQDIGpT01KdfZczfTNqwI6cX678gxMJ+C0nbSIF4W+dn5y5JzpEZOb24vuVkvPFAeIoKAGSNiCkfAhuXtSEuk8FG/RyyaqECBlqn/AXL5fbAPYwGlKT1CEA2PiWvXb8huULG5fZMfKFU/+AXLOGykFn2SlrPEi7F5nvt+g3JOd8ut+fpNyr0t1LFaMHTmAIA2Th0++zcpemLy8khApfb8+a6urimcQGy9iKdhbk1DFnUpkv38JIlB+OyNnSe+jKOFg9BaSgAkNWronyvwfBJhQYO9ATIWogteyWdIGTRkV3kfbcut2f4pEI9q1/09goIp0MBgGxskS5fuSZfp5Uxf3Ncg7A4GYCsvUhnYW4Th2w4HD5/4YpkDYzL7Zm+uNxY68XNGBz6FQDIxtCqke+W2AIut2fRyirDw1sAWQuxZa+kqUAWte9lJQclw1xg0sbo+fS+BsiqaqlowA6fVLhtX98doqpPan4BkLUX6SzMLUXIhsNhRXMBTFrNzkrnS4Csso6le3jJ/hlaL1kAWQuxZa+k6UI2HA4r2g0ut6egtNHwm5ly/wFfQgGALCFGr7OR75bsMqA7XQCQ1SAdiEOKQx2yqK3Lp3Bdbs+YWV4Ds7jSzgOflRQAyEZUOfXpV5Lb7dEwlhmvVGRfAjdWACCLpUCOSOuk6jp/4YpaU4c1XlSV7okMINujwmfnLsnXD7jcnpHTi01a7yLpS/ARKQCQlbQE6h2ejLCR75acdYCsiuyllYBaUqgE3akOWTW8ouMKz1+4kqC+ao9L+hJ8BMgqtgG19kPL/9r1Gxt2tkr2LCDU5hTu/+zcJVoJpXI8qQtZDbxOX1wudn1uarNQ7FHgCZaspA2Y2ghx5OcvXMleWilZ44VRC1YtFsqYIxUh28h3y3d2oyY1LmuDzrMKjcmNn5L0JfiIFADISloCbjBJcLQFz8i3LaB+MX1xeXL6RRKKmfwkUgiyl69c27ZPlK8cwHhN5uyqpC/BR4CsYhtIPhHagmckhyWiDoJWIGzY2WreGFryC5ucFFMCsvUtJ3MK98vXvVqCVzDWFGkCkJXLgppKckAgSaW+5aQaatGBXrvrQ3GdiySJP6U+OhmybcEzGmx1uT0Z8zcn03pFDQsgK6cJ+CgqYCFkUVtt5LsVV3oh62T4pMKcwv2NfHdKEdNAYZ0G2WvXb9S3nHxzXZ38wAH81oMOH9B/i4EBWTUeAcgqAgU85QpYDlnUjD87d+nNdXVqL4JopWNO4f7qw51g2yp2fIdA9tSnX23bJ2YvrVRcjILxOi5rg+WDSgBZOU3AR1EBRiCLwIGmNDTGENDGyOyllRt2tlplwSgyznJPu0L28pVrjXz3mvKm2bnbtcGKBuzfXFfHSMUDZBWBAp5yBZiCLEbVqU+/WlZyUPtNEZk1s3O3F5Q2NvLdKX4wgp0gK3Z9XrqHzyncr7ZCAFusyDFyenFO4X7WbpEDyMppAj6KCrAJWUzbRr5be86D7I8TXyh9c11d9eHOFNzgwC5kT336FbJVcwr36zFXcY1mzN+8rOQgs+PxAFlFoICnXAHGIYtp2xY8s6zkoE7TB43hzs7dvqzkYOkevi14xvF2LiuQbQue2V0fWlPe9PQbFdrjPhimpGPMLG/20srSPTz7v5MAWTlNsA+Ig6UQeN4ukMW0RVMji1ZWKR6JQHZYiXvk9GISu+z3YlxkPY6kQvazc5fagmeqD3euKW9aVnJwdu52+b2EEvU1Pk5fXL6s5KBNX0DIvgRurABAFkuBHHr6MJthPjt3aXd96M11dfotXElnz5i/GZF3TXlTI9/NyJyKAbWTAdnLV67pGSaXSCz/iMxVZ8xdSvoSfEQKAGQlLcFAl2bwkctXrtW3nCwobUzEqEJAGD6p0OxzRagLmAzIhsNhOTFj+ozL2oBmJ9HAjcM280n6EnwEyCq2AeodnoUIJdMtMVEgCWC7A2uSBNmYYzSzc7dnL61cU95U33LSdr9UBhquYo8CT7BkJW3AQNOy4yNoIHFNeROa5dZ+8bXdlockQRad7oOM00Urq9aUNyH7NBV4qtjoJX0JPiIFALKSlqDYeFLEs/PUl23BMxt2tqLl8GioYcwsr+2KnyTI2k4XszMs6UvwESCr2AbMbocQv1yBiooKuWciPgDZRNQz8iwYa4o0AcjKZUFNxUgjg2cSUIDjuKFDh1JELUA2gdow9ChAVk4T8FFUACBrqIcl+hCSnSJqAbKJVkm8zwNkFYECnnIFALLxdi4q4TFkkSNxqxYgS6Ve4ohkSe+fvEeBDyggUSBr3ry/NZY42hYEpaGABLKJoxYgS6Na4o9D0p3gIyigqED8LQueSFQBRcgmglqNCOErUAAUAAVAAakC8Q4gSJ+Hz6AAKAAKgAIaCvTr1y87O/vs2bM6bWYYLtApFAQDBUCBlFCAIl6RXgDZlGg3UEhQABTQqYAiZOO1Xsm0ALKkGuAGBUCBVFdAAtlE8IqkBMimepOC8oMCoACpAIZs4nhF0QJkSXnBDQqAAqmuAMdxtPCKpATIpnqTgvKDAqAAqUBcKwfIB9XcAFk1ZcAfFAAFQAEKCgBkKYgIUYACoAAooKYAQFZNGfAHBUABUICCAgBZCiJCFKAAKAAKqCkAkFVTBvxBAVAAFKCgAECWgohEFFVzOY6bW0X4xHKeqJo7YsStpXkj5uZXnVB+IiocpxFQ+XHwBQUcrsCJfNyPbvUnhf/H1TnpKAaQpaMjiqUXsXFAVrlZjJC1A+Vw3Ih8FSDTLBPEBQrYQwGVXiIBraxzmV84gCwtjU/0EVa/JYsbxQhsvvaYqz2NIgqftyIeMfeWlXuiqu9HOyocrZJAPMlVAN5+TNeb6GoW2CUAWRoVfIuNfT+a+n4s+9gp4yTyx3H0tQ+VYDJvGsWBOJKoQF8zwPUdK2nMiygLDd5+NHTrkziOV0yNyAx8BZA1IFr0I7eqsMfQlAAyOmD0p77OotC5oiJRDxYdHXyyoQLw9mN+peEfJevsEYBswtVcNTcyDRXFR+2YUVClmkfNou+bOGLUTg++TaIC6pWLMwFvP1gKEx2oIvQP4ZmSFYAsVVnjQKK6idrXMHptXAK4J6ry0YBt76Ct+jIEqgWCyAwpEAuyt/o+vP0YklfnQwwYsb05BcjqrDB9weKAbJhkKRn7rQ7YC1n0YUQ+wdfIWJySGUzGBG6rFLhVbWqzLPD2Y37NYMQqjMiZnzqZAkCWVCNhN+pcOmv1Fk0jqwbC5DskAdlerioG05lUwgWDCOJSIBZkycjiaDPw9kMKp+nGnYuBZY4AWc2qivfLODpMT9T4xzZinfaM76L1WVGQlRutfa0IKBtvHSUjPKoceaUppR1Pm1Gr9D5/tA3mVuKp+/aD+xUbvQMgq9TuJX63mjCBQpVdXShkPFVLjrSOQMYqaiKoh/YlrdRd1c0aSfbhYxIUUGojZHuRrH0mchRXm7mVjOJrTd8apVthetZb46XVxEtSPM2TyKdtnLfKr9RpLCkEQFaH7Ldqjew0yi0VhVT+TkdCKAgZiQZJNb7SnRQEpKWAUhsh2wslyMLbT4wK6+sVlq2JVcoeQFZJFcN+JB+NRoLiuPUz3Nd5FbgdHc5oavCcGQrEUzcorEIFq2YM3n7UpLmF2Fu9Ry1ccv0BslT1jqfDKFuifb6RVoKilA9PqPlTLQ9EZkwBVDmRStSKJZ42oxoPGYlyw+p9VOMr1ajt80Vfl5D3FYuLAJClWgFkW48ZcV+L5/C4GT6SIKqZ3ApGHLyFFyHo68YxcwIBpczXIQAAAgRJREFUKCuA2oG+2omrzajkMzo99CmqEfU9Fx1OJTJ7euNuwsByAomCAFmJIIl9VO8wig2/7ziY6LG76NNhevOjHE6pFyWWfXiakgLxwEy9zcgzo2yJ9vlGmK7Y2MJh1aXZ8oRs53OLsZK+pPAxnoEZOjIAZOno2BeLeodRa/c9Rik+BrN3eYHyAvbecbjogFRzDpHRVADVdoR6WnGrtxmFp26xBN5+JOLcEkaBqhIvgKxEOkd97GkHya9hR0noxMKoQ1bxh1n5rUbOc+Vw0AAtaEJgySZP9J69lOwNGCWv/JCSogJxQrZnDwu8/SgqyaonQDZZNdNjxwJjk6W2U9KBtx8H1CRANkmVeCJ/xFwwY5MktnOSgbcfB9QlQNYBlQhFcKgC8PbjiIoFyDqiGqEQTlQA3n6cUasAWWfUI5QCFAAFGFUAIMtoxUC2QAFQwBkKAGSdUY9QClAAFGBUAYAsoxUD2QIFQAFnKACQdUY9QilAAVCAUQUAsoxWDGQLFAAFnKEAQNYZ9QilAAVAAUYVAMgyWjGQLVAAFHCGAgBZZ9QjlAIUAAUYVQAgy2jFQLZAAVDAGQoAZJ1Rj1AKUAAUYFQBgCyjFQPZAgVAAWcoAJB1Rj1CKUABUIBRBQCyjFYMZAsUAAWcoQBA1hn1CKUABUABRhUAyDJaMZAtUAAUcIYC/x8Kqfowm4SX6gAAAABJRU5ErkJggg==)"
      ],
      "metadata": {
        "id": "PgQMMM9rUNRT"
      }
    },
    {
      "cell_type": "markdown",
      "source": [
        "Como é função simétrica, esse valor positivo vai ser exatamente igual ao outro z negativo.\n",
        "\n",
        "Para obtermos o z de outra forma sem usarmos a tabela, teremos ajuda do Python e do Scipy, pois importamos o norm do scipy.stats darmos uma aproximação mais sofisticada.\n",
        "\n",
        "O z será igual a norm. Antes obtivemos com .cdf() recebendo o Z para retornarmos a Probabilidade, mas agora faremos o contrário; passaremos 0.975 para obtermos o z. Para isso, usaremos o método .ppf() recebendo a Probabilidade supondo que não tenhamos uma tabela."
      ],
      "metadata": {
        "id": "2oCAeiuWUR0d"
      }
    },
    {
      "cell_type": "code",
      "execution_count": null,
      "metadata": {
        "colab": {
          "base_uri": "https://localhost:8080/",
          "height": 34
        },
        "id": "L4CMGZ3oVHLX",
        "outputId": "60470140-1dfa-4d5c-9627-097378b2fc8e"
      },
      "outputs": [
        {
          "data": {
            "text/plain": [
              "1.96"
            ]
          },
          "execution_count": 68,
          "metadata": {},
          "output_type": "execute_result"
        }
      ],
      "source": [
        "1.9 + 0.06"
      ]
    },
    {
      "cell_type": "code",
      "execution_count": 76,
      "metadata": {
        "colab": {
          "base_uri": "https://localhost:8080/"
        },
        "id": "JJS6Z-85G3Hf",
        "outputId": "324f810d-7554-46d7-85af-8e9fcf13834b"
      },
      "outputs": [
        {
          "output_type": "execute_result",
          "data": {
            "text/plain": [
              "np.float64(1.959963984540054)"
            ]
          },
          "metadata": {},
          "execution_count": 76
        }
      ],
      "source": [
        "z = norm.ppf(0.975)\n",
        "z"
      ]
    },
    {
      "cell_type": "markdown",
      "source": [
        "Como resultado, teremos 1.959963984540054, ou seja, aproximadamente 1.96. Em seguida no notebook, encontraremos uma tabela com os valores mais comuns de 90%, 95% e 99% de Níveis de Confiança.\n",
        "\n"
      ],
      "metadata": {
        "id": "EgEiBnCNUdsy"
      }
    },
    {
      "cell_type": "markdown",
      "metadata": {
        "id": "ggXXP8QqTyNA"
      },
      "source": [
        "### Valores de $z$ para os níveis de confiança mais utilizados\n",
        "\n",
        "|Nível de<br>confiança|Valor da área sob<br>a curva normal| $z$ |\n",
        "|:----------------:|:---------------------------------:|:---:|\n",
        "|90%               |0,95                               |1,645|\n",
        "|95%               |0,975                              |1,96 |\n",
        "|99%               |0,995                              |2,575|"
      ]
    },
    {
      "cell_type": "markdown",
      "metadata": {
        "id": "MfE1ru0AG3Hg"
      },
      "source": [
        "### Obtendo $\\sigma_\\bar{x}$"
      ]
    },
    {
      "cell_type": "markdown",
      "source": [
        "Obteremos o x barra que é justamente o sigma sobre a raiz de n. O desvio padrão populacional de uma amostra no nosso problema é 150."
      ],
      "metadata": {
        "id": "jU52Y153UuCV"
      }
    },
    {
      "cell_type": "code",
      "execution_count": 77,
      "metadata": {
        "colab": {
          "base_uri": "https://localhost:8080/"
        },
        "id": "LyQ6UUYtG3Hh",
        "outputId": "7d79d806-4f70-4d2b-894d-ff3f55f459d3"
      },
      "outputs": [
        {
          "output_type": "execute_result",
          "data": {
            "text/plain": [
              "150"
            ]
          },
          "metadata": {},
          "execution_count": 77
        }
      ],
      "source": [
        "desvio_padrao = 150\n",
        "desvio_padrao"
      ]
    },
    {
      "cell_type": "markdown",
      "source": [
        "Sabemos que n igual a 20 sacos da amostra."
      ],
      "metadata": {
        "id": "ZYeL29nUU0gu"
      }
    },
    {
      "cell_type": "code",
      "execution_count": 78,
      "metadata": {
        "colab": {
          "base_uri": "https://localhost:8080/"
        },
        "id": "ebvikT95G3Hi",
        "outputId": "213dc2db-bfb9-48e5-d5dc-b35cc6971825"
      },
      "outputs": [
        {
          "output_type": "execute_result",
          "data": {
            "text/plain": [
              "20"
            ]
          },
          "metadata": {},
          "execution_count": 78
        }
      ],
      "source": [
        "n = 20\n",
        "n"
      ]
    },
    {
      "cell_type": "markdown",
      "source": [
        "Em seguida, calcularemos a raiz_de_n igual a função .sqrt() do Numpy que calcula uma raiz quadrada, recebendo n. Com isso, teremos todos os elementos para calcularmos esse sigma x barra."
      ],
      "metadata": {
        "id": "lxoJKkGtU4qo"
      }
    },
    {
      "cell_type": "code",
      "execution_count": 79,
      "metadata": {
        "colab": {
          "base_uri": "https://localhost:8080/"
        },
        "id": "TxM3yTpjG3Hk",
        "outputId": "b6783163-0ba9-42e6-9126-b6450b9238b6"
      },
      "outputs": [
        {
          "output_type": "execute_result",
          "data": {
            "text/plain": [
              "np.float64(4.47213595499958)"
            ]
          },
          "metadata": {},
          "execution_count": 79
        }
      ],
      "source": [
        "raiz_de_n = np.sqrt(n)\n",
        "raiz_de_n"
      ]
    },
    {
      "cell_type": "markdown",
      "source": [
        "Como retorno, teremos 4.47213595499958.\n",
        "\n",
        "Em seguida, a nova variável sigma será igual desvio_padrao dividido por raiz_de_n."
      ],
      "metadata": {
        "id": "eRWzUUjmVB1j"
      }
    },
    {
      "cell_type": "code",
      "execution_count": 81,
      "metadata": {
        "colab": {
          "base_uri": "https://localhost:8080/"
        },
        "id": "HNAcOpl0G3Hl",
        "outputId": "a6f268ca-9aca-4390-921b-a8fd4b9410bc"
      },
      "outputs": [
        {
          "output_type": "execute_result",
          "data": {
            "text/plain": [
              "np.float64(33.54101966249684)"
            ]
          },
          "metadata": {},
          "execution_count": 81
        }
      ],
      "source": [
        "sigma = desvio_padrao / raiz_de_n\n",
        "sigma"
      ]
    },
    {
      "cell_type": "markdown",
      "source": [
        "Feito isso, teremos mais um elemento da nossa fórmula.\n",
        "\n",
        "Falta-nos obter o erro que é z vezes sigma sobre raiz de n. Na parte \"Obtendo e\", calcularemos o e que será igual a z vezes sigma."
      ],
      "metadata": {
        "id": "JMUXMI5uVHws"
      }
    },
    {
      "cell_type": "markdown",
      "metadata": {
        "id": "NHbXlLk-G3Hn"
      },
      "source": [
        "### Obtendo $e$"
      ]
    },
    {
      "cell_type": "code",
      "execution_count": 82,
      "metadata": {
        "colab": {
          "base_uri": "https://localhost:8080/"
        },
        "id": "gAfakih5G3Ho",
        "outputId": "8d4e0a3f-600a-4c12-c4ae-ca9ed29308f6"
      },
      "outputs": [
        {
          "output_type": "execute_result",
          "data": {
            "text/plain": [
              "np.float64(65.73919054324361)"
            ]
          },
          "metadata": {},
          "execution_count": 82
        }
      ],
      "source": [
        "e = z * sigma\n",
        "e"
      ]
    },
    {
      "cell_type": "markdown",
      "source": [
        "Como retorno, teremos 65.73, ou seja, 65,75 gramas.\n",
        "\n",
        "Veremos como calcular o Intervalo de Confiança de forma manual e depois de forma simples passando alguns parâmetros para termos um output.\n",
        "\n",
        "Primeiro, chamaremos uma nova variável intervalo sendo igual a parênteses. Dentro, a média amostral representada pelo x barra da nossa fórmula. A variável media_amostra subtrairá o erro e por se tratar do Limite Inferior.\n",
        "\n",
        "Faremos a mesma coisa em seguida para o Limite Superior que somará o erro e com a media_amostra, alterando por sinal, invertendo ele, menos e mais."
      ],
      "metadata": {
        "id": "J-s99jYlVO6j"
      }
    },
    {
      "cell_type": "markdown",
      "metadata": {
        "id": "sx1QTfNrG3Hq"
      },
      "source": [
        "### Solução 1 - Calculando o intervalo de confiança para a média"
      ]
    },
    {
      "cell_type": "code",
      "execution_count": 83,
      "metadata": {
        "colab": {
          "base_uri": "https://localhost:8080/"
        },
        "id": "NlJCcPZnG3Hq",
        "outputId": "fda4ad8c-177f-4fcb-eaaf-ff16cf07a48d"
      },
      "outputs": [
        {
          "output_type": "execute_result",
          "data": {
            "text/plain": [
              "(np.float64(4984.260809456757), np.float64(5115.739190543243))"
            ]
          },
          "metadata": {},
          "execution_count": 83
        }
      ],
      "source": [
        "intervalo = (\n",
        "  media_amostra - e,\n",
        "  media_amostra + e\n",
        ")\n",
        "intervalo"
      ]
    },
    {
      "cell_type": "markdown",
      "source": [
        "Nosso Intervalo de Confiança será (4984.260809456757, 5115.739190543243) com Nível de Confiança de 95%, ou seja, teremos uma probabilidade de 95% de o parâmetro da população estar dentro do intervalo.\n",
        "\n",
        "A forma automática de calcular isso, com norm será usar o método .interval() recebendo o alfa de 0.95 e o parâmetro loc que representa o x barra da media_amostra que é 5050. O scale é justamente o sigma."
      ],
      "metadata": {
        "id": "1yAl-aCpVWQ_"
      }
    },
    {
      "cell_type": "markdown",
      "metadata": {
        "id": "DkFJL7fcG3Ht"
      },
      "source": [
        "### Solução 2 - Calculando o intervalo de confiança para a média"
      ]
    },
    {
      "cell_type": "code",
      "execution_count": null,
      "metadata": {
        "colab": {
          "base_uri": "https://localhost:8080/",
          "height": 34
        },
        "id": "U92vSYMkG3Hu",
        "outputId": "45923471-3d21-42ad-a922-5067ff21067b"
      },
      "outputs": [
        {
          "data": {
            "text/plain": [
              "(4984.260809456757, 5115.739190543243)"
            ]
          },
          "execution_count": 76,
          "metadata": {},
          "output_type": "execute_result"
        }
      ],
      "source": [
        "norm.interval(alpha = 0.95, loc = media_amostra, scale = sigma)"
      ]
    },
    {
      "cell_type": "markdown",
      "source": [
        "Nota importante: Devido a uma atualização recente na biblioteca scipy.stats, o parâmetro alpha utilizado no vídeo e transcrito acima na função norm.interval deve ser substituído por confidence"
      ],
      "metadata": {
        "id": "dJ8-W_TQVfFT"
      }
    },
    {
      "cell_type": "code",
      "source": [
        "norm.interval(confidence = 0.95, loc = media_amostra, scale = sigma)"
      ],
      "metadata": {
        "colab": {
          "base_uri": "https://localhost:8080/"
        },
        "id": "Jxgpelz8Vhvz",
        "outputId": "e1f940c5-e3cc-4b93-ae6e-6605a3b9d075"
      },
      "execution_count": 84,
      "outputs": [
        {
          "output_type": "execute_result",
          "data": {
            "text/plain": [
              "(np.float64(4984.260809456757), np.float64(5115.739190543243))"
            ]
          },
          "metadata": {},
          "execution_count": 84
        }
      ]
    },
    {
      "cell_type": "markdown",
      "source": [
        "O mesmo resultado anterior mostra que esta é outra forma de obtermos o Intervalo de Confiança de forma mais automática.\n",
        "\n",
        "A seguir, utilizaremos informações obtidas na parte de Estimação. Aprenderemos a calcular e obter tamanho de amostra para que seja realmente representativa da População."
      ],
      "metadata": {
        "id": "XmgBy2XfVnwn"
      }
    },
    {
      "cell_type": "markdown",
      "metadata": {
        "id": "aF9jAC6yG3Gl"
      },
      "source": [
        "# <font color=green>5 CÁLCULO DO TAMANHO DA AMOSTRA</font>\n",
        "***"
      ]
    },
    {
      "cell_type": "markdown",
      "source": [
        "## Margem de erro - Exercício"
      ],
      "metadata": {
        "id": "SYTeqr-FV_ZB"
      }
    },
    {
      "cell_type": "markdown",
      "source": [
        "Para estimar o valor médio gasto por cada cliente de uma grande rede de fast-food, foi selecionada uma amostra de 50 clientes.\n",
        "\n",
        "Assumindo que o valor do desvio padrão da população seja de R$ 6,00 e que esta população se distribui normalmente, obtenha a margem de erro desta estimativa para um nível de confiança de 95%."
      ],
      "metadata": {
        "id": "XQFW_HM4WD0O"
      }
    },
    {
      "cell_type": "code",
      "source": [
        "import math\n",
        "from scipy.stats import norm\n",
        "\n",
        "desvio_padrao = 6\n",
        "tamanho_amostra = 50\n",
        "nivel_confianca = 0.95\n",
        "\n",
        "z = norm.ppf(1 - (1 - nivel_confianca) / 2)\n",
        "margem_erro = z * (desvio_padrao / math.sqrt(tamanho_amostra))\n",
        "\n",
        "print(f\"A margem de erro é: R$ {margem_erro:.2f}\")\n"
      ],
      "metadata": {
        "colab": {
          "base_uri": "https://localhost:8080/"
        },
        "id": "FgRfqy0nWGqU",
        "outputId": "2b1844cd-9ac6-4b0a-980b-6301d7548873"
      },
      "execution_count": 85,
      "outputs": [
        {
          "output_type": "stream",
          "name": "stdout",
          "text": [
            "A margem de erro é: R$ 1.66\n"
          ]
        }
      ]
    },
    {
      "cell_type": "markdown",
      "metadata": {
        "id": "BwiygaNqnjrr"
      },
      "source": [
        "## <font color='red'>Problema </font>"
      ]
    },
    {
      "cell_type": "markdown",
      "metadata": {
        "id": "a7RjjVVUnlI3"
      },
      "source": [
        "Estamos estudando o rendimento mensal dos chefes de domicílios com renda até R$\\$$ 5.000,00 no Brasil. Nosso supervisor determinou que o **erro máximo em relação a média seja de R$\\$$ 10,00**. Sabemos que o **desvio padrão populacional** deste grupo de trabalhadores é de **R$\\$$ 1.082,79**. Para um **nível de confiança de 95%**, qual deve ser o tamanho da amostra de nosso estudo?"
      ]
    },
    {
      "cell_type": "markdown",
      "source": [
        "## <font color=green> O que aprendemos?</font>\n",
        "***"
      ],
      "metadata": {
        "id": "tihIr8MBWl-v"
      }
    },
    {
      "cell_type": "markdown",
      "source": [
        "Nesta aula, aprendemos:\n",
        "\n",
        "   - A conceituação de parâmetros e de estimativa\n",
        "\n",
        "   - O teorema do limite central\n",
        "\n",
        "   - Níveis de confiança e de significância\n",
        "\n",
        "   - A obter a margem de erro de um experimento\n",
        "\n",
        "   - A obter intervalos de confiança para uma estimativa pontual (estimação intervalar)"
      ],
      "metadata": {
        "id": "r-3zwdE7W7Qs"
      }
    },
    {
      "cell_type": "markdown",
      "metadata": {
        "id": "za2sGJt6G3Gm"
      },
      "source": [
        "## <font color=green>6.1 Variáveis quantitativas e população infinita</font>\n",
        "***"
      ]
    },
    {
      "cell_type": "markdown",
      "source": [
        "# <font color=green>Cálculo para a população infinita</font>"
      ],
      "metadata": {
        "id": "anBCdomsXMWt"
      }
    },
    {
      "cell_type": "markdown",
      "metadata": {
        "id": "3wqMjJWR5sVq"
      },
      "source": [
        "# $$e = z \\frac{\\sigma}{\\sqrt{n}}$$"
      ]
    },
    {
      "cell_type": "markdown",
      "metadata": {
        "id": "X1AxpKtIG3Gn"
      },
      "source": [
        "#### Com desvio padrão conhecido\n",
        "\n",
        "## $$n = \\left(z\\frac{\\sigma}{e}\\right)^2$$\n",
        "\n",
        "#### Com desvio padrão desconhecido\n",
        "\n",
        "## $$n = \\left(z\\frac{s}{e}\\right)^2$$\n",
        "\n",
        "Onde:\n",
        "\n",
        "$z$ = variável normal padronizada\n",
        "\n",
        "$\\sigma$ = desvio padrão populacional\n",
        "\n",
        "$s$ = desvio padrão amostral\n",
        "\n",
        "$e$ = erro inferencial"
      ]
    },
    {
      "cell_type": "markdown",
      "metadata": {
        "id": "T0fysCyDG3Gn"
      },
      "source": [
        "### <font color='red'>Observações</font>\n",
        "\n",
        "1. O desvio padrão ($\\sigma$ ou $s$) e o erro ($e$) devem estar na mesma unidade de medida.\n",
        "\n",
        "2. Quando o erro ($e$) for representado em termos percentuais, deve ser interpretado como um percentual relacionado à média."
      ]
    },
    {
      "cell_type": "markdown",
      "metadata": {
        "id": "WHYBTaupG3Gn"
      },
      "source": [
        "## <font color='blue'>Exemplo: Rendimento médio</font>"
      ]
    },
    {
      "cell_type": "markdown",
      "metadata": {
        "id": "dcdzo7EgG3Go"
      },
      "source": [
        "Estamos estudando o rendimento mensal dos chefes de domicílios no Brasil. Nosso supervisor determinou que o **erro máximo em relação a média seja de R$\\$$ 100,00**. Sabemos que o **desvio padrão populacional** deste grupo de trabalhadores é de **R$\\$$ 3.323,39**. Para um **nível de confiança de 95%**, qual deve ser o tamanho da amostra de nosso estudo?"
      ]
    },
    {
      "cell_type": "code",
      "execution_count": null,
      "metadata": {
        "colab": {
          "base_uri": "https://localhost:8080/",
          "height": 34
        },
        "id": "XtJ5I_kaKDN3",
        "outputId": "a519e330-ddf0-492c-f42d-5cef36fed4c9"
      },
      "outputs": [
        {
          "data": {
            "text/plain": [
              "0.475"
            ]
          },
          "execution_count": 77,
          "metadata": {},
          "output_type": "execute_result"
        }
      ],
      "source": [
        "0.95 / 2"
      ]
    },
    {
      "cell_type": "code",
      "execution_count": null,
      "metadata": {
        "colab": {
          "base_uri": "https://localhost:8080/",
          "height": 34
        },
        "id": "-4TLCgNLKC95",
        "outputId": "19f3b7af-ff33-4db4-c675-c62b5088137e"
      },
      "outputs": [
        {
          "data": {
            "text/plain": [
              "0.975"
            ]
          },
          "execution_count": 78,
          "metadata": {},
          "output_type": "execute_result"
        }
      ],
      "source": [
        "0.5 + (0.95 / 2)"
      ]
    },
    {
      "cell_type": "code",
      "execution_count": null,
      "metadata": {
        "colab": {
          "base_uri": "https://localhost:8080/",
          "height": 34
        },
        "id": "7XDT12I4ViYN",
        "outputId": "a0af8729-80a8-4b33-b307-96d144c83029"
      },
      "outputs": [
        {
          "data": {
            "text/plain": [
              "1.959963984540054"
            ]
          },
          "execution_count": 79,
          "metadata": {},
          "output_type": "execute_result"
        }
      ],
      "source": [
        "z = norm.ppf(0.975)\n",
        "z"
      ]
    },
    {
      "cell_type": "markdown",
      "metadata": {
        "id": "6uCkW4KlG3Gr"
      },
      "source": [
        "### Obtendo $\\sigma$"
      ]
    },
    {
      "cell_type": "code",
      "execution_count": null,
      "metadata": {
        "colab": {
          "base_uri": "https://localhost:8080/",
          "height": 34
        },
        "id": "1RmtZfj-G3Gr",
        "outputId": "d3e77bf1-b933-4ade-846f-95e25f4e1d6e"
      },
      "outputs": [
        {
          "data": {
            "text/plain": [
              "3323.39"
            ]
          },
          "execution_count": 80,
          "metadata": {},
          "output_type": "execute_result"
        }
      ],
      "source": [
        "sigma = 3323.39\n",
        "sigma"
      ]
    },
    {
      "cell_type": "markdown",
      "metadata": {
        "id": "Cl39PIZ2G3Gt"
      },
      "source": [
        "### Obtendo $e$"
      ]
    },
    {
      "cell_type": "code",
      "execution_count": null,
      "metadata": {
        "colab": {
          "base_uri": "https://localhost:8080/",
          "height": 34
        },
        "id": "NTRMt2gWG3Gt",
        "outputId": "f7d7ae3f-7e33-41cc-a11a-5b09de70cc2c"
      },
      "outputs": [
        {
          "data": {
            "text/plain": [
              "100"
            ]
          },
          "execution_count": 81,
          "metadata": {},
          "output_type": "execute_result"
        }
      ],
      "source": [
        "e = 100\n",
        "e"
      ]
    },
    {
      "cell_type": "markdown",
      "metadata": {
        "id": "OlAX3Gj6G3Gv"
      },
      "source": [
        "### Obtendo $n$"
      ]
    },
    {
      "cell_type": "code",
      "execution_count": null,
      "metadata": {
        "colab": {
          "base_uri": "https://localhost:8080/",
          "height": 34
        },
        "id": "0MjluwHPG3Gv",
        "outputId": "8f74510a-4f4b-4129-d3c3-d31be24567fa",
        "scrolled": true
      },
      "outputs": [
        {
          "data": {
            "text/plain": [
              "4243"
            ]
          },
          "execution_count": 82,
          "metadata": {},
          "output_type": "execute_result"
        }
      ],
      "source": [
        "n = (z * (sigma / e)) ** 2\n",
        "int(n.round())"
      ]
    },
    {
      "cell_type": "markdown",
      "metadata": {
        "id": "MjP0xsqyTyNO"
      },
      "source": [
        "---\n",
        "---"
      ]
    },
    {
      "cell_type": "markdown",
      "metadata": {
        "id": "dx2vyLC-TyNP"
      },
      "source": [
        "## <font color='red'>Problema</font>"
      ]
    },
    {
      "cell_type": "markdown",
      "metadata": {
        "id": "uzK2fAOFTyNP"
      },
      "source": [
        "Em um lote de **10.000 latas** de refrigerante foi realizada uma amostra aleatória simples de **100 latas** e foi obtido o **desvio padrão amostral do conteúdo das latas igual a 12 ml**. O fabricante estipula um **erro máximo sobre a média populacional de apenas 5 ml**. Para garantir um **nível de confiança de 95%** qual o tamanho de amostra deve ser selecionado para este estudo?"
      ]
    },
    {
      "cell_type": "markdown",
      "metadata": {
        "id": "FlAz5kycTyNQ"
      },
      "source": [
        "## <font color=green>5.2 Variáveis quantitativas e população finita</font>\n",
        "***"
      ]
    },
    {
      "cell_type": "markdown",
      "metadata": {
        "id": "UOe02McSTyNR"
      },
      "source": [
        "#### Com desvio padrão conhecido\n",
        "\n",
        "## $$n = \\frac{z^2 \\sigma^2 N}{z^2 \\sigma^2 + e^2(N-1)}$$\n",
        "\n",
        "#### Com desvio padrão desconhecido\n",
        "\n",
        "## $$n = \\frac{z^2 s^2 N}{z^2 s^2 + e^2(N-1)}$$\n",
        "\n",
        "Onde:\n",
        "\n",
        "$N$ = tamanho da população\n",
        "\n",
        "$z$ = variável normal padronizada\n",
        "\n",
        "$\\sigma$ = desvio padrão populacional\n",
        "\n",
        "$s$ = desvio padrão amostral\n",
        "\n",
        "$e$ = erro inferencial"
      ]
    },
    {
      "cell_type": "markdown",
      "metadata": {
        "id": "cUELtYTKTyNS"
      },
      "source": [
        "## <font color='blue'>Exemplo: Indústria de refrigerantes</font>"
      ]
    },
    {
      "cell_type": "markdown",
      "metadata": {
        "id": "upv1mM7fTyNS"
      },
      "source": [
        "Em um lote de **10.000 latas** de refrigerante foi realizada uma amostra aleatória simples de **100 latas** e foi obtido o **desvio padrão amostral do conteúdo das latas igual a 12 ml**. O fabricante estipula um **erro máximo sobre a média populacional de apenas 5 ml**. Para garantir um **nível de confiança de 95%** qual o tamanho de amostra deve ser selecionado para este estudo?"
      ]
    },
    {
      "cell_type": "markdown",
      "metadata": {
        "id": "_y3-3VIBTyNS"
      },
      "source": [
        "### Obtendo $N$"
      ]
    },
    {
      "cell_type": "code",
      "execution_count": null,
      "metadata": {
        "colab": {
          "base_uri": "https://localhost:8080/",
          "height": 34
        },
        "id": "gXWn9zTETyNS",
        "outputId": "4daa26ff-4a96-47fb-9f0e-53a4390d701e"
      },
      "outputs": [
        {
          "data": {
            "text/plain": [
              "10000"
            ]
          },
          "execution_count": 83,
          "metadata": {},
          "output_type": "execute_result"
        }
      ],
      "source": [
        "N = 10000\n",
        "N"
      ]
    },
    {
      "cell_type": "markdown",
      "metadata": {
        "id": "xCgZ1JSjTyNT"
      },
      "source": [
        "### Obtendo $z$"
      ]
    },
    {
      "cell_type": "code",
      "execution_count": null,
      "metadata": {
        "colab": {
          "base_uri": "https://localhost:8080/",
          "height": 34
        },
        "id": "ZUs9aYJRTyNT",
        "outputId": "02560c9f-57ee-41c7-cdf4-5fd382365a74"
      },
      "outputs": [
        {
          "data": {
            "text/plain": [
              "1.959963984540054"
            ]
          },
          "execution_count": 84,
          "metadata": {},
          "output_type": "execute_result"
        }
      ],
      "source": [
        "z = norm.ppf((0.5 + (0.95 / 2)))\n",
        "z"
      ]
    },
    {
      "cell_type": "markdown",
      "metadata": {
        "id": "KCnigJd8TyNU"
      },
      "source": [
        "### Obtendo $s$"
      ]
    },
    {
      "cell_type": "code",
      "execution_count": null,
      "metadata": {
        "colab": {
          "base_uri": "https://localhost:8080/",
          "height": 34
        },
        "id": "fKqFI_TZTyNU",
        "outputId": "68a9ee2f-428a-4d18-9148-f33704968fb7"
      },
      "outputs": [
        {
          "data": {
            "text/plain": [
              "12"
            ]
          },
          "execution_count": 85,
          "metadata": {},
          "output_type": "execute_result"
        }
      ],
      "source": [
        "s = 12\n",
        "s"
      ]
    },
    {
      "cell_type": "markdown",
      "metadata": {
        "id": "K9gDEIUdTyNX"
      },
      "source": [
        "### Obtendo $e$"
      ]
    },
    {
      "cell_type": "code",
      "execution_count": null,
      "metadata": {
        "colab": {
          "base_uri": "https://localhost:8080/",
          "height": 34
        },
        "id": "hyhJ3MQKTyNX",
        "outputId": "2849bd05-6c70-4d97-980d-67e140f27850"
      },
      "outputs": [
        {
          "data": {
            "text/plain": [
              "5"
            ]
          },
          "execution_count": 86,
          "metadata": {},
          "output_type": "execute_result"
        }
      ],
      "source": [
        "e = 5\n",
        "e"
      ]
    },
    {
      "cell_type": "markdown",
      "metadata": {
        "id": "Dsm3bg9gTyNX"
      },
      "source": [
        "### Obtendo $n$\n",
        "\n",
        "## $$n = \\frac{z^2 s^2 N}{z^2 s^2 + e^2(N-1)}$$"
      ]
    },
    {
      "cell_type": "code",
      "execution_count": null,
      "metadata": {
        "colab": {
          "base_uri": "https://localhost:8080/",
          "height": 34
        },
        "id": "0XxWfaPdTyNY",
        "outputId": "8494180f-9149-419f-dee9-f02ec3e81b93",
        "scrolled": true
      },
      "outputs": [
        {
          "data": {
            "text/plain": [
              "22"
            ]
          },
          "execution_count": 87,
          "metadata": {},
          "output_type": "execute_result"
        }
      ],
      "source": [
        "n = ((z**2) * (s**2) * (N)) / (((z**2) * (s**2)) + ((e**2) * (N - 1)))\n",
        "int(n.round())"
      ]
    },
    {
      "cell_type": "markdown",
      "metadata": {
        "id": "XNH7CMglG3Hv"
      },
      "source": [
        "# <font color=green>6 FIXANDO O CONTEÚDO</font>\n",
        "***"
      ]
    },
    {
      "cell_type": "markdown",
      "metadata": {
        "id": "iRYqVAxuG3Hv"
      },
      "source": [
        "## <font color='blue'>Exemplo: Rendimento médio</font>"
      ]
    },
    {
      "cell_type": "markdown",
      "metadata": {
        "id": "ggloHI5sG3Hw"
      },
      "source": [
        "Estamos estudando o **rendimento mensal dos chefes de domicílios com renda até R$\\$$ 5.000,00 no Brasil**. Nosso supervisor determinou que o **erro máximo em relação a média seja de R$\\$$ 10,00**. Sabemos que o **desvio padrão populacional** deste grupo de trabalhadores é de **R$\\$$ 1.082,79** e que a **média populacional** é de **R$\\$$ 1.426,54**. Para um **nível de confiança de 95%**, qual deve ser o tamanho da amostra de nosso estudo? Qual o intervalo de confiança para a média considerando o tamanho de amostra obtido?"
      ]
    },
    {
      "cell_type": "markdown",
      "metadata": {
        "id": "JZDvLD-NG3Hw"
      },
      "source": [
        "### Construindo o dataset conforme especificado pelo problema"
      ]
    },
    {
      "cell_type": "code",
      "execution_count": null,
      "metadata": {
        "id": "qlnYQeaKG3Hw"
      },
      "outputs": [],
      "source": [
        "renda_5000 = dados.query('Renda <= 5000').Renda"
      ]
    },
    {
      "cell_type": "code",
      "execution_count": null,
      "metadata": {
        "id": "VKuxbygIG3Hy"
      },
      "outputs": [],
      "source": [
        "sigma = renda_5000.std()\n",
        "sigma"
      ]
    },
    {
      "cell_type": "code",
      "execution_count": null,
      "metadata": {
        "id": "Q2Ku3mVPG3Hz"
      },
      "outputs": [],
      "source": [
        "media = renda_5000.mean()\n",
        "media"
      ]
    },
    {
      "cell_type": "markdown",
      "metadata": {
        "id": "F33TdkXdG3H2"
      },
      "source": [
        "### Calculando o tamanho da amostra"
      ]
    },
    {
      "cell_type": "code",
      "execution_count": null,
      "metadata": {
        "id": "sWIvnmygG3H2"
      },
      "outputs": [],
      "source": []
    },
    {
      "cell_type": "markdown",
      "metadata": {
        "id": "xRN_gmmLG3H6"
      },
      "source": [
        "### Calculando o intervalo de confiança para a média"
      ]
    },
    {
      "cell_type": "code",
      "execution_count": null,
      "metadata": {
        "id": "HoG6JKxxG3H6"
      },
      "outputs": [],
      "source": []
    },
    {
      "cell_type": "markdown",
      "metadata": {
        "id": "xWAG8q8oG3H8"
      },
      "source": [
        "### Realizando uma prova gráfica"
      ]
    },
    {
      "cell_type": "code",
      "execution_count": null,
      "metadata": {
        "id": "pxjJyWnNG3H8"
      },
      "outputs": [],
      "source": [
        "import matplotlib.pyplot as plt\n",
        "\n",
        "tamanho_simulacao = 1000\n",
        "\n",
        "medias = [renda_5000.sample(n = n).mean() for i in range(1, tamanho_simulacao)]\n",
        "medias = pd.DataFrame(medias)\n",
        "\n",
        "ax = medias.plot(style = '.')\n",
        "ax.figure.set_size_inches(12, 6)\n",
        "ax.hlines(y = media, xmin = 0, xmax = tamanho_simulacao, colors='black', linestyles='dashed')\n",
        "ax.hlines(y = intervalo[0], xmin = 0, xmax = tamanho_simulacao, colors='red', linestyles='dashed')\n",
        "ax.hlines(y = intervalo[1], xmin = 0, xmax = tamanho_simulacao, colors='red', linestyles='dashed')\n",
        "ax"
      ]
    },
    {
      "cell_type": "code",
      "execution_count": null,
      "metadata": {
        "id": "L5BFsSI8G3IB"
      },
      "outputs": [],
      "source": []
    }
  ],
  "metadata": {
    "colab": {
      "provenance": [],
      "include_colab_link": true
    },
    "kernelspec": {
      "display_name": "Python 3",
      "language": "python",
      "name": "python3"
    },
    "language_info": {
      "codemirror_mode": {
        "name": "ipython",
        "version": 3
      },
      "file_extension": ".py",
      "mimetype": "text/x-python",
      "name": "python",
      "nbconvert_exporter": "python",
      "pygments_lexer": "ipython3",
      "version": "3.6.5"
    }
  },
  "nbformat": 4,
  "nbformat_minor": 0
}